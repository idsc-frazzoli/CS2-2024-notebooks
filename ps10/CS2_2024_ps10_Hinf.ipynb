{
 "cells": [
  {
   "cell_type": "markdown",
   "metadata": {},
   "source": [
    "# CSII 2024 Exercise 10: $H_{\\infty}$ Control\n",
    "&copy; 2024 ETH Zurich, Niclas Scheuer, Roy Werder, Dejan Milojevic, Pierre Suter, Stephan König ; Institute for Dynamic Systems and Control; Prof. Emilio Frazzoli\n",
    "\n",
    "## Description\n",
    "This week's Jupyter notebook will include a small recap of the $H_{\\infty}$ norm and an introduciton to $H_2$ and $H_{\\infty}$ control.\n"
   ]
  },
  {
   "cell_type": "markdown",
   "metadata": {},
   "source": [
    "-------\n",
    "\n",
    "## Installation\n",
    "We use the [Python library](https://python-control.readthedocs.io/en/0.9.3.post2/) `control`, which can be installed using `pip`. If you have no experience with Python, try to do some tutorials (e.g. check [this](https://docs.python.org/3/tutorial/) one). The same goes for installing Python packages using `pip`, see this [tutorial](https://packaging.python.org/en/latest/tutorials/installing-packages/). There are plenty of other Python tutorials for beginners if you do a Google/YouTube search.\n",
    "\n",
    "If you have done all the Jupyter Notebooks leading up to this one, you should have all the necessary libraries installed. \n",
    "\n"
   ]
  },
  {
   "cell_type": "code",
   "execution_count": 538,
   "metadata": {},
   "outputs": [
    {
     "name": "stdout",
     "output_type": "stream",
     "text": [
      "Requirement already satisfied: control in c:\\users\\roywe\\appdata\\local\\programs\\python\\python312\\lib\\site-packages (0.10.0)\n",
      "Requirement already satisfied: numpy>=1.23 in c:\\users\\roywe\\appdata\\local\\programs\\python\\python312\\lib\\site-packages (from control) (1.26.4)\n",
      "Requirement already satisfied: scipy>=1.8 in c:\\users\\roywe\\appdata\\local\\programs\\python\\python312\\lib\\site-packages (from control) (1.12.0)\n",
      "Requirement already satisfied: matplotlib>=3.6 in c:\\users\\roywe\\appdata\\local\\programs\\python\\python312\\lib\\site-packages (from control) (3.8.3)\n",
      "Requirement already satisfied: contourpy>=1.0.1 in c:\\users\\roywe\\appdata\\local\\programs\\python\\python312\\lib\\site-packages (from matplotlib>=3.6->control) (1.2.0)\n",
      "Requirement already satisfied: cycler>=0.10 in c:\\users\\roywe\\appdata\\local\\programs\\python\\python312\\lib\\site-packages (from matplotlib>=3.6->control) (0.12.1)\n",
      "Requirement already satisfied: fonttools>=4.22.0 in c:\\users\\roywe\\appdata\\local\\programs\\python\\python312\\lib\\site-packages (from matplotlib>=3.6->control) (4.49.0)\n",
      "Requirement already satisfied: kiwisolver>=1.3.1 in c:\\users\\roywe\\appdata\\local\\programs\\python\\python312\\lib\\site-packages (from matplotlib>=3.6->control) (1.4.5)\n",
      "Requirement already satisfied: packaging>=20.0 in c:\\users\\roywe\\appdata\\local\\programs\\python\\python312\\lib\\site-packages (from matplotlib>=3.6->control) (24.0)\n",
      "Requirement already satisfied: pillow>=8 in c:\\users\\roywe\\appdata\\local\\programs\\python\\python312\\lib\\site-packages (from matplotlib>=3.6->control) (10.2.0)\n",
      "Requirement already satisfied: pyparsing>=2.3.1 in c:\\users\\roywe\\appdata\\local\\programs\\python\\python312\\lib\\site-packages (from matplotlib>=3.6->control) (3.1.2)\n",
      "Requirement already satisfied: python-dateutil>=2.7 in c:\\users\\roywe\\appdata\\local\\programs\\python\\python312\\lib\\site-packages (from matplotlib>=3.6->control) (2.9.0.post0)\n",
      "Requirement already satisfied: six>=1.5 in c:\\users\\roywe\\appdata\\local\\programs\\python\\python312\\lib\\site-packages (from python-dateutil>=2.7->matplotlib>=3.6->control) (1.16.0)\n"
     ]
    }
   ],
   "source": [
    "# Install the required python library with pip\n",
    "!pip install control"
   ]
  },
  {
   "cell_type": "markdown",
   "metadata": {},
   "source": [
    "-------\n",
    "\n",
    "## Python Libraries\n",
    "\n",
    "We use the following Python libraries which need to be imported. If you have no experience with the [NumPy](https://numpy.org/) library, read the documentation and do some tutorials. It is very important for matrix operations in Python."
   ]
  },
  {
   "cell_type": "code",
   "execution_count": 539,
   "metadata": {},
   "outputs": [],
   "source": [
    "# Import the required python libraries\n",
    "from typing import Optional, List, Tuple\n",
    "import numpy as np\n",
    "import matplotlib.pyplot as plt\n",
    "import control as ct\n",
    "import scipy.linalg as la\n",
    "np.set_printoptions(precision=6, suppress=True, linewidth=200)"
   ]
  },
  {
   "cell_type": "markdown",
   "metadata": {},
   "source": [
    "This is the funtion used last week\n"
   ]
  },
  {
   "cell_type": "code",
   "execution_count": 540,
   "metadata": {},
   "outputs": [],
   "source": [
    "def systemInfnorm(system: ct.TransferFunction) -> float:\n",
    "    \"\"\"\n",
    "    Returns an approximation of the infinity norm of the system\n",
    "\n",
    "    Parameters:\n",
    "    - ``system`` (ct.TransferFunction): The system to compute the infinity norm of\n",
    "\n",
    "    Returns:\n",
    "    - float: The infinity norm of the system\n",
    "    \"\"\"\n",
    "    # Create a range of frequencies to analyze over\n",
    "    omega = np.linspace(-4, 4, 1000)\n",
    "    H = system(omega * 1j)\n",
    "\n",
    "    # Consider the MIMO case\n",
    "    if system.ninputs > 1 or system.noutputs > 1:\n",
    "        # Calculate singular values\n",
    "        singular_values = [np.linalg.svd(H[..., i])[1] for i in range(len(omega))]\n",
    "    # Consider the SISO case\n",
    "    else:\n",
    "        singular_values = [np.absolute(H[..., i]) for i in range(len(omega))]\n",
    "\n",
    "    # Return the highest singular value\n",
    "    return np.vstack(singular_values).max()"
   ]
  },
  {
   "cell_type": "markdown",
   "metadata": {},
   "source": [
    "------\n",
    "\n",
    "## Exercise 1:\n",
    "\n",
    "As a recap from the last two weeks we will first calculate the $H_{\\infty}$ norm via the state-space representation. The solution via the transfer function as introduced last week is given to check your own implementation"
   ]
  },
  {
   "cell_type": "code",
   "execution_count": 541,
   "metadata": {},
   "outputs": [],
   "source": [
    "def H_inf_norm_state_space(A: np.ndarray, B: np.ndarray, C: np.ndarray, D: np.ndarray) -> float:\n",
    "    \"\"\"\n",
    "    Returns the infinity norm of the system defined by the state space matrices\n",
    "\n",
    "    Parameters:\n",
    "    - ``A`` (np.ndarray): The state matrix of the system\n",
    "    - ``B`` (np.ndarray): The input matrix of the system\n",
    "    - ``C`` (np.ndarray): The output matrix of the system\n",
    "    - ``D`` (np.ndarray): The feedthrough matrix of the system\n",
    "\n",
    "    Returns:\n",
    "    - float: The infinity norm of the system\n",
    "    \"\"\"\n",
    "    \n",
    "    #TODO: Implement the H_inf norm calculation for a state space system\n",
    "    \n",
    "    # Solution:\n",
    "    gamma, step, precision = 1, 1, 1\n",
    "    \n",
    "    while precision > 1e-7:\n",
    "        # Calculate the Hamiltonian matrix\n",
    "        H = np.block([[A, 1/gamma*B@B.T], [-1/gamma*C.T@C, -A.T]])\n",
    "\n",
    "        # Check if the eigenvalues are on the imaginary axis, then update gamma\n",
    "        if any(np.isclose(np.linalg.eigvals(H).real, 0)):\n",
    "            prev_gamma = gamma\n",
    "            gamma = gamma + step\n",
    "        else:\n",
    "            prev_gamma = gamma\n",
    "            gamma = gamma - step\n",
    "        \n",
    "        precision = abs(gamma - prev_gamma)\n",
    "        step /= 2\n",
    "        if gamma == 0:\n",
    "            gamma = 1e-7\n",
    "    \n",
    "    return gamma"
   ]
  },
  {
   "cell_type": "code",
   "execution_count": 542,
   "metadata": {},
   "outputs": [
    {
     "name": "stdout",
     "output_type": "stream",
     "text": [
      "Transfer function infinity norm: 1.7853933874980654\n",
      "State space infinity norm: 1.785405457019806\n",
      "The infinity norms match!\n"
     ]
    }
   ],
   "source": [
    "# Define the state space matrices. Feel free to change these to test the function. It also works for MIMO systems.\n",
    "A = np.array([[0, 1], [-2, -1]])\n",
    "B = np.array([[0], [1]])\n",
    "C = np.array([[2, 1]])\n",
    "D = np.array([[0]])\n",
    "\n",
    "# Calculate the infinity norms using the method introduced last week\n",
    "tf = ct.ss2tf(A, B, C, D)\n",
    "tf_norm = systemInfnorm(tf)\n",
    "\n",
    "# Calculate the infinity norm using the state space method\n",
    "ss_norm = H_inf_norm_state_space(A, B, C, D)\n",
    "\n",
    "# Print the results\n",
    "print(f\"Transfer function infinity norm: {tf_norm}\")\n",
    "print(f\"State space infinity norm: {ss_norm}\")\n",
    "if np.isclose(tf_norm, ss_norm, rtol=1e-2):\n",
    "    print(\"The infinity norms match!\")\n",
    "else:\n",
    "    print(\"The infinity norms do not match!\")"
   ]
  },
  {
   "cell_type": "markdown",
   "metadata": {},
   "source": [
    "------\n",
    "\n",
    "## Exercise 2a:\n",
    "You are working as a controls engineer at Autobau AG. It is your job to design a laneholding assistant. Because the lanes are denoted by striped lines (akin to this -----), the input data is noisy. As your first assignment you are tasked with coming up with an optimal observer gain L for your system, which looks as following.\n",
    "\n",
    "$\\dot{x}(t)=Ax(t)+B_ww(t)+B_uu(t) $\n",
    "\n",
    "$z(t)=C_zx(t)+D_{zw}w(t)+D_{zu}(t) $\n",
    "\n",
    "$y(t)=C_yx(t)+D_{yw}w(t)+D_{yu}u(t) $\n",
    "\n",
    "Furthermore you can assume all initial conditions to be zero and also that $B_u = I$. You find the actual matrices below, but feel free to change them and test your own matrices."
   ]
  },
  {
   "cell_type": "code",
   "execution_count": 543,
   "metadata": {},
   "outputs": [],
   "source": [
    "A=np.array([[-10, 12, -1], [-1, 1.25, -2], [1, 0, -5]])\n",
    "\n",
    "B_w=np.array([[0, 1, -4], [-1, 0, 2], [0, -1, 1]])\n",
    "B_u=np.eye(3)\n",
    "\n",
    "C_z=np.array([[1, 0, -1], [1, 0, 8], [0, 6, 1]])\n",
    "C_y=np.eye(3)\n",
    "\n",
    "D_zw=np.zeros((3,3))\n",
    "D_zu=np.array([[-1, 0, -1], [2, 1, -3], [1, 10, 3]])\n",
    "D_yw=np.array([[1, 0, 3], [6, 1, -0.5], [-1, 0, 1]])\n",
    "D_yu=np.zeros((3,3))\n",
    "\n"
   ]
  },
  {
   "cell_type": "code",
   "execution_count": 544,
   "metadata": {},
   "outputs": [],
   "source": [
    "def solve_riccati_equation(A: np.ndarray, B_w: np.ndarray, C_y: np.ndarray, R_ww: np.ndarray, D_yw: np.ndarray) -> np.ndarray:\n",
    "    \"\"\"\n",
    "    Returns the solution to the continuous algebraic Riccati equation\n",
    "\n",
    "    Parameters:\n",
    "    - ``A`` (np.ndarray): The state matrix of the system\n",
    "    - ``B_w`` (np.ndarray): The disturbance input matrix of the system\n",
    "    - ``C_y`` (np.ndarray): The output matrix of the system\n",
    "    - ``R_ww`` (np.ndarray): The disturbance covariance matrix\n",
    "    - ``D_yw`` (np.ndarray): The feedthrough matrix from the disturbance to the output\n",
    "    - ``Q`` (np.ndarray): The state cost matrix\n",
    "\n",
    "    Returns:\n",
    "    - np.ndarray: The solution to the continuous algebraic Riccati equation\n",
    "    \"\"\"\n",
    "    a = (A - B_w@D_yw.T@np.linalg.inv(R_ww)@C_y).T\n",
    "    b = C_y\n",
    "    q = B_w@(np.eye(A.shape[0])-D_yw.T@np.linalg.inv(R_ww)@D_yw)@B_w.T\n",
    "    r = np.linalg.inv(R_ww)  \n",
    "    \n",
    "    # to combat floating point errors\n",
    "    a = np.round(a, 10)\n",
    "    b = np.round(b, 10)\n",
    "    q = np.round(q, 10)\n",
    "    r = np.round(r, 10)\n",
    "    \n",
    "    Y = la.solve_continuous_are(a, b, q, r)\n",
    "    return Y\n",
    "    "
   ]
  },
  {
   "cell_type": "code",
   "execution_count": 545,
   "metadata": {},
   "outputs": [],
   "source": [
    "def optimal_LQR(A: np.ndarray, B_w: np.ndarray, C_y: np.ndarray, D_yw: np.ndarray) -> np.ndarray:\n",
    "    \"\"\"\n",
    "    Returns the optimal state feedback gain for the given system and cost matrices\n",
    "\n",
    "    Parameters:\n",
    "    - ``A`` (np.ndarray): The state matrix of the system\n",
    "    - ``B`` (np.ndarray): The input matrix of the system\n",
    "    - ``Q`` (np.ndarray): The state cost matrix\n",
    "    - ``R`` (np.ndarray): The input cost matrix\n",
    "\n",
    "    Returns:\n",
    "    - np.ndarray: The optimal state feedback gain\n",
    "    \"\"\"\n",
    "    R_ww = D_yw @ D_yw.T\n",
    "    Y = solve_riccati_equation(A, B_w, C_y, R_ww, D_yw)\n",
    "    L = -(Y@C_y+B_w@D_yw.T)@np.linalg.inv(R_ww)\n",
    "    \n",
    "    return L"
   ]
  },
  {
   "cell_type": "markdown",
   "metadata": {},
   "source": [
    "Solution for this: \n",
    "We can either leave the riccati function for the students as help or have them do it themselves"
   ]
  },
  {
   "cell_type": "code",
   "execution_count": 546,
   "metadata": {},
   "outputs": [
    {
     "name": "stdout",
     "output_type": "stream",
     "text": [
      "The optimal state feedback gain is:\n",
      "[[ 2.375 -1.    -3.625]\n",
      " [-0.25  -0.    -1.25 ]\n",
      " [-1.625  1.     4.375]]\n"
     ]
    }
   ],
   "source": [
    "L_optimal = optimal_LQR(A, B_w, C_y, D_yw)\n",
    "print(\"The optimal state feedback gain is:\")\n",
    "print(L_optimal)"
   ]
  },
  {
   "cell_type": "markdown",
   "metadata": {},
   "source": [
    "## Exercise 2b: \n",
    "Now repeat the same, but find the optimal controller gain F."
   ]
  },
  {
   "cell_type": "code",
   "execution_count": 547,
   "metadata": {},
   "outputs": [],
   "source": [
    "def optimal_controller_gain (A: np.ndarray, B_u: np.ndarray, C_z: np.ndarray, D_zu: np.ndarray) -> np.ndarray:\n",
    "    \"\"\"\n",
    "    Returns the optimal state feedback gain for the given system and cost matrices\n",
    "\n",
    "    Parameters:\n",
    "    - ``A`` (np.ndarray): The state matrix of the system\n",
    "    - ``B`` (np.ndarray): The input matrix of the system\n",
    "    - ``Q`` (np.ndarray): The state cost matrix\n",
    "    - ``R`` (np.ndarray): The input cost matrix\n",
    "\n",
    "    Returns:\n",
    "    - np.ndarray: The optimal state feedback gain\n",
    "    \"\"\"\n",
    "    a = A\n",
    "    b = B_u\n",
    "    q = C_z.T@C_z\n",
    "    r = D_zu.T@D_zu\n",
    "    \n",
    "    # to combat floating point errors\n",
    "    a = np.round(a, 10)\n",
    "    b = np.round(b, 10)\n",
    "    q = np.round(q, 10)\n",
    "    r = np.round(r, 10)\n",
    "    \n",
    "    X_F = la.solve_continuous_are(a, b, q, r)\n",
    "    F = -np.linalg.inv(r)@B_u.T@X_F\n",
    "    \n",
    "    return F"
   ]
  },
  {
   "cell_type": "code",
   "execution_count": 548,
   "metadata": {},
   "outputs": [
    {
     "name": "stdout",
     "output_type": "stream",
     "text": [
      "Optimal controller gain:\n",
      "[[-0.574304  4.174618 -1.906537]\n",
      " [ 0.192424 -1.474417  0.629292]\n",
      " [-0.389293  2.661231 -1.417598]]\n"
     ]
    }
   ],
   "source": [
    "F_optimal = optimal_controller_gain(A, B_u, C_z, D_zu)\n",
    "print(\"Optimal controller gain:\")\n",
    "print(F_optimal)"
   ]
  },
  {
   "cell_type": "markdown",
   "metadata": {},
   "source": [
    "## Exercise 2c: \n",
    "Great, you managed to impress your project manager by coming up with an optimal observer for the LQG problem and controller for the LQR problem. \n",
    "\n",
    "Now he wants you to find an $H_2$-optimal controller as denoted by K. Use the system defined in 2a. We will also return the values of the new state-space system to be able to calculate its $H_{\\infty}$ norm"
   ]
  },
  {
   "cell_type": "code",
   "execution_count": 549,
   "metadata": {},
   "outputs": [],
   "source": [
    "def optimal_controller(A: np.ndarray, B_w: np.ndarray, B_u: np.ndarray, C_z: np.ndarray, C_y: np.ndarray, D_zw: np.ndarray, D_zu: np.ndarray, D_yw: np.ndarray, D_yu: np.ndarray) -> np.ndarray:\n",
    "    \"\"\"\n",
    "    Returns the optimal state feedback gain for the given system and cost matrices\n",
    "\n",
    "    Parameters:\n",
    "    - ``A`` (np.ndarray): The state matrix of the system\n",
    "    - ``B`` (np.ndarray): The input matrix of the system\n",
    "    - ``Q`` (np.ndarray): The state cost matrix\n",
    "    - ``R`` (np.ndarray): The input cost matrix\n",
    "\n",
    "    Returns:\n",
    "    - np.ndarray: The optimal state feedback gain\n",
    "    \"\"\"\n",
    "    # Find the optimal observer gain\n",
    "    L = optimal_LQR(A, B_w, C_y, D_yw)\n",
    "    \n",
    "    # Find the optimal controller gain\n",
    "    F = optimal_controller_gain(A, B_u, C_z, D_zu)\n",
    "    \n",
    "\n",
    "    top_left = A+B_u@F+L@C_y\n",
    "    top_right = np.block([[-L, B_u]])\n",
    "    bottom_left = np.block([[F], [-C_y]])\n",
    "    bottom_right = np.block([\n",
    "        [np.zeros((F.shape[1], L.shape[0])), np.ones((F.shape[1], B_u.shape[1]))], \n",
    "        [np.ones((C_y.shape[0], L.shape[0])), np.zeros((C_y.shape[0], B_u.shape[1]))]])\n",
    "    \n",
    "    K = np.block([[top_left, top_right], [bottom_left, bottom_right]])\n",
    "    \n",
    "    return K, top_left, top_right, bottom_left, bottom_right"
   ]
  },
  {
   "cell_type": "code",
   "execution_count": 550,
   "metadata": {},
   "outputs": [
    {
     "name": "stdout",
     "output_type": "stream",
     "text": [
      "Optimal H_2 controller: \n",
      " [[-8.199304 15.174618 -6.531537 -2.375     1.        3.625     1.        0.        0.      ]\n",
      " [-1.057576 -0.224417 -2.620708  0.25      0.        1.25      0.        1.        0.      ]\n",
      " [-1.014293  3.661231 -2.042598  1.625    -1.       -4.375     0.        0.        1.      ]\n",
      " [-0.574304  4.174618 -1.906537  0.        0.        0.        1.        1.        1.      ]\n",
      " [ 0.192424 -1.474417  0.629292  0.        0.        0.        1.        1.        1.      ]\n",
      " [-0.389293  2.661231 -1.417598  0.        0.        0.        1.        1.        1.      ]\n",
      " [-1.       -0.       -0.        1.        1.        1.        0.        0.        0.      ]\n",
      " [-0.       -1.       -0.        1.        1.        1.        0.        0.        0.      ]\n",
      " [-0.       -0.       -1.        1.        1.        1.        0.        0.        0.      ]]\n",
      "In state space form:\n",
      "A_K:\n",
      " [[-8.199304 15.174618 -6.531537]\n",
      " [-1.057576 -0.224417 -2.620708]\n",
      " [-1.014293  3.661231 -2.042598]]\n",
      "B_K:\n",
      " [[-2.375  1.     3.625  1.     0.     0.   ]\n",
      " [ 0.25   0.     1.25   0.     1.     0.   ]\n",
      " [ 1.625 -1.    -4.375  0.     0.     1.   ]]\n",
      "C_K:\n",
      " [[-0.574304  4.174618 -1.906537]\n",
      " [ 0.192424 -1.474417  0.629292]\n",
      " [-0.389293  2.661231 -1.417598]\n",
      " [-1.       -0.       -0.      ]\n",
      " [-0.       -1.       -0.      ]\n",
      " [-0.       -0.       -1.      ]]\n",
      "D_K:\n",
      " [[0. 0. 0. 1. 1. 1.]\n",
      " [0. 0. 0. 1. 1. 1.]\n",
      " [0. 0. 0. 1. 1. 1.]\n",
      " [1. 1. 1. 0. 0. 0.]\n",
      " [1. 1. 1. 0. 0. 0.]\n",
      " [1. 1. 1. 0. 0. 0.]]\n",
      "The H_inf norm of the optimal controller is: 2.9999999403953552\n"
     ]
    }
   ],
   "source": [
    "K, A_K, B_K, C_K, D_K = optimal_controller(A, B_w, B_u, C_z, C_y, D_zw, D_zu, D_yw, D_yu)\n",
    "print(\"Optimal H_2 controller: \\n\", K)\n",
    "\n",
    "print(\"In state space form:\")\n",
    "print(\"A_K:\\n\", A_K)\n",
    "print(\"B_K:\\n\", B_K)\n",
    "print(\"C_K:\\n\", C_K)\n",
    "print(\"D_K:\\n\", D_K)\n",
    "\n",
    "h_inf_norm = H_inf_norm_state_space(A_K, B_K, C_K, D_K)\n",
    "print(f\"The H_inf norm of the optimal controller is: {h_inf_norm}\")"
   ]
  },
  {
   "cell_type": "markdown",
   "metadata": {},
   "source": [
    "------\n",
    "\n",
    "## Exercise 3:\n",
    "\n",
    "Now we will use the same system as before to find a suboptimal $H_{\\infty}$ controller. For simplicity you can also assume $\\gamma = 0.5$.\n",
    "\n",
    "As a challenge you can also try to implement this system in MATLAB, since it is much more optimized for $H_{\\infty}$ control.\n",
    "\n",
    "_Hint: If you are confused, look up the german wikipedia article for H_inf control [https://de.wikipedia.org/wiki/H-unendlich-Regelung] for a recipe._\n"
   ]
  },
  {
   "cell_type": "code",
   "execution_count": 551,
   "metadata": {},
   "outputs": [],
   "source": [
    "def find_X_inf(A: np.ndarray, B_w: np.ndarray, B_u: np.ndarray, C_z: np.ndarray, gamma: float) -> np.ndarray:\n",
    "    \"\"\"\n",
    "    Returns the infinity norm of the system defined by the state space matrices\n",
    "\n",
    "    Parameters:\n",
    "    - ``A`` (np.ndarray): The state matrix of the system\n",
    "    - ``B`` (np.ndarray): The input matrix of the system\n",
    "    - ``C`` (np.ndarray): The output matrix of the system\n",
    "    - ``D`` (np.ndarray): The feedthrough matrix of the system\n",
    "\n",
    "    Returns:\n",
    "    - float: The infinity norm of the system\n",
    "    \"\"\"\n",
    "    a = A\n",
    "    b = np.eye(A.shape[1])\n",
    "    q = C_z.T@C_z\n",
    "    r = np.linalg.inv(1/gamma**2*B_w@B_w.T-B_u@B_u.T)\n",
    "    \n",
    "    # to combat floating point errors\n",
    "    a = np.round(a, 10)\n",
    "    b = np.round(b, 10)\n",
    "    q = np.round(q, 10)\n",
    "    r = np.round(r, 10)\n",
    "    \n",
    "    X = la.solve_continuous_are(a, b, q, r)\n",
    "    return X\n",
    "    "
   ]
  },
  {
   "cell_type": "code",
   "execution_count": 552,
   "metadata": {},
   "outputs": [],
   "source": [
    "def find_Y_inf(A: np.ndarray, B_w: np.ndarray, C_z: np.ndarray, C_y: np.ndarray, gamma: float) -> np.ndarray:\n",
    "    \"\"\"\n",
    "    Returns the infinity norm of the system defined by the state space matrices\n",
    "\n",
    "    Parameters:\n",
    "    - ``A`` (np.ndarray): The state matrix of the system\n",
    "    - ``B`` (np.ndarray): The input matrix of the system\n",
    "    - ``C`` (np.ndarray): The output matrix of the system\n",
    "    - ``D`` (np.ndarray): The feedthrough matrix of the system\n",
    "\n",
    "    Returns:\n",
    "    - float: The infinity norm of the system\n",
    "    \"\"\"\n",
    "    a = A\n",
    "    b = np.eye(A.shape[1])\n",
    "    q = B_w.T@B_w\n",
    "    r = np.linalg.inv(1/gamma**2*C_z@C_z.T-C_y@C_y.T)\n",
    "    \n",
    "    # to combat floating point errors\n",
    "    a = np.round(a, 10)\n",
    "    b = np.round(b, 10)\n",
    "    q = np.round(q, 10)\n",
    "    r = np.round(r, 10)\n",
    "    \n",
    "    Y = la.solve_continuous_are(a, b, q, r)\n",
    "    return Y"
   ]
  },
  {
   "cell_type": "code",
   "execution_count": 553,
   "metadata": {},
   "outputs": [],
   "source": [
    "def assemble_suboptimal_K(A: np.ndarray, B_w: np.ndarray, B_u: np.ndarray, C_z: np.ndarray, C_y: np.ndarray, D_zw: np.ndarray, D_zu: np.ndarray, D_yw: np.ndarray, D_yu: np.ndarray, gamma: float) -> np.ndarray:\n",
    "    \"\"\"\n",
    "    Returns the optimal state feedback gain for the given system and cost matrices\n",
    "\n",
    "    Parameters:\n",
    "    - ``A`` (np.ndarray): The state matrix of the system\n",
    "    - ``B`` (np.ndarray): The input matrix of the system\n",
    "    - ``Q`` (np.ndarray): The state cost matrix\n",
    "    - ``R`` (np.ndarray): The input cost matrix\n",
    "\n",
    "    Returns:\n",
    "    - np.ndarray: The optimal state feedback gain\n",
    "    \"\"\"    \n",
    "    # Find the suboptimal X_inf and Y_inf\n",
    "    X_inf = find_X_inf(A, B_w, B_u, C_z, gamma)\n",
    "    Y_inf = find_Y_inf(A, B_w, C_z, C_y, gamma)\n",
    "    \n",
    "    # Find the suboptimal gains\n",
    "    F_inf = -B_u.T@X_inf\n",
    "    L_inf = -Y_inf@C_y.T\n",
    "    \n",
    "    # Define helper matrices\n",
    "    Z_inf = np.linalg.inv(np.eye(A.shape[0])-1/gamma**2*X_inf@Y_inf)\n",
    "    \n",
    "    # Assemble the suboptimal controller\n",
    "    top_left = A + 1/gamma**2 *B_w@B_w.T@X_inf + B_u@F_inf + Z_inf@C_y\n",
    "    top_right = -Z_inf@L_inf\n",
    "    bottom_left = F_inf\n",
    "    bottom_right = np.zeros((F_inf.shape[0], L_inf.shape[1]))\n",
    "    \n",
    "    K = np.block([[top_left, top_right], [bottom_left, bottom_right]])\n",
    "    \n",
    "    return K, top_left, top_right, bottom_left, bottom_right"
   ]
  },
  {
   "cell_type": "code",
   "execution_count": 554,
   "metadata": {},
   "outputs": [
    {
     "name": "stdout",
     "output_type": "stream",
     "text": [
      "Suboptimal H_2 controller: \n",
      " [[-10.633356 -32.882602 -31.767298   0.047395   0.026742  -0.089634]\n",
      " [ -0.985693  30.226659   6.573624   0.001144   0.089999  -0.024131]\n",
      " [  2.088219  11.282183   7.992176   0.009788   0.052772  -0.100206]\n",
      " [ -0.135993  -0.00939   -0.523222   0.         0.         0.      ]\n",
      " [ -0.00939   -1.549575   0.199736   0.         0.         0.      ]\n",
      " [ -0.523222   0.199736  -3.602559   0.         0.         0.      ]]\n",
      "H_inf norm of the system:  0.884942452771759\n"
     ]
    }
   ],
   "source": [
    "gamma = 0.5 # Initial\n",
    "K_suboptimal, A_K_suboptimal, B_K_suboptimal, C_K_suboptimal, D_K_suboptimal = assemble_suboptimal_K(A, B_w, B_u, C_z, C_y, D_zw, D_zu, D_yw, D_yu, gamma)\n",
    "print(\"Suboptimal H_2 controller: \\n\", K_suboptimal)\n",
    "\n",
    "# H_inf norm of the system\n",
    "H_inf_norm = H_inf_norm_state_space(A_K_suboptimal, B_K_suboptimal, C_K_suboptimal, D_K_suboptimal)\n",
    "print(\"H_inf norm of the system: \", H_inf_norm)\n"
   ]
  }
 ],
 "metadata": {
  "kernelspec": {
   "display_name": "Python 3",
   "language": "python",
   "name": "python3"
  },
  "language_info": {
   "codemirror_mode": {
    "name": "ipython",
    "version": 3
   },
   "file_extension": ".py",
   "mimetype": "text/x-python",
   "name": "python",
   "nbconvert_exporter": "python",
   "pygments_lexer": "ipython3",
   "version": "3.12.2"
  }
 },
 "nbformat": 4,
 "nbformat_minor": 2
}
