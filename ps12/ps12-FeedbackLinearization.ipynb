{
 "cells": [
  {
   "cell_type": "markdown",
   "metadata": {},
   "source": [
    "# CSII 2024 Exercise 11: Nonlinear Control Part 1\n",
    "&copy; 2024 ETH Zurich, Niclas Scheuer, Dejan Milojevic; Institute for Dynamic Systems and Control; Prof. Emilio Frazzoli\n",
    "\n",
    "## Description\n",
    "This week's Jupyter notebook will cover Feedback Linearization."
   ]
  },
  {
   "cell_type": "code",
   "execution_count": null,
   "metadata": {},
   "outputs": [],
   "source": [
    "import numpy as np\n",
    "from sympy import symbols, Matrix, diff, sin, cos, pprint\n",
    "from sympy.utilities.lambdify import lambdify\n",
    "from scipy.integrate import solve_ivp, odeint\n",
    "from scipy.linalg import solve_continuous_are, inv\n",
    "from matplotlib import pyplot as plt\n",
    "from matplotlib.animation import FuncAnimation\n",
    "from IPython.display import HTML\n",
    "%matplotlib inline"
   ]
  },
  {
   "cell_type": "markdown",
   "metadata": {},
   "source": [
    "## Exercise 1\n",
    "\n",
    "In this exercise, we will review and recap the formulas associated with feedback linearization and implement them in Python. We will use the below non-linear system:\n",
    "\n",
    "$ \\begin{bmatrix} \\dot{x_1} \\\\ \\dot{x_2} \\end{bmatrix} = \n",
    "\\begin{bmatrix} x_2 \\\\ 2w(1-\\mu x_1^2)x_2 -w^2x_1 \\end{bmatrix} +\n",
    "\\begin{bmatrix} 0 \\\\ 1 \\end{bmatrix} u $\n",
    "\n",
    "$ y = x_1$\n",
    "\n",
    "Where $w, \\mu$ are constants that can be assumed $=1$."
   ]
  },
  {
   "cell_type": "markdown",
   "metadata": {},
   "source": [
    "### Exercise 1.1\n",
    "The first step to linearizing the feedback law is to bring the system into the form: \n",
    "\n",
    "$\\dot{x} = f(x) + g(x)u$\n",
    "\n",
    "$y=h(x)$\n",
    "\n",
    "We achieve this by using the [``sympy.Matrix``](https://docs.sympy.org/latest/tutorials/intro-tutorial/matrices.html) definition. In particular, we will use [``lambdify``](https://docs.sympy.org/latest/modules/utilities/lambdify.html) to make them work like functions."
   ]
  },
  {
   "cell_type": "code",
   "execution_count": null,
   "metadata": {},
   "outputs": [],
   "source": [
    "w=1\n",
    "mu=1\n",
    "x1, x2 = symbols('x1 x2')\n",
    "x = Matrix([x1, x2])\n",
    "\n",
    "f = Matrix([x2, 2*w*(1-mu*x1**2)*x2 - w**2*x1])\n",
    "g = 0 #TODO\n",
    "h = 0 #TODO\n",
    "f_func = lambdify((x1, x2), f, 'numpy')\n",
    "g_func = 0 #TODO\n",
    "h_func = 0 #TODO"
   ]
  },
  {
   "cell_type": "markdown",
   "metadata": {},
   "source": [
    "### Solution 1.1"
   ]
  },
  {
   "cell_type": "code",
   "execution_count": null,
   "metadata": {},
   "outputs": [],
   "source": [
    "w=1\n",
    "mu=1\n",
    "x1, x2 = symbols('x1 x2')\n",
    "x = Matrix([x1, x2])\n",
    "\n",
    "# Define the functions\n",
    "f = Matrix([x2, 2*w*(1-mu*x1**2)*x2 - w**2*x1])\n",
    "g = Matrix([0, 1])\n",
    "h = Matrix([x1, 0])\n",
    "f_func = lambdify((x1, x2), f, 'numpy')\n",
    "g_func = lambdify((x1, x2), g, 'numpy')\n",
    "h_func = lambdify((x1, x2), h, 'numpy')"
   ]
  },
  {
   "cell_type": "markdown",
   "metadata": {},
   "source": [
    "### Exercise 1.2\n",
    "In order to determine the *relative degree of the system*, we need to use the Lie Derivative $L_f$, $L_g$. This has been implemented below and works as follows:\n",
    "\n",
    "$L_f h = $ ``lie_derivative(f, h, x)``.\n",
    "\n",
    "Pay attention to the return types! ``result = lie_derivative(f, h, x)`` produces an object with the following members:\n",
    "- ``result.matrix``: The matrix representation of the lie derivative. Use this for chained derivatives! Ex: ``lie_derivative(g, result.matrix, x)``\n",
    "- ``result.func``: A lambdified version of the result. Ex: ``result.func(x1=1, x2=5)``\n",
    "- ``result.value``: The most relevant output, simply the float or functional value of the lie derivative."
   ]
  },
  {
   "cell_type": "code",
   "execution_count": null,
   "metadata": {},
   "outputs": [],
   "source": [
    "class LieDerivative:\n",
    "    def __init__(self, matrix, func, value):\n",
    "        \"\"\"Initialize the LieDerivative class.\"\"\"\n",
    "        self.matrix = matrix\n",
    "        self.func = func\n",
    "        self.value = value\n",
    "\n",
    "def lie_derivative(vector_field: Matrix, function: Matrix, x: Matrix):\n",
    "    \"\"\"Calculate the Lie derivative of a function with respect to a vector field.\n",
    "    \n",
    "    Parameters:\n",
    "    - ``vector_field``: The vector field.\n",
    "    - ``function``: The function.\n",
    "    - ``x``: The point at which to evaluate the Lie derivative.\n",
    "\n",
    "    Returns:\n",
    "    - ``LieDerivative``: The Lie derivative.\n",
    "    \"\"\"\n",
    "    assert isinstance(function, Matrix), \"The function must be a sympy matrix. You likely wanted to do a chained derivative, remember to pass it here as LieDerivative.matrix instead.\"\n",
    "\n",
    "    jacobian = function.jacobian(x)\n",
    "    lie_matrix = jacobian*vector_field\n",
    "\n",
    "    # Create function form\n",
    "    lie_func = lambdify(tuple(x), lie_matrix[0], 'numpy')\n",
    "\n",
    "    # Create value form\n",
    "    lie_value = lie_matrix[0]\n",
    "    \n",
    "    return LieDerivative(lie_matrix, lie_func, lie_value)"
   ]
  },
  {
   "cell_type": "markdown",
   "metadata": {},
   "source": [
    "Now that the fields $f(x), g(x), h(x)$ and the Lie Derivative are defined, calculate the *relative degree of the system* $\\gamma$ using the following rule:\n",
    "\n",
    "$\\gamma$ is the smallest number such that $L_g L_f^{\\gamma-1}h \\neq 0$"
   ]
  },
  {
   "cell_type": "code",
   "execution_count": null,
   "metadata": {},
   "outputs": [],
   "source": [
    "#TODO: Determine L_g L_f^0 h, check if equal to 0\n",
    "\n",
    "#TODO: Determine L_g L_f^1 h, check if equal to 0\n",
    "\n",
    "#TODO: ..."
   ]
  },
  {
   "cell_type": "markdown",
   "metadata": {},
   "source": [
    "### Solution 1.2"
   ]
  },
  {
   "cell_type": "code",
   "execution_count": null,
   "metadata": {},
   "outputs": [],
   "source": [
    "# Determine L_g L_f^0 h, which is equal to L_g h\n",
    "lieg_h = lie_derivative(g, h, x)\n",
    "print(\"gamma = 1 | L_g L_f^0 h = \" + str(lieg_h.value))\n",
    "\n",
    "# Determine L_g L_f^1 h, which is equal to L_g L_f h\n",
    "lief_h = lie_derivative(f, h, x)\n",
    "print(lief_h.value)\n",
    "lieglief_h = lie_derivative(g, lief_h.matrix, x)\n",
    "print(\"gamma = 2 | L_g L_f^1 h = \" + str(lieglief_h.value))\n",
    "\n",
    "# Relative Order of the system: 2\n",
    "print(\"Therefore, the relative order of the system is 2.\")"
   ]
  },
  {
   "cell_type": "markdown",
   "metadata": {},
   "source": [
    "### Exercise 1.3\n",
    "Now that the relative order of the system has been determined, we can make the system behave as the linear system $\\frac{d^{\\gamma}y}{dt^{\\gamma}} = v$ by choosing:\n",
    "\n",
    "$u = \\frac{1}{L_g L_f^{\\gamma-1}h(x)} (-L_f^{\\gamma}h(x) +v)$\n",
    "\n",
    "Using the found value of $\\gamma$ and the function ``lie_derivative``, calculate u."
   ]
  },
  {
   "cell_type": "code",
   "execution_count": null,
   "metadata": {},
   "outputs": [],
   "source": [
    "v = symbols('v')\n",
    "#TODO:\n",
    "u = 0\n",
    "print(u)"
   ]
  },
  {
   "cell_type": "markdown",
   "metadata": {},
   "source": [
    "### Solution 1.3"
   ]
  },
  {
   "cell_type": "code",
   "execution_count": null,
   "metadata": {},
   "outputs": [],
   "source": [
    "v = symbols('v')\n",
    "lieg_lief_h = lie_derivative(g, lief_h.matrix, x)\n",
    "print(\"Value of L_g L_f h = \" + str(lieg_lief_h.value))\n",
    "\n",
    "lief_lief_h = lie_derivative(f, lief_h.matrix, x)\n",
    "print(\"Value of L_f L_f h = \" + str(lief_lief_h.value))\n",
    "\n",
    "u = 1/lieg_lief_h.value * (-lief_lief_h.value + v)\n",
    "print(u)"
   ]
  },
  {
   "cell_type": "markdown",
   "metadata": {},
   "source": [
    "### Exercise 1.4\n",
    "Plugging the linearization controller $u(x_1, x_2, v)$ your found above essentially yields the following:\n",
    "\n",
    "$ \\begin{bmatrix} \\dot{x_1} \\\\ \\dot{x_2} \\end{bmatrix} = \n",
    "\\begin{bmatrix} x_2 \\\\ 2w(1-\\mu x_1^2)x_2 -w^2x_1 \\end{bmatrix} +\n",
    "\\begin{bmatrix} 0 \\\\ 1 \\end{bmatrix} \\cdot (-2(1-\\mu x_1^2)x_2 + w^2 x_1 + v) $\n",
    "\n",
    "$ \\begin{bmatrix} \\dot{x_1} \\\\ \\dot{x_2} \\end{bmatrix} = \n",
    "\\begin{bmatrix} 0 & 1 \\\\ 0 & 0  \\end{bmatrix} \\begin{bmatrix} x_1 \\\\ x_2 \\end{bmatrix} + \n",
    "\\begin{bmatrix} 0 \\\\ 1 \\end{bmatrix} v$\n",
    "\n",
    "$y = \\begin{bmatrix} 1 & 0 \\end{bmatrix} x$\n",
    "\n",
    "Therefore, we can now calculate a LQR controller using $A, B, C, D$. Once we find the control law $v = -Kx$, we just need to remember to pass it through $u(x_1, x_2, v)$."
   ]
  },
  {
   "cell_type": "code",
   "execution_count": null,
   "metadata": {},
   "outputs": [],
   "source": [
    "# Find the LQR gain\n",
    "# TODO: Define system matrices\n",
    "A = 0\n",
    "B = 0\n",
    "C = 0\n",
    "D = 0\n",
    "\n",
    "# Define cost matrices\n",
    "Q = np.array([[1, 0], [0, 1]])\n",
    "R = np.array([[1]])\n",
    "\n",
    "# TODO: Solve continuous ARE\n",
    "P = 0\n",
    "\n",
    "# TODO: Compute the LQR gain\n",
    "K = 0"
   ]
  },
  {
   "cell_type": "markdown",
   "metadata": {},
   "source": [
    "### Solution 1.5"
   ]
  },
  {
   "cell_type": "code",
   "execution_count": null,
   "metadata": {},
   "outputs": [],
   "source": [
    "A = np.array([[0, 1], [0, 0]])\n",
    "B = np.array([[0], [1]])\n",
    "C = np.array([[1, 0]])\n",
    "D = np.array([[0]])\n",
    "\n",
    "Q = np.array([[1, 0], [0, 1]])\n",
    "R = np.array([[1]])\n",
    "\n",
    "P = solve_continuous_are(A, B, Q, R)\n",
    "\n",
    "K = np.linalg.inv(R) @ B.T @ P"
   ]
  },
  {
   "cell_type": "markdown",
   "metadata": {},
   "source": [
    "### Demonstration\n",
    "The below code demonstrates the effects of using feedback linearization to control a system... and the things that can go wrong without it."
   ]
  },
  {
   "cell_type": "code",
   "execution_count": null,
   "metadata": {},
   "outputs": [],
   "source": [
    "def control_P(x):\n",
    "    \"\"\"This control law lacks any feedback linearization.\"\"\"\n",
    "    x_1, x_2 = x\n",
    "    u = -K @ x\n",
    "    return u\n",
    "\n",
    "def control_linearization(x):\n",
    "    \"\"\"This control law simply does feedback linearization without LQR control. This means you can put any value of v in, and the system will have that slope.\"\"\"\n",
    "    x_1, x_2 = x\n",
    "    v = 0\n",
    "    u = -2*(1-x_1**2)*x_2 + x_1 + v\n",
    "    return u\n",
    "\n",
    "def control_law(x):\n",
    "    \"\"\"This control law includes LQR control and will stabilize the system to the origin.\"\"\"\n",
    "    x_1, x_2 = x\n",
    "    v = -K @ x\n",
    "    u = -2*(1-x_1**2)*x_2 + x_1 + v\n",
    "    return u"
   ]
  },
  {
   "cell_type": "code",
   "execution_count": null,
   "metadata": {},
   "outputs": [],
   "source": [
    "def system_dynamics_no_control(t, x):\n",
    "    x1, x2 = x\n",
    "    x_dot = f_func(x1, x2)\n",
    "    return x_dot.reshape(2,)\n",
    "\n",
    "def system_dynamics_PID(t, x):\n",
    "    x1, x2 = x\n",
    "    x_dot = f_func(x1, x2) + g_func(x1, x2)*control_P(x)\n",
    "    return x_dot.reshape(2,)\n",
    "\n",
    "def system_dynamics_full(t, x):\n",
    "    x1, x2 = x\n",
    "    x_dot = f_func(x1, x2) + g_func(x1, x2)*control_law(x)\n",
    "    return x_dot.reshape(2,)\n",
    "\n",
    "def system_dynamics_linearized(t, x):\n",
    "    x1, x2 = x\n",
    "    x_dot = f_func(x1, x2) + g_func(x1, x2)*control_linearization(x)\n",
    "    return x_dot.reshape(2,)"
   ]
  },
  {
   "cell_type": "code",
   "execution_count": null,
   "metadata": {},
   "outputs": [],
   "source": [
    "# Initial conditions\n",
    "x0 = [0.0, 0.5]\n",
    "\n",
    "# Time span\n",
    "t_span = [0, 100]\n",
    "t_eval = np.linspace(t_span[0], t_span[1], 500)\n",
    "\n",
    "# Solving the differential equation\n",
    "solution_no_control = solve_ivp(system_dynamics_no_control, t_span, x0, t_eval=t_eval)\n",
    "solution_PID = solve_ivp(system_dynamics_PID, t_span, x0, t_eval=t_eval)\n",
    "solution_linearized = solve_ivp(system_dynamics_linearized, t_span, x0, t_eval=t_eval)\n",
    "solution_full = solve_ivp(system_dynamics_full, t_span, x0, t_eval=t_eval)\n",
    "\n",
    "# Plotting the results\n",
    "plt.figure(figsize=(10, 5))\n",
    "plt.plot(solution_no_control.t, solution_no_control.y[0], label='No linearization, no controller')\n",
    "plt.plot(solution_PID.t, solution_PID.y[0], label='No linearization, LQR controller')\n",
    "plt.plot(solution_linearized.t, solution_linearized.y[1], label='Feedback linearization, no controller')\n",
    "plt.plot(solution_full.t, solution_full.y[1], label='Feedback linearization, LQR controller')\n",
    "plt.xlabel('Time')\n",
    "plt.ylabel('Output')\n",
    "plt.title('System States Over Time')\n",
    "plt.legend()\n",
    "plt.grid(True)\n",
    "plt.show()"
   ]
  },
  {
   "cell_type": "markdown",
   "metadata": {},
   "source": [
    "Following observations can be made:\n",
    "- Without a controller, the highly non-linear dynamics of the system can be seen well.\n",
    "- Naively using the LQR feedback controller _without feedback linearization_ yields bad results. It is not advisable to use linear control theory on nonlinear systems.\n",
    "- Applying feedback linearization on the system \"removes\" the non-linear dynamics\n",
    "- Feedback linearization and LQR provide excellent results."
   ]
  },
  {
   "cell_type": "markdown",
   "metadata": {},
   "source": [
    "### BONUS:\n",
    "What do you think happens if our feedback linearization is \"off\", i.e. the modelling wasn't perfect? Test the effects of differing the feedback $w, \\mu$ from the system $w, \\mu$. "
   ]
  },
  {
   "cell_type": "markdown",
   "metadata": {},
   "source": [
    "## Exercise 2\n",
    "\n",
    "In this exercise, we will use feedback linearization to steer a two-link robot gripper as shown below:\n",
    "\n",
    "<img src=\"data:image/png;base64,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\" alt=\"Optimal H_2 Control\" width=\"400\"/>"
   ]
  },
  {
   "cell_type": "markdown",
   "metadata": {},
   "source": [
    "Using the Euler-Lagrange equations, we can derive the dynamic equations of motion for the gripper: \n",
    "\n",
    "$M(\\dot{q}, \\ddot{q}) + C(\\dot{q}) + G = \\tau$\n",
    "\n",
    "$Y = q$"
   ]
  },
  {
   "cell_type": "code",
   "execution_count": null,
   "metadata": {},
   "outputs": [],
   "source": [
    "m1, m2 = 1, 1 #kg\n",
    "l1, l2 = 1, 1 #m\n",
    "g = 9.81 #m/s^2\n",
    "\n",
    "q1, q2, q1dot, q2dot = symbols('q1 q2 q1dot q2dot')\n",
    "q = Matrix([q1, q2, q1dot, q2dot])\n",
    "u1, u2 = symbols('u1 u2')\n",
    "\n",
    "M11 = 1/3*m1*l1**2 + 1/3*m2*l2**2 + m2*l1**2 + m2*l1*l2*cos(q2)\n",
    "M12 = M21 = 1/3*m2*l2**2 + 1/2*m2*l1*l2*cos(q2)\n",
    "M22 = 1/3*m2*l2**2\n",
    "M = Matrix([[M11, M12], [M21, M22]])\n",
    "M_func = lambdify((q1, q2, q1dot, q2dot), M, 'numpy')\n",
    "\n",
    "C11 = -1/2*m2*l1*l2*q2dot*sin(q2)\n",
    "C12 = -1/2*m2*l1*l2*sin(q2)*(q1dot + q2dot)\n",
    "C21 = -1/2*m2*l1*l2*q1dot*sin(q2)\n",
    "C22 = 0\n",
    "C = Matrix([[C11, C12], [C21, C22]])*Matrix([[q1dot], [q2dot]])\n",
    "C_func = lambdify((q1, q2, q1dot, q2dot), C, 'numpy')\n",
    "\n",
    "G1 = (1/2*m1*l1 + m2*l1)*g*cos(q1) + 1/2*m2*l2*g*cos(q1 + q2)\n",
    "G2 = 1/2*m2*l2*g*cos(q1 + q2)\n",
    "G = Matrix([[G1], [G2]])\n",
    "G_func = lambdify((q1, q2, q1dot, q2dot), G, 'numpy')"
   ]
  },
  {
   "cell_type": "markdown",
   "metadata": {},
   "source": [
    "Partially rearranged:\n",
    "\n",
    "$ \\begin{bmatrix} q_1 \\\\ q_2 \\\\ \\dot{q_1} \\\\ \\dot{q_2} \\end{bmatrix}' =\n",
    "\\begin{bmatrix}\n",
    "\\begin{matrix}\n",
    "0 & 0 \\\\\n",
    "0 & 0 \n",
    "\\end{matrix} & \\begin{matrix}\n",
    "1 & 0 \\\\\n",
    "0 & 1 \n",
    "\\end{matrix} \\\\\n",
    "\\begin{matrix}\n",
    "0 & 0 \\\\\n",
    "0 & 0 \n",
    "\\end{matrix} & -\\begin{bmatrix}M_{11} & M_{12} \\\\ M_{21} & M_{22}\\end{bmatrix}^{-1} \\begin{bmatrix}C_{11} & C_{12} \\\\ C_{21} & C_{22}\\end{bmatrix} \n",
    "\\end{bmatrix} \n",
    "\\begin{bmatrix} q_1 \\\\ q_2 \\\\ \\dot{q_1} \\\\ \\dot{q_2} \\end{bmatrix} - \\begin{bmatrix} 0 \\\\ 0 \\\\ G_1 \\\\ G_2 \\end{bmatrix}+ \\begin{bmatrix} 0 \\\\ 0 \\\\ \\tau_1 \\\\ \\tau_2 \\end{bmatrix} $"
   ]
  },
  {
   "cell_type": "markdown",
   "metadata": {},
   "source": [
    "### Exercise 2.1\n",
    "Finish bringing the equation into the form: \n",
    "\n",
    "$\\dot{x} = f(x) + g_1(x) \\tau_1 + g_2(x) \\tau_2$\n",
    "\n",
    "$y = \\begin{bmatrix} h_1(x) \\\\ h_2(x) \\end{bmatrix} = \\begin{bmatrix} q_1 \\\\ q_2 \\end{bmatrix} $\n",
    "\n",
    "Determine and program $f(x), g_1(x), g_2(x), h_1(x), h_2(x)$."
   ]
  },
  {
   "cell_type": "code",
   "execution_count": null,
   "metadata": {},
   "outputs": [],
   "source": [
    "matrix_cal = Matrix([[M11, M12], [M21, M22]]).inv() * Matrix([[C11*q1dot, C12*q2dot], [C21*q1dot, C22*q2dot]])\n",
    "\n",
    "f_row1 = q1dot\n",
    "f_row2 = q2dot\n",
    "f_row3 = matrix_cal[0] - G1\n",
    "f_row4 = matrix_cal[1] - G2\n",
    "f = 0 #TODO\n",
    "f_func = lambdify(0, 0, 'numpy') #TODO\n",
    "\n",
    "g_1 = 0 #TODO\n",
    "g_2 = 0 #TODO\n",
    "\n",
    "h_1 = 0 #TODO\n",
    "h_2 = 0 #TODO"
   ]
  },
  {
   "cell_type": "markdown",
   "metadata": {},
   "source": [
    "### Solution 2.1"
   ]
  },
  {
   "cell_type": "code",
   "execution_count": null,
   "metadata": {},
   "outputs": [],
   "source": [
    "matrix_cal = Matrix([[M11, M12], [M21, M22]]).inv() * Matrix([[C11*q1dot, C12*q2dot], [C21*q1dot, C22*q2dot]])\n",
    "\n",
    "f_row1 = q1dot\n",
    "f_row2 = q2dot\n",
    "f_row3 = matrix_cal[0] - G1\n",
    "f_row4 = matrix_cal[1] - G2\n",
    "f = Matrix([f_row1, f_row2, f_row3, f_row4])\n",
    "f_func = lambdify((q1, q2, q1dot, q2dot), f, 'numpy')\n",
    "\n",
    "g_1 = Matrix([0, 0, 1, 0])\n",
    "g_2 = Matrix([0, 0, 0, 1])\n",
    "\n",
    "h_1 = Matrix([q1, 0, 0, 0])\n",
    "h_2 = Matrix([0, q2, 0, 0])"
   ]
  },
  {
   "cell_type": "markdown",
   "metadata": {},
   "source": [
    "### Exercise 2.2\n",
    "From \"EN530.678 Nonlinear Control and Planning in Robotics, Lecture 8: Feedback Linearization\" we find the formula for determining the _relative degree of a MIMO system_.\n",
    "\n",
    "$y_1^{\\gamma_1} = L_f^{\\gamma_1} h_1 + L_{g_1} L_f^{\\gamma_1 -1} h_1 u_1 + L_{g_2} L_f^{\\gamma_1 -1} h_1 u_2$\n",
    "\n",
    "$y_2^{\\gamma_2} = L_f^{\\gamma_2} h_2 + L_{g_1} L_f^{\\gamma_2 -1} h_2 u_1 + L_{g_2} L_f^{\\gamma_2 -1} h_2 u_2$\n",
    "\n",
    "Since this is a long task, simply determine the smallest $\\gamma_1$ such that $y_1^{\\gamma_1}$ is dependent on either $u_1$ or $u_2$. It turns out $\\gamma_1 = \\gamma_2$.\n",
    "\n",
    "Use this implementation of the function ``lie_derivative``:"
   ]
  },
  {
   "cell_type": "code",
   "execution_count": null,
   "metadata": {},
   "outputs": [],
   "source": [
    "# Find y_1^1\n",
    "y_1_1 = ... + ... + ...\n",
    "print(y_1_1)\n",
    "\n",
    "# Find y_1^2\n",
    "y_1_2 = ... + ... + ...\n",
    "print(y_1_2)\n",
    "\n",
    "# ..."
   ]
  },
  {
   "cell_type": "markdown",
   "metadata": {},
   "source": [
    "### Solution 2.2"
   ]
  },
  {
   "cell_type": "code",
   "execution_count": null,
   "metadata": {},
   "outputs": [],
   "source": [
    "# y_1, gamma_1 = 1\n",
    "y_1_1 = lie_derivative(f, h_1, q).value + lie_derivative(g_1, h_1, q).value*u1 + lie_derivative(g_2, h_1, q).value*u2\n",
    "print(\"gamma_1 = 1 | L_f^1 h_1 + L_g_1 h_1 u_1 + L_g_2 h_1 u_2 = \" + str(y_1_1))\n",
    "# y_1, gamma_1 = 2\n",
    "lief_h_1 = lie_derivative(f, h_1, q)\n",
    "print(lief_h_1.value)\n",
    "y_1_2 = lie_derivative(f, lief_h_1.matrix, q).value + lie_derivative(g_1, lief_h_1.matrix, q).value*u1 + lie_derivative(g_2, lief_h_1.matrix, q).value*u2\n",
    "print(\"gamma_1 = 2 | L_f^2 h_1 + L_g_1 L_f h_1 u_1 + L_g_2 L_f h_1 u_2 = \" + str(y_1_2))\n",
    "\n",
    "print(\"Therefore, the relative order of the system is 2.\")"
   ]
  },
  {
   "cell_type": "markdown",
   "metadata": {},
   "source": [
    "### Exercise 2.3\n",
    "Given that we found the needed relative order of the system (2), we can now build a feedback linearizing controller.\n",
    "The second derivative of $Y$ is given by the following formula:\n",
    "\n",
    "$\\ddot{Y} = \\ddot{q} = M(\\dot{q}, \\ddot{q})^{-1}(-C(\\dot{q}) -G+\\tau) = v$\n",
    "\n",
    "Rearranging:\n",
    "\n",
    "$\\tau = M(\\dot{q}, \\ddot{q})v + C(\\dot{q}) + G$\n",
    "\n",
    "In the below cell, finish building a simple PD controller."
   ]
  },
  {
   "cell_type": "code",
   "execution_count": null,
   "metadata": {},
   "outputs": [],
   "source": [
    "def control_pd(q: np.ndarray, q_des: np.ndarray, K_p: float, K_d: float) -> np.ndarray:\n",
    "    q1, q2, q1dot, q2dot = q\n",
    "    q1_desired, q2_desired = q_des\n",
    "    # Position Error\n",
    "    # TODO\n",
    "    # Velocity Error\n",
    "    # TODO\n",
    "    return 0"
   ]
  },
  {
   "cell_type": "markdown",
   "metadata": {},
   "source": [
    "### Solution 2.3"
   ]
  },
  {
   "cell_type": "code",
   "execution_count": null,
   "metadata": {},
   "outputs": [],
   "source": [
    "def control_pd(q: np.ndarray, q_des: np.ndarray, K_p: float, K_d: float) -> np.ndarray:\n",
    "    q1, q2, q1dot, q2dot = q\n",
    "    q1_desired, q2_desired = q_des\n",
    "    # Position Error\n",
    "    e_q = K_p*np.array([[q1_desired - q1], [q2_desired - q2]])\n",
    "    # Velocity Error\n",
    "    e_qdot = K_d*np.array([[0 - q1dot], [0 - q2dot]])\n",
    "    return e_q + e_qdot"
   ]
  },
  {
   "cell_type": "markdown",
   "metadata": {},
   "source": [
    "### Demonstration\n",
    "Finally, set your intended joint positions and controller gains below and watch the robot arm go!"
   ]
  },
  {
   "cell_type": "code",
   "execution_count": null,
   "metadata": {},
   "outputs": [],
   "source": [
    "q1_desired = 0.0\n",
    "q2_desired = np.pi/2\n",
    "K_p = 1\n",
    "K_d = 1"
   ]
  },
  {
   "cell_type": "code",
   "execution_count": null,
   "metadata": {},
   "outputs": [],
   "source": [
    "def control_linearization(v, q):\n",
    "    \"\"\"This control law simply does feedback linearization without LQR control. This means you can put any value of v in, and the system will have that slope.\"\"\"\n",
    "    q1, q2, q1dot, q2dot = q\n",
    "    M = M_func(q1, q2, q1dot, q2dot)\n",
    "    C = C_func(q1, q2, q1dot, q2dot)\n",
    "    G = G_func(q1, q2, q1dot, q2dot)\n",
    "    tau = M@v + C + G\n",
    "    return np.vstack((np.zeros((2,1)), tau))\n",
    "\n",
    "def system_dynamics_full(t, q):\n",
    "    q1, q2, q1dot, q2dot = q\n",
    "    v = control_pd(q, [q1_desired, q2_desired], K_p, K_d)\n",
    "    q_dot = f_func(q1, q2, q1dot, q2dot) + control_linearization(v, q)\n",
    "    return q_dot.flatten()\n",
    "\n",
    "# Initial conditions\n",
    "q0 = [0.5, 0.5, 0.0, 0.0]\n",
    "\n",
    "# Time span\n",
    "t_span = [0, 100]\n",
    "t_eval = np.linspace(t_span[0], t_span[1], 500)\n",
    "\n",
    "# Solving the differential equation\n",
    "solution = solve_ivp(system_dynamics_full, t_span, q0, t_eval=t_eval)\n",
    "# Plotting the results\n",
    "plt.figure(figsize=(10, 5))\n",
    "\n",
    "plt.axhline(y=q1_desired, color='b', linestyle=':', label='Reference 1')\n",
    "plt.axhline(y=q2_desired, color='orange', linestyle=':', label='Reference 2')\n",
    "\n",
    "plt.plot(solution.t, solution.y[0], label='Joint Position 1')\n",
    "plt.plot(solution.t, solution.y[1], label='Joint Position 2')\n",
    "plt.plot(solution.t, solution.y[2], label='Joint Velocity 1')\n",
    "plt.plot(solution.t, solution.y[3], label='Joint Velocity 2')\n",
    "\n",
    "plt.xlabel('Time')\n",
    "plt.ylabel('Output')\n",
    "plt.title('System States Over Time')\n",
    "plt.legend()\n",
    "plt.grid(True)\n",
    "plt.show()"
   ]
  },
  {
   "cell_type": "code",
   "execution_count": null,
   "metadata": {},
   "outputs": [],
   "source": [
    "def compute_positions(solution):\n",
    "    num_time_steps = len(solution.t)\n",
    "    x = np.zeros((num_time_steps, 3))  # x coordinates of the base, joint 1, and end effector\n",
    "    y = np.zeros((num_time_steps, 3))  # y coordinates of the base, joint 1, and end effector\n",
    "\n",
    "    for i in range(num_time_steps):\n",
    "        q1 = solution.y[0, i]\n",
    "        q2 = solution.y[1, i]\n",
    "        x[i, 1] = l1 * np.cos(q1)  # x position of joint 1\n",
    "        y[i, 1] = l1 * np.sin(q1)  # y position of joint 1\n",
    "        x[i, 2] = x[i, 1] + l2 * np.cos(q1 + q2)  # x position of end effector\n",
    "        y[i, 2] = y[i, 1] + l2 * np.sin(q1 + q2)  # y position of end effector\n",
    "\n",
    "    return x, y\n",
    "\n",
    "x, y = compute_positions(solution)\n",
    "\n",
    "# Plot the robot arm movement\n",
    "fig, ax = plt.subplots()\n",
    "ax.set_xlim(-l1-l2-0.5, l1+l2+0.5)\n",
    "ax.set_ylim(-l1-l2-0.5, l1+l2+0.5)\n",
    "ax.set_aspect('equal')\n",
    "line, = ax.plot([], [], 'o-', lw=2)\n",
    "\n",
    "def init():\n",
    "    line.set_data([], [])\n",
    "    return line,\n",
    "\n",
    "def update(frame):\n",
    "    line.set_data(x[frame, :], y[frame, :])\n",
    "    return line,\n",
    "\n",
    "ani = FuncAnimation(fig, update, frames=range(500), init_func=init, blit=True, interval=100)\n",
    "\n",
    "# Display animation in Jupyter notebook\n",
    "HTML(ani.to_jshtml())"
   ]
  }
 ],
 "metadata": {
  "kernelspec": {
   "display_name": "Python 3",
   "language": "python",
   "name": "python3"
  },
  "language_info": {
   "codemirror_mode": {
    "name": "ipython",
    "version": 3
   },
   "file_extension": ".py",
   "mimetype": "text/x-python",
   "name": "python",
   "nbconvert_exporter": "python",
   "pygments_lexer": "ipython3",
   "version": "3.10.11"
  }
 },
 "nbformat": 4,
 "nbformat_minor": 2
}
