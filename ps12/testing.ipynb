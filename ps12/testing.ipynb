{
 "cells": [
  {
   "cell_type": "markdown",
   "metadata": {},
   "source": [
    "Defining the system below, according to the definition:\n",
    "\n",
    "$\\dot{x} = f(x)+g(x)u$\n",
    "\n",
    "$y=h(x)$"
   ]
  },
  {
   "cell_type": "code",
   "execution_count": 11,
   "metadata": {},
   "outputs": [],
   "source": [
    "import numpy as np\n",
    "from sympy import symbols, Matrix, diff\n",
    "from sympy.utilities.lambdify import lambdify\n",
    "w=1\n",
    "mu=1"
   ]
  },
  {
   "cell_type": "code",
   "execution_count": 27,
   "metadata": {},
   "outputs": [],
   "source": [
    "x1, x2 = symbols('x1 x2')\n",
    "x = Matrix([x1, x2])\n",
    "\n",
    "# Define the functions\n",
    "f = Matrix([x2, 2*w*(1-mu*x1**2)*x2 - w**2*x1])\n",
    "g = Matrix([0, 1])\n",
    "h = Matrix([x1, 0])\n",
    "f_func = lambdify((x1, x2), f, 'numpy')\n",
    "g_func = lambdify((x1, x2), g, 'numpy')\n",
    "h_func = lambdify((x1, x2), h, 'numpy')"
   ]
  },
  {
   "cell_type": "code",
   "execution_count": 84,
   "metadata": {},
   "outputs": [],
   "source": [
    "class LieDerivative:\n",
    "    def __init__(self, matrix, func, value):\n",
    "        self.matrix = matrix\n",
    "        self.func = func\n",
    "        self.value = value\n",
    "\n",
    "    def __call__(self, x):\n",
    "        return self.matrix\n",
    "\n",
    "def lie_derivative(vector_field: Matrix, function: Matrix, x: Matrix):\n",
    "    jacobian = function.jacobian(x)\n",
    "    lie_matrix = jacobian*vector_field\n",
    "\n",
    "    # Create function form\n",
    "    lie_func = lambdify((x1, x2), lie_matrix[0], 'numpy')\n",
    "\n",
    "    # Create value form\n",
    "    lie_value = lie_matrix[0]\n",
    "    \n",
    "    return LieDerivative(lie_matrix, lie_func, lie_value)"
   ]
  },
  {
   "cell_type": "code",
   "execution_count": 89,
   "metadata": {},
   "outputs": [
    {
     "name": "stdout",
     "output_type": "stream",
     "text": [
      "0\n"
     ]
    }
   ],
   "source": [
    "lieg_h = lie_derivative(g, h, x)\n",
    "print(lieg_h.value)"
   ]
  },
  {
   "cell_type": "code",
   "execution_count": 91,
   "metadata": {},
   "outputs": [
    {
     "name": "stdout",
     "output_type": "stream",
     "text": [
      "1\n"
     ]
    }
   ],
   "source": [
    "lief_h = lie_derivative(f, h, x)\n",
    "lieglief_h = lie_derivative(g, lief_h.matrix, x)\n",
    "print(lieglief_h.value)"
   ]
  },
  {
   "cell_type": "code",
   "execution_count": 92,
   "metadata": {},
   "outputs": [
    {
     "name": "stdout",
     "output_type": "stream",
     "text": [
      "-x1 + x2*(2 - 2*x1**2)\n"
     ]
    }
   ],
   "source": [
    "lieflief_h = lie_derivative(f, lief_h.matrix, x)\n",
    "print(lieflief_h.value)"
   ]
  }
 ],
 "metadata": {
  "kernelspec": {
   "display_name": "Python 3",
   "language": "python",
   "name": "python3"
  },
  "language_info": {
   "codemirror_mode": {
    "name": "ipython",
    "version": 3
   },
   "file_extension": ".py",
   "mimetype": "text/x-python",
   "name": "python",
   "nbconvert_exporter": "python",
   "pygments_lexer": "ipython3",
   "version": "3.10.11"
  }
 },
 "nbformat": 4,
 "nbformat_minor": 2
}
