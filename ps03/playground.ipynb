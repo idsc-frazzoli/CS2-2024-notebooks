{
 "cells": [
  {
   "cell_type": "code",
   "execution_count": null,
   "metadata": {},
   "outputs": [],
   "source": [
    "import numpy as np\n",
    "import control as ct\n",
    "import matplotlib.pyplot as plt\n",
    "\n",
    "\n",
    "np.set_printoptions(suppress=True, precision=3)"
   ]
  },
  {
   "cell_type": "code",
   "execution_count": null,
   "metadata": {},
   "outputs": [],
   "source": [
    "def plot_eigenvec(eigenvec):\n",
    "    \"\"\"\n",
    "    Plots the elements of an eigenvector in polar coordinates.\n",
    "\n",
    "    Parameters:\n",
    "    eigenvec (array-like): The eigenvector to be plotted.\n",
    "\n",
    "    Returns:\n",
    "    None\n",
    "\n",
    "    Example:\n",
    "    >>> eigenvector = [1+1j, 2-3j, -4+2j]\n",
    "    >>> plot_eigenvec(eigenvector)\n",
    "    \"\"\"\n",
    "    fig, ax = plt.subplots(subplot_kw={\"projection\": \"polar\"})\n",
    "    ax.set_title(\"Elements of eigenvector in Polar Coordinates\")\n",
    "    \n",
    "    for i, element in enumerate(eigenvec):\n",
    "        angle = np.angle(element)\n",
    "        magnitude = np.abs(element)\n",
    "        ax.annotate(\n",
    "            \"\",\n",
    "            xy=(angle, magnitude),\n",
    "            xytext=(0, 0),\n",
    "            arrowprops=dict(facecolor=f\"C{i}\", edgecolor=f\"C{i}\", arrowstyle=\"->\", linewidth=2))\n",
    "    plt.show()"
   ]
  },
  {
   "cell_type": "code",
   "execution_count": null,
   "metadata": {},
   "outputs": [],
   "source": [
    "eigenvectors = np.linalg.eig(A)[1]\n",
    "for i in range(len(eigenvectors)):\n",
    "    plot_eigenvec(eigenvectors[:, i])"
   ]
  },
  {
   "cell_type": "code",
   "execution_count": null,
   "metadata": {},
   "outputs": [],
   "source": [
    "def compute_evolution_of_modal_coordinate(eigenvalue: complex, initial_condition: complex, time_vector: np.array) -> None:\n",
    "    \n",
    "    # Compute the eigenmode\n",
    "    x_tilde = np.real(np.exp(eigenvalues[index] * time_vector) * x0[index])\n",
    "    \n",
    "    "
   ]
  },
  {
   "cell_type": "code",
   "execution_count": null,
   "metadata": {},
   "outputs": [],
   "source": [
    "def plot_shorperiod(eigenvalue: complex, initial_condition: complex) -> None:\n",
    "    \n",
    "    time_vector = np.linspace(0, 10, 1000)\n",
    "    x_tilde = np.real(np.exp(eigenvalue * time_vector) * initial_condition)\n",
    "    \n",
    "    fig, ax = plt.subplots(figsize=(10, 5))\n",
    "    plt.title(f\"Eigenmode for eigenvalue {eigenvalue}\")\n",
    "    plt.plot(time_vector, x_tilde)\n",
    "    plt.xlabel(\"Time [s]\")\n",
    "    plt.ylabel(\"Amplitude\")\n",
    "    plt.axhline(0, color='black', lw=0.5)  # Horizontal line through the origin\n",
    "    plt.show() "
   ]
  },
  {
   "cell_type": "code",
   "execution_count": null,
   "metadata": {},
   "outputs": [],
   "source": [
    "def plot_eigenmode(mode: str, x_tilde: np.array) -> None:\n",
    "    if mode == \"sp\":\n",
    "        time_vector = np.linspace(0, 1, 1000)\n",
    "        fig, ax = plt.subplots(figsize=(10, 5))\n",
    "        plt.title(f\"Eigenmode for eigenvalue -16.87 \\\\pm 13.11j\")\n",
    "    elif mode == \"ph\":\n",
    "        time_vector = np.linspace(0, 1000, 10000)\n",
    "        fig, ax = plt.subplots(figsize=(20, 5))\n",
    "        plt.title(f\"Eigenmode for eigenvalue -0.0052 \\\\pm 1.76j\")\n",
    "    else:\n",
    "        print(\"Invalid mode! Please use 'sp' for short period or 'ph' for phugoid.\")\n",
    "        return\n",
    "    \n",
    "    \n",
    "    plt.plot(time_vector, x_tilde)\n",
    "    plt.xlabel(\"Time [s]\")\n",
    "    plt.ylabel(\"Amplitude\")\n",
    "    plt.axhline(0, color='black', lw=0.5)  # Horizontal line through the origin\n",
    "    plt.show() "
   ]
  },
  {
   "cell_type": "code",
   "execution_count": null,
   "metadata": {},
   "outputs": [],
   "source": [
    "x_tilde_sp = np.real(np.exp(-16.87 * time_vector_short_period) * x0[0])\n",
    "plot_eigenmode(\"sp\", x_tilde_sp)"
   ]
  },
  {
   "cell_type": "code",
   "execution_count": null,
   "metadata": {},
   "outputs": [],
   "source": [
    "time_vector_phugoid = np.linspace(0, 100, 1000)\n",
    "plot_eigenmode(3, eigenvalues, eigenvectors, x0, time_vector_phugoid)"
   ]
  },
  {
   "cell_type": "code",
   "execution_count": null,
   "metadata": {},
   "outputs": [],
   "source": [
    "# initial conditions\n",
    "x0 = np.array([0, 0.1, 0, 0])\n",
    "x0 = np.random.uniform(-0.1, 0.1, 4)\n",
    "\n",
    "x_tilde = np.linalg.inv(eigenvectors) @ x0\n",
    "\n",
    "print(x_tilde)"
   ]
  },
  {
   "cell_type": "code",
   "execution_count": null,
   "metadata": {},
   "outputs": [],
   "source": [
    "eigenvalues = np.linalg.eig(A)[0]\n",
    "time = np.linspace(0, 1, 1000) # 10 sedonds, 1000 time points\n",
    "x_tilde = np.exp(eigenvalues[0] * time) * x_tilde[0]\n",
    "\n",
    "plt.axhline(0, color='black', lw=0.5)  # Horizontal line through the origin\n",
    "plt.axvline(0, color='black', lw=0.5)  # Vertical line through the origin\n",
    "plt.plot(time, x_tilde)\n",
    "plt.xlabel('Time [s]')\n",
    "\n",
    "plt.show()"
   ]
  },
  {
   "cell_type": "code",
   "execution_count": null,
   "metadata": {},
   "outputs": [],
   "source": [
    "eigenvalues = np.linalg.eig(A)[0]\n",
    "time = np.linspace(0, 1000, 10000) # 10 sedonds, 1000 time points\n",
    "x_tilde_3 = np.exp(eigenvalues[2] * time) * x_tilde[2]\n",
    "\n",
    "fig, ax = plt.subplots(figsize=(20, 5))\n",
    "plt.axhline(0, color='black', lw=0.5)  # Horizontal line through the origin\n",
    "plt.axvline(0, color='black', lw=0.5)  # Vertical line through the origin\n",
    "plt.plot(time, x_tilde_3)"
   ]
  },
  {
   "cell_type": "code",
   "execution_count": null,
   "metadata": {},
   "outputs": [],
   "source": []
  }
 ],
 "metadata": {
  "language_info": {
   "name": "python"
  }
 },
 "nbformat": 4,
 "nbformat_minor": 2
}
