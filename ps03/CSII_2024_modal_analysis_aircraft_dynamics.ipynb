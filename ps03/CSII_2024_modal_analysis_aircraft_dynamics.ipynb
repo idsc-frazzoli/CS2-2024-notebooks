{
 "cells": [
  {
   "cell_type": "markdown",
   "metadata": {},
   "source": [
    "# CSII 2024 Exercise 02: Diagonalization, Modal Analysis, Controllability and Observability\n",
    "\n",
    "Welcome to the third CSII notebook! In the last notebook we introduced two models: the _aircraft model_ and the _CSII Bot_. In this notebook we will futher invesigate the aircraft model with the following objectives:\n",
    "\n",
    "1) Use diagonalization to compute the modal decomposition of the aircraft model,\n",
    "2) Visualize the different modes of the system,\n",
    "3) Show if the model is controllable and/or observable.\n",
    "\n",
    "To start, run the following cell to install the necessary modules and import the libraries."
   ]
  },
  {
   "cell_type": "code",
   "execution_count": null,
   "metadata": {},
   "outputs": [],
   "source": [
    "%pip install D:\\6CS2Solutions\\cs2solutions\n",
    "\n",
    "from cs2solutions import decomp\n",
    "\n",
    "import numpy as np\n",
    "import control as ct\n",
    "import matplotlib.pyplot as plt\n",
    "\n",
    "np.set_printoptions(suppress=True, precision=3)"
   ]
  },
  {
   "cell_type": "markdown",
   "metadata": {},
   "source": [
    "## Exercise 1: Modal Decomposition of the Aircraft Model\n",
    "\n",
    "To perform the modal decomposition of the System we need to find a coordinate transformation $\\tilde{x} = T^{-1} x$, that diagonalizes the A-matrix of the state-space model.\n",
    "\n",
    "$$\n",
    "\\begin{cases}\n",
    "\\dot{x} &= Ax + Bu, \\\\\n",
    "y &= Cx + Du.\n",
    "\\end{cases}\n",
    "\\quad \\Rightarrow \\quad\n",
    "\\begin{cases}\n",
    "T\\dot{x} &= AT\\tilde{x} + Bu, \\\\\n",
    "y &= CT\\tilde{x} + Du.\n",
    "\\end{cases}\n",
    "$$\n",
    "\n",
    "If we multiply the equations by $T^{-1}$ we find a definition for the state-space model in modal coordinates:\n",
    "\n",
    "$$\n",
    "\\begin{align}\n",
    "\\dot{\\tilde{x}} &= (T^{-1}AT)\\tilde{x} + (T^{-1}B)u\\\\\n",
    "y &= (CT)\\tilde{x} + Du\n",
    "\\end{align}\n",
    "$$\n",
    "\n",
    "And we can define the new matrices as follows: \n",
    "$\\quad \\tilde{A} = T^{-1}AT, \\quad \\tilde{B} = T^{-1}B, \\quad\\tilde{C} = CT, \\quad \\tilde{D} = D$\n",
    "\n",
    "Remember that this coordinate transform does not change the structural properties of the system and the time response is exactly the same!"
   ]
  },
  {
   "cell_type": "markdown",
   "metadata": {},
   "source": [
    "### 1.1 Define Aircraft Model\n",
    "For this exercise we use the aircraft model introduced in the __Introductory Notebook 2__. Feel free to look at this notebook again if you need to. Run the next cell to define the longitudinal dynamics of the aircraft."
   ]
  },
  {
   "cell_type": "code",
   "execution_count": null,
   "metadata": {},
   "outputs": [],
   "source": [
    "# Given matrices A and B\n",
    "A = np.array([\n",
    "    [-15.5801,  4.7122, -38.7221,  0.0000],\n",
    "    [ -0.5257, -0.0166,   2.3501, -9.7847],\n",
    "    [  4.4044, -1.5325, -18.1615, -0.7044],\n",
    "    [  0.9974,  0.0000,   0.0000,  0.0000]\n",
    "])\n",
    "\n",
    "B = np.array([\n",
    "    [-421.2001],\n",
    "    [   1.3231],\n",
    "    [ -17.3812],\n",
    "    [   0.0000]\n",
    "])\n",
    "\n",
    "# Define the output matrix C and the feedthrough matrix D\n",
    "C = np.array([0, 0, 0, 1])\n",
    "D = 0\n",
    "\n",
    "# Create a state-space system using the matrices A, B, C, and D\n",
    "sys = ct.ss(A, B, C, D)"
   ]
  },
  {
   "cell_type": "markdown",
   "metadata": {},
   "source": [
    "### 1.2 Diagonalization of the A-Matrix\n",
    "\n",
    "To diagonalize the A-matrix we can perform the following transformations: $\\tilde{x} = Vx, \\quad \\tilde{A} =\\Lambda = V^{-1}AV$, where $V$ is the matrix containing the eigenvectors of $A$ as columns and $\\Lambda = diag(\\lambda_1, ..., \\lambda_n)$ with the eigenvalues $\\lambda_i$ of A.\n",
    "\n",
    "Try to implement the function below that calculates the eigenvalues and the eigenvectors of a matrix.<br>\n",
    "\\\n",
    "__Hints:__\n",
    "1) Use `np.linalg.eig()` to compute the eigenvalues and eigenvectors.\n",
    "2) Use `np.linalg.inv()` to compute the inverse of a matrix.\n",
    "3) Matrix multiplication in python is done with `A @ B`.\n",
    "\n"
   ]
  },
  {
   "cell_type": "code",
   "execution_count": null,
   "metadata": {},
   "outputs": [],
   "source": [
    "\"\"\"\n",
    "What do you think about just giving the link to the numpy library (linalg module), so they need to find the appropriate functions as well?\n",
    "Otherwise it is maybe too straight forward?\n",
    "\"\"\"\n",
    "\n",
    "\n",
    "def diagonalize_system(A: np.array, B: np.array, C: np.array, D: np.array) -> tuple[np.array]:\n",
    "    \"\"\"\n",
    "    Diagonalizes a linear time-invariant system represented by its state-space matrices.\n",
    "\n",
    "    Parameters:\n",
    "    A (np.array): State matrix of the system.\n",
    "    B (np.array): Input matrix of the system.\n",
    "    C (np.array): Output matrix of the system.\n",
    "    D (np.array): Feedthrough matrix of the system.\n",
    "\n",
    "    Returns:\n",
    "    A_tilde (np.array): Diagonalized state matrix.\n",
    "    B_tilde (np.array): Diagonalized input matrix.\n",
    "    C_tilde (np.array): Diagonalized output matrix.\n",
    "    D_tilde (np.array): Diagonalized feedthrough matrix.\n",
    "    \"\"\"\n",
    "    \n",
    "    # TODO: replace the next line with your implementation\n",
    "    eigenvalues, eigenvectors =\n",
    "    \n",
    "    # Compute the transformed state-space representation\n",
    "    # TODO: replace the next line with your implementation\n",
    "    A_tilde =\n",
    "    B_tilde =\n",
    "    C_tilde =\n",
    "    D_tilde =\n",
    "    \n",
    "    return A_tilde, B_tilde, C_tilde, D_tilde"
   ]
  },
  {
   "cell_type": "markdown",
   "metadata": {},
   "source": [
    "The code below serves to test your code. Feel free to run the unit test.\n",
    "\n",
    "#TODO: Add permalinks\n"
   ]
  },
  {
   "cell_type": "code",
   "execution_count": null,
   "metadata": {},
   "outputs": [],
   "source": [
    "decomp.test_diagonalize_system(diagonalize_system, decomp.sol_diagonalize_system, A, B, C, D, False)"
   ]
  },
  {
   "cell_type": "markdown",
   "metadata": {},
   "source": [
    "## Exercise 2: Modal Analysis\n",
    "\n",
    "In this exercise, we aim to analyze and visualize the modes of the aircraft model. This involves examining the relationship between each eigenvalue of the system and its corresponding eigenvector, which satisfies the equation $Av_i = \\lambda_i v_i$. Each eigenvector represents the configuration of a mode within the system.\n",
    "\n",
    "Looking again at the eigenvalues of matrix $A$, we find four eigenvalues: $\\lambda_{sp} = -16.8739 \\pm 13.1129j$ and $\\lambda_{ph} = -0.0052 \\pm 1.7644j$. It's important to note that these represent two complex-conjugate pairs of eigenvalues (and thus, eigenvectors), indicating just two distinct modes in the system. In aviation, these are referred to as the **Short Period** mode and the **Phugoid** mode.\n",
    "\n",
    "The eigenvalue tells us how the amplitude of the mode changes over time, according to $\\tilde{x}_i(t) = e^{\\lambda_it}\\tilde{x}_i(0)$. From this, we understand that the Short Period mode fades away quickly, while the Phugoid mode lasts longer and is more visible in the system's behavior. Since both eigenvalues are complex we expect oscillations to occur."
   ]
  },
  {
   "cell_type": "markdown",
   "metadata": {},
   "source": [
    "### 2.1 Short Period Mode\n",
    "The Short Period mode is a key oscillatory behavior of an aircraft, mainly affecting its pitch motion. This mode has a high frequency and low damping, typically seen in response to changes in pitch control inputs and angle of attack. It is one of the two main longitudinal motion modes, the other being the Phugoid mode, which is characterized by lower frequency and higher damping. The Short Period mode is crucial for assessing the aircraft's agility.\n",
    "\n",
    "In the Short Period mode, the aircraft experiences fast oscillations in pitch, or rotation around the lateral axis. This behavior is controlled by both inertia and aerodynamic forces, making it essential for evaluating the aircraft's stability and responsiveness to control inputs.\n",
    "\n",
    "![short_period.png](images/short_period.png)"
   ]
  },
  {
   "cell_type": "markdown",
   "metadata": {},
   "source": [
    "#### Analyzing the Short Period Mode\n",
    "To investigate the Short Period mode, we look at the eigenvalues and eigenvectors of the system matrix $A$. The eigenvalues give us insight into the stability and dynamics of the mode, while the eigenvectors show us the mode's shape in state space."
   ]
  },
  {
   "cell_type": "code",
   "execution_count": null,
   "metadata": {},
   "outputs": [],
   "source": [
    "eigenvalues, eigenvectors = np.linalg.eig(A)\n",
    "\n",
    "print(eigenvectors)"
   ]
  },
  {
   "cell_type": "markdown",
   "metadata": {},
   "source": [
    "We start by setting the initial condition $x_0$ for our simulation to align with the real part of the eigenvector linked to the eigenvalue of the Short Period mode. Given the linear nature of our system, utilizing this initial condition allows us to precisely capture and analyze the dynamics inherent to the Short Period mode.\n",
    "\n",
    "Considering that the first two eigenvectors of matrix $A$ are associated with the Short Period mode, we have the freedom to select either one of them for our analysis. We focus solely on the real part of the eigenvector because our initial condition must be physically plausible, excluding the possibility of employing a complex number for this purpose. It is also noteworthy that since these two eigenvectors are complex conjugates of each other, their real parts merge into an identical vector, simplifying our selection process.\n",
    "\n",
    "The real part of these eigenvectors is calculated as follows:\n",
    "\n",
    "$$ Re(v_{1, 2}) = Re \\left( \\begin{bmatrix} -0.946 \\\\ 0.011 \\mp 0.02j \\\\ -0.03 \\pm 0.318j \\\\ 0.035 \\pm 0.027 \\end{bmatrix} \\right) = \\begin{bmatrix} -0.946 \\\\ 0.011 \\\\ -0.03 \\\\ 0.035 \\end{bmatrix}. $$\n",
    "\n",
    "This representation allows us to understand the physical configuration of the aircraft as it responds to the dynamics of the Short Period mode, based on the specified initial condition.\n"
   ]
  },
  {
   "cell_type": "code",
   "execution_count": null,
   "metadata": {},
   "outputs": [],
   "source": [
    "# Set the eigenvector for the short period mode as the initial condition\n",
    "# Note: since the eigenvector is complex, we only take the real part\n",
    "\n",
    "x0_sp = np.real(eigenvectors[:, 0])\n",
    "\n",
    "print(x0_sp)"
   ]
  },
  {
   "cell_type": "markdown",
   "metadata": {},
   "source": [
    "Using the `ct.initial_response()` function from the `control` library, we simulate the aircraft's response over a short time span, as this mode is characterized by fast dynamics."
   ]
  },
  {
   "cell_type": "code",
   "execution_count": null,
   "metadata": {},
   "outputs": [],
   "source": [
    "# Compute the initial response of the system.\n",
    "# The mode is fast and the oscillations are damped, so we simulate up to T=0.5s to see the response.\n",
    "\n",
    "\"\"\"\n",
    "General comment: maybe it's nice for the students to get a reference (hyperlink) to the documentation of the libraries, as\n",
    "this is an important part of these notebooks (to get used to work with premade functions). If we make it as easy as possible\n",
    "it is more probable that it will be done.\n",
    "\"\"\"\n",
    "\n",
    "response_sp = ct.initial_response(sys, T=0.5, X0=x0_sp)\n",
    "states_sp = response_sp.states # extract the state variables\n",
    "time_sp = response_sp.time # extract the time vector"
   ]
  },
  {
   "cell_type": "markdown",
   "metadata": {},
   "source": [
    "Lasty, we plot the state variable and see how they evolve over time for the short period mode."
   ]
  },
  {
   "cell_type": "code",
   "execution_count": null,
   "metadata": {},
   "outputs": [],
   "source": [
    "plt.figure(figsize=(8, 4))  # Set figure size\n",
    "\n",
    "# Plot the state variables\n",
    "plt.plot(time_sp, states_sp[2], 'g-', label='Angle of attack ($w$)', linewidth=2)\n",
    "plt.plot(time_sp, states_sp[3], 'r-', label='Pitch angle ($\\\\theta$)', linewidth=2)\n",
    "\n",
    "# Enhancements for readability\n",
    "plt.xlabel('Time [s]')  # Label for the x-axis\n",
    "plt.ylabel('Magnitude')  # Label for the y-axis\n",
    "plt.title('State Variables over Time')  # Title of the plot\n",
    "plt.legend(fontsize=12)  # Legend with a slightly larger font\n",
    "plt.grid(True)  # Add grid lines for better readability\n",
    "\n",
    "plt.tight_layout()  # Adjust the plot to fit the figure\n",
    "plt.show()\n"
   ]
  },
  {
   "cell_type": "markdown",
   "metadata": {},
   "source": [
    "### 2.2 Phugoid Mode\n",
    "\n",
    "The Phugoid mode is a fundamental longitudinal mode of an aircraft that typically presents as a long-period oscillation. It is characterized by coupled variations in altitude and speed but with little change in the aircraft's pitch angle. This mode involves the exchange of kinetic and potential energy — similar to a roller coaster going up and down gentle hills.\n",
    "\n",
    "![phugoid.png](images/phugoid.png)\n",
    "\n",
    "**Understanding the Phugoid Mode Dynamics** <br>\n",
    "The Phugoid mode dynamics can be observed in the state variables:\n",
    "- **Forward Speed $u$:** <br>\n",
    "    Represents the aircraft's speed in the direction of the longitudinal axis. In the Phugoid mode, this will oscillate as the aircraft gains and loses speed during the ascent and descent phases.\n",
    "\n",
    "- **Pitch Angle $\\theta$:** <br>\n",
    "    Changes in pitch angle are usually small and gradual in the Phugoid mode. This state variable helps us understand how the aircraft's orientation varies over time, with a slow exchange between kinetic and potential energy.\n",
    "\n",
    "**Initial Conditions for Phugoid Mode** <br>\n",
    "The initial conditions for the Phugoid mode are set based on the eigenvector corresponding to the Phugoid eigenvalues. These initial conditions reflect a disturbance that excites the Phugoid mode without significantly affecting other modes."
   ]
  },
  {
   "cell_type": "code",
   "execution_count": null,
   "metadata": {},
   "outputs": [],
   "source": [
    "# Here we choose the real part of the third eigenvector as the initial condition\n",
    "x0_ph = np.real(eigenvectors[:, 2])\n",
    "\n",
    "print(x0_ph)"
   ]
  },
  {
   "cell_type": "markdown",
   "metadata": {},
   "source": [
    "The step response of the system with initial condition $x_{0,\\text{phugoid}}$ simulates how the aircraft will behave over time when the Phugoid mode is excited. The plot shows the oscillatory nature of $u$ and $\\theta$, with $u$ depicting the energy exchange in the system and $\\theta$ showing slight variations corresponding to the changes in altitude and velocity.\n",
    "\n",
    "These two states oscilate with a phase shift of nearly $\\pi/2$ or equivalently $90^{\\circ}$ to one another as seen in the lecture. This coresponds to a sine-cosine behavior.\n",
    "- **Maximum Slope of $\\theta$:** (dashed line) <br>\n",
    "    $\\theta$ has maximum slope and $u$ nearly at a point with slope zero.\n",
    "- **Zero Slope of $\\theta$:** (dotted line) <br>\n",
    "    Here $\\theta$ has a slope of zero and we see that $u$ is nearly at it's point with maximum slope."
   ]
  },
  {
   "cell_type": "code",
   "execution_count": null,
   "metadata": {},
   "outputs": [],
   "source": [
    "# Compute the step response with initial conditions x0\n",
    "response_ph = ct.step_response(sys, T=10, X0=x0_ph)\n",
    "\n",
    "# Define the figure size and plot the state variables\n",
    "plt.figure(figsize=(8, 4))\n",
    "plt.plot(response_ph.time, response_ph.states[1], 'b-', label='$u$', linewidth=2)\n",
    "plt.plot(response_ph.time, response_ph.states[3], 'r-', label='$\\\\theta$', linewidth=2)\n",
    "\n",
    "# Define the times where vertical lines will be placed and their labels\n",
    "time_markers = [(2, 'max slope of $\\\\theta$', '--'), (2.77, 'slope of $\\\\theta = 0$', '-.')]\n",
    "\n",
    "# Add vertical lines and points at their intersection with state curves\n",
    "for tm, label, ls in time_markers:\n",
    "    plt.axvline(x=tm, color='black', linestyle=ls, linewidth=1, label=label)\n",
    "    idx = (np.abs(response_ph.time - tm)).argmin()  # Find the index of the time vector closest to the vertical line\n",
    "    plt.plot(response_ph.time[idx], response_ph.states[1][idx], 'ko')  # Intersection with u\n",
    "    plt.plot(response_ph.time[idx], response_ph.states[3][idx], 'ko')  # Intersection with theta\n",
    "\n",
    "# Add grid, labels, title, and legend\n",
    "plt.grid(True)\n",
    "plt.xlabel('Time [s]')\n",
    "plt.ylabel('Magnitude')\n",
    "plt.title('Oscillatory Response of $u$ and $\\\\theta$ with phase shift of approx. $\\\\pi/2$')\n",
    "plt.legend(loc='right')\n",
    "\n",
    "plt.tight_layout()\n",
    "plt.show()"
   ]
  },
  {
   "cell_type": "markdown",
   "metadata": {},
   "source": [
    "To see that the oscilations of these two states are actually damped we need to simulate the response for a larger time interval. Here we choose an interval of $T=1000s$. We can observe that the states are stable and eventually converge to zero. This shows the difference of the speed of the short period and phugoid. The phugoid is much slower, i.e. it needs much more time to converge compared to the short period."
   ]
  },
  {
   "cell_type": "code",
   "execution_count": null,
   "metadata": {},
   "outputs": [],
   "source": [
    "# Calculate eigenvalues, eigenvectors, and set initial condition\n",
    "x0 = np.real(eigenvectors[:, 2])\n",
    "\n",
    "# Compute the step response for the system between 0 and 700 seconds with initial condition (x0_ph)\n",
    "time = np.linspace(0, 700, 10000)\n",
    "step_response = ct.step_response(sys, time, x0_ph)\n",
    "\n",
    "# Create a figure and two subplots\n",
    "fig, axs = plt.subplots(1, 2, figsize=(20, 6))\n",
    "\n",
    "# First plot - Full step response\n",
    "axs[0].plot(step_response.time, step_response.states[1], 'b-', label='$u$', linewidth=2)\n",
    "axs[0].plot(step_response.time, step_response.states[3], 'r-', label='$\\\\theta$', linewidth=2)\n",
    "axs[0].set_title('Phugoid Mode State Variables Over Time')\n",
    "axs[0].set_xlabel('Time [s]')\n",
    "axs[0].set_ylabel('Magnitude')\n",
    "axs[0].grid(True)\n",
    "axs[0].legend()\n",
    "\n",
    "# Second plot - Zoomed-in response from T=600s to T=700s\n",
    "axs[1].plot(step_response.time, step_response.states[1], 'b-', label='$u$', linewidth=2)\n",
    "axs[1].plot(step_response.time, step_response.states[3], 'r-', label='$\\\\theta$', linewidth=2)\n",
    "axs[1].axhline(y=48.35, color='k', linestyle=':', label='$y = 48.35$')  # Add horizontal line\n",
    "axs[1].set_xlim(600, 700)  # Set x-axis limits to zoom in\n",
    "axs[1].set_title('Zoomed In Phugoid Mode Response (T=600s to T=700s)')\n",
    "axs[1].set_xlabel('Time [s]')\n",
    "axs[1].set_ylabel('Magnitude')\n",
    "axs[1].grid(True)\n",
    "axs[1].legend()\n",
    "\n",
    "plt.tight_layout()\n",
    "plt.show()\n"
   ]
  },
  {
   "cell_type": "markdown",
   "metadata": {},
   "source": [
    "## Exercise 3: Controllability and Observability\n",
    "\n",
    "In the last part of this notebook we want to show if the aircraft model is controllable (reachable) and/or observable. This is especially important for designing a controller. To understand how we can change the behavior of the states through our inputs, we need to assess the controllability and observability of our system.\n",
    "\n",
    "Recall that in the lecture 2 the __reachability matrix__ $\\mathcal{R}$ and the __observability matrix__ $\\mathcal{O}$ were introduced:\n",
    "\n",
    "$$\n",
    "\\mathcal{R} =\n",
    "\\begin{bmatrix} B & AB & A^2B & ... & A^{n-1}B \\end{bmatrix},\n",
    "\\qquad\n",
    "\\mathcal{O} = \\begin{bmatrix} C \\\\ CA \\\\ \\vdots \\\\ CA^{n-1} \\end{bmatrix}\n",
    "$$\n",
    "\n",
    "The system is fully controllable or observable if $rank(\\mathcal{R}) = n$ or $rank(\\mathcal{O}) = n$ respectively.\n",
    "\n",
    "\n",
    "Try to implement the functions below that check the controllability / observability of the system.\n",
    "\n",
    "\\\n",
    "Hints:\n",
    "- use `A.shape[0]` to get the number of states $n$.\n",
    "- use `np.linalg.matrix_power(M, i)` to calculate the matrix power $M^i$.\n",
    "- use `M = np.hstack(M, v)` to append a columnvector $v$ to the matrix $M$.\n",
    "- use `M = np.vstack(M, v)` to append a rowvector $v$ to the matrix $M$.\n",
    "\n",
    "As always, feel free to take a look at the documentation of the numpy library."
   ]
  },
  {
   "cell_type": "code",
   "execution_count": null,
   "metadata": {},
   "outputs": [],
   "source": [
    "def controllable(A: np.array, B: np.array) -> bool:\n",
    "    \"\"\"\n",
    "    Check the controllability of a system given the state-space representation.\n",
    "\n",
    "    Parameters:\n",
    "    - ``A`` (np.array): The state matrix.\n",
    "    - ``B`` (np.array): The input matrix.\n",
    "\n",
    "    Returns:\n",
    "    - () -> bool: A boolean indicating whether the system is controllable.\n",
    "    \"\"\"\n",
    "    \n",
    "    # TODO: Get the number of columns in matrix A.\n",
    "    n =\n",
    "    \n",
    "    \"\"\"\n",
    "    Maybe leave out the hints for the B matrix?\n",
    "    \"\"\"\n",
    "    # TODO: Initialize the reachability matrix R with matrix B\", since the first column of R is always B.\"\n",
    "    R =\n",
    "    \n",
    "    # Use a for loop to compute each column of the reachability matrix and append it to R.\n",
    "    for i in range(1, n):  # Iterate from 1 to n-1.\n",
    "        # TODO: Compute the i-th column of the reachability matrix and concatenate it horizontally to R.\n",
    "        R =\n",
    "        \n",
    "    # TODO: Compute the rank of the reachability matrix.\n",
    "    rank =\n",
    "    \n",
    "    if rank == A.shape[0]:\n",
    "        print(f\"The system is controllable with rank {rank}.\")\n",
    "    else:\n",
    "        print(f\"The system is not controllable with rank {rank}.\")\n",
    "    return False"
   ]
  },
  {
   "cell_type": "code",
   "execution_count": null,
   "metadata": {},
   "outputs": [],
   "source": [
    "def controllable(A: np.array, B: np.array) -> bool:\n",
    "    \"\"\"\n",
    "    Check the controllability of a system given the state-space representation.\n",
    "\n",
    "    Parameters:\n",
    "    - ``A`` (np.array): The state matrix.\n",
    "    - ``B`` (np.array): The input matrix.\n",
    "\n",
    "    Returns:\n",
    "    - () -> bool: A boolean indicating whether the system is controllable.\n",
    "    \"\"\"\n",
    "    \n",
    "    n = A.shape[0]  # Get the number of rows in matrix A.\n",
    "    R = B  # Initialize the controllability matrix R with matrix B, since the first column of R is always B.\n",
    "    \n",
    "    for i in range(1, n):  # Iterate from 1 to n-1.\n",
    "        # Calculate the reachability matrix for each power of A and concatenate it horizontally to R.\n",
    "        R = np.hstack((R, np.linalg.matrix_power(A, i) @ B))\n",
    "    \n",
    "    rank = np.linalg.matrix_rank(R)\n",
    "    \n",
    "    if rank == A.shape[0]:\n",
    "        print(f\"The system is controllable with rank {rank}.\")\n",
    "    else:\n",
    "        print(f\"The system is not controllable with rank {rank}.\")\n",
    "    return rank == n"
   ]
  },
  {
   "cell_type": "code",
   "execution_count": null,
   "metadata": {},
   "outputs": [],
   "source": [
    "def observable(A: np.array, C: np.array) -> bool:\n",
    "    \"\"\"\n",
    "    Check the observability of a system given the state-space representation.\n",
    "\n",
    "    Parameters:\n",
    "    - ``A`` (np.array): The state matrix.\n",
    "    - ``C`` (np.array): The output matrix.\n",
    "\n",
    "    Returns:\n",
    "    - () -> bool: A boolean indicating whether the system is observable.\n",
    "    \"\"\"\n",
    "    \n",
    "    # TODO: Get the number of rows in matrix A.\n",
    "    n =\n",
    "    \n",
    "    # TODO: Initialize the observability matrix O with matrix C, since the first row of O is always C.\n",
    "    O =\n",
    "    \n",
    "    # TODO: Calculate the observability matrix for each power of A and concatenate it vertically to O.\n",
    "    for i in range(1, n):  # Iterate from 1 to n-1.\n",
    "        \n",
    "    \n",
    "    rank = np.linalg.matrix_rank(O)\n",
    "    \n",
    "    if rank == A.shape[0]:\n",
    "        print(f\"The system is observable with rank {rank}.\")\n",
    "    else:\n",
    "        print(f\"The system is not observable with rank {rank}.\")\n",
    "    return False"
   ]
  },
  {
   "cell_type": "code",
   "execution_count": null,
   "metadata": {},
   "outputs": [],
   "source": [
    "def observable(A: np.array, C: np.array) -> None:\n",
    "    \"\"\"\n",
    "    Check the observability of a system given the state-space representation.\n",
    "\n",
    "    Parameters:\n",
    "    - ``A`` (np.array): The state matrix.\n",
    "    - ``C`` (np.array): The output matrix.\n",
    "\n",
    "    Returns:\n",
    "    - () -> bool: A boolean indicating whether the system is observable.\n",
    "    \"\"\"\n",
    "\n",
    "    n = A.shape[0]  # Get the number of rows in matrix A.\n",
    "    O = C  # Initialize the observability matrix O with matrix C, since the first row of O is always C.\n",
    "    \n",
    "    \"\"\"\n",
    "    Same as above, maybe show how to extract the first row programmatically (e.g. O = C[0,:])\n",
    "    \"\"\"\n",
    "    \n",
    "    for i in range(1, n):  # Iterate from 1 to n-1.\n",
    "        # Calculate the observability matrix for each power of A and concatenate it vertically to O.\n",
    "        O = np.vstack((O, C @ np.linalg.matrix_power(A, i)))\n",
    "    \n",
    "    rank = np.linalg.matrix_rank(O)\n",
    "    \n",
    "    if rank == A.shape[0]:\n",
    "        print(f\"The system is observable with rank {rank}.\")\n",
    "    else:\n",
    "        print(f\"The system is not observable with rank {rank}.\")\n",
    "    return rank == n"
   ]
  },
  {
   "cell_type": "markdown",
   "metadata": {},
   "source": [
    "Below some unit tests to check your solutions:\n",
    "#TODO: Permalinks"
   ]
  },
  {
   "cell_type": "code",
   "execution_count": null,
   "metadata": {},
   "outputs": [],
   "source": [
    "decomp.test_controllable(controllable, decomp.sol_controllable)"
   ]
  },
  {
   "cell_type": "code",
   "execution_count": null,
   "metadata": {},
   "outputs": [],
   "source": [
    "decomp.test_observable(observable, decomp.sol_observable)"
   ]
  },
  {
   "cell_type": "markdown",
   "metadata": {},
   "source": [
    "#### __Additional Information__\n",
    "\n",
    "The `control` module has the functions `ct.ctrb(A, B)` and `ct.obsv(A, C)` that compute the reachability and observability matrices directly.\n",
    "\n",
    "Example:"
   ]
  },
  {
   "cell_type": "code",
   "execution_count": null,
   "metadata": {},
   "outputs": [],
   "source": [
    "# Compute the controllability matrix R using the ctrb() function from the control module\n",
    "R = ct.ctrb(A, B)\n",
    "\n",
    "# Calculate the rank of the controllability matrix R using the matrix_rank() function from numpy\n",
    "rank_R = np.linalg.matrix_rank(R)\n",
    "\n",
    "# Compute the observability matrix O using the obsv() function from the control module\n",
    "O = ct.obsv(A, C)\n",
    "\n",
    "# Calculate the rank of the observability matrix O using the matrix_rank() function from numpy\n",
    "rank_O = np.linalg.matrix_rank(O)\n",
    "\n",
    "# Print the controllability matrix R, observability matrix O, and their respective ranks\n",
    "print(\"Controllability matrix R = \\n\", R)\n",
    "print(\"Observability matrix O = \\n\", O)\n",
    "print(\"Rank of controllability matrix R = \", rank_R)\n",
    "print(\"Rank of observability matrix O = \", rank_O)"
   ]
  }
 ],
 "metadata": {
  "kernelspec": {
   "display_name": "Python 3 (ipykernel)",
   "language": "python",
   "name": "python3"
  },
  "language_info": {
   "codemirror_mode": {
    "name": "ipython",
    "version": 3
   },
   "file_extension": ".py",
   "mimetype": "text/x-python",
   "name": "python",
   "nbconvert_exporter": "python",
   "pygments_lexer": "ipython3",
   "version": "3.10.11"
  }
 },
 "nbformat": 4,
 "nbformat_minor": 2
}
