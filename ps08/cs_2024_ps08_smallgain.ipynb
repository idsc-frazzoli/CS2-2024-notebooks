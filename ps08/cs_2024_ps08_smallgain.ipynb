{
 "cells": [
  {
   "cell_type": "markdown",
   "metadata": {},
   "source": [
    "# CSII 2024 Exercise 08: Stability and Performance Robustness\n",
    "&copy; 2024 ETH Zurich, Timm Grigat, Suno Dieckmann, Dejan Milojevic, Niclas Scheuer, Roy Werder; Institute for Dynamic Systems and Control; Prof. Emilio Frazzoli\n",
    "\n",
    "## Description\n",
    "This week's Jupyter notebook will include the small-gain theorem, the stability of feedback control schemes, and performance robustness. "
   ]
  },
  {
   "cell_type": "code",
   "execution_count": null,
   "metadata": {},
   "outputs": [],
   "source": [
    "%pip install cs2solutions --force-reinstall"
   ]
  },
  {
   "cell_type": "code",
   "execution_count": null,
   "metadata": {},
   "outputs": [],
   "source": [
    "from cs2solutions import inf_pkg\n",
    "import control as ct\n",
    "import numpy as np\n",
    "\n",
    "np.set_printoptions(suppress=True, precision=3)"
   ]
  },
  {
   "cell_type": "markdown",
   "metadata": {},
   "source": [
    "### $H^\\infty$ norm\n",
    "\n",
    "The $H^\\infty$ norm that we will use to check\n",
    "the stability of our systems is defined below. The $H^\\infty$ norm essentially looks for the highest singular value across all frequencies."
   ]
  },
  {
   "cell_type": "code",
   "execution_count": null,
   "metadata": {},
   "outputs": [],
   "source": [
    "def systemInfnorm(system: ct.TransferFunction) -> float:\n",
    "    \"\"\"\n",
    "    Returns an approximation of the infinity norm of the system\n",
    "\n",
    "    Parameters:\n",
    "    - ``system`` (ct.TransferFunction): The system to compute the infinity norm of\n",
    "\n",
    "    Returns:\n",
    "    - float: The infinity norm of the system\n",
    "    \"\"\"\n",
    "    # Create a range of frequencies to analyze over\n",
    "    omega = np.linspace(-4, 4, 1000)\n",
    "    H = system(omega * 1j)\n",
    "\n",
    "    # Consider the MIMO case\n",
    "    if system.ninputs > 1 or system.noutputs > 1:\n",
    "        # Calculate singular values\n",
    "        singular_values = [np.linalg.svd(H[..., i])[1] for i in range(len(omega))]\n",
    "    # Consider the SISO case\n",
    "    else:\n",
    "        singular_values = [np.absolute(H[..., i]) for i in range(len(omega))]\n",
    "\n",
    "    # Return the highest singular value\n",
    "    return np.vstack(singular_values).max()"
   ]
  },
  {
   "cell_type": "markdown",
   "metadata": {},
   "source": [
    "# Exercise 1: Small-gain theorem\n",
    "\n",
    "Consider the following system with three transfer functions: $\\alpha, P_1, P_2$. The functions $P_1, P_2$ can be accessed using ``inf_pkg.SISO(num)`` as demonstrated below."
   ]
  },
  {
   "cell_type": "code",
   "execution_count": null,
   "metadata": {},
   "outputs": [],
   "source": [
    "tf1 = inf_pkg.SISO(1)\n",
    "print(tf1)\n",
    "\n",
    "tf2 = inf_pkg.SISO(2)\n",
    "print(tf2)"
   ]
  },
  {
   "cell_type": "markdown",
   "metadata": {},
   "source": [
    "Write a function that checks that all conditions of the small-gain theorem are fulfilled. You should also implement the function __is_stable__ that checks whether a given transfer function is stable.\n",
    "\n",
    "<img src=./images/block_diagram_0.png alt=\"Image\" width=\"600\" height=\"200\"> "
   ]
  },
  {
   "cell_type": "code",
   "execution_count": null,
   "metadata": {},
   "outputs": [],
   "source": [
    "alpha = 0.5\n",
    "\n",
    "def is_stable(system: ct.TransferFunction) -> bool:\n",
    "    \"\"\"\n",
    "    Returns whether the system is stable\n",
    "\n",
    "    Parameters:\n",
    "    - ``system`` (ct.TransferFunction): The system to check for stability\n",
    "\n",
    "    Returns:\n",
    "    - bool: Whether the system is stable\n",
    "    \"\"\"\n",
    "    #TODO\n",
    "    return False\n",
    "\n",
    "def small_gain_theorem(systems: list[ct.TransferFunction]) -> bool:\n",
    "    \"\"\"\n",
    "    Checks if the small gain theorem is satisfied for the given systems.\n",
    "\n",
    "    Parameters:\n",
    "    - ``systems`` (list[ct.TransferFunction]): The systems to check the small gain theorem for\n",
    "\n",
    "    Returns:\n",
    "    - bool: Whether the small gain theorem is satisfied\n",
    "    \"\"\"\n",
    "    #TODO\n",
    "    return False"
   ]
  },
  {
   "cell_type": "code",
   "execution_count": null,
   "metadata": {},
   "outputs": [],
   "source": [
    "Palpha = ct.TransferFunction([alpha], [1])\n",
    "P1 = inf_pkg.SISO(1)\n",
    "P2 = inf_pkg.SISO(2)\n",
    "\n",
    "print(small_gain_theorem([Palpha, P1, P2]))"
   ]
  },
  {
   "cell_type": "markdown",
   "metadata": {},
   "source": [
    "### Testing your functions\n",
    "In the following cell you can test the implemented function.\n",
    "To do so simply change the value for $\\alpha$.$\\\\$\n",
    "\n",
    "For which $\\alpha$ will the small gain theorem be fulfilled?$\\\\$\n",
    "\n",
    "Choose from the following systems or define your own:\n",
    "$\\\\\n",
    "P_0 = \\frac{1}{s^2+2s+4} \\\\\n",
    "P_1 = \\frac{1}{s+1}  \\\\\n",
    "P_2 = \\frac{1}{s-1}  \\\\\n",
    "P_3 = \\frac{s-1}{s^2+4s+9} \\\\\n",
    "P_4 = 5\\frac{s+1}{s+1}  \\\\\n",
    "P_5 = 11\\frac{s+1}{s-1}  \\\\\n",
    "P_6 = 2\\frac{s^2-1}{s^2+4s+9} \\\\\n",
    "$\n",
    "For which of the given systems can the small gain theorem not be used? Why?"
   ]
  },
  {
   "cell_type": "code",
   "execution_count": null,
   "metadata": {},
   "outputs": [],
   "source": [
    "alpha = 0.5\n",
    "Palpha = ct.TransferFunction([alpha], [1])\n",
    "P3 = inf_pkg.SISO(3)\n",
    "P4 = inf_pkg.SISO(4)\n",
    "# P5 = ...\n",
    "\n",
    "print(small_gain_theorem([Palpha, P3, P4]))"
   ]
  },
  {
   "cell_type": "markdown",
   "metadata": {},
   "source": [
    "### Solution\n",
    "Access the solution ``sol_small_gain_theorem`` by right-clicking and selecting \"Go to Definition (F12)\" or on [GitHub](https://github.com/idsc-frazzoli/cs2solutions/blob/f3185e17dd402ac5c504f83b502685a25a115ed3/src/cs2solutions/inf_pkg.py#L75)."
   ]
  },
  {
   "cell_type": "code",
   "execution_count": null,
   "metadata": {},
   "outputs": [],
   "source": [
    "print(inf_pkg.sol_small_gain_theorem([Palpha, P1, P2]))"
   ]
  },
  {
   "cell_type": "markdown",
   "metadata": {},
   "source": [
    "# Exercise 2: Stability\n",
    "In this exercise you will create a function called ``internal_stability_check(topbranch, bottombranch)`` that will check the internal stability of an interconnection.\n",
    "\n",
    "Just as in exercise 1, you will use ``inf_pkg.SISO(num)`` to extract various transfer functions from the diagram.\n",
    "\n",
    "__HINT:__ All the systems are SISO, so the inverse becomes rather simple.\n",
    "\n",
    "<img src=./images/block_diagram_1.png alt=\"Image\" width=\"600\" height=\"200\"> "
   ]
  },
  {
   "cell_type": "code",
   "execution_count": null,
   "metadata": {},
   "outputs": [],
   "source": [
    "# The top tf is defined as P0*P1\n",
    "# The bottom tf is defined as P2\n",
    "\n",
    "def internal_stability_check(toptf: ct.TransferFunction, bottomtf: ct.TransferFunction) -> bool:\n",
    "    \"\"\"\n",
    "    Checks if the internal stability condition is satisfied for the given systems.\n",
    "\n",
    "    Parameters:\n",
    "    - ``toptf`` (ct.TransferFunction): The top transfer function\n",
    "    - ``bottomtf`` (ct.TransferFunction): The bottom transfer function\n",
    "    \n",
    "    Returns:\n",
    "    - bool: Whether the internal stability condition is satisfied\n",
    "    \"\"\"\n",
    "    #TODO\n",
    "    return False"
   ]
  },
  {
   "cell_type": "code",
   "execution_count": null,
   "metadata": {},
   "outputs": [],
   "source": [
    "P0 = inf_pkg.SISO(0)\n",
    "P1 = inf_pkg.SISO(1)\n",
    "P2 = inf_pkg.SISO(2)\n",
    "\n",
    "print(internal_stability_check(P0*P1, P2))"
   ]
  },
  {
   "cell_type": "markdown",
   "metadata": {},
   "source": [
    "### Testing your function\n",
    "You can test your function on the systems below:\n",
    "$\\\\\n",
    "P_0 = \\frac{1}{s^2+2s+4} \\\\\n",
    "P_1 = \\frac{1}{s+1}  \\\\\n",
    "P_2 = \\frac{1}{s-1}  \\\\\n",
    "P_3 = \\frac{s-1}{s^2+4s+9} \\\\\n",
    "P_4 = 5\\frac{s+1}{s+1}  \\\\\n",
    "P_5 = 11\\frac{s+1}{s-1}  \\\\\n",
    "P_6 = 2\\frac{s^2-1}{s^2+4s+9} \\\\\n",
    "$"
   ]
  },
  {
   "cell_type": "code",
   "execution_count": null,
   "metadata": {},
   "outputs": [],
   "source": [
    "P3 = inf_pkg.SISO(3)\n",
    "P4 = inf_pkg.SISO(4)\n",
    "# P5 = ...\n",
    "\n",
    "print(internal_stability_check(P3, P4))"
   ]
  },
  {
   "cell_type": "markdown",
   "metadata": {},
   "source": [
    "### Solution\n",
    "Access the solution ``sol_internal_stability_check`` by right-clicking and selecting \"Go to Definition (F12)\" or on [GitHub](https://github.com/idsc-frazzoli/cs2solutions/blob/f3185e17dd402ac5c504f83b502685a25a115ed3/src/cs2solutions/inf_pkg.py#L91)."
   ]
  },
  {
   "cell_type": "code",
   "execution_count": null,
   "metadata": {},
   "outputs": [],
   "source": [
    "inf_pkg.sol_internal_stability_check(P0*P1, P2)"
   ]
  },
  {
   "cell_type": "markdown",
   "metadata": {},
   "source": [
    "### Bonus Exercise\n",
    "\n",
    "Try to find out experimentally whether ``small_gain_theorem`` or ``internal_stability_check`` is a more __rigorous__ test for feedback stability. You can use all aforementioned Python functions and transfer functions."
   ]
  },
  {
   "cell_type": "code",
   "execution_count": null,
   "metadata": {},
   "outputs": [],
   "source": [
    "# TODO"
   ]
  },
  {
   "cell_type": "markdown",
   "metadata": {},
   "source": [
    "# Exercise 3: Stability Robustness\n",
    "Below we check the robustness of a feedback loop with multiplicative uncertainty.\n",
    "\n",
    "<img src=./images/block_diagram_2.png alt=\"Image\" width=\"600\" height=\"200\">\n",
    "\n",
    "In order to use the small-gain theorem, the system is transformed into the following form:\n",
    ".\n",
    "$\\\\\n",
    "G(s) = -(I+P_2P_1)^{-1}P_2P_1W\n",
    "\\\\$\n",
    "\n",
    "<img src=./images/block_diagram_3.png alt=\"Image\" width=\"600\" height=\"200\">\n",
    "\n",
    "\n",
    "Apply the small gain theorem to check if the system is robust to the given perturbation and frequency weight. You can use all the functions defined earlier."
   ]
  },
  {
   "cell_type": "code",
   "execution_count": null,
   "metadata": {},
   "outputs": [],
   "source": [
    "Ptriangle = ct.TransferFunction([1], [1, 1])\n",
    "W = ct.TransferFunction([1], [1, 1])\n",
    "P1 = inf_pkg.SISO(1)\n",
    "P2 = 0 #TODO\n",
    "\n",
    "G = 0 #TODO\n",
    "\n",
    "# TODO: Print the result"
   ]
  },
  {
   "cell_type": "markdown",
   "metadata": {},
   "source": [
    "### Solution\n",
    "Using the ``small_gain_theoerem`` function defined earlier."
   ]
  },
  {
   "cell_type": "code",
   "execution_count": null,
   "metadata": {},
   "outputs": [],
   "source": [
    "Ptriangle = ct.TransferFunction([1], [1, 1])\n",
    "W = ct.TransferFunction([1], [1, 1])\n",
    "P1 = inf_pkg.SISO(1)\n",
    "P2 = inf_pkg.SISO(2)\n",
    "\n",
    "G = -(1+P2*P1)**(-1)*P2*P1*W\n",
    "\n",
    "inf_pkg.sol_small_gain_theorem([G, Ptriangle])"
   ]
  }
 ],
 "metadata": {
  "kernelspec": {
   "display_name": "Python 3",
   "language": "python",
   "name": "python3"
  },
  "language_info": {
   "codemirror_mode": {
    "name": "ipython",
    "version": 3
   },
   "file_extension": ".py",
   "mimetype": "text/x-python",
   "name": "python",
   "nbconvert_exporter": "python",
   "pygments_lexer": "ipython3",
   "version": "3.10.12"
  }
 },
 "nbformat": 4,
 "nbformat_minor": 2
}
