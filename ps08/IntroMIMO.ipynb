{
 "cells": [
  {
   "cell_type": "markdown",
   "metadata": {
    "id": "05BpUpqvPh22"
   },
   "source": [
    "# CSII 2024 Exercise 09: Introduction to MIMO Systems\n",
    "\n",
    "© 2024 ETH Zurich, Stephan König, Pierre Suter, Joël Gmür, Ivan Robuschi, Dejan Milojevic; Institute for Dynamic Systems and Control; Prof. Emilio Frazzoli\n",
    "\n",
    "Authors:\n",
    "- Stephan König; skoenig@ethz.ch\n",
    "- Pierre Suter; pisuter@ethz.ch\n",
    "- Joël Gmür; jgmuer@ethz.ch\n",
    "- Ivan Robuschi; irobuschi@ethz.ch"
   ]
  },
  {
   "cell_type": "markdown",
   "metadata": {
    "id": "t_fcc3sbiLaB"
   },
   "source": [
    "## Installation\n",
    "First we need to install and import all necessary libraries to solve the tasks. You are free to use libraries different to our recommendation. But remember that these are some of the most commonly used ones. Don't panic, the installation of all the packages may take a few seconds."
   ]
  },
  {
   "cell_type": "code",
   "execution_count": 1,
   "metadata": {
    "id": "nUBa2NIviRA4",
    "scrolled": false
   },
   "outputs": [
    {
     "name": "stdout",
     "output_type": "stream",
     "text": [
      "Requirement already satisfied: numpy in /Users/pierre/opt/anaconda3/lib/python3.9/site-packages (1.21.5)\n",
      "Requirement already satisfied: sympy in /Users/pierre/opt/anaconda3/lib/python3.9/site-packages (1.10.1)\n",
      "Requirement already satisfied: mpmath>=0.19 in /Users/pierre/opt/anaconda3/lib/python3.9/site-packages (from sympy) (1.2.1)\n",
      "Requirement already satisfied: control in /Users/pierre/opt/anaconda3/lib/python3.9/site-packages (0.9.4)\n",
      "Requirement already satisfied: numpy in /Users/pierre/opt/anaconda3/lib/python3.9/site-packages (from control) (1.21.5)\n",
      "Requirement already satisfied: scipy>=1.3 in /Users/pierre/opt/anaconda3/lib/python3.9/site-packages (from control) (1.7.3)\n",
      "Requirement already satisfied: matplotlib in /Users/pierre/opt/anaconda3/lib/python3.9/site-packages (from control) (3.5.1)\n",
      "Requirement already satisfied: cycler>=0.10 in /Users/pierre/opt/anaconda3/lib/python3.9/site-packages (from matplotlib->control) (0.11.0)\n",
      "Requirement already satisfied: fonttools>=4.22.0 in /Users/pierre/opt/anaconda3/lib/python3.9/site-packages (from matplotlib->control) (4.25.0)\n",
      "Requirement already satisfied: kiwisolver>=1.0.1 in /Users/pierre/opt/anaconda3/lib/python3.9/site-packages (from matplotlib->control) (1.3.2)\n",
      "Requirement already satisfied: packaging>=20.0 in /Users/pierre/opt/anaconda3/lib/python3.9/site-packages (from matplotlib->control) (21.3)\n",
      "Requirement already satisfied: pillow>=6.2.0 in /Users/pierre/opt/anaconda3/lib/python3.9/site-packages (from matplotlib->control) (9.0.1)\n",
      "Requirement already satisfied: pyparsing>=2.2.1 in /Users/pierre/opt/anaconda3/lib/python3.9/site-packages (from matplotlib->control) (3.0.4)\n",
      "Requirement already satisfied: python-dateutil>=2.7 in /Users/pierre/opt/anaconda3/lib/python3.9/site-packages (from matplotlib->control) (2.8.2)\n",
      "Requirement already satisfied: six>=1.5 in /Users/pierre/opt/anaconda3/lib/python3.9/site-packages (from python-dateutil>=2.7->matplotlib->control) (1.16.0)\n",
      "Requirement already satisfied: scipy in /Users/pierre/opt/anaconda3/lib/python3.9/site-packages (1.7.3)\n",
      "Requirement already satisfied: numpy<1.23.0,>=1.16.5 in /Users/pierre/opt/anaconda3/lib/python3.9/site-packages (from scipy) (1.21.5)\n",
      "Requirement already satisfied: matplotlib in /Users/pierre/opt/anaconda3/lib/python3.9/site-packages (3.5.1)\n",
      "Requirement already satisfied: cycler>=0.10 in /Users/pierre/opt/anaconda3/lib/python3.9/site-packages (from matplotlib) (0.11.0)\n",
      "Requirement already satisfied: fonttools>=4.22.0 in /Users/pierre/opt/anaconda3/lib/python3.9/site-packages (from matplotlib) (4.25.0)\n",
      "Requirement already satisfied: kiwisolver>=1.0.1 in /Users/pierre/opt/anaconda3/lib/python3.9/site-packages (from matplotlib) (1.3.2)\n",
      "Requirement already satisfied: numpy>=1.17 in /Users/pierre/opt/anaconda3/lib/python3.9/site-packages (from matplotlib) (1.21.5)\n",
      "Requirement already satisfied: packaging>=20.0 in /Users/pierre/opt/anaconda3/lib/python3.9/site-packages (from matplotlib) (21.3)\n",
      "Requirement already satisfied: pillow>=6.2.0 in /Users/pierre/opt/anaconda3/lib/python3.9/site-packages (from matplotlib) (9.0.1)\n",
      "Requirement already satisfied: pyparsing>=2.2.1 in /Users/pierre/opt/anaconda3/lib/python3.9/site-packages (from matplotlib) (3.0.4)\n",
      "Requirement already satisfied: python-dateutil>=2.7 in /Users/pierre/opt/anaconda3/lib/python3.9/site-packages (from matplotlib) (2.8.2)\n",
      "Requirement already satisfied: six>=1.5 in /Users/pierre/opt/anaconda3/lib/python3.9/site-packages (from python-dateutil>=2.7->matplotlib) (1.16.0)\n",
      "Collecting cs2solutions\n",
      "  Downloading cs2solutions-0.5.0-py3-none-any.whl.metadata (42 kB)\n",
      "\u001b[2K     \u001b[90m━━━━━━━━━━━━━━━━━━━━━━━━━━━━━━━━━━━━━━━\u001b[0m \u001b[32m42.3/42.3 kB\u001b[0m \u001b[31m386.9 kB/s\u001b[0m eta \u001b[36m0:00:00\u001b[0ma \u001b[36m0:00:01\u001b[0m\n",
      "\u001b[?25hCollecting control (from cs2solutions)\n",
      "  Downloading control-0.9.4-py3-none-any.whl.metadata (7.6 kB)\n",
      "Collecting matplotlib (from cs2solutions)\n",
      "  Downloading matplotlib-3.8.3-cp39-cp39-macosx_10_12_x86_64.whl.metadata (5.8 kB)\n",
      "Collecting numpy (from cs2solutions)\n",
      "  Using cached numpy-1.26.4-cp39-cp39-macosx_10_9_x86_64.whl.metadata (61 kB)\n",
      "Collecting scipy (from cs2solutions)\n",
      "  Downloading scipy-1.12.0-cp39-cp39-macosx_10_9_x86_64.whl.metadata (60 kB)\n",
      "\u001b[2K     \u001b[90m━━━━━━━━━━━━━━━━━━━━━━━━━━━━━━━━━━━━━━━━\u001b[0m \u001b[32m60.4/60.4 kB\u001b[0m \u001b[31m1.2 MB/s\u001b[0m eta \u001b[36m0:00:00\u001b[0mta \u001b[36m0:00:01\u001b[0m\n",
      "\u001b[?25hCollecting contourpy>=1.0.1 (from matplotlib->cs2solutions)\n",
      "  Downloading contourpy-1.2.0-cp39-cp39-macosx_10_9_x86_64.whl.metadata (5.8 kB)\n",
      "Collecting cycler>=0.10 (from matplotlib->cs2solutions)\n",
      "  Downloading cycler-0.12.1-py3-none-any.whl.metadata (3.8 kB)\n",
      "Collecting fonttools>=4.22.0 (from matplotlib->cs2solutions)\n",
      "  Downloading fonttools-4.50.0-cp39-cp39-macosx_10_9_x86_64.whl.metadata (159 kB)\n",
      "\u001b[2K     \u001b[90m━━━━━━━━━━━━━━━━━━━━━━━━━━━━━━━━━━━━━━━\u001b[0m \u001b[32m159.4/159.4 kB\u001b[0m \u001b[31m1.2 MB/s\u001b[0m eta \u001b[36m0:00:00\u001b[0ma \u001b[36m0:00:01\u001b[0m\n",
      "\u001b[?25hCollecting kiwisolver>=1.3.1 (from matplotlib->cs2solutions)\n",
      "  Downloading kiwisolver-1.4.5-cp39-cp39-macosx_10_9_x86_64.whl.metadata (6.4 kB)\n",
      "Collecting packaging>=20.0 (from matplotlib->cs2solutions)\n",
      "  Using cached packaging-24.0-py3-none-any.whl.metadata (3.2 kB)\n",
      "Collecting pillow>=8 (from matplotlib->cs2solutions)\n",
      "  Downloading pillow-10.2.0-cp39-cp39-macosx_10_10_x86_64.whl.metadata (9.7 kB)\n",
      "Collecting pyparsing>=2.3.1 (from matplotlib->cs2solutions)\n",
      "  Downloading pyparsing-3.1.2-py3-none-any.whl.metadata (5.1 kB)\n",
      "Collecting python-dateutil>=2.7 (from matplotlib->cs2solutions)\n",
      "  Downloading python_dateutil-2.9.0.post0-py2.py3-none-any.whl.metadata (8.4 kB)\n",
      "Collecting importlib-resources>=3.2.0 (from matplotlib->cs2solutions)\n",
      "  Downloading importlib_resources-6.4.0-py3-none-any.whl.metadata (3.9 kB)\n",
      "Collecting zipp>=3.1.0 (from importlib-resources>=3.2.0->matplotlib->cs2solutions)\n",
      "  Downloading zipp-3.18.1-py3-none-any.whl.metadata (3.5 kB)\n",
      "Collecting six>=1.5 (from python-dateutil>=2.7->matplotlib->cs2solutions)\n",
      "  Downloading six-1.16.0-py2.py3-none-any.whl.metadata (1.8 kB)\n",
      "Downloading cs2solutions-0.5.0-py3-none-any.whl (51 kB)\n",
      "\u001b[2K   \u001b[90m━━━━━━━━━━━━━━━━━━━━━━━━━━━━━━━━━━━━━━━━\u001b[0m \u001b[32m51.0/51.0 kB\u001b[0m \u001b[31m946.3 kB/s\u001b[0m eta \u001b[36m0:00:00\u001b[0m \u001b[36m0:00:01\u001b[0m\n",
      "\u001b[?25hDownloading control-0.9.4-py3-none-any.whl (455 kB)\n",
      "\u001b[2K   \u001b[90m━━━━━━━━━━━━━━━━━━━━━━━━━━━━━━━━━━━━━━━━\u001b[0m \u001b[32m455.1/455.1 kB\u001b[0m \u001b[31m4.6 MB/s\u001b[0m eta \u001b[36m0:00:00\u001b[0m00:01\u001b[0m\n",
      "\u001b[?25hDownloading scipy-1.12.0-cp39-cp39-macosx_10_9_x86_64.whl (38.9 MB)\n",
      "\u001b[2K   \u001b[90m━━━━━━━━━━━━━━━━━━━━━━━━━━━━━━━━━━━━━━━━\u001b[0m \u001b[32m38.9/38.9 MB\u001b[0m \u001b[31m33.5 MB/s\u001b[0m eta \u001b[36m0:00:00\u001b[0m00:01\u001b[0m00:01\u001b[0m\n",
      "\u001b[?25hUsing cached numpy-1.26.4-cp39-cp39-macosx_10_9_x86_64.whl (20.6 MB)\n",
      "Downloading matplotlib-3.8.3-cp39-cp39-macosx_10_12_x86_64.whl (7.6 MB)\n",
      "\u001b[2K   \u001b[90m━━━━━━━━━━━━━━━━━━━━━━━━━━━━━━━━━━━━━━━━\u001b[0m \u001b[32m7.6/7.6 MB\u001b[0m \u001b[31m33.0 MB/s\u001b[0m eta \u001b[36m0:00:00\u001b[0m00:01\u001b[0m00:01\u001b[0m\n",
      "\u001b[?25hDownloading contourpy-1.2.0-cp39-cp39-macosx_10_9_x86_64.whl (257 kB)\n",
      "\u001b[2K   \u001b[90m━━━━━━━━━━━━━━━━━━━━━━━━━━━━━━━━━━━━━━━━\u001b[0m \u001b[32m257.1/257.1 kB\u001b[0m \u001b[31m5.5 MB/s\u001b[0m eta \u001b[36m0:00:00\u001b[0m:00:01\u001b[0m\n",
      "\u001b[?25hDownloading cycler-0.12.1-py3-none-any.whl (8.3 kB)\n",
      "Downloading fonttools-4.50.0-cp39-cp39-macosx_10_9_x86_64.whl (2.3 MB)\n",
      "\u001b[2K   \u001b[90m━━━━━━━━━━━━━━━━━━━━━━━━━━━━━━━━━━━━━━━━\u001b[0m \u001b[32m2.3/2.3 MB\u001b[0m \u001b[31m24.5 MB/s\u001b[0m eta \u001b[36m0:00:00\u001b[0m00:01\u001b[0m00:01\u001b[0m\n",
      "\u001b[?25hDownloading importlib_resources-6.4.0-py3-none-any.whl (38 kB)\n",
      "Downloading kiwisolver-1.4.5-cp39-cp39-macosx_10_9_x86_64.whl (68 kB)\n",
      "\u001b[2K   \u001b[90m━━━━━━━━━━━━━━━━━━━━━━━━━━━━━━━━━━━━━━━━\u001b[0m \u001b[32m68.1/68.1 kB\u001b[0m \u001b[31m1.6 MB/s\u001b[0m eta \u001b[36m0:00:00\u001b[0mta \u001b[36m0:00:01\u001b[0m\n",
      "\u001b[?25hUsing cached packaging-24.0-py3-none-any.whl (53 kB)\n",
      "Downloading pillow-10.2.0-cp39-cp39-macosx_10_10_x86_64.whl (3.5 MB)\n",
      "\u001b[2K   \u001b[90m━━━━━━━━━━━━━━━━━━━━━━━━━━━━━━━━━━━━━━━━\u001b[0m \u001b[32m3.5/3.5 MB\u001b[0m \u001b[31m26.6 MB/s\u001b[0m eta \u001b[36m0:00:00\u001b[0m00:01\u001b[0m00:01\u001b[0m\n",
      "\u001b[?25hDownloading pyparsing-3.1.2-py3-none-any.whl (103 kB)\n",
      "\u001b[2K   \u001b[90m━━━━━━━━━━━━━━━━━━━━━━━━━━━━━━━━━━━━━━━━\u001b[0m \u001b[32m103.2/103.2 kB\u001b[0m \u001b[31m2.3 MB/s\u001b[0m eta \u001b[36m0:00:00\u001b[0m:00:01\u001b[0m\n",
      "\u001b[?25hDownloading python_dateutil-2.9.0.post0-py2.py3-none-any.whl (229 kB)\n"
     ]
    },
    {
     "name": "stdout",
     "output_type": "stream",
     "text": [
      "\u001b[2K   \u001b[90m━━━━━━━━━━━━━━━━━━━━━━━━━━━━━━━━━━━━━━━━\u001b[0m \u001b[32m229.9/229.9 kB\u001b[0m \u001b[31m5.3 MB/s\u001b[0m eta \u001b[36m0:00:00\u001b[0m:00:01\u001b[0m\n",
      "\u001b[?25hDownloading six-1.16.0-py2.py3-none-any.whl (11 kB)\n",
      "Downloading zipp-3.18.1-py3-none-any.whl (8.2 kB)\n",
      "Installing collected packages: zipp, six, pyparsing, pillow, packaging, numpy, kiwisolver, fonttools, cycler, scipy, python-dateutil, importlib-resources, contourpy, matplotlib, control, cs2solutions\n",
      "  Attempting uninstall: zipp\n",
      "    Found existing installation: zipp 3.7.0\n",
      "    Uninstalling zipp-3.7.0:\n",
      "      Successfully uninstalled zipp-3.7.0\n",
      "  Attempting uninstall: six\n",
      "    Found existing installation: six 1.16.0\n",
      "    Uninstalling six-1.16.0:\n",
      "      Successfully uninstalled six-1.16.0\n",
      "  Attempting uninstall: pyparsing\n",
      "    Found existing installation: pyparsing 3.0.4\n",
      "    Uninstalling pyparsing-3.0.4:\n",
      "      Successfully uninstalled pyparsing-3.0.4\n",
      "  Attempting uninstall: pillow\n",
      "    Found existing installation: Pillow 9.0.1\n",
      "    Uninstalling Pillow-9.0.1:\n",
      "      Successfully uninstalled Pillow-9.0.1\n",
      "  Attempting uninstall: packaging\n",
      "    Found existing installation: packaging 21.3\n",
      "    Uninstalling packaging-21.3:\n",
      "      Successfully uninstalled packaging-21.3\n",
      "  Attempting uninstall: numpy\n",
      "    Found existing installation: numpy 1.21.5\n",
      "    Uninstalling numpy-1.21.5:\n",
      "      Successfully uninstalled numpy-1.21.5\n",
      "  Attempting uninstall: kiwisolver\n",
      "    Found existing installation: kiwisolver 1.3.2\n",
      "    Uninstalling kiwisolver-1.3.2:\n",
      "      Successfully uninstalled kiwisolver-1.3.2\n",
      "  Attempting uninstall: fonttools\n",
      "    Found existing installation: fonttools 4.25.0\n",
      "    Uninstalling fonttools-4.25.0:\n",
      "      Successfully uninstalled fonttools-4.25.0\n",
      "  Attempting uninstall: cycler\n",
      "    Found existing installation: cycler 0.11.0\n",
      "    Uninstalling cycler-0.11.0:\n",
      "      Successfully uninstalled cycler-0.11.0\n",
      "  Attempting uninstall: scipy\n",
      "    Found existing installation: scipy 1.7.3\n",
      "    Uninstalling scipy-1.7.3:\n",
      "      Successfully uninstalled scipy-1.7.3\n",
      "  Attempting uninstall: python-dateutil\n",
      "    Found existing installation: python-dateutil 2.8.2\n",
      "    Uninstalling python-dateutil-2.8.2:\n",
      "      Successfully uninstalled python-dateutil-2.8.2\n",
      "  Attempting uninstall: matplotlib\n",
      "    Found existing installation: matplotlib 3.5.1\n",
      "    Uninstalling matplotlib-3.5.1:\n",
      "      Successfully uninstalled matplotlib-3.5.1\n",
      "  Attempting uninstall: control\n",
      "    Found existing installation: control 0.9.4\n",
      "    Uninstalling control-0.9.4:\n",
      "      Successfully uninstalled control-0.9.4\n",
      "\u001b[31mERROR: pip's dependency resolver does not currently take into account all the packages that are installed. This behaviour is the source of the following dependency conflicts.\n",
      "anaconda-project 0.10.2 requires ruamel-yaml, which is not installed.\n",
      "conda-repo-cli 1.0.4 requires pathlib, which is not installed.\n",
      "daal4py 2021.5.0 requires daal==2021.4.0, which is not installed.\n",
      "spyder 5.1.5 requires pyqt5<5.13, which is not installed.\n",
      "spyder 5.1.5 requires pyqtwebengine<5.13, which is not installed.\n",
      "numba 0.55.1 requires numpy<1.22,>=1.18, but you have numpy 1.26.4 which is incompatible.\u001b[0m\u001b[31m\n",
      "\u001b[0mSuccessfully installed contourpy-1.2.0 control-0.9.4 cs2solutions-0.5.0 cycler-0.12.1 fonttools-4.50.0 importlib-resources-6.4.0 kiwisolver-1.4.5 matplotlib-3.8.3 numpy-1.26.4 packaging-24.0 pillow-10.2.0 pyparsing-3.1.2 python-dateutil-2.9.0.post0 scipy-1.12.0 six-1.16.0 zipp-3.18.1\n",
      "Note: you may need to restart the kernel to use updated packages.\n"
     ]
    },
    {
     "ename": "ImportError",
     "evalue": "cannot import name 'intromimo' from 'cs2solutions' (/Users/pierre/opt/anaconda3/lib/python3.9/site-packages/cs2solutions/__init__.py)",
     "output_type": "error",
     "traceback": [
      "\u001b[0;31m---------------------------------------------------------------------------\u001b[0m",
      "\u001b[0;31mImportError\u001b[0m                               Traceback (most recent call last)",
      "Input \u001b[0;32mIn [1]\u001b[0m, in \u001b[0;36m<cell line: 29>\u001b[0;34m()\u001b[0m\n\u001b[1;32m     24\u001b[0m \u001b[38;5;124;03m'''\u001b[39;00m\n\u001b[1;32m     25\u001b[0m \u001b[38;5;124;03mLoad and Import Test Functions\u001b[39;00m\n\u001b[1;32m     26\u001b[0m \u001b[38;5;124;03m'''\u001b[39;00m\n\u001b[1;32m     28\u001b[0m get_ipython()\u001b[38;5;241m.\u001b[39mrun_line_magic(\u001b[38;5;124m'\u001b[39m\u001b[38;5;124mpip\u001b[39m\u001b[38;5;124m'\u001b[39m, \u001b[38;5;124m'\u001b[39m\u001b[38;5;124minstall cs2solutions --force-reinstall\u001b[39m\u001b[38;5;124m'\u001b[39m)\n\u001b[0;32m---> 29\u001b[0m \u001b[38;5;28;01mfrom\u001b[39;00m \u001b[38;5;21;01mcs2solutions\u001b[39;00m \u001b[38;5;28;01mimport\u001b[39;00m intromimo\n",
      "\u001b[0;31mImportError\u001b[0m: cannot import name 'intromimo' from 'cs2solutions' (/Users/pierre/opt/anaconda3/lib/python3.9/site-packages/cs2solutions/__init__.py)"
     ]
    }
   ],
   "source": [
    "'''\n",
    "Installation of recommended Libraries\n",
    "'''\n",
    "\n",
    "!pip install numpy\n",
    "!pip install sympy\n",
    "!pip install control\n",
    "!pip install scipy\n",
    "!pip install matplotlib\n",
    "\n",
    "'''\n",
    "Import Libraries and Functions\n",
    "'''\n",
    "\n",
    "import numpy as np\n",
    "import sympy as sp\n",
    "import control as ctrl\n",
    "import matplotlib.pyplot as plt\n",
    "\n",
    "from sympy.abc import s\n",
    "from sympy import simplify, fraction\n",
    "from scipy import signal\n",
    "\n",
    "'''\n",
    "Load and Import Test Functions\n",
    "'''\n",
    "\n",
    "%pip install cs2solutions --force-reinstall\n",
    "from cs2solutions import intromimo"
   ]
  },
  {
   "cell_type": "markdown",
   "metadata": {
    "id": "0bXKRvGQiENK"
   },
   "source": [
    "## CS II Bot Position Control\n",
    "We want to control the position of the CS II Bot, which you have already seen in the first Lecture. The dynamics are given in the Equation below and a graphical representation of the system is shown in the Figure below.\n",
    "\n",
    "![CSII Bot](images/CSII_Bot.png)\n",
    "\n",
    "<br>\n",
    "\n",
    "$$\n",
    "\\dot x(t) = \\dfrac{d}{dt} \\left[\\begin{array}{c} d(t) \\\\ \\varphi(t) \\end{array} \\right] = \\left[\\begin{array}{c} v(t)\\,sin\\,\\varphi(t) \\\\ \\omega(t) \\end{array} \\right] = \\left[\\begin{array}{c} u_1(t)\\,sin\\,x_2(t) \\\\ u_2(t) \\end{array} \\right] \\;\\;\\;\\ y(t) = \\left[\\begin{array}{c} 1&0 \\\\ 0&1 \\end{array} \\right]\n",
    "$$\n",
    "\n",
    "<br>\n",
    "\n",
    "The state of the system is described by the lateral position $x_1(t) = d(t)$ and the orientation $x_2(t) = φ(t)$, which can be controlled by the linear (_v(t)_) and angular (_$ω(t)$_) speeds exerted by the motors (explicitly: $\\left[\\begin{array}{c} V_{left}(t)&V_{right}(t) \\end{array} \\right] → [\\begin{array}{c} v(t)&ω(t) \\end{array}])$.\n",
    "\n",
    "As we have multiple inputs and multiple outputs, we need to deal with a MIMO system."
   ]
  },
  {
   "cell_type": "markdown",
   "metadata": {
    "id": "1pVYv3DWICEt"
   },
   "source": [
    "## Exercise 1: MIMO System Matrices\n",
    "\n",
    "*   Derive the systems matrices by hand (you do not need to program the calculation)\n",
    "*   Implement the derived system matrices in the function \"sys_matrices\" and return the results as a tuple.\n",
    "*   Extend the system matrices and extract the number of inputs and outputs\n",
    "\n",
    "<br>\n",
    "\n",
    "The given CS II Bot is modeled as a nonlinear system. In order to describe it using the system matrices, we need to linearize it around its equilibrium point which is given as:\n",
    "\n",
    "<br>\n",
    "\n",
    "<center>\n",
    "$f(x_{eq}, y_{eq}) = 0 \\rightarrow x_{eq} = (d, 0), \\;\\; u_{eq} = (v, 0)$\n",
    "</center>\n",
    "\n",
    "<br>\n",
    "\n",
    "Using this, derive the system matrices A, B, C, D and then implement them in the cell below. To avoid complicated symoblic math programming, you can set the variable _\"v\"_ equal to 3. Take care of the appropriate dimensions!\n",
    "\n",
    "<br>\n",
    "\n",
    "Hints:\n",
    "\n",
    "*   The [numpy](https://numpy.org/doc/stable/user/absolute_beginners.html) library is very useful to implement vectors and matrices!\n",
    "\n",
    "*   If you need to review the formula for linearization, you can take a look at the Lecture slides from week 1.\n"
   ]
  },
  {
   "cell_type": "markdown",
   "metadata": {
    "id": "znIc1-uQxjbG"
   },
   "source": [
    "### Exercise 1.1: System Matrices\n",
    "\n",
    "_**Task: Calculate the system matrices by hand and then proceed by implementing the results in the given function.**_"
   ]
  },
  {
   "cell_type": "code",
   "execution_count": null,
   "metadata": {
    "id": "h6aliURHIpiu"
   },
   "outputs": [],
   "source": [
    "\"\"\"\n",
    "Set v = 3\n",
    "\"\"\"\n",
    "\n",
    "def sys_matrices() -> tuple:\n",
    "\n",
    "    #TODO:\n",
    "\n",
    "    return A, B, C, D\n",
    "\n",
    "\n",
    "# If you want to check the output of your function, just use (uncomment) the following command:\n",
    "# print(sys_matrices())\n",
    "\n",
    "\n",
    "# Run the unit test on your function\n",
    "intromimo.test_sys_matrices(sys_matrices())"
   ]
  },
  {
   "cell_type": "markdown",
   "metadata": {
    "id": "KPCKW2_mykFi"
   },
   "source": [
    "### Exercise 1.2: Hovering extension to the CS II Bot\n",
    "\n",
    "Because there is a lot of traffic we want to include a hovering functionality to our CS II Bot. The engineers in our team decided to stabilize the Bot in a constant height (_z = 2_) over the ground which can't be controlled or changed.\n",
    "\n",
    "Such that they were able to add this functionality to the Bot, they needed to change certain things of the voltage supply of the two electric motors.\n",
    "\n",
    "To understand the tweaked Bot, they provided the system matrices (denoted with a \"_\") as:\n",
    "\n",
    "<br>\n",
    "\n",
    "<center>\n",
    "$\n",
    "A\\_ \\;= \\; \\left[\\begin{array}{c} 0&1&0 \\\\ 1&0&0 \\\\ 0&0&1 \\end{array} \\right], \\;\\;\\; B\\_ = \\left[\\begin{array}{c} 1&0 \\\\ 0&1 \\\\ 0&0 \\end{array} \\right], \\;\\;\\; C\\_ = \\left[\\begin{array}{c} 1&0&0 \\\\ 0&1&0 \\\\ 0&0&1 \\end{array} \\right], \\;\\;\\; D\\_ = \\left[\\begin{array}{c} 0&0 \\\\ 0&0 \\\\ 0&0 \\end{array} \\right]\n",
    "$\n",
    "</center>\n",
    "\n",
    "<br>\n",
    "\n",
    "Now your task is it to programatically extract the number of inputs and outputs of the given system matrices. The matrices are already initialized, so you just need to complete the two functions.\n"
   ]
  },
  {
   "cell_type": "code",
   "execution_count": null,
   "metadata": {
    "id": "HpSRPFGQzs2K"
   },
   "outputs": [],
   "source": [
    "# Initialize the given system matrices of the tweaked Bot\n",
    "\n",
    "A_ = np.array([[0, 1, 0], [1, 0, 0], [0, 0, 1]], dtype=int)\n",
    "B_ = np.array([[1, 0], [0, 1], [0, 0]], dtype=int)\n",
    "C_ = np.array([[1, 0, 0], [0, 1, 0], [0, 0, 1]], dtype=int)\n",
    "D_ = np.array([[0, 0], [0, 0], [0, 0]], dtype=int)\n",
    "\n",
    "\n",
    "def num_inputs(A_: np.array, B_: np.array, C_: np.array, D_: np.array) -> int:\n",
    "\n",
    "    #TODO:\n",
    "    inputs =\n",
    "\n",
    "    return inputs\n",
    "\n",
    "\n",
    "def num_outputs(A_: np.array, B_: np.array, C_: np.array, D_: np.array) -> int:\n",
    "\n",
    "    #TODO:\n",
    "    outputs =\n",
    "\n",
    "    return outputs\n",
    "\n",
    "\n",
    "# Print the number of inputs and outputs\n",
    "\n",
    "print(f\"Number of inputs: {num_inputs(A_, B_, C_, D_)}\")\n",
    "print(f\"Number of outputs: {num_outputs(A_, B_, C_, D_)}\")\n",
    "\n",
    "\n",
    "# And run unit tests:\n",
    "intromimo.test_hovering_inp(num_inputs(A_, B_, C_, D_))\n",
    "intromimo.test_hovering_out(num_outputs(A_, B_, C_, D_))"
   ]
  },
  {
   "cell_type": "markdown",
   "metadata": {
    "id": "FlFQSCZrSaBu"
   },
   "source": [
    "### Exercise 1.1 Solution:"
   ]
  },
  {
   "cell_type": "code",
   "execution_count": 5,
   "metadata": {
    "colab": {
     "base_uri": "https://localhost:8080/"
    },
    "executionInfo": {
     "elapsed": 252,
     "status": "ok",
     "timestamp": 1708087760781,
     "user": {
      "displayName": "Pierre Suter",
      "userId": "02344012227099729228"
     },
     "user_tz": -60
    },
    "id": "ierj5Q7_Stje",
    "outputId": "76381e67-41b5-42b8-f575-152c1383a1e2"
   },
   "outputs": [
    {
     "data": {
      "text/plain": [
       "(array([[0, 3],\n",
       "        [0, 0]]),\n",
       " array([[0, 0],\n",
       "        [0, 1]]),\n",
       " array([[1, 0],\n",
       "        [0, 1]]),\n",
       " array([[0, 0],\n",
       "        [0, 0]]))"
      ]
     },
     "execution_count": 5,
     "metadata": {},
     "output_type": "execute_result"
    }
   ],
   "source": [
    "\"\"\"\n",
    "Set v = 3\n",
    "\"\"\"\n",
    "\n",
    "def sys_matrices_sol():\n",
    "    \n",
    "    \"\"\"\n",
    "    Input: None\n",
    "    Output: System matrices (type: np.array) A, B, C, D as a tuple\n",
    "    Function: Definition of system matrices (2 x 2 as we have two inputs, two outputs and two states!)\n",
    "    \"\"\"\n",
    "\n",
    "    #TODO:\n",
    "    A = np.array([[0, 3], [0, 0]], dtype=int)\n",
    "    B = np.array([[0, 0], [0, 1]], dtype=int)\n",
    "    C = np.array([[1, 0], [0, 1]], dtype=int)\n",
    "    D = np.array([[0, 0], [0, 0]], dtype=int)\n",
    "    \n",
    "    return A, B, C, D\n",
    "\n",
    "\n",
    "sys_matrices_sol()"
   ]
  },
  {
   "cell_type": "markdown",
   "metadata": {
    "id": "20h-ZgXewzdx"
   },
   "source": [
    "### Exercise 1.2 Solution"
   ]
  },
  {
   "cell_type": "code",
   "execution_count": 3,
   "metadata": {
    "colab": {
     "base_uri": "https://localhost:8080/"
    },
    "executionInfo": {
     "elapsed": 211,
     "status": "ok",
     "timestamp": 1708087334724,
     "user": {
      "displayName": "Pierre Suter",
      "userId": "02344012227099729228"
     },
     "user_tz": -60
    },
    "id": "nGqeqB4FHAlR",
    "outputId": "b2ae9bc0-eff4-4504-a943-130d69710bff"
   },
   "outputs": [
    {
     "name": "stdout",
     "output_type": "stream",
     "text": [
      "Number of inputs: 2\n",
      "Number of outputs: 3\n"
     ]
    }
   ],
   "source": [
    "# Initialize the given system matrices of the tweaked Bot\n",
    "\n",
    "A_ = np.array([[0, 1, 0], [1, 0, 0], [0, 0, 1]], dtype=int)\n",
    "B_ = np.array([[1, 0], [0, 1], [0, 0]], dtype=int)\n",
    "C_ = np.array([[1, 0, 0], [0, 1, 0], [0, 0, 1]], dtype=int)\n",
    "D_ = np.array([[0, 0], [0, 0], [0, 0]], dtype=int)\n",
    "\n",
    "\n",
    "def num_inputs_sol(A_: np.array, B_: np.array, C_: np.array, D_: np.array) -> int:\n",
    "    \n",
    "    \"\"\"\n",
    "    Input: System matrices (type: np.array) of the tweaked system\n",
    "    Output: Number of inputs (type: int)\n",
    "    Function: Programatically extract the number of inputs by using the np.shape function\n",
    "    \"\"\"\n",
    "\n",
    "    #TODO:\n",
    "    inputs = B_.shape[1]\n",
    "\n",
    "    return inputs\n",
    "\n",
    "\n",
    "def num_outputs_sol(A_: np.array, B_: np.array, C_: np.array, D_: np.array) -> int:\n",
    "    \n",
    "    \"\"\"\n",
    "    Input: System matrices (type: np.array) of the tweaked system\n",
    "    Output: Number of outputs (type: int)\n",
    "    Function: Programatically extract the number of outputs by using the np.shape function\n",
    "    \"\"\"\n",
    "\n",
    "    #TODO:\n",
    "    outputs = C_.shape[0]\n",
    "\n",
    "    return outputs\n",
    "\n",
    "\n",
    "# Print the number of inputs and outputs\n",
    "\n",
    "print(f\"Number of inputs: {num_inputs_sol(A_, B_, C_, D_)}\")\n",
    "print(f\"Number of outputs: {num_outputs_sol(A_, B_, C_, D_)}\")"
   ]
  },
  {
   "cell_type": "markdown",
   "metadata": {
    "id": "yKaiH05weBfG"
   },
   "source": [
    "## Exercise 2: MIMO Transferfunction of CS II Bot\n",
    "\n",
    "To be able to do further analysis we need to look more closely at the system in the frequency domain. The goal of this task is to use the previously derived state space description and calculate the MIMO transferfunction."
   ]
  },
  {
   "cell_type": "markdown",
   "metadata": {
    "id": "WjB7UIWlBmuV"
   },
   "source": [
    "### Exercise 2.1 Symbolic Transferfunction\n",
    "\n",
    "As seen in the lecture we can use the well-known formula from Control Systems for MIMO systems as well\n",
    "\n",
    "$$ P(s) = C \\cdot (sI-A)^{-1} \\cdot B + D $$\n",
    "with $ (sI-A)^{-1} = \\frac{adj(sI-A)}{det(sI-A)} $\n",
    "\n",
    "Use the following codeblock to implement this formula to get the general transferfunction in dependence of s = j*ω. Consider the dimensionality of P(s)!\n",
    "\n",
    "In this first step we will use symbolic math using the sympy library.\n",
    "\n",
    "_**Task: Implement a function to calculate the transferfunction from the state space matrices and test it with the system from Exercise 1.1 as well as  the one from Exercise 1.2**_\n",
    "\n",
    "_Hint: Use the sympy functions 'Matrix', 'Symbols', 'inv' and 'symplify'_"
   ]
  },
  {
   "cell_type": "code",
   "execution_count": null,
   "metadata": {
    "id": "IgNhPECHDwyq"
   },
   "outputs": [],
   "source": [
    "def calc_tf_symb(A: np.array, B: np.array, C: np.array, D: np.array)-> sp.Matrix:\n",
    "\n",
    "\"\"\"\n",
    "inputs: numpy matrices A, B, C, D representing the state space matrices derrived in Exercise 1.1\n",
    "output: numpy matrix P_s representing the MIMO transferfunction matrix in dependence of the symolic variable 's'\n",
    "\"\"\"\n",
    "\n",
    "  #TODO\n",
    "  # define identity matrix of appropriate size\n",
    "\n",
    "  # calculate the inverse of (s*I - A)\n",
    "\n",
    "  # calculate P_s\n",
    "\n",
    "  # simplify the answer so that there are no double fractions\n",
    "\n",
    "\n",
    "  return transferfunction\n",
    "\n",
    "\n",
    "# execute and print\n",
    "A = sys_matrices()[0]\n",
    "B = sys_matrices()[1]\n",
    "C = sys_matrices()[2]\n",
    "D = sys_matrices()[3]\n",
    "\n",
    "\n",
    "tf_symb = calc_tf_symb(A,B,C,D)\n",
    "tf_symb_mod = calc_tf_symb(A_,B_,C_,D_)\n",
    "\n",
    "print(f\"The transfer functions of the CS2-Bot are: {tf_symb}\")\n",
    "print(f\"The transfer functions of the hovering CS2-Bot are: {tf_symb_mod}\")\n",
    "\n",
    "\n",
    "# Run unit tests:\n",
    "intromimo.test_tf(tf_symb)\n",
    "intromimo.test_tf_mod(tf_symb_mod)"
   ]
  },
  {
   "cell_type": "markdown",
   "metadata": {
    "id": "AOHBIbkTE_0z"
   },
   "source": [
    "### Exercise 2.2 Transferfunction using 'scipy'\n",
    "Typically we use libraries, such as the \"scipy\" library, to help us analyse and design systems. The already gained knowledge about the inputs and outputs of the system will help you to fulfill this task. Remember that we already calculated the number of inputs and outputs of the modified CS II Bot. Use the same function, or your knowledge about control systems, to get these informations about the basic CS II Bot as well.\n",
    "\n",
    "**_Task: Use the 'signal' package (implemented in the scipy library) to calculate the transferfunctions of the system state space matrices of Exercise 1.1 as well as Exercise 1.2_**\n",
    "\n",
    "_Hint: MIMO systems are hard to represent, which is why the output appears in an unfamiliar format. The signal package supports the ss2tf function, which is capable of transforming a MIMO system from state space to transfer function representation. Make sure to carfeully read the documentation of the [ss2tf](https://docs.scipy.org/doc/scipy/reference/generated/scipy.signal.ss2tf.html) function._"
   ]
  },
  {
   "cell_type": "code",
   "execution_count": null,
   "metadata": {
    "id": "g6cfVPmjD4h4"
   },
   "outputs": [],
   "source": [
    "#calculate the transferfunction of the state space model\n",
    "def calc_tf_ctrl(A: np.array, B: np.array, C: np.array, D: np.array, number_output: int):\n",
    "\n",
    "  # TODO\n",
    "\n",
    "  return transferfunction\n",
    "\n",
    "\n",
    "#print solution\n",
    "tf_output1 = calc_tf_ctrl(A,B,C,D, 0)\n",
    "tf_output2 = calc_tf_ctrl(A,B,C,D, 1)\n",
    "\n",
    "tf_mod_output1 = calc_tf_ctrl(A_,B_,C_,D_, 0)\n",
    "tf_mod_output2 = calc_tf_ctrl(A_,B_,C_,D_, 1)\n",
    "\n",
    "\n",
    "print(f\"The Transferfunctions of the CS2-Bot corresponding to output 1 (first column of the matrix): {tf_input1}\")\n",
    "print(f\"The Transferfunctions of the CS2-Bot corresponding to output 2 (second column of the matrix): {tf_input2}\")\n",
    "\n",
    "print(f\"The Transferfunctions of the hovering CS2-Bot corresponding to output 1 (first column of the matrix): {tf_mod_input1}\")\n",
    "print(f\"The Transferfunctions of the hovering CS2-Bot corresponding to output 2 (second column of the matrix): {tf_mod_input2}\")"
   ]
  },
  {
   "cell_type": "markdown",
   "metadata": {
    "id": "kU3uBfBjezDS"
   },
   "source": [
    "### Exercise 2.1 Solution"
   ]
  },
  {
   "cell_type": "code",
   "execution_count": 6,
   "metadata": {
    "id": "PZlRigAje6aM"
   },
   "outputs": [
    {
     "name": "stdout",
     "output_type": "stream",
     "text": [
      "[[0, 3.0/s**2], [0, 1.0/s]]\n",
      "[[1.0*s/(s**2 - 1), 1.0/(s**2 - 1)], [1.0/(s**2 - 1), 1.0*s/(s**2 - 1)], [0, 0]]\n"
     ]
    }
   ],
   "source": [
    "#inputs: numpy matrices A, B, C, D representing the state space matrices derived in Exercise 1.1\n",
    "#output: numpy matrix P_s representing the MIMO transferfunction matrix in dependence of the symolic variable 's'\n",
    "def calc_tf_symb_sol(A: np.array, B: np.array, C: np.array, D: np.array)-> sp.Matrix:\n",
    "\n",
    "  #TODO\n",
    "  # define identity matrix of appropriate size\n",
    "  I = np.eye(A.shape[0])\n",
    "\n",
    "  # calculate the inverse of (s*I - A)\n",
    "  term = sp.Matrix(s*I - A)\n",
    "  inv_term = term.inv()\n",
    "\n",
    "  # calculate P_s\n",
    "  transferfunction = np.dot(C, np.dot(inv_term, B)) + D\n",
    "\n",
    "  # simplify the answer so that there are no double fractions\n",
    "  transferfunction = sp.simplify(transferfunction)\n",
    "\n",
    "  return transferfunction\n",
    "\n",
    "\n",
    "# execute and print\n",
    "\n",
    "A = sys_matrices_sol()[0]\n",
    "B = sys_matrices_sol()[1]\n",
    "C = sys_matrices_sol()[2]\n",
    "D = sys_matrices_sol()[3]\n",
    "\n",
    "\n",
    "tf_symb_sol = calc_tf_symb_sol(A, B, C, D)\n",
    "tf_symb_mod_sol = calc_tf_symb_sol(A_, B_, C_, D_)\n",
    "\n",
    "print(tf_symb_sol)\n",
    "print(tf_symb_mod_sol)"
   ]
  },
  {
   "cell_type": "markdown",
   "metadata": {
    "id": "vxz2n0gMe7BP"
   },
   "source": [
    "### Exercise 2.2 Solution"
   ]
  },
  {
   "cell_type": "code",
   "execution_count": 17,
   "metadata": {
    "id": "CwHTR09fe9Xe"
   },
   "outputs": [
    {
     "name": "stdout",
     "output_type": "stream",
     "text": [
      "The Transferfunctions of the CSII-Bot corresponding to output 1 (first column of the matrix): (array([[0., 0., 0.],\n",
      "       [0., 0., 0.]]), array([1., 0., 0.]))\n",
      "\n",
      "The Transferfunctions of the CSII-Bot corresponding to output 2 (second column of the matrix): (array([[0., 0., 3.],\n",
      "       [0., 1., 0.]]), array([1., 0., 0.]))\n",
      "\n",
      "The Transferfunctions of the hovering CSII-Bot corresponding to output 1 (first column of the matrix): (array([[ 0.00000000e+00,  1.00000000e+00, -1.00000000e+00,\n",
      "        -1.11022302e-16],\n",
      "       [ 0.00000000e+00,  0.00000000e+00,  1.00000000e+00,\n",
      "        -1.00000000e+00],\n",
      "       [ 0.00000000e+00,  0.00000000e+00,  0.00000000e+00,\n",
      "         0.00000000e+00]]), array([ 1., -1., -1.,  1.]))\n",
      "\n",
      "The Transferfunctions of the hovering CSII-Bot corresponding to output 2 (fisecondrst column of the matrix): (array([[ 0.00000000e+00,  0.00000000e+00,  1.00000000e+00,\n",
      "        -1.00000000e+00],\n",
      "       [ 0.00000000e+00,  1.00000000e+00, -1.00000000e+00,\n",
      "         2.22044605e-16],\n",
      "       [ 0.00000000e+00,  0.00000000e+00,  0.00000000e+00,\n",
      "         0.00000000e+00]]), array([ 1., -1., -1.,  1.]))\n",
      "\n"
     ]
    }
   ],
   "source": [
    "# Calculate the transferfunction of the state space model.\n",
    "def calc_tf_ctrl_sol(A: np.array, B: np.array, C: np.array, D: np.array, number_output: int):\n",
    "\n",
    "    #TODO\n",
    "    transferfunction = signal.ss2tf(A, B, C, D, number_output)\n",
    "\n",
    "    return transferfunction\n",
    "\n",
    "\n",
    "# Compare solution of the two systems. Both systems have two inputs.\n",
    "tf_output1 = calc_tf_ctrl_sol(A,B,C,D, 0)\n",
    "tf_output2 = calc_tf_ctrl_sol(A,B,C,D, 1)\n",
    "\n",
    "tf_mod_output1 = calc_tf_ctrl_sol(A_, B_, C_, D_, 0)\n",
    "tf_mod_output2 = calc_tf_ctrl_sol(A_, B_, C_, D_, 1)\n",
    "\n",
    "\n",
    "print(f\"The Transferfunctions of the CSII-Bot corresponding to output 1 (first column of the matrix): {tf_output1}\\n\")\n",
    "print(f\"The Transferfunctions of the CSII-Bot corresponding to output 2 (second column of the matrix): {tf_output2}\\n\")\n",
    "\n",
    "print(f\"The Transferfunctions of the hovering CSII-Bot corresponding to output 1 (first column of the matrix): {tf_mod_output1}\\n\")\n",
    "print(f\"The Transferfunctions of the hovering CSII-Bot corresponding to output 2 (second column of the matrix): {tf_mod_output2}\\n\")"
   ]
  },
  {
   "cell_type": "markdown",
   "metadata": {
    "id": "5XXoeo_ADTDX"
   },
   "source": [
    "## Exercise 3: MIMO poles and zeros calculation\n",
    "\n",
    "As was the case for SISO systems, the zeros and poles of the MIMO system give us critical information about the system, though they are calculated differently. The way to calculate them as seen in the lectue is tedious and especially for complicated systems, manual calculation is impractical. Therefore we usually rely on libraries or proograms such as MATLAB to calculate zeros and poles"
   ]
  },
  {
   "cell_type": "markdown",
   "metadata": {
    "id": "xJrHaviQIq-q"
   },
   "source": [
    "### Exercise 3.1 Calculation of the poles\n",
    "Libraries can also be used to analyse MIMO systems. Calculate the poles of the basic and the modified CS II Bot using the control library."
   ]
  },
  {
   "cell_type": "code",
   "execution_count": null,
   "metadata": {
    "id": "cDmimEcTOzYQ"
   },
   "outputs": [],
   "source": [
    "# get the poles of the basic CSII Bot\n",
    "poles_basic =\n",
    "\n",
    "print(f\"Poles of the basic CSII Bot: {poles_basic}\")\n",
    "\n",
    "\n",
    "# get the poles of the modified CSII Bot\n",
    "poles_mod =\n",
    "\n",
    "print(f\"Poles of the modified CSII Bot: {poles_mod}\")\n",
    "\n",
    "\n",
    "# Run unit tests to verify your results:\n",
    "intromimo.test_poles()\n",
    "intromimo.test_poles_mod()"
   ]
  },
  {
   "cell_type": "markdown",
   "metadata": {
    "id": "3visHOVbIuNZ"
   },
   "source": [
    "### Exercise 3.2 Calculation of the zeros:\n",
    "Sadly, libraries are not all-powerful and have their limitations. Try to use a similar approach to get the MIMO zeros of the two bots. What result can you see?\n",
    "\n",
    "_Hint: Don't try too hard and look up the documentation._"
   ]
  },
  {
   "cell_type": "code",
   "execution_count": null,
   "metadata": {
    "id": "ZDkwsStf5sL_"
   },
   "outputs": [],
   "source": [
    "# get the zeros of the basic CSII Bot\n",
    "zeros_basic =\n",
    "\n",
    "print(f\"Zeros of the basic CSII Bot: {zeros_basic}\")\n",
    "\n",
    "\n",
    "# get the zeros of the modified CSII Bot\n",
    "zeros_mod =\n",
    "\n",
    "print(f\"Zeros of the modified CSII Bot: {zeros_mod}\")"
   ]
  },
  {
   "cell_type": "markdown",
   "metadata": {
    "id": "IFY8mOXOYf-g"
   },
   "source": [
    "### Exercise 3.1 Solution:\n"
   ]
  },
  {
   "cell_type": "code",
   "execution_count": 18,
   "metadata": {
    "colab": {
     "base_uri": "https://localhost:8080/"
    },
    "executionInfo": {
     "elapsed": 222,
     "status": "ok",
     "timestamp": 1708095326446,
     "user": {
      "displayName": "Pierre Suter",
      "userId": "02344012227099729228"
     },
     "user_tz": -60
    },
    "id": "c8zMvKwtYj5o",
    "outputId": "126fe027-2f22-4294-a127-fe045d3815cf"
   },
   "outputs": [
    {
     "name": "stdout",
     "output_type": "stream",
     "text": [
      "Poles of the basic CSII Bot: [0.+0.j 0.+0.j]\n",
      "Poles of the modified CSII Bot: [ 1.+0.j -1.+0.j  1.+0.j]\n"
     ]
    }
   ],
   "source": [
    "# get the poles of the basic CSII Bot\n",
    "poles_basic = ctrl.pole(ctrl.StateSpace(A, B, C, D))\n",
    "\n",
    "print(f\"Poles of the basic CSII Bot: {poles_basic}\")\n",
    "\n",
    "\n",
    "# get the poles of the modified CSII Bot\n",
    "poles_mod = ctrl.pole(ctrl.StateSpace(A_, B_, C_, D_))\n",
    "\n",
    "print(f\"Poles of the modified CSII Bot: {poles_mod}\")"
   ]
  },
  {
   "cell_type": "markdown",
   "metadata": {
    "id": "cunOLjNOYkZZ"
   },
   "source": [
    "### Exercise 3.2 Solution:"
   ]
  },
  {
   "cell_type": "code",
   "execution_count": 19,
   "metadata": {
    "id": "2MVVtmjbYk4U"
   },
   "outputs": [
    {
     "name": "stdout",
     "output_type": "stream",
     "text": [
      "[nan+0.j]\n"
     ]
    },
    {
     "ename": "NotImplementedError",
     "evalue": "StateSpace.zero only supports systems with the same number of inputs as outputs.",
     "output_type": "error",
     "traceback": [
      "\u001b[0;31m---------------------------------------------------------------------------\u001b[0m",
      "\u001b[0;31mModuleNotFoundError\u001b[0m                       Traceback (most recent call last)",
      "File \u001b[0;32m~/opt/anaconda3/lib/python3.9/site-packages/control/statesp.py:1010\u001b[0m, in \u001b[0;36mStateSpace.zeros\u001b[0;34m(self)\u001b[0m\n\u001b[1;32m   1009\u001b[0m \u001b[38;5;28;01mtry\u001b[39;00m:\n\u001b[0;32m-> 1010\u001b[0m     \u001b[38;5;28;01mfrom\u001b[39;00m \u001b[38;5;21;01mslycot\u001b[39;00m \u001b[38;5;28;01mimport\u001b[39;00m ab08nd\n\u001b[1;32m   1012\u001b[0m     out \u001b[38;5;241m=\u001b[39m ab08nd(\u001b[38;5;28mself\u001b[39m\u001b[38;5;241m.\u001b[39mA\u001b[38;5;241m.\u001b[39mshape[\u001b[38;5;241m0\u001b[39m], \u001b[38;5;28mself\u001b[39m\u001b[38;5;241m.\u001b[39mB\u001b[38;5;241m.\u001b[39mshape[\u001b[38;5;241m1\u001b[39m], \u001b[38;5;28mself\u001b[39m\u001b[38;5;241m.\u001b[39mC\u001b[38;5;241m.\u001b[39mshape[\u001b[38;5;241m0\u001b[39m],\n\u001b[1;32m   1013\u001b[0m                  \u001b[38;5;28mself\u001b[39m\u001b[38;5;241m.\u001b[39mA, \u001b[38;5;28mself\u001b[39m\u001b[38;5;241m.\u001b[39mB, \u001b[38;5;28mself\u001b[39m\u001b[38;5;241m.\u001b[39mC, \u001b[38;5;28mself\u001b[39m\u001b[38;5;241m.\u001b[39mD)\n",
      "\u001b[0;31mModuleNotFoundError\u001b[0m: No module named 'slycot'",
      "\nDuring handling of the above exception, another exception occurred:\n",
      "\u001b[0;31mNotImplementedError\u001b[0m                       Traceback (most recent call last)",
      "Input \u001b[0;32mIn [19]\u001b[0m, in \u001b[0;36m<cell line: 8>\u001b[0;34m()\u001b[0m\n\u001b[1;32m      4\u001b[0m \u001b[38;5;28mprint\u001b[39m(zeros_basic)\n\u001b[1;32m      7\u001b[0m \u001b[38;5;66;03m# get the zeros of the modified CSII Bot (-> NotImplementedError!)\u001b[39;00m\n\u001b[0;32m----> 8\u001b[0m zeros_mod \u001b[38;5;241m=\u001b[39m \u001b[43mctrl\u001b[49m\u001b[38;5;241;43m.\u001b[39;49m\u001b[43mzeros\u001b[49m\u001b[43m(\u001b[49m\u001b[43mctrl\u001b[49m\u001b[38;5;241;43m.\u001b[39;49m\u001b[43mStateSpace\u001b[49m\u001b[43m(\u001b[49m\u001b[43mA_\u001b[49m\u001b[43m,\u001b[49m\u001b[43m \u001b[49m\u001b[43mB_\u001b[49m\u001b[43m,\u001b[49m\u001b[43m \u001b[49m\u001b[43mC_\u001b[49m\u001b[43m,\u001b[49m\u001b[43m \u001b[49m\u001b[43mD_\u001b[49m\u001b[43m)\u001b[49m\u001b[43m)\u001b[49m\n\u001b[1;32m     10\u001b[0m \u001b[38;5;28mprint\u001b[39m(zeros_mod)\n",
      "File \u001b[0;32m~/opt/anaconda3/lib/python3.9/site-packages/control/lti.py:331\u001b[0m, in \u001b[0;36mzeros\u001b[0;34m(sys)\u001b[0m\n\u001b[1;32m    309\u001b[0m \u001b[38;5;28;01mdef\u001b[39;00m \u001b[38;5;21mzeros\u001b[39m(sys):\n\u001b[1;32m    310\u001b[0m     \u001b[38;5;124;03m\"\"\"\u001b[39;00m\n\u001b[1;32m    311\u001b[0m \u001b[38;5;124;03m    Compute system zeros.\u001b[39;00m\n\u001b[1;32m    312\u001b[0m \n\u001b[0;32m   (...)\u001b[0m\n\u001b[1;32m    328\u001b[0m \n\u001b[1;32m    329\u001b[0m \u001b[38;5;124;03m    \"\"\"\u001b[39;00m\n\u001b[0;32m--> 331\u001b[0m     \u001b[38;5;28;01mreturn\u001b[39;00m \u001b[43msys\u001b[49m\u001b[38;5;241;43m.\u001b[39;49m\u001b[43mzeros\u001b[49m\u001b[43m(\u001b[49m\u001b[43m)\u001b[49m\n",
      "File \u001b[0;32m~/opt/anaconda3/lib/python3.9/site-packages/control/statesp.py:1024\u001b[0m, in \u001b[0;36mStateSpace.zeros\u001b[0;34m(self)\u001b[0m\n\u001b[1;32m   1022\u001b[0m \u001b[38;5;28;01mexcept\u001b[39;00m \u001b[38;5;167;01mImportError\u001b[39;00m:  \u001b[38;5;66;03m# Slycot unavailable. Fall back to scipy.\u001b[39;00m\n\u001b[1;32m   1023\u001b[0m     \u001b[38;5;28;01mif\u001b[39;00m \u001b[38;5;28mself\u001b[39m\u001b[38;5;241m.\u001b[39mC\u001b[38;5;241m.\u001b[39mshape[\u001b[38;5;241m0\u001b[39m] \u001b[38;5;241m!=\u001b[39m \u001b[38;5;28mself\u001b[39m\u001b[38;5;241m.\u001b[39mD\u001b[38;5;241m.\u001b[39mshape[\u001b[38;5;241m1\u001b[39m]:\n\u001b[0;32m-> 1024\u001b[0m         \u001b[38;5;28;01mraise\u001b[39;00m \u001b[38;5;167;01mNotImplementedError\u001b[39;00m(\n\u001b[1;32m   1025\u001b[0m             \u001b[38;5;124m\"\u001b[39m\u001b[38;5;124mStateSpace.zero only supports systems with the same \u001b[39m\u001b[38;5;124m\"\u001b[39m\n\u001b[1;32m   1026\u001b[0m             \u001b[38;5;124m\"\u001b[39m\u001b[38;5;124mnumber of inputs as outputs.\u001b[39m\u001b[38;5;124m\"\u001b[39m)\n\u001b[1;32m   1028\u001b[0m     \u001b[38;5;66;03m# This implements the QZ algorithm for finding transmission zeros\u001b[39;00m\n\u001b[1;32m   1029\u001b[0m     \u001b[38;5;66;03m# from\u001b[39;00m\n\u001b[1;32m   1030\u001b[0m     \u001b[38;5;66;03m# https://dspace.mit.edu/bitstream/handle/1721.1/841/P-0802-06587335.pdf.\u001b[39;00m\n\u001b[0;32m   (...)\u001b[0m\n\u001b[1;32m   1036\u001b[0m     \u001b[38;5;66;03m# The generalized eigenvalue problem is only solvable if its\u001b[39;00m\n\u001b[1;32m   1037\u001b[0m     \u001b[38;5;66;03m# arguments are square matrices.\u001b[39;00m\n\u001b[1;32m   1038\u001b[0m     L \u001b[38;5;241m=\u001b[39m concatenate((concatenate((\u001b[38;5;28mself\u001b[39m\u001b[38;5;241m.\u001b[39mA, \u001b[38;5;28mself\u001b[39m\u001b[38;5;241m.\u001b[39mB), axis\u001b[38;5;241m=\u001b[39m\u001b[38;5;241m1\u001b[39m),\n\u001b[1;32m   1039\u001b[0m                      concatenate((\u001b[38;5;28mself\u001b[39m\u001b[38;5;241m.\u001b[39mC, \u001b[38;5;28mself\u001b[39m\u001b[38;5;241m.\u001b[39mD), axis\u001b[38;5;241m=\u001b[39m\u001b[38;5;241m1\u001b[39m)), axis\u001b[38;5;241m=\u001b[39m\u001b[38;5;241m0\u001b[39m)\n",
      "\u001b[0;31mNotImplementedError\u001b[0m: StateSpace.zero only supports systems with the same number of inputs as outputs."
     ]
    }
   ],
   "source": [
    "# get the zeros of the basic CSII Bot\n",
    "zeros_basic = ctrl.zeros(ctrl.StateSpace(A, B, C, D))\n",
    "\n",
    "print(zeros_basic)\n",
    "\n",
    "\n",
    "# get the zeros of the modified CSII Bot (-> NotImplementedError!)\n",
    "zeros_mod = ctrl.zeros(ctrl.StateSpace(A_, B_, C_, D_))\n",
    "\n",
    "print(zeros_mod)"
   ]
  },
  {
   "cell_type": "markdown",
   "metadata": {
    "id": "Ep8ZcwAmBsRm"
   },
   "source": [
    "## Exercise 4: Plotting Impulse Response\n",
    "\n",
    "*   Import transfer functions from Exercise 2.2.\n",
    "*   Calculate the impulse responses using the scipy.signal class.\n",
    "*   Plot the amplitude over time for the impulse response of all transfer functions. Set a title and label the axes.\n",
    "\n",
    "<br>\n",
    "\n",
    "The unit impulse response of a system is given by the inverse Laplace transform of the transfer function according to this relation:\n",
    "\n",
    "<br>\n",
    "<center>\n",
    "$p(t) = \\mathcal{L}^{-1}\\{P(s)\\}$\n",
    "</center>\n",
    "\n",
    "<br>\n",
    "\n",
    "The goal of this task is to calculate and plot the impulse response of the transfer functions from Exercise 2.2. After finishing the task you can compare your result to the plot given by the solution.\n",
    "\n",
    "<br>\n",
    "\n",
    "_Hint: Use the [scipy](https://docs.scipy.org/doc/scipy/reference/signal.html) library to calculate the impulse response and then plot it using the [matplotlib](https://matplotlib.org/3.5.3/api/_as_gen/matplotlib.pyplot.html) library._"
   ]
  },
  {
   "cell_type": "markdown",
   "metadata": {
    "id": "19gy9VmTYXbM"
   },
   "source": [
    "### Exercise 4.1: Store Transfer Functions from Exercise 2.2\n",
    "\n",
    "Initialize the four transfer functions from Exercise 2.2 by specifying the numerator and denominator of each transfer function. For further calculations we use the scipy library (signal class) which documenation can be found [here](https://docs.scipy.org/doc/scipy/reference/signal.html).\n",
    "<br>\n",
    "\n",
    "_Hint: As all four transfer functions share the same denominator, you do not need to initialize it four times._"
   ]
  },
  {
   "cell_type": "code",
   "execution_count": null,
   "metadata": {
    "id": "Ev5WMy3eF_0G"
   },
   "outputs": [],
   "source": [
    "'''\n",
    "If you want to recall the transfer functions from Exercise 2.2, you can print them by uncommenting the command:\n",
    "'''\n",
    "\n",
    "# print(tf_ctrl)\n",
    "\n",
    "\n",
    "'''\n",
    "Naming (num_xy): First digit (x) refers to the input and second digit (y) to the output.\n",
    "'''\n",
    "\n",
    "# TODO:\n",
    "\n",
    "num_11 = []\n",
    "num_12 = []\n",
    "num_21 = []\n",
    "num_22 = []\n",
    "\n",
    "den = []\n",
    "\n",
    "tf_11 =\n",
    "tf_12 =\n",
    "tf_21 =\n",
    "tf_22 ="
   ]
  },
  {
   "cell_type": "markdown",
   "metadata": {
    "id": "PRiLKQFfaJoX"
   },
   "source": [
    "### Exercise 4.2: Impulse Response\n",
    "\n",
    "Now we want to calculate the impulse response of the CS II Bot (MIMO system) by using the scipy library and the previously initialized transfer functions.\n",
    "<br>\n",
    "\n",
    "_Hint: Remember that for MIMO systems you need to calculate the impulse response for every single transfer function._"
   ]
  },
  {
   "cell_type": "code",
   "execution_count": null,
   "metadata": {
    "id": "-jAIoJykam0x"
   },
   "outputs": [],
   "source": [
    "# TODO:\n",
    "\n",
    "time, response_11 =\n",
    "time, response_12 =\n",
    "time, response_21 =\n",
    "time, response_22 ="
   ]
  },
  {
   "cell_type": "markdown",
   "metadata": {
    "id": "RVEZ1rxDbJR9"
   },
   "source": [
    "### Exercise 4.3: Plotting\n",
    "\n",
    "Plot the amplitude over time for the impulse response by using the matplotlib library. So that we do not forget what we've just done, set a title and label the axes. If there is any overlapping, try to comment out some of the lines so you can see which ones are affected."
   ]
  },
  {
   "cell_type": "code",
   "execution_count": null,
   "metadata": {
    "id": "rbEfSVjNbORE"
   },
   "outputs": [],
   "source": [
    "plt.figure()\n",
    "\n",
    "# TODO:\n",
    "\n",
    "plt.legend()\n",
    "plt.grid(True)\n",
    "plt.show()"
   ]
  },
  {
   "cell_type": "markdown",
   "metadata": {
    "id": "-8DEVsLqTcaX"
   },
   "source": [
    "### Exercise 4.1 Solution:"
   ]
  },
  {
   "cell_type": "code",
   "execution_count": 11,
   "metadata": {
    "id": "eO606cMJTkbB"
   },
   "outputs": [],
   "source": [
    "# TODO:\n",
    "\n",
    "'''\n",
    "Initialize the four numerators of the transfer functions.\n",
    "The function signal.TransferFunction requires a format like [a * s^n-1, b * s^n-2, ..., y * s, z * 1], where n represents the length of the vector\n",
    "Denominator is the same for every transfer function and therefore needs only one initialization\n",
    "\n",
    "Naming (num_xy): First number (x) refers to the input and second number (y) to the output.\n",
    "'''\n",
    "\n",
    "num_11 = [36]\n",
    "num_12 = [54]\n",
    "num_21 = [6, -30]\n",
    "num_22 = [9, -45]\n",
    "\n",
    "den = [1, -7, 10]\n",
    "\n",
    "tf_11 = signal.TransferFunction(num_11, den)\n",
    "tf_12 = signal.TransferFunction(num_12, den)\n",
    "tf_21 = signal.TransferFunction(num_21, den)\n",
    "tf_22 = signal.TransferFunction(num_22, den)"
   ]
  },
  {
   "cell_type": "markdown",
   "metadata": {
    "id": "yqonhgPl1T5p"
   },
   "source": [
    "### Exercise 4.2 Solution:"
   ]
  },
  {
   "cell_type": "code",
   "execution_count": 12,
   "metadata": {
    "id": "sMPFQV9h1RNJ"
   },
   "outputs": [],
   "source": [
    "# TODO:\n",
    "\n",
    "'''\n",
    "Use the function signal.impulse from the scipy library to calculate the impulse response of the system.\n",
    "Output of this function are two 1D arrays, one for time stamps and one for the amplitude.\n",
    "We need to calculate the impulse response of all four transfer functions independently.\n",
    "\n",
    "Naming: First number refers to the input and second number to the output.\n",
    "'''\n",
    "\n",
    "time, response_11 = signal.impulse(tf_11)\n",
    "time, response_12 = signal.impulse(tf_12)\n",
    "time, response_21 = signal.impulse(tf_21)\n",
    "time, response_22 = signal.impulse(tf_22)"
   ]
  },
  {
   "cell_type": "markdown",
   "metadata": {
    "id": "bWcTe-pDbfD-"
   },
   "source": [
    "### Exercise 4.3 Solution"
   ]
  },
  {
   "cell_type": "code",
   "execution_count": 13,
   "metadata": {
    "id": "sm5gziJ5bi6x"
   },
   "outputs": [
    {
     "data": {
      "image/png": "[encoded data removed]",
      "text/plain": [
       "<Figure size 432x288 with 1 Axes>"
      ]
     },
     "metadata": {
      "needs_background": "light"
     },
     "output_type": "display_data"
    }
   ],
   "source": [
    "'''\n",
    "Standard matplotlib plotting\n",
    "Use labels to represent all impulse responses in one plot.\n",
    "'''\n",
    "\n",
    "plt.figure()\n",
    "\n",
    "# TODO:\n",
    "\n",
    "plt.plot(time, response_11, label='Input 1 to Output 1')\n",
    "plt.plot(time, response_12, label='Input 1 to Output 2')\n",
    "plt.plot(time, response_21, label='Input 2 to Output 1')\n",
    "plt.plot(time, response_22, label='Input 2 to Output 2')\n",
    "\n",
    "plt.title('Impulse Responses of CS II Bot')\n",
    "plt.xlabel('Time')\n",
    "plt.ylabel('Amplitude')\n",
    "plt.legend()\n",
    "plt.grid(True)\n",
    "plt.show()"
   ]
  }
 ],
 "metadata": {
  "colab": {
   "provenance": []
  },
  "kernelspec": {
   "display_name": "Python 3 (ipykernel)",
   "language": "python",
   "name": "python3"
  },
  "language_info": {
   "codemirror_mode": {
    "name": "ipython",
    "version": 3
   },
   "file_extension": ".py",
   "mimetype": "text/x-python",
   "name": "python",
   "nbconvert_exporter": "python",
   "pygments_lexer": "ipython3",
   "version": "3.9.12"
  }
 },
 "nbformat": 4,
 "nbformat_minor": 1
}
