{
 "cells": [
  {
   "cell_type": "markdown",
   "metadata": {},
   "source": [
    "# CS2 Introductory Notebook 2 - CS1 recap and system modeling\n",
    "\n",
    "Welcome to the second CS2 introductory notebook! Last notebook was about getting a grasp of the `control` module. This one has two main objectives:\n",
    "\n",
    "1) Further apply the `control` module to introduce an analyze an aircraft model you will encounter in Lecture 2;\n",
    "2) Build a model for the _CS2 Bot_, a robot that will accompany us for the next notebooks.\n",
    "\n",
    "Let's start!\n",
    "\n",
    "First, run the following two cells to install the needed modules and import the libraries."
   ]
  },
  {
   "cell_type": "code",
   "execution_count": null,
   "metadata": {},
   "outputs": [],
   "source": [
    "!pip install control\n",
    "!pip install numpy\n",
    "!pip install matplotlib"
   ]
  },
  {
   "cell_type": "code",
   "execution_count": null,
   "metadata": {},
   "outputs": [],
   "source": [
    "import control as ct\n",
    "import numpy as np\n",
    "import matplotlib.pyplot as plt"
   ]
  },
  {
   "attachments": {
    "image.png": {
     "image/png": "[encoded data removed]"
    }
   },
   "cell_type": "markdown",
   "metadata": {},
   "source": [
    "## Exercise 1 - Aircraft model\n",
    "\n",
    "This exercise introduces you to a model for the longitudinal dynamics of an RC glider that will further be analyzed in Lecture 2.\n",
    "\n",
    "The state vector $x$ of the system is given by: $$\\mathbf{x} = \\begin{bmatrix}\n",
    "    q \\\\\n",
    "    u \\\\\n",
    "    w \\\\\n",
    "    \\theta \\\\\n",
    "\\end{bmatrix}$$\n",
    "\n",
    "Here is a brief explanation of the parameters:\n",
    "\n",
    "- Pitch rate $q$: The rate of rotation about the aircraft's lateral axis. A positive $q$ indicates a nose-up rotation, whereas a negative $q$ indicates a nose-down rotation.\n",
    "- Forward speed $u$: Indicates how fast the aircraft is moving in the direction it is pointing.\n",
    "- Angle of attack $w$: Indicates the angle between the wings and the free stream velocity of the air.\n",
    "- Pitch angle $\\theta$: Describes the angle between the aircraft's longitudinal axis and the ground.\n",
    "\n",
    "![image.png](attachment:image.png)\n",
    "\n",
    "Image source: Optimal Control Design for Smooth Level Turning Flight - Scientific Figure on ResearchGate. Available from: https://www.researchgate.net/figure/Aircraft-Dynamics-Moments-Control-Surfaces-11_fig1_354436448 [accessed 16 Feb, 2024]\n",
    "\n",
    "### 1.1 - Model creation\n",
    "\n",
    "The system's $A$ and $B$ matrices are given below. For the sake of the exercise, we want the <u>pitch angle</u> $\\theta$ to be the <u>output</u>.\n",
    "In the next cell, declare the corresponding $C$ and $D$ matrices of the system and create the `control.StateSpace` object."
   ]
  },
  {
   "cell_type": "code",
   "execution_count": null,
   "metadata": {},
   "outputs": [],
   "source": [
    "def get_aircraft_state_space() -> ct.StateSpace:\n",
    "\n",
    "    # Given matrices A and B\n",
    "    A = np.array([\n",
    "        [-15.5801, 4.7122, -38.7221, 0],\n",
    "        [-0.5257, -0.0166, 2.3501, -9.7847],\n",
    "        [4.4044, -1.5325, -18.1615, -0.7044],\n",
    "        [0.9974, 0, 0, 0]\n",
    "    ])\n",
    "\n",
    "    B = np.array([\n",
    "        [-421.2001],\n",
    "        [1.3231],\n",
    "        [-17.3812],\n",
    "        [0]\n",
    "    ])\n",
    "\n",
    "    # TODO adapt the values of C and D\n",
    "    C = None\n",
    "    D = None\n",
    "\n",
    "    # TODO replace the next line with your implementation\n",
    "    return None\n"
   ]
  },
  {
   "cell_type": "markdown",
   "metadata": {},
   "source": [
    "You can run the following cell to test your implementation:"
   ]
  },
  {
   "cell_type": "code",
   "execution_count": null,
   "metadata": {},
   "outputs": [],
   "source": [
    "def test_aircraft_state_space(sys: ct.StateSpace) -> bool:\n",
    "\n",
    "    A_sol = np.array([\n",
    "    [-15.5801, 4.7122, -38.7221, 0],\n",
    "    [-0.5257, -0.0166, 2.3501, -9.7847],\n",
    "    [4.4044, -1.5325, -18.1615, -0.7044],\n",
    "    [0.9974, 0, 0, 0]\n",
    "    ])\n",
    "\n",
    "    B_sol = np.array([\n",
    "        [-421.2001],\n",
    "        [1.3231],\n",
    "        [-17.3812],\n",
    "        [0]\n",
    "    ])\n",
    "\n",
    "    C_sol = np.array([[0, 0, 1, 0]])\n",
    "\n",
    "    D_sol = np.array([[0]])\n",
    "\n",
    "    if sys == None:\n",
    "        print(\"System cannot be None\")\n",
    "        return False\n",
    "    elif np.array_equal(sys.A, A_sol) and np.array_equal(sys.B, B_sol) and np.array_equal(sys.C, C_sol) and np.array_equal(sys.D, D_sol):\n",
    "        print(\"Your implementation is correct\")\n",
    "        return True\n",
    "    else:\n",
    "        print(\"Your implementation is incorrect\")\n",
    "        return False\n",
    "\n",
    "is_impl_correct = test_aircraft_state_space(get_aircraft_state_space())"
   ]
  },
  {
   "cell_type": "code",
   "execution_count": null,
   "metadata": {},
   "outputs": [],
   "source": [
    "#Solution\n",
    "\n",
    "def sol_get_aircraft_state_space() -> ct.StateSpace:\n",
    "    A = np.array([\n",
    "        [-15.5801, 4.7122, -38.7221, 0],\n",
    "        [-0.5257, -0.0166, 2.3501, -9.7847],\n",
    "        [4.4044, -1.5325, -18.1615, -0.7044],\n",
    "        [0.9974, 0, 0, 0]\n",
    "    ])\n",
    "\n",
    "    B = np.array([\n",
    "        [-421.2001],\n",
    "        [1.3231],\n",
    "        [-17.3812],\n",
    "        [0]\n",
    "    ])\n",
    "\n",
    "    C = np.array([[0, 0, 1, 0]])\n",
    "\n",
    "    D = np.array([[0]])\n",
    "    \n",
    "    return ct.StateSpace(A, B, C, D)"
   ]
  },
  {
   "cell_type": "markdown",
   "metadata": {},
   "source": [
    "### 1.2 - Stability\n",
    "\n",
    "We now want to analyze the stability of our model. Given the state space representation of any given LTI system, apply your knowledge from Control Systems 1 to write a Python function that determines whether the system is stable."
   ]
  },
  {
   "cell_type": "code",
   "execution_count": null,
   "metadata": {},
   "outputs": [],
   "source": [
    "def is_system_stable(sys: ct.StateSpace) -> bool:\n",
    "\n",
    "    # TODO replace the next line with your implementation\n",
    "    return None"
   ]
  },
  {
   "cell_type": "markdown",
   "metadata": {},
   "source": [
    "Feel free to run the next cell to execute some unit tests."
   ]
  },
  {
   "cell_type": "code",
   "execution_count": null,
   "metadata": {},
   "outputs": [],
   "source": [
    "def test_is_system_stable():\n",
    "    # Test 0: Check if is_system_stable doesn't return None\n",
    "    A_dummy = np.array([[1, 0], [0, 1]])\n",
    "    B_dummy = np.array([[1], [0]])\n",
    "    C_dummy = np.array([[0, 1]])\n",
    "    D_dummy = np.array([[0]])\n",
    "    sys_dummy = ct.StateSpace(A_dummy, B_dummy, C_dummy, D_dummy)\n",
    "    result = is_system_stable(sys_dummy)\n",
    "    assert result is not None, \"Test 0 failed: is_system_stable returned None\"\n",
    "\n",
    "    # Test 1: Unstable system\n",
    "    A_unstable = np.array([[1, 1], [0, 1]])\n",
    "    B_unstable = np.array([[1], [0]])\n",
    "    C_unstable = np.array([[1, 0]])\n",
    "    D_unstable = np.array([[0]])\n",
    "    sys_unstable = ct.StateSpace(A_unstable, B_unstable, C_unstable, D_unstable)\n",
    "    assert not is_system_stable(sys_unstable), \"Test 1 failed: Unstable system not classified as such\"\n",
    "\n",
    "    # Test 2: Marginally stable system\n",
    "    A_marginally_stable = np.array([[0, 1], [-1, 0]])\n",
    "    B_marginally_stable = np.array([[1], [0]])\n",
    "    C_marginally_stable = np.array([[0, 1]])\n",
    "    D_marginally_stable = np.array([[0]])\n",
    "    sys_marginally_stable = ct.StateSpace(A_marginally_stable, B_marginally_stable, C_marginally_stable, D_marginally_stable)\n",
    "    assert is_system_stable(sys_marginally_stable), \"Test 2 failed: Marginally stable system not classified as stable\"\n",
    "\n",
    "    # Test 3: Stable system (replace A_stable with your stable A matrix)\n",
    "    A_stable = np.array([[-0.5, 0], [0, -1]])\n",
    "    B_stable = np.array([[1], [0]])\n",
    "    C_stable = np.array([[0, 1]])\n",
    "    D_stable = np.array([[0]])\n",
    "    sys_stable = ct.StateSpace(A_stable, B_stable, C_stable, D_stable)\n",
    "    assert is_system_stable(sys_stable), \"Test 3 failed: Stable system not classified as such\"\n",
    "\n",
    "    # Test 4: Check aircraft stability\n",
    "    aircraft_sys = sol_get_aircraft_state_space()\n",
    "    assert is_system_stable(aircraft_sys), \"Test 4 failed: Aircraft should be stable\"\n",
    "\n",
    "    print(\"All tests passed!\")\n",
    "\n",
    "# Run the tests\n",
    "test_is_system_stable()"
   ]
  },
  {
   "cell_type": "code",
   "execution_count": null,
   "metadata": {},
   "outputs": [],
   "source": [
    "#Solution\n",
    "def sol_is_system_stable(sys: ct.StateSpace) -> bool:\n",
    "    eigenvalues, _ = np.linalg.eig(sys.A)\n",
    "    \n",
    "    # Check if all eigenvalues have negative real parts\n",
    "    if all(np.real(eig_val) <= 0 for eig_val in eigenvalues):\n",
    "        return True\n",
    "    else:\n",
    "        return False"
   ]
  },
  {
   "cell_type": "markdown",
   "metadata": {},
   "source": [
    "### 1.3 - Initial-conditions response\n",
    "\n",
    "In order to better understand the model, let's now take a look at the time response of the system to non-zero states.\n",
    "\n",
    "In the next cell, complete the function to plot the response to the state `x0`. As always, feel free to refer to the documentation of the `control` module."
   ]
  },
  {
   "cell_type": "code",
   "execution_count": null,
   "metadata": {},
   "outputs": [],
   "source": [
    "#TODO introduce a small perturbation by changing the value of x0 to a non-zero initial state\n",
    "x0 = np.array([0, 0, 0, 0])\n",
    "\n",
    "\n",
    "def plot_initial_conditions_response(sys: ct.StateSpace, initial_conditions: np.array) -> None:\n",
    "    \n",
    "    # TODO replace next line with your implementation\n",
    "    pass"
   ]
  },
  {
   "cell_type": "markdown",
   "metadata": {},
   "source": [
    "Is this behavior expected in aircrafts? Try to find an intuitive explanation for it."
   ]
  },
  {
   "cell_type": "markdown",
   "metadata": {},
   "source": [
    "You can run the next cell if you want to check the solution, which plots the response to your `x0`. Be sure to only do it after trying to solve the exercise yourself!"
   ]
  },
  {
   "cell_type": "code",
   "execution_count": null,
   "metadata": {},
   "outputs": [],
   "source": [
    "def sol_plot_initial_conditions_response(sys: ct.StateSpace, initial_conditions: np.array) -> None:\n",
    "    # Simulate the system response to the given initial conditions\n",
    "    print(initial_conditions)\n",
    "    time, response = ct.initial_response(sys, X0 = initial_conditions, T=250)\n",
    "\n",
    "\n",
    "    # Plot the response\n",
    "    plt.figure(figsize=(10, 6))\n",
    "\n",
    "    # Plot pitch rate (q)\n",
    "    plt.plot(time, response)\n",
    "    plt.xlabel('Time (s)')\n",
    "    plt.ylabel('System output')\n",
    "    plt.title('Initial condition response')\n",
    "    plt.show()\n",
    "\n",
    "sol_plot_initial_conditions_response(sol_get_aircraft_state_space(), x0)\n",
    "\n",
    "\n",
    "\n",
    "print(\"\"\"Explanation:\n",
    "\n",
    "First and foremost, the system is stable, so we somehow expect the response to eventually converge to zero.\n",
    "\n",
    "Then we can also find a logical explanation for this behavior: Let's say we have a slight perturbation of the pitch angle, maybe by wind.\n",
    "Instead of immediately returning to its original flight path, the aircraft might start a gentle, rhythmic pattern of climbing and then descending.\n",
    "During the climb, its speed decreases due to the increase in potential energy, and during the descent,\n",
    "its speed increases as the potential energy is converted back into kinetic energy. This cycle can repeat several times,\n",
    "forming what we know as phugoid oscillations.\n",
    "\n",
    "\n",
    "Make sure to check out Lecture 2 for a more in-detail explanation of the model with a cool video! :)\"\"\")"
   ]
  },
  {
   "cell_type": "markdown",
   "metadata": {},
   "source": [
    "\n",
    "## Exercise 2 - The CS2 Bot\n",
    "\n",
    "In this exercise we introduce the CS2 bot, a robot whose control system we are going to develop over the next jupyter notebooks.\n",
    "\n",
    "The CS2 bot's objective is to move around following a given trajectory. The states of the bot are $(x, y, \\theta)$ where $(x, y)$ is the position of the CS2 bot in the plane and $\\theta$ is the angle of the robot with respect to the x-axis. The input of the robot is given by $(v, \\omega)$ where $v$ is the forward velocity and $\\omega$ is the angular speed."
   ]
  },
  {
   "cell_type": "markdown",
   "metadata": {},
   "source": [
    "![duckiebot.png](data:image/png;base64,iVBORw0KGgoAAAANSUhEUgAAA8AAAAIcCAIAAAC2P1AsAACAAElEQVR4XuzdaVcjZ2L3//sV5D7Z3kFeQt5AHiUnD3NOHuQkc2YymYzjM5OZ8dgzjpeZsdv22D1uuzeapdk3QbNJCBBCEiD2VQihDbUESAgtSCAEdLN1t/j/7rr+zSGFwF2YpqXS7/PAh4ZiqUXmexVXVf2fYyIiIiIiemX/R/4OIiIiIiI6HwOaiIiIiEgBBjQRERERkQIMaCIiIiIiBRjQREREREQKMKCJiIiIiBRgQBMRERERKcCAJiIiIiJSgAFNRERERKQAA5qIiIiISAEGNBERERGRAgxoIiIiIiIFGNBERERERAowoImIiIiIFGBAExEREREpwIAmIiIiIlKAAU1EREREpAADmoiIiIhIAQY0EREREZECDGgiIiIiIgUY0ERERERECjCgiYiIiIgUYEATERERESnAgCYiIiIiUoABTURERESkAAOaiIiIiEgBBjQRERERkQIMaCIiIiIiBRjQREREREQKMKCJiIiIiBRgQBMRERERKcCAJiIiIiJSgAFNRERERKQAA5qIiIiISAEGNBERERGRAgxoIiIiIiIFGNBERERERAowoImIiIiIFGBAExEREREpwIAmIiIiIlKAAU1EREREpAADmoiIiIhIAQY0EREREZECDGgiIiIiIgUY0ERERERECjCgiYiIiIgUYEATERERESnAgCYiIiIiUoABTURERESkAAOaiIiIiEgBBjQRERERkQIMaCIiIiIiBRjQREREREQKMKCJiIiIiBRgQBMRERERKcCAJiIiIiJSgAFNRERERKQAA5qIiIiISAEGNBERERGRAgxoIiIiIiIFGNBERERERAowoImIiIiIFGBAExEREREpwIAmIiIiIlKAAU1EREREpAADmoiIiIhIAQY0EREREZECDGgiIiIiIgUY0ERERERECjCgiYiIiIgUYEATERERESnAgCYiIiIiUoABTURERESkAAOaiIiIiEgBBjQRERERkQIMaCIiIiIiBRjQREREREQKMKCJiIiIiBRgQBMRERERKcCAJiIiIiJSgAFNRERERKQAA5qIiIiISAEGNBERERGRAgxoIiIiIiIFGNBERERERAowoImIiIiIFGBAExEREREpwIAmIiIiIlKAAU1EREREpAADmoiIiIhIAQY0EREREZECDGgiIiIiIgUY0ERERERECjCgiYiIiIgUYEATERERESnAgCYiIiIiUoABTURERESkAAOaiIiIiEgBBjQRERERkQIMaCIiIiIiBRjQREREREQKMKCJiIiIiBRgQBMRERERKcCAJiIiIiJSgAFNRERERKQAA5qIiIiISAEGNBERERGRAgxoIiIiIiIFGNBERERERAowoImIiIiIFGBAExER/T/Pnz/f29vb2dnZ3d09PDx88eKFfAkiIgkDmoiICl1Gsrm5OTQ0VFNTo9FobDbb9vY2G5qIsmJAExFRodvf319ZWenv7y8rK/vss8++/PLLxsbG6enpeDz+/Plz+dJEVPAY0EREVNCQyJFIpK2t7fPPP6+qqjKZTL29veXl5Yjp0dHR3d3dFy9eZDIZ+acRUQFjQBMRUUGLRqNDQ0MlJSW3bt2yWq3JZHJtbc1gMJSWlj569MjhcDx58oQNTUSnMaCJiKhAPX/+PJ1Oo56rqqqam5unpqbi8fjR0dH+/n4oFEJMNzQ0NDU1+f3+3d3dZ8+eyT+fiAoVA5qIiAqOuGoQ9Ww0GisqKlDPs7Oz+CcqGe9/8eLFwcHB2toaGrq+vh4NPTc3h4/ymkIiEhjQRERUcA4PD9fX16empm7evPnw4UOHw7G9vX36ekFktFhmaGjoq6++evTo0eLi4s7ODidyENExA5qIiAqHOPEMiUTCYrHcuXOnoaFhfn4+69ll0dDBYFCv17e1tVmt1uXlZU7kIKJjBjQRERUOUc9ra2ujo6P19fUPHz602Ww7OztZ71WHpN7f319aWtJqte3t7SMjI4hpBjQRHTOgiYioQCCdkb/pdNpqtdbV1T169Gh6ejqZTGZtYiyMeo5Go+jm4uJinU63uLjIR6sQkcCAJiKigvD8+fOdnR1Ec3Nzs0ajQRlvbGwcHR2dndYsUnt9fX1ychKdLR6qgoWznqgmogLEgCYiIvVDKG9ubrpcroqKCjSxzWYT556z1vPh4WE8HhepjXp+/Pgxb2NHRKcxoImISP0SiYR4Wkpra+vCwoI49yxfSIJQxsK9vb1lZWVtbW1ut3tvb48PUiGi0xjQRESkcvF4fGpqCulcXl4+Ozu7ubl5eHiYNYjxzkgkMjAwUFNTU19fPz09LR7lLV+OiAobA5qIiNQJNfz8+fPt7W3Us06n6+joGB0djUaj+/v7Z5sYCx8dHaVSqfHx8crKSnGJIcqb856J6CwGNBERqZC4EHBnZ8dms3V2dmq12ovrGQtvbm7Ozs62tLQ0NDQgoxOJxHknqomowDGgiYhIhcQd6/x+f2VlJZp4amoK9XxeEB8dHW1sbCC1KyoqqqurXS6XeDBh1oWJiBjQRESkQgjiiYkJ1HBbWxvKOB6PHxwcnBfEiUSio6Pj008/RW3Pz8/v7u6etyQR0TEDmoiI1CeZTNrtdr1eX1NTMzs7i3oWd9KQLyeJxWIjIyMPHz789ttvrVbr1tYW5z0T0cUY0EREpBLiqsF0Oo167uvr6+7uHhoaikQiqOezTSyuGkRqDw8PazSalpYWvLG2tpb10SpERKcxoImISA3EhYC7u7uo597eXtTz2NhYKBTKeu5ZpHYqlbJYLFVVVQjoycnJ8x5MSEQkw4AmIiI1QCU/ffo0HA5XVlY2NzejnldXV8+b94x6xsIej+f999///PPPp6am0un02bPURERZMaCJiEgNUMALCws6na69vR1BvLa2hkTOWs/H0iWG/f39t2/fLisrm5iYSKVSZ89SExGdhwFNRER5b3Nz0+Vymc3mlpYWm80WjUZRz2fPKGckwWBwcHCwtra2vLx8enp6a2vr2bNnsiWJiC7AgCYionwlpjLv7u6ingcGBnp7e61WayQSQT2jiWWnn0+uGjSZTBWVlRqNZmZmJpFIsJ6JSCkGNBER5asXL16gnt1ud39/P+p5ZGQkEAiIc89n61ncoGN4eLhagjfwT9YzEV0CA5qIiPISmnh/fz8cDj969Ki9vX1sbGx5efmCe24grJHXX3311cOHD6enpzc3N88uSUT0KhjQRESUl3Z3d30+n8lkam5uHh4eXllZOe8JggjleDw+MDBw79692tpam82Gej47Q5qI6BUxoImIKC9tb2+7XK7Ozs7S0lKr1RqNRo+OjuQLSUKhEOq5urq6qKgI9SxmbmRNbSKiV8GAJiKivLS3t7e6ujo0NPT1119rtVq/3y+7b11GerTK1taWxWJBPTc0NIyOjiaTSdYzEX1PDGgiIspLz58/397e9vl8iGONRjMyMhIKhU4uChT1nE6nUdh1dXWo5+Hh4Y2NDdYzEX1/DGgiIspXqGE0tNPp1Gq1LS0taGgUs7g0UNSz1+v94osvqqqqZmZmxLxn1jMRfX8MaCIiylfiNDMa2uPxDA4Odnd3m0wm0dCxWMxisdy6dauiomJqaiqZTPKqQSK6KgxoIiLKYyfPUllaWhoYGKivr5+enrbb7Wazuaqq6ubNmzabLZVKnXd9IRHRJTCgiYgo77148QKV7Ha7DQZDS0tLRUVFeXm5uL3d5uYm5z0T0dViQBMRkRocHBwkEgmPx9PV1VVfX9/a2joxMbG1tcV6JqIrx4AmIqLclZHI35vNixcvDg8Pt7e3/X6/1+tdXl7e2NjgVYNE9DowoImIKEeJ+c2vfgr5ZD70kydPDg4OWM9E9JowoIkov6GQxG3Lsnr185eUU7DXDg8PNzc33W63y+VSNBPjheQVFyYiugQGNBHlsYODg1QqFY1Gz2toVNfOzs7q6urR0RGLKl+Iet7Y2Jifn6+pqamsrHQ6nWho7kQiyhEMaCK6Pld7PvjJkyeRSGRpaQn/vSCgxaTYUCiE5a/wu9Prg3ER6tntdvf29lZUVBQVFbW0tNhstmQyibDmTiSiN44BTUTXBN2zLTkvdhU5OjpaXl52Op0I6P39/dMfwjdCgYnMwn+x5Obm5vT09Orq6t7eHvMrl2WkScwIZZfLZbFYOjs7BwYGuru7Hzx48OjRo/n5eXzo5GHdhSAjzVB6LrmSFw4RXQkGNBFdE3TPwsICkhd1K/+YcgipkZERfMHd3d3TTSz++h+JRE4enJGRHlbn8XhsNls4HObj6HIZ9s7Ozg52q8FgQDePj48Hg0G/39/V1VVXV9fe3m6327FAgaSkGE5g1IdhJ47zk2EhEb1xDGgiuiarq6vIIFQRkuh7BhAyoq+vD3V1dvJGOp12uVxoZWTH6fc/ffp0dHR0enp6Y2ODFZKDRCw+efLE5/MZjcbW1lYMkGKx2IFEPJe7trYWDe1wONDQqr/Dhhj4YYNEo1Ec5zhucQyre5WJ8ggDmoiuA37xW63Wmpqa6urqgYGBw8ND+RLSrAyEUTweR2qfnGzDO7e3t9fW1k7+cI/3JJNJfCm32306KfA20hyV3NbWhvbC15F9F7vdPjg46HQ6C2oOQF4Qsbi7u4s92NPTo9PpZmZmEM0nf0bAR7FDx8bGqqqqysrKENkoS7X+MSEjERsE9YwBAzYLXgW8hpIodzCgiei1e/HiBZK3paWlpKSkuLi4ubn57JnjY+nSMTQTMtdkMqGWROYii1dWVsxm88bGhngPygnL1NXVoSpOp/Dm5qbNZuvo6ECjz87OorllM56Xl5f7+/stFgu+5sk7KReIe264XC6j0Yg9ODExsb6+fvq+deL8NGoSx8aDBw8aGhrm5ua2trbOHkUqIOoZg0kcw4uLix6PB1tjf3+f9UyUOxjQRPTaoYxRtJWVlfclFRUV4+PjZ2dCi1PLWLK+vt7tdotLAxHBgUAAwRQOh8UZZWRTb29va2ur7O516XQan4v8ampqQnOjp2VnoBHlCGitVoscYYvkCHG2FTvL6XR2d3fX1tYODQ1hfJV1vu/u7i5qEgOwTz/9tLOzE4up7yS0GCqgnrF2qGe8EBKJBF4F6ltTorzGgCai1wuNi7RF7z548OCepLi4uLGxMZVKyZogI90xQ+QyClvcdQ6fvrGxgU9HRojzzfgnElmv1yOITzcWPmq323U6XV9fHz739PlLAeVttVqRX36/nzmSC8T+xTgHpSjmPff09OAAyHq2Fe/BgeRwOLAHb9++bTabcQCo7Ay0qGfk8trams/nw2YJhULYGipbTSIVYEAT0euFlvV4PGVlZaKe4f79+4hpl8slu4GGEI1GRQRvb2+L05N4w2KxnCy8vr5eWVlpMBiQ1Kc/HeWB7G5vb5+dnc06y3lnZ2dkZATtjs7OugBdp4w0UeHp06erq6v9/f0tLS3YywjHrPWMgsQB8PjxY+z3+vr6oaEhlKXKLqoT9YyVwsAALxm8QMLhsMrWkUg1GNBE9Brhdz+SqLOzs6io6CSgBZRu1pvKIYtNJhM+mkql8OnIppWVleXlZXE9Gd4Ti8UePnzY29ubTCZPtwWWN5vNiG+kVdYzdkj5sbGxhoaGqakpBvQbJ6b5Ys/W1tZiVIPBD8ZO5+2Xg4MDh8Oh1WpxYIyOjmIQhfdk3cv5S9QzhhMzMzNutxsZzXomylkMaCJ6jVBIdru9oqJCVs9QWlpqs9nS6bQsETY3N4eGhpC5GxsbiCRkhM/nO32uGvFUVVXV09MjOwO9tLSk1+sR1uLU9cn7T+CLoL3Qavi+54UaXY+M9IcFZCKaGMMhjHzEjVbO7riMNHPD6/Uajca2tjar1YpxV9YZ0vkrI9nb24tEIi6Xa35+XlwCq7IRApGaMKCJ6DVCEKCGa2pqKisry8vLH0jwBv6JCEYMIRRklbC1tTUxMYGPIp2RyKFQKBqNnj5RLeZAd3Z2yuZAI4t1Ot3w8PDh4eHZE9vH0lWG+GHwuei2rAvQNchIExVQz48fP0YTYxxlMplWVlayPmgdxwbeL2ZId3V1jYyM+P1+DITUVJaZl1NZcDxjnICAxqtGxTfpI1IHBjQRvUbhcHhyctJsNiOS9Hp9lQTta5IglLGALIaQVrOzs2VlZcsScRHV6QVQ2AaDoaWl5fRdOFAh/f39+BbiESpZz1CivAcHB1tbW8+b40Gvm6jnnZ0djGFwVLS1tXV0dAQCAeSjbI9kpOsL8f6lpSXsNexZDI2wJPa+mspSbBAMCcQd67BZgsGg2BpnD2Aiyh0MaCJ6jdC+KJ5Nic/na29vRzB5vV60LN6DD529Ygx1NT8/X1JSMjIygtI9e6Eh8gILVFdXIzVES2Wkx3fjKyOsFxYWxKVXZxN5dXUV0dbd3X3eHA96rUQTY2yDDsYgqqamBvsCO+vsMXAsnXvG+5GVAwMDOGxwMGA0hWNDZXNvsOI4VjEUxCGNcaM4E3/20CWiXMOAJqJrEovF9Hp9V1fX2Wkbp6GYXS5XQ0ODeNrc2bRCNKfT6aqqKqfTKRbISNNkm5ubNRoNSuv0YwtPQ1v39/cjU06eb0fXSTQxDoPS0tLKykrsi5Mh0Fl7e3s4APr6+jAuslqtGPwgNM9bOE9lpPs2YgiBY1IM/FQ2O4VIxRjQRHRN0LU6na6zsxPZdEEloLGi0ai4yd15i+H9AwMDo6OjJzNA0Ftzc3MzMzOBQODsSWuxAJafmJhAwJ33Zen1QftubW15vV6DwVBcXGw0GnEYZJ1pcyxN4/H7/ehmHC2Dg4PYpyo7LytOxourBjEOnJ+fx5HMqwaJ8ggDmoiuCYKpo6NDq9Wihy4IhefSgyS+MyYQHCMjI263W+RyRrqrA2R96gQ+im86OTmJLJPNqKbXTcRiKpXCzkI9i3tuLC0t7ezsnN1TIisfP36MekZkYxf7fL50Op31Bh15KiNdNYghAQaKqOeFhQWMLXEY48hXzToSqR4DmoiuyfLyspgDjTw6W04nRG99Z0kcHh4iyBwOx+rqqmjiF5Kznyju+TA9PY2GxhsXfGu6cienWsWTujUaTVtbG46Es3eZEKMg7MpQKDQ8PIyF0dCoZ5S3mur5WDogsfoYAbpcLhzAKysrrGeivMOAJqJr8ooB/erEM1aQ0advxyGTkR7Fgno7yRT5EvTaiHrGUAeDHK1WW1pa2tLSgj7OOnNDLJlMJsfGxsR9WtCX4tyzbMn8dTJIiMfj8/Pz4+PjYixx3tFLRDmLAU1E1+TKA/pYmjC9ubmJHDnvCx4dHe3s7CQSCfU9uC73IRbFo3BKSkrKysoMBoPP5zsviLEr0dloyt7e3uHhYRwk4tyzfLl8lpFuWhcMBm02GwIab1ww0Z+IchkDmoiuyesI6OOX93Y4e0ZTQK+goa/w29ErwjYXTxDs7u6+e/cu/hsIBPb29rLuKfHHBNRzV1cX6nlpaWl7e1tNMzfEyXhxgezCwoLdbg+FQtga/JMIUZ5iQBPRNXlNAX0s1Yn8Xadc/FG6cmKiAurZ7XYjiIuKisxmM+o561WDGelWbqjJyclJo9FoMpnQ3PhcvFM1Oy7z8qrBWCzmcDhcLlc4HMYIgfOeifIXA5qIrsnrC2jKHeJUK3oR9azX62tqajQaDfo4612cRVkmk0m73d7f3z84OIi+xD/VdO75+OUDyVdXV7F2c3Nz4vFAKltHokLDgCaia8KAVj1Rz4eHh4lEQqfTFRUVoZ5XVlbwnrOxiCWPjo62t7c9Hs/w8PDQ0JDL5dra2lLTY27EyXgxERzpPCjd05pP6iZSAQY0EV0TBrTqiVgMh8MPHz588OABdvfCwsJ5QYwlY7GY3W43Go1Wq9Xr9W5ubp49S53XxIgCG2R+ft5ms+HIT6fTPPiJVIABTUTXhAGtYuJU6+7u7uLiYmdn561bt7Cj0cRZnwp5LN3GO5FIoJ71en1fX5/T6dzY2FDZvGcc5BgkRCIRjCIcDkcwGHzy5InK7itCVLAY0ER0TRjQKiYCOhqN9vT0fPbZZ93d3djL4jq5s0silJPJJFLbarXqdLr5+Xlxn0E11TNW/OnTp/F4fHZ2VjzuZ2dn5+zWIKI8xYAmomvCgFY3VGMwGKyvr//FL36BJs76dL2MdNUgctnpdI6Ojg4ODk5OTqIys06Szl9YF9SzmLkxMzOzsrLCeiZSGQY0EV0TBrTqIRlbWlref//9qampzc1NWRaL87JPnjxZWFgwmUy9vb2IS5XN3BCwRuKqwf7+/kAgIO65IV+IiPIZA5qIrgkDWvW2t7cdDkdjY+PXX39tMBhCodDpKwhRz0jJ1dVVnU6n1+snJyfX1tZUeV42Go06nU6bzeZ2u9Pp9Nkz8USU7xjQRHRNGNCqh1Lc2dnxer23bt0qLi42Go2BQECcfEVJp1Ip7Prh4WEcAxMTE6hnNc17PpZuzIc1wnphFDE/P7+yspJ1HgsRqQADmoiuCQO6EGDPohpnZ2ebmpqqq6sNBkM0Gt3f39/Y2EBYDw0N4QCYmZmJRCLnPdY7T72QntS9vr4+NjaG1Uc9q+mOdWL6DQcDRCcY0ER0TRjQBULcgMJms2F319TUtLW1BQIB/LOvr6+7uxsNHY/HDw4OVHYMYDwQi8VcLtfExITf71fZE2GwLhgXbW9vczI3kcCAJqJrwoAuEBlJOp2en5/XaDS///3vkc5arfbRo0dmszkajarsnhvH0m2t19fXPR4P6jkYDCI0VbOO4twz9ubq6ioGQqlUCqvG1y8RA5qIrgkDuqBgF29sbMzMzNTW1iKjsev7+/sXFxdVU5aCGC1EIhGn02m327GC4o516ljHjPQ4GNSz3+/H2MBisczOzsZisf39fXWsINGlMaCJ6JowoAvNs2fP0F7Y7729vZOTk6FQ6OnTp2oKL6yLOPfscDjEk7rFJAd1rGNGeuQN9qDL5RoaGsJO7OrqwusXaxqNRlU2hZ1IKQY0EV0TBnReE3/KR1EpuvEcdjQSMxwOJ5NJlZ22FPfc2NjYmJ6ettvtOLxTqZSijZPLMtIjbzAe8Hg83d3der0eDT0zM4PXr9FoxPqqcioO0atjQBPRNWFA5zWk4dbWFrJJ6c0lRIqpZlbDib29PWwNl8t1cs8NNV01KO5IiNcs6lmr1Q4PD+NlG4vFbDZbf38//rmwsKC+R0gSvToGNBFdEwZ0/hKxiGaamppaXFxELBby3RiQjAcHB8hHp9M5Pj4eDod3d3dV8zxFMeARc28mJiY0Gg1yWVwZub+/n0qlHA7HsMRutyeTSV5TSIWJAU1EWWSki4eeSY6uCLq5TeLxeNAf8g9flirPbuYOMXNjaWmpt7e3paVFp9OZzWaXy4WcwhFSgJtd9CXq2ev1zs/PY1M8efJENUeg2N2oZ5/Ph0Tu6uoaGBhASZ88EQb/xbpjxfH+vr4+vIGGVtkDcYheBQOaiOQy0qVR+L0YCoX8fr/viuD3cb0Ev3oRH/IPXwqiHG0XiUQQMTwN9jpgiILNi2guKyurrKzU6/WioXFgqGzSwqsQL41EIoFBoMPhwEbY3NxU01WD4h7ei4uL/f39Wq3WYDBg7+/v75+e240tgHfOzMx0d3f39PRgCMGGpgLEgCYiOQTBxsbG6OioRqMpLS29f0W++eab25Jbt27du3dP/uFLKSoqQtXhNz0yGr/C5WtC34M41Yo2QjRXV1eLE8/ikSgWiwWjIETk1taWai6b+04nA8vx8fH5+fnV1VWV3XMDu3Jvbw/rhSx+9OiROPecdYyEpBbnodvb28WBgUHFkVomsRC9CgY0EcmJ2yZ0dHQ0NjbW1dXVXpGSkhJRvcXFxTU1NfIPXwrCDomPKJ+ent7d3eXv7yuESMKwpK+vr6KiQqfThUIhHBgYpaAg7Xa7wWDo7+8XZx8L5Nw/Noh41iACWsxqUNOKi3tuiD3e2tqKLH78+DFWWb6c5ORM/NTUFI4EDKgcDsf6+jrPQ1PhYEATkRx+CwaDQfwSHRsbc7vd/isyMjLS0NBQX19vtVp9Pp/8w5eCmunt7f3jH/84NDS0s7PDX95XZW9vD8WMisL4pK2tDdtZbF5x7zaMr0ZHR7Hl0dA4QlSWkmdlpKsG0Yter3dmZgb1LJ7UrY7jTexW1DOKeXBwEGNm7Fa8uMQ0d/nSL4kjQZyPFw2NYRXPQ1PhYEATkdz+/v7KykpLS4vH40mn0/g1eXgVEM3iIkIkF/pM/uFLSaVSk5OTn332GX7l4/c9f3N/fxnp8RkYQQ0PD2Nn4TCw2WzYzid/yscCiOlAIIARkdFoxGIISpXd4/m0k7OtaEocuuJpKdgaF8RlHhEzN54+fYqdiHrGsBk1jJcq1vE7J+dkpEk++H8FRto9PT0YUGGghUOlkO/QQoWDAU1EciKgHz16hFbAb1b5hy9r+TXcxu7JkyczMzMM6CuEbIrFYkNDQ01NTXq9fnFxcWtrSzbTF8vs7u5iP1qtViwzMDCAZVS58UU9b2xsYDssLCzgdaGyJ3VjXfAiwngJwyHUM4ZMeBuv+u+s5xP43wVe2jgGMNZCQy8tLanseZNEWTGgiUiOAV2YMhJsUuz68vJycSYSB8DZnZWR/uiPaLbb7TU1NXfu3FldXT27mAqgI9fX18fHx0+elqKm1cS67O3t4YWJ9hV73O/3Y8AgX+5CGekvEjhUjEZjUVERxlSbm5tq2kpEWTGgiUiOAV2YsN8jkQhi8eHDh+J23edNbha3a0Az9fT0VFRUaDQaVGbWJfPa0dGROPc8MTGBg1bMe5YvlLewv/DqXlpa6u7urqysFHOrLnErG2yTaDQ6NTWFV3dtbS1ejyobZhBlxYAmIjkGdAFCEIfDYdRzU1OTmMy6ubmZ9YIwvEdccIbwqqqqwg5FYuLTzy6Zv8QVcqjnQCCArAyFQqhnvOeqjts3S/wBAaMjvCTxwqmpqcEe93q9WEdFKyi+Tjwen56exku7sbERIw0MpQ75fG8qAAxoIpJjQBeUjHQpWDAYHBsb65Z4PJ5UKnU2g0QwoSP9fr9Op6utrcUOtdlsKnuKTUaa94wQxIGKTSHmPavpqkHsbryusV4Wi6W5ubmrqwurKe5pLV/6HOJIwDbBrp+dmdHr9XhdDwwMRCKRs4cNkSoxoIlIjgFdOEQJbW5ujo6OtrS0oIQeS3eZOPt8kIwE9RyNRs1m8+3btxsbG51Op/r+Xo8u3NraWlxcxNjALz1w8ezWyF9i5sbq6urw8HBNTY1Go8EeF08jly96PjHGSG9tYft0tLc/am7G8ROLxVjPVDgY0EQkx4AuHKKJLRaLuH+Zw+E47w4M4swlIkmr1d65c6erq8vn86nv4TVYHQwnPB4PxgZLS0tqelL38cvwDYVCeCU+ePAAL0as6SWm34jZ4XM22907dxobGqanp9fX17MeNkRqxYAmIjkGdIFAOsfj8bm5OewUs9nsdrvRi1kzSHS23+/v6ekpKSnRaDTBYBApdlX7MUeglVOpFLrZ5XKhMtPptJpOqWakO3wHAoHu7u7y8vKmpias5iVu4I3lxTMI8RXu3r49MjKSTCZfffoHkTowoIlIjgFdCLCXo9Eotl5LSwsaCHGMes76KGa8Z3d3V9yuobi4GMsvLi6qbN4z1gWtvLW1hb70er1ra2s4nFQzQshIE3XEdaJGo7GiokKv12O8pOiqwYwE4yscJ2LQVV1dPTw8jKMo62FDpG4MaCKSY0Crm8igWCyGDEJOtba2iqelZO3FjPRHf5/Ph+SqqqrSaDTY4Ofd3i5PiXVMpVI47D0eDw7Uk2cNquOIErcdRD0PDAw0NjbiZehwOMTcbvmi5xNjDGyZqakpnU6Hw8ZkMqGe1XSSnujVMaCJSI4BrWLiZCS2FRKqr6+vu7t7fHw8mUyezSBxxhEdidTu7e29fft2TU3N/Pw8QvOqdl+OwDpigwSDQZfLFQgEsm6N/IUVEfU8MjJSXl7e3NzsdrtRz1nn6pxHHAn4LGyi2trayspKi8WytramphtjEynCgCYiOQa0imWk2czYaAggq9WKIF5fX8/6J3gR0GgmrVZbVFTU2tqK5t7Z2bmqfZc7MCTAwenz+XDYb2xsZN0a+Qv7C6WL1923336LenY6neIPCIrWMSM9bhD1fPPmzbKysoGBgdXVVUUnsIlUhgFNVHAODw8TiQR+/62cY3FxcWRkpLi4eGFh4Qpvs/A6Aho/3sTExPvvv6/RaPDT4lvIV+Z/Qyxe4p4DqoFdj0B0u92dnZ1oII/Hg39mvcsE3oNx1NLSktFoxJGA8MJew6a7qh2XI54/f44RAg4Mr9cbDAbFPJazWyNPZaS/NgQCgV5DL6q3srJS3GVFaT1jK+H/GDabDYOoP/3pTzhyOHODiAFNVHA2NzcRnRaLZXR0dDwbq9WK0v3qq69mZ2ev8LTuawpotP4vf/nLoqIis9k8NjYmX5mXhoeHDQbD9PQ0UuCqvnt+OTo6SiaTTqezp6cHm2Jubi4Wi513tvXJkyfYX1jyzp07LS0tLpcLR4KathvWBSOHnZ0ddPPpc8+qWceM9KcG7OLu7u6K8gq87lDP591l5QLYIHjJ4IWDekaCi6sGL3HvDiKVYUATFZxQKNTQ0NDY2DgzM7OwsOA8w2az9fX1oZzsdjsK46p+U76mgEY0v/vuu/jVjlFB1tURsFhNTY1er0cwXdV3zxfiTCTiSfxtARsBQ6NwOJz1WsCMdImh3+/v7e2tra2tr6/HwkovOMtxmZczetfW1rCmOCQwtBA3wL6qo/3NykiXRaKeTSZTXV1de1v7vH0e65v12eznEUcCNgteWRhEaTQao9EontR99rAhKjQMaKKC4/V6v/zyy/Ly8tXV1e3t7Z0zEomEy+XC712Px4Nfn6/+G/diryOgnzx5Mj09/fvf/76rq0vceky+Mi/5fL7i4mLkIL670pNweU1kEFoZWwD1bDabxUPj9vb2sm4H7Jp4PI4RVGlpKUZZOBK2trZUU5aCOPeMIQReC+Lc8/7+vprWUdyjEIPGu3fviqsGt9OK/4CArYTDBq8X/K8A/7tAi+MlpqZxFNH3wYAmKjhIot/97nfIo83NzazFoMqLCDFaKCoqqqqqWlxczBqOapWRbsLgdDotFovRaERUYVNcMFcBC7e1tYl5zzabLetZ6nyXTqdDoZBPguEiDniVrSPGBjqd7ubNmxUVFXa7/eKXRlZYHi8uvFju379fVlaGesbrl/fcIDrBgCYqOAzowgnoZ8+eYbMEAoEeyfj4OPbCefOesd+RlYODg2gmcVEmPldN52XFyXgcM+hLHIRLS0vxePwSF9XluGAwiN7FC/zevXt4dYidKF/oQtggGxsbKG+8YL/55hu8uNbW1jjvmeg0BjRRwWFAK+2JPIV63tra8vv9Q0ND4n7P2K0750xqx47GDurr67t79y52E+o5lUqprJ6Pjo5wwKAFMaLApkgkEufNY8lHGemqQQwJDAZDbW0tXmg2m01cNahoJz6XnjWIz21paSkvLx8ZGYlEIqxnIhkGNFHBYUCrppnOk5Ggnn0+3+joKOp5cnJyWXrA3tl1z0iXGGKn9PT01NTUNDY2Op1OfK6iC85ynzgZjxbEmop6Vtm5Z9Qzxgatra0VFf//PTcu8QcEbBBsFoy1mpub6+vr0eLYULxqkOgsBjRRwWFAn41IlclIcxWwwa1Wq16vN5vN4XAY2+rsioslk8mkuN9zXV0dts/Ozo7S8Mpxz6XLKFHPXq8Xh5+YuXF2a+QvNC5WCoOlDz74oLKycn5+HkMgpa+y59L8Fmyf6urqBw8eoJ75tBSi8zCgiQoOA1pN5ZQVNu/BwcHs7GxbW5tWq0U1YkOd3eainrGLkUrYMhqNZnx8POuSeS0jXQ8Xi8UCgQA2BTIaMa2mLsQKRqPRoaGhiooKhC924sbGhtKDHF8ER4LP50N/438OXV1deBtHkXw5IpIwoIkKDgNaaVvkHWxe7MSJiQk0cWdnZzgcznrh4N7eHjbL8PCw+KO/3W4/78GEeSojzU7BMYy+XJKsra2hnlV2fh2vLIvF0tDQUF9fPz8/n0qlLjH9Zmtry+Fw4DC4e/euyWQKBoPqG0oRXSEGNFHBYUCrPqDFqWWn06mX4A1ElezWddjLiKS+vr6vv/7aYDD4fD4klMrqGauDQUIkEkE64/CLxWI4YFRz7jkjPS0Fr2KtVltWVtba2oodfYnpN1gerx0MnxobG4uLi0dGRvisQaLvxIAmKjgMaNUHtIBenJ2dNZvNqGSPx5NMJk+fhw4EAkajsaq6Cu2FbSJmSF+wAfMOQhkrtb6+jrEBAhpbQ2Xnno+OjuLxeFd3F/agRqPBC0HctFvpCuKzRkdHa2trHz58qNPpcJyoaRxF9JowoIkKzhsJaHwjRAwD+jqJm5rZbDZUETIa+31jY+Pw8BCrjzcs/RbUc119HRZIp9Mq2yZibjfqGeME7PFoNKqyec9i505NTX311VeNmkbsRISv0p2YkeY9e73e8vLyW7du4TjB5uLTUoheBQOaSOUyEgTr85ccDsfHH39cXFycSCSQFCfvP4HfqYjdpqYm/GYVJ+2+P/xW9vl8ra2tbW1tHo9HZNz3t7Ozg4b49NNPTSZTKpXKujoChgT37t2rrKx0u90n3/2F5ILszncYC0UikcnJyZaWFjQ0tjx2+tbWltlkxnt0nTpsPbHd1LQRRBdiTbHTUc/iGe+XmBacs3DoYqWGh4fr6urqG+pFPStdwYz0iEq8xpubmxHQqGe8NDAiVfRFiAoWA5pIzVCH+LWKCEZMRF8aGBj41a9+dfPmTfy+RF2dvP8EsgNdVVZWNjo6ipLOuoxS4XB4bGxMXOc0ODi4vLx8JV82EAj09vb+5je/QQ4ilS74mjMzM1988cXt27eRHfhhxDuxWZBWWS+wUwdxNWEsFsNW0uv1GGYMScofluOfOADS6bSa6lmMFbHK6+vrOIxxeASDQYyy1LSOx9KTuvEiwqsJA0IU8OWGB9gsGFBptVqMpU+uGnyu8Bw2UcFiQBOpGbpB3P7WbrePj4+PSZCwP/rRj377298iqsR7ZPC7ua2t7caNG83Nzf39/fIPXwpavLW1Ff2Kir179y6+Mr47Uh45iw/Jl35l+PHQED/5yU/u3bvX19d3wZfq6Oh49913P/zwQ41GMzIyIt6JzYLMSqVSSuMjj2SkS81WV1dxAGCYUVRU9NVXX2FriGcNXtVcmhyB/hNzGzDwQz0jNBGXqqnnjPQwRYx5DAYDDnu8iDDQxQtc6dqJO5OgnvFaKCkpsVgsODx41SCRIgxoIjV7/nImqNfrtb+EkP3P//zPjz76yGq1nrzzNPxW7u7uvnnzZmdn58TEhPzDl4Xf0+Xl5X/4wx/eeeed999//86dO1qtFgE9MzMjX/SV4cdrbGx8++23y8rKkMVzc3PyJV5Cr//P//zPp59+im9qs9nEO7FZxN/31Z0OGemmHOKPABgaVVdXI57Ezc7ki+YzrOPe3t7Gxsbi4uLjx4+xZ8XcbtXsXOyvRCKBI7mmpgb7ES8c8bh1+XLfZWdnBwd/e3s7Klyv12NDoZ5VNpQiet0Y0ERqJsrp4OAAjbj1Eirqvffe+/bbb5eXl/EL+OT9J+LxuMPhqKqqmp2djUajWZe5hGAwODAw8ODBAwT0T37yE+RsU1PT+Pi42+0OhUKbm5uX+EaRSARf88MPP0Trr66uXvAVnE7n119/je8+PT2NxhLvREkguVTWkecRcYmttLS0JP7or6ZmwrqIFcRR7XK5sJrYv4eHh6qpZzQuXoyTk5N45XZ0dOB4xsoqnbmBhXHM4xX36NEjjGZNJhM2F7abuq8EIHodGNBE6peRJoaeEBcRlpSUiMv2T39IEBcRNjc3Ly4uiosI5UtcCoJmbm4Ov7lv3rz5i1/84q233sIbDQ0Nvb29c9KNIETLKvp2qAEE8Y0bN8xmM77+BZ+7srJy//79yspKj8cj2lHISOSbLLeJcRHqUFEEi8/Cp4hrKPNurS+AdUFfYgyGkZjX68VQ7ex9r/Pas2fPwuGw1Wqtra2tr6+32+1YWaVTU8RWQnm3tbXhi/T09Ijb7IhXgXxpIroQA5qo4LyR29jB9vb2/Py8yWRqaWlBOv/oRz96++23P/jgg1u3bjVpNMh6cR5a0SV9BXgbu4w0p3ljY0M8V49TV9F/YoPg+PH7/YFAQGXn17Ei6+vrYrYSxr1i8rrSc8/H0p8glpeX9Xp9WVkZRq04fjD+VM1WIrpmDGiigvNmA3pqampubq6tre2//uu/fvCDH/zkJz/59a9//cknn9y/d7ejo2N2djYWi52cIs36451WUAEtNoiYCCuefNHV1YVqLOSGFvWcTCaRgz6fLxgMij9EqGaDYF3S6bTVasXrsbOzEy8Q8YRtRSv4QrozCeoZL7G6ujq8WPACFzM35IsS0athQBMVnDcb0Ha7HS07PT198+bNX/7ylz/96U9R0u+8884fv/i8qqrSaDQ6HI5wOLyxsfEqf4IvtIBGPadSqYmJifr6euzByspKRJXX61XTI0JeHQ4PHCTYINinYuYGDuk83blZYbfG43GDwYDdjR29sLCA1+MFB/l5kOB43Wm1WlHPkUjkVV5cRHQBBjRRwXmzAQ2xWAxfX6fToaF/9atfvf322++//z7SVq/XDw0N2Ww2xBB6F3H8nV1YOAEtYjGZTDqdzvb29qampsHBQURVWVmZuJGCoqkvKiA2yNbWFvYsynJFuh2hmjbC4eFhIpHAUPP27dutra0YWGJUeYlD9+SqQbzkxR3r9vb21HSSnuiNYEATFZw3HtDiYXh2u728vPzjjz/+7W9/+/nnnyMRRkdHUYdLS0vhcBjLvMqttQokoLFeSENsE2y97u5ujD3Gx8eDwSD+iZhubGwcGBgoqNOKGel6OBQzdqvP51teXhaz59Wx+lg7DB2xu+fm5jA6qq+vn5qaWl9fVzo8EPNbUM89PT04SLRaLQ5+XjVIdCUY0EQF540H9MbGBn6vI/g6Ojq+/fbbmzdvFhcXG41Gm82G74ufam9vDwu8yq/5AgnoF9JlZNg+yCmNRoN6Rl1hK2FbYW/qO/WNDY14JwYeeOcFG0EdRF+inkOhEOoZR2k6nVbTVYOinvFKMRgMGCDhDez9VxlPnvZCuq8fNlFvb29TU5PJZMKRL26MLV+UiJRjQBMVnDce0Pi+L6Q70M3NzaGhq6ur29ra8L3GxsbQiAhrcYeBrD+bjLoDWmwEQAlNTk4+lOAN1JX4Ezz+iy2wGlpFHhXdL9LpdAgmdd/WWtTz7u5uIBBYWFjAYXO5h4nkLKwgjmSr1Yrq7erqcjgcWNlL3LHu4OAAB0OTpgkv5KmpKbysxMwN+aJEdCkMaKKCkwsBnZGuh0smk8hfZF9fXx962ul0Tk9Po4rW1tZecY5mIQT04eEhKqq1tbWioqK3t3djY+Psai4vL2McIm5Phr32nXPH85Q4bLCjcXy63W7syng8ni9781VgYIlXB14FTRK8gdfF2d39nbCJPB5Pd1f3g6IHA/0DeKEpOntNRN+JAU1UcBDQH3/88a1btxCsyMrwGYFAYHx8HDWGBVCol/j9nZUsoMVFYCi/kZERfDtxQRi+td1uxzL4lf8qU1p3d3cnJiY++OCD5uZmFEPW1RHEfT/Ky8uxWL4kF2IR28rr9bZLJicnxUTns3sEm2tsbKyhoQEZPTw8jOaWLaACYiyBgyQUCuEYXlpawlqr6RZ+YndjsIR9rdfrp6amMJK8xK7EiwJDC0OPobamttfw/+73fLl7dxDRBRjQRAUHBfnpp59+9NFHTU1NWq1Wd0Zra+vDhw+xALo2nU5f1a9eWUAfS0mUSqXwCx4Z/UyCD+GfaIj5V5v3ubOzY7Va33rrrc8++0yj0WRdHaG2thbDBqwXejQvAlqcoZ+dna2vr3/06BHGCajnrM+mxurE43EEdJsEQ4VLVFeOE+eecTQGg0HUMwZaop4vPjzyRUaajYODf2FhwWw2GwwG7HeM+pDCilZQXDXo8/nwoujp7rGYLShpvO7U+hcJojeIAU1UcFCrpaWlN27cuHPnzv1s8H589Gc/+xl+DSNwzxbb5ZwN6GMpE/ck4j0ikvATDg0NIfRFQ1/wA+Br9vf3/+AHP/jFL37x9ddfy9fklNu3b3/xxRfNzc0I9LwIaGx5DCRaWlrwY1ssllgslvXcM9YFmYVRgdFo7OnpmZycDIVCebGCimCNMFhCU6KenU4nDiFxmal8ufyEwN3a2sIBj52o1+vnpVs9Kp2yLK4axCbC0YIvgtHv2toajo1XnA1FRIowoIkKDkIEv6qnpqamp6dnshkbG8MvYPSozWa73BTMrLIG9FkilQKBABp6dnY2Go1e0Enog9HR0V/96lclJSXI/fPW6IR4zvMF3z13LCwsNDY0lJWW9vX1iQsr5UtI0Ew+n89gMHR0dGBToJ/U9/f6jHRJnLjfsxhWnbc18hQOY7zWtFotdiJefclk8hLDA2wTHCcYcWk0msHBwWAwmPXvFUR0JRjQRIUocyE02fLy8qNHj1BmV1hjrxjQxy+fkWG32ycnJ51OZywWOy8mnjx5gmi+ceOGxWLZ2tp6Id357mLyL5FjxF/hMXJobW2tranpMxrT6XTW1cc7EV7YU6gltNfIyAjevsI56zkCqymuGnS5XKhnlV01iJ2F41bcqrm9vV0MgS4RvnidhkIhfHplZSVGXBgoYhSa9bAhoivBgCYiueu5C4f8w/8bfvcjLMR8aEgkElmvKTx9F44rnK79ppxcNfjw4cO6ujo08clN/c4uifX1+/1YxmQyjY+Pr66uivudyZbMa+LPERgYYETxKlN68gt2FnYihoh9EhzJiGAc0meP84vhU7CJUM9dXV1WqxWvGnxZlR0JRLmGAU1EcrkQ0MdSPIlrCu12O9oiHo+fvWjs1W9jl/uwvqlUCitbU1NTXV2NNQoGg1nnPWMjYMnFxUXUM8IL5YT9pbLZrhnpujocfhgYIDHdbre4k7HSuMxNYu2QuVgvi8ViMBhwGIfDYYwWFJ1fz0h3xRbjKBwJAwMDYpJS1kEXEV0hBjQRyeVIQMPh4SFKET+GyWTyer3i3nanF1BNQIsmRk7pdDqsDkoofM5jBbEkdgo6Cct0d3fjvyjpS5y2zGWiCzEkiMVi2CYul2t9fV019XwsnXvG4YrBodls1uv1Y2NjGCxhJyqqZzHbBy+KoaEhfBGEuMfjEeeezx42RHS1GNBEJJc7AZ2Rbl62tbWFRpyamkIfyB4joo6AFqs5NzfX1NRUXl7e29uLcDxvIiyWRFsPDw93dHSI5zOLyd/y5fLZc+kJi2LmhtPpjMfj522NPIW1w45DPXd2dmJXop7FHxDky11I3PZxZGQEXwRHAjYUxmCcuUF0PRjQRCSXOwF9/PKP3egnr9drt9vR0KdvSaGCgM5IzwcRj0GprKxEPWNFsk7GQCVjfVHPWNhgMAwODmKbiIVlS+a7dDodCARskrW1NZVNSBADQovFotVqRT2Lk+uK1hGfghcCBl06nU4cCRhb8twz0bVhQBORXE4FtIDlEVVLS0siqhKJhDglme8BLf6U7/f7792797C8fGBgQDzGXL7cqcvpRkZGUM8IL2yNbdU9IwOrKW4Cg926sLAQjUav8D4wb5yY1e12u3G4ip0obpySdY9f4ODgAOOoqampnp4eq9WK16m4MbZqNhRR7mNAE5FcDgb0sdSaGxsb+JHm5uaQVngbGYGmzNOAFmfWxcPnmpubKysrTWYzcko2yftkYawpdsrExERXV9fg4KDP58OIIuuJ6jwlNghqUjypG5WJsQQOP6VxmbPE2mHYg+Tt7e0dGxsLBAJKd6LYShhX4FVgsVjwdbxebyqVynqPGiJ6fRjQRCSXmwF9LJ14E4/+Hh8fx8+GhsaXyseAzkjw89vt9o6Ojlu3bo2MjITX1rJeNXgs7RFkJerZYDD09PQ4nU713adMnIxfXV3FNkE9x+NxlV01uLu7i7UbHh4W5579fj8GRYp2YkaaK4+XAF5EGEQhoKempvASUNkUF6K8wIAmIrmcDWgREGhH/HjoZmRWMBhEQ9y4cSPvAvr58+eTk5Pl5eW3b99GUYnr5OTLScQZRyys1+tRz9iAyWRSNedlhYw0G0fcjm1ubg7rq6b7PR9Lk/Vx0I6NjXV2dopJF1tbW0p34jPpid+zs7NIZ3wRHAmRSOS8w4aIXisGNBHJ5WxAH79MT2S0y+Wy2WyICTTl7373OyRFvgR0RnrWI7ZDY2Pj/fv3m5qazrv868WLF9gXyGXUc29vb19fn91uV9+dFrDiu7u7oVAI6YzExBtZ736dv8QDI7Fq4mZzeFmJyeuK1hHbJJFI4LDXarUYLuIN9d2chCiPMKCJSC6XA/oEojMQCCBK6uvr3//t+2azOS+eRCjuyud2u6uqqvCTo4SQVlnPRIops2trazMzM11dXeIuv9h0KqtnrCb6EsfbwsKCeFqKmq4aFEMgv98/OjpqNBpxlC4uLiq99DMj3adlfX3d4XCIO99hHKWyhzIS5R0GNBHJ5UVAi6deoylbW1vf/fW7vb29qVQqx6fMIhbR/dPT0w8ePKiurh4aGlpdXT3vqkHUMz46OTnZ1tbW19fncrlEPX//TZc7sL/29va8Xu/c3Bz+G4vF1HQxnFi7UCg0PDyM49NqtWIdxcwNRTsROx257HQ6xdWHNpstGo2qaYI4UT5iQBORXF4EdEZ6WF0ymezv73/3nXfbWtvCq+GsMZo70um0w+FoaGj4zW9+Mzg4eN5MX7wHKxKJRGZnZ7u6urC8KmduiFPsWM2RkRFEId7IujXy1HPpfnwYEoyPj/f09JjNZgyBLnHuWfzJYmFhAQcMvgi+GsZgh4eHrGeiN4sBTURyeRHQwu7uLpLiN+/9prSkdGZmBm2h9PTe9RAlhIRqbW0tLS1tamoKh7Pnfkaa5J1IJNCUCK/Ozk6s4Pr6uqLwyn0np9hnJaFQCP/MwR13ORlpmjsGSBj5iOk3TqfzEpd+Yqdj0IV6NplMRqNxYmICG0plRwJRnmJAE5FcfgX05OTkhx9+WFJSIm4NJp4oIV/ujcpId3Gem5trb2+vra1FUYm5Cmc3gjj3jGaanp4Wd6ybmprCqEBl9ynLSI/FCQaDSEMMeyKRCHJTaVzmMrxqMEDCwKC3txfhi4HTJXaiOPeM1yAOAxwzGEctLy+fd6NDIrpmDGgiksujgH7y5Ala85NPPuno6ECNOZ3OxcXFZDKZNU+VevHiBSIGyYJMV1o/J8S5Z2zP27dv379/32QyIRyzxiKWxJaPx+NYkdbW1u7ubrvdnkgkVHbGEVsV2xOHFvrS4XBgLKGmmRtid4dCIYx8MARC+KKeU6mUouNHfBG8TLxer9Vq1Wq14twzthtnbhDlCAY0EcnlV0DPzMzcuHHDbDaHw+Hl5WU0NJIFWfb9u1PcQi4QCMzNzYkziPIlXoG4ywRS+KOPPnrw4AFWP+vMDRB3WkBWNjQ06HQ6fFP11XNGuqEEulDUM3aZorLMcSJ8ccygno1GIwZL2Ili8rqidXwuPaJSPPFbr9dPTk5iQ+GVyHomyh0MaCKSy7uAFk8iRLhsbW0tLS0hXxYXF5U+5u2sdDqNr4MSun//vsfjudzt1cQ0Vqz1vXv3xOWAWW+3h8WQy6j/7u7uoqIim8126WTPWehCbMN4PD46OjovPQRETRMSULcYGuHYxsCgr68P9Yx1xAGp9CDEVsKhizHGwMBAV1cXRobYYmq6OQmROjCgiUguTwMasYLOQHf6fD7xkEJ8x+9zTeGm9Jzw4uLif/qnfxJf/xJf6uReZghxrVZrsVhcLpe4B9nJVxO3t0NbYxmdTodl0Ezqq2d0IbYDxgZY03A4jH2nmijMvJx+I4ZAqF4c57FYLOtcnQtgeRy0fr8f9YyvY7VaMYQ7708WRPQGMaCJSC5PAzqdTqM/UBso3eXlZY/Hg1xLpVKXvqYwmUyOjIx88sknf/M3f9Pa2ppIJC4XfGLWL6oIPSTOKQYCAWxYEffivKx4WgoKe3h4GN9XfU+Yw97HQYW9Pz4+Lp6W8n3GNrkGox0cHg6Ho7e3FzsRgwRx2ljRCorZPktLS6hnvV6PQ1r8IeVyRx0RvVYMaCKSy9OA3pYe5Z2R5qGim0WuIUHw7V7lbG7m5R0wUEKon2g06vV6u7u733vvvb/+679ubGxcX1+/dMqISl6WnucsbqqAt9FG2NT4sfF2bW1tc3MzPoq4vPR3yUHYqi+kp/GhC0/OPeOfqlnHjHQ/8o2NDZfLZTKZWlpaxKWfioZAYhyF4wFHwtDQEL7I4OAgRlk4NlSzoYhUhgFNRHJ5HdDi/Sc3MXA4HEi373xIoeg8rHVfX19FRcWdO3f+9Kc/ffvtt19++eW///u//8Vf/MX3DGgBP20oFBofH0chmc1maZ7JCsKrra2toaFheHgY9az0j/45DquDwwkH0tzcHPYFVl9lVw2innF0Ye1Qz729vaOjo+JZg/JFLyTOPaOexT03LBYLDlpeNUiUyxjQRCSngoDOSHNSk8kkogQZHQwGESgX3AwBBYPuQT1/8skn//qv//qDH/zgn//5n3/4wx+inv/xH//x//7f/3slAS06CT/MyMiIuFGd2Wzq6tKXFBdjLeLxuJpu6HYsXRmJ9cWoYGxsbGFhIRqNXu5CzNyUkf7WkU6nbTZbl2RqakrcOEXROoqjIhAIYASl0+lwEGKYIaa4yBclopzBgCYiORUE9PHLZylvbGxgXbAiiBJxX46s3/rg4AAZ9ODBg//+7//+6U9/WlRUdP/+fXzZt99+++/+7u/+7M/+7EoC+lhqSjFnw2Qy4WtWVFTU19choy8xZTbHiTkJGC1gB2Gnq+yqwWPprxyoZ7/fr9FoOjo6JiYmVldXlU64F/PjcTwMDAy0t7ejnt1ut9hQajoYiNSHAU1EcuoI6Iw0rxTrgoZelq4pjEQiSLqz86GxJCKmoaHhww8/fO+99+7evRsIBBDcFovlj3/84z/8wz9c1Rno45d/9MePgZ9Hp9NVV1drtdpYLKZoymxewK5BNDscjtHRUXHuWU2nVLEuop6HhobKy8uRvzhglN6V74V05zt8IjYR6hnHA14d+LLf/zAjoteNAU1EcuoIaEE0SjKZxLp4vd7V1VXEq6zksEwqlfroo49+/vOff/PNN0giEdnI7ubm5h//+MffOQc685L8A+d4Lt2tDBsZGY3voqayPJa2J8YD6MKFhQUEdDAYVNNVg8fSCmL3LS4ums1mHCETExNra2uK6jnz8tpKDC1Qz21tbSaTye12f+dkfSLKEQxoIpJTU0AfS7mDNUL+YnV8Pl84HJbd0RkLoLD/4z/+46233qqpqVlaWhJFG4vF+vr6fv3rX3/nXTgQ3Mh0lXXw5WAT4ZgRVw06nU6MWNR01eCxtIJoZaydTqdrbW1FQ2NIpnQFxfwiHIoDAwP4IkajEVtMUYIT0ZvFgCYiOZUF9PHL6EkkElgvv99/cpGWWF4E9NuSysrKxcVFkcLoG71e/7Of/eyv/uqvsga0iEV0diAQwFcW95w+L7ILAbYb9sja2trIyIjdbscbKpv3jHXBGmEYhuqtra1FPUejUaXPGhRfJBgMjo6ONjQ0dHZ24vjZ3d3lAIwojzCgiUhOfQF9LF29h3VBBC8vL6OhI5EIPldcU4ig2dra+vzzz999993bt28PDAzs7OwcHBx4PJ6ampp/+7d/+/M///OzAS1iEeljsVh0Oh1ayul0ijtpqCkZX53oQmxYbAfsZfEkSKVxmcueS7fLwEsDuxuvDuxxjLWwu+XLXQjHG47D1dVVjDHa2tpQz+Lp7ifDOSLKCwxoIpJTZUBnpGsKEUDihLHP50Ps4tOPjo5E+bW0tNy4ceOjjz4qKioSTwJHGX/xxRd///d/n/UiQvHQuMHBwdra2srKyubmZoPBcPIQjVPfuVBgG0ajUYw6sBHwBraPmiZvnFw1iPFVdXW1uFWz0skbOH6wTVDPExMTHR0dCGibzZZKpdQ0zCAqEAxoIpJTZUALKBV8CtIZAY21Q0yLP50jaxYXF0tLS996660f/vCHVVVV6Js7d+78+Mc//tu//du//Mu/RB+ffpQ3vg76qbu7u76+Xq/Xj42Noavq6uqQRC6XS1wK9p0/jGqIwUk4HMbOdTgcCERxGl41W0DM1fF6vdi/9+7dGx4eVnrV4PHL+0bj2BCHSmdnp9Pp5FWDRHmKAU1EcioO6OOX86Gj0SiK2e/3442dnR3xToTRt99++9577+G/NTU1xcXFN27c+PnPf/4v//Iv+FA6nRZfH7GIejabzRqNBvWMFsdXQFFZLBZsNFS1+KN8gZxWxDbBpkM0I52x4svLy+qbxILwFbcdLC8vb2hoQPW+ypF2WublE79xIKGeMR7DC0Hp9A8iyh0MaCKSU3dAH0sFjPVC8gYk4mzi4eFhPB53Op1Wq9VgMIyMjExPT9tstomJib6+vkgkIu6zgSVjsZjRaGxra8OS2ESilcWNPqampsTE1oWFBaymmuYwZCUGHtg42FZYZWxJcZdA1ay1mPaD8RJGSvX19djveGmcvZX4xTLSczFxdM3OzlZVVbW3t7tcrks88ZuIcgcDmojkVB/Qxy+fCIjyW15eRh6J+dBY2VQqhXc+lp5ciHfiR93Y2MB78CFkk7h5ArpZq9VaLJbFxUVkkKhkQIKjIBHcOp0OvYWgTCQSKnu+4GliYgM2jtvtxspii2GTqmnM8Fy6XTfWDskrrhr0+XxKZ24cSy+ocDg8NjbW2tqK8dXc3BwOKjVtKKICxIAmIrlCCOiM9Cd10dCBQMDv9yeTSXw19C46GGuNjYA3nklOLjQUl39hy5hMJo/HgxUR9/E4+Zr70qMxRkZG6urqWlpapqamkEoqm88gZKS7ScRiMa/X63A4EIgqq+dj6ejCGKmzs7OkpMRgMOAg2d3dvcQK4rAZHh5ubm6ur6/H4YpBmso2FFEBYkATkVwhBLTwTHqqNhra5XIho9fX1y84v4gMslqt7e3taClUozj3LF/o+BjZjazs7u5+55137ty5g85W5V/qsemw3ZDOCwsL2DJPT91XWx2wLmtra62trd98843RaFxeXsY6XmIF8Sl9fX337t2rqamZnZ3Fwa/KARVRoWFAE5Fc4QT08cuGDgaDaOKlpaVEIpG1ocWNezs6OlDG4qrBsxmUkWDrIbba2to+/vjjiooKv9+vvoAWV2Fi1DE3NyeuGjy7xfKXmJqCHYdufvjwYUNDQzweV3pTkYx0ZxIck3a7vaqqqrS0dGho6HIJTkQ5iAFNRHIFFdAZaS4Hvk4oFEIzIQdRSwcHByKY8F+8jR8YX1+v1+O/brdbXDV49nthYXwIC6CzEV4IJvHIw7NL5i+xQVDPDocDAS1mbqhphICdtbW1tbCw0NraWllZiYbG4Orw8FCMjuRLnw9jjLW1tcnJyfLy8vb2dhz2yWRSZSfpiQoZA5qI5AoqoI9fnixENiEHA4EAGhqtg41wdHQkLpLDtzAYDIODg0hGfCjrBFZxu4a5ubm6urqKigqLxYJ+EiEuWzJ/YV2wWWKx2OLiotfrXV1dxYBBxKV80fwkbiqCsUFDQ0NNTU1vb+/lrhrEEYKxk8lkKikpaWxsxFFx3mFDRHmKAU1EcoUW0IJ4yAW6B2u9tLSEHxL/RFKjfvR6vdVq9Xg84imDWb8LvjsWaG1t/frrrzUajajnrEvmKRGX2AJoSrfbjRXEKp+3NfJRRrosEsMnnU53584drVZ76asG4/H46OgoxlFfffXV2NgY77lBpD4MaCKSK8yAPpau/xMN7XA4sAVcLtfw8HC3ZHFxET/2ec/oRlwiturq6u7du9fW1uZ0OtX3FBUkILoQ6Yy1wyZCWWIdVXN+PSPN5IlEIqjn0tJSDJmwxy8x/SYjTftBNONgqKmpMZlM6+vrapriQkQCA5qI5Ao2oI+lTNza2kINj4+Pd3Z2Njc3o6jQ0yf3e5Ytj/ccHBwgtVtaWu7fv9/e3i6mzMoWy3f70mNifD4fNsXy8rJ4/nlGIl80D2EtsEbYiVqttqSkBP9dW1vLursvkJGe1I1je2RkpLa2VqPRTExM4MuqZoxBRKcxoIlIrpADGl2IrxkOh1FR1dXVyCCr1Yp2zDpXAQvv7OxgK1VVVd2+fRs/Az5RZbekECMEcb9nj8cTCoUwlsh6DWX+SqfTTqezrq7uq6++wngJ63iJ6TfY75FIBNH8+Rdf4EvZbDa13gKciI4Z0ER0lgjolpYWt9uNWsI/D65CIpFA7E5PT0ej0b29PfmHLwUtjmRBQA8MDHz/gMan4weLx+P4IRHQra2tPT09+JmTyeTBy/tynCwsrhoU854fPnyo1+tPbtdw6kvmt4z0eEVsEL/fj3EChgfqu2oQq7OwsNDW1lZZWSmO+UsMgTCiEA/QqampKa+oGB8fx0bLeptwIlIHBjQRySEWQ6EQunBoaGhubs55RSYnJ9slo6OjSBb5hy/FZrOhXD///HP8qDs7O0q7RwYrvr6+jp9NPKl7bGxsdnbW5XJhOIFwFA0tlsQ3wnu8Xm9XV9eDBw/wX9TzJW7XkMtObuHn8/mwppFIRFw1qJqzqmK8hLEBdnd5eXl3d3cgEFB61WBGmvQci8UwkGtubi4tLcUxgxGXmoYZRHQWA5qI5PC7H7XU2dlZWVl5//79O1fk5s2bv5X88Y9/lH/se7h16xa+8tTU1JMnT75PsiCD0D3IZaRzU1OTw+FYXV3FdlheXsYoQnbLNrzhdruxWFlZGQoeEXag/I/+uUyce8YGefz4MdYUw4Nt6Undqqlnce55bW2tvr5eDIGwppc49yzm/AwODtbW1jY2NmIgt7W1xasGiVSPAU1Ecs+ePUulUjMzMwgCBPQ3V+SLL754V/LZZ5+heuUfvpTbt28jYTs6OgKBABJWviavTNwH2uv1Dg8PG41GZFA8Ht/b20NRiar2eDyioZ9JsKS44OzRo0crKytYTDVlKYgVx+AB9YwVxMYRgwelfZmzUL0oZnTz119/jYEQjp9L1DOOBGwZ1HNFRUV1dbXVahX1rPTrEFHeYUATkZw4+7i5uYl+WlxcdF+RqampDsn4+DiSVP7hS0HX+v3+tbU19NDlEjYj3TwBZbywsIB6RjrbbLaThxGK85T46KIkFArFYrFgMIhurqys7Ovrw3e/xM3OcpnY++vr67J5z5fbvDkIK7izs4O92d7e/u233+p0OtSz0p14spVwtHz55Zc1NTUTExM4NnjumahAMKCJKIuMNLNTnG29KihymwTZgWaVf/h7+D7n/MTzUxDiBoPBbDbPzc1Fo9Fn//suE9gUIijtdrvFYmlsbKyurjYajRhgqOzcc0a6HXIikUBTigEDWlNN03nFiGh+fh71XFVV1dbWhkGC0uk3YtAViURGR0fr6urwdSYnJ8VRLV+UiFSKAU1E1+R13Mbue0J546daWloymUw6nW5sbAzJmPVP+WgjNGVPT8/t27c/+OADrVaLz1J62jLHibgUGwT1HAwGxbNjVLOOGemWfBj2oJtLS0s7OzuxjpeYOo8NhXoeHh6ur68vLi52SzerUXrfaCLKawxoIromuRbQyCBxy+fZ2VkEMeoZaXXerTyQR3Nzc2VlZajnGzduIJ5U9nxmEZepVApNiaECNgveVtP59RfSTUWi0eijR48qKipQzwjf03dWeUXisMGICwdDVVXVwMCA0ht3EJEKMKCJ6JrkVECLZ6CsrKygntFAg4ODSEaE0XlzWJeWlgwGQ3Fx8Z07dzo6OhDTkUhELP/G1+VKiHoOhUJer3dtbe3kjnXqWDt4+vQpBkgWi+Xu3bvt7e1YTfGYQEUrKC42nZ6eLi8vx8FgNBoTicR5xwwRqRgDmoiuSe4ENL47csrn8w0NDaGBrFYrkjHr2Va8Z29vb319XTzWGw1ts9mQ3R6PR4QmKlw2YTofPZNmqAeDwcePH6My1TchAa2MVevp6Xnw4AF25eLiIo7Gs7v7YuKqwZmZmaKiooaGhrGxMQy6VLD3iegSGNBEdE1yJKAz0nVyKKG+vj6dTjc4OIiSxnvky0lEZzc1NdXV1ZnNZnG7BsRlPB5HQGNd/H7/JU5k5hT88Cjm1dXVpaWlUCiUSqXUNO/5WNrjCwsLHR0d1dXVra2t2IkYFCmq54x0TW00GjWZTKjn2tpajKNwGPPcM1HBYkAT0TXJhYBG8SCeEokEiqq9vR099Pjx4/OuBcT7V1ZWjEbjH/7wB/wXfXnSymjotbW12dnZmZmZSCSCJRUFWY4QK/LkyRPUM9YUa6Syes5IN5vDDtJqtaWlpdjjWM1L7Cwsjy0zMTFRUlLy2Wefiekf5w26iKgQMKCJ6JrkQkDv7+8jp6anp1taWsxms8fjQRhl/WEODg5QzAMDA01NTQ0NDeKP/qebCQkVDAZdEnxNcVIz65fKTaKesVLhcFhcNYj9knUeS54S029isZher6+vr9fpdDj2LlHPGHSl0+mpqSkcM3V1dd3d3dhoebSjieh1YEAT0TXJhYBGUSGL0VJ/+MMfRkdHE4nE4eGhfCGpvZaXlwcHB9va2rCw1+sV9Xz6x0ZXocaQzk6n0+12i4e55NE1hVgdjAGi0SjWbmVlJZlM5t0Y4GLiDwhWq7WsrKyzsxO7SUy6ULSCWH5jYwP1/OjRI41GMzQ0hCLnuWciYkAT0TXJhYBG+qB0tVrtz372M4PBsLq6Krvr8wvpZmf4Cbu6utBMvb29CwsLCM2s4SXOccbjcayUzWYLh8OItryYF4sfEiuFnxyJubi4KOo5L37yV4TdiiFQX19fSUmJXq///9q7s6e20sT+/39JbnOTu1TucpVUqpKa+v4qSaUmM5VUMqlk5juTSWb6N5l0unt6ll6mN4978YKN2fddYAmBFrQBYpFAEhKbFhAIIQktSAIBxgvy75Pz/Ex5MGCODLIkf14XLhsfhM45ung/h+c8R/yqQW74Ppae1D07O1tVVdXS0jIxMYEPj9wXIaKKxIAmoiIphYB+Kk29cLlcSKLq6uqRkRFU7/O/00d4hUIhrVbb2tqKehbXns//pT+KCt/idDrxsoU9mKPIsDvZbDYajeLd4p3H4/EClkMucT6fDwMknMT29nbxyJsChgdixbq2trZ79+6Nj4/jQLGeiUhgQBNRkZRIQCOk0LgoY1RRY2Mjwkj8Uh5v6eDgAD09NjZ248YNg8EQCAQQmi9dpywvPYIEPepwONDQYi5Hac6FwFsSt1Gim5GVCOhEIlFJ9Zx/9pBttVrd3NysVCpXVlYKmFrzRFrv2e12d3V11dfX47SmUqlKur2SiF4RA5qIiqREAvqplFm7u7vT09MKhaKzs1On021tbeErwWDQarUODAz09PR4vd50On3B5ZCxjVjLYmFhAdWF1znnmSyvS15av29/fz+ZTPp8PrzJeDxewE11Jev4rkF0c0dHx+DgIMIXp1VuPeOk4yM6MzPT39+PT4LFYhFz5SvmQBHRq2NAE1GRlE5AP322tILdbheXGA0Gg8PhGB0dHZSINymrmcQ9hWhoMZdDzIe++LcXwXE9r62tBQKBaDQq4vLkduUpLz0cB8d/cnKyrq5OpVLhJCJ8X/oLhBNwynCIcBIxuGpvbzdLj6ispIv0RHQpGNBEVCRFDuiL/Aik0szMTGdn54cfflhVVYW/6PV6vMPCHsUnrkOjt/AKs7OzYm6x3MufVwT9J+o5FAr5/f6tra0KW8kYox3Us8ViaWpq0ul0y8vLYggk6+CLo4TxT2trq1hzY319HSdR1osQ0ZuAAU1ERVLMgH4ieelVQ7wNvCu323379m3xkOf5+flsNvsqbw/Rtrm56XA4sKeo1VK4yiu6MBaLra6urqysnPXc8rK2trZmNBrFot0F7yAGFR6Pp6+vDxUuVqxjPRPRqRjQRFQkxQnovHQbWTQaDQaDmUzm/N/g56VpwXt7e0guZLTf708mk694XTb/7J7Cqakpu92OsHu9z91AR6Im0YKBQMDn84XD4cLisjTlpWcNbm1toZ67urpUKhUKuIC7BsWKdUtLS729vR0dHThxOIOVdKCI6HIxoImoSIoQ0EfSKs7xeFyv1yODXC5XOp0+fwIr3gn+FxGWSqWQUCeWhS5MXprLgXRGlOM9rKysiBR79VeWJS+tuYEfjYOwIsE4IZvNvvYr4pdFjA1QujjdSqXSMGLAARdDIFmHGtvjMzk7OzswMNDX12e1WsXj2SvmQBHRpWNAE1GRXHVAH0mLMCB9pqenGxoabty4oVKpFhcXUVQv/UW8uG6NkDontWUR9xSGQiEENHYZkSeeVHL+27hc4j1gYLC+vu73+1HPOAXYzZPblS0cUuwUTndLS4tWq11aWipgsTlsjA/k/Pw8Pi1tbW1ms3ljY0PUs6zXIaI3CgOaiIrkqgNaTFSYsFpr7t1rbmoaGBhAV+HPwp7hfCnE2nZut3tmZgbvrZgNnZeWtU4kEqurqzgCGFfs7u6+4uyUkoIjubW1NTk52d7efv/+fRxk1LPc4UFemgHi8XjE2oVGoxGHSzzS/OSmRETPYUATUZFcaUCjeNCIBoOhob6+pqZmemoqFAqhhzo6Onp7e9Gvr2tRucPDw83NTZvNhvcQDAZRsUV4G/gRSEnU88rKyuLiYiAQeF27f0WwLxiQ2O12pVKJ8F1eXk6n03KvPT+VBl34XpVK1dnZabFYcKZQz3JfhIjeQAxoIiqSKwrovHQjYDQaRQBVV1fX1dW53W78LORUJpNBuTY0NCCP/H5/Ac/UeHViWrZ4e1NTU2tra3gbV/ce8tKUbnQhDjJ63ev1iqeLF3/Hr0heukcT9Wy1WhG+GDL5fD6xJJ+sHcT2OBEYYCgUir6+vunpaVHPlTTMIKKrw4AmoiK5ioAWsZhIJPR6fVtbW29vLyL1+DYy/IkqGh8fHxgYUKvVx9cpT77KVRJFu7+/j1ZD2Xs8HjT01U2xfSI9qTsejyMrMWbY2NjALl/Rzyq+vDTjIhKJmM3mwcFBo9GI44kdLKCe8V3z8/Majeb+/fuTk5OhUAgVXjEHioiuGgOaiIrk0gP6+OKu1WptbGzs6OiYmZl5fiIsfopYpQFVjf/t7+/HBsjrS/npsqDMxHxoRBsy+oquCosDgh0MBAILCwsodfFEmJPblS3UMwZLDoejp6dneHgYR3Jra6uAmRs4LBhN6XS6rq6usbEx1jMRycWAJqIiufSAFquP2Wy2L7/8sqWlRdTzi6+MgozFYqilX/7yl7dv30ZZPnlNy5OJ5xQ6nU6TyRSJRC53meG8tJBINptdXV3Fj0CjV1g941hhj/D5GRwcVKvVLpcrHo/LXXYwLy3th3rWaDR9fX34VKysrHDFOiKSiwFNREVyuQGN4olGoxMTEy2tLde/vD5tm87lcqe+LLZEVlqt1vfeew+pjTfwGmvp4OBgTXpmHvpPLDZ86nuW60hayhoHFi++uLjo9XrPOhplCqcskUi43e6RkZHh4eGCV6w7PDzEITIYDP39/RjGYLBxpVPSiahSMaCJqEguMaDx7ahPBFAN1NbMuefOej6IeMLcwsLC4ODgwMDA1NRUPB6/xOu+ch1Ji1XHYjGbzYZDsbGx8eqlm5dWrBPznufn5xGFYkLCye3KlnjMjd1uV6vVGHtgN8WC1rLOo7hrcH19HS+CD8P09HQoFOK1ZyIqDAOaiIrkUgJaXGrFS2l12vb29t7e3omJiVOXec5LNxGm0+nl5WWz2Yxscjqd4oEmBf/0VyemEIjr0Ihdj8cTDAZfZX1oMe8Z9by0tCTmPZ96NMqUOInYO5fLpdfrdTod/oIdRD3L2kHxWwiUNwZd9+/fx2dmTVoO5ajoj4ckosrAgCaiIrmUgH54+HBra2tqcqqhoaGrq8tutyeTyVNn+uKL+IkrKyvj4+NarRbNtLm5ebnTjgsjGnpvb299fd3tdovr0IUtoCbqOZVKBQIBvBT+LGw55JIlhkAYGBgls7Oz4XC4gB1EK6+uror1WNDQOFDo6Up6rAwRFRkDmoiK5CIBnZcWfXsieXEbfPF/7xqctn304Uetra2o50QicepFRHwll8uhmaampvR6PeoZ4XXWhGPxQ8WfwqmbXSLxs3BAQqEQDgjCLh6Pv/R54yccSU9LyWQyfr/f6XQGg8HiL9J3pcRJXFxcNJvNFovF4/FEo9GzTuJZxHBF1LNGo0GFs56J6NUxoImoSM4P6Ly0iMTu7i6aGLErVhZ7vnKwASrTZrO1tbb96v1fTU9NH69wfOLVRHitrKwgvNBMVqsVcXnWUsFiQkUymUSZoasSkgKuccoi3jMKGO9zfX19dHQUmbi1tXXx6SV5aUVkHEmkIQ7p0tJShU1IEJMuELsGgwEncX5+HudI7nkRR2ljYwNHeGhoCBWOF8QxL+BiPxHR8xjQRFQkJwI6/2w2MDoY7YjKQQu6XK7x8XE0E/7EFw8PD4+/PRaLjY2NNTc319XV2W12MRH2uZf//x1Jj1bBS6GeBwYGjEYj6vmsy5aITvyv3W7XarUzMzPiIuXw8LDD4cDry801ufLSBF/0XCQSwU9HI2LksLe399IfmpfuGkTo+3w+p9Pp9/txbCvpkir2BfW8vLxsMplwOqanpzF2wumQFb5H0v2a+BTh46RWq9HQ4pmFT3jXIBG9MgY0ERUDmg9JhNpDKYo7+VCKqVQK8Ycs7u/vb2pqamtra2lpaW9vV6lUS0tL2F7cKyY6Gw2Ebbq6uqxWayaTefGK8vGW4kL10NAQgljE5anhhe1R87W1te+///5HH3748ccf489f/epX77777s9//vPJycmzZldfIvGeUfxr0j2FgL9g2HDqGxbEVVXs48LCAt4/dhDv89QZL2UK+44xFfYLpwDjH5xKDK7krveMF8EHbHNzEx85DIomJiZQz+L2ypObEhHJx4AmomJAuKD5xG/Sp6am3G737Owssub+/ftVVVW//vWv33rrrffee++LL75obm62WCzikmpemteBQLTb7bdv325oaEA9I7tfrOen0mXLXC6HZkJWmkwm/CzEKCrq1EuzR9Ltd0ql8kc/+tH/83/+z7vvvPO3f/M33/nOd77//e//67/+65/+6Z/W1NTgTSLiX/xBl0s09PE9hXDOM1bEvGeEIPrS4XAsLy8XsBxyKRPTWhC7+GzgDOJDEgqFCrjDUjz3EfVsMBgQ4isrK4hyuWt3EBGdhQFNRFcuLz3AYnV1taen58aNG7cl169fv3bt2ocffvj222//+Mc/Rrn+9Kc/xRcHBwfRT4hC5I54MPX09PQHH3yAojWbzeFw+KyrraJBUecqlQpb4sedMx1CdDmK/B//8R///u//vrOj4y//8i//7u/+7t133/3oo4/+4i/+4r//+78VCkUwGCzCNcu8NB86k8mg+BHQNptN3FN4ohpFPaPpvV6vy+US154rqZ7z0qPXccwxgsJAC+GLCD7nJJ5KDEiQ3TiMIxLUs/htxslNiYgKxYAmoisnwgjB19TU9Omnn3755ZdIZ6TqT37ykx/98Ic//L//999/9CPU889+9rObN28aDAa0bzQaRUghE7Va7d27d3/wgx8olUqUkJjD+uL1yCfPHkzY399///59j8ezv7//4mbHDg4OkKHffPPN9773vbfeemtxcfGv//qv/+mf/gllPzAw8D//8z//8A//gDc5MzNz6gXsy5WXiDhGQyMcl5aW0NDP31MoNkin0zgIDocDG+Dvp16JL1PidwLYa+w+6tlkMmEchXo+5yS+KP9s8e/Z2VmdTod6xkdIrLlRMQeKiEoBA5qIrpy4KBgOh3t6etDQFotlamqqt7f366+//s1vfvP+L37xq1/+8qOPPnr//fevX7/e2dlpNpuxQXd391dfffVrSW1trc1mC4VCmUxmT7IrwV8QymLeM1JJJUENY7Pzwwvfi9rGD0U0v/POO0j2v/3bv0VM19XVWa3WhoYG9DQyGu+kaFcuRSLjjUUiEafTiUSOxWJi7m9euoS/vb0dCATsdjvS/6x7KMvUY+kxgZubm+KBKePj4zgjOzs7si7/H0n3j+LIuN1unLjR0VGMo/BP1jMRXToGNBEVydbW1v379/v7+8Wv1IPBIJpYLFKmVqsVCkV1dfU333xz69YtRPbw8DC6+e233/7888+R3Whi9DdeIZFIRKNR1JV4jN/y8jKa0ufzmaVnDaK95ubmXlrPyCnk2tjYGPL9xYCenJxsbW3FP/H1Ygb002cjjYcPH+LgLCwsoKHFw1/EXYP4J/oSfyaTySJcFy8a7DVOGc4jhi7i1k/sfgHXnjGOwtgDHwB8DPBSOFD4tMhKcCKiC2JAE1GRiIAeGBhYW1tDlaILc7kcyimVSqGJvV6vxWLp7e2tr69HSTc3N7/77rvXr1/XarWISHGlGdtvb2+jpNHTU1NTExMTiF108ODgYE1NTUtLC/5+vID0+fmFV3O73deuXfvnf/7n//qv/8JP/5u/+RsE9L1795BfX3zxxb/8y7/gf+12e5FTNS/Nh0bfr6+vY4SAjI5IMFSYnZ3Fjhdhfb1iEjM3MIDBuVOpVBg4iZkbcsMXxwQfMNQzXmFkZAQHqsJurySiksKAJqIieT6gj+tW9OIj6bHbCGX0oslkamtr++CDD+7cuYMSErV9vNnBwUE2m8VL4euoXofDodFobt++fePGDQQ02nd+fh7/iwJDlqGfzippfD2RSDQ2Nn7/+9//93//d7T4X/3VX333u99Fsre2tuKLyPeenp5AICC35F5d/tlE3mAwiCIUQwXUM/ZXLIdcGVEozqmY94x9FL9AwAcAO37qKTuLuGyPXEY0G43G/v5+8dQVuU92JCK6OAY0ERXJqQH9VAog0VLioXFjY2NI4S+++GJ0dDQcDosb6Y4dSQ/6FlNm8ToILwRTXV2dQqFAbVutVhSnmOwRiUTwaoiz/f39FxfuyEuRimL7xS9+gVxGN//xH//xn/3Zn/3whz985513vvWtb1VVVdlsNmTZiW8sArGn6D8kPnYHO6jVaj0ej1iXWvzvye8pQzgpODU4U8c3/GEf5c57FudRrEwyPj6OE2o2m8W1Z1kVTkQkCwOaiIrkrIAW8BVk0PT0dGtra3V19eTkZCwWO3UBYNFMqGTUs3hBFNj6+no0GsW3oJjRnUFpBQ9sIC5Io7ZzuRxeDQF69Nzzrn0+X0dHx7vvvvvtb3/7D/7gD/7wD//wz//8z7/73e9+5zvfGR4exo+Q+/yOSyQuzTocDowNsINiYbvX9WYu3ZH0oBOMcDBKUSqVRqNxaWlJ7oNO8tJtl5lMBmfZYrGYTCYcqM3NTTHMOLk1EdHlYUATUZGcE9B56a6+0dFR5CwCWqfTiVmwL2aQ+KV/Op3GNj09PWq1GqF8vFRw/rmHEQYCgcXFRSRyKBTC3z0eD/7Ee3j+gvTOzg42QCv/5je/+aM/+qM/+ZM/+d73vnft2rWWlhYk+POryBVTXrrQnkwmvV7vrARDgiJPxb5S2EGcBZwXq9WKM47jv7y8jHMh92iLdf3wvb29vfgkYLCBEZSsBCciKgwDmoiK5KyARhpmMhnUT21tLep5enoa7fj8deJjR9I6ZYhjNGVDQwOyye12n1iuQdQnXhOdjY2RZdFoFPU8NjaGH+H3+/HPVCqFryO/xGbZbHZpaelb3/rWd77znZqaGvHM59c1B0C8f3Qh3gbe8MLCQoUtYyyGQOFw2Gaz4fOAM46DL5b3Prnp2cRICUcGJ9RoNDY1NeH8RiKRipkgTkQljgFNREVyVkAjnubm5r788suWlhar1YoMOvVqa156GkssFkM9I5jwUuhLpPY5wZSXfsWP18d3BYPBjY0N/Ojl5WVUKcILkYoXxAZikbjvfve7P/jBD3p6es5/zSuVl2anHBwczM/Piyd146AVcx29qybqGad4ampqaGhIo9FgNwuYuYGjhCHQ6uoqPjAqlWpiYiIUCsl9ZiERUcEY0ERUJGcFdCaTMRgM3//+9xUKxTnP30Z4bW5u2u12pVLZ0NCA5k6lUi+NS3GpUqyahzBNJBJIZ4/Hs7i4iOSKRqP4CkoaAf2zn/3sV7/61fDwMHru1DdQBI+khxGur6/bbDY0tHiQymu5EH4VxOwaHHD07uDgIOrZ6XQWcH1dHCWv14t61ul0ZrMZH61KOlBEVPoY0ERUJGcFNGIIDfTjH/+4t7fX5/Pt7u6+WEIILPGk7p6eno6ODmQ0qvel9fy8vASZhV5PJpNoU/wsRCpKOhgM4sVramra2tpmZ2fxBmT13GUR98NhCIHdXFpawuE6XoHk5KZlKC896ATH2eVy4Qyq1WoMgcRcnZObngvb7+zsLC8va7VafJYsFgvGG7I+CUREr44BTURFclZAo6sCgUBLS0tVVZVKpcLfT/TQkbQC9MjICAK3q6trfHz8rKvUF/fw4cNIJLKysuL3+1HSyOihoSGr1YoaOzw8PLl1USQSCXQzxgYOh0Pu8KD04YCjnqempnCi+/r6UM9y13t+KlU4XgfnqL+/H58Eg8GAT8upE36IiK4UA5qIiuSsgM5LM5XD4fCtW7e++eYbjUazsbEhfq0vpsxub2+jce/evdvc3Iy+lPuQ51PlpXm0sL+/H4vFZmZmxsbGXC5XKBTa2dkRdxC+YqNfHH5QLpdDxGNsgHcidrBoP/2qifMrDnJvby/OcsF3DeLIYNgzOTFRW1uLARU+M7xrkIheCwY0ERXJWQH9VMojhKzNZkNgtba2Dg4OilmtIpjw9Xv37nV3d09PT6PDXr2en3ecZevr636/H22HPxOJBAoPcXbqUnqXSHQ83gB+rtPpnJ+fRxTKKssSdyQ9HycajU5OTqpUKqVSOTExkU6n5V42xjHJZDIYR5lNJnyKLBZLMBh89V9EEBEVhgFNREVyTkA/lQopm80iIhUKRWNjo16v39jYQCQhvJDOt27dQkbjFS59foW4tIlYF5eiRUOjYkOh0Jb0SPCra2hxaRZdiN2cnZ3FzxXPjrmiH1d8x79AGBsb6+/vRz1PTU2JWz9l7SNeB2cH9WwwGBR9fVqtJhzeEOt5n9yUiKgoGNBEVCTnB3Regthyu92IrU8//dRisRiNxo6Ojtra2omJiUQi8fDhwxPfdVny0nQRxCveQFQi1mDGX/DFK5rR8Vh6BvXq6ur4+Pjy8nI8Hq+8ek4mk4uLiziD4hcIOJ5yq1fUcyQSER+GoaEhDHJe4xMiiYieMqCJqGjOD+hjYj7DrVu37t27V1NT09zcrNPrLv3C81ny0m1qOzs7eA8ej8fr9a6vr29ubl7F9U7EOlpwZmYGZYm/V9hdg9gdnHG73Y7qbWpqmpycxAjhnPN+KjGqCQQCWq0WCa5Wq3FeKuxAEVE5YkATUZFcMKBFM0Wj0Tt37tTX109OTRZzXTlxIVzM3BWLRs/NzbndbjS0eHjhpbwTvH4ul/P5fDabzeFwFLAWcikTBxCnGwMD1PP169eXl5dxEmWNQMSLYDS1uro6ODhYVVU1NDS0sbHBa89EVAoY0ER0tcTjM9BPKKHe3t7+/v7zAzr/bFLy7Oysy+U668GEV0pk9P7+fiqVwhsIh8OLi4srKyvJZPLw8PBVZkXnpbsGcTS8Xq+4wo2hwut6bPhVyEuX8HHcpqamcK77+vpGR0fFqnwXP2jiKGGMgY+KRqNpb2/X6/UYzOArFXOgiKisMaCJ6Aohd8RD46anp1FCtbW1KKrzA/rps6uPO5KiTd54kbgOjfpHt2EXFhYWAoGAeL5JwQ0t7hpEizscDrxmPB4Xl1QLe7VSI44YhhlWq1WhUOBcj4+PYx/lXl8XYwwUs8lk6urqUqvVGH3JXfmOiOjqMKCJ6KocT2BFS3399dcf//bjjz76qL29HTF0fkCXDpG26DZEIXrO5XLNz8/j79gvRJ7cvcD24kr86Ogocvz4WYMntytbYniAQ3Tjxo2mpibUcwGr8uGA7O3tYZSl1Wrr6+uVSqXP59vf36+kA0VE5Y4BTURXJZfLoZ6NRmNjY+P169d//etf//jHP8ZfEFhyo+q1wxtOpVJerxcNjZ5DF6bTabmrgqCe19fX8QrijrrDw0O5CV6yxC8NcEzcbnd3d/c333yj1+sLmH6Tl5b2w1hlaGgICd7Z2enxeHjXIBGVGgY0EV2+vPRoPYTm8PCwQqGYmJhYXl5GSf/0pz/9z//8T7VaXcCCDK+XuA69v78fjUbdkpWVFeyFWCj65NYvwDaoZ3wL6nlxcXFnZ0dcwK6Mq6qinjHAcDgcXV1dN2/eXFhYyGazsuY9P5Ve58GDBxhjKJXKW7duDQwMhEKhCrtIT0SVgQFNRJcMLYUMmp+fHxkZ0Wg0k5OTSCLk1NLS0ldfffXzn//8yy+/1Ov1cm8se+1EQ6OYt7a2NjY2/H4/MnF1dRU1fM6U6Lx0Pxx2HwdEXL3Gt4s5wWd9S3kR14yxgxgmtbe3t7W1jY2NiVX5Lr6Dx+MTHFiVStXS0oKhFwZdvGuQiEoTA5qILtORtPQYMshoNKKEUM9ra2u7u7tIxnA4jMD67W9/+8UXXzQ1NdlstkQiISuzXjvReYeHh4hm7A6a2OPxYHhwTkNjx/G/wWAQ+4vtY7FYJS3EJg4Ictlut3d1deG06nQ6jBDknla8CI4SxiQYdOFF8MnBSEPuyndEREXDgCaiSyOuPUcikfHxcbVabbFYVldX0dNiIiy6amBgoLa2trOzE5FUXV3tcDgymYzcabKlQCwTsbm5ubi4ODs7i0HCqXM5jqT1nkOhELbBltFoFJtV0iVV7DJ2cGFh4e7du/X19Rg1Yaggd80N2N/fF+s9f/311729vV6vFy8r90WIiIqGAU1ElwZ1iFi02WwqlWpsbGxlZeX5Z6CIB6kgj9DNo6Ojt27d6urstNvtiUSiHFNJjBbQxC6XC30cCARebD7sPtpazJne3t6usPWeYWdnB7vf1taG8NVqtRg7vTiKOF9emj+Nj8rw8DDGVFVVVXNzc3LvziQiKjIGNBFdjoODg9XVVYvFolQqrVYrSvrEwr0ioPv7+30+H7ISwXTjm2/a29u9Xq/c6ioFovyQeplMBsOA48vtYl/EbGl0If7L4/FU2F2DT5+t8I3Yra+v/+STTzCEEMuSyNrBvPTUFQxCMOK6fft2d3c3jhiOm6wXISIqPgY0Eb0qtNSjR4+QPuhmZLHBYMDfX3zshQjovr4+p9M5Pj5edft2a0sLviUWi5Xvddm8dAvd5uam2+3GfmHH0dOHh4eIS/EY8KWlJbGaWyVFobgtEmODjo6OpqYmrVabSqXOmgV+FnHXIA4dxlSNjY0Yd83Pz+Mr5fthIKI3BwOaiF4Jckcs7jYxMaHX6y0WCzIIEfliTomAbmhoUCgU7e3td+7cQT1HI5FyX6cMbx7FjGEAdhzF7PV619bWVldXkdTLy8v4eoU9BAT7kkgkpqamurq6mpubR0ZGMEKQu1RzXnpaCsYbOp3u7t27aOjFxUVEeTn+LoKI3kAMaCIq3HE7op41Gs3o6CiSUaxPd3LTp0+xWV9f3yeffPLBBx+gmVBg8Xi8YqYFP3jwALuDgEYR4lDYbDY0dCqVwtcrYweFvLRU88zMzFdffVVVVWU2mzc2NuTeBipmbuAbh4aG8Hno6elZWlra2dmppANFRJWNAU1EhTs4OIhGo06nE2VsNBqRQZlM5qyrrevr60iun/zkJ7/4xS/6+/vxvSe3KGdiLofb7W6U2O32cw5F+drf319cXGxtbf34449x0jc3N+VWb16aO762tmYwGO7du3ft2jWPx4MoP7kdEVEJY0ATUYEODw/D4bDNZhsaGlKpVKjns649I5h2d3YmrNaf/exn//Ef/6FQKEKhUIX9sh5HI5FIjI+Pi2WMI5EIvlJJAf1Eepji8vJyW1vbzZs3LRYL6lnumtZ56bEyGHQNDg7evXu3vb0dOY6XlVvhRESvFwOaiGQTGSRWrNPr9TqdzuPxoJ5P/VW+CC+7zXanquqtt976/PPPHQ5HJV1xFEcDNYl6xljCZDJ5vd6Dg4NKikKMi3B+7XY7kre5uRn1HI/H5T4t5Uha+A/f2NfXh2HGwMDA3NxchR0oInpDMKCJSB7kjrjaOjU1hXo2Go1Op1PU84s5hY0z6YzT4ezq7Lr+u9999OGHyK9AIFBJl5/FJVUcDRShwWBYXV0Vl1RfPBrlC9WLHUQ937t3D/uYTCbl1vNTaZnwYDCID8ytW7dwrMRdg6xnIipHDGgikkHcNYh6npmZGRwcREDPzc2Ji5EnN322QMe8Z77mXk1dbZ1Coaipqenr61tbW6uMbMpLD7Le2dmxWq3YL5Sl1+sVj/U+uWnZEmd8enr6pkSn062vrxewg/iEhEKh4eHh3/72tz09PQsLC5lMpjI+BkT0BmJAE5EMop7n5+f7+/uHhoZmZ2djsdiLK9YJ2WwWnTQwMPDN19+oVCqPx4NywjdWTEA/fvw4nU5jH7F3SqVyeXl5d3f31Cvx5QtnHKOC7u7u69ev4/QhgguY243tw+Gw2Wyuq6v77LPP8El4cZlwIqIywoAmoot69OjR1taW2+3W6/W9vb0ulwv/PHU2M4IJ9Ywtu7q6GhoaTCZTSIJ6Rk9XRkA/fPgwmUzOzc0NDg5iB30+XyaTEY8bPLlpeRIX17FfqOfm5ubR0dGNjQ25U5bFBHGMsnQ6XVNTU2dnp8PhwGfj1OnyRETlggFNRC8n5iogg5xOJ0pIpVLNzs6KibAnN312r9j4+HhbWxuCCeGFb0QwiQepVEZA42hsbm5arVa1Wj0yMuL3+yvsEXrYwe3t7YmJibt379bV1eFs4nTL3UEx/SMej7e2ttbU1CgUCnHXoNwL2EREpYYBTUQvgWx6+PBhJpNBPev1+uHhYeSUuIj4Yglh452dHa/X29TUdO/ePRQYOgzfji0rJqDx5lGTdru9v78fAY16rrB5z5BOp10uV0tLywcffIAzftY09/OhlTc2NsbGxvAiaGi3280V64ioMjCgieg8eemhccgpj8czNDSElrLZbJubm6f+Cv54qeDOzs62tjaz2Sy2FJ1dAQEtJiTkcrmZmRmNRmM0GhGFZ61+Xaawjwhf1HNPTw9GQRghrK6uiiHQyU3PhW8Jh8Mmo+nWrVsdHR0OhwOjjgobZhDRG4sBTUTnEfXs8/nQvkqlcnJyMhQKnZpT+Mr29jaCEsmF8BobG0M9i9/XV0ZA56VnDaZSqYWFBZ1OJ568eHx9/eTW5SkvTbpwOp0KhQJDoJGRkUgkUsDTUnB+8TmxWCwd7R337t1bXFzMZDKVdKCI6A3HgCai04mrrahnr9drNpsbGhomJiY2Njb29/dPzaCdnZ25ubnu7m5sOTU1Je4vfD6Uyz2g0X+oZ4wQ+vv7xdNSUM9I6nLcl1M9efIkl8vh7NTW1tbV1Y2OjmIIJLd6xTAjHo//712DjU1dXV0ej6fyFichojccA5qITpGX7hrMZDLLy8uIRVQvGlpcjDy56bON7XZ7X19fS0vL8PBwMpl8sZbKOqDxhvH+HQ6HRqM5fgjIqfNYyhR28H8XTpmb62hvv3PnjlarRT3LnXEh6hkHCp+Empqajo4O27QNCX5yOyKiMseAJqKTxLXnnZ2d+fn5kZERlUplMBj29vZOXe8ZX8R/ra+vd3Z2tra2jo2NxWKxU5uprAM6lUq5XC6MDYaGhsRDQCqmnvOSdDo97/H09vR8/umno9KTuuVee34qLRodi0atVuvHH3+ModTc3ByflkJEFYkBTUS/R9Tz7u6u1+tF7yoUCjQx+vjUDDpeKrinp0etVs/MzIir1KduXI4BLS6uHxwc2O12jCJGR0c9Hg9iuoCHiZSsI+mBkQ6Ho6+vr6Ojw2I2RzY3C9hBBPfm5ibiu76+HoMujL5woCrp9koiomMMaCL6PWIiLIp5eHi4u7tbLHJ81syNdDq9tLSk1+sbGxtnZ2cTiQQqCkF2anuVXUCLCQnb29vYR41GYzKZFhYWkskk4rIs3v9FYEewOxgV4NS0t7fjdGMHxUk8uenZxDBjY2MDA4yuzs6WlpaVlRV8ijjvmYgqFQOaiH4PkhEJhRq+deuWVqsVixyfmkH7+/terxdlifBCQ4fD4VM7+1jZBTQOBUYIi4uLeM/YQbfbjV2QG5elTEy/2dzc7OzsxEk0GAwI3wKuGYthhsViaW5u7ujosNvtXO+ZiCobA5qIfg8CMRaLjY6O/vKXv5yYmMhkMqfWM764vLxsNBrRxOjsizzkubwCGjuYSqXm5+eRlQqFwuPxJBKJAiY2lCzsSC6X8/l8KpWqpaXFbDavr6/LXbHuqVThODIYYLS1tXV3d09OTmLEVfrnl4joVTCgiej3iGc4z8zMfPbZZzqdLhgM7u3tPR9VR9KTuqPRqFKpRBDb7XYx1fWl4VVGAY19wcjB7XZjbDA0NIShAqKwYu4aFMQ0d5xEnGin01nYbZE476hnDLQ+//zzrq4uv9/PJ3UT0ZuAAU1EvwdpiwYKh8Nqtbq9vV2j0SCzjudm4H/FUsHoYNTw5OSkuGx5kSAui4AW03nFXYMjIyMmk8nlcmGEUMCSFCULO4JThuGBSqXq7OzEKcZwSO7F9bw0QRzfaDab6+vrcWY9Hk86nZa78h0RUTliQBPR78k/e1q1uDzZ398/OjoaDAbxRVHPKGZ0c3NzM76+srKSzWZPXd7uRaUf0CIKM5lMIBDQ6XQGg8HpdEYikYq5azAvPSMQu+P3+/V6fV9fn1arXV1d3d/flxW+4kDFYjGbzdbT09PW1rawsIB6rqRhBhHRORjQRHSSuAor1oE2Go1DQ0MmkymVSuEraF80E76i0WhQmWjNi99zVvoBjUGCqGfEpajn46eRn9y0POG0opURvjiDGB1hCOTz+c5a4fscCOVkMolPgkKhwAm12+2oZ665QURvDgY0EZ0OjYu08vv9qOe+vj4EpdVqxd+RzujL1dXVXC4n67Jl6Qc0KnB5eRlZiTcp1tyopHoGnNCVlRWdVtve3m6xWNbX1wvbQSS42Wzu7e3B+XQ4HFxzg4jeNAxoIjpdXoJKRiujnn/7299eu3atubnZaDQiwgr4ZX0pB7QYLSwsLGi1WqVS6XK5Km9CwoMHD4LBoEYz/Plnn46NjYXD4f39fbknQvxqYnx8HB8GVLjP58OLVNJRIiK6CAY0EZ1HzAn2+/0I397eXtTz8vJyNpuVG15PSzWg88/mfKOekZUWi2VmZiYej1fMvOenz56WgmHP6Ojo4KBqaEi9vr4uHnRyctOziQOVSqVmZ2f7+/txHh0OB/4p60WIiCoDA5rojSMuLV/wqiE2e/jwYTqdRl86nU6fz5dIJC4+7/l5JRjQeelmOIwHAoEA0hl9iX3c2NgQ9XzBQ1TijqRlVbCD4+PjOp0Ou+n1end3dy+y8uAxcaBwBl0uF15Eq9WKKS5y1+4gIqoMDGiiN87jx4/39/cvuPbc02fxtLOzs729jT/RTCe3uJgSDOgnT54gJYPBoNFoNBgMs7OzqOcT616XtSNp0e5YLKbRaFQqFepZrGkt965B8axBh8MhnpuDFxFTXErkPBIRFRkDmugNIi48Z7PZxcVFVCMC6OQWV6kEA1qsaT01NSWeCFNh9fxUmvcciUQmJydbW1vR0EtLS2c9WvJ8qVTK6XQqlcrOzk6bzYajVCJnkIjotWBAE70pkE0HBwfIqenp6ba2NrVaHQ6HC5DpZA8AACOUSURBVHh0c8FKKqDFxIbV1VWr1arT6dDQeHsXvypfFg4PD0U9t7e3j4yM+Hw+1LOshVOePru90uVy9fT09PX1oZ6j0SjnPRPRG44BTfSmQC8ioVpaWq5du9ba2qpQKMRazmIZ4JNbX4ESCei89DCRXC6Ho4G4tFgsIgpxfIpzHIogL81cX19fn5iYEMsO4kTLXVckL901uLOz43a7xUMZ5+bmcKC47AYREQOaqPLlpQejIKGGh4dvSQySvr4+s9ns9/sRSUUo2hIJaBwK1HMwGERcjo6OzszMrK6uimvPldGF4lcNoVBoampKq9XiRC8uLmYyGblTlrF9KpXC96K/EdALCwvxeBwHqmKGGUREBWNAE1U4NBNKaHt7W6PR1NbWIprFZF+v14sq6u3t1el0KysrhT1QQ5ZSCGgxISEcDqOeUZY2mw0ljfHDVe970YjTjUONsYFarcYpdrlcOPtyHxOISs5ms4hmvIhKpcJnhmtuEBEdY0ATVTLxq/xYLIaQQj13dHQsLy+LS627u7toaKVS2dXVZTab0ZFXPbG1FAJazAJ3OBxDQ0No6NXVVRyHSopCnO5EIoEdxNAI7et0OnH2CzjaGFQEAgGTydTd3W2xWDDiKsIQi4ioXDCgiSoZomdzc9NoNP76179ub28XV5rFf4lLjEtLS2jrnp4evV6P8LrSp4e83oA+kh4mgqMxOztrMBgwZgiFQkWb/10cjx49EvWM4zw8PDw3N4d/yl1rBZWMw4LBFQ6RVqudnJzEgaqw2yuJiF4RA5qoMiGDxMPnEKy3bt3q6OhAK5+4/evx48doaL/fbzKZkFzISvEMkede5jK9xoAWMzeCwaDdbkcXiiispHrOS2t1RyIRDA8wFkL44nQnk0lZky7EXHl8SNxuNz4MeB0cLgw5CnjiNxFRZWNAE1WgvLR+gs/n0+l0DQ0NTU1N8/PzuVzuRC+KzRKJhHg4c1tb2/Ly8vEl6kv3ugL6SFqxDmODqakpDBXwJ46MWHPj4nFZ4h48eBCNRh0Ox4hkbm5ue3tb7l2DYs0NnB28wvDwMA4U/l5JwwwiosvCgCaqNGLeM/qpr6+vurpaoVAsLCycOtNXXHFMJpMIaGxWkQEtZm7EYjG73Y4otFgsfr8/m82+eDTKF05iPB6fnp7WaDRarXZmZgbnVO7j1sXiJKurq2azWaVSjY+PB4NBfGxYz0REL2JAE1UalBNSFSF18+bNpqamubm5s2pVXHFEUBoMBnQtymlzc1PulNmLK35Ai3ksiUTC7XbjgBiNRowl0ul0hdUzxgMej0epVCJ8kdHhcLiA6kUr47xMTExgKGUymQKBwKmDLiIiesqAJqokyB3xq/yxsbH33nuvvb0dvXjWGm0ivLxeL2oJUYu4jMfjlXQT4ZG0oBvqGXGJvRMPE8HRkHtptmSJGTiZTEbcCTo4OIh6jkQicp8uKT42ODj42AwPD+OlVlZWUM9XvSoLEVH5YkATVQ6RQWig6urqltbWxaWlXC53akuhnre3t5HXGo1GqVROTEysr68XcNlSlmIGNPZ6f39/c3PT5XKhnkdHR/1+P47GVf/coslLdw1izDM3N2cwGHQ6Hf4Si8Xk1jNOOkZNODg4RGKKC+q5kg4UEdFVYEATVYK8ZHFxUaVS1dfXNzc3B6QV605tYnxxd3cX9YxgQs6imUKh0NUtvnGsaAEtZm5EIhGbzabX681mM44MevrUo1GmxGMCPR6PVqvFeZydnU0mk3LvGhTznnGgzNKKdWhor9fLuwaJiF6KAU1U9sSv8tE9TU1NX375ZWdn59LS0ln3AiKwkJLBYBDB1NraOjY2trGxcWJ5uytSnIAWRwM16XK58OPUajXqOZ1OX91PLD7sC/YIZ1lMXrdarTi2cievH0lL+2HsNDk5iQOFcZTP58tkMpV0oIiIrggDmqi85aU1N9CL4+Pj33zzzb1796amph49enRqED+RVvkNh8PYuL+/H3G5uroqa6ngV1GEgBZHA3GJaDYajUNDQzabDQfnin7ca3E8eR3Jq9FoxKSLAiZ2i0/CzMwMzoher0eO47g9qaCl/YiIrg4Dmqi8iWdTT05OXr9+HU08NzeXSqVObSAxcwPFbLVa0Uwmk2l9fX1vb69ocXnVAS3uGkQuowWxdwaDYXl5WSyHfHLT8pSXlh3M5XLi1k/Us3gizFkz3c8iprhsbGygnnU6HU4KXjCTyRRQ4UREbyYGNFEZQ/GsrKwMDQ1VVVW1t7cjg85qKXxxZ2fH5/MNDg62traOjIwEg8EiB9OVBnReWkoiHo97PB6xlMTi4uJZK5CUKfHkSJxx7J1YsQ4RLPeuwSNpYWwxc0Or1er1erfbjZflvGciootjQBOVMWQQGujOnTtff/31+vr6wcHBqWGKL6KV/X6/eDBhZ2dnIBA4a5rH1bnSgBZLUqAFUYT4KS6Xq8KWkkA97+7uop4tFkt/fz/+jEQick8iKhkfEhyosbExtVot6plP6iYikosBTVR+8tJ9cghE9ZC6ubm5r69vdnb2nHoWl2YNBkNXV9fIyIjP53stz8i4ooAWExvS6fTCwgKKECMKRGEymaykS6o4XDs7O8FgUExeF7d+4ozLOolH0iPNY7GYw+HAZwbHan5+PpVKXeK5ICJ6QzCgicqMmMCKIDaajE3NTSgh9JC42vpiTiEi9/b2wuEwkkuhUGg0mkAgcKVPSznHVQT0kTTvOZvNogXNZjMGCRhLIAor6SEg2EecX7FUs1qtFg86kTtzAxuL6fJOp3NwcHBoaGhubi6RSFTSgSIiKhoGNFGZQf7GYjGbzfbpp5/29vW6XC6xysSpOSXWKRsfH6+vr0czoZ7PmiRdBJce0HnpYSLpdNrn82m1WgwPxLXnirlr8OmzfcQRw/AAgyUxBNrd3ZV1AMWLRKNRjLVwoLq7uzHewIEq2gIsREQVhgFNVE6ePHkSiUQQxM0tzTU1NU6Xc3t7+6yLiGimcDhsNBqbmprQTOJhIic3KqLLDWgRhdls9riexcNEKqkIxfX1TCYzNjaG44bdRPhiUCRrH8WBSiQSOD7Dw8MqlWpiYkKsWHdyUyIiuhgGNFHZQE6hQdFSjY2NVVVVsVjsrGcN5qVJ0mLmBjauq6tbXV2Ve8PZpbvcgMbupFKp5eVls9ksLqm+xovrV0Es2h2NRl0uV29vr16vD4VCck/ikbTmBg6U3W4fHBxUKpXT09NyJ08TEdEJDGiiMpCX7pPLZDKoqPb29v7+fpvNJur5xRISzZRIJIaGhrDx8PDw0tJSKSxJcYkBjb0WD7LGARHTec+5El+mcMqCwSCGBw0NDQaDAUOgAq49i08Cjg/GGGq12ul0xuPxVzz4RETEgCYqdXnp6XrIILRUR0cH6tlut4tVJl7MKdFMsVhMq9W2tLQgWBcWFvb390/duMguJaDFWAL76Ha7jUajTqcTzxpEPb/2HbxEOD6hUGh0dLSnp6erq6uwIZD42OBAKZVK8bGJRqOVNEGciOh1YUATlbpHjx4hEB0Ox40bNxQKxezsLDLo1F/li3qOx+NIpevXr/f29iKeMpnMi1u+Fq8e0Pln6/dFIhGMEIaHh3FY8LKVFIU4MtjHdDqNgUFfXx/OuMfjwUk8da7OWcQwAy+C8sYYA0OpmZkZMeenRD4MRERljQFNVOpQzwji7u7u6upq/CWRSDw64wmC+DrK0mq1tre3371zF3FZUo/ie/WARlmK5ZBNJhPqGUcDr1nYS5UmMf0mm83iJCqVysHBQYQvqvfkdi8jnrqyuLio1+txwEdGRsRF+pPbERFRQRjQRKVL5JTH42lpablx48b6+noulzv1SmResrGxgVS6c+fOzZs3UdKlVpavGND4lkwm4/P5EIXYR9Sh3DnBJS4vPY08Go1OT09//fXXGDL5/f5TT/f5EMo4UHNzczjUnZ2do6Oj+BSd3IiIiF4BA5qodIm1e+12u1KpRHqmUqlTn4EiJjbs7Ox0dXVVVVWJJSle74p1p3qVgMY+IpcRzRqNRqFQOByOdDpdSZdU89JMdwx7TGbTJ59+ggO1tLSUzWbljhDEJwEfgOrq6tbW1snJSbxmARVORETnYEATlS50j7gJbGRkZHh42O/3ZzKZE7Of88/mPY+OjtbV1bW3t9tstrMuVL9ehQU0dlBcifd6vdhHBPTY2FgymTx1FniZEidxY2Njamqqr6/v7t27Yt6z3BECTjrq2efz4dPS2NiIj836+rrcZxYSEdFLMaCJShe6Z39/Hw2ErhoaGjKbzcFgEIV03FV56fnMm5ubiOY7d+6IWwwR06UZTIUFNHZWPI3cYDDo9Xq73Y6/nzULvByJuwZxEsfHx/slOIlyH3SSl+4azGazGGXhQHV2duLV8MmpsFkuREQlggFNVOp2d3cDgcDo6GhXV9fk5GQoFEIVif9CMyGSdDrd3bt36+rq5ufnsXHJBlMBAY3NsLMYNtyXYJwQi8Uu+L1lIS89JhBnTa1Wt7S09PX1zczMFDA8wDF58OABPgA4vO3t7SMjI6lUqpIOFBFRSWFAE5WBw8PDSCSCgkRmTU1NIUDFemSJREKj0Xz88cc///nPUZayrlkWXwEBLS7A6/X69957b3p6OpPJXPAbywVaeXt7G+H7/vvvV1dXu1yuAuoZxDAD6fzJJ590d3fzwjMR0ZViQBOVAVQjUhLdabFYUMxmsxnJlU6nBwcHGxsbEUziwYQl3kyyAlpMCw4EAthZfBfqOZlMVtJ6z2IHxbKDt2/fxmFxu92I6ZcemRPEBPHl5eXW1tampibxzMISH0oREZU7BjRRGRA30qGh0Umjo6Nqtbq/v1+pVDY3NyO8HA5HNpuVG17Fd/GARv9hPCB2Vq/XT0xMoCwr767BYDCIEVFPT09LS8vi4iJGRHIvPz9+/BinHt+rUqkQ0KhnHFt8TirmQBERlSYGNFHZQBVlMhlkpU6nu3fv3vvvv9/V1eVyuVKpVFkE0wUDGvW8t7cXCoUwThgcHJyent7c3KywS6oI32g0OjIy0tTUhHrGSdzZ2ZG7jziG+C58HjCaqq2tRYvjoLGeiYiKgAFNVGbQ0B6PByX6xRdf2O320nlS90tdMKAPDw/D4fDw8DCGB2azGVGIsiyXfbwI7Esul9Pr9Q0NDY2NjUajsbCpKfgur9fb19d3584d/IkiP+eoEhHRJWJAE5UZRBLKaX9/P5vNnvpclZL10oAWExsQglar9Xe/+53NZjte77kyAjovrbkhJl189tln9fX1DoejgBv+8tLyhRhm4Hh++umnPT0929vbci9gExFRwRjQROUnL02JhvIqy/MD+khasW55eVmv12ObmZkZcddgGe3gSz148GB9fX1kZOTatWv9/f0ej6ewuwZzuZzL5WpraxN3DQaDQbmTp4mI6FUwoImoSM4JaHFJdWFhATk4NDRksVhQlqhnuXFZssSYB/WMHUT1Hj9rUG74igPldDq7uroaGhq0Wi1es/QXYCEiqjAMaCIqkrMC+khaiG1zc1OlUvX391ut1o2NjUqa9yxmbqTTaQwM6iSzs7PZbFbupAuxOAkOTnt7+61bt3Q63RrX3CAieh0Y0ERUJKcGNOLvwYMHkUjEZDJ1dXWNjIzgf4+fVV4ZEL7JZBI72NjYWF9fr9frMWA4udHLiGvPq6urw8PDVVVVOFbiQLGeiYiKjwFNREVyakCjnsPh8Pj4eHV19eTkZDQaxVcqKQrRuNvb21NTUx999NHdu3fF8xQL2MFcLhcIBJRK5bVr1wYHBzHkQIVLc+BlvxQREb0iBjQRFcmJgBYzN/x+v0aj6e3ttdvt8XhcROHJ7yxbjx49isViIyMjX3zxRWdnp8vlKuCuQXGRHuWN/r5x44ZWqw2FQhV2kZ6IqLwwoImoSJ4P6CdPnuzv74sndeMrer2+8u4axD5GIpGxsbHm5uaqqiqPx5PNZuWGr5g/vbCw0N3dffPmTfy5vr5eYcMMIqKyw4AmoiI5DuhgMChuhlOr1QqFYnx8vMKm82JHMBhIp9PYtfr6+qamJqfTWfBdg9FotLOzs66uTqvVYshRYVNciIjKEQOaiIpEBHR/f7/X60UxGwyG7u5ucddgYY/iK1lHR0fxeNxoNIq7Bk0mUwHVixfZ3d1dWlrq7e29c+fO4OCgeCjjye2IiKjoGNBEVCQioLu6uqamphCXtbW14+PjGxsb+/v7FTNz46l012A2m52cnPz0009v3bqFvyQSiSPpqTcnNz1XLpfDSKOzs/Ott94aGBjAgSqgwomI6CowoImoSGKxGELwTlVVc3Nzf3//6Ojo5uZmJUUhdgT1nEqlMDCoqalpbW2dmJiIx+NyLxvnpUeaezyenp6e6urqjo6OQCBQwMp3RER0RRjQRFQkkUiko6P92hdf3Lt3z2QyITQr6Undop6j0ejY+FhTU1NDQ8PCwsLu7m4Bdw3iW+bm5vr6+urr61UqFQYelXSgiIgqAAOaiIrh6OgoGAzeu1f95Zdf6nW6jY2NR48eVVIUonp3dnZGR0e//vrrmtoaj8eDf8p9niKO0oMHDzC0uHnz5u3bt0dGRsLhsNzHfRMR0VVjQBPRlUMXZrNZl8vV0FDf0tKyuLiITDy5UTkTdw1OTExg76qqqnQ63e7urtyJ3UjtXC7n9/uVSuXvfve73t7eQCAgd/oHEREVAQOaiK4WEhBduLKyMjY2dv/+gNlsikQildSFCOVMJjM1NXX37t3a2lrxPMUCVuXb29vDURocHHz//feHhobwdxw3uS9CRERFwIAmoquSlx4msrOzs7q6Oj8/PzMzY7FYHA5HKpWqjC4UO7i7uzs+Pt7Y2NjU1IQd3Nrakjs8EHcNLi4uop7xOq2trWKp7Mo4SkRElYcBTURX5dGjR5lMZm1tzeVy+Xy+UCiEhp6bm9ve3q6MNHz8+HEikbDb7TUSp9OJ0UIBdw3iQHk8nt7e3tra2vv37+OgFXABm4iIioYBTURXQkxs8Hq9KOZgMJhOp5PJJEq6YgL6yZMn2EGr1fr111+3tra63W7sl9w7I/PSMwtTqdSNGzeqqqo0Gg3GG3JfhIiIiowBTUSXT9Tz+vr6/Pz88vIy0hmZmM1m5yQVENDYwa1YbGpqqqOj486dO2NjY9hfuWtu5KW7BlHMer3+5s2bCoViaWlJzNyQ9TpERFRkDGgiumToyP39fXTh4uJiIBDY2toSzxrc2dmpjIDGm0+n03abra21tamxcdRi2dzcLGCxOXFvpcFgQD1rtVqv14sKl7t2BxERFR8DmoguE+p5b28vHA4jB1HP8Xj84OBA3FRXGQEtlmq22Ww9PT0d7e1GgyESiRweHsrao7x09yEO0dDQUHNzc0dHB8YbFfZIcyKiCsaAJqJL8+jRI1Qy6lnMe85ms89fl62AgH78+HE6nV5cXKypqWlsbHS5XBgtyF1zAx4+fBgKhQYGBm7dutXa2ppKpXjXIBFRGWFAE9HlEE9LESvWraysoJIPDw+fv6Ra7gEt3TWYnpmZqaqq6urqmp2dTSQScsM3L901GIvF2trampubdTqd1+s9caCIiKjEMaCJ6BKgC9HHm5ubPkk8Hn/w4MGJKCzrgMa+JBJxp9OhVN5vaGiYmJhABGMfZe0INt7b2wsGgxqNpqmpCX8uLy/jsLCeiYjKCwOaiF6JmM6LlEQ9r66uog5RlmJiw4m4LOuATqfTLpdTpVL29PSMjY1hZ18cIbzUwcHB2tqayWS6c+eOqGccCrnrRhMR0WvHgCaiVyLuGkRQrqysoA4TicT+/v6p04LLNKDxVtG4drtdpVQqFAqz2YwRwsOHD+XuAmo7FArh2zs7O9va2nw+XwFPXSEiolLAgCaiwiEKkcvRaHR2dlY8LQVleXKjZ8oxoI+HBzU1NU1NTTabDftYQPXisMTj8ZGRkfr6+u7u7sISnIiISgQDmogKhHrO5XKRSMTn83m93mQyef6shrILaPGsQbzhuro6hUJht9sxVJAbvnnpSd1I8K6urpaWFo1Gs7i4eHBwcM6BIiKiEseAJqJC5KWn6G1tba2vr4t5z2LmxjlxWV4BLd01mHC73TqdDu07MzODCJa7VDN2E60cCoVMJlN7e/vw8PD8/Dx2X9aLEBFRqWFAE5Fs6L/Dw8NIJIJ63tjYQGju7e29dEG3MgpovD1x7RnJe//+/dnZWfE8xVPndp/jwYMH4XDYarW2tbWNjIwsLi6Kp5qf3I6IiMoKA5qI5BH1jGj2+/0rKysoywtOSCiXgM5L64q4XC61Wt3X12cymcRaGQW8Z4wxxsfHeyW8a5CIqGIwoIlIBlHP4ml8S0tLGxsbiMILlmVZBLTYwVQq1Soxm83hcLiA6sW3YH8nJycbGxvb29tRz3t7excZZhARUeljQBORDA8ePEBchkKhlZUVMXPj+Yd1n6/0AxqBizeJgUFHR4fRaMQgQVxfl/Vu89KydxhaqFSqnp4evA5ecHd3V+70DyIiKlkMaCK6kLwkl8vFYrG1tTWUpajni8dliQc03hLeGKLZYDAgoOfn51+6rsiL8CKHh4ebm5tjY2OoZ41Gg3oueAYIERGVJgY0EV0I+g8pubu7i4AOh8MXuWvwhFIO6Lz0kG2v12symVQqldlsjkajBTypG/Ucj8dtNptCodBqtR6Ph3cNEhFVHgY0EV2ICGg0ZTabTafTBUxIKOWAfvTo0crKyvj4OKoXDb2+vi53xbqnz1a+czqdarVaqVQuLCykUim560YTEVHpY0AT0YX87wQOqaGFAqKwNAMa7wSNm0wmdTqdRqOx2Wybm5uypqYIGFGIHVQoFKjn43nPcl+HiIhKHwOaiIqkBAM6L83qXllZUUlQzxsbG3LvGnwq1TOy22g03r9/X9x9yBXriIgqGAOaiIqk1AI6L817DoVCU1NTvb29Vqs1GAziTcqanZKX1tzY2tqy2+1KpVI8azCZTMqdIE5ERGWEAU1ERVJSAS3mc29sbMzOzhqNxpGRkdXV1Ww2e/FV+Z5K9Yzt0+m0y+XSarU6nc7hcCCmDw8PX/sOEhHR1WFAE1GRlFRAo3FDoZDdbjeZTBaLxev1FrBU8+PHj1Op1Pz8vEHidrtjsZjctTuIiKjsMKCJqEhKJKDFpAuEL7pZrVYjoBcWFg4ODuTe8IcXyWaz+N779+/rdLqlpaV0Ol3A3YdERFR2GNBEVCS7u7seCULzdVVmXlqqOZFIOBwOpVJpMBhE+Mp9P0dHR8lkUszcUKlUTqdT1PPJ7YiIqBIxoImoSA4ODtYluVxObrBeFryHaDQqJl2YzeaFhQV0sNyZG6hn8cxCk8mk0+nsdnskEuG1ZyKiNwcDmoiKBJ2ak7yWK7WoXvzcra0tl8uF8DUajX6/Hx0s6zGBSGTsxd7eHsp7dHTUYrHg1TjvmYjoTcOAJqIiyT97DstraU0xc2Nubk6v12u12vn5+Ww2K3epZjHvORAIjIyM4HWcTmc0GpWV4EREVAEY0ERUJPnnnPy/K/bkyZNUKoV61ul0g4ODVqtVrPcs652Ia89ra2tGo1GpVI6Pj29sbHDFOiKiNxADmogqWV5aqnl7e3t+fl6j0Wi12pmZmXA4fHR0dHLTc2H7XC6HYsa3q9XqycnJ9fV19DTrmYjoDcSAJqKKlX+25obb7UY963Q6p9OJf8q9axAymUwgEJienjaZTBMTE5FI5OHDh6xnIqI3EwOaiCpTXrrhT8zcUKlU3d3d8/PzBSw2l5embnu9XjFzAwG9ubnJuwaJiN5kDGgiqkwPHz7MZDJLS0tarba/v398fDwej8u99ox0xuvs7u6Ojo6q1Wo0NF7w4OCA9UxE9CZjQBNRBXr06FEqlULsmkym+/fvj42NJRIJuZMuUNv7+/v4Rr/fPzw8jJfy+XwFPPGbiIgqDAOaiCoNAjedTs/Pzw8ODoprz2tra3KrF6mdy+XC4bDD4VCr1aOjo16vN5vNykpwIiKqSAxoIqocYs2NnZ2dubm5+/fvt7W1GQyGWCwmd80NcfdhMBgcGxtTKBRdXV1IcK5YR0REAgOaiCqEuGtwd3d3ZWUF9dza2jo7O5tMJuU+6ES8TiKRmJiY6Onp6e/vD4VCBwcHciuciIgqFQOaiCoEQjmdTi8vL4u7BkdHR2OxWAFPS3nw4AHqeXJyUqwb7XA4uOYGERE9jwFNRJUA4bu9vb2wsKDT6drb281mcwGLzR0dHe3v70ejUbvdjgTX6/Vi5TteeyYioucxoImo7InHBHq93qGhoc7OTo1Gs7KyInfmBhwcHKCeZ2ZmmpubBwcH3W53KpViPRMR0QkMaCIqY2K+MsIX9Tw8PNzQ0DAwMIAIllu94u5Dce25r6/vq6++Wlpa2t/fl3UBm4iI3hAMaCIqY6jnvb29UCjU1tZWW1s7NjYWj8flXnsW9ZxMJicmJnp7e3t6elZXV1HPciuciIjeEAxoIipXjx8/zmazfr9frVZ3dHTodLq1tTW5T0tBJT948GBra8tisSiVyqGhoZmZGa65QURE52BAE1FZQuCKNTf0en1jY6PRaAwGg3t7e7LqGRujnmOx2PT0dFtbGwLa4XAkEgnWMxERnYMBTURl6eDgAPWsUqlQz/39/SsrK4eHhyc3epnHjx8nk0mXy4UX6erqQkYX8NQVIiJ60zCgiajMiBsHNzY2hoaGvvrqq7t370YiEbnVixdBPYsnfqO/P/zwQ7fbncvlZF3AJiKiNxMDmojKiXjQSTKZbGlpqa+vNxgM4XC4gGvPjx49SiQSFouloaGhubnZ7/fv7e3hxU9uR0RE9AIGNBGVjXw+j8wNBALd3d0IaL1ev7Kygp6WdflZXHtOpVKI766urt7eXqvVipfFi/DyMxERXQQDmojKhrhxcHJy8u233+7p6VlcXNzZ2ZFbz4eHh8lkctYx29jY2NnZOTU1xXnPREQkCwOaiMoGMnd7e9tsNv/bv/1bf3//2tqa3Id1i/WeZ2Zn6hvqW1paxsbGCnjqChERveEY0ERUTnK5nMvl+vjjj3t6eubm5lKp1JMnTy7S0NgGobyzs+PxeJqam976f9+y2Wy8a5CIiArAgCaiciIePbixsdHS0tLW2jo5OSkePfjSDn78+DFyeWJi4t69e7W1tUtLS/gn7xokIqICMKCJqJyINexQzNNTU/fvD/T19Vkslmg0enh4eNZMDHHXYCwWMxgM7e3tnZ2d+Jbd3V3WMxERFYYBTURlKZlM2my27u7utra26enps65DH6+5gW2qq6sbGhqsVivnPRMR0atgQBNRuUIHo4Y7Ozubm5udTmcmkzlxUfl43vPs7CzSua6uzmAwFPDUFSIioucxoImoXKGPc7nczMzMZ5991tvb6/V6d3d3n49jsYHP52tpafnggw+wpVjv+bnXICIiko0BTURl7MmTJ5lMZnFx8d69e9XV1dPT0/jno0ePxFTpg4ODGfvM7Vu3q+9Wu1wucYn6xWkeREREsjCgiaiMiVDe3983Go3Nzc1dXV0TExNiPjT+HB8fb2trq6+rN4wYxF2DrGciInp1DGgiKntHR0fI5cnJydbW1paWlunpab/fj3/erb5bXV0tnpbCNTeIiOiyMKCJqEJsbW1ZLJbm5uaqqqobN27cvn27trZWr9ejnh8/fnxyayIiokIxoImoQoj50Gjot99++9vf/vY777wzMTGxu7uLeubMDSIiukQMaCKqHGjora2tycnJoaEhq9Uaj8e55gYREV06BjQRVY7j5xQ+kHDeMxERXQUGNBFVmvwzJ/+DiIjoMjCgiYiIiIhkYEATEREREcnAgCYiIiIikoEBTUREREQkAwOaiIiIiEgGBjQRERERkQwMaCIiIiIiGRjQREREREQyMKCJiIiIiGRgQBMRERERycCAJiIiIiKSgQFNRERERCQDA5qIiIiISAYGNBERERGRDAxoIiIiIiIZGNBERERERDIwoImIiIiIZGBAExERERHJwIAmIiIiIpKBAU1EREREJAMDmoiIiIhIBgY0EREREZEMDGgiIiIiIhkY0EREREREMjCgiYiIiIhkYEATEREREcnAgCYiIiIikoEBTUREREQkAwOaiIiIiEgGBjQRERERkQwMaCIiIiIiGRjQREREREQyMKCJiIiIiGRgQBMRERERycCAJiIiIiKS4f8DCnnxnGc6VX0AAAAASUVORK5CYII=)"
   ]
  },
  {
   "cell_type": "markdown",
   "metadata": {},
   "source": [
    "Let's model the system using the infos given above. Also note that the output of the system should be the position $(x, y)$.\n",
    "\n",
    "In the next cell, implement a function that returns $\\dot{x}$, the derivative of the state vector. Note that the angular velocity, given as `omega` in the exercise, is limited to a maximum value. Thus, the system is nonlinear."
   ]
  },
  {
   "cell_type": "code",
   "execution_count": null,
   "metadata": {},
   "outputs": [],
   "source": [
    "def get_xdot(t: float, x: np.array, u: np.array, params: dict) -> np.array:\n",
    "    # Return the derivative of the state\n",
    "    max_omega = params.get('max_omega', 0.05)\n",
    "    omega = np.clip(u[1], -max_omega, max_omega)\n",
    "\n",
    "    #TODO replace the next line with an instruction that returns [xdot, ydot, thetadot] as a numpy array\n",
    "    return None"
   ]
  },
  {
   "cell_type": "markdown",
   "metadata": {},
   "source": [
    "The next cell contains unit tests. Run it to test your implementation."
   ]
  },
  {
   "cell_type": "code",
   "execution_count": null,
   "metadata": {},
   "outputs": [],
   "source": [
    "def assert_almost_equal(actual, expected, tolerance=1e-5):\n",
    "    assert np.all(np.abs(actual - expected) < tolerance), f\"Expected {expected}, but got {actual}\"\n",
    "\n",
    "def test_get_xdot_return_value():\n",
    "    params = {'max_omega': 0.05}\n",
    "    x = np.array([1.0, 2.0, 0.0])\n",
    "    u = np.array([1.0, 0.1])\n",
    "    result = get_xdot(0.0, x, u, params)\n",
    "    assert result is not None, \"The function get_xdot should return a value, not None\"\n",
    "\n",
    "def test_forward_motion():\n",
    "    params = {'max_omega': 0.05}\n",
    "    x = np.array([1.0, 2.0, 0.0])  # initial state [x, y, theta]\n",
    "    u = np.array([2.0, 0.0])       # input [v, omega]\n",
    "    expected_result = np.array([2.0, 0.0, 0.0])\n",
    "    result = get_xdot(0.0, x, u, params)\n",
    "    assert_almost_equal(result, expected_result)\n",
    "\n",
    "def test_rotation():\n",
    "    params = {'max_omega': 0.05}\n",
    "    x = np.array([1.0, 2.0, 0.0])\n",
    "    u = np.array([0.0, 0.01])\n",
    "    expected_result = np.array([0.0, 0.0, 0.01])\n",
    "    result = get_xdot(0.0, x, u, params)\n",
    "    assert_almost_equal(result, expected_result)\n",
    "\n",
    "def test_clipping_omega():\n",
    "    params = {'max_omega': 0.05}\n",
    "    x = np.array([1.0, 2.0, 0.0])\n",
    "    u = np.array([0.0, 0.1])  # omega exceeds max_omega\n",
    "    expected_result = np.array([0.0, 0.0, params['max_omega']])\n",
    "    result = get_xdot(0.0, x, u, params)\n",
    "    assert_almost_equal(result, expected_result)\n",
    "\n",
    "def test_combined_motion():\n",
    "    params = {'max_omega': 0.05}\n",
    "    x = np.array([1.0, 2.0, np.pi/4])\n",
    "    u = np.array([1.0, 0.1])\n",
    "    expected_result = np.array([np.cos(np.pi/4), np.sin(np.pi/4), 0.05])\n",
    "    result = get_xdot(0.0, x, u, params)\n",
    "    assert_almost_equal(result, expected_result)\n",
    "\n",
    "def run_tests():\n",
    "    test_get_xdot_return_value()  # Add the new test\n",
    "    test_forward_motion()\n",
    "    test_rotation()\n",
    "    test_clipping_omega()\n",
    "    test_combined_motion()\n",
    "    print(\"All tests passed!\")\n",
    "\n",
    "run_tests()"
   ]
  },
  {
   "cell_type": "markdown",
   "metadata": {},
   "source": [
    "Inside the next cell, implement a function that returns the output vector (i.e. the position in Cartesian coordinates) of the bot."
   ]
  },
  {
   "cell_type": "code",
   "execution_count": null,
   "metadata": {},
   "outputs": [],
   "source": [
    "def get_y(t: float, x: np.array, u: np.array, params: dict) -> np.array:\n",
    "\n",
    "    #TODO replace next line with your implementation\n",
    "    return None"
   ]
  },
  {
   "cell_type": "markdown",
   "metadata": {},
   "source": [
    "Here are the unit tests for this part:"
   ]
  },
  {
   "cell_type": "code",
   "execution_count": null,
   "metadata": {},
   "outputs": [],
   "source": [
    "def test_get_y_not_none():\n",
    "    params = {'max_omega': 0.05}\n",
    "    \n",
    "    # Test: Check if the output is not None for a sample input\n",
    "    x = np.array([1.0, 2.0, 0.0])\n",
    "    u = np.array([1.0, 0.1])\n",
    "    result = get_y(0.0, x, u, params)\n",
    "    assert result is not None, \"The function get_y should return a value, not None\"\n",
    "\n",
    "def test_get_y_output():\n",
    "    params = {'max_omega': 0.05}\n",
    "    \n",
    "    # Test 1: Check the output when x is [1.0, 2.0, 0.0]\n",
    "    x1 = np.array([1.0, 2.0, 0.0])\n",
    "    u1 = np.array([1.0, 0.1])\n",
    "    result1 = get_y(0.0, x1, u1, params)\n",
    "    expected_result1 = np.array([1.0, 2.0])\n",
    "    assert_almost_equal(result1, expected_result1)\n",
    "\n",
    "    # Test 2: Check the output when x is [0.0, 0.0, pi/2]\n",
    "    x2 = np.array([0.0, 0.0, np.pi/2])\n",
    "    u2 = np.array([2.0, 0.0])\n",
    "    result2 = get_y(0.0, x2, u2, params)\n",
    "    expected_result2 = np.array([0.0, 0.0])\n",
    "    assert_almost_equal(result2, expected_result2)\n",
    "\n",
    "if __name__ == '__main__':\n",
    "    test_get_y_not_none()\n",
    "    test_get_y_output()\n",
    "    print(\"All tests passed!\")"
   ]
  },
  {
   "cell_type": "markdown",
   "metadata": {},
   "source": [
    "Finally, in the next cell you can find the solution. Be sure to only open it after trying yourself!"
   ]
  },
  {
   "cell_type": "code",
   "execution_count": null,
   "metadata": {},
   "outputs": [],
   "source": [
    "def get_xdot_solution(t: float, x: np.array, u: np.array, params: dict) -> np.array:\n",
    "    # Return the derivative of the state\n",
    "    max_omega = params.get('max_omega', 0.05)\n",
    "    omega = np.clip(u[1], -max_omega, max_omega)\n",
    "    return np.array([\n",
    "        u[0] * np.cos(x[2]),    # xdot = v cos(theta)\n",
    "        u[0] * np.sin(x[2]),    # ydot = v sin(theta)\n",
    "        omega     # thdot = w\n",
    "    ])\n",
    "\n",
    "def get_ydot_solution(t: float, x: np.array, u: np.array, params: dict) -> np.array:\n",
    "    return x[0:2]"
   ]
  },
  {
   "cell_type": "markdown",
   "metadata": {},
   "source": [
    "Make sure you have a good understanding of the system: As mentioned above, we are going to try some new control approaches on it in the next notebooks.\n",
    "\n",
    "Congratulations, you finished this Jupyter Notebook! Have fun with the rest of the course :)"
   ]
  }
 ],
 "metadata": {
  "kernelspec": {
   "display_name": "Python 3",
   "language": "python",
   "name": "python3"
  },
  "language_info": {
   "codemirror_mode": {
    "name": "ipython",
    "version": 3
   },
   "file_extension": ".py",
   "mimetype": "text/x-python",
   "name": "python",
   "nbconvert_exporter": "python",
   "pygments_lexer": "ipython3",
   "version": "3.8.2"
  }
 },
 "nbformat": 4,
 "nbformat_minor": 2
}
