{
 "cells": [
  {
   "cell_type": "markdown",
   "metadata": {},
   "source": [
    "# Python Controls Library Exercises\n",
    "\n",
    "## Introduction\n",
    "\n",
    "Welcome to the CSII Jupyter Notebooks! This first notebook is designed to help you become familiar with the `control` library in Python, a powerful tool for analyzing and designing control systems. The exercises are structured to cover various aspects of the library, from basic transfer function creation to the analysis of time and frequency responses. By the end of this session, you'll have worked with control systems and even designed a low pass filter.\n",
    "\n",
    "**Note**: Before you begin, make sure to install the `control`, `matplotlib` and `cs2solutions` libraries by running the following commands:\n"
   ]
  },
  {
   "cell_type": "code",
   "execution_count": null,
   "metadata": {
    "is_executing": true
   },
   "outputs": [],
   "source": [
    "%pip install cs2solutions"
   ]
  },
  {
   "cell_type": "markdown",
   "metadata": {},
   "source": [
    "Then, import them:"
   ]
  },
  {
   "cell_type": "code",
   "execution_count": null,
   "metadata": {
    "is_executing": true
   },
   "outputs": [],
   "source": [
    "from cs2solutions import intro\n",
    "import control as ct\n",
    "import matplotlib.pyplot as plt\n",
    "import numpy as np"
   ]
  },
  {
   "cell_type": "markdown",
   "metadata": {},
   "source": [
    "## Exercise 1 - Transfer function creation\n",
    "In this exercise, you'll start by creating a transfer function for a simple system using the Python Controls Library.\n",
    "\n",
    "The transfer function is the following:\n",
    "$$\n",
    "    G(s) = \\frac{s}{s^2+2s+1}\n",
    "$$\n",
    "\n",
    "Create the corresponding `ct.TransferFunction` object in the following code cell. Feel free to refer to the documentation if needed."
   ]
  },
  {
   "cell_type": "code",
   "execution_count": null,
   "metadata": {},
   "outputs": [],
   "source": [
    "def create_transfer_function() -> ct.TransferFunction:\n",
    "    \"\"\"\n",
    "    Creates a transfer function for the given system.\n",
    "\n",
    "    Returns:\n",
    "    - tf: ct.TransferFunction, the transfer function G(s)\n",
    "    \"\"\"\n",
    "\n",
    "    #TODO replace the following line with your implementation.\n",
    "    tf = None\n",
    "\n",
    "    #TODO DELETE BLOCK\n",
    "    # Define system parameters\n",
    "    numerator_coeffs = [5]\n",
    "    denominator_coeffs = [1, 1]\n",
    "    # Create a transfer function\n",
    "    tf = ct.TransferFunction(numerator_coeffs, denominator_coeffs)\n",
    "\n",
    "    return tf"
   ]
  },
  {
   "cell_type": "markdown",
   "metadata": {},
   "source": [
    "In the next cell, the solution is implemented. Please note that, while you are allowed to look at it, solving the exercise yourself comes with a much greater benefit.\n",
    "\n",
    "Once you are done with the implementation, run the following cell to test your implementation:"
   ]
  },
  {
   "cell_type": "code",
   "execution_count": null,
   "metadata": {},
   "outputs": [],
   "source": [
    "intro.test_create_transfer_function(create_transfer_function, intro.sol_create_transfer_function)"
   ]
  },
  {
   "cell_type": "markdown",
   "metadata": {},
   "source": [
    "## Exercise 2 - Time Response Analysis\n",
    "\n",
    "Next up, let's practice the creation of plots.\n",
    "Use the functions `ct.step_response()` and `plt.plot()` to plot the step response of the system.\n",
    "Hint: You may also use your implementation of Exercise 1."
   ]
  },
  {
   "cell_type": "code",
   "execution_count": null,
   "metadata": {},
   "outputs": [],
   "source": [
    "def plot_step_response(tf: ct.TransferFunction):\n",
    "    #TODO replace the next line with your implementation\n",
    "    pass"
   ]
  },
  {
   "cell_type": "markdown",
   "metadata": {},
   "source": [
    "Execute the following cell to test your implementation:"
   ]
  },
  {
   "cell_type": "code",
   "execution_count": null,
   "metadata": {},
   "outputs": [],
   "source": [
    "tf = create_transfer_function()\n",
    "# tf = intro.sol_create_transfer_function()\n",
    "intro.test_plot_step_response(plot_step_response, intro.sol_plot_step_response, tf, False)"
   ]
  },
  {
   "cell_type": "markdown",
   "metadata": {},
   "source": [
    "## Exercise 3 - Bode plot\n",
    "Let's now create the Bode plot for this system. In the next cell, use the `control` library to create the Bode plot (no other modules are needed). In order to find the right function and its usage, make sure to check out the library documentation."
   ]
  },
  {
   "cell_type": "code",
   "execution_count": null,
   "metadata": {},
   "outputs": [],
   "source": [
    "def bode_plot(tf: ct.TransferFunction):\n",
    "    #TODO replace the next line with your implementation\n",
    "    pass"
   ]
  },
  {
   "cell_type": "markdown",
   "metadata": {},
   "source": [
    "Run this cell to see your plot:"
   ]
  },
  {
   "cell_type": "code",
   "execution_count": null,
   "metadata": {},
   "outputs": [],
   "source": [
    "print(\"Your Bode plot:\")\n",
    "bode_plot(create_transfer_function())"
   ]
  },
  {
   "cell_type": "markdown",
   "metadata": {},
   "source": [
    "Should you need the solution, run the following cell:"
   ]
  },
  {
   "cell_type": "code",
   "execution_count": null,
   "metadata": {},
   "outputs": [],
   "source": [
    "print(\"Solution:\")\n",
    "intro.sol_bode_plot(intro.sol_create_transfer_function())"
   ]
  },
  {
   "cell_type": "markdown",
   "metadata": {},
   "source": [
    "## Exercise 4 - Low pass filter design\n",
    "\n",
    "Congratulations for solving the previous exercises! Now that you are getting to know the `controls` library, it's time to put your fresh skills into use by designing a functional system.\n",
    "\n",
    "You are now in charge of implementing a new control system for the Polybahn. In order to do so, you want to measure the speed of the wagon in real-time. In an effort to keep the costs low, you are provided with a cheap sensor that outputs a really noisy signal.\n",
    "\n",
    "Luckily, as a well-known controls engineer, you immediately know how to solve this problem: you can suppress noise using a low-pass filter.\n",
    "\n",
    "### 4.1 - Design\n",
    "\n",
    "You decide to go for a first order system with the following transfer function:\n",
    "$$\n",
    "G(s) = \\frac{1}{1+a \\cdot s}\n",
    "$$\n",
    "Where $a$ is a constant of your choice.\n",
    "\n",
    "As you may remember from CS1, the cutoff frequency $\\omega_c$ of such a filter is the frequency at which the magnitude of the transfer function is $\\frac{1}{\\sqrt{2}}$. Find $a$ for a given $\\omega_c$.\n",
    "\n",
    "Hint: Replace $s$ with $j\\omega_c$.\n",
    "\n",
    "### 4.2 - Implementation\n",
    "\n",
    "To suppress the noise, you choose $\\omega_c$ to be 0.8. In the following code cell, create a `TransferFunction` object that represents your transfer function. Use your result from 4.1."
   ]
  },
  {
   "cell_type": "code",
   "execution_count": null,
   "metadata": {},
   "outputs": [],
   "source": [
    "def get_filter_tf(omega_c: float) -> ct.TransferFunction:\n",
    "\n",
    "    #Replace the following line with your implementation.\n",
    "    tf = None\n",
    "\n",
    "    return tf"
   ]
  },
  {
   "cell_type": "markdown",
   "metadata": {},
   "source": [
    "The following cell displays your transfer function and the corresponding Bode plot. Feel free to use it to check your implementation."
   ]
  },
  {
   "cell_type": "code",
   "execution_count": null,
   "metadata": {},
   "outputs": [],
   "source": [
    "omega_c = 0.8 # Set cutoff frequency\n",
    "\n",
    "print(\"Your implementation:\")\n",
    "your_tf = get_filter_tf(omega_c)\n",
    "\n",
    "print(your_tf)\n",
    "\n",
    "if isinstance(your_tf, ct.TransferFunction):\n",
    "    intro.sol_bode_plot(get_filter_tf(omega_c))\n",
    "\n",
    "intro.test_create_filter_tf(get_filter_tf, intro.sol_get_filter_tf, omega_c, True)"
   ]
  },
  {
   "cell_type": "markdown",
   "metadata": {},
   "source": [
    "If you are stuck and need the solution, execute the following cell."
   ]
  },
  {
   "cell_type": "code",
   "execution_count": null,
   "metadata": {},
   "outputs": [],
   "source": [
    "print(intro.sol_get_filter_tf(omega_c, True))\n",
    "print(\"Here is the Bode plot:\")\n",
    "intro.sol_bode_plot(intro.sol_get_filter_tf(omega_c, False))"
   ]
  },
  {
   "cell_type": "markdown",
   "metadata": {},
   "source": [
    "### 4.3 - Testing\n",
    "Let's now test the time response of the system. This next code snippet generates a noisy speed signal for one Polybahn ride, as measured by the sensor. Run it and take a look at the graph."
   ]
  },
  {
   "cell_type": "code",
   "execution_count": null,
   "metadata": {},
   "outputs": [],
   "source": [
    "sampling_rate = 10\n",
    "noise_level = 0.3\n",
    "\n",
    "def generate_noisy_speed_signal(sampling_rate: float, noise_level: float):\n",
    "    \"\"\"\n",
    "    Generate a noisy speed signal for one Polybahn ride.\n",
    "\n",
    "    Parameters:\n",
    "    sampling_rate (float): Number of data points per second.\n",
    "    noise_level (float): Standard deviation of the noise.\n",
    "\n",
    "    Returns:\n",
    "    np.ndarray: Time array.\n",
    "    np.ndarray: Noisy speed signal.\n",
    "    \"\"\"\n",
    "    # Time arrays for each phase\n",
    "    t1 = np.arange(0, 20, 1/sampling_rate) # Stay at 0 for 20 seconds\n",
    "    t2 = np.arange(20, 40, 1/sampling_rate) # Ramp up to 15 over 20 seconds\n",
    "    t3 = np.arange(40, 70, 1/sampling_rate) # Stay at 15 for 30 seconds\n",
    "    t4 = np.arange(70, 90, 1/sampling_rate) # Ramp down to 0 over 20 seconds\n",
    "    t5 = np.arange(90, 110, 1/sampling_rate) # Stay at 0 for 20 seconds\n",
    "\n",
    "    # Generate speed profile for each phase\n",
    "    speed1 = np.zeros_like(t1)\n",
    "    speed2 = 15 * (np.sin(np.pi * (t2 - 20) / 40))**2  # Squared sine curve\n",
    "    speed3 = np.full_like(t3, 15)\n",
    "    speed4 = 15 * (np.sin(np.pi * (t4 - 70) / 40 + np.pi/2))**2  # Squared sine curve\n",
    "    speed5 = np.zeros_like(t5)\n",
    "\n",
    "    # Combine phases\n",
    "    t = np.concatenate((t1, t2, t3, t4, t5))\n",
    "    base_speed = np.concatenate((speed1, speed2, speed3, speed4, speed5))\n",
    "\n",
    "    # Add Gaussian noise\n",
    "    noise = np.random.normal(0, noise_level, size=t.shape)\n",
    "    noisy_speed = base_speed + noise\n",
    "\n",
    "    return t, noisy_speed\n",
    "\n",
    "# Generate the signal\n",
    "time, noisy_speed = generate_noisy_speed_signal(sampling_rate, noise_level)\n",
    "\n",
    "# Plotting the signal\n",
    "plt.figure(figsize=(10, 6))\n",
    "plt.plot(time, noisy_speed, label=\"Noisy Speed\")\n",
    "plt.xlabel(\"Time (seconds)\")\n",
    "plt.ylabel(\"Speed\")\n",
    "plt.title(\"Noisy Speed Measurement\")\n",
    "plt.legend()\n",
    "plt.show()"
   ]
  },
  {
   "cell_type": "markdown",
   "metadata": {},
   "source": [
    "As you can see, the signal is pretty noisy. Run the next cell to apply your low pass filter to the signal."
   ]
  },
  {
   "cell_type": "code",
   "execution_count": null,
   "metadata": {},
   "outputs": [],
   "source": [
    "def apply_low_pass_filter(noisy_signal: np.ndarray, sampling_rate: float, omega_c: float):\n",
    "    \"\"\"\n",
    "    Apply the low pass filter to the noisy signal.\n",
    "\n",
    "    Parameters:\n",
    "    noisy_signal (np.ndarray): The noisy signal.\n",
    "    sampling_rate (float): The sampling rate of the signal.\n",
    "    omega_c (float): Cutoff frequency for the low-pass filter.\n",
    "\n",
    "    Returns:\n",
    "    np.ndarray: The filtered signal.\n",
    "    \"\"\"\n",
    "    # Time array\n",
    "    t = np.arange(0, len(noisy_signal) / sampling_rate, 1 / sampling_rate)\n",
    "\n",
    "    # Define the low pass filter\n",
    "    system = intro.sol_get_filter_tf(omega_c, False)\n",
    "\n",
    "    # Discretize the system\n",
    "    system_discrete = ct.sample_system(system, 1/sampling_rate, method='zoh')\n",
    "\n",
    "    # Apply the filter\n",
    "    _, filtered_signal = ct.forced_response(system_discrete, T=t, U=noisy_signal)\n",
    "\n",
    "    return t, filtered_signal\n",
    "\n",
    "def plot_signals(time: np.ndarray, original_signal: np.ndarray, filtered_signal: np.ndarray):\n",
    "    \"\"\"\n",
    "    Plot the original and filtered signals.\n",
    "\n",
    "    Parameters:\n",
    "    time (np.ndarray): Array of time points.\n",
    "    original_signal (np.ndarray): The original noisy signal.\n",
    "    filtered_signal (np.ndarray): The filtered signal.\n",
    "    \"\"\"\n",
    "    plt.figure(figsize=(12, 6))\n",
    "    plt.plot(time, original_signal, label='Noisy Signal', color='blue')\n",
    "    plt.plot(time, filtered_signal, label='Filtered Signal', color='red')\n",
    "    plt.xlabel('Time (seconds)')\n",
    "    plt.ylabel('Signal')\n",
    "    plt.title('Original and Filtered Signals')\n",
    "    plt.legend()\n",
    "    plt.grid(True)\n",
    "    plt.show()\n",
    "\n",
    "\n",
    "time, noisy_signal = generate_noisy_speed_signal(sampling_rate, noise_level)\n",
    "time, filtered_signal = apply_low_pass_filter(noisy_signal, sampling_rate, omega_c)\n",
    "plot_signals(time, noisy_signal, filtered_signal)"
   ]
  },
  {
   "cell_type": "markdown",
   "metadata": {},
   "source": [
    "As you can see, this filter really helps you get a cleaner signal, but it generally introduces significant phase delay. Keep this in mind when designing filters in real-life situations.\n",
    "To get a feel for this, play with the values for `omega_c`, `sampling_rate` and `noise_level` and take a look at the effect on the noisy and filtered signals.\n",
    "\n",
    "### Congrats!\n",
    "\n",
    "You have successfully solved the full notebook. Have fun with the course! :)"
   ]
  }
 ],
 "metadata": {
  "kernelspec": {
   "display_name": "Python 3",
   "language": "python",
   "name": "python3"
  },
  "language_info": {
   "codemirror_mode": {
    "name": "ipython",
    "version": 3
   },
   "file_extension": ".py",
   "mimetype": "text/x-python",
   "name": "python",
   "nbconvert_exporter": "python",
   "pygments_lexer": "ipython3",
   "version": "3.10.11"
  }
 },
 "nbformat": 4,
 "nbformat_minor": 2
}
