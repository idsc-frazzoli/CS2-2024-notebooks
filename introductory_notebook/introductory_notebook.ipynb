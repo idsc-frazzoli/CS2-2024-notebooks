{
 "cells": [
  {
   "cell_type": "markdown",
   "metadata": {},
   "source": [
    "# Python Controls Library Exercises\n",
    "\n",
    "## Introduction\n",
    "\n",
    "Welcome to the CSII Jupyter Notebooks! This first notebook is designed to help you become familiar with the `control` library in Python, a powerful tool for analyzing and designing control systems. The exercises are structured to cover various aspects of the library, from basic transfer function creation to the analysis of time and frequency responses. By the end of this session, you'll have worked with control systems and even designed a low pass filter.\n",
    "\n",
    "**Note**: Before you begin, make sure to install the `control` and `matplotlib` libraries by running the following commands:\n"
   ]
  },
  {
   "cell_type": "code",
   "execution_count": null,
   "metadata": {},
   "outputs": [],
   "source": [
    "!pip install control\n",
    "!pip install matplotlib"
   ]
  },
  {
   "cell_type": "markdown",
   "metadata": {},
   "source": [
    "Then, import them:"
   ]
  },
  {
   "cell_type": "code",
   "execution_count": null,
   "metadata": {},
   "outputs": [],
   "source": [
    "import control as ct\n",
    "import matplotlib.pyplot as plt"
   ]
  },
  {
   "cell_type": "markdown",
   "metadata": {},
   "source": [
    "## Exercise 1 - Transfer function creation\n",
    "In this exercise, you'll start by creating a transfer function for a simple system using the Python Controls Library.\n",
    "\n",
    "The transfer function is the following:\n",
    "$$\n",
    "    G(s) = \\frac{s}{s^2+2s+1}\n",
    "$$\n",
    "\n",
    "Create the corresponding `ct.TransferFunction` object in the following code cell. Feel free to refer to the documentation if needed."
   ]
  },
  {
   "cell_type": "code",
   "execution_count": null,
   "metadata": {},
   "outputs": [],
   "source": [
    "def create_transfer_function():\n",
    "    \"\"\"\n",
    "    Creates a transfer function for the given system.\n",
    "\n",
    "    Returns:\n",
    "    - tf: ct.TransferFunction, the transfer function G(s)\n",
    "    \"\"\"\n",
    "\n",
    "    #TODO replace the following line with your implementation.\n",
    "    tf = None\n",
    "\n",
    "    return tf"
   ]
  },
  {
   "cell_type": "markdown",
   "metadata": {},
   "source": [
    "In the next cell, the solution is implemented. Please note that, while you are allowed to look at it, solving the exercise yourself comes with a much greater benefit.\n",
    "\n",
    "Once you are done with the implementation, make sure to run the solution as well."
   ]
  },
  {
   "cell_type": "code",
   "execution_count": null,
   "metadata": {},
   "outputs": [],
   "source": [
    "def create_transfer_function_solution():\n",
    "    # Define system parameters\n",
    "    numerator_coeffs = [1]\n",
    "    denominator_coeffs = [1, 2, 1]\n",
    "\n",
    "    # Create a transfer function\n",
    "    tf = ct.TransferFunction(numerator_coeffs, denominator_coeffs)\n",
    "    return tf"
   ]
  },
  {
   "cell_type": "markdown",
   "metadata": {},
   "source": [
    "Run the following cell to test your implementation:"
   ]
  },
  {
   "cell_type": "code",
   "execution_count": null,
   "metadata": {},
   "outputs": [],
   "source": [
    "print(f\"Your transfer function: {create_transfer_function()}\")\n",
    "print(f\"Solution: {create_transfer_function_solution()}\")"
   ]
  },
  {
   "cell_type": "markdown",
   "metadata": {},
   "source": [
    "## Exercise 2 - Time Response Analysis\n",
    "\n",
    "Next up, let's practice the creation of plots.\n",
    "Use the functions `ct.step_response()` and `plt.plot()` to plot the step response of the system.\n",
    "Hint: You may also use your implementation of Exercise 1."
   ]
  },
  {
   "cell_type": "code",
   "execution_count": null,
   "metadata": {},
   "outputs": [],
   "source": [
    "def plot_step_response():\n",
    "    #TODO replace the next line with your implementation\n",
    "    pass"
   ]
  },
  {
   "cell_type": "code",
   "execution_count": null,
   "metadata": {},
   "outputs": [],
   "source": [
    "def plot_step_response_solution():\n",
    "    time, response = ct.step_response(create_transfer_function_solution())\n",
    "    plt.plot(time, response)\n",
    "    plt.title('Step Response of the System')\n",
    "    plt.xlabel('Time')\n",
    "    plt.ylabel('Amplitude')\n",
    "    plt.show()"
   ]
  },
  {
   "cell_type": "markdown",
   "metadata": {},
   "source": [
    "Execute the following cell to test your implementation:"
   ]
  },
  {
   "cell_type": "code",
   "execution_count": null,
   "metadata": {},
   "outputs": [],
   "source": [
    "print(\"Your graph:\")\n",
    "plot_step_response()\n",
    "print(\"Solution:\")\n",
    "plot_step_response_solution()"
   ]
  },
  {
   "cell_type": "markdown",
   "metadata": {},
   "source": [
    "## Exercise 3 - Bode plot\n",
    "Let's now create the Bode plot for this system. In the next cell, use the `control` library to create the Bode plot (no other modules are needed). In order to find the right function and its usage, make sure to check out the library documentation.\n",
    "Hint: You may also use your implementation of Exercise 1."
   ]
  },
  {
   "cell_type": "code",
   "execution_count": null,
   "metadata": {},
   "outputs": [],
   "source": [
    "def bode_plot():\n",
    "    plt.figure()\n",
    "    #TODO replace the next line with your implementation\n",
    "    pass"
   ]
  },
  {
   "cell_type": "code",
   "execution_count": null,
   "metadata": {},
   "outputs": [],
   "source": [
    "def bode_plot_solution():\n",
    "    mag, phase, omega = ct.bode_plot(create_transfer_function_solution())"
   ]
  },
  {
   "cell_type": "markdown",
   "metadata": {},
   "source": [
    "You can run your implementation using the following cell:"
   ]
  },
  {
   "cell_type": "code",
   "execution_count": null,
   "metadata": {},
   "outputs": [],
   "source": [
    "print(\"Your Bode plot:\")\n",
    "bode_plot()\n"
   ]
  },
  {
   "cell_type": "markdown",
   "metadata": {},
   "source": [
    "Should you need the solution, run the following cell:"
   ]
  },
  {
   "cell_type": "code",
   "execution_count": null,
   "metadata": {},
   "outputs": [],
   "source": [
    "print(\"Solution:\")\n",
    "bode_plot_solution()"
   ]
  }
 ],
 "metadata": {
  "kernelspec": {
   "display_name": "Python 3",
   "language": "python",
   "name": "python3"
  },
  "language_info": {
   "codemirror_mode": {
    "name": "ipython",
    "version": 3
   },
   "file_extension": ".py",
   "mimetype": "text/x-python",
   "name": "python",
   "nbconvert_exporter": "python",
   "pygments_lexer": "ipython3",
   "version": "3.8.2"
  }
 },
 "nbformat": 4,
 "nbformat_minor": 2
}
