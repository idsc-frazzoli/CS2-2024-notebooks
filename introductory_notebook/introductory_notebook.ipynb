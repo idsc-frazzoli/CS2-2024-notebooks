{
 "cells": [
  {
   "cell_type": "markdown",
   "metadata": {},
   "source": [
    "# Python Controls Library Exercises\n",
    "\n",
    "## Introduction\n",
    "\n",
    "Welcome to the CSII Jupyter Notebooks! This first notebook is designed to help you become familiar with the `control` library in Python, a powerful tool for analyzing and designing control systems. The exercises are structured to cover various aspects of the library, from basic transfer function creation to the analysis of time and frequency responses. By the end of this session, you'll have worked with control systems and even designed a low pass filter.\n",
    "\n",
    "**Note**: Before you begin, make sure to install the `control` and `matplotlib` libraries by running the following commands:\n"
   ]
  },
  {
   "cell_type": "code",
   "execution_count": 1,
   "metadata": {},
   "outputs": [
    {
     "name": "stdout",
     "output_type": "stream",
     "text": [
      "Requirement already satisfied: control in c:\\users\\robus\\appdata\\local\\programs\\python\\python38\\lib\\site-packages (0.9.4)\n",
      "Requirement already satisfied: scipy>=1.3 in c:\\users\\robus\\appdata\\local\\programs\\python\\python38\\lib\\site-packages (from control) (1.9.3)\n",
      "Requirement already satisfied: numpy in c:\\users\\robus\\appdata\\local\\programs\\python\\python38\\lib\\site-packages (from control) (1.21.6)\n",
      "Requirement already satisfied: matplotlib in c:\\users\\robus\\appdata\\local\\programs\\python\\python38\\lib\\site-packages (from control) (3.6.1)\n",
      "Requirement already satisfied: fonttools>=4.22.0 in c:\\users\\robus\\appdata\\local\\programs\\python\\python38\\lib\\site-packages (from matplotlib->control) (4.37.4)\n",
      "Requirement already satisfied: contourpy>=1.0.1 in c:\\users\\robus\\appdata\\local\\programs\\python\\python38\\lib\\site-packages (from matplotlib->control) (1.0.5)\n",
      "Requirement already satisfied: packaging>=20.0 in c:\\users\\robus\\appdata\\local\\programs\\python\\python38\\lib\\site-packages (from matplotlib->control) (21.3)\n",
      "Requirement already satisfied: python-dateutil>=2.7 in c:\\users\\robus\\appdata\\local\\programs\\python\\python38\\lib\\site-packages (from matplotlib->control) (2.8.2)\n",
      "Requirement already satisfied: cycler>=0.10 in c:\\users\\robus\\appdata\\local\\programs\\python\\python38\\lib\\site-packages (from matplotlib->control) (0.11.0)\n",
      "Requirement already satisfied: pyparsing>=2.2.1 in c:\\users\\robus\\appdata\\local\\programs\\python\\python38\\lib\\site-packages (from matplotlib->control) (3.0.9)\n",
      "Requirement already satisfied: pillow>=6.2.0 in c:\\users\\robus\\appdata\\local\\programs\\python\\python38\\lib\\site-packages (from matplotlib->control) (9.0.1)\n",
      "Requirement already satisfied: kiwisolver>=1.0.1 in c:\\users\\robus\\appdata\\local\\programs\\python\\python38\\lib\\site-packages (from matplotlib->control) (1.4.4)\n",
      "Requirement already satisfied: six>=1.5 in c:\\users\\robus\\appdata\\local\\programs\\python\\python38\\lib\\site-packages (from python-dateutil>=2.7->matplotlib->control) (1.16.0)\n"
     ]
    },
    {
     "name": "stderr",
     "output_type": "stream",
     "text": [
      "WARNING: You are using pip version 19.2.3, however version 23.3.1 is available.\n",
      "You should consider upgrading via the 'python -m pip install --upgrade pip' command.\n"
     ]
    },
    {
     "name": "stdout",
     "output_type": "stream",
     "text": [
      "Requirement already satisfied: matplotlib in c:\\users\\robus\\appdata\\local\\programs\\python\\python38\\lib\\site-packages (3.6.1)\n",
      "Requirement already satisfied: fonttools>=4.22.0 in c:\\users\\robus\\appdata\\local\\programs\\python\\python38\\lib\\site-packages (from matplotlib) (4.37.4)\n",
      "Requirement already satisfied: numpy>=1.19 in c:\\users\\robus\\appdata\\local\\programs\\python\\python38\\lib\\site-packages (from matplotlib) (1.21.6)\n",
      "Requirement already satisfied: pillow>=6.2.0 in c:\\users\\robus\\appdata\\local\\programs\\python\\python38\\lib\\site-packages (from matplotlib) (9.0.1)\n",
      "Requirement already satisfied: pyparsing>=2.2.1 in c:\\users\\robus\\appdata\\local\\programs\\python\\python38\\lib\\site-packages (from matplotlib) (3.0.9)\n",
      "Requirement already satisfied: python-dateutil>=2.7 in c:\\users\\robus\\appdata\\local\\programs\\python\\python38\\lib\\site-packages (from matplotlib) (2.8.2)\n",
      "Requirement already satisfied: packaging>=20.0 in c:\\users\\robus\\appdata\\local\\programs\\python\\python38\\lib\\site-packages (from matplotlib) (21.3)\n",
      "Requirement already satisfied: cycler>=0.10 in c:\\users\\robus\\appdata\\local\\programs\\python\\python38\\lib\\site-packages (from matplotlib) (0.11.0)\n",
      "Requirement already satisfied: contourpy>=1.0.1 in c:\\users\\robus\\appdata\\local\\programs\\python\\python38\\lib\\site-packages (from matplotlib) (1.0.5)\n",
      "Requirement already satisfied: kiwisolver>=1.0.1 in c:\\users\\robus\\appdata\\local\\programs\\python\\python38\\lib\\site-packages (from matplotlib) (1.4.4)\n",
      "Requirement already satisfied: six>=1.5 in c:\\users\\robus\\appdata\\local\\programs\\python\\python38\\lib\\site-packages (from python-dateutil>=2.7->matplotlib) (1.16.0)\n"
     ]
    },
    {
     "name": "stderr",
     "output_type": "stream",
     "text": [
      "WARNING: You are using pip version 19.2.3, however version 23.3.1 is available.\n",
      "You should consider upgrading via the 'python -m pip install --upgrade pip' command.\n"
     ]
    }
   ],
   "source": [
    "!pip install control\n",
    "!pip install matplotlib"
   ]
  },
  {
   "cell_type": "markdown",
   "metadata": {},
   "source": [
    "Then, import them:"
   ]
  },
  {
   "cell_type": "code",
   "execution_count": 2,
   "metadata": {},
   "outputs": [],
   "source": [
    "import control as ct\n",
    "import matplotlib.pyplot as plt"
   ]
  },
  {
   "cell_type": "markdown",
   "metadata": {},
   "source": [
    "## Exercise 1 - Transfer function creation\n",
    "In this exercise, you'll start by creating a transfer function for a simple system using the Python Controls Library.\n",
    "\n",
    "The transfer function is the following:\n",
    "$$\n",
    "    G(s) = \\frac{s}{s^2+2s+1}\n",
    "$$\n",
    "\n",
    "Create the corresponding `ct.TransferFunction` object in the following code cell. Feel free to refer to the documentation if needed."
   ]
  },
  {
   "cell_type": "code",
   "execution_count": 3,
   "metadata": {},
   "outputs": [],
   "source": [
    "def create_transfer_function() -> ct.TransferFunction:\n",
    "    \"\"\"\n",
    "    Creates a transfer function for the given system.\n",
    "\n",
    "    Returns:\n",
    "    - tf: ct.TransferFunction, the transfer function G(s)\n",
    "    \"\"\"\n",
    "\n",
    "    #TODO replace the following line with your implementation.\n",
    "    tf = None\n",
    "\n",
    "    #TODO DELETE BLOCK\n",
    "    # Define system parameters\n",
    "    numerator_coeffs = [5]\n",
    "    denominator_coeffs = [1, 1]\n",
    "    # Create a transfer function\n",
    "    tf = ct.TransferFunction(numerator_coeffs, denominator_coeffs)\n",
    "\n",
    "\n",
    "    return tf"
   ]
  },
  {
   "cell_type": "markdown",
   "metadata": {},
   "source": [
    "In the next cell, the solution is implemented. Please note that, while you are allowed to look at it, solving the exercise yourself comes with a much greater benefit.\n",
    "\n",
    "Once you are done with the implementation, make sure to run the solution as well."
   ]
  },
  {
   "cell_type": "code",
   "execution_count": 4,
   "metadata": {},
   "outputs": [],
   "source": [
    "def create_transfer_function_solution() -> ct.TransferFunction:\n",
    "    # Define system parameters\n",
    "    numerator_coeffs = [1]\n",
    "    denominator_coeffs = [1, 2, 1]\n",
    "\n",
    "    # Create a transfer function\n",
    "    tf = ct.TransferFunction(numerator_coeffs, denominator_coeffs)\n",
    "    return tf"
   ]
  },
  {
   "cell_type": "markdown",
   "metadata": {},
   "source": [
    "Run the following cell to test your implementation:"
   ]
  },
  {
   "cell_type": "code",
   "execution_count": 5,
   "metadata": {},
   "outputs": [
    {
     "name": "stdout",
     "output_type": "stream",
     "text": [
      "Your transfer function: \n",
      "  5\n",
      "-----\n",
      "s + 1\n",
      "\n",
      "Solution: \n",
      "      1\n",
      "-------------\n",
      "s^2 + 2 s + 1\n",
      "\n"
     ]
    }
   ],
   "source": [
    "print(f\"Your transfer function: {create_transfer_function()}\")\n",
    "print(f\"Solution: {create_transfer_function_solution()}\")"
   ]
  },
  {
   "cell_type": "markdown",
   "metadata": {},
   "source": [
    "## Exercise 2 - Time Response Analysis\n",
    "\n",
    "Next up, let's practice the creation of plots.\n",
    "Use the functions `ct.step_response()` and `plt.plot()` to plot the step response of the system.\n",
    "Hint: You may also use your implementation of Exercise 1."
   ]
  },
  {
   "cell_type": "code",
   "execution_count": 6,
   "metadata": {},
   "outputs": [],
   "source": [
    "def plot_step_response():\n",
    "    #TODO replace the next line with your implementation\n",
    "    pass"
   ]
  },
  {
   "cell_type": "code",
   "execution_count": 7,
   "metadata": {},
   "outputs": [],
   "source": [
    "def plot_step_response_solution():\n",
    "    time, response = ct.step_response(create_transfer_function_solution())\n",
    "    plt.plot(time, response)\n",
    "    plt.title('Step Response of the System')\n",
    "    plt.xlabel('Time')\n",
    "    plt.ylabel('Amplitude')\n",
    "    plt.show()"
   ]
  },
  {
   "cell_type": "markdown",
   "metadata": {},
   "source": [
    "Execute the following cell to test your implementation:"
   ]
  },
  {
   "cell_type": "code",
   "execution_count": 8,
   "metadata": {},
   "outputs": [
    {
     "name": "stdout",
     "output_type": "stream",
     "text": [
      "Your graph:\n",
      "Solution:\n"
     ]
    },
    {
     "data": {
      "image/png": "[encoded data removed]",
      "text/plain": [
       "<Figure size 640x480 with 1 Axes>"
      ]
     },
     "metadata": {},
     "output_type": "display_data"
    }
   ],
   "source": [
    "print(\"Your graph:\")\n",
    "plot_step_response()\n",
    "print(\"Solution:\")\n",
    "plot_step_response_solution()"
   ]
  },
  {
   "cell_type": "markdown",
   "metadata": {},
   "source": [
    "## Exercise 3 - Bode plot\n",
    "Let's now create the Bode plot for this system. In the next cell, use the `control` library to create the Bode plot (no other modules are needed). In order to find the right function and its usage, make sure to check out the library documentation."
   ]
  },
  {
   "cell_type": "code",
   "execution_count": 21,
   "metadata": {},
   "outputs": [],
   "source": [
    "def bode_plot(tf: ct.TransferFunction):\n",
    "    #TODO replace the next line with your implementation\n",
    "    pass"
   ]
  },
  {
   "cell_type": "code",
   "execution_count": 22,
   "metadata": {},
   "outputs": [],
   "source": [
    "def bode_plot_solution(tf: ct.TransferFunction):\n",
    "    mag, phase, omega = ct.bode_plot(tf)"
   ]
  },
  {
   "cell_type": "markdown",
   "metadata": {},
   "source": [
    "You can run your implementation using the following cell:"
   ]
  },
  {
   "cell_type": "code",
   "execution_count": 24,
   "metadata": {},
   "outputs": [
    {
     "name": "stdout",
     "output_type": "stream",
     "text": [
      "Your Bode plot:\n"
     ]
    }
   ],
   "source": [
    "print(\"Your Bode plot:\")\n",
    "bode_plot(create_transfer_function())\n"
   ]
  },
  {
   "cell_type": "markdown",
   "metadata": {},
   "source": [
    "Should you need the solution, run the following cell:"
   ]
  },
  {
   "cell_type": "code",
   "execution_count": 25,
   "metadata": {},
   "outputs": [
    {
     "name": "stdout",
     "output_type": "stream",
     "text": [
      "Solution:\n"
     ]
    },
    {
     "data": {
      "image/png": "[encoded data removed]",
      "text/plain": [
       "<Figure size 640x480 with 2 Axes>"
      ]
     },
     "metadata": {},
     "output_type": "display_data"
    }
   ],
   "source": [
    "print(\"Solution:\")\n",
    "bode_plot_solution(create_transfer_function_solution())"
   ]
  },
  {
   "cell_type": "markdown",
   "metadata": {},
   "source": [
    "## Exercise 4 - Low pass filter design\n",
    "\n",
    "Congratulations for solving the previous exercises! Now that you are getting to know the `controls` library, it's time to put your fresh skills into use by designing a functional system.\n",
    "\n",
    "You are now in charge of implementing a new control system for the Polybahn. In order to do so, you want to measure the speed of the wagon in real-time. In an effort to keep the costs low, you are provided with a cheap sensor that outputs a really noisy signal.\n",
    "\n",
    "Luckily, as a well-known controls engineer, you immediately know how to solve this problem: you can suppress noise using a low-pass filter.\n",
    "\n",
    "### 4.1 - Design\n",
    "\n",
    "You decide to go for a first order system with the following transfer function:\n",
    "$$\n",
    "G(s) = \\frac{1}{1+a \\cdot s}\n",
    "$$\n",
    "Where $a$ is a constant of your choice.\n",
    "\n",
    "As you may remember from CS1, the cutoff frequency $\\omega_c$ of such a filter is the frequency at which the magnitude of the transfer function is $\\frac{1}{\\sqrt{2}}$. Find $a$ for a given $\\omega_c$.\n",
    "\n",
    "Hint: Replace $s$ with $j\\omega_c$.\n",
    "\n",
    "### 4.2 - Implementation\n",
    "\n",
    "To suppress the noise, you choose $\\omega_c$ to be [TODO FIND OMEGAC]. In the following code cell, create a `TransferFunction` object that represents your transfer function. Use your result from 4.1."
   ]
  },
  {
   "cell_type": "code",
   "execution_count": 34,
   "metadata": {},
   "outputs": [],
   "source": [
    "def get_filter_tf() -> ct.TransferFunction:\n",
    "\n",
    "    #Replace the following line with your implementation.\n",
    "    tf = None\n",
    "\n",
    "    return tf"
   ]
  },
  {
   "cell_type": "markdown",
   "metadata": {},
   "source": [
    "The following cell displays your transfer function and the corresponding Bode plot. Feel free to use it to check your implementation."
   ]
  },
  {
   "cell_type": "code",
   "execution_count": 39,
   "metadata": {},
   "outputs": [
    {
     "name": "stdout",
     "output_type": "stream",
     "text": [
      "Your implementation:\n",
      "None\n"
     ]
    }
   ],
   "source": [
    "print(\"Your implementation:\")\n",
    "your_tf = get_filter_tf()\n",
    "\n",
    "print(your_tf)\n",
    "\n",
    "if isinstance(your_tf, ct.TransferFunction):\n",
    "    bode_plot_solution(get_filter_tf())"
   ]
  },
  {
   "cell_type": "markdown",
   "metadata": {},
   "source": [
    "print(omega_c)"
   ]
  }
 ],
 "metadata": {
  "kernelspec": {
   "display_name": "Python 3",
   "language": "python",
   "name": "python3"
  },
  "language_info": {
   "codemirror_mode": {
    "name": "ipython",
    "version": 3
   },
   "file_extension": ".py",
   "mimetype": "text/x-python",
   "name": "python",
   "nbconvert_exporter": "python",
   "pygments_lexer": "ipython3",
   "version": "3.8.2"
  }
 },
 "nbformat": 4,
 "nbformat_minor": 2
}
