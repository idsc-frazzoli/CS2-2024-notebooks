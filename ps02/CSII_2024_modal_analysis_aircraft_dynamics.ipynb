{
 "cells": [
  {
   "cell_type": "markdown",
   "metadata": {},
   "source": [
    "# CSII 2024 Exercise 02: Diagonalization, Modal Analysis, Controllability and Observability\n",
    "&copy; 2024 ETH Zurich, Felix Schnitzler, Niclas Scheuer, Dejan Milojevic; Institute for Dynamic Systems and Control; Prof. Emilio Frazzoli\n",
    "\n",
    "\n",
    "Welcome to the second CSII notebook! In the last notebook we introduced two models: the _aircraft model_ and the _CSII Bot_. In this notebook we will futher invesigate the aircraft model with the following objectives:\n",
    "\n",
    "1) Use diagonalization to compute the modal decomposition of the aircraft model,\n",
    "2) Visualize the different modes of the system,\n",
    "3) Show if the model is controllable and/or observable.\n",
    "\n",
    "To start, run the following cell to install the necessary modules and import the libraries."
   ]
  },
  {
   "cell_type": "code",
   "execution_count": null,
   "metadata": {},
   "outputs": [],
   "source": [
    "%pip install cs2solutions --force-reinstall\n",
    "\n",
    "from cs2solutions import decomp\n",
    "\n",
    "import numpy as np\n",
    "import control as ct\n",
    "import matplotlib.pyplot as plt\n",
    "\n",
    "np.set_printoptions(suppress=True, precision=3)"
   ]
  },
  {
   "cell_type": "markdown",
   "metadata": {},
   "source": [
    "## Exercise 1: Modal Decomposition of the Aircraft Model\n",
    "\n",
    "To perform the modal decomposition of the System we need to find a coordinate transformation $\\tilde{x} = T^{-1} x$, that diagonalizes the A-matrix of the state-space model.\n",
    "\n",
    "$$\n",
    "\\begin{cases}\n",
    "\\dot{x} &= Ax + Bu, \\\\\n",
    "y &= Cx + Du.\n",
    "\\end{cases}\n",
    "\\quad \\Rightarrow \\quad\n",
    "\\begin{cases}\n",
    "T\\dot{x} &= AT\\tilde{x} + Bu, \\\\\n",
    "y &= CT\\tilde{x} + Du.\n",
    "\\end{cases}\n",
    "$$\n",
    "\n",
    "If we multiply the equations by $T^{-1}$ we find a definition for the state-space model in modal coordinates:\n",
    "\n",
    "$$\n",
    "\\begin{align}\n",
    "\\dot{\\tilde{x}} &= (T^{-1}AT)\\tilde{x} + (T^{-1}B)u,\\\\\n",
    "y &= (CT)\\tilde{x} + Du.\n",
    "\\end{align}\n",
    "$$\n",
    "\n",
    "And we can define the new matrices as follows: \n",
    "$\\quad \\tilde{A} = T^{-1}AT, \\quad \\tilde{B} = T^{-1}B, \\quad\\tilde{C} = CT, \\quad \\tilde{D} = D$.\n",
    "\n",
    "Remember that this coordinate transform does not change the structural properties of the system and the time response is exactly the same!"
   ]
  },
  {
   "cell_type": "markdown",
   "metadata": {},
   "source": [
    "### 1.1 Define Aircraft Model\n",
    "For this exercise we use the aircraft model introduced in the __Introductory Notebook 2__. Feel free to look at this notebook again if you need to. Run the next cell to define the longitudinal dynamics of the aircraft."
   ]
  },
  {
   "cell_type": "code",
   "execution_count": null,
   "metadata": {},
   "outputs": [],
   "source": [
    "# Given matrices A and B\n",
    "A = np.array([\n",
    "    [-15.5801,  4.7122, -38.7221,  0.0000],\n",
    "    [ -0.5257, -0.0166,   2.3501, -9.7847],\n",
    "    [  4.4044, -1.5325, -18.1615, -0.7044],\n",
    "    [  0.9974,  0.0000,   0.0000,  0.0000]\n",
    "])\n",
    "\n",
    "B = np.array([\n",
    "    [-421.2001],\n",
    "    [   1.3231],\n",
    "    [ -17.3812],\n",
    "    [   0.0000]\n",
    "])\n",
    "\n",
    "# Define the output matrix C and the feedthrough matrix D\n",
    "C = np.array([0, 0, 0, 1])\n",
    "D = 0\n",
    "\n",
    "# Create a state-space system using the matrices A, B, C, and D\n",
    "sys = ct.ss(A, B, C, D)"
   ]
  },
  {
   "cell_type": "markdown",
   "metadata": {},
   "source": [
    "### 1.2 Diagonalization of the A-Matrix\n",
    "\n",
    "To diagonalize the A-matrix we can perform the following transformations: $\\tilde{x} = Vx, \\quad \\tilde{A} =\\Lambda = V^{-1}AV$, where $V$ is the matrix containing the eigenvectors of $A$ as columns and $\\Lambda = diag(\\lambda_1, ..., \\lambda_n)$ with the eigenvalues $\\lambda_i$ of A.\n",
    "\n",
    "Try to implement the function below that calculates the eigenvalues and the eigenvectors of a matrix.<br>\n",
    "\\\n",
    "__Hints:__\n",
    "1) Use `np.linalg.eig()` to compute the eigenvalues and eigenvectors.\n",
    "2) Use `np.linalg.inv()` to compute the inverse of a matrix.\n",
    "3) Matrix multiplication in python is done with `A @ B`.\n",
    "\n",
    "Use the documentation for the [`numpy.linalg`](https://numpy.org/doc/stable/reference/routines.linalg.html) sub-module to learn about these functions."
   ]
  },
  {
   "cell_type": "code",
   "execution_count": null,
   "metadata": {},
   "outputs": [],
   "source": [
    "def diagonalize_system(A: np.array, B: np.array, C: np.array, D: np.array) -> tuple[np.array]:\n",
    "    \"\"\"\n",
    "    Diagonalizes a linear time-invariant system represented by its state-space matrices.\n",
    "\n",
    "    Parameters:\n",
    "    A (np.array): State matrix of the system.\n",
    "    B (np.array): Input matrix of the system.\n",
    "    C (np.array): Output matrix of the system.\n",
    "    D (np.array): Feedthrough matrix of the system.\n",
    "\n",
    "    Returns:\n",
    "    A_tilde (np.array): Diagonalized state matrix.\n",
    "    B_tilde (np.array): Diagonalized input matrix.\n",
    "    C_tilde (np.array): Diagonalized output matrix.\n",
    "    D_tilde (np.array): Diagonalized feedthrough matrix.\n",
    "    \"\"\"\n",
    "    \n",
    "    # TODO: replace the next line with your implementation\n",
    "    eigenvalues, eigenvectors =\n",
    "    \n",
    "    # Compute the transformed state-space representation\n",
    "    # TODO: replace the next line with your implementation\n",
    "    A_tilde =\n",
    "    B_tilde =\n",
    "    C_tilde =\n",
    "    D_tilde =\n",
    "    \n",
    "    return A_tilde, B_tilde, C_tilde, D_tilde"
   ]
  },
  {
   "cell_type": "markdown",
   "metadata": {},
   "source": [
    "The code below serves to test your code. Feel free to run the unit test.\n",
    "\n",
    "The solution can be found by inspecting ``decomp.sol_diagonalize_system`` or on [GitHub](https://github.com/idsc-frazzoli/cs2solutions/blob/fb30ba4d3fa1d034b5c368a37305df41a5cf4e01/src/cs2solutions/decomp.py#L29-L70)\n"
   ]
  },
  {
   "cell_type": "code",
   "execution_count": null,
   "metadata": {},
   "outputs": [],
   "source": [
    "decomp.test_diagonalize_system(diagonalize_system, decomp.sol_diagonalize_system, A, B, C, D, False)"
   ]
  },
  {
   "cell_type": "markdown",
   "metadata": {},
   "source": [
    "## Exercise 2: Modal Analysis\n",
    "\n",
    "In this exercise, we aim to analyze and visualize the modes of the aircraft model. This involves examining the relationship between each eigenvalue of the system and its corresponding eigenvector, which satisfies the equation $Av_i = \\lambda_i v_i$. Each eigenvector represents the configuration of a mode within the system.\n",
    "\n",
    "Looking again at the eigenvalues of matrix $A$, we find four eigenvalues: $\\lambda_{sp} = -16.8739 \\pm 13.1129j$ and $\\lambda_{ph} = -0.0052 \\pm 1.7644j$. It's important to note that these represent two complex-conjugate pairs of eigenvalues (and thus, eigenvectors), indicating just two distinct modes in the system. In aviation, these are referred to as the **Short Period** mode and the **Phugoid** mode.\n",
    "\n",
    "The eigenvalue tells us how the amplitude of the mode changes over time, according to $\\tilde{x}_i(t) = e^{\\lambda_it}\\tilde{x}_i(0)$. From this, we understand that the Short Period mode fades away quickly, while the Phugoid mode lasts longer and is more visible in the system's behavior. Since both eigenvalues are complex we expect oscillations to occur."
   ]
  },
  {
   "cell_type": "markdown",
   "metadata": {},
   "source": [
    "### 2.1 Short Period Mode\n",
    "The Short Period mode is a key oscillatory behavior of an aircraft, mainly affecting its pitch motion. This mode has a high frequency and low damping, typically seen in response to changes in pitch control inputs and angle of attack. It is one of the two main longitudinal motion modes, the other being the Phugoid mode, which is characterized by lower frequency and higher damping. The Short Period mode is crucial for assessing the aircraft's agility.\n",
    "\n",
    "In the Short Period mode, the aircraft experiences fast oscillations in pitch, or rotation around the lateral axis. This behavior is controlled by both inertia and aerodynamic forces, making it essential for evaluating the aircraft's stability and responsiveness to control inputs.\n",
    "\n",
    "<!-- ![short_period.png](images/short_period.png) -->\n",
    "<img src=\"data:image/png;base64,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\">"
   ]
  },
  {
   "cell_type": "markdown",
   "metadata": {},
   "source": [
    "#### Analyzing the Short Period Mode\n",
    "To investigate the Short Period mode, we look at the eigenvalues and eigenvectors of the system matrix $A$. The eigenvalues give us insight into the stability and dynamics of the mode, while the eigenvectors show us the mode's shape in state space."
   ]
  },
  {
   "cell_type": "code",
   "execution_count": null,
   "metadata": {},
   "outputs": [],
   "source": [
    "eigenvalues, eigenvectors = np.linalg.eig(A)\n",
    "print(eigenvectors)"
   ]
  },
  {
   "cell_type": "markdown",
   "metadata": {},
   "source": [
    "We start by setting the initial condition $x_0$ for our simulation to align with the real part of the eigenvector linked to the eigenvalue of the Short Period mode. Given the linear nature of our system, utilizing this initial condition allows us to precisely capture and analyze the dynamics inherent to the Short Period mode.\n",
    "\n",
    "Considering that the first two eigenvectors of matrix $A$ are associated with the Short Period mode, we have the freedom to select either one of them for our analysis. We focus solely on the real part of the eigenvector because our initial condition must be physically plausible, excluding the possibility of employing a complex number for this purpose. It is also noteworthy that since these two eigenvectors are complex conjugates of each other, their real parts merge into an identical vector, simplifying our selection process.\n",
    "\n",
    "The real part of these eigenvectors is calculated as follows:\n",
    "\n",
    "$$ Re(v_{1, 2}) = Re \\left( \\begin{bmatrix} -0.946 \\\\ 0.011 \\mp 0.02j \\\\ -0.03 \\pm 0.318j \\\\ 0.035 \\pm 0.027 \\end{bmatrix} \\right) = \\begin{bmatrix} -0.946 \\\\ 0.011 \\\\ -0.03 \\\\ 0.035 \\end{bmatrix}. $$\n",
    "\n",
    "This representation allows us to understand the physical configuration of the aircraft as it responds to the dynamics of the Short Period mode, based on the specified initial condition.\n"
   ]
  },
  {
   "cell_type": "code",
   "execution_count": null,
   "metadata": {},
   "outputs": [],
   "source": [
    "# Set the eigenvector for the short period mode as the initial condition\n",
    "# Note: since the eigenvector is complex, we only take the real part\n",
    "\n",
    "x0_sp = np.real(eigenvectors[:, 0])\n",
    "print(x0_sp)"
   ]
  },
  {
   "cell_type": "markdown",
   "metadata": {},
   "source": [
    "Using the `ct.initial_response()` function from the `control` library, we simulate the aircraft's response over a short time span, as this mode is characterized by fast dynamics."
   ]
  },
  {
   "cell_type": "code",
   "execution_count": null,
   "metadata": {},
   "outputs": [],
   "source": [
    "# Compute the initial response of the system.\n",
    "# The mode is fast and the oscillations are damped, so we simulate up to T=0.5s to see the response.\n",
    "\n",
    "\"\"\"\n",
    "General comment: maybe it's nice for the students to get a reference (hyperlink) to the documentation of the libraries, as\n",
    "this is an important part of these notebooks (to get used to work with premade functions). If we make it as easy as possible\n",
    "it is more probable that it will be done.\n",
    "\"\"\"\n",
    "\n",
    "response_sp = ct.initial_response(sys, T=0.5, X0=x0_sp)\n",
    "states_sp = response_sp.states # extract the state variables\n",
    "time_sp = response_sp.time # extract the time vector"
   ]
  },
  {
   "cell_type": "markdown",
   "metadata": {},
   "source": [
    "Lasty, we plot the state variable and see how they evolve over time for the short period mode."
   ]
  },
  {
   "cell_type": "code",
   "execution_count": null,
   "metadata": {},
   "outputs": [],
   "source": [
    "plt.figure(figsize=(8, 4))  # Set figure size\n",
    "\n",
    "# Plot the state variables\n",
    "plt.plot(time_sp, states_sp[2], 'g-', label='Angle of attack ($w$)', linewidth=2)\n",
    "plt.plot(time_sp, states_sp[3], 'r-', label='Pitch angle ($\\\\theta$)', linewidth=2)\n",
    "\n",
    "# Enhancements for readability\n",
    "plt.xlabel('Time [s]')  # Label for the x-axis\n",
    "plt.ylabel('Magnitude')  # Label for the y-axis\n",
    "plt.title('State Variables over Time')  # Title of the plot\n",
    "plt.legend(fontsize=12)  # Legend with a slightly larger font\n",
    "plt.grid(True)  # Add grid lines for better readability\n",
    "\n",
    "plt.tight_layout()  # Adjust the plot to fit the figure\n",
    "plt.show()\n"
   ]
  },
  {
   "cell_type": "markdown",
   "metadata": {},
   "source": [
    "### 2.2 Phugoid Mode\n",
    "\n",
    "The Phugoid mode is a fundamental longitudinal mode of an aircraft that typically presents as a long-period oscillation. It is characterized by coupled variations in altitude and speed but with little change in the aircraft's pitch angle. This mode involves the exchange of kinetic and potential energy — similar to a roller coaster going up and down gentle hills.\n",
    "\n",
    "<!--![phugoid.png](images/phugoid.png)-->\n",
    "<img src=\"data:image/png;base64,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\">\n",
    "\n",
    "**Understanding the Phugoid Mode Dynamics** <br>\n",
    "The Phugoid mode dynamics can be observed in the state variables:\n",
    "- **Forward Speed $u$:** <br>\n",
    "    Represents the aircraft's speed in the direction of the longitudinal axis. In the Phugoid mode, this will oscillate as the aircraft gains and loses speed during the ascent and descent phases.\n",
    "\n",
    "- **Pitch Angle $\\theta$:** <br>\n",
    "    Changes in pitch angle are usually small and gradual in the Phugoid mode. This state variable helps us understand how the aircraft's orientation varies over time, with a slow exchange between kinetic and potential energy.\n",
    "\n",
    "**Initial Conditions for Phugoid Mode** <br>\n",
    "The initial conditions for the Phugoid mode are set based on the eigenvector corresponding to the Phugoid eigenvalues. These initial conditions reflect a disturbance that excites the Phugoid mode without significantly affecting other modes."
   ]
  },
  {
   "cell_type": "code",
   "execution_count": null,
   "metadata": {},
   "outputs": [],
   "source": [
    "# Here we choose the real part of the third eigenvector as the initial condition\n",
    "x0_ph = np.real(eigenvectors[:, 2])\n",
    "print(x0_ph)"
   ]
  },
  {
   "cell_type": "markdown",
   "metadata": {},
   "source": [
    "The step response of the system with initial condition $x_{0,\\text{phugoid}}$ simulates how the aircraft will behave over time when the Phugoid mode is excited. The plot shows the oscillatory nature of $u$ and $\\theta$, with $u$ depicting the energy exchange in the system and $\\theta$ showing slight variations corresponding to the changes in altitude and velocity.\n",
    "\n",
    "These two states oscilate with a phase shift of nearly $\\pi/2$ or equivalently $90^{\\circ}$ to one another as seen in the lecture. This coresponds to a sine-cosine behavior.\n",
    "- **Maximum Slope of $\\theta$:** (dashed line) <br>\n",
    "    $\\theta$ has maximum slope and $u$ nearly at a point with slope zero.\n",
    "- **Zero Slope of $\\theta$:** (dotted line) <br>\n",
    "    Here $\\theta$ has a slope of zero and we see that $u$ is nearly at it's point with maximum slope."
   ]
  },
  {
   "cell_type": "code",
   "execution_count": null,
   "metadata": {},
   "outputs": [],
   "source": [
    "# Compute the step response with initial conditions x0\n",
    "response_ph = ct.step_response(sys, T=10, X0=x0_ph)\n",
    "\n",
    "# Define the figure size and plot the state variables\n",
    "plt.figure(figsize=(8, 4))\n",
    "plt.plot(response_ph.time, response_ph.states[1], 'b-', label='$u$ [m/s]', linewidth=2)\n",
    "plt.plot(response_ph.time, response_ph.states[3], 'r-', label='$\\\\theta$ [rad]', linewidth=2)\n",
    "\n",
    "# Define the times where vertical lines will be placed and their labels\n",
    "time_markers = [(2, 'max slope of $\\\\theta$', '--'), (2.77, 'slope of $\\\\theta = 0$', '-.')]\n",
    "\n",
    "# Add vertical lines and points at their intersection with state curves\n",
    "for tm, label, ls in time_markers:\n",
    "    plt.axvline(x=tm, color='black', linestyle=ls, linewidth=1, label=label)\n",
    "    idx = (np.abs(response_ph.time - tm)).argmin()  # Find the index of the time vector closest to the vertical line\n",
    "    plt.plot(response_ph.time[idx], response_ph.states[1][idx], 'ko')  # Intersection with u\n",
    "    plt.plot(response_ph.time[idx], response_ph.states[3][idx], 'ko')  # Intersection with theta\n",
    "\n",
    "# Add grid, labels, title, and legend\n",
    "plt.grid(True)\n",
    "plt.xlabel('Time [s]')\n",
    "plt.ylabel('Magnitude')\n",
    "plt.title('Oscillatory Response of $u$ and $\\\\theta$ with phase shift of approx. $\\\\pi/2$')\n",
    "plt.legend(loc='right')\n",
    "\n",
    "plt.tight_layout()\n",
    "plt.show()"
   ]
  },
  {
   "cell_type": "markdown",
   "metadata": {},
   "source": [
    "To see that the oscilations of these two states are actually damped we need to simulate the response for a larger time interval. Here we choose an interval of $T=1000s$. We can observe that the states are stable and eventually converge to zero. This shows the difference of the speed of the short period and phugoid. The phugoid is much slower, i.e. it needs much more time to converge compared to the short period."
   ]
  },
  {
   "cell_type": "code",
   "execution_count": null,
   "metadata": {},
   "outputs": [],
   "source": [
    "# Calculate eigenvalues, eigenvectors, and set initial condition\n",
    "x0 = np.real(eigenvectors[:, 2])\n",
    "\n",
    "# Compute the step response for the system between 0 and 700 seconds with initial condition (x0_ph)\n",
    "time = np.linspace(0, 700, 10000)\n",
    "step_response = ct.step_response(sys, time, x0_ph)\n",
    "\n",
    "# Create a figure and two subplots\n",
    "fig, axs = plt.subplots(1, 2, figsize=(20, 6))\n",
    "\n",
    "# First plot - Full step response\n",
    "axs[0].plot(step_response.time, step_response.states[1], 'b-', label='$u$ [m/s]', linewidth=2)\n",
    "axs[0].plot(step_response.time, step_response.states[3], 'r-', label='$\\\\theta$ [rad]', linewidth=2)\n",
    "axs[0].set_title('Phugoid Mode State Variables Over Time')\n",
    "axs[0].set_xlabel('Time [s]')\n",
    "axs[0].set_ylabel('Magnitude')\n",
    "axs[0].grid(True)\n",
    "axs[0].legend()\n",
    "\n",
    "# Second plot - Zoomed-in response from T=600s to T=700s\n",
    "axs[1].plot(step_response.time, step_response.states[1], 'b-', label='$u$ [m/s]', linewidth=2)\n",
    "axs[1].plot(step_response.time, step_response.states[3], 'r-', label='$\\\\theta$ [rad]', linewidth=2)\n",
    "axs[1].axhline(y=48.35, color='k', linestyle=':', label='$48.35 m/s$')  # Add horizontal line\n",
    "axs[1].set_xlim(600, 700)  # Set x-axis limits to zoom in\n",
    "axs[1].set_title('Zoomed In Phugoid Mode Response (T=600s to T=700s)')\n",
    "axs[1].set_xlabel('Time [s]')\n",
    "axs[1].set_ylabel('Magnitude')\n",
    "axs[1].grid(True)\n",
    "axs[1].legend()\n",
    "\n",
    "plt.tight_layout()\n",
    "plt.show()\n"
   ]
  },
  {
   "cell_type": "markdown",
   "metadata": {},
   "source": [
    "## Exercise 3: Controllability and Observability\n",
    "\n",
    "In the last part of this notebook we want to show if the aircraft model is controllable (reachable) and/or observable. This is especially important for designing a controller. To understand how we can change the behavior of the states through our inputs, we need to assess the controllability and observability of our system.\n",
    "\n",
    "Recall that in the lecture 2 the __reachability matrix__ $\\mathcal{R}$ and the __observability matrix__ $\\mathcal{O}$ were introduced:\n",
    "\n",
    "$$\n",
    "\\mathcal{R} =\n",
    "\\begin{bmatrix} B & AB & A^2B & ... & A^{n-1}B \\end{bmatrix},\n",
    "\\qquad\n",
    "\\mathcal{O} = \\begin{bmatrix} C \\\\ CA \\\\ \\vdots \\\\ CA^{n-1} \\end{bmatrix}.\n",
    "$$\n",
    "\n",
    "The system is fully controllable or observable if $rank(\\mathcal{R}) = n$ or $rank(\\mathcal{O}) = n$ respectively.\n",
    "\n",
    "\n",
    "Try to implement the functions below that check the controllability / observability of the system.\n",
    "\n",
    "\\\n",
    "Hints:\n",
    "- use `A.shape[0]` to get the number of states $n$.\n",
    "- use `np.linalg.matrix_power(M, i)` to calculate the matrix power $M^i$.\n",
    "- use `M = np.hstack(M, v)` to append a columnvector $v$ to the matrix $M$.\n",
    "- use `M = np.vstack(M, v)` to append a rowvector $v$ to the matrix $M$.\n",
    "\n",
    "As always, feel free to take a look at the documentation of the numpy library."
   ]
  },
  {
   "cell_type": "code",
   "execution_count": null,
   "metadata": {},
   "outputs": [],
   "source": [
    "def controllable(A: np.array, B: np.array) -> bool:\n",
    "    \"\"\"\n",
    "    Check the controllability of a system given the state-space representation.\n",
    "\n",
    "    Parameters:\n",
    "    - ``A`` (np.array): The state matrix.\n",
    "    - ``B`` (np.array): The input matrix.\n",
    "\n",
    "    Returns:\n",
    "    - () -> bool: A boolean indicating whether the system is controllable.\n",
    "    \"\"\"\n",
    "    \n",
    "    # TODO: Get the number of columns in matrix A.\n",
    "    n =\n",
    "    \n",
    "    \"\"\"\n",
    "    Maybe leave out the hints for the B matrix?\n",
    "    \"\"\"\n",
    "    # TODO: Initialize the reachability matrix R with matrix B\", since the first column of R is always B.\"\n",
    "    R =\n",
    "    \n",
    "    # Use a for loop to compute each column of the reachability matrix and append it to R.\n",
    "    for i in range(1, n):  # Iterate from 1 to n-1.\n",
    "        # TODO: Compute the i-th column of the reachability matrix and concatenate it horizontally to R.\n",
    "        R =\n",
    "        \n",
    "    # TODO: Compute the rank of the reachability matrix.\n",
    "    rank =\n",
    "    \n",
    "    if rank == A.shape[0]:\n",
    "        print(f\"The system is controllable with rank {rank}.\")\n",
    "    else:\n",
    "        print(f\"The system is not controllable with rank {rank}.\")\n",
    "    return False"
   ]
  },
  {
   "cell_type": "code",
   "execution_count": null,
   "metadata": {},
   "outputs": [],
   "source": [
    "def observable(A: np.array, C: np.array) -> bool:\n",
    "    \"\"\"\n",
    "    Check the observability of a system given the state-space representation.\n",
    "\n",
    "    Parameters:\n",
    "    - ``A`` (np.array): The state matrix.\n",
    "    - ``C`` (np.array): The output matrix.\n",
    "\n",
    "    Returns:\n",
    "    - () -> bool: A boolean indicating whether the system is observable.\n",
    "    \"\"\"\n",
    "    \n",
    "    # TODO: Get the number of rows in matrix A.\n",
    "    n =\n",
    "    \n",
    "    # TODO: Initialize the observability matrix O with matrix C, since the first row of O is always C.\n",
    "    O =\n",
    "    \n",
    "    # TODO: Calculate the observability matrix for each power of A and concatenate it vertically to O.\n",
    "    for i in range(1, n):  # Iterate from 1 to n-1.\n",
    "        \n",
    "    \n",
    "    rank = np.linalg.matrix_rank(O)\n",
    "    \n",
    "    if rank == A.shape[0]:\n",
    "        print(f\"The system is observable with rank {rank}.\")\n",
    "    else:\n",
    "        print(f\"The system is not observable with rank {rank}.\")\n",
    "    return False"
   ]
  },
  {
   "cell_type": "markdown",
   "metadata": {},
   "source": [
    "Below some unit tests to check your solutions:\n"
   ]
  },
  {
   "cell_type": "code",
   "execution_count": null,
   "metadata": {},
   "outputs": [],
   "source": [
    "decomp.test_controllable(controllable, decomp.sol_controllable)"
   ]
  },
  {
   "cell_type": "code",
   "execution_count": null,
   "metadata": {},
   "outputs": [],
   "source": [
    "decomp.test_observable(observable, decomp.sol_observable)"
   ]
  },
  {
   "cell_type": "markdown",
   "metadata": {},
   "source": [
    "Solution ``controllable``: Inspect ``decomp.sol_controllable`` or check on [GitHub](https://github.com/idsc-frazzoli/cs2solutions/blob/fb30ba4d3fa1d034b5c368a37305df41a5cf4e01/src/cs2solutions/decomp.py#L146-L172)\n",
    "\n",
    "Solution ``observable``: Inspect ``decomp.sol_observable`` or check on [GitHub](https://github.com/idsc-frazzoli/cs2solutions/blob/fb30ba4d3fa1d034b5c368a37305df41a5cf4e01/src/cs2solutions/decomp.py#L174-L203)"
   ]
  },
  {
   "cell_type": "markdown",
   "metadata": {},
   "source": [
    "#### __Additional Information__\n",
    "\n",
    "The `control` module has the functions `ct.ctrb(A, B)` and `ct.obsv(A, C)` that compute the reachability and observability matrices directly.\n",
    "\n",
    "Example:"
   ]
  },
  {
   "cell_type": "code",
   "execution_count": null,
   "metadata": {},
   "outputs": [],
   "source": [
    "# Compute the controllability matrix R using the ctrb() function from the control module\n",
    "R = ct.ctrb(A, B)\n",
    "\n",
    "# Calculate the rank of the controllability matrix R using the matrix_rank() function from numpy\n",
    "rank_R = np.linalg.matrix_rank(R)\n",
    "\n",
    "# Compute the observability matrix O using the obsv() function from the control module\n",
    "O = ct.obsv(A, C)\n",
    "\n",
    "# Calculate the rank of the observability matrix O using the matrix_rank() function from numpy\n",
    "rank_O = np.linalg.matrix_rank(O)\n",
    "\n",
    "# Print the controllability matrix R, observability matrix O, and their respective ranks\n",
    "print(\"Controllability matrix R = \\n\", R)\n",
    "print(\"Observability matrix O = \\n\", O)\n",
    "print(\"Rank of controllability matrix R = \", rank_R)\n",
    "print(\"Rank of observability matrix O = \", rank_O)"
   ]
  }
 ],
 "metadata": {
  "kernelspec": {
   "display_name": "Python 3 (ipykernel)",
   "language": "python",
   "name": "python3"
  },
  "language_info": {
   "codemirror_mode": {
    "name": "ipython",
    "version": 3
   },
   "file_extension": ".py",
   "mimetype": "text/x-python",
   "name": "python",
   "nbconvert_exporter": "python",
   "pygments_lexer": "ipython3",
   "version": "3.10.12"
  }
 },
 "nbformat": 4,
 "nbformat_minor": 2
}
