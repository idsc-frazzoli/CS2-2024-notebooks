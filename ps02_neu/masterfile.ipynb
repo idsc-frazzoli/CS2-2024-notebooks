{
 "cells": [
  {
   "cell_type": "markdown",
   "metadata": {},
   "source": [
    "# Setup:\n"
   ]
  },
  {
   "cell_type": "markdown",
   "metadata": {},
   "source": [
    "## Installing the required packages:\n",
    "The following piece of code will check wether the packages required for this Jupyter Notebook are installed. If they aren't yet installed it will automatically install them."
   ]
  },
  {
   "cell_type": "code",
   "execution_count": 131,
   "metadata": {},
   "outputs": [
    {
     "name": "stdout",
     "output_type": "stream",
     "text": [
      "Requirement already satisfied: numpy in c:\\users\\roywe\\appdata\\local\\programs\\python\\python310\\lib\\site-packages (1.24.2)\n",
      "Requirement already satisfied: control in c:\\users\\roywe\\appdata\\local\\programs\\python\\python310\\lib\\site-packages (0.9.3.post2)\n",
      "Requirement already satisfied: scipy in c:\\users\\roywe\\appdata\\local\\programs\\python\\python310\\lib\\site-packages (1.10.1)\n",
      "Requirement already satisfied: matplotlib in c:\\users\\roywe\\appdata\\local\\programs\\python\\python310\\lib\\site-packages (3.7.1)\n",
      "Requirement already satisfied: contourpy>=1.0.1 in c:\\users\\roywe\\appdata\\local\\programs\\python\\python310\\lib\\site-packages (from matplotlib) (1.0.7)\n",
      "Requirement already satisfied: cycler>=0.10 in c:\\users\\roywe\\appdata\\local\\programs\\python\\python310\\lib\\site-packages (from matplotlib) (0.11.0)\n",
      "Requirement already satisfied: fonttools>=4.22.0 in c:\\users\\roywe\\appdata\\local\\programs\\python\\python310\\lib\\site-packages (from matplotlib) (4.39.2)\n",
      "Requirement already satisfied: kiwisolver>=1.0.1 in c:\\users\\roywe\\appdata\\local\\programs\\python\\python310\\lib\\site-packages (from matplotlib) (1.4.4)\n",
      "Requirement already satisfied: packaging>=20.0 in c:\\users\\roywe\\appdata\\roaming\\python\\python310\\site-packages (from matplotlib) (23.0)\n",
      "Requirement already satisfied: pillow>=6.2.0 in c:\\users\\roywe\\appdata\\local\\programs\\python\\python310\\lib\\site-packages (from matplotlib) (9.4.0)\n",
      "Requirement already satisfied: pyparsing>=2.3.1 in c:\\users\\roywe\\appdata\\local\\programs\\python\\python310\\lib\\site-packages (from matplotlib) (3.0.9)\n",
      "Requirement already satisfied: python-dateutil>=2.7 in c:\\users\\roywe\\appdata\\roaming\\python\\python310\\site-packages (from matplotlib) (2.8.2)\n",
      "Requirement already satisfied: six>=1.5 in c:\\users\\roywe\\appdata\\local\\programs\\python\\python310\\lib\\site-packages (from python-dateutil>=2.7->matplotlib) (1.16.0)\n",
      "Note: you may need to restart the kernel to use updated packages.\n"
     ]
    },
    {
     "name": "stderr",
     "output_type": "stream",
     "text": [
      "\n",
      "[notice] A new release of pip is available: 23.3.2 -> 24.0\n",
      "[notice] To update, run: python.exe -m pip install --upgrade pip\n"
     ]
    }
   ],
   "source": [
    "%pip install numpy control scipy matplotlib"
   ]
  },
  {
   "cell_type": "markdown",
   "metadata": {},
   "source": [
    "## Import packages:\n",
    "The following piece of code will import the packages that will be used in the code. Take note of the chosen shortcuts. If you have no experience with the [NumPy](https://numpy.org/) library, read the documentation and do some tutorials. It is very important for matrix operations in Python."
   ]
  },
  {
   "cell_type": "code",
   "execution_count": 132,
   "metadata": {},
   "outputs": [],
   "source": [
    "from typing import Optional, List, Tuple\n",
    "import numpy as np\n",
    "import matplotlib.pyplot as plt\n",
    "import control as ct\n",
    "import scipy.signal as sig"
   ]
  },
  {
   "cell_type": "markdown",
   "metadata": {},
   "source": [
    "## Plotting functions:\n",
    "Define the plotting functions that will be used in the exercises. If you are interested, have a look."
   ]
  },
  {
   "cell_type": "code",
   "execution_count": 133,
   "metadata": {},
   "outputs": [],
   "source": [
    "# Function: plot_helpers\n",
    "# Description: Adds labels and a legend to a plot.\n",
    "# Input: None\n",
    "# Output: None\n",
    "# Variables:\n",
    "#   - None\n",
    "# Functionality: This function adds labels and a legend to a plot.\n",
    "    \n",
    "def plot_helpers() -> None:\n",
    "    plt.xlabel('Time')\n",
    "    plt.ylabel('Output')\n",
    "    plt.legend()\n",
    "\n",
    "    \n",
    "# Function: plot_step_responses\n",
    "# Description: Plots the step response of a system.\n",
    "# Input:\n",
    "#   - A Tuple of arrays containing the time and output of the continuous, forward euler, backward euler, tustin, and zero order hold systems.\n",
    "# Output: None\n",
    "# Variables:\n",
    "#   - None\n",
    "# Functionality: This function plots the step response of a system.\n",
    " \n",
    "def plot_step_responses(t_stable_cont: np.array, y_stable_cont: np.array,\n",
    "                        t_stable_eulerf: np.array, y_stable_eulerf: np.array,\n",
    "                        t_stable_eulerb: np.array, y_stable_eulerb: np.array,\n",
    "                        t_stable_tust: np.array, y_stable_tust: np.array,\n",
    "                        t_stable_zoh: np.array, y_stable_zoh: np.array) -> None:\n",
    "    \n",
    "    plt.figure(figsize=[24, 16])\n",
    "    plt.subplot(3, 2, 1)\n",
    "    plt.plot(t_stable_cont, y_stable_cont, label='Continuous System')\n",
    "    plt.plot(t_stable_eulerf, y_stable_eulerf, label='Forward Euler')\n",
    "    plt.plot(t_stable_eulerb, y_stable_eulerb, label='Backward Euler')\n",
    "    plt.plot(t_stable_tust, y_stable_tust, label='Tustin')\n",
    "    plt.plot(t_stable_zoh, y_stable_zoh, label='Zero Order Hold')\n",
    "\n",
    "    # Adding labels and title to the plot.\n",
    "    \n",
    "    plt.title('Step Response Combined')\n",
    "    plot_helpers()\n",
    "    \n",
    "\n",
    "    plt.subplot(3, 2, 2)\n",
    "    plt.plot(t_stable_cont, y_stable_cont, label='Continuous System', color = 'C0')\n",
    "\n",
    "    # Adding labels and title to the plot.\n",
    "    plt.title('Step Response Continuous')\n",
    "    plot_helpers()\n",
    "\n",
    "\n",
    "    plt.subplot(3, 2, 3)\n",
    "    plt.plot(t_stable_eulerf, y_stable_eulerf, label='Forward Euler', color = 'C1')\n",
    "\n",
    "    # Adding labels and title to the plot.\n",
    "    plt.title('Step Response Forward Euler')\n",
    "    plot_helpers()\n",
    "\n",
    "\n",
    "    plt.subplot(3, 2, 4)\n",
    "    plt.plot(t_stable_eulerb, y_stable_eulerb, label='Backward Euler', color = 'C2')\n",
    "\n",
    "    # Adding labels and title to the plot.\n",
    "    plt.title('Step Response Backward Euler')\n",
    "    plot_helpers()\n",
    "\n",
    "\n",
    "    plt.subplot(3, 2, 5)\n",
    "    plt.plot(t_stable_tust, y_stable_tust, label='Tustin', color = 'C3')\n",
    "\n",
    "    # Adding labels and title to the plot.\n",
    "    plt.title('Step Response Tustin')\n",
    "    plot_helpers()\n",
    "\n",
    "\n",
    "    plt.subplot(3, 2, 6)\n",
    "    plt.plot(t_stable_zoh, y_stable_zoh, label='Zero Order Hold', color = 'C4')\n",
    "\n",
    "    # Adding labels and title to the plot.\n",
    "    plt.title('Step Response Zero Order Hold')\n",
    "    plot_helpers()"
   ]
  },
  {
   "cell_type": "markdown",
   "metadata": {},
   "source": [
    "## Duckiebot System Matrices\n",
    "This piece of Code defines the dynamics of the Duckiebot which shall be used as an example in question 1."
   ]
  },
  {
   "cell_type": "code",
   "execution_count": 134,
   "metadata": {},
   "outputs": [],
   "source": [
    "# Save the system matrices for later use.\n",
    "A = [[0, 0.1], [0, 0]]\n",
    "B = [[0], [1]]\n",
    "C = [[1, 0]]\n",
    "D = [[0]]"
   ]
  },
  {
   "cell_type": "markdown",
   "metadata": {},
   "source": [
    "-------------------\n",
    "# Exercise 1"
   ]
  },
  {
   "cell_type": "markdown",
   "metadata": {},
   "source": [
    "## Exercise 1a:\n",
    "\n",
    "Now we'll see how the different discretization schemes affect the step response of the duckiebot controller"
   ]
  },
  {
   "cell_type": "code",
   "execution_count": 135,
   "metadata": {},
   "outputs": [],
   "source": [
    "def continuous_step_response(A: np.array, B: np.array, C:np.array, D:np.array) -> Tuple[np.array, np.array]:\n",
    "    \n",
    "    #TODO: Implement the continuous step response.\n",
    "\n",
    "    # return the time and output vectors (as np.array) of the step response.\n",
    "    return [t, y]\n",
    "\n",
    "def discrete_step_response_euler_forward(A: np.array, B: np.array, C:np.array, D:np.array, dt: float) -> Tuple[np.array, np.array]:\n",
    "    \n",
    "    #TODO: Implement the discrete step response using the forward Euler discretization.\n",
    "\n",
    "    # return the time and output vectors (as np.array) of the step response.\n",
    "    return [t, y]\n",
    "\n",
    "def discrete_step_response_euler_backward(A: np.array, B: np.array, C:np.array, D:np.array, dt: float) -> Tuple[np.array, np.array]:\n",
    "    \n",
    "    #TODO: Implement the discrete step response using the backward Euler discretization.\n",
    "\n",
    "    # return the time and output vectors (as np.array) of the step response.\n",
    "    return [t, y]\n",
    "\n",
    "def discrete_step_response_tustin(A: np.array, B: np.array, C:np.array, D:np.array, dt: float) -> Tuple[np.array, np.array]:\n",
    "    \n",
    "    #TODO: Implement the discrete step response using the Tustin discretization.\n",
    "\n",
    "    # return the time and output vectors (as np.array) of the step response.\n",
    "    return [t, y]\n",
    "\n",
    "def discrete_step_response_zoh(A: np.array, B: np.array, C:np.array, D:np.array, dt: float) -> Tuple[np.array, np.array]:\n",
    "    \n",
    "    #TODO: Implement the discrete step response using the Zero Order Hold discretization.\n",
    "\n",
    "    # return the time and output vectors (as np.array) of the step response.\n",
    "    return [t, y]"
   ]
  },
  {
   "cell_type": "markdown",
   "metadata": {},
   "source": [
    "## Solution Exercise 1a:"
   ]
  },
  {
   "cell_type": "code",
   "execution_count": 136,
   "metadata": {
    "notebookRunGroups": {
     "groupValue": "1"
    }
   },
   "outputs": [],
   "source": [
    "# Basic structure of the functions is based on defining the continuous system and then using the ct.sample_system function to discretize the system.\n",
    "\n",
    "def system_discretization_euler_forward_sol(A: np.array, B: np.array, C:np.array, D:np.array, dt: float) -> np.array:\n",
    "    \n",
    "    sysc = ct.ss2tf(A, B, C, D)\n",
    "    sysd_forward_euler = ct.sample_system(sysc, Ts = dt, method='euler')\n",
    "    \n",
    "    return sysd_forward_euler\n",
    "\n",
    "def system_discretization_euler_backward_sol(A: np.array, B: np.array, C:np.array, D:np.array, dt: float) -> np.array:\n",
    "    \n",
    "    sysc = ct.ss2tf(A, B, C, D)\n",
    "    sysd_backward_euler = ct.sample_system(sysc, Ts = dt, method='backward_diff')\n",
    "    \n",
    "    return sysd_backward_euler\n",
    "\n",
    "def system_discretization_tustin_sol(A: np.array, B: np.array, C:np.array, D:np.array, dt: float) -> np.array:\n",
    "    \n",
    "    sysc = ct.ss2tf(A, B, C, D)\n",
    "    sysd_tustin = ct.sample_system(sysc, Ts = dt, method='tustin')\n",
    "    \n",
    "    # Alternatively, you can use the following command:\n",
    "    # sysd_tustin = sysc.sample_system(Ts = dt, method='tustin')\n",
    "    \n",
    "    return sysd_tustin\n",
    "\n",
    "def system_discretization_zoh_sol(A: np.array, B: np.array, C:np.array, D:np.array, dt: float) -> np.array:\n",
    "    \n",
    "    sysc = ct.ss2tf(A, B, C, D)\n",
    "    sysd_zoh = ct.sample_system(sysc, Ts = dt, method='zoh')\n",
    "    \n",
    "    # Alternatively, you can use the following command:\n",
    "    # sysd_zoh = sysc.sample_system(Ts = dt, method='zoh')\n",
    "    \n",
    "    return sysd_zoh\n",
    "\n",
    "\n",
    "\n",
    "# The following functions are used to create the continuous and discrete step responses of the system.\n",
    "\n",
    "# Create the continuous system step response.\n",
    "def cont_solution (A: np.array, B: np.array, C:np.array, D:np.array) -> Tuple[np.array, np.array]:\n",
    "    \n",
    "    sysc = ct.ss(A, B, C, D)\n",
    "    t_cont, y_cont = ct.step_response(sysc, input=0, output=0)\n",
    "    \n",
    "    return [t_cont, y_cont]\n",
    "\n",
    "\n",
    "# Create the discrete system step response by first discretizing the system and then using the ct.step_response function.\n",
    "# Use the previously defined functions to get the discretized systems and then use the ct.step_response function to get the step response.\n",
    "def disc_solution (A: np.array, B: np.array, C:np.array, D:np.array, Ts:float) -> Tuple[np.array, np.array, np.array, np.array, np.array, np.array, np.array, np.array]:\n",
    "    \n",
    "        \n",
    "    sysd_eulerf = system_discretization_euler_forward_sol(A, B, C, D, Ts)\n",
    "    t_eulerf, y_eulerf = ct.step_response(sysd_eulerf, input=0, output=0)\n",
    "\n",
    "\n",
    "    sysd_eulerb = system_discretization_euler_backward_sol(A, B, C, D, Ts)\n",
    "    t_eulerb, y_eulerb = ct.step_response(sysd_eulerb, input=0, output=0)\n",
    "\n",
    "    \n",
    "    sysd_tust = system_discretization_tustin_sol(A, B, C, D, Ts)\n",
    "    t_tust, y_tust = ct.step_response(sysd_tust, input=0, output=0)\n",
    "\n",
    "\n",
    "    sysd_zoh = system_discretization_zoh_sol(A, B, C, D, Ts)\n",
    "    t_zoh, y_zoh = ct.step_response(sysd_zoh, input=0, output=0)\n",
    "    \n",
    "    return [t_eulerf, y_eulerf, t_eulerb, y_eulerb, t_tust, y_tust, t_zoh, y_zoh]"
   ]
  },
  {
   "cell_type": "markdown",
   "metadata": {},
   "source": [
    "## Exercise 1a: Test your code:\n",
    "Set the Use_User_Implementation variable to True if you want to test your own implementation. However, it is currently set to False to prevent an error from occuring"
   ]
  },
  {
   "cell_type": "code",
   "execution_count": 137,
   "metadata": {},
   "outputs": [],
   "source": [
    "def test_user_implementations(): \n",
    "    # Define the sampling time. Feel free to play around with this value.\n",
    "    Ts = 2 \n",
    "\n",
    "    # Test the user's implementation. \n",
    "    t_cont, y_cont = continuous_step_response(A, B, C, D)\n",
    "    t_eulerf, y_eulerf = discrete_step_response_euler_forward(A, B, C, D, Ts)\n",
    "    t_eulerb, y_eulerb = discrete_step_response_euler_backward(A, B, C, D, Ts)\n",
    "    t_tust, y_tust = discrete_step_response_tustin(A, B, C, D, Ts)\n",
    "    t_zoh, y_zoh = discrete_step_response_zoh(A, B, C, D, Ts)\n",
    "\n",
    "\n",
    "    # Plotting the impulse response for each discretization scheme.\n",
    "    plt.plot(t_cont, y_cont, label='Continuous System')\n",
    "    plt.plot(t_eulerf, y_eulerf, label='Forward Euler')\n",
    "    plt.plot(t_eulerb, y_eulerb, label='Backward Euler')\n",
    "    plt.plot(t_tust, y_tust, label='Tustin')\n",
    "    plt.plot(t_zoh, y_zoh, label='Zero Order Hold')\n",
    "\n",
    "    # Adding labels and title to the plot.\n",
    "    plt.xlabel('Time')\n",
    "    plt.ylabel('Output')\n",
    "    plt.title('Step Response')\n",
    "    plt.legend()\n",
    "\n",
    "    # Displaying the plot.\n",
    "    plt.show()\n",
    "    \n",
    "\n",
    "Use_User_Implementations = False\n",
    "if Use_User_Implementations:\n",
    "    test_user_implementations()"
   ]
  },
  {
   "cell_type": "markdown",
   "metadata": {},
   "source": [
    "## Solution Plots Exercise 1a:"
   ]
  },
  {
   "cell_type": "code",
   "execution_count": 138,
   "metadata": {
    "notebookRunGroups": {
     "groupValue": "1"
    }
   },
   "outputs": [
    {
     "data": {
      "image/png": "[encoded data removed]",
      "text/plain": [
       "<Figure size 640x480 with 1 Axes>"
      ]
     },
     "metadata": {},
     "output_type": "display_data"
    }
   ],
   "source": [
    "# Define the sampling time. Feel free to play around with this value.\n",
    "Ts=2\n",
    "\n",
    "# Call for the solutions and store them.\n",
    "[t_cont_sol, y_cont_sol] = cont_solution(A, B, C, D)\n",
    "[t_eulerf_sol, y_eulerf_sol, t_eulerb_sol, y_eulerb_sol, t_tust_sol, y_tust_sol, t_zoh_sol, y_zoh_sol] = disc_solution(A, B, C, D, Ts)\n",
    "\n",
    "# Plotting the impulse response for each discretization scheme\n",
    "plt.plot(t_cont_sol, y_cont_sol, label='Continuous System')\n",
    "plt.plot(t_eulerf_sol, y_eulerf_sol, label='Forward Euler')\n",
    "plt.plot(t_eulerb_sol, y_eulerb_sol, label='Backward Euler')\n",
    "plt.plot(t_tust_sol, y_tust_sol, label='Tustin')\n",
    "plt.plot(t_zoh_sol, y_zoh_sol, label='Zero Order Hold')\n",
    "\n",
    "# Adding labels and title to the plot.\n",
    "plt.xlabel('Time')\n",
    "plt.ylabel('Output')\n",
    "plt.title('Step Response')\n",
    "plt.legend()\n",
    "\n",
    "\n",
    "\n",
    "# Display the plot.\n",
    "plt.show()\n",
    "\n",
    "# The output of this cell is collapsed, you can view it by double clicking on the \"Outputs are collapsed\" text below."
   ]
  },
  {
   "cell_type": "markdown",
   "metadata": {},
   "source": [
    "##\n",
    "Interpret the result (Hint: To see the differences between the different discretizations more clearly, increase `Ts` (more on this in Exercise 2)):\n",
    "\n",
    "- Which Discretization is closest to the continuous system?\n",
    "- Why can you only see 4 lines?\n",
    "- Why do all the plots diverge?\n"
   ]
  },
  {
   "cell_type": "markdown",
   "metadata": {},
   "source": [
    "-----\n",
    "Since all of the above step responses diverge, we are unable to demonstrate that the different discretizations can make a stable system unstable. To remedy this we place poles at desired locations via the [Ackermann Formula](https://en.wikipedia.org/wiki/Ackermann%27s_formula#Ackermann's_formula)."
   ]
  },
  {
   "cell_type": "code",
   "execution_count": 139,
   "metadata": {},
   "outputs": [],
   "source": [
    "def feedforward_kr(A: np.array, B: np.array, C: np.array, K: np.array) -> np.array:\n",
    "    ABK = A - B @ K\n",
    "    ABK_inv = np.linalg.inv(ABK)\n",
    "    den = C @ ABK_inv @ B\n",
    "    kr = - 1/den\n",
    "\n",
    "    return kr\n",
    "\n",
    "\n",
    "def acker(A: np.array, B: np.array, poles: List[float]) -> np.array:\n",
    "    AB = A @ B\n",
    "    R = np.concatenate((B, AB), axis=1)\n",
    "    R_inv = np.linalg.inv(R)\n",
    "    gamma = np.array([[0, 1]]) @ R_inv\n",
    "\n",
    "    p_1 = poles[0]*(-1)\n",
    "    p_2 = poles[1]*(-1)\n",
    "    ab = p_1 + p_2\n",
    "    b = p_1*p_2\n",
    "    p_cl = A @ A + ab*A + b*np.identity(2)\n",
    "\n",
    "    K = gamma @ p_cl\n",
    "\n",
    "    return K\n",
    "\n",
    "\n",
    "def place_poles_Ackermann(A: np.array, B: np.array, C: np.array,\n",
    "                          D: float, poles: List) -> np.array:\n",
    "    \n",
    "    K=ct.acker(A, B, poles)\n",
    "    \n",
    "    # Create a new system representing the closed loop response\n",
    "    clsys = ct.StateSpace(A - B @ K, B, C, D)\n",
    "\n",
    "    # Compute the feedforward gain\n",
    "    kr = feedforward_kr(A, B, C, K)\n",
    "    \n",
    "    # Scale the input by the feedforward gain\n",
    "    clsys *= kr\n",
    "\n",
    "    # Return gains and closed loop system dynamics\n",
    "    return clsys"
   ]
  },
  {
   "cell_type": "markdown",
   "metadata": {},
   "source": [
    "## Exercise 1b:\n",
    "\n",
    "In this exercise you will:\n",
    "- Try to make all the discretizations stable via changing the desired poles `p_des`.\n",
    "- Try to make all the discretizations stable via changing the `Ts`.\n",
    "\n",
    "Notes: \n",
    "- The function as is will not run. To make it run, change the Use_User_Implementation variable to True.\n",
    "- To start off with, not all the step responses are stable.\n",
    "- We will reuse the functions defined in 3a. If you couldn't solve them, use `cont_solution` and `disc_solution` where indicated."
   ]
  },
  {
   "cell_type": "code",
   "execution_count": 140,
   "metadata": {},
   "outputs": [
    {
     "name": "stdout",
     "output_type": "stream",
     "text": [
      "The user's implementations are not being used. Set the Use_User_Implementations variable to True to use the user's implementations.\n"
     ]
    }
   ],
   "source": [
    "def test_user_implementations():\n",
    "    # Choose your desired poles. Feel free to play around with them.\n",
    "    p_des = [-0.5+3j, -0.5-3j] \n",
    "\n",
    "    # Define the sampling time. Feel free to play around with this value.\n",
    "    Ts=0.25\n",
    "\n",
    "    # Compute the closed loop system dynamics using Ackermann's formula.\n",
    "    clsys_p = place_poles_Ackermann(A=A, B=B, C=C, D=0,\n",
    "                                        poles=p_des)\n",
    "    t_p, y_p = ct.step_response(clsys_p, input=0, output=0)\n",
    "\n",
    "    # Define the system matrices and sampling time\n",
    "    A_stable = clsys_p.A\n",
    "    B_stable = clsys_p.B\n",
    "    C_stable = clsys_p.C\n",
    "    D_stable = clsys_p.D\n",
    "\n",
    "\n",
    "\n",
    "    # Compute the step response of the continuous closed loop system. \n",
    "    # If you couldn't solve the previous exercise, you can use the solution. For that replace the function call with the following:\n",
    "    # [t_stable_cont, y_stable_cont] = cont_solution(A_stable, B_stable, C_stable, D_stable)\n",
    "    t_stable_cont, y_stable_cont = continuous_step_response(A_stable, B_stable, C_stable, D_stable)\n",
    "\n",
    "\n",
    "\n",
    "    # Compute the step response of the discrete closed loop system using the different discretization schemes. \n",
    "    # If you couldn't solve the previous exercise, you can use the solution. For that replace the function call with the following:\n",
    "    # [t_stable_eulerf, y_stable_eulerf, t_stable_eulerb, y_stable_eulerb, t_stable_tust, y_stable_tust, t_stable_zoh, y_stable_zoh] = disc_solution(A_stable, B_stable, C_stable, D_stable, Ts)\n",
    "    t_stable_eulerf, y_stable_eulerf = discrete_step_response_euler_forward(A_stable, B_stable, C_stable, D_stable, Ts)\n",
    "    t_stable_eulerb, y_stable_eulerb = discrete_step_response_euler_backward(A_stable, B_stable, C_stable, D_stable, Ts)\n",
    "    t_stable_tust, y_stable_tust = discrete_step_response_tustin(A_stable, B_stable, C_stable, D_stable, Ts)\n",
    "    t_stable_zoh, y_stable_zoh = discrete_step_response_zoh(A_stable, B_stable, C_stable, D_stable, Ts)\n",
    "\n",
    "\n",
    "\n",
    "    # Package the results for plotting.\n",
    "    values_to_plot = [t_stable_cont, y_stable_cont,\n",
    "                    t_stable_eulerf, y_stable_eulerf,\n",
    "                    t_stable_eulerb, y_stable_eulerb,\n",
    "                    t_stable_tust, y_stable_tust,\n",
    "                    t_stable_zoh, y_stable_zoh]\n",
    "\n",
    "    # Plot the step responses.\n",
    "    plot_step_responses(*values_to_plot)\n",
    "    \n",
    "    \n",
    "    \n",
    "Use_User_Implementations = False\n",
    "if Use_User_Implementations:\n",
    "    test_user_implementations()\n",
    "else:\n",
    "    print(\"The user's implementations are not being used. Set the Use_User_Implementations variable to True to use the user's implementations.\")"
   ]
  },
  {
   "cell_type": "markdown",
   "metadata": {},
   "source": [
    "Interpret your findings with respect to the following questions:\n",
    "\n",
    "- Which of these graphs follows the contiunous system the closest?\n",
    "- Does that change when you decrease or increase Ts?\n",
    "- Why does that happen?\n",
    "- For the default poles, what is the limit for Ts such that no discretization diverges?\n",
    "- What happens when the poles are outside the unit circle? What happens when they are on it?"
   ]
  },
  {
   "cell_type": "markdown",
   "metadata": {},
   "source": [
    "# End of Roy's part"
   ]
  },
  {
   "cell_type": "markdown",
   "metadata": {},
   "source": [
    "-------------\n",
    "# Emulation Exercises\n",
    "\n",
    "Imagine you want to build a real duckiebot. Instead of plotting the changes a certain controller made to your system, you want to check the results by racing your duckiebot in your room.\n",
    "\n",
    "This exercise will prepare you for exactly that scenario. Also in Control Systems the real world differs from the theoretical one. In real life, as seen in your lecture, you have to work in descrete time due to a fundamental problem: *\"Computers can't do limit operations, hence they can't calculate derivatives exactly. Aprroximations are required. Instead of differential equations, finite difference equations are solved.\"*"
   ]
  },
  {
   "cell_type": "markdown",
   "metadata": {},
   "source": [
    "## System Library\n",
    "\n",
    "In here you will find different systems that show the advatages and disadvantages for the three discretization methods."
   ]
  },
  {
   "cell_type": "code",
   "execution_count": 141,
   "metadata": {},
   "outputs": [],
   "source": [
    "# Euler forward example\n",
    "def create_system1():\n",
    "    A = np.array([[-1, -1],\n",
    "                  [2, -0.25]])\n",
    "    B = np.array([[1],\n",
    "                  [1]])\n",
    "    C = np.array([[1, 1]])\n",
    "    D = np.array([[0]])\n",
    "    return ct.StateSpace(A, B, C, D)\n",
    "\n",
    "# Euler backwards example\n",
    "def create_system2():\n",
    "    A = np.array([[-2, -3],\n",
    "                  [1, -2]])\n",
    "    B = np.array([[1],\n",
    "                  [1]])\n",
    "    C = np.array([[1, 1]])\n",
    "    D = np.array([[0]])\n",
    "    return ct.StateSpace(A, B, C, D)\n",
    "\n",
    "#Create your own system here\n",
    "def create_system3():\n",
    "    A = np.array([[0, 0],\n",
    "                  [0, 0]])\n",
    "    B = np.array([[0],\n",
    "                  [0]])\n",
    "    C = np.array([[0, 0]])\n",
    "    D = np.array([[0]])\n",
    "    return ct.StateSpace(A, B, C, D)\n",
    "\n",
    "#usage\n",
    "system1 = create_system1()\n",
    "system2 = create_system2()\n",
    "system3 = create_system3()"
   ]
  },
  {
   "cell_type": "markdown",
   "metadata": {},
   "source": [
    "-------\n",
    "## Implementation of Descretization Methods"
   ]
  },
  {
   "cell_type": "markdown",
   "metadata": {},
   "source": [
    "### Euler Forward Method"
   ]
  },
  {
   "cell_type": "code",
   "execution_count": 142,
   "metadata": {},
   "outputs": [],
   "source": [
    "def euler_forward(system, dt):\n",
    "    \"\"\"\n",
    "    Discretize a continuous-time system using the Euler forward method.\n",
    "\n",
    "    Parameters:\n",
    "    system: State-space system (instance of ct.StateSpace).\n",
    "    dt: Time step for discretization.\n",
    "\n",
    "    Returns:\n",
    "    StateSpace(Ad, Bd, Cd, Dd): Discretized state-space matrices.\n",
    "    \"\"\"\n",
    "    A, B, C, D = system.A, system.B, system.C, system.D\n",
    "    I = np.eye(A.shape[0])\n",
    "    Ad = I + dt * A\n",
    "    Bd = dt * B\n",
    "    Cd = C\n",
    "    Dd = D\n",
    "    return ct.StateSpace(Ad, Bd, Cd, Dd)"
   ]
  },
  {
   "cell_type": "markdown",
   "metadata": {},
   "source": [
    "### Euler Backwards Method"
   ]
  },
  {
   "cell_type": "code",
   "execution_count": 143,
   "metadata": {},
   "outputs": [],
   "source": [
    "def euler_backward(system, dt):\n",
    "    \"\"\"\n",
    "    Discretize a continuous-time system using the Euler backward method.\n",
    "\n",
    "    Parameters:\n",
    "    system: State-space system (instance of ct.StateSpace).\n",
    "    dt: Time step for discretization.\n",
    "\n",
    "    Returns:\n",
    "    StateSpace(Ad, Bd, Cd, Dd): Discretized state-space matrices.\n",
    "    \"\"\"\n",
    "    A, B, C, D = system.A, system.B, system.C, system.D\n",
    "    I = np.eye(A.shape[0])\n",
    "    Ad = np.linalg.inv(I - dt * A)\n",
    "    Bd = np.dot(Ad, dt * B)\n",
    "    Cd = C\n",
    "    Dd = D\n",
    "    return ct.StateSpace(Ad, Bd, Cd, Dd)"
   ]
  },
  {
   "cell_type": "markdown",
   "metadata": {},
   "source": [
    "### Tustin's Method"
   ]
  },
  {
   "cell_type": "code",
   "execution_count": 144,
   "metadata": {},
   "outputs": [],
   "source": [
    "def tustin_method(system, dt):\n",
    "    \"\"\"\n",
    "    Discretize a continuous-time system using Tustin's method (bilinear transformation).\n",
    "    \n",
    "    Parameters:\n",
    "    system: State-space system (instance of ct.StateSpace).\n",
    "    dt: Time step for discretization.\n",
    "    \n",
    "    Returns:\n",
    "    StateSpace(Ad, Bd, Cd, Dd): Discretized state-space matrices.\n",
    "    \"\"\"\n",
    "    A, B, C, D = system.A, system.B, system.C, system.D\n",
    "    I = np.eye(A.shape[0])\n",
    "    pre_matrix = np.linalg.inv(I - (dt / 2) * A)\n",
    "    Ad = np.dot(pre_matrix, I + (dt / 2) * A)\n",
    "    Bd = np.dot(pre_matrix, dt * B)\n",
    "    Cd = C\n",
    "    Dd = D\n",
    "    return ct.StateSpace(Ad, Bd, Cd, Dd)"
   ]
  },
  {
   "cell_type": "markdown",
   "metadata": {},
   "source": [
    "---------\n",
    "## Console\n",
    "\n",
    "This is where you change your system (eg. system1, system2, etc.) and vary the step time. Leave it as it is for exercises 1 and 2."
   ]
  },
  {
   "cell_type": "code",
   "execution_count": 145,
   "metadata": {},
   "outputs": [],
   "source": [
    "#change for exercise 3\n",
    "dt =  0.4 # Time step\n",
    "test = system1"
   ]
  },
  {
   "cell_type": "markdown",
   "metadata": {},
   "source": [
    "-------\n",
    "## Exercise 1: Stability Analysis with Eigenvalue Plots\n",
    "\n",
    "Objective: Analyze and compare the stability of the Duckiebot steering system using different discretization methods.\n",
    "\n",
    "Tasks:\n",
    "\n",
    "\t1.Create a fuction that discretizes the system using Euler forward, Euler backward, and Tustin’s methods for a given time step (dt = 1 seconds).\n",
    "\n",
    "\t2.Calculate the eigenvalues in the plot_eigenvalues() function.\n",
    "\t\n",
    "\t3.Use the provided plot_table function as well as the prior ones from task 1 and 2 to plot the eigenvalues in the complex plain and check them for stability. Hint: Stable systems will have eigenvalues with magnitudes less than 1."
   ]
  },
  {
   "cell_type": "markdown",
   "metadata": {},
   "source": [
    "### Solution Exercise 1"
   ]
  },
  {
   "cell_type": "markdown",
   "metadata": {},
   "source": [
    "#### Task 1"
   ]
  },
  {
   "cell_type": "code",
   "execution_count": 146,
   "metadata": {},
   "outputs": [],
   "source": [
    "def discretize(system, dt):\n",
    "    '''\n",
    "    Discretizes a continuous-time system into discrete-time systems using three methods: \n",
    "    Euler Forward, Euler Backward, and Tustin's method.\n",
    "\n",
    "    Parameters:\n",
    "    system: A continuous-time system represented as a ct.StateSpace object.\n",
    "    dt: Time step for discretization.\n",
    "\n",
    "    Returns:\n",
    "    tuple: A tuple of discretized systems (dt_forward, dt_backward, dt_tustin), each representing \n",
    "    the input system discretized using Euler Forward, Euler Backward, and Tustin's method, respectively.\n",
    "    '''\n",
    "    # Discretize using each method\n",
    "    dt_forward = euler_forward(system, dt)\n",
    "    dt_backward = euler_backward(system, dt)\n",
    "    dt_tustin = tustin_method(system, dt)\n",
    "    \n",
    "    return dt_forward, dt_backward, dt_tustin"
   ]
  },
  {
   "cell_type": "markdown",
   "metadata": {},
   "source": [
    "#### Task 2"
   ]
  },
  {
   "cell_type": "code",
   "execution_count": 147,
   "metadata": {},
   "outputs": [],
   "source": [
    "def plot_eigenvalues(system, method_name):\n",
    "    '''\n",
    "    Plots the eigenvalues of the discretized system's A matrix on the complex plane.\n",
    "\n",
    "    Parameters:\n",
    "    system: A discrete-time system, represented as a control.statesp.StateSpace object, \n",
    "            whose eigenvalues are to be plotted.\n",
    "    method_name: A string representing the name of the discretization method used for \n",
    "                 this system. This name is used as a label in the plot.\n",
    "\n",
    "    The function calculates the eigenvalues of the system's A matrix, prints them,\n",
    "    and plots them on the complex plane. Each set of eigenvalues is labeled according \n",
    "    to the discretization method used.\n",
    "    '''\n",
    "    Ad = system.A\n",
    "    eigenvalues = np.linalg.eigvals(Ad)\n",
    "    print(\"Eigenvalues using \" + method_name)\n",
    "    print(eigenvalues)\n",
    "    print(\"Magnetude\")\n",
    "    print(np.linalg.norm(eigenvalues[0]))\n",
    "    print(\"\\n\")\n",
    "\n",
    "    plt.scatter(eigenvalues.real, eigenvalues.imag, label=method_name)"
   ]
  },
  {
   "cell_type": "markdown",
   "metadata": {},
   "source": [
    "#### Plotting function"
   ]
  },
  {
   "cell_type": "code",
   "execution_count": 148,
   "metadata": {},
   "outputs": [],
   "source": [
    "def plot_table(dt_forward, dt_backward, dt_tustin):\n",
    "    '''\n",
    "    Plots the eigenvalues of three discretized systems on the complex plane to compare their stability.\n",
    "\n",
    "    Parameters:\n",
    "    dt_forward: Discretized system using the Euler Forward method (StateSpace object).\n",
    "    dt_backward: Discretized system using the Euler Backward method (StateSpace object).\n",
    "    dt_tustin: Discretized system using Tustin's method (StateSpace object).\n",
    "\n",
    "    This function visualizes the eigenvalues of the given discretized systems on the complex plane.\n",
    "    It helps in comparing the stability characteristics of the systems discretized using different methods.\n",
    "    The function plots each set of eigenvalues with a different label corresponding to the discretization method.\n",
    "    It also includes a unit circle for reference, aiding in the assessment of stability (eigenvalues inside the \n",
    "    unit circle indicate stability in discrete-time systems).\n",
    "    '''\n",
    "    plt.figure(figsize=(8, 6))\n",
    "    \n",
    "    plot_eigenvalues(dt_forward, 'Euler Forward')\n",
    "    plot_eigenvalues(dt_backward, 'Euler Backward')\n",
    "    plot_eigenvalues(dt_tustin, 'Tustin')\n",
    "    \n",
    "    plt.axhline(y=0, color='k')\n",
    "    plt.axvline(x=0, color='k')\n",
    "    plt.xlabel('Real Part')\n",
    "    plt.ylabel('Imaginary Part')\n",
    "    plt.title('Eigenvalues of Discretized Systems')\n",
    "    plt.legend(loc='upper right', bbox_to_anchor=(1.15, 1.15))\n",
    "    plt.grid(True)\n",
    "\n",
    "    # adding unit circle for visualisation\n",
    "    theta = np.linspace(0, 2 * np.pi, 100)  # 100 points between 0 and 2*pi\n",
    "    x = np.cos(theta)  # x coordinates on the circle\n",
    "    y = np.sin(theta)  # y coordinates on the circle\n",
    "    plt.plot(x, y, linestyle = '--', color = 'grey')\n",
    "\n",
    "    plt.show()"
   ]
  },
  {
   "cell_type": "markdown",
   "metadata": {},
   "source": [
    "#### Task 3"
   ]
  },
  {
   "cell_type": "code",
   "execution_count": 149,
   "metadata": {},
   "outputs": [
    {
     "name": "stdout",
     "output_type": "stream",
     "text": [
      "Eigenvalues of continous system:\n",
      "[-0.625+1.36358901j -0.625-1.36358901j]\n",
      "\n",
      "\n",
      "Eigenvalues using Euler Forward\n",
      "[0.75+0.54543561j 0.75-0.54543561j]\n",
      "Magnetude\n",
      "0.9273618495495703\n",
      "\n",
      "\n",
      "Eigenvalues using Euler Backward\n",
      "[0.67204301+0.29324495j 0.67204301-0.29324495j]\n",
      "Magnetude\n",
      "0.7332355751067665\n",
      "\n",
      "\n",
      "Eigenvalues using Tustin\n",
      "[0.67910448+0.4070415j 0.67910448-0.4070415j]\n",
      "Magnetude\n",
      "0.7917484901417816\n",
      "\n",
      "\n"
     ]
    },
    {
     "data": {
      "image/png": "[encoded data removed]",
      "text/plain": [
       "<Figure size 800x600 with 1 Axes>"
      ]
     },
     "metadata": {},
     "output_type": "display_data"
    }
   ],
   "source": [
    "#eigenvalues in c.t. for comparison\n",
    "print(\"Eigenvalues of continous system:\")\n",
    "print(np.linalg.eigvals(test.A))\n",
    "print(\"\\n\")\n",
    "\n",
    "#implement your code here\n",
    "#------------\n",
    "\n",
    "dt_forward, dt_backward, dt_tustin = discretize(test, dt)\n",
    "plot_table(dt_forward, dt_backward, dt_tustin)\n",
    "\n",
    "#------------"
   ]
  },
  {
   "cell_type": "markdown",
   "metadata": {},
   "source": [
    "### Conclusion of Exercise 1\n",
    "\n",
    "In this exercise, we conducted a thorough stability analysis of the Duckiebot steering system using various discretization methods. By employing Euler forward, Euler backward, and Tustin’s methods to discretize the system for a given time step (dt = 1 second), we could observe the distinct impacts these methods have on system stability.\n",
    "\n",
    "The eigenvalues of the discretized systems were calculated and visually plotted on the complex plane. This visualization, facilitated by the unit circle on the plot, was instrumental in determining the stability of the systems. Systems with eigenvalues lying inside the unit circle are deemed stable in the discrete-time domain.\n",
    "\n",
    "A key observation from this exercise is the critical role of the discretization method in system stability. Notably, the Euler Forward method often presents a risk of making a stable continuous-time system unstable in the discrete-time domain. This is particularly true for systems with eigenvalues close to the stability boundary. Therefore, careful consideration is required when selecting this method, underscoring the need for a rigorous stability check post-discretization.\n",
    "\n",
    "This analysis highlights the importance of not only choosing the appropriate discretization method but also thoroughly checking the resulting system's stability, especially when employing the Euler Forward method. Such diligence is crucial in ensuring the reliability and accuracy of digital control systems, particularly in applications where precise control and stability are paramount."
   ]
  },
  {
   "cell_type": "markdown",
   "metadata": {},
   "source": [
    "#### Observability check"
   ]
  },
  {
   "cell_type": "code",
   "execution_count": 150,
   "metadata": {},
   "outputs": [
    {
     "name": "stdout",
     "output_type": "stream",
     "text": [
      "[[1.  1. ]\n",
      " [1.4 0.5]]\n",
      "[[1.         1.        ]\n",
      " [1.02150538 0.53763441]]\n",
      "[[1.         1.        ]\n",
      " [1.1641791  0.49253731]]\n"
     ]
    }
   ],
   "source": [
    "#check for observability\n",
    "def observability(system):\n",
    "    Cd = system.C\n",
    "    Ad = system.A\n",
    "    Op = Cd @ Ad\n",
    "    O = np.row_stack((Cd,Op))\n",
    "    print(O)\n",
    "    \n",
    "\n",
    "observability(dt_forward)\n",
    "observability(dt_backward)\n",
    "observability(dt_tustin)"
   ]
  },
  {
   "cell_type": "markdown",
   "metadata": {},
   "source": [
    "---------\n",
    "## Exercise 2: Step Response Simulation and Comparison\n",
    "\n",
    "Objective: Simulate and compare the step responses of the discretized systems.\n",
    "\n",
    "Tasks:\n",
    "\n",
    "\t1.Apply a step input to each discretized system.\n",
    "\t2.Simulate the response over a fixed time period (100 seconds).\n",
    "\t3.Plot the responses from all three methods on the same graph for comparison."
   ]
  },
  {
   "cell_type": "markdown",
   "metadata": {},
   "source": [
    "### Solution Exercise 2"
   ]
  },
  {
   "cell_type": "code",
   "execution_count": 151,
   "metadata": {},
   "outputs": [
    {
     "data": {
      "image/png": "[encoded data removed]",
      "text/plain": [
       "<Figure size 1000x600 with 1 Axes>"
      ]
     },
     "metadata": {},
     "output_type": "display_data"
    }
   ],
   "source": [
    "#system 1 (Forward)\n",
    "def simulate_step_response(system, dt, label, n=100):\n",
    "    lti = sig.dlti(system.A, system.B, system.C, system.D, dt=dt)\n",
    "    t, y = sig.dstep(lti, n=n)\n",
    "    plt.step(t, np.squeeze(y), label=label)\n",
    "\n",
    "plt.figure(figsize=(10, 6))\n",
    "\n",
    "# Simulate step response for each method\n",
    "simulate_step_response(dt_forward, dt, label='Euler Forward')\n",
    "simulate_step_response(dt_backward, dt, label='Euler Backward')\n",
    "simulate_step_response(dt_tustin, dt, label='Tustin')\n",
    "\n",
    "plt.xlabel('Time (seconds)')\n",
    "plt.ylabel('Response')\n",
    "plt.title('Step Response of Discretized Systems')\n",
    "plt.legend()\n",
    "plt.grid(True)\n",
    "plt.show()"
   ]
  },
  {
   "cell_type": "markdown",
   "metadata": {},
   "source": [
    "### Conclusion Exercise 2\n",
    "\n",
    "In this exercise, we simulated and compared the step responses of systems discretized using Euler Forward, Euler Backward, and Tustin’s methods. A key observation was the unstable step response exhibited by the Euler Forward method, contrasting with the stable responses of the Euler Backward and Tustin methods. This highlights the importance of method selection in system discretization, particularly in scenarios where stability is a critical factor. The exercise demonstrated that while Euler Forward is simple and efficient, it might compromise stability, making Euler Backward and Tustin preferable for certain applications."
   ]
  },
  {
   "cell_type": "markdown",
   "metadata": {},
   "source": [
    "--------\n",
    "## Exercise 3: Performance Analysis under Varying Time Steps\n",
    "\n",
    "Objective: Evaluate how the choice of time step affects the performance of each discretization method.\n",
    "\n",
    "Tasks:\n",
    "\n",
    "\t1.Vary the time step (e.g., dt = 0.75, 0.5).\n",
    "\t2.Simulate the step response for each case.\n",
    "\t3.Plot the responses for different time steps and compare how each method reacts to changes in the time step.\n",
    "\t4.Find the biggest time step that makes the system become stable for all approximation methods.\n",
    "\t5.Why does it make sense that the system becomes stable for all approximation methods with a smaller time step?"
   ]
  },
  {
   "cell_type": "markdown",
   "metadata": {},
   "source": [
    "### Conclusion Exercise 3"
   ]
  },
  {
   "cell_type": "markdown",
   "metadata": {},
   "source": [
    "In this exercise, we investigated the effect of varying the time step *dt* on the stability of a system discretized using different methods. Our analysis revealed that the largest time step at which the system remains stable is *dt=0.55*. This observation is pivotal in understanding the dynamics of discretization methods and their relationship with time step size.\n",
    "\n",
    "The key takeaway here is the significance of the time step in determining the accuracy and stability of the discretized system. Smaller time steps lead to a system behavior that more closely approximates the original continuous-time system. Remember, system1 is stable in continuous time. This is because, with smaller increments, the discrete model captures the system's dynamics more frequently, hence providing a finer and more accurate representation of the continuous process. In essence, as the time step decreases, the discretized system converges towards the behavior of the continuous system, thereby enhancing stability.\n",
    "\n",
    "Therefore, it makes sense that reducing the time step size would result in a more stable system for all discretization methods, including euler forward. This understanding is crucial when designing digital control systems or simulations, where the choice of time step can significantly impact the system's performance and reliability. The exercise underscores the delicate balance between computational efficiency (favoring larger time steps) and system fidelity (favoring smaller time steps), guiding us towards making informed decisions in system design and analysis."
   ]
  },
  {
   "cell_type": "markdown",
   "metadata": {},
   "source": [
    "## Exercise 4: Trying out different Systems\n",
    "\n",
    "Objective: Reapeating the first three exercises and seeing different cases.\n",
    "\n",
    "Tasks:\n",
    "\n",
    "\t1. Change system1 to system2 in the console cell\n",
    "\t2. Repeat exercises 1-3 with the new system\n",
    "\tOptional: You can also add your own system in the \"System Library\" and test it\n",
    "\n",
    "*Hint for creating your own system: Check that your system is observable, by calculating the observaibility matrix. A non observable system will not show you the \"true\" step response, since it is not displayable.*"
   ]
  },
  {
   "cell_type": "markdown",
   "metadata": {},
   "source": [
    "## Ende Paolo's Teil\n",
    "--------------"
   ]
  }
 ],
 "metadata": {
  "kernelspec": {
   "display_name": "Python 3",
   "language": "python",
   "name": "python3"
  },
  "language_info": {
   "codemirror_mode": {
    "name": "ipython",
    "version": 3
   },
   "file_extension": ".py",
   "mimetype": "text/x-python",
   "name": "python",
   "nbconvert_exporter": "python",
   "pygments_lexer": "ipython3",
   "version": "3.10.4"
  }
 },
 "nbformat": 4,
 "nbformat_minor": 2
}
