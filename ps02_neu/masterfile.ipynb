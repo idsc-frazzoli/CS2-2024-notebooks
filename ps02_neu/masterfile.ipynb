{
 "cells": [
  {
   "cell_type": "markdown",
   "metadata": {},
   "source": [
    "# Control Systems 2, Coding Exercise 02: Jupyter Notebook on Discretization and Emulation\n",
    "\n",
    "This Notebook is designed to teach you the effects of Discretization on continuous System with a focus on showing how different methods affect stability and how the sampling time can affect your System. This Notebook contains 3 Exercises and a Case Study that mostly serves as an example. We wish you a nice time when solving this Notebook.\n",
    "Authors:\n",
    "- Paolo Petri; ppetri@ethz.ch\n",
    "- Juncheng Fu; juncfu@ethz.ch\n",
    "- Niclas Scheuer; nscheuer@ethz.ch\n",
    "- Roy Werder; werderr@ethz.ch"
   ]
  },
  {
   "cell_type": "markdown",
   "metadata": {},
   "source": [
    "# Setup:\n"
   ]
  },
  {
   "cell_type": "markdown",
   "metadata": {},
   "source": [
    "## Installing the required packages:\n",
    "The following piece of code will check wether the packages required for this Jupyter Notebook are installed. If they aren't yet installed it will automatically install them."
   ]
  },
  {
   "cell_type": "code",
   "execution_count": 1,
   "metadata": {},
   "outputs": [
    {
     "name": "stdout",
     "output_type": "stream",
     "text": [
      "Processing d:\\6cs2solutions\\cs2solutions\n",
      "  Installing build dependencies: started\n",
      "  Installing build dependencies: finished with status 'done'\n",
      "  Getting requirements to build wheel: started\n",
      "  Getting requirements to build wheel: finished with status 'done'\n",
      "  Installing backend dependencies: started\n",
      "  Installing backend dependencies: finished with status 'done'\n",
      "  Preparing metadata (pyproject.toml): started\n",
      "  Preparing metadata (pyproject.toml): finished with status 'done'\n",
      "Requirement already satisfied: control in c:\\users\\nicla\\appdata\\local\\packages\\pythonsoftwarefoundation.python.3.10_qbz5n2kfra8p0\\localcache\\local-packages\\python310\\site-packages (from cs2solutions==0.1.1) (0.9.4)\n",
      "Requirement already satisfied: matplotlib in c:\\users\\nicla\\appdata\\local\\packages\\pythonsoftwarefoundation.python.3.10_qbz5n2kfra8p0\\localcache\\local-packages\\python310\\site-packages (from cs2solutions==0.1.1) (3.8.3)\n",
      "Requirement already satisfied: numpy in c:\\users\\nicla\\appdata\\local\\packages\\pythonsoftwarefoundation.python.3.10_qbz5n2kfra8p0\\localcache\\local-packages\\python310\\site-packages (from cs2solutions==0.1.1) (1.26.4)\n",
      "Requirement already satisfied: scipy in c:\\users\\nicla\\appdata\\local\\packages\\pythonsoftwarefoundation.python.3.10_qbz5n2kfra8p0\\localcache\\local-packages\\python310\\site-packages (from cs2solutions==0.1.1) (1.12.0)\n",
      "Requirement already satisfied: contourpy>=1.0.1 in c:\\users\\nicla\\appdata\\local\\packages\\pythonsoftwarefoundation.python.3.10_qbz5n2kfra8p0\\localcache\\local-packages\\python310\\site-packages (from matplotlib->cs2solutions==0.1.1) (1.2.0)\n",
      "Requirement already satisfied: cycler>=0.10 in c:\\users\\nicla\\appdata\\local\\packages\\pythonsoftwarefoundation.python.3.10_qbz5n2kfra8p0\\localcache\\local-packages\\python310\\site-packages (from matplotlib->cs2solutions==0.1.1) (0.12.1)\n",
      "Requirement already satisfied: fonttools>=4.22.0 in c:\\users\\nicla\\appdata\\local\\packages\\pythonsoftwarefoundation.python.3.10_qbz5n2kfra8p0\\localcache\\local-packages\\python310\\site-packages (from matplotlib->cs2solutions==0.1.1) (4.49.0)\n",
      "Requirement already satisfied: kiwisolver>=1.3.1 in c:\\users\\nicla\\appdata\\local\\packages\\pythonsoftwarefoundation.python.3.10_qbz5n2kfra8p0\\localcache\\local-packages\\python310\\site-packages (from matplotlib->cs2solutions==0.1.1) (1.4.5)\n",
      "Requirement already satisfied: packaging>=20.0 in c:\\users\\nicla\\appdata\\local\\packages\\pythonsoftwarefoundation.python.3.10_qbz5n2kfra8p0\\localcache\\local-packages\\python310\\site-packages (from matplotlib->cs2solutions==0.1.1) (23.2)\n",
      "Requirement already satisfied: pillow>=8 in c:\\users\\nicla\\appdata\\local\\packages\\pythonsoftwarefoundation.python.3.10_qbz5n2kfra8p0\\localcache\\local-packages\\python310\\site-packages (from matplotlib->cs2solutions==0.1.1) (10.2.0)\n",
      "Requirement already satisfied: pyparsing>=2.3.1 in c:\\users\\nicla\\appdata\\local\\packages\\pythonsoftwarefoundation.python.3.10_qbz5n2kfra8p0\\localcache\\local-packages\\python310\\site-packages (from matplotlib->cs2solutions==0.1.1) (3.1.1)\n",
      "Requirement already satisfied: python-dateutil>=2.7 in c:\\users\\nicla\\appdata\\local\\packages\\pythonsoftwarefoundation.python.3.10_qbz5n2kfra8p0\\localcache\\local-packages\\python310\\site-packages (from matplotlib->cs2solutions==0.1.1) (2.8.2)\n",
      "Requirement already satisfied: six>=1.5 in c:\\users\\nicla\\appdata\\local\\packages\\pythonsoftwarefoundation.python.3.10_qbz5n2kfra8p0\\localcache\\local-packages\\python310\\site-packages (from python-dateutil>=2.7->matplotlib->cs2solutions==0.1.1) (1.16.0)\n",
      "Building wheels for collected packages: cs2solutions\n",
      "  Building wheel for cs2solutions (pyproject.toml): started\n",
      "  Building wheel for cs2solutions (pyproject.toml): finished with status 'done'\n",
      "  Created wheel for cs2solutions: filename=cs2solutions-0.1.1-py3-none-any.whl size=43781 sha256=b07534b04d13dbdf69067d66c98943d76be67fb980e8693a60c79f1773279e33\n",
      "  Stored in directory: C:\\Users\\nicla\\AppData\\Local\\Temp\\pip-ephem-wheel-cache-gddpf5e9\\wheels\\21\\ee\\98\\074b17d227cb7fde31b1824b00683a9687550cab62df37646f\n",
      "Successfully built cs2solutions\n",
      "Installing collected packages: cs2solutions\n",
      "  Attempting uninstall: cs2solutions\n",
      "    Found existing installation: cs2solutions 0.1.1\n",
      "    Uninstalling cs2solutions-0.1.1:\n",
      "      Successfully uninstalled cs2solutions-0.1.1\n",
      "Successfully installed cs2solutions-0.1.1\n",
      "Note: you may need to restart the kernel to use updated packages.\n"
     ]
    }
   ],
   "source": [
    "# %pip install numpy control scipy matplotlib\n",
    "%pip install D:\\6CS2Solutions\\cs2solutions"
   ]
  },
  {
   "cell_type": "markdown",
   "metadata": {},
   "source": [
    "## Import packages:\n",
    "The following piece of code will import the packages that will be used in the code. Take note of the chosen shortcuts. If you have no experience with the [NumPy](https://numpy.org/) library, read the documentation and do some tutorials. It is very important for matrix operations in Python."
   ]
  },
  {
   "cell_type": "code",
   "execution_count": 2,
   "metadata": {},
   "outputs": [],
   "source": [
    "from cs2solutions import discretization, morse\n",
    "\n",
    "#TODO: remove imports\n",
    "from typing import Optional, List, Tuple\n",
    "import numpy as np\n",
    "import matplotlib.pyplot as plt\n",
    "import control as ct\n",
    "from scipy import signal as sig\n",
    "from scipy.signal import butter, lfilter"
   ]
  },
  {
   "cell_type": "markdown",
   "metadata": {},
   "source": [
    "## Plotting functions:\n",
    "Plotting functions 'discretization.plot_helpers()', 'plot_step_responses(...)', 'plot_noise_signal(...)', and 'plot_disc_stepresponse(...)' are found in the imported _cs2solutions_ package. \n",
    "\n",
    "If you are using VSCode, you can right-click and select \"Go to definition (F12)\" to see the associated code. \n",
    "\n",
    "### Using \"Go to definition (F12)\" is also helpful if you are stuck with a code implementation."
   ]
  },
  {
   "cell_type": "markdown",
   "metadata": {},
   "source": [
    "## Duckiebot System Matrices\n",
    "This piece of Code defines the dynamics of the Duckiebot which shall be used as an example in question 1."
   ]
  },
  {
   "cell_type": "code",
   "execution_count": null,
   "metadata": {},
   "outputs": [],
   "source": [
    "# Save the system matrices for later use.\n",
    "A = np.array([[0, 0.1], [0, 0]])\n",
    "B = np.array([[0], [1]])\n",
    "C = np.array([[1, 0]])\n",
    "D = np.array([[0]])"
   ]
  },
  {
   "cell_type": "markdown",
   "metadata": {},
   "source": [
    "-------------------\n",
    "# Exercise 1"
   ]
  },
  {
   "cell_type": "markdown",
   "metadata": {},
   "source": [
    "## Exercise 1a:\n",
    "\n",
    "Now we'll see how the different discretization schemes affect the step response of the duckiebot controller. \n",
    "Hint:\n",
    "- You may use `sig.lti(...)` to create a continuous time system\n",
    "- You can discretize the system using `sig.cont2discrete((...), dt=..., method='...')`\n",
    "- If you are stuck, have a look at the [Scipy Documentation](https://docs.scipy.org/doc/scipy/reference/generated/scipy.signal.cont2discrete.html)\n",
    "- You can produce the values for a discretized step response using `sig.dstep`\n",
    "- To better visualize your System we advise you to terminate all functions at the same time-value\n"
   ]
  },
  {
   "cell_type": "code",
   "execution_count": null,
   "metadata": {},
   "outputs": [],
   "source": [
    "#TODO remove function definitions\n",
    "def continuous_step_response(A: np.array, B: np.array, C:np.array, D:np.array) -> Tuple[np.array, np.array]:\n",
    "    \n",
    "    #TODO: Implement the continuous step response.\n",
    "\n",
    "    # return the time and output vectors (as np.ndarray) of the step response.\n",
    "    sysc = sig.lti(A, B, C, D)\n",
    "\n",
    "    t_cont, y_cont = sysc.step(T = np.linspace(0, 25, 1000))\n",
    "    \n",
    "    return [t_cont, y_cont]\n",
    "\n",
    "def discrete_step_response_euler_forward(A: np.array, B: np.array, C:np.array, D:np.array, Ts: float) -> Tuple[np.array, np.array]:\n",
    "    \n",
    "    #TODO: Implement the discrete step response using the forward Euler discretization.\n",
    "\n",
    "    # return the time and output vectors (as np.ndarray) of the step response.\n",
    "    sysd_eulerf = sig.cont2discrete((A, B, C, D), Ts, method='euler')\n",
    "    t_eulerf, y_eulerf = sig.dstep(sysd_eulerf, t=np.arange(0, 25, Ts))\n",
    "    return [t_eulerf, y_eulerf]\n",
    "\n",
    "def discrete_step_response_euler_backward(A: np.array, B: np.array, C:np.array, D:np.array, Ts: float) -> Tuple[np.array, np.array]:\n",
    "    \n",
    "    #TODO: Implement the discrete step response using the backward Euler discretization.\n",
    "\n",
    "    # return the time and output vectors (as np.ndarray) of the step response.\n",
    "    sysd_eulerb = sig.cont2discrete((A, B, C, D), Ts, method='backward_diff')\n",
    "    t_eulerb, y_eulerb = sig.dstep(sysd_eulerb, t=np.arange(0, 25, Ts))\n",
    "    return [t_eulerb, y_eulerb]\n",
    "\n",
    "def discrete_step_response_tustin(A: np.array, B: np.array, C:np.array, D:np.array, Ts: float) -> Tuple[np.array, np.array]:\n",
    "    \n",
    "    #TODO: Implement the discrete step response using the Tustin discretization.\n",
    "\n",
    "    # return the time and output vectors (as np.ndarray) of the step response.\n",
    "    sysd_tust = sig.cont2discrete((A, B, C, D), Ts, method='bilinear')\n",
    "    t_tust, y_tust = sig.dstep(sysd_tust, t=np.arange(0, 25, Ts))\n",
    "    return [t_tust, y_tust]\n",
    "\n",
    "def discrete_step_response_zoh(A: np.array, B: np.array, C:np.array, D:np.array, Ts: float) -> Tuple[np.array, np.array]:\n",
    "    \n",
    "    #TODO: Implement the discrete step response using the Zero Order Hold discretization.\n",
    "\n",
    "    # return the time and output vectors (as np.ndarray) of the step response.\n",
    "    sysd_zoh = sig.cont2discrete((A, B, C, D), Ts, method='zoh')\n",
    "    t_zoh, y_zoh = sig.dstep(sysd_zoh, t=np.arange(0, 25, Ts))\n",
    "    return [t_zoh, y_zoh]"
   ]
  },
  {
   "cell_type": "code",
   "execution_count": null,
   "metadata": {},
   "outputs": [],
   "source": [
    "# If you are stuck, check the solution in the discretization module.\n",
    "[t_cont, y_cont] = discretization.cont_solution(A, B, C, D)\n",
    "[t_eulerf, y_eulerf, t_eulerb, y_eulerb, t_tust, y_tust, t_zoh, y_zoh] = discretization.disc_solution(A, B, C, D, 0.1)\n",
    "\n",
    "# Right-click on the solution function and go to 'Go to Definition' to see the solution code.\n",
    "# Otherwise use the following link:"
   ]
  },
  {
   "cell_type": "markdown",
   "metadata": {},
   "source": [
    "## Exercise 1a: Test your code:\n",
    "Set the Use_User_Implementation variable to True if you want to test your own implementation. However, it is currently set to False to prevent an error from occuring."
   ]
  },
  {
   "cell_type": "code",
   "execution_count": null,
   "metadata": {},
   "outputs": [],
   "source": [
    "def test_user_implementations(): \n",
    "    \"\"\"\n",
    "    Test the user's implementation of the step response functions.\n",
    "\n",
    "    This function tests the user's implementation of the continuous and discrete step response functions.\n",
    "    It calls the continuous_step_response and various discrete_step_response functions with different methods,\n",
    "    and plots the step responses using the plot_disc_stepresponses function.\n",
    "\n",
    "    Parameters:\n",
    "     - None\n",
    "\n",
    "    Returns:\n",
    "     - None\n",
    "    \"\"\"\n",
    "\n",
    "    # Define the sampling time. Feel free to play around with this value.\n",
    "    Ts = 2 \n",
    "\n",
    "    # Test the user's implementation. \n",
    "    t_cont, y_cont = continuous_step_response(A, B, C, D)\n",
    "    t_eulerf, y_eulerf = discrete_step_response_euler_forward(A, B, C, D, Ts)\n",
    "    t_eulerb, y_eulerb = discrete_step_response_euler_backward(A, B, C, D, Ts)\n",
    "    t_tust, y_tust = discrete_step_response_tustin(A, B, C, D, Ts)\n",
    "    t_zoh, y_zoh = discrete_step_response_zoh(A, B, C, D, Ts)\n",
    "\n",
    "    # Plot the step responses.\n",
    "    discretization.plot_disc_stepresponses(t_cont, y_cont, t_eulerf, y_eulerf, t_eulerb, y_eulerb, t_tust, y_tust, t_zoh, y_zoh, Ts)\n",
    "\n",
    "    return None\n",
    "    \n",
    "#TODO remove True\n",
    "Use_User_Implementations = True\n",
    "if Use_User_Implementations:\n",
    "    test_user_implementations()\n",
    "else:\n",
    "    print(\"The user's implementations are not being used. Set the Use_User_Implementations variable to True to use the user's implementations.\")"
   ]
  },
  {
   "cell_type": "markdown",
   "metadata": {},
   "source": [
    "## Solution Plots Exercise 1a:"
   ]
  },
  {
   "cell_type": "code",
   "execution_count": null,
   "metadata": {},
   "outputs": [],
   "source": [
    "Ts=2\n",
    "\n",
    "# Call for the solutions and store them.\n",
    "[t_cont_sol, y_cont_sol] = discretization.cont_solution(A, B, C, D)\n",
    "[t_eulerf_sol, y_eulerf_sol, t_eulerb_sol, y_eulerb_sol, t_tust_sol, y_tust_sol, t_zoh_sol, y_zoh_sol] = discretization.disc_solution(A, B, C, D, Ts)\n",
    "\n",
    "# Plot the step responses.\n",
    "discretization.plot_disc_stepresponses(t_cont_sol, y_cont_sol, t_eulerf_sol, y_eulerf_sol, t_eulerb_sol, y_eulerb_sol, t_tust_sol, y_tust_sol, t_zoh_sol, y_zoh_sol, Ts)"
   ]
  },
  {
   "cell_type": "markdown",
   "metadata": {},
   "source": [
    "##\n",
    "Interpret the result (Hint: To see the differences between the different discretizations more clearly, increase `Ts` (more on this in the second part)):\n",
    "\n",
    "- Which discretization method is closest to the continuous system?\n",
    "- Why do all the plots diverge?\n",
    "- Can you show the basic idea behind Zero-Order-Hold in this graph?\n"
   ]
  },
  {
   "cell_type": "markdown",
   "metadata": {},
   "source": [
    "-----\n",
    "Since all of the above step responses diverge, we are unable to demonstrate that the different discretizations can make a stable system unstable. To remedy this we place poles at desired locations via the [Ackermann Formula](https://en.wikipedia.org/wiki/Ackermann%27s_formula#Ackermann's_formula)."
   ]
  },
  {
   "cell_type": "code",
   "execution_count": null,
   "metadata": {},
   "outputs": [],
   "source": [
    "#TODO add links"
   ]
  },
  {
   "cell_type": "markdown",
   "metadata": {},
   "source": [
    "## Exercise 1b:\n",
    "\n",
    "In this exercise you will:\n",
    "- Try to make all the discretizations stable via changing the desired poles `p_des`.\n",
    "- Try to make all the discretizations stable via changing the `Ts`.\n",
    "\n",
    "Notes: \n",
    "- The function as is will not run. To make it run, change the Use_User_Implementation variable to True.\n",
    "- To start off with, not all the step responses are stable.\n",
    "- We will reuse the functions defined in 1a. If you couldn't solve them, use `cont_solution` and `disc_solution` where indicated."
   ]
  },
  {
   "cell_type": "code",
   "execution_count": null,
   "metadata": {},
   "outputs": [],
   "source": [
    "# Choose your desired poles. Feel free to play around with them.\n",
    "p_des = [-0.5+3j, -0.5-3j]   \n",
    "\n",
    "# Define the sampling time. Feel free to play around with this value.\n",
    "Ts=0.25\n",
    "\n",
    "# Update the pole locations using the Ackermann formula.\n",
    "clsys_p = discretization.place_poles_Ackermann(A=A, B=B, C=C, D=0,\n",
    "                                        poles=p_des)\n",
    "t_p, y_p = ct.step_response(clsys_p, input=0, output=0)\n",
    "A_stable = clsys_p.A\n",
    "B_stable = clsys_p.B\n",
    "C_stable = clsys_p.C\n",
    "D_stable = clsys_p.D\n",
    "\n",
    "Use_User_Implementations = True\n",
    "if Use_User_Implementations:\n",
    "     t_stable_cont, y_stable_cont = continuous_step_response(A_stable, B_stable, C_stable, D_stable)\n",
    "     t_stable_eulerf, y_stable_eulerf = discrete_step_response_euler_forward(A_stable, B_stable, C_stable, D_stable, Ts)\n",
    "     t_stable_eulerb, y_stable_eulerb = discrete_step_response_euler_backward(A_stable, B_stable, C_stable, D_stable, Ts)\n",
    "     t_stable_tust, y_stable_tust = discrete_step_response_tustin(A_stable, B_stable, C_stable, D_stable, Ts)\n",
    "     t_stable_zoh, y_stable_zoh = discrete_step_response_zoh(A_stable, B_stable, C_stable, D_stable, Ts)\n",
    "else:\n",
    "    print(\"The user's implementations are not being used. Set the Use_User_Implementations variable to True to use the user's implementations.\")\n",
    "    [t_stable_cont, y_stable_cont] = discretization.cont_solution(A_stable, B_stable, C_stable, D_stable)\n",
    "    [t_stable_eulerf, y_stable_eulerf, t_stable_eulerb, y_stable_eulerb, t_stable_tust, y_stable_tust, t_stable_zoh, y_stable_zoh] = discretization.disc_solution(A_stable, B_stable, C_stable, D_stable, Ts)\n",
    "\n",
    "# Package the values for plotting\n",
    "values_to_plot = [t_stable_cont, np.squeeze(y_stable_cont),\n",
    "                    t_stable_eulerf, np.squeeze(y_stable_eulerf),\n",
    "                    t_stable_eulerb, np.squeeze(y_stable_eulerb),\n",
    "                    t_stable_tust, np.squeeze(y_stable_tust),\n",
    "                    t_stable_zoh, np.squeeze(y_stable_zoh)]\n",
    "\n",
    "# Plot the step responses.\n",
    "discretization.plot_step_responses(*values_to_plot)"
   ]
  },
  {
   "cell_type": "markdown",
   "metadata": {},
   "source": [
    "Interpret your findings with respect to the following questions:\n",
    "\n",
    "- Which of these graphs follows the contiunous system the closest?\n",
    "- Does that change when you decrease or increase Ts?\n",
    "- Why does that happen?\n",
    "- For the default poles, what is the limit for Ts such that no discretization diverges?\n",
    "- What happens when the poles are outside the unit circle? What happens when they are on it?"
   ]
  },
  {
   "cell_type": "markdown",
   "metadata": {},
   "source": [
    "----------------\n",
    "# Introduction to the second part of the Notebook\n",
    "\n",
    "In the realm of digital control and signal processing, the choice of time step (dt) for system discretization is a critical decision that can significantly affect system performance and stability. Different discretization methods may react uniquely to changes in the time step, leading to variations in the system's behavior and response to inputs. This exercise is designed to delve into this aspect by systematically analyzing how varying the time step influences the performance of different discretization methods applied to a given system.\n",
    "\n",
    "The primary goal is to uncover the relationship between the time step size and the resulting system stability and performance. By varying the time step and observing the corresponding step responses, we aim to identify the largest time step at which the system remains stable across all considered discretization methods. This exercise not only enhances our understanding of discretization effects but also guides the optimal selection of time steps in practical applications, ensuring both system stability and computational efficiency.\n",
    "\n",
    "Through a combination of simulation and analysis, this exercise will equip participants with the insights needed to make informed decisions regarding time step selection in the discretization process, ultimately leading to more robust and reliable digital control systems."
   ]
  },
  {
   "cell_type": "markdown",
   "metadata": {},
   "source": [
    "## System Library\n",
    "\n",
    "In here you will find different systems that show the advantages and disadvantages for the three discretization methods."
   ]
  },
  {
   "cell_type": "code",
   "execution_count": null,
   "metadata": {},
   "outputs": [],
   "source": [
    "def create_system1() -> ct.StateSpace:\n",
    "    A = np.array([[-1, -1],\n",
    "                  [2, -0.25]])\n",
    "    B = np.array([[1],\n",
    "                  [1]])\n",
    "    C = np.array([[1, 1]])\n",
    "    D = np.array([[0]])\n",
    "    return ct.StateSpace(A, B, C, D)\n",
    "\n",
    "# Feel free to define your own system here.\n",
    "def create_system2() -> ct.StateSpace:\n",
    "    A = np.array([[0, 0],\n",
    "                  [0, 0]])\n",
    "    B = np.array([[0],\n",
    "                  [0]])\n",
    "    C = np.array([[0, 0]])\n",
    "    D = np.array([[0]])\n",
    "    return ct.StateSpace(A, B, C, D)\n",
    "\n",
    "# Create the systems.\n",
    "system1 = create_system1()\n",
    "system2 = create_system2()"
   ]
  },
  {
   "cell_type": "markdown",
   "metadata": {},
   "source": [
    "-------\n",
    "## Descretization Methods\n",
    "\n",
    "You can later return here if you would like to understand the code in depth. These functions define the manual way of discretization as compared to the inbuilt functions seen in exercise 1."
   ]
  },
  {
   "cell_type": "code",
   "execution_count": null,
   "metadata": {},
   "outputs": [],
   "source": [
    "#TODO add permanent link"
   ]
  },
  {
   "cell_type": "markdown",
   "metadata": {},
   "source": [
    "-------\n",
    "## Exercise: Performance Analysis under Varying Time Steps\n",
    "\n",
    "Objective: Evaluate how the choice of time step affects the performance of each discretization method.\n",
    "\n",
    "Tasks:\n",
    "\n",
    "\t1. Take a look at the System Library above and check system1 which we are discretizing. Also, check the poles on the complex plane as well as the step response.\n",
    "\t2. Vary the time step (e.g., dt = 0.75, 0.5) in the console. Plot the responses for different time steps and compare how each method reacts to changes in the time step.\n",
    "\t3. Find the biggest time step that makes the system become stable for all approximation methods.\n",
    "\t4. Why does it make sense that the system becomes stable for all approximation methods with a smaller time step?"
   ]
  },
  {
   "cell_type": "markdown",
   "metadata": {},
   "source": [
    "### Console\n",
    "\n",
    "This is where you change your system (eg. system1, system2) and vary the step time."
   ]
  },
  {
   "cell_type": "code",
   "execution_count": null,
   "metadata": {},
   "outputs": [],
   "source": [
    "# Time step for discretization.\n",
    "dt =  1.0\n",
    "\n",
    "# Calls the chosen system.\n",
    "test = system1 # system1 or system2"
   ]
  },
  {
   "cell_type": "markdown",
   "metadata": {},
   "source": [
    "### Discrete Poles on the Complex Plane\n",
    "\n",
    "Below you will all the poles printed as well plotted on the complex plane. Remember that in descrete time a system is stable when the magnetude of all the eigenvalues (poles) is smaller than one."
   ]
  },
  {
   "cell_type": "code",
   "execution_count": null,
   "metadata": {},
   "outputs": [],
   "source": [
    "# eigenvalues in continuous time for comparison.\n",
    "print(\"Eigenvalues of continous system:\")\n",
    "print(np.linalg.eigvals(test.A))\n",
    "print(\"\\n\")\n",
    "\n",
    "\n",
    "dt_forward, dt_backward, dt_tustin = discretization.discretize(test, dt)\n",
    "discretization.plot_table(dt_forward, dt_backward, dt_tustin)"
   ]
  },
  {
   "cell_type": "markdown",
   "metadata": {},
   "source": [
    "### Insights from the Complex Plane\n",
    "\n",
    "By employing Euler forward, Euler backward, and Tustin’s methods to discretize the system for a given time step (dt = 1 second), we could observe the distinct impacts these methods have on system stability.\n",
    "\n",
    "The eigenvalues of the discretized systems were calculated and visually plotted on the complex plane. This visualization, facilitated by the unit circle on the plot, was instrumental in determining the stability of the systems. Systems with eigenvalues lying inside the unit circle are deemed stable in the discrete-time domain.\n",
    "\n",
    "A key observation from the complex plane is the critical role of the discretization method in system stability. Notably, the Euler Forward method often presents a risk of making a stable continuous-time system unstable in the discrete-time domain. This is particularly true for systems with eigenvalues close to the stability boundary. Therefore, careful consideration is required when selecting this method, underscoring the need for a rigorous stability check post-discretization.\n",
    "\n",
    "This analysis highlights the importance of not only choosing the appropriate discretization method but also thoroughly checking the resulting system's stability, especially when employing the Euler Forward method. Such diligence is crucial in ensuring the reliability and accuracy of digital control systems, particularly in applications where precise control and stability are paramount."
   ]
  },
  {
   "cell_type": "markdown",
   "metadata": {},
   "source": [
    "### Simulating the Step Response of the Discretized Systems"
   ]
  },
  {
   "cell_type": "code",
   "execution_count": null,
   "metadata": {},
   "outputs": [],
   "source": [
    "plt.figure(figsize=(10, 6))\n",
    "\n",
    "# Simulate step response for each method\n",
    "discretization.simulate_step_response(dt_forward, dt, label='Euler Forward')\n",
    "discretization.simulate_step_response(dt_backward, dt, label='Euler Backward')\n",
    "discretization.simulate_step_response(dt_tustin, dt, label='Tustin')\n",
    "\n",
    "plt.xlabel('Time (seconds)')\n",
    "plt.ylabel('Response')\n",
    "plt.title('Step Response of Discretized Systems')\n",
    "plt.legend()\n",
    "plt.grid(True)\n",
    "plt.show()"
   ]
  },
  {
   "cell_type": "markdown",
   "metadata": {},
   "source": [
    "### Conclusion"
   ]
  },
  {
   "cell_type": "markdown",
   "metadata": {},
   "source": [
    "In this exercise, we investigated the effect of varying the time step *dt* on the stability of a system discretized using different methods. Our analysis revealed that the largest time step at which the system1 remains stable is *dt=0.55*. This observation is pivotal in understanding the dynamics of discretization methods and their relationship with time step size.\n",
    "\n",
    "The key takeaway here is the significance of the time step in determining the accuracy and stability of the discretized system. Smaller time steps lead to a system behavior that more closely approximates the original continuous-time system. Remember, system1 is stable in continuous time. This is because, with smaller increments, the discrete model captures the system's dynamics more frequently, hence providing a finer and more accurate representation of the continuous process. In essence, as the time step decreases, the discretized system converges towards the behavior of the continuous system, thereby enhancing stability.\n",
    "\n",
    "Thus, it makes sense that reducing the time step size would result in a more stable system for all discretization methods, including euler forward. This understanding is crucial when designing digital control systems or simulations, where the choice of time step can significantly impact the system's performance and reliability. The exercise underscores the delicate balance between computational efficiency (favoring larger time steps) and system fidelity (favoring smaller time steps), guiding us towards making informed decisions in system design and analysis."
   ]
  },
  {
   "cell_type": "markdown",
   "metadata": {},
   "source": [
    "## Optional Exercise: Trying out different Systems\n",
    "\n",
    "Objective: Reapeating the first three exercises and seeing different cases.\n",
    "\n",
    "Tasks:\n",
    "\n",
    "\t1. Create your own system in the system library.\n",
    "\t3. Change system1 to system2 in the console cell.\n",
    "\t2. Repeat this exercise with your system.\n",
    "\n",
    "*Hint for creating your own system: Check that your system is observable, by calculating the observability matrix. A non observable system will not show you the \"true\" step response, since it is not displayable.*"
   ]
  },
  {
   "cell_type": "markdown",
   "metadata": {},
   "source": [
    "-------------\n",
    "# __Case study:__ Morse Code in Analog and Digital signals <a id=\"casestudy\"></a>"
   ]
  },
  {
   "cell_type": "markdown",
   "metadata": {},
   "source": [
    "(Bold: __\"Key Component\"__ Italic: _Signal_)\n",
    "\n",
    "In the provided image, you can observe the structural overview of our case study. The analysis of the entire system involves dissecting two key components: the __\"Sender\"__ and the __\"Receiver.\"__\n",
    "\n",
    "The process begins with the __\"Sender\"__ inputting _\"Text messages\"_ as string data into the __\"Text to Morse Encryptor\"__. This encryptor transforms the text into a combination of _dots and dashes (Morse Code)_.\n",
    "\n",
    "Subsequently, the encrypted signal is transmitted to the __\"Analog Signal Generator\"__ via a __\"Communication Protocol\"__ that defines how dots and dashes should be portrayed as _\"ON\" and \"OFF\"_ signals, effectively simulating an analog signal. This signal, infused with _Randomized Noise_ from the environment, departs from the __\"Sender\"__ and is received by the __\"Receiver\"__.\n",
    "\n",
    "Upon reaching the __\"Receiver\"__, the signal undergoes a sequence of transformations. Initially, it traverses a __\"Low-Pass Filter\"__ to eliminate high-frequency noise. Following this, the signal is sampled by the __\"Analog-to-Digital Converter (ADC)\"__, marking the transition from _continuous-time_ to _discrete-time_. The sampled signal is then __normalized__ to 1 and 0, preparing it for processing by the __\"Signal Decoder\"__. The __\"Signal Decoder\"__, employing the same \"Communication Protocol\" as the __\"Sender\"__, decodes the signal back into _dots and dashes (Morse Code)_.\n",
    "\n",
    "In the final step, the _Morse Code_ is decrypted to reveal the original _\"Text message\"_, which is then visible to the __\"Receiver\"__. "
   ]
  },
  {
   "cell_type": "markdown",
   "metadata": {},
   "source": [
    "<img src=\"data:image/png;base64,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\">"
   ]
  },
  {
   "cell_type": "markdown",
   "metadata": {},
   "source": [
    "-----(This whole part about Morse code and Text conversion can be packed)\n",
    "### Necessary Functions for Morse Code and Text Conversion"
   ]
  },
  {
   "cell_type": "markdown",
   "metadata": {},
   "source": [
    "This Section includes the __\"Morse  Encryptor/Decryptor\"__ functions, please do not touch it!"
   ]
  },
  {
   "cell_type": "markdown",
   "metadata": {},
   "source": [
    "##### Morse code dictionary\n",
    "For a full list morse code characters see [here](https://morsecode.world/international/morse2.html)."
   ]
  },
  {
   "cell_type": "code",
   "execution_count": null,
   "metadata": {},
   "outputs": [],
   "source": [
    "#TODO Permalinks"
   ]
  },
  {
   "cell_type": "markdown",
   "metadata": {},
   "source": [
    "##### Text to Morse Encryptor (function)"
   ]
  },
  {
   "cell_type": "code",
   "execution_count": null,
   "metadata": {},
   "outputs": [],
   "source": []
  },
  {
   "cell_type": "markdown",
   "metadata": {},
   "source": [
    "##### Morse to Text Decryptor (function)"
   ]
  },
  {
   "cell_type": "code",
   "execution_count": null,
   "metadata": {},
   "outputs": [],
   "source": []
  },
  {
   "cell_type": "markdown",
   "metadata": {},
   "source": [
    "## __Sender__"
   ]
  },
  {
   "cell_type": "markdown",
   "metadata": {},
   "source": [
    "In this section, we simulate a message sender. Before everything, we need to define a __Communication(COM) Protocol__"
   ]
  },
  {
   "cell_type": "markdown",
   "metadata": {},
   "source": [
    "### _Communication Protocol_ (define COM Frequency)"
   ]
  },
  {
   "cell_type": "markdown",
   "metadata": {},
   "source": [
    "The __\"Morse Communication(COM) Frequency\"__ sets the minimum duration for the \"ON\" signal when simulating the analog signal. In simpler terms, it dictates the operational frequency of the __\"Analog Signal Generator\"__ and, consequently, establishes the data transfer rate."
   ]
  },
  {
   "cell_type": "code",
   "execution_count": 3,
   "metadata": {},
   "outputs": [],
   "source": [
    "# Morse communication Frequency in [Hz]. Feel free to change this value.\n",
    "MORSE_COM_FREQ = 5"
   ]
  },
  {
   "cell_type": "markdown",
   "metadata": {},
   "source": [
    "Then we define a standardized \"ON\" & \"OFF\" analog signal to represent the _Morse Code_\n",
    "\n",
    "\n",
    "- \".\": 1 Interval \"ON\" followed by 1 Interval \"OFF\"\n",
    "- \"-\": 2 Interval \"ON\" followed by 1 Interval \"OFF\"\n",
    "- \" \": 2 Interval \"OFF\""
   ]
  },
  {
   "cell_type": "markdown",
   "metadata": {},
   "source": [
    "<img src=\"data:image/jpeg;base64,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\">"
   ]
  },
  {
   "cell_type": "markdown",
   "metadata": {},
   "source": [
    "<img src=\"data:image/jpeg;base64,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\">"
   ]
  },
  {
   "cell_type": "markdown",
   "metadata": {},
   "source": [
    "<img src=\"data:image/jpeg;base64,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\">"
   ]
  },
  {
   "cell_type": "markdown",
   "metadata": {},
   "source": [
    "Since both the dot and the dash end in an \"OFF\" position and start in an \"ON\" position, any 2 wide space must contain a \"Space\". This allows us to improve data-transmission rates by shortening the length of \"Space\" to be 1."
   ]
  },
  {
   "cell_type": "markdown",
   "metadata": {},
   "source": [
    "Below are the __\"Analog Signal Generator\"__ & __\"Signal Decoder\"__ functions, please do not touch them!"
   ]
  },
  {
   "cell_type": "markdown",
   "metadata": {},
   "source": [
    "-----(All the (function) here below can be packed)\n",
    "#### Analog Signal Generator (function)"
   ]
  },
  {
   "cell_type": "code",
   "execution_count": null,
   "metadata": {},
   "outputs": [],
   "source": [
    "#TODO permalinks"
   ]
  },
  {
   "cell_type": "markdown",
   "metadata": {},
   "source": [
    "#### Signal Decoder (function)"
   ]
  },
  {
   "cell_type": "code",
   "execution_count": null,
   "metadata": {},
   "outputs": [],
   "source": []
  },
  {
   "cell_type": "markdown",
   "metadata": {},
   "source": [
    "-----(Don't pack this part of \"creating continues Time Array...\")\n",
    "#### Creating a Continues-Time Time Array for Plotting"
   ]
  },
  {
   "cell_type": "markdown",
   "metadata": {},
   "source": [
    "Do not touch it! "
   ]
  },
  {
   "cell_type": "code",
   "execution_count": 4,
   "metadata": {},
   "outputs": [],
   "source": [
    "\"\"\" \n",
    "We need a Time Array for us to keep track of the continuous analog signals.\n",
    "But in the computational world, there's no true continuous time domain.\n",
    "Everything is eventually in discrete time.\n",
    "\n",
    "So here we create a 1D-Array for continuous time plotting, \"Continues-Time Time Array\"\n",
    "this array will be very big and the time steps between each value will be so small,\n",
    "smaller than our Morse communication period, so it can be seen as \"continues\".\n",
    "\"\"\"\n",
    "\n",
    "# Do not change the code below if you don't know what you are doing!\n",
    "# Plotting START & END time in [s].\n",
    "T_CONT_START = 0\n",
    "T_CONT_END = 15\n",
    "\n",
    "\n",
    "# Continues Time domain plotting Data storage Frequency in [Hz].\n",
    "T_CONT_FREQ = 200\n",
    "# A calculation turns the frequency to the period in [s].\n",
    "T_CONT_PERIOD = 1/T_CONT_FREQ\n",
    "\n",
    "\n",
    "# Get the total time.\n",
    "Time_span = T_CONT_END - T_CONT_START\n",
    "# Calculate how many elements should be in the Continues Time plotting Data Array and force it to be int.\n",
    "t_steps = int (Time_span*T_CONT_FREQ)\n",
    "\n",
    "\n",
    "# Generate an Array for continuous time.\n",
    "T_CONT = np.linspace(T_CONT_START,T_CONT_END,t_steps + 1)"
   ]
  },
  {
   "cell_type": "markdown",
   "metadata": {},
   "source": [
    "### __Text Message (Input)__ (type your message in the code)"
   ]
  },
  {
   "cell_type": "code",
   "execution_count": 5,
   "metadata": {},
   "outputs": [],
   "source": [
    "# Message to send.\n",
    "TEXT_MESSAGE = \"I love CS 2\""
   ]
  },
  {
   "cell_type": "markdown",
   "metadata": {},
   "source": [
    "### __Text to Morse Encryptor__"
   ]
  },
  {
   "cell_type": "markdown",
   "metadata": {},
   "source": [
    "We feed the Text Message into the __\"Text to Morse Encryptor\"__ and turn it into _Morse Code_."
   ]
  },
  {
   "cell_type": "code",
   "execution_count": 7,
   "metadata": {},
   "outputs": [
    {
     "name": "stdout",
     "output_type": "stream",
     "text": [
      "..  .-.. --- ...- .  -.-. ...  ..--- \n"
     ]
    }
   ],
   "source": [
    "# Morse Code Encryption.\n",
    "MORSE_CODE_TO_SEND = morse.encrypt(TEXT_MESSAGE.upper())\n",
    "print(MORSE_CODE_TO_SEND)"
   ]
  },
  {
   "cell_type": "markdown",
   "metadata": {},
   "source": [
    "### __Analog Signal Generator__"
   ]
  },
  {
   "cell_type": "markdown",
   "metadata": {},
   "source": [
    "We feed the _Morse Code_ into the __\"Analog Signal Generator\"__. Following the _Communication Protocol_, it generates our _Analog Signal_ to be transmitted."
   ]
  },
  {
   "cell_type": "code",
   "execution_count": 8,
   "metadata": {},
   "outputs": [
    {
     "name": "stdout",
     "output_type": "stream",
     "text": [
      "COM Protocol:\n",
      "\".\": 1 Period ON & 1 OFF\n",
      "\"-\": 2 ON & 1 OFF\n",
      "\" \": 2 OFF \n",
      "\n",
      "MORSE_CODE_TO_SEND:\n",
      "..  .-.. --- ...- .  -.-. ...  ..--- \n"
     ]
    },
    {
     "data": {
      "image/png": "[encoded data removed]",
      "text/plain": [
       "<Figure size 640x480 with 1 Axes>"
      ]
     },
     "metadata": {},
     "output_type": "display_data"
    }
   ],
   "source": [
    "# We defined the code to signal function above in the communication protocol section.\n",
    "# Morse code to Analog signals\n",
    "CONT_Morse_Signal_Send = morse.code_to_signal(T_CONT,MORSE_CODE_TO_SEND,MORSE_COM_FREQ)\n",
    "\n",
    "\n",
    "print(\"COM Protocol:\")\n",
    "print('\".\": 1 Period ON & 1 OFF')\n",
    "print('\"-\": 2 ON & 1 OFF')\n",
    "print('\" \": 2 OFF','\\n')\n",
    "\n",
    "print(\"MORSE_CODE_TO_SEND:\")\n",
    "print(MORSE_CODE_TO_SEND)\n",
    "\n",
    "\n",
    "# Plot out the continuous signal\n",
    "fig, ax = plt.subplots()\n",
    "ax.plot(T_CONT,CONT_Morse_Signal_Send)\n",
    "ax.set_title(\"(Continues)Analog Signal from Sender\")\n",
    "ax.set(xlim=(T_CONT_START,T_CONT_END),\n",
    "       xticks=np.arange(T_CONT_START, T_CONT_END),\n",
    "       ylim=(-0.5, 2),\n",
    "       yticks=np.arange(-1, 2))\n",
    "plt.xlabel('Time (s)')\n",
    "plt.ylabel('Amplitude')\n",
    "plt.show()"
   ]
  },
  {
   "cell_type": "markdown",
   "metadata": {},
   "source": [
    "## __Transmission and introduction of noise__"
   ]
  },
  {
   "cell_type": "markdown",
   "metadata": {},
   "source": [
    "In this section, we generate a randomized signal as _Noise_ and add it with the clean analog signal that leaves the __\"Sender\"__ to better simulate a real noisy world."
   ]
  },
  {
   "cell_type": "code",
   "execution_count": 9,
   "metadata": {},
   "outputs": [
    {
     "ename": "AttributeError",
     "evalue": "module 'cs2solutions.morse' has no attribute 'plot_noise_signal'",
     "output_type": "error",
     "traceback": [
      "\u001b[1;31m---------------------------------------------------------------------------\u001b[0m",
      "\u001b[1;31mAttributeError\u001b[0m                            Traceback (most recent call last)",
      "Cell \u001b[1;32mIn[9], line 10\u001b[0m\n\u001b[0;32m      6\u001b[0m CONT_Morse_Signal_w_noise \u001b[38;5;241m=\u001b[39m CONT_Morse_Signal_Send \u001b[38;5;241m+\u001b[39m Randomized_Noise\n\u001b[0;32m      9\u001b[0m \u001b[38;5;66;03m# Visualize the Noise signal\u001b[39;00m\n\u001b[1;32m---> 10\u001b[0m \u001b[43mmorse\u001b[49m\u001b[38;5;241;43m.\u001b[39;49m\u001b[43mplot_noise_signal\u001b[49m(T_CONT,Randomized_Noise,T_CONT_START,T_CONT_END)\n\u001b[0;32m     13\u001b[0m \u001b[38;5;66;03m# Plot out the continuous signal with noise introduced\u001b[39;00m\n\u001b[0;32m     14\u001b[0m plt\u001b[38;5;241m.\u001b[39mfigure(figsize\u001b[38;5;241m=\u001b[39m(\u001b[38;5;241m10\u001b[39m, \u001b[38;5;241m6\u001b[39m))\n",
      "\u001b[1;31mAttributeError\u001b[0m: module 'cs2solutions.morse' has no attribute 'plot_noise_signal'"
     ]
    }
   ],
   "source": [
    "# Using np.random to generate random value as Noise\n",
    "Randomized_Noise = 0.5 * np.random.normal(size=len(T_CONT))\n",
    "\n",
    "\n",
    "# Add the Noise with the clean Signal from Sender\n",
    "CONT_Morse_Signal_w_noise = CONT_Morse_Signal_Send + Randomized_Noise\n",
    "\n",
    "\n",
    "# Visualize the Noise signal\n",
    "morse.plot_noise_signal(T_CONT,Randomized_Noise,T_CONT_START,T_CONT_END)\n",
    "\n",
    "\n",
    "# Plot out the continuous signal with noise introduced\n",
    "plt.figure(figsize=(10, 6))\n",
    "plt.title(\"(Continuous)Analog Morse Signal with Noise\")\n",
    "plt.axhline(y=1, color='g', linestyle='--')\n",
    "plt.axhline(y=0, color='g', linestyle='--')\n",
    "plt.plot(T_CONT, CONT_Morse_Signal_w_noise)\n",
    "# Uncomment the line below to see the original signal without noise\n",
    "# plt.plot(T_CONT, CONT_Morse_Signal_Send, color='y')\n",
    "plt.xticks(np.arange(T_CONT_START, T_CONT_END))\n",
    "plt.xlabel('Time (s)')\n",
    "plt.ylabel('Amplitude')\n",
    "plt.show()"
   ]
  },
  {
   "cell_type": "markdown",
   "metadata": {},
   "source": [
    "## __Receiver__\n",
    "\n",
    "In this section, we simulate a message receiver. From picking up the analog signal to processing it and finally giving out a message output."
   ]
  },
  {
   "cell_type": "markdown",
   "metadata": {},
   "source": [
    "### __Low-Pass Filter (Anti-Aliasing Analog filter)__\n",
    "When the signal is picked up by the Receiver, it first has to go through a Low-Pass Filter to clean up some of the high-frequency noise."
   ]
  },
  {
   "cell_type": "markdown",
   "metadata": {},
   "source": [
    "-----(This (function) can be packed as well)\n",
    "#### _Low-Pass Filter (function)_\n",
    "We define a low-pass filter and try to filter out some high-frequency random noise mixed in the signal before we sample it. To do this we used a scipy package filter named \"butter\""
   ]
  },
  {
   "cell_type": "code",
   "execution_count": null,
   "metadata": {},
   "outputs": [],
   "source": [
    "def butter_lowpass_filter(data: np.array,\n",
    "                          cutoff_frequency: float,\n",
    "                          sampling_frequency: float,\n",
    "                          order: int) -> np.array:\n",
    "    \"\"\"\n",
    "    Apply a low-pass Butterworth filter to the input signal data.\n",
    "    \n",
    "    Parameters:\n",
    "    - ``data`` (np.array): 1D array of signal values.\n",
    "    - ``cutoff_frequency`` (float): Cutoff frequency of the filter.\n",
    "    - ``sampling_frequency`` (float): Sampling frequency of the data.\n",
    "    - ``order`` (int): Order of the low-pass transfer function.\n",
    "    \n",
    "    Returns:\n",
    "    - ``filtered_data`` (np.array): 1D array of filtered signal values.\n",
    "    \"\"\"\n",
    "    nyquist = 0.5 * sampling_frequency\n",
    "    normal_cutoff = cutoff_frequency / nyquist\n",
    "    b, a = butter(order, normal_cutoff, btype='low', analog=False)\n",
    "    # Apply the filter to the signal.\n",
    "    filtered_data = lfilter(b, a, data)\n",
    "    return filtered_data\n"
   ]
  },
  {
   "cell_type": "markdown",
   "metadata": {},
   "source": [
    "#### __Low-Pass Filter__ (define cutoff frequency)"
   ]
  },
  {
   "cell_type": "code",
   "execution_count": null,
   "metadata": {},
   "outputs": [],
   "source": [
    "# Set the cutoff frequency for the low-pass filter. Adjust this based on your requirements.\n",
    "CUTOFF_FREQ = 7  \n",
    "\n",
    "\n",
    "# Apply the low-pass filter.\n",
    "after_low_pass = butter_lowpass_filter(CONT_Morse_Signal_w_noise, \n",
    "                                       CUTOFF_FREQ, \n",
    "                                       T_CONT_FREQ, \n",
    "                                       4)\n",
    "\n",
    "# Plot out the continuous signal with noise introduced and compare it with the signal that is after low-Pass filter.\n",
    "plt.figure(figsize=(10, 6))\n",
    "plt.axhline(y=0, color='g', linestyle='--')\n",
    "plt.axhline(y=1, color='g', linestyle='--')\n",
    "plt.title(\"(Continues)Analog Morse Signal with Noise before & after Low-Pass\")\n",
    "plt.plot(T_CONT, CONT_Morse_Signal_w_noise, label='Before Low-Pass')\n",
    "plt.plot(T_CONT, after_low_pass, 'r' ,label='After Low-Pass')\n",
    "plt.xticks(np.arange(T_CONT_START, T_CONT_END))\n",
    "plt.xlabel('Time (s)')\n",
    "plt.ylabel('Amplitude')\n",
    "plt.legend()\n",
    "plt.show()"
   ]
  },
  {
   "cell_type": "markdown",
   "metadata": {},
   "source": [
    "We can see the improvement if we tune the Low-Pass Filter right. From here, we can recognize roughly the \"Dot\" and \"Dash\", which were represented by long and short signals.  "
   ]
  },
  {
   "cell_type": "markdown",
   "metadata": {},
   "source": [
    "### __Analog to Digital Converter (ADC)__\n",
    "After we filter out some noise signals, they can then be sampled by the ADC and turn the continuous signal into discrete signal data."
   ]
  },
  {
   "cell_type": "markdown",
   "metadata": {},
   "source": [
    "-----(This ADC(Function) can be packed)\n",
    "#### _ADC (function)_\n",
    "This Section defines our ADC function. Notice that the output Discrete-Time 1D-Array is typically smaller than the input Continues-Time Arrays. "
   ]
  },
  {
   "cell_type": "code",
   "execution_count": null,
   "metadata": {},
   "outputs": [],
   "source": [
    "def analog_digital_converter(t_cont: np.array,\n",
    "                             cont_signal: np.array,\n",
    "                             freq: float,\n",
    "                             t_or_s: str) -> np.array:\n",
    "    \"\"\"\n",
    "    This function selectively picks the data points from the continuous data array to simulate signal sampling.\n",
    "    \n",
    "    Parameters:\n",
    "    - ``t_cont`` (np.array): Continues-Time Time Array.\n",
    "    - ``cont_signal`` (np.array): Continues-Time Signal Value Array.\n",
    "    - ``freq`` (float): ADC Sampling Frequency.\n",
    "    - ``t_or_s`` (str): Array generator selector. 't' to generate a Discrete-Time Time Array, 's' to generate a Discrete-Time Signal Value Array.\n",
    "    \n",
    "    Returns:\n",
    "    - ``t_dis`` OR ``dis_signal`` (np.array): Discrete-Time Time Array or Discrete-Time Signal Value Array, depending on the value of t_or_s.\n",
    "    \"\"\"\n",
    "    \n",
    "    # Converting the Sampling frequency to the sampling period.\n",
    "    period = 1/freq\n",
    " \n",
    "    # Initialize an empty array to store the time data for discrete time.\n",
    "    t_dis = np.zeros(t_cont.size)\n",
    "    dis_signal = np.zeros(t_cont.size)\n",
    " \n",
    "    i = 0\n",
    "    p = 0\n",
    "    e = 0\n",
    " \n",
    "    # Check if the element index is still in the range of the time array.\n",
    "    while i < len(t_cont)-1:\n",
    "        \n",
    "        # Collect data from continuous time and write it to the sensor data array.\n",
    "        t_dis[e] = t_cont[i]\n",
    "        dis_signal[e] = cont_signal[i]\n",
    "        \n",
    "        # Move to the next element in the sensor data.\n",
    "        e += 1\n",
    "        \n",
    "        # Keep skipping the time till the next time to be sampled by the sensor.\n",
    "        # While checking if the element is still in range.\n",
    "        while (t_cont[i] < t_cont[p] + period) and (i < len(t_cont)-1):\n",
    "            i += 1\n",
    "        # We skipped a period in continuous time, now it is time to collect data.\n",
    "        p = i\n",
    "    \n",
    "    # If dis_time wanted, return dis_time array.\n",
    "    if t_or_s == \"t\":\n",
    "        return t_dis   \n",
    "    \n",
    "    # If dis_signal wanted, return dis_signal array\n",
    "    if t_or_s == \"s\":\n",
    "        return dis_signal\n",
    " \n",
    "    return None\n",
    "    "
   ]
  },
  {
   "cell_type": "markdown",
   "metadata": {},
   "source": [
    "#### __ADC__ (define sampling frequency)"
   ]
  },
  {
   "cell_type": "code",
   "execution_count": null,
   "metadata": {},
   "outputs": [],
   "source": [
    "# Define the sampling frequency of your Receiver (Analog to Digital converter) in [Hz].\n",
    "SAMPLING_FREQ = 50\n",
    "\n",
    "\n",
    "# First generate a Discrete-Time Time Array: 1D-Array.\n",
    "T_DIS_Morse = analog_digital_converter(T_CONT,\n",
    "                                       after_low_pass,\n",
    "                                       SAMPLING_FREQ,\n",
    "                                       \"t\")\n",
    "\n",
    "# Then generate a Discrete-Time Signal value Array: 1D-Array.\n",
    "DIS_Morse_Signal_w_N_Raw = analog_digital_converter(T_CONT,\n",
    "                                                    after_low_pass,\n",
    "                                                    SAMPLING_FREQ,\n",
    "                                                    \"s\")\n",
    "\n",
    "\n",
    "# Plot out the continuous signal with noise introduced.\n",
    "plt.figure(figsize=(10, 6))\n",
    "plt.axhline(y=1, color='g', linestyle='--')\n",
    "plt.axhline(y=0, color='g', linestyle='--')\n",
    "plt.title(\"(Continues)Analog Morse Signal with Noise before & after low-pass\")\n",
    "plt.stem(T_DIS_Morse, DIS_Morse_Signal_w_N_Raw, 'y' ,label='Sampled Discrete Signal')\n",
    "plt.plot(T_CONT, after_low_pass, label='After low-pass')\n",
    "plt.xticks(np.arange(T_CONT_START, T_CONT_END))\n",
    "plt.xlabel('Time (s)')\n",
    "plt.ylabel('Amplitude')\n",
    "plt.legend()\n",
    "plt.show()"
   ]
  },
  {
   "cell_type": "markdown",
   "metadata": {},
   "source": [
    "_\"Continues-Time Signal\"_ is represented by the continuous line, while sampled signal, _\"Discrete-Time Signal\"_ is represented by the Points."
   ]
  },
  {
   "cell_type": "markdown",
   "metadata": {},
   "source": [
    "###  __Normalizer__ <a id=\"normalizer\"></a>\n",
    "\n",
    "After we sampled the analog signal, it is now discrete values instead of continuous. Noticed that the values are anywhere between \"-1\" to \"2\". Before we start to decode the discrete signal to _Morse Code_, we need to normalize it to \"1\" and \"0\". So the decoder can have an easy time decoding the signal to _Morse Code_."
   ]
  },
  {
   "cell_type": "markdown",
   "metadata": {},
   "source": [
    "-----(This (Function) can be packed)\n",
    "#### _Normalizer (function)_"
   ]
  },
  {
   "cell_type": "code",
   "execution_count": null,
   "metadata": {},
   "outputs": [],
   "source": [
    "def data_normalization_sol(data_raw: np.array,\n",
    "                           min: float,\n",
    "                           normalization: float,\n",
    "                           idle: float) -> np.array:\n",
    "    \"\"\"\n",
    "    Normalize the input data array to discrete values of 1 or 0.\n",
    "    If the signal value is higher than or equal to the minimum threshold, it is normalized to the normalization value.\n",
    "    If the signal value is lower than the minimum threshold, it is normalized to the idle value.\n",
    "    \n",
    "    Parameters:\n",
    "    - ``data_raw`` (np.array): 1D array of raw data points.\n",
    "    - ``min`` (float): Minimum threshold for normalization.\n",
    "    - ``normalization`` (float): Value to normalize to when the signal value is higher than or equal to the minimum threshold.\n",
    "    - ``idle`` (float): Value to normalize to when the signal value is lower than the minimum threshold.\n",
    "    \n",
    "    Returns:\n",
    "    - ``data_norm`` (np.array): 1D array of filtered data points with the same size as the raw data array.\n",
    "    \"\"\"\n",
    "    # Create an array to save the filtered data with the same size as the raw data array.\n",
    "    data_norm = np.zeros(data_raw.size)\n",
    "    \n",
    "    # Check each value and normalize or set it to the idle value in the filtered data array.\n",
    "    for i in range(data_raw.size - 1):\n",
    "        if min <= data_raw[i]:\n",
    "            data_norm[i] = normalization\n",
    "        else:\n",
    "            data_norm[i] = idle\n",
    "        i += 1 \n",
    "    return data_norm"
   ]
  },
  {
   "cell_type": "markdown",
   "metadata": {},
   "source": [
    "#### __Normalizer__ (define Threshold)"
   ]
  },
  {
   "cell_type": "code",
   "execution_count": null,
   "metadata": {},
   "outputs": [],
   "source": [
    "# Apply the Normalizer to the raw discrete signal data.\n",
    "DIS_Morse_Signal_w_N_Normalized = data_normalization_sol(DIS_Morse_Signal_w_N_Raw,\n",
    "                                                         0.6,\n",
    "                                                         1,\n",
    "                                                         0)\n",
    "\n",
    "\n",
    "# Plot out the normalized discrete signal data and compare it with raw data.\n",
    "plt.figure(figsize=(10, 6))\n",
    "plt.axhline(y=0.5, color='g', linestyle='--', label= 'Threshold')\n",
    "plt.title(\"(Discrete)Digital Morse Signal Normalized & Raw\")\n",
    "plt.stem(T_DIS_Morse, DIS_Morse_Signal_w_N_Raw, label='Original Signal')\n",
    "plt.stem(T_DIS_Morse, DIS_Morse_Signal_w_N_Normalized, 'r' ,label='Normalized Signal')\n",
    "plt.xticks(np.arange(T_CONT_START, T_CONT_END))\n",
    "plt.xlabel('Time (s)')\n",
    "plt.ylabel('Amplitude')\n",
    "plt.legend()\n",
    "plt.show()"
   ]
  },
  {
   "cell_type": "markdown",
   "metadata": {},
   "source": [
    "### __Signal Decoder__"
   ]
  },
  {
   "cell_type": "code",
   "execution_count": null,
   "metadata": {},
   "outputs": [],
   "source": [
    "# This feed the normalized signal to the signal decoder.\n",
    "CODE_Received_I = signal_to_code(T_DIS_Morse,DIS_Morse_Signal_w_N_Normalized,MORSE_COM_FREQ)\n",
    "\n",
    "# This bypass the normalization and directly feed to the signal decoder.\n",
    "CODE_Received_II = signal_to_code(T_DIS_Morse,DIS_Morse_Signal_w_N_Raw,MORSE_COM_FREQ)\n",
    "\n",
    "\n",
    "# Uncomment the following two lines to see the original message that sent by the Sender.\n",
    "#print(\"Code sent:\")\n",
    "#print(MORSE_CODE_TO_SEND)\n",
    "\n",
    "\n",
    "print(\"Received signal filtered decrypted to Code:\")\n",
    "print(CODE_Received_I)\n",
    "\n",
    "\n",
    "# Uncomment the following two lines to see the decrypted message directly\n",
    "#print(\"Code to message:\")\n",
    "#print(decrypt(CODE_Received_I))\n",
    "\n",
    "# Uncomment the following two lines to see the decrypted code bypassing normalizer\n",
    "#print(\"Received signal without normalization decrypted to Code:\")\n",
    "#print(CODE_Received_II)\n",
    "\n",
    "\n",
    "#The following line sometimes can cause problems.\n",
    "#Uncomment it to see the result when signals are not normalized and \n",
    "#directly feed into the decryption\n",
    "#\"\"\"\n",
    "#print(\"Code to message:\")\n",
    "#print(decrypt(CODE_Received_II))"
   ]
  },
  {
   "cell_type": "markdown",
   "metadata": {},
   "source": [
    "### __Morse To Text Decryptor__"
   ]
  },
  {
   "cell_type": "code",
   "execution_count": null,
   "metadata": {},
   "outputs": [],
   "source": [
    "#print(\"Received signal filtered decrypted to Code:\")\n",
    "#print(CODE_Received_I)\n",
    "print(\"TEXT MESSAGE (Output):\")\n",
    "print(decrypt(CODE_Received_I))"
   ]
  },
  {
   "cell_type": "markdown",
   "metadata": {},
   "source": [
    "(It's an Easter egg, the input is I LOVE CS 2, But it came out as I LOVE CS I stating a joke here. xD But think about, why does it happen?)"
   ]
  },
  {
   "cell_type": "markdown",
   "metadata": {},
   "source": [
    "# __Exercise__"
   ]
  },
  {
   "cell_type": "markdown",
   "metadata": {},
   "source": [
    "## Nyquist Frequency"
   ]
  },
  {
   "cell_type": "markdown",
   "metadata": {},
   "source": [
    "Validation of the __\"Nyquist Frequency\"__ and finding the minimum Sampling frequency that guarantees a correct message decryption."
   ]
  },
  {
   "cell_type": "code",
   "execution_count": null,
   "metadata": {},
   "outputs": [],
   "source": [
    "# You can define these values and play around with them.\n",
    "\n",
    "# COM Protocol.\n",
    "# Morse communication Frequency in [Hz] \n",
    "# default (5)\n",
    "Ex_MORSE_COM_FREQ = 5\n",
    "\n",
    "\n",
    "# Message to send.\n",
    "# default (\"I CAN DO CS II\")\n",
    "Ex_MESSAGE = \"I CAN DO CS II\""
   ]
  },
  {
   "cell_type": "markdown",
   "metadata": {},
   "source": [
    "#### Perfect condition"
   ]
  },
  {
   "cell_type": "markdown",
   "metadata": {},
   "source": [
    "Which minimum sampling frequency do you observe? When there's no noise in the received signal?"
   ]
  },
  {
   "cell_type": "code",
   "execution_count": null,
   "metadata": {},
   "outputs": [],
   "source": [
    "# ADC Sampling Frequency in [Hz]\n",
    "# default (10)\n",
    "Ex_SAMPLING_FREQ_PERF = 10\n",
    "\n",
    "\n",
    "# Feed the Text input to Encryptor and then generate it to the Analog Signal.\n",
    "# Generate the Morse Signal in continues-time (CONT).\n",
    "Ex_CONT_Morse_Signal_Send = code_to_signal(T_CONT, encrypt(Ex_MESSAGE), Ex_MORSE_COM_FREQ)\n",
    "\n",
    "\n",
    "\n",
    "# Direct feed to ADC, since there is no noise, it doesn't matter.\n",
    "# Sampled by ADC.\n",
    "# Generate Time Data.\n",
    "Ex_T_DIS_Morse = analog_digital_converter(T_CONT,\n",
    "                                          Ex_CONT_Morse_Signal_Send,\n",
    "                                          Ex_SAMPLING_FREQ_PERF,\n",
    "                                          \"t\")\n",
    "\n",
    "# Sample the Signal.\n",
    "Ex_DIS_Morse_Signal_Raw = analog_digital_converter(T_CONT,\n",
    "                                                   Ex_CONT_Morse_Signal_Send,\n",
    "                                                   Ex_SAMPLING_FREQ_PERF,\n",
    "                                                   \"s\")\n",
    "\n",
    "\n",
    "# Decode signal to Morse.\n",
    "Ex_CODE_Received = signal_to_code(Ex_T_DIS_Morse,\n",
    "                                  Ex_DIS_Morse_Signal_Raw,\n",
    "                                  Ex_MORSE_COM_FREQ)\n",
    "\n",
    "\n",
    "# Decrypt Morse to message.\n",
    "print(\"Message received:\")\n",
    "print(decrypt(Ex_CODE_Received))"
   ]
  },
  {
   "cell_type": "markdown",
   "metadata": {},
   "source": [
    "#### Plotting"
   ]
  },
  {
   "cell_type": "code",
   "execution_count": null,
   "metadata": {},
   "outputs": [],
   "source": [
    "plt.figure(figsize=(12, 2))\n",
    "plt.title(\"Morse Signal Analog & Digital\")\n",
    "plt.stem(Ex_T_DIS_Morse, Ex_DIS_Morse_Signal_Raw, 'y', label='Discrete Digital Signal')\n",
    "plt.plot(T_CONT, Ex_CONT_Morse_Signal_Send, label='Original Analog Signal')\n",
    "plt.xticks(np.arange(T_CONT_START, T_CONT_END))\n",
    "plt.xlabel('Time (s)')\n",
    "plt.ylabel('Amplitude')\n",
    "plt.legend()\n",
    "plt.show()"
   ]
  },
  {
   "cell_type": "markdown",
   "metadata": {},
   "source": [
    "#### Noise Condition (__Exercise in this Section__)"
   ]
  },
  {
   "cell_type": "markdown",
   "metadata": {},
   "source": [
    "Now we introduce a random noise to the signal."
   ]
  },
  {
   "cell_type": "markdown",
   "metadata": {},
   "source": [
    "##### Without any pre-processing"
   ]
  },
  {
   "cell_type": "code",
   "execution_count": null,
   "metadata": {},
   "outputs": [],
   "source": [
    "# ADC Sampling Frequency in [Hz].\n",
    "# default (15)\n",
    "Ex_SAMPLING_FREQ_NOISE = 15\n",
    "\n",
    "# Low-Pass Cutoff Frequency in [Hz].\n",
    "# default (10)\n",
    "# This should be higher than the Morse-COM Frequency.\n",
    "Ex_LOW_PASS_CUTOFF_FREQ = 10\n",
    "\n",
    "\n",
    "# Feed the Text input to Encryptor and then generate it to the Analog Signal.\n",
    "# Generate the Morse Signal in continues-time (CONT) with random noise.\n",
    "Ex_CONT_Morse_Signal_w_noise = code_to_signal(T_CONT,\n",
    "                                              encrypt(Ex_MESSAGE),\n",
    "                                              Ex_MORSE_COM_FREQ)+ 0.5 * np.random.normal(size=len(T_CONT))\n",
    "\n",
    "\n",
    "# Feed through anti-aliasing(low-pass) filter before feed into ADC.\n",
    "Ex_CONT_Morse_Signal_w_noise_af_low_pass = butter_lowpass_filter(Ex_CONT_Morse_Signal_w_noise,\n",
    "                                                                 Ex_LOW_PASS_CUTOFF_FREQ,\n",
    "                                                                 T_CONT_FREQ,\n",
    "                                                                 3)\n",
    "\n",
    "\n",
    "# Sampled by ADC.\n",
    "# Generate Time Data.\n",
    "Ex_T_DIS_Morse = analog_digital_converter(T_CONT,\n",
    "                                          Ex_CONT_Morse_Signal_w_noise_af_low_pass,\n",
    "                                          Ex_SAMPLING_FREQ_NOISE,\n",
    "                                          \"t\")\n",
    "\n",
    "# Sample the Signal.\n",
    "Ex_DIS_Morse_Signal_Raw = analog_digital_converter(T_CONT,\n",
    "                                                   Ex_CONT_Morse_Signal_w_noise_af_low_pass,\n",
    "                                                   Ex_SAMPLING_FREQ_NOISE,\n",
    "                                                   \"s\")\n",
    "\n",
    "\n",
    "# Decode signal to Morse.\n",
    "Ex_CODE_Received = signal_to_code(Ex_T_DIS_Morse,\n",
    "                                  Ex_DIS_Morse_Signal_Raw,\n",
    "                                  Ex_MORSE_COM_FREQ)\n",
    "\n",
    "\n",
    "# Decrypt Morse to message. (Without Pre-Processing)\n",
    "\"\"\"\"\"\n",
    "Notice:\n",
    "The following lines can cause problems due to noise feeding into the decryption.\n",
    "Decrypt Morse to message. (Without Post-Processing) under huge noise conditions\n",
    "is impossible.\n",
    "Therefore, the following lines are commented.\n",
    "\n",
    "Instead, we compare the Morse code between sent and received.\n",
    "\"\"\"\n",
    "\n",
    "#print(\"Message received:\")\n",
    "#print(decrypt(Ex_CODE_Received))\n",
    "\n",
    "print(\"Code sent:\")\n",
    "print(encrypt(Ex_MESSAGE))\n",
    "\n",
    "print(\"Code received:\")\n",
    "print(Ex_CODE_Received)\n"
   ]
  },
  {
   "cell_type": "markdown",
   "metadata": {},
   "source": [
    "We observe that as soon as there's a noise in the signal, our decryption struggles to get the correct message. Because the __Signal Decoder__ using \"1\" and \"0\" and the period in between to decode the signal back to _Morse Code_, but our signal here contains values between 1 and 0 even after the __Low-Pass Filter__.\n",
    "Here we see the importance of a filter and signal normalization for post-computation (decryption). "
   ]
  },
  {
   "cell_type": "markdown",
   "metadata": {},
   "source": [
    "#### Plotting"
   ]
  },
  {
   "cell_type": "code",
   "execution_count": null,
   "metadata": {},
   "outputs": [],
   "source": [
    "plt.figure(figsize=(14, 3))\n",
    "plt.title(\"Morse Signal Digital\")\n",
    "plt.axhline(y=1, color='g', linestyle='--')\n",
    "plt.axhline(y=0, color='g', linestyle='--')\n",
    "\n",
    "# Uncomment the following line to see a different plotting style for discrete signal\n",
    "#plt.stem(Ex_T_DIS_Morse, Ex_DIS_Morse_Signal_Raw, 'y', label='Discrete Digital Signal')\n",
    "\n",
    "# Uncomment the following line to see the signal in continues-time domain.\n",
    "#plt.plot(T_CONT, Ex_CONT_Morse_Signal_w_noise_af_low_pass,'c', label='Analog Signal')\n",
    "\n",
    "width_ksczeiv = Ex_T_DIS_Morse[1] - Ex_T_DIS_Morse[0]\n",
    "plt.bar(Ex_T_DIS_Morse, Ex_DIS_Morse_Signal_Raw, align='edge', width=width_ksczeiv, color='y', linewidth=1, label='Discrete Digital Signal')\n",
    "\n",
    "plt.xticks(np.arange(T_CONT_START, T_CONT_END))\n",
    "plt.xlabel('Time (s)')\n",
    "plt.ylabel('Amplitude')\n",
    "plt.legend()\n",
    "plt.show()"
   ]
  },
  {
   "cell_type": "markdown",
   "metadata": {},
   "source": [
    "##### __Your code here (Exercise)__ "
   ]
  },
  {
   "cell_type": "markdown",
   "metadata": {},
   "source": [
    "Now implement a function to normalize the data. If you need help, feel free to look at the function above. In __Case Study__ the section: __Normalizer__"
   ]
  },
  {
   "cell_type": "code",
   "execution_count": null,
   "metadata": {},
   "outputs": [],
   "source": [
    "def ex_data_normalization(data_raw: np.array,\n",
    "                          min: float,\n",
    "                          normalization: float,\n",
    "                          idle: float) -> np.array:\n",
    "    \"\"\"\n",
    "    This function normalizes the input data by setting values below the minimum threshold to the idle value,\n",
    "    and values above the threshold to the normalization value.\n",
    "    \n",
    "    Args:\n",
    "     - ``data_raw`` (np.array): 1-D array of raw data.\n",
    "     - ``min`` (float): Minimum threshold.\n",
    "     - ``normalization`` (float): Value to normalize to after reaching the threshold.\n",
    "     - ``idle`` (float): Value to set when data is lower than the threshold.\n",
    "        \n",
    "    Returns:\n",
    "     - ``np.array``: 1-D array of filtered data, with the same size as the raw data array.\n",
    "    \"\"\"\n",
    "    # Create an array to save the filtered data with the same size as the raw data array.\n",
    "    data_norm = np.zeros(data_raw.size)\n",
    "    \n",
    "    # Check each value and normalize or set it to idle value in the filtered data array.\n",
    "    # Your code here ---------------------------------------------------------------------------\n",
    "\n",
    "    \n",
    "    return data_norm\n",
    "\n",
    "# Your code here ---------------------------------------------------------------------------\n"
   ]
  },
  {
   "cell_type": "markdown",
   "metadata": {},
   "source": [
    "##### With post-processing (__Code Modification needed__)"
   ]
  },
  {
   "cell_type": "markdown",
   "metadata": {},
   "source": [
    "The first function is the solution. \"Ex_DIS_Morse_Signal_Normalized = data_normalization_sol(Ex_DIS_Morse_Signal_Raw,0.5,1,0)\". You need to implement your function below in able to see your test result."
   ]
  },
  {
   "cell_type": "code",
   "execution_count": null,
   "metadata": {},
   "outputs": [],
   "source": [
    "# Run the Normalized function.\n",
    "# Fine-tune the threshold to make sure a correct Message decryption.\n",
    "Ex_DIS_Morse_Signal_Normalized = data_normalization_sol(Ex_DIS_Morse_Signal_Raw,0.5,1,0)\n",
    "\n",
    "\n",
    "\n",
    "\"\"\"\n",
    " Uncomment the lines below and implement your function. \n",
    " Once you implement the function, it overwrite the solution value and\n",
    " it plot out your results.\n",
    "\"\"\"\n",
    "\n",
    "# Your Code here-----------------------------------------------------------------------------------\n",
    "# Ex_DIS_Morse_Signal_Normalized = ex_data_normalization().\n",
    "\n",
    "\n",
    "\n",
    "# Your Code here-----------------------------------------------------------------------------------\n",
    "\n",
    "\n",
    "\n",
    "# Decode signal to Morse.\n",
    "Ex_CODE_Received = signal_to_code(Ex_T_DIS_Morse,\n",
    "                                  Ex_DIS_Morse_Signal_Normalized,\n",
    "                                  Ex_MORSE_COM_FREQ)\n",
    "\n",
    "\n",
    "# Decrypt Morse to message.\n",
    "print(\"Message received:\")\n",
    "print(decrypt(Ex_CODE_Received))"
   ]
  },
  {
   "cell_type": "markdown",
   "metadata": {},
   "source": [
    "## Data transfer rate"
   ]
  },
  {
   "cell_type": "markdown",
   "metadata": {},
   "source": [
    "We noticed that in the Nyquist Frequency section, using default values:\n",
    "\n",
    "\n",
    "Morse communication Frequency: 5 [Hz]\n",
    "\n",
    "\n",
    "Nyquist Frequency: 10 [Hz]\n",
    "\n",
    "\n",
    "Message to send: \"I CAN DO CS II\"\n",
    "\n",
    "\n",
    "ADC Sampling Frequency 20 [Hz]\n",
    "\n",
    "\n",
    "We can not send the full message.\n",
    "\n",
    "\n",
    "Think about how can you increase the data transfer rate."
   ]
  },
  {
   "cell_type": "markdown",
   "metadata": {},
   "source": [
    "### Increase operating and sampling Frequency (__Exercise in this Section__)"
   ]
  },
  {
   "cell_type": "markdown",
   "metadata": {},
   "source": [
    "#### Adjust the Morse-COM frequency and define a message to send\n",
    "Adjust the __\"Morse-communication protocol frequency\"__ (Ex_MORSE_COM_FREQ_II) to a higher value. You can imagine that: instead of speaking a sentence slowly, now we speak it fast so we can finish speaking the whole sentence in a shorter time. Thus in the same given time as before, we can pass on more information."
   ]
  },
  {
   "cell_type": "code",
   "execution_count": null,
   "metadata": {},
   "outputs": [],
   "source": [
    "# You can define these values and play around with them.\n",
    "\n",
    "# COM Protocol\n",
    "# Morse communication Frequency in [Hz]\n",
    "# Before (5)\n",
    "# default (20)\n",
    "Ex_MORSE_COM_FREQ_II = 20\n",
    "\n",
    "\n",
    "# Message to send\n",
    "Ex_MESSAGE_II = \"I CAN DO CS II and beyond\""
   ]
  },
  {
   "cell_type": "markdown",
   "metadata": {},
   "source": [
    "#### Simulation Run & Results (__Exercise in this Section__)\n",
    "Now we run through the steps:\n",
    "\n",
    "\n",
    "1. Generate an analog signal with (code_to_signal).\n",
    "\n",
    "\n",
    "2. And use our predefined ADC (analog_digital_converter) to sample the signal.\n",
    "\n",
    "\n",
    "3. Decode that sampled signal to Morse code (signal_to_code).\n",
    "\n",
    "\n",
    "4. And finally, decrypt the Code to the Message (decrypt(...))."
   ]
  },
  {
   "cell_type": "code",
   "execution_count": null,
   "metadata": {},
   "outputs": [],
   "source": [
    "# ADC Sampling Frequency in [Hz]\n",
    "# Before (20)\n",
    "# default (200)\n",
    "Ex_SAMPLING_FREQ_II = 200\n",
    "\n",
    "\n",
    "# Feed the Text input to Encryptor and then generate it to the Analog Signal\n",
    "# Generate the Morse Signal in continues-time (CONT)\n",
    "Ex_CONT_Morse_Signal_Send_II = code_to_signal(T_CONT, encrypt(Ex_MESSAGE_II.upper()), Ex_MORSE_COM_FREQ_II)\n",
    "\n",
    "\n",
    "# Direct feed to ADC, since there is no noise, it doesn't matter\n",
    "# Sampled by ADC\n",
    "# Generate Time Data\n",
    "Ex_T_DIS_Morse_II = analog_digital_converter(T_CONT,\n",
    "                                          Ex_CONT_Morse_Signal_Send_II,\n",
    "                                          Ex_SAMPLING_FREQ_II,\n",
    "                                          \"t\")\n",
    "# Sample the Signal\n",
    "Ex_DIS_Morse_Signal_Raw_II = analog_digital_converter(T_CONT,\n",
    "                                                   Ex_CONT_Morse_Signal_Send_II,\n",
    "                                                   Ex_SAMPLING_FREQ_II,\n",
    "                                                   \"s\")\n",
    "\n",
    "\n",
    "# Decode signal to Morse\n",
    "Ex_CODE_Received_II = signal_to_code(Ex_T_DIS_Morse_II,\n",
    "                                  Ex_DIS_Morse_Signal_Raw_II,\n",
    "                                  Ex_MORSE_COM_FREQ_II)\n",
    "\n",
    "\n",
    "# Decrypt Morse to message.\n",
    "print(\"Code sent:\")\n",
    "print(encrypt(Ex_MESSAGE_II.upper()))\n",
    "print(\"Message received:\")\n",
    "print(Ex_CODE_Received_II)\n",
    "print(decrypt(Ex_CODE_Received_II))"
   ]
  },
  {
   "cell_type": "markdown",
   "metadata": {},
   "source": [
    "Now compare with the result before in part \"Nyquist Frequency\". There we receive a sentence of \"I CAN DO C\" in 15 [s]. While here, after we increase the Morse-COM protocol frequency, we can receive a full sentence of \"I CAN DO CS II AND BEYOND\" in the same 15 [s]."
   ]
  },
  {
   "cell_type": "markdown",
   "metadata": {},
   "source": [
    "##### __Your code here (Exercise)__\n",
    "Study the __plotting function__ we used before, explore the possibility of the \"matplotlib\" package (https://matplotlib.org/)\n",
    "\n",
    "And plot out the result (Ex_DIS_Morse_Signal_Raw_II) signals nicely."
   ]
  },
  {
   "cell_type": "code",
   "execution_count": null,
   "metadata": {},
   "outputs": [],
   "source": [
    "# Your code here---------------------------------------------------------------------------------\n",
    "\n",
    "\n",
    "\n",
    "# Your code here---------------------------------------------------------------------------------"
   ]
  },
  {
   "cell_type": "markdown",
   "metadata": {},
   "source": [
    "#### Solution"
   ]
  },
  {
   "cell_type": "code",
   "execution_count": null,
   "metadata": {},
   "outputs": [],
   "source": [
    "plt.figure(figsize=(10, 4))\n",
    "plt.axhline(y=0, color='g', linestyle='--')\n",
    "plt.title(\"(Continues)Analog Morse Signal\")\n",
    "plt.plot(T_CONT, Ex_CONT_Morse_Signal_Send_II, label='Original Signal')\n",
    "plt.xticks(np.arange(T_CONT_START, T_CONT_END))\n",
    "plt.xlabel('Time (s)')\n",
    "plt.ylabel('Amplitude')\n",
    "plt.legend()\n",
    "plt.show()"
   ]
  },
  {
   "cell_type": "markdown",
   "metadata": {},
   "source": [
    "Conclusion: Here we see that by increasing the COM frequency, we can send the whole message and even not exceed the 15 [s] time limit."
   ]
  },
  {
   "cell_type": "markdown",
   "metadata": {},
   "source": [
    "### Limitation (__Exercise in this Section__)\n",
    "Why can't we just keep increasing the Morse-COM protocol frequency to the extreme to pass massive data volume?\n",
    "\n",
    "What could be the potential limitations? And why Fiber-Optic is faster than Ethernet cable?\n",
    "\n",
    "Here in this section, we gonna see why."
   ]
  },
  {
   "cell_type": "markdown",
   "metadata": {},
   "source": [
    "#### Redefine the _Morse-COM Protocol_ Frequency\n",
    "Here we push the frequency even higher to observe high frequency behavior."
   ]
  },
  {
   "cell_type": "code",
   "execution_count": null,
   "metadata": {},
   "outputs": [],
   "source": [
    "# You can define these values and play around with them.\n",
    "\n",
    "# Morse communication Frequency in [Hz]\n",
    "# Before (20)\n",
    "# default (100000)\n",
    "Ex_MORSE_COM_FREQ_H = 100000\n",
    "\n",
    "\n",
    "# Message to send\n",
    "Ex_MESSAGE_H = \"I CAN DO CS II and beyond\""
   ]
  },
  {
   "cell_type": "markdown",
   "metadata": {},
   "source": [
    "#### Redefine the plotting Span\n",
    "To observe the high-frequency behavior, we have to zoom in in time. Here we redefine our plotting span to match the purpose. Change the plotting time from 0 to 1 [s]. While increasing the data plotting resolution to 100 [kHz]. Higher the resolution while also increasing the frequency."
   ]
  },
  {
   "cell_type": "code",
   "execution_count": null,
   "metadata": {},
   "outputs": [],
   "source": [
    "# Do not change the code below if you don't know what you are doing!\n",
    "# Plotting START & END time in [s]\n",
    "T_CONT_START_H = 0\n",
    "T_CONT_END_H = 0.0001\n",
    "\n",
    "\n",
    "# Continues Time domain plotting Data storage Frequency in [Hz]\n",
    "# default (200000000)\n",
    "T_CONT_FREQ_H = 200000000\n",
    "# A calculation turns the frequency to the period in [s]\n",
    "T_COUNT_PERIOD_H = 1/T_CONT_FREQ_H\n",
    "\n",
    "\n",
    "# Get the total time\n",
    "Time_span_H = T_CONT_END_H - T_CONT_START_H\n",
    "# Calculate how many elements should be in the Continues Time plotting Data Array\n",
    "# And force it to be int.\n",
    "t_steps_h = int (Time_span_H*T_CONT_FREQ_H)\n",
    "\n",
    "\n",
    "# Generate an Array for continuous time\n",
    "T_CONT_H = np.linspace(T_CONT_START_H,T_CONT_END_H,t_steps_h + 1)"
   ]
  },
  {
   "cell_type": "markdown",
   "metadata": {},
   "source": [
    "#### Copper wire model\n",
    "Here we use a Low-Pass filter from before as a model of a copper wire. Documentation of this Low-Pass Filter can be found on:\n",
    "https://docs.scipy.org/doc/scipy/reference/generated/scipy.signal.lfilter.html "
   ]
  },
  {
   "cell_type": "code",
   "execution_count": null,
   "metadata": {},
   "outputs": [],
   "source": [
    "def butter_lowpass_filter_H(data: np.array,\n",
    "                            cutoff_frequency: float,\n",
    "                            sampling_frequency: float,\n",
    "                            order: int) -> np.array:\n",
    "    \"\"\"\n",
    "    This function applies a low-pass filter to the input data using a Butterworth filter. It is meant to simulate the parastic effect of the wire.\n",
    "    \n",
    "    Args:\n",
    "     - ``data`` (np.array): 1-D array of input data.\n",
    "     - ``cutoff_frequency`` (float): Cutoff frequency of the filter in Hz.\n",
    "     - ``sampling_frequency`` (float): Sampling frequency of the data in Hz.\n",
    "     - ``order`` (int): Order of the filter.\n",
    "        \n",
    "    Returns:\n",
    "     - ``y`` np.array: 1-D array of filtered data, with the same size as the input data array.\n",
    "    \"\"\"\n",
    "    nyquist = 0.5 * sampling_frequency\n",
    "    normal_cutoff = cutoff_frequency / nyquist\n",
    "    b, a = butter(order, normal_cutoff, btype='low', analog=False)\n",
    "    y = lfilter(b, a, data)\n",
    "    return y"
   ]
  },
  {
   "cell_type": "markdown",
   "metadata": {},
   "source": [
    "#### Simulation Run & Results (__Exercise in this Section__)"
   ]
  },
  {
   "cell_type": "code",
   "execution_count": null,
   "metadata": {},
   "outputs": [],
   "source": [
    "# ADC Sampling Frequency in [Hz]\n",
    "# Before (200)\n",
    "# default (1000000)\n",
    "Ex_SAMPLING_FREQ_H = 1000000\n",
    "\n",
    "\n",
    "# Feed the Text input to Encryptor and then generate it to the Analog Signal\n",
    "# Generate the Morse Signal in continues-time (CONT)\n",
    "Ex_CONT_Morse_Signal_Send_H = code_to_signal(T_CONT_H,\n",
    "                                             encrypt(Ex_MESSAGE_H.upper()),\n",
    "                                             Ex_MORSE_COM_FREQ_H)\n",
    "\n",
    "\n",
    "# Apply the copper wire as a low-pass filter with a cutoff frequency in [Hz]\n",
    "# default(100000)\n",
    "CUTOFF_FREQ_H = 100000\n",
    "after_copper_wire = butter_lowpass_filter_H(Ex_CONT_Morse_Signal_Send_H,\n",
    "                                            CUTOFF_FREQ_H,\n",
    "                                            T_CONT_FREQ_H,\n",
    "                                            2)\n",
    "\n",
    "\n",
    "# Sampled by ADC\n",
    "# Generate Time Data\n",
    "Ex_T_DIS_Morse_H = analog_digital_converter(T_CONT_H,\n",
    "                                          after_copper_wire,\n",
    "                                          Ex_SAMPLING_FREQ_H,\n",
    "                                          \"t\")\n",
    "# Sample the Signal\n",
    "Ex_DIS_Morse_Signal_Raw_H = analog_digital_converter(T_CONT_H,\n",
    "                                                   after_copper_wire,\n",
    "                                                   Ex_SAMPLING_FREQ_H,\n",
    "                                                   \"s\")"
   ]
  },
  {
   "cell_type": "markdown",
   "metadata": {},
   "source": [
    "##### __Your code here (Exercise)__\n",
    "Study the plotting function we used before, explore the possibility of the \"matplotlib\" package (https://matplotlib.org/). And plot out the result signal (after_copper_wire) nicely. If you have difficulties doing so, you may have a look at the solution."
   ]
  },
  {
   "cell_type": "code",
   "execution_count": null,
   "metadata": {},
   "outputs": [],
   "source": [
    "# Your code here---------------------------------------------------------------------------------\n",
    "\n",
    "\n",
    "\n",
    "# Your code here---------------------------------------------------------------------------------"
   ]
  },
  {
   "cell_type": "markdown",
   "metadata": {},
   "source": [
    "#### Solution"
   ]
  },
  {
   "cell_type": "code",
   "execution_count": null,
   "metadata": {},
   "outputs": [],
   "source": [
    "plt.figure(figsize=(10, 6))\n",
    "plt.axhline(y=0, color='g', linestyle='--')\n",
    "plt.axhline(y=1, color='g', linestyle='--')\n",
    "plt.title(\"(Continues)Analog Morse Signal High-Frequency low-pass response\")\n",
    "plt.plot(T_CONT_H, after_copper_wire)\n",
    "plt.stem(Ex_T_DIS_Morse_H,Ex_DIS_Morse_Signal_Raw_H)\n",
    "\n",
    "# Two lines below are simulating how 0-order-hold would look like\n",
    "width_uezhc = Ex_T_DIS_Morse_H[1] - Ex_T_DIS_Morse_H[0]\n",
    "plt.bar(Ex_T_DIS_Morse_H, Ex_DIS_Morse_Signal_Raw_H, align='edge', width=width_uezhc, color='y', linewidth=1, label='Discrete Digital Signal')\n",
    "\n",
    "plt.xticks(np.linspace(0, 0.0001, 11))\n",
    "plt.ylim(-0.5,1.5)\n",
    "plt.xlabel('Time (s)')\n",
    "plt.ylabel('Amplitude')\n",
    "plt.show()"
   ]
  },
  {
   "cell_type": "markdown",
   "metadata": {},
   "source": [
    "#### Repeat the simulation and raise the __Morse-COM Frequency__\n",
    "Raise the COM-Frequency (Ex_MORSE_COM_FREQ_H) higher step by step.\n",
    "e.g. \n",
    "\n",
    "\n",
    "300'000 \n",
    "\n",
    "\n",
    "400'000\n",
    "\n",
    "\n",
    "500'000\n",
    "\n",
    "\n",
    "...\n",
    "\n",
    "\n",
    "And plot out the data to see the effects of the low-pass wire on limiting our data transfer rate."
   ]
  },
  {
   "cell_type": "code",
   "execution_count": null,
   "metadata": {},
   "outputs": [],
   "source": [
    "# Morse communication Frequency in [Hz]\n",
    "# Before (100000)\n",
    "# default (2*100000)\n",
    "Ex_MORSE_COM_FREQ_H_II = 2*100000\n",
    "\n",
    "\n",
    "# ADC Sampling Frequency in [Hz]\n",
    "# Before (200)\n",
    "# default (1000000)\n",
    "Ex_SAMPLING_FREQ_H_II = 1000000\n",
    "\n",
    "\n",
    "\n",
    "# Generate the Morse Signal in continues-time (CONT)\n",
    "Ex_CONT_Morse_Signal_Send_H_II = code_to_signal(T_CONT_H, encrypt(Ex_MESSAGE_H.upper()), Ex_MORSE_COM_FREQ_H_II)\n",
    "\n",
    "# Apply the copper wire as a low-pass filter with cutoff frequency in [Hz]\n",
    "# default(100000)\n",
    "CUTOFF_FREQ_H_II = 100000\n",
    "after_copper_wire_II = butter_lowpass_filter_H(Ex_CONT_Morse_Signal_Send_H_II,CUTOFF_FREQ_H_II,T_CONT_FREQ_H,2)\n",
    "\n",
    "\n",
    "# Sampled by ADC\n",
    "# Generate Time Data\n",
    "Ex_T_DIS_Morse_H_II = analog_digital_converter(T_CONT_H,\n",
    "                                          after_copper_wire_II,\n",
    "                                          Ex_SAMPLING_FREQ_H_II,\n",
    "                                          \"t\")\n",
    "# Sample the Signal\n",
    "Ex_DIS_Morse_Signal_Raw_H_II = analog_digital_converter(T_CONT_H,\n",
    "                                                   after_copper_wire_II,\n",
    "                                                   Ex_SAMPLING_FREQ_H_II,\n",
    "                                                   \"s\")\n"
   ]
  },
  {
   "cell_type": "markdown",
   "metadata": {},
   "source": [
    "##### __Your code here (Exercise)__\n",
    "And plot out the resulting signal (after_copper_wire) nicely and overlay the sampled signal(Ex_DIS_Morse_Signal_Raw_H) on top of the analog signal.\n",
    "\n",
    "Pay attention to the array size. The analog signal data has a greater size compared with the sampled(discrete) signal.\n",
    "\n",
    "If you have difficulties doing so, you may have a look at the solution."
   ]
  },
  {
   "cell_type": "code",
   "execution_count": null,
   "metadata": {},
   "outputs": [],
   "source": [
    "# Your code here---------------------------------------------------------------------------------\n",
    "\n",
    "\n",
    "\n",
    "# Your code here---------------------------------------------------------------------------------"
   ]
  },
  {
   "cell_type": "markdown",
   "metadata": {},
   "source": [
    "#### Solution"
   ]
  },
  {
   "cell_type": "code",
   "execution_count": null,
   "metadata": {},
   "outputs": [],
   "source": [
    "# Uncomment or comment some of the lines to see different style of plotting\n",
    "plt.figure(figsize=(10, 6))\n",
    "#plt.axhline(y=0, color='g', linestyle='--')\n",
    "#plt.axhline(y=1, color='g', linestyle='--')\n",
    "plt.title(\"(Continues)Analog Morse Signal High-Frequency Low-Pass response\")\n",
    "plt.plot(T_CONT_H, after_copper_wire_II, 'r' ,label=\"After Wire (Output)\")\n",
    "#plt.stem(Ex_T_DIS_Morse_H_II,Ex_DIS_Morse_Signal_Raw_H_II, 'g')\n",
    "width_oivze = Ex_T_DIS_Morse_H_II[1] - Ex_T_DIS_Morse_H_II[0]\n",
    "plt.bar(Ex_T_DIS_Morse_H_II, Ex_DIS_Morse_Signal_Raw_H_II, align='edge', width=width_oivze, color='y', linewidth=0, label='Discrete Digital Signal')\n",
    "plt.plot(T_CONT_H, Ex_CONT_Morse_Signal_Send_H_II, 'b',label=\"Feed in\")\n",
    "plt.xticks(np.linspace(0, 0.0001, 11))\n",
    "plt.ylim(-1,2)\n",
    "plt.xlabel('Time (s)')\n",
    "plt.ylabel('Amplitude')\n",
    "plt.legend()\n",
    "plt.show()"
   ]
  },
  {
   "cell_type": "markdown",
   "metadata": {},
   "source": [
    "#### Conclusion\n",
    "\n",
    "When a signal passes through a copper wire used as a signal cable, its impedance starts to have effects on damping the signal when we use a high-frequency signal to transfer our data.\n",
    "\n",
    "The longer the cable, the higher the impedance, and the stronger the damping effects on our signal. The transition between the state \"ON\" and \"OFF\" (1 and 0) becomes smoother, hence increasing the difficulty when we trying to normalize the signal and determine when it is an \"ON\" and when it is an \"OFF\".\n",
    "\n",
    "At some point, it's impossible to identify the \"ON\" and \"OFF\" anymore. In comparison, a fiber optic has significantly lower damping effects on the light signals across longer distances. That also partially explains why with fiber optic we have a higher bandwidth and higher internet speed compared with coaxial cable internet.\n",
    "\n",
    "\n",
    "Higher COM-Frequency requires in general better electronics equipment that can run on high frequency, which also sets a limit on our maximum operating frequency."
   ]
  },
  {
   "cell_type": "markdown",
   "metadata": {},
   "source": [
    "------------\n",
    "\n",
    "# End of the Notebook\n",
    "We hope you had a nice experience with these exercises and learnt something new. "
   ]
  }
 ],
 "metadata": {
  "kernelspec": {
   "display_name": "Python 3",
   "language": "python",
   "name": "python3"
  },
  "language_info": {
   "codemirror_mode": {
    "name": "ipython",
    "version": 3
   },
   "file_extension": ".py",
   "mimetype": "text/x-python",
   "name": "python",
   "nbconvert_exporter": "python",
   "pygments_lexer": "ipython3",
   "version": "3.10.11"
  }
 },
 "nbformat": 4,
 "nbformat_minor": 2
}
