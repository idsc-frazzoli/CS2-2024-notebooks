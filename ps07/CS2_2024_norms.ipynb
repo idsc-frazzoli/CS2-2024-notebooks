{
 "cells": [
  {
   "cell_type": "markdown",
   "metadata": {},
   "source": [
    "-------\n",
    "\n",
    "## Python Libraries\n",
    "\n",
    "We use the following Python libraries which need to be imported. If you have no experience with the [NumPy](https://numpy.org/) library, read the documentation and do some tutorials. It is very important for matrix operations in Python."
   ]
  },
  {
   "cell_type": "code",
   "execution_count": null,
   "metadata": {},
   "outputs": [],
   "source": [
    "# Install the required python library with pip\n",
    "!pip install control"
   ]
  },
  {
   "cell_type": "markdown",
   "metadata": {},
   "source": [
    "-------\n",
    "\n",
    "## Installation\n",
    "We use the [Python library](https://python-control.readthedocs.io/en/0.9.3.post2/) `control`, which can be installed using `pip`. If you have no experience with Python, try to do some tutorials (e.g. check [this](https://docs.python.org/3/tutorial/) one). The same goes for installing Python packages using `pip`, see this [tutorial](https://packaging.python.org/en/latest/tutorials/installing-packages/). There are plenty of other Python tutorials for beginners if you do a Google/YouTube search.\n",
    "\n",
    "If you have done all the Jupyter Notebooks leading up to this one, you should have all the necessary libraries installed. \n"
   ]
  },
  {
   "cell_type": "code",
   "execution_count": null,
   "metadata": {},
   "outputs": [],
   "source": [
    "# Import the required python libraries\n",
    "from typing import Optional, List, Tuple\n",
    "from datetime import datetime\n",
    "import numpy as np\n",
    "import matplotlib.pyplot as plt\n",
    "import matplotlib.dates as mdates\n",
    "import control as ct\n",
    "import pandas as pd"
   ]
  },
  {
   "cell_type": "markdown",
   "metadata": {},
   "source": [
    "--------\n",
    "## Exercise 1a:\n",
    "\n",
    "Please complete the following function to calculate the 2-norm and infinity-norm of a vector.\n",
    "\n",
    "$||x||_2 = \\sqrt{\\Sigma_i |x_i|^2}$\n",
    "\n",
    "$||x||_{\\infty} = \\max{|x_i|}$"
   ]
  },
  {
   "cell_type": "code",
   "execution_count": null,
   "metadata": {},
   "outputs": [],
   "source": [
    "def vector2norm(vector: np.ndarray) -> float:\n",
    "    \"\"\"\n",
    "    Calculate the 2-norm (Euclidean norm) of a NumPy array.\n",
    "\n",
    "    Parameters:\n",
    "    vector (np.ndarray): Input array for which 2-norm is to be calculated.\n",
    "\n",
    "    Returns:\n",
    "    float: The 2-norm of the input array.\n",
    "    \"\"\"\n",
    "    if len(vector) == 0 or vector is None or not isinstance(vector, np.ndarray):\n",
    "        raise ValueError(\"Input vector is invalid\")\n",
    "    \n",
    "    squared_sum = 0.0\n",
    "    for elem in vector:\n",
    "        squared_sum += elem**2\n",
    "    norm = np.sqrt(squared_sum)\n",
    "\n",
    "    return norm"
   ]
  },
  {
   "cell_type": "code",
   "execution_count": null,
   "metadata": {},
   "outputs": [],
   "source": [
    "def vectorInfnorm(vector: np.ndarray) -> float:\n",
    "    \"\"\"\n",
    "    Calculate the infinity-norm (maximum absolute value) of a NumPy array.\n",
    "\n",
    "    Parameters:\n",
    "    vector (np.ndarray): Input array for which infinity-norm is to be calculated.\n",
    "\n",
    "    Returns:\n",
    "    float: The infinity-norm of the input array.\n",
    "    \"\"\"\n",
    "    if len(vector) == 0 or vector is None or not isinstance(vector, np.ndarray):\n",
    "        raise ValueError(\"Input vector is invalid\")\n",
    "    \n",
    "    max_elem = 0.0\n",
    "    for elem in vector:\n",
    "        if abs(elem) > max_elem:\n",
    "            max_elem = abs(elem)\n",
    "\n",
    "    return max_elem"
   ]
  },
  {
   "cell_type": "markdown",
   "metadata": {},
   "source": [
    "## Exercise 1b\n",
    "\n",
    "Below you find an outline for the p-norm of a vector. Please complete the function.\n",
    "\n",
    "$||x||_p = (\\Sigma_i |x_i|^p)^{\\frac{1}{p}}$"
   ]
  },
  {
   "cell_type": "code",
   "execution_count": null,
   "metadata": {},
   "outputs": [],
   "source": [
    "def vectorPnorm(vector: np.ndarray, p: float) -> float:\n",
    "    \"\"\"\n",
    "    Calculate the infinity-norm (maximum absolute value) of a NumPy array.\n",
    "\n",
    "    Parameters:\n",
    "    vector (np.ndarray): Input array for which infinity-norm is to be calculated.\n",
    "\n",
    "    Returns:\n",
    "    float: The infinity-norm of the input array.\n",
    "    \"\"\"\n",
    "    if len(vector) == 0 or vector is None or not isinstance(vector, np.ndarray):\n",
    "        raise ValueError(\"Input vector is invalid\")\n",
    "\n",
    "    if p is None:\n",
    "        return vector2norm(vector)\n",
    "\n",
    "    p = float(p)\n",
    "    if not isinstance(p, float) or p <= 0.0:\n",
    "        raise ValueError(\"p must be a positive integer\")\n",
    "\n",
    "    norm_sum = 0.0\n",
    "    for elem in vector:\n",
    "        norm_sum += abs(elem)**p\n",
    "    \n",
    "    return norm_sum**(1/p)"
   ]
  },
  {
   "cell_type": "markdown",
   "metadata": {},
   "source": [
    "Complete the small adjustments needed to make 'vectorPnorm(vector, p)' also work with floating-point variables 'p'.\n",
    "\n",
    "Implement error-handling and exceptions to account for empty inputs! For example, if no p is given, calculate a default norm or throw an error.\n",
    "\n",
    "Test your code below :D"
   ]
  },
  {
   "cell_type": "code",
   "execution_count": null,
   "metadata": {},
   "outputs": [],
   "source": [
    "array = np.array([1, 2, 3, 4, 5])\n",
    "norm2 = vector2norm(array)\n",
    "norm3 = vectorPnorm(array, 3)\n",
    "norm3_5 = vectorPnorm(array, 3.5)\n",
    "norm4 = vectorPnorm(array, 4)\n",
    "\n",
    "print(f\"2-norm of {array} is {norm2}\")\n",
    "print(f\"3-norm of {array} is {norm3}\")\n",
    "print(f\"3.5-norm of {array} is {norm3_5}\")\n",
    "print(f\"4-norm of {array} is {norm4}\")\n",
    "print(f\"Inf-norm of {array} is {vectorInfnorm(array)}\")"
   ]
  },
  {
   "cell_type": "markdown",
   "metadata": {},
   "source": [
    "--------\n",
    "## Exercise 2a:\n",
    "\n",
    "Fill out the code for the following matrix norms:\n",
    "\n",
    "$||G||_{i,2} = \\sqrt{\\rho(G^*G)} = \\sqrt{|\\lambda_{max}(G^*G)|} = \\overline{\\sigma}(G)$\n",
    "\n",
    "$||G||_{i,P} = \\max_{\\omega \\neq 0}{\\frac{||G\\omega||_p}{||\\omega||_p}} = \\max_{||\\omega||_p=1}{||G\\omega||_p}$\n",
    "\n",
    "$||G||_{i,\\infty} = max_i{\\Sigma_j |g_{ij}|}$"
   ]
  },
  {
   "cell_type": "code",
   "execution_count": null,
   "metadata": {},
   "outputs": [],
   "source": [
    "def matrix2norm(matrix: np.ndarray) -> float:\n",
    "    \"\"\"\n",
    "    Calculate the 2-norm of a matrix manually.\n",
    "\n",
    "    Parameters:\n",
    "    matrix (numpy.ndarray): Input matrix for which the 2-norm is to be calculated.\n",
    "\n",
    "    Returns:\n",
    "    float: The 2-norm of the input matrix.\n",
    "    \"\"\"\n",
    "    if matrix is None or not isinstance(matrix, np.ndarray):\n",
    "        raise ValueError(\"Input matrix is invalid\")\n",
    "\n",
    "    product_matrix = np.dot(matrix.T, matrix)\n",
    "    eigenvalues, _ = np.linalg.eig(product_matrix)\n",
    "    max_eigenvalue = np.max(eigenvalues)\n",
    "    norm = np.sqrt(max_eigenvalue)\n",
    "    return norm"
   ]
  },
  {
   "cell_type": "code",
   "execution_count": null,
   "metadata": {},
   "outputs": [],
   "source": [
    "def matrixPnorm(matrix: np.ndarray, p: float) -> float:\n",
    "    \"\"\"\n",
    "    Calculate the p-norm of a matrix manually.\n",
    "\n",
    "    Parameters:\n",
    "    matrix (numpy.ndarray): Input matrix for which the p-norm is to be calculated.\n",
    "\n",
    "    Returns:\n",
    "    float: The p-norm of the input matrix.\n",
    "    \"\"\"\n",
    "    if matrix is None or not isinstance(matrix, np.ndarray):\n",
    "        raise ValueError(\"Input matrix is invalid\")\n",
    "    if p is None:\n",
    "        return matrix2norm(matrix)\n",
    "    p = float(p)\n",
    "    if not isinstance(p, float) or p <= 0.0:\n",
    "        raise ValueError(\"p must be a positive integer\")\n",
    "\n",
    "    singular_values = calculate_matrix_singular_values(matrix)\n",
    "    norm = np.sum(np.abs(singular_values)**p)**(1.0/p)\n",
    "    return norm\n",
    "\n",
    "def calculate_matrix_singular_values(matrix: np.ndarray) -> np.ndarray:\n",
    "    \"\"\"\n",
    "    Calculate the singular values of a matrix manually.\n",
    "\n",
    "    Parameters:\n",
    "    matrix (numpy.ndarray): Input matrix for which the singular values are to be calculated.\n",
    "\n",
    "    Returns:\n",
    "    numpy.ndarray: The singular values of the input matrix.\n",
    "    \"\"\"\n",
    "    if matrix is None or not isinstance(matrix, np.ndarray):\n",
    "        raise ValueError(\"Input matrix is invalid\")\n",
    "\n",
    "    product_matrix = np.dot(matrix.T, matrix) if matrix.shape[0] > matrix.shape[1] else np.dot(matrix, matrix.T)\n",
    "    eigenvalues, _ = np.linalg.eig(product_matrix)\n",
    "    singular_values = np.sqrt(np.abs(eigenvalues))\n",
    "    return singular_values"
   ]
  },
  {
   "cell_type": "code",
   "execution_count": null,
   "metadata": {},
   "outputs": [],
   "source": [
    "def matrixInfnorm(matrix: np.ndarray) -> float:\n",
    "    \"\"\"\n",
    "    Calculate the infinity-norm of a matrix manually.\n",
    "\n",
    "    Parameters:\n",
    "    matrix (numpy.ndarray): Input matrix for which the infinity-norm is to be calculated.\n",
    "\n",
    "    Returns:\n",
    "    float: The infinity-norm of the input matrix.\n",
    "    \"\"\"\n",
    "    if matrix is None or not isinstance(matrix, np.ndarray):\n",
    "        raise ValueError(\"Input matrix is invalid\")\n",
    "\n",
    "    row_sums = np.sum(np.abs(matrix), axis=1)  # Calculate absolute row sums\n",
    "    norm = np.max(row_sums)  # Take the maximum of the absolute row sums\n",
    "    return norm"
   ]
  },
  {
   "cell_type": "markdown",
   "metadata": {},
   "source": [
    "\n",
    "## Exercise 2b:\n",
    "\n",
    "Test out the norms for some matrices!"
   ]
  },
  {
   "cell_type": "code",
   "execution_count": null,
   "metadata": {},
   "outputs": [],
   "source": [
    "matrix = np.array([[1, 2, 3], [4, 5, 6], [7, 8, 9]])\n",
    "\n",
    "norm2 = matrix2norm(matrix)\n",
    "norm3 = matrixPnorm(matrix, 3)\n",
    "norm3_5 = matrixPnorm(matrix, 3.5)\n",
    "norm4 = matrixPnorm(matrix, 4)\n",
    "normInf = matrixInfnorm(matrix)\n",
    "\n",
    "print(f\"2-norm of {matrix} is {norm2}\")\n",
    "print(f\"3-norm of {matrix} is {norm3}\")\n",
    "print(f\"3.5-norm of {matrix} is {norm3_5}\")\n",
    "print(f\"4-norm of {matrix} is {norm4}\")\n",
    "print(f\"Inf-norm of {matrix} is {normInf}\")"
   ]
  },
  {
   "cell_type": "markdown",
   "metadata": {},
   "source": [
    "--------\n",
    "## Exercise 3:\n",
    "\n",
    "Loading EKZ data into Python."
   ]
  },
  {
   "cell_type": "code",
   "execution_count": null,
   "metadata": {},
   "outputs": [],
   "source": [
    "data = pd.read_csv('ewz_stromabgabe_netzebenen_stadt_zuerich.csv', parse_dates=['Timestamp'])\n",
    "data['Timestamp'] = pd.to_datetime(data['Timestamp'], utc=True)\n",
    "data.set_index('Timestamp', inplace=True)"
   ]
  },
  {
   "cell_type": "code",
   "execution_count": null,
   "metadata": {},
   "outputs": [],
   "source": [
    "dayone = data.head(100)\n",
    "print(dayone.head(5))"
   ]
  },
  {
   "cell_type": "code",
   "execution_count": null,
   "metadata": {},
   "outputs": [],
   "source": [
    "time = np.array(dayone.index)\n",
    "\n",
    "plt.figure(figsize=(10, 5))\n",
    "\n",
    "plt.plot(time, dayone['Value_NE5'], label='NE5')\n",
    "plt.plot(time, dayone['Value_NE7'], label='NE7')\n",
    "\n",
    "plt.xlabel('Time')\n",
    "plt.ylabel('Value')\n",
    "plt.title('NE5 & NE7 vs Time')\n",
    "plt.legend()\n",
    "plt.ylim(bottom=0)\n",
    "plt.gca().xaxis.set_major_formatter(mdates.DateFormatter('%H:%M'))\n",
    "\n",
    "plt.show()"
   ]
  },
  {
   "cell_type": "code",
   "execution_count": null,
   "metadata": {},
   "outputs": [],
   "source": [
    "ne5_infinity_norm = np.max(np.abs(dayone['Value_NE5']))\n",
    "ne7_infinity_norm = np.max(np.abs(dayone['Value_NE7']))\n",
    "\n",
    "print(\"Infinity norm of NE5:\", ne5_infinity_norm)\n",
    "print(\"Infinity norm of NE7:\", ne7_infinity_norm)"
   ]
  },
  {
   "cell_type": "code",
   "execution_count": null,
   "metadata": {},
   "outputs": [],
   "source": [
    "daily_data = data.resample('D').mean()"
   ]
  },
  {
   "cell_type": "code",
   "execution_count": null,
   "metadata": {},
   "outputs": [],
   "source": [
    "time = np.array(daily_data.index)\n",
    "\n",
    "plt.figure(figsize=(10, 5))\n",
    "\n",
    "plt.plot(time, daily_data['Value_NE5'], label='NE5')\n",
    "plt.plot(time, daily_data['Value_NE7'], label='NE7')\n",
    "\n",
    "plt.xlabel('Time')\n",
    "plt.ylabel('Value')\n",
    "plt.title('NE5 & NE7 vs Time')\n",
    "plt.legend()\n",
    "plt.ylim(bottom=0)\n",
    "\n",
    "plt.show()"
   ]
  },
  {
   "cell_type": "code",
   "execution_count": null,
   "metadata": {},
   "outputs": [],
   "source": [
    "ne5_2_norm = np.linalg.norm(dayone['Value_NE5'])\n",
    "ne7_2_norm = np.linalg.norm(dayone['Value_NE7'])\n",
    "\n",
    "print(\"2-norm of NE5:\", ne5_2_norm)\n",
    "print(\"2-norm of NE7:\", ne7_2_norm)"
   ]
  },
  {
   "cell_type": "markdown",
   "metadata": {},
   "source": [
    "--------- \n",
    "\n",
    "## Exercise 4a: Uncertainties in Control Systems"
   ]
  },
  {
   "cell_type": "markdown",
   "metadata": {},
   "source": [
    "After excelling in your studies at ETHz, you have risen the ranks at XYZ Corp. to become lead engineer for a variety of automobile and aerospace control products. \n",
    "\n",
    "As part of an aileron controller to reduce wingtip flatter, three of your engineers approach you with three different controllers. All appear to be stable and fulfill the performance goals. The engineers leave their control matrices, X, Y, and Z, on your desk, each convinced their controller is the best.\n",
    "\n",
    "However, you recall from your Control Systems II lecture that model uncertainties can throw off a controller easily, especially in the case of an aerodynamic scenario. Due to wind and other factors, the actual controller matrix ends up looking like $L \\pm \\epsilon \\Delta L$, where $\\epsilon \\in (-1, 1)$. Therefore, you (painstakingly) calculate the uncertainity matrices $\\Delta X$, $\\Delta Y$, and $\\Delta Z$."
   ]
  },
  {
   "cell_type": "markdown",
   "metadata": {},
   "source": [
    "$X = \\begin{bmatrix}\n",
    "-6 & 2 & 1 \\\\\n",
    "2 & -9 & 4 \\\\\n",
    "1 & 4 & -9 \n",
    "\\end{bmatrix}  $,    $\\lambda_X = [-3.30054422, -7.62276318 ,-13.0766926]$,    $\\Delta X = \\begin{bmatrix}\n",
    "a_1 & a_2 & a_3 \\\\\n",
    "b_1 & b_2 & b_3 \\\\\n",
    "c_1 & c_2 & c_3 \n",
    "\\end{bmatrix}$\n",
    "\n",
    "$Y = \\begin{bmatrix}\n",
    "-2 & 1 & -3 \\\\\n",
    "0 & -2 & 1 \\\\\n",
    "0 & -4 & -3 \n",
    "\\end{bmatrix}  $,    $\\lambda_Y = [-2. +0.j, -2.5+1.93649167j ,-2.5-1.93649167j]$,    $\\Delta Y = \\begin{bmatrix}\n",
    "a_1 & a_2 & a_3 \\\\\n",
    "b_1 & b_2 & b_3 \\\\\n",
    "c_1 & c_2 & c_3 \n",
    "\\end{bmatrix}$\n",
    "\n",
    "$Z = \\begin{bmatrix}\n",
    "-5 & 2 & 0 \\\\\n",
    "2 & -5 & 0 \\\\\n",
    "-3 & 4 & -6 \n",
    "\\end{bmatrix}  $,    $\\lambda_Z = [-6, -3, -7]$,    $\\Delta Z = \\begin{bmatrix}\n",
    "a_1 & a_2 & a_3 \\\\\n",
    "b_1 & b_2 & b_3 \\\\\n",
    "c_1 & c_2 & c_3 \n",
    "\\end{bmatrix}$"
   ]
  },
  {
   "cell_type": "markdown",
   "metadata": {},
   "source": [
    "Use the **Bauer-Fike Theorem** to determine which of the controllers (X, Y, or Z) is in danger of becoming unstable. The **Bauer-Fike Theorem** states that:\n",
    "\n",
    "*No eigenvalue of $L + \\Delta L$ can differ from an eigenvalue of $L$ by more than $\\min(||L||_1 ||L^{-1}||_1 \\cdot ||\\Delta L||_1, ||L||_{\\infty} ||L^{-1}||_{\\infty} \\cdot ||\\Delta L||_{\\infty})$*\n",
    "\n",
    "[Further Reading](https://www-users.cse.umn.edu/~boley/publications/papers/BF.pdf)"
   ]
  },
  {
   "cell_type": "code",
   "execution_count": null,
   "metadata": {},
   "outputs": [],
   "source": [
    "def eigenvalue_deviation(L: np.ndarray, delL: np.ndarray) -> float:\n",
    "    \"\"\"\n",
    "    Calculate $min(||L||_1 ||L^{-1}||_1 \\cdot ||\\Delta L||_1, ||L||_{\\infty} ||L^{-1}||_{\\infty} \\cdot ||\\Delta L||_{\\infty})$ \n",
    "\n",
    "    Parameters:\n",
    "    - L (np.ndarray): The original matrix.\n",
    "    - delL (np.ndarray): The perturbation matrix.\n",
    "\n",
    "    Returns:\n",
    "    -> float: The deviation value.\n",
    "    \"\"\"\n",
    "\n",
    "    if L is None or delL is None or not isinstance(L, np.ndarray) or not isinstance(delL, np.ndarray):\n",
    "        raise ValueError(\"Input matrices are invalid\")\n",
    "    if L.shape != delL.shape:\n",
    "        raise ValueError(\"Input matrices must be of the same shape\")\n",
    "\n",
    "    norm1 = matrixPnorm(L, 1) * matrixPnorm(np.linalg.inv(L), 1) * matrixPnorm(delL, 1)\n",
    "    normInf = matrixInfnorm(L) * matrixInfnorm(np.linalg.inv(L)) * matrixInfnorm(delL)\n",
    "    return min(norm1, normInf)"
   ]
  },
  {
   "cell_type": "code",
   "execution_count": null,
   "metadata": {},
   "outputs": [],
   "source": [
    "X = np.array([[-6, 2, 1], [2, -9, 4], [1, 4, -9]])\n",
    "Y = np.array([[-2, 1, -3], [0, -2, 1], [0, -4, -3]])\n",
    "Z = np.array([[-5, 2, 0], [2, -5, 0], [-3, 1, -6]])\n",
    "\n",
    "delX = np.array([[0.8, 0.4, 0.3], [-0.5, 0.6, -0.2], [0.7, 0.9, -0.8]])\n",
    "delY = np.array([[-0.3, 0.9, 0.5], [-0.4, 0, 0.1], [0.6, 0.3, 0.0]])\n",
    "delZ = np.array([[-0.1, 0.2, 0.1], [0.2, -0.1, -0.1], [0.3, 0.2, 0.2]])\n",
    "\n",
    "deviation_X = eigenvalue_deviation(X, delX)\n",
    "deviation_Y = eigenvalue_deviation(Y, delY)\n",
    "deviation_Z = eigenvalue_deviation(Z, delZ)\n",
    "\n",
    "print(f\"Eigenvalues for X: {np.linalg.eigvals(X)}\")\n",
    "print(f\"Eigenvalues for Y: {np.linalg.eigvals(Y)}\")\n",
    "print(f\"Eigenvalues for Z: {np.linalg.eigvals(Z)}\")\n",
    "\n",
    "print(f\"Deviation for X: {deviation_X}\")\n",
    "print(f\"Deviation for Y: {deviation_Y}\")\n",
    "print(f\"Deviation for Z: {deviation_Z}\")"
   ]
  },
  {
   "cell_type": "markdown",
   "metadata": {},
   "source": [
    "As you can see, only controller $Z$ can guarantee that the eigenvalues will not cross into the right-half plane (unstable). Of course, this is a crude test to check the maximum deviations of eigenvalues."
   ]
  },
  {
   "cell_type": "markdown",
   "metadata": {},
   "source": [
    "## Exercise 4b: Maximum Input Direction\n",
    "\n",
    "Now you have taken this controller and intend to further develop it. A member of the structural team wants to know how much the aileron needs to deflect using this controller. Therefore, you must find the maximum input direction."
   ]
  },
  {
   "cell_type": "markdown",
   "metadata": {},
   "source": [
    "Using SVD (Singular-Value-Decomposition), determine the input direction for which the output is maximal. Report both the input and the output."
   ]
  },
  {
   "cell_type": "code",
   "execution_count": null,
   "metadata": {},
   "outputs": [],
   "source": [
    "def maxinputdir(A: np.ndarray) -> Tuple[np.ndarray, np.ndarray, np.ndarray]:\n",
    "    \"\"\"\n",
    "    Find the input and output direction corresponding to the largest singular value.\n",
    "\n",
    "    Parameters:\n",
    "    - A (np.ndarray): The input matrix.\n",
    "\n",
    "    Returns:\n",
    "    -> Tuple[np.ndarray, float, np.ndarray]: The input direction, the largest singular value, and the output direction.\n",
    "    \"\"\"\n",
    "\n",
    "    U, S, Vt = np.linalg.svd(A)\n",
    "    max_index = np.argmax(S)\n",
    "    \n",
    "    input_dir = Vt[max_index]\n",
    "    max_singular_value = S[max_index]\n",
    "    output_dir = U[max_index]\n",
    "\n",
    "\n",
    "    return input_dir, max_singular_value, output_dir"
   ]
  },
  {
   "cell_type": "code",
   "execution_count": null,
   "metadata": {},
   "outputs": [],
   "source": [
    "U, S, Vt = maxinputdir(Z)\n",
    "print(f\"Input direction: {U}\")\n",
    "print(f\"Largest singular value: {S}\")\n",
    "print(f\"Output direction: {Vt}\")"
   ]
  }
 ],
 "metadata": {
  "kernelspec": {
   "display_name": "Python 3",
   "language": "python",
   "name": "python3"
  },
  "language_info": {
   "codemirror_mode": {
    "name": "ipython",
    "version": 3
   },
   "file_extension": ".py",
   "mimetype": "text/x-python",
   "name": "python",
   "nbconvert_exporter": "python",
   "pygments_lexer": "ipython3",
   "version": "3.10.11"
  }
 },
 "nbformat": 4,
 "nbformat_minor": 2
}
