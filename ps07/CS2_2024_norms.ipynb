{
 "cells": [
  {
   "cell_type": "markdown",
   "metadata": {},
   "source": [
    "-------\n",
    "\n",
    "## Python Libraries\n",
    "\n",
    "We use the following Python libraries which need to be imported. If you have no experience with the [NumPy](https://numpy.org/) library, read the documentation and do some tutorials. It is very important for matrix operations in Python."
   ]
  },
  {
   "cell_type": "code",
   "execution_count": null,
   "metadata": {},
   "outputs": [],
   "source": [
    "# Install the required python library with pip\n",
    "!pip install C:\\CS2solutions\\cs2solutions --force-reinstall"
   ]
  },
  {
   "cell_type": "markdown",
   "metadata": {},
   "source": [
    "-------\n",
    "\n",
    "## Installation\n",
    "We use the [Python library](https://python-control.readthedocs.io/en/0.9.3.post2/) `control`, which can be installed using `pip`. If you have no experience with Python, try to do some tutorials (e.g. check [this](https://docs.python.org/3/tutorial/) one). The same goes for installing Python packages using `pip`, see this [tutorial](https://packaging.python.org/en/latest/tutorials/installing-packages/). There are plenty of other Python tutorials for beginners if you do a Google/YouTube search.\n",
    "\n",
    "If you have done all the Jupyter Notebooks leading up to this one, you should have all the necessary libraries installed. \n"
   ]
  },
  {
   "cell_type": "code",
   "execution_count": null,
   "metadata": {},
   "outputs": [],
   "source": [
    "# Import the required python libraries\n",
    "!pip install widget\n",
    "!pip install ipympl\n",
    "%matplotlib widget\n",
    "from typing import Optional, List, Tuple\n",
    "from cs2solutions import norms\n",
    "from mpl_toolkits.mplot3d import Axes3D\n",
    "import numpy as np\n",
    "import matplotlib.pyplot as plt\n",
    "import matplotlib.dates as mdates\n",
    "import control as ct\n",
    "import pandas as pd"
   ]
  },
  {
   "cell_type": "markdown",
   "metadata": {},
   "source": [
    "--------\n",
    "## Exercise 1a:\n",
    "\n",
    "Please complete the following function to calculate the 2-norm and infinity-norm of a vector.\n",
    "\n",
    "$||x||_2 = \\sqrt{\\Sigma_i |x_i|^2}$\n",
    "\n",
    "$||x||_{\\infty} = \\max{|x_i|}$"
   ]
  },
  {
   "cell_type": "code",
   "execution_count": null,
   "metadata": {},
   "outputs": [],
   "source": [
    "def vector2norm(vector: np.ndarray) -> float:\n",
    "    \"\"\"\n",
    "    Calculate the 2-norm (Euclidean norm) of a NumPy array.\n",
    "\n",
    "    Parameters:\n",
    "    vector (np.ndarray): Input array for which 2-norm is to be calculated.\n",
    "\n",
    "    Returns:\n",
    "    float: The 2-norm of the input array.\n",
    "    \"\"\"\n",
    "    #TODO\n",
    "\n",
    "    return 0.0"
   ]
  },
  {
   "cell_type": "code",
   "execution_count": null,
   "metadata": {},
   "outputs": [],
   "source": [
    "def vectorInfnorm(vector: np.ndarray) -> float:\n",
    "    \"\"\"\n",
    "    Calculate the infinity-norm (maximum absolute value) of a NumPy array.\n",
    "\n",
    "    Parameters:\n",
    "    vector (np.ndarray): Input array for which infinity-norm is to be calculated.\n",
    "\n",
    "    Returns:\n",
    "    float: The infinity-norm of the input array.\n",
    "    \"\"\"\n",
    "    #TODO\n",
    "\n",
    "    return 0.0"
   ]
  },
  {
   "cell_type": "markdown",
   "metadata": {},
   "source": [
    "## Exercise 1b\n",
    "\n",
    "Below you find an outline for the p-norm of a vector. Please complete the function.\n",
    "\n",
    "$||x||_p = (\\Sigma_i |x_i|^p)^{\\frac{1}{p}}$\n",
    "\n",
    "Complete the small adjustments needed to make 'vectorPnorm(vector, p)' also work with floating-point variables 'p'."
   ]
  },
  {
   "cell_type": "code",
   "execution_count": null,
   "metadata": {},
   "outputs": [],
   "source": [
    "def vectorPnorm(vector: np.ndarray, p: float) -> float:\n",
    "    \"\"\"\n",
    "    Calculate the p-norm (maximum absolute value) of a NumPy array.\n",
    "\n",
    "    Parameters:\n",
    "    vector (np.ndarray): Input array for which p-norm is to be calculated.\n",
    "\n",
    "    Returns:\n",
    "    float: The p-norm of the input array.\n",
    "    \"\"\"\n",
    "\n",
    "    norm_sum = 0.0\n",
    "    # for elem in vector:\n",
    "        #TODO\n",
    "    \n",
    "    return 0.0"
   ]
  },
  {
   "cell_type": "markdown",
   "metadata": {},
   "source": [
    "Test your code below:"
   ]
  },
  {
   "cell_type": "code",
   "execution_count": null,
   "metadata": {},
   "outputs": [],
   "source": [
    "array = np.array([1, 2, 3, 4, 5])\n",
    "norm2 = vector2norm(array)\n",
    "norm3 = vectorPnorm(array, 3)\n",
    "norm3_5 = vectorPnorm(array, 3.5)\n",
    "norm4 = vectorPnorm(array, 4)\n",
    "\n",
    "print(f\"2-norm of {array} is {norm2}\")\n",
    "print(f\"3-norm of {array} is {norm3}\")\n",
    "print(f\"3.5-norm of {array} is {norm3_5}\")\n",
    "print(f\"4-norm of {array} is {norm4}\")\n",
    "print(f\"Inf-norm of {array} is {vectorInfnorm(array)}\")"
   ]
  },
  {
   "cell_type": "code",
   "execution_count": null,
   "metadata": {},
   "outputs": [],
   "source": [
    "norms.test_vector_norm(vector2norm, norms.sol_vector2norm)"
   ]
  },
  {
   "cell_type": "code",
   "execution_count": null,
   "metadata": {},
   "outputs": [],
   "source": [
    "norms.test_vector_norm(vectorInfnorm, norms.sol_vectorInfnorm)"
   ]
  },
  {
   "cell_type": "code",
   "execution_count": null,
   "metadata": {},
   "outputs": [],
   "source": [
    "norms.test_vectorPnorm(vectorPnorm, norms.sol_vectorPnorm)"
   ]
  },
  {
   "cell_type": "markdown",
   "metadata": {},
   "source": [
    "--------\n",
    "## Exercise 2a:\n",
    "\n",
    "Fill out the code for the following matrix norms:\n",
    "\n",
    "$||G||_{2,ind} = \\sqrt{\\rho(G^*G)} = \\sqrt{|\\lambda_{max}(G^*G)|} = \\overline{\\sigma}(G)$\n",
    "\n",
    "$||G||_{P,ind} = \\sup_{\\omega \\neq 0}{\\frac{||G\\omega||_p}{||\\omega||_p}} = (\\Sigma_i \\sigma_i(G)^p)^{\\frac{1}{p}}$\n",
    "\n",
    "$||G||_{\\infty, ind} = max_i{\\Sigma_j |g_{ij}|}$"
   ]
  },
  {
   "cell_type": "code",
   "execution_count": null,
   "metadata": {},
   "outputs": [],
   "source": [
    "def matrix2norm(matrix: np.ndarray) -> float:\n",
    "    \"\"\"\n",
    "    Calculate the 2-norm of a matrix manually.\n",
    "\n",
    "    Parameters:\n",
    "    matrix (numpy.ndarray): Input matrix for which the 2-norm is to be calculated.\n",
    "\n",
    "    Returns:\n",
    "    float: The 2-norm of the input matrix.\n",
    "    \"\"\"\n",
    "    product_matrix = np.dot(matrix.T, matrix)\n",
    "    return 0.0"
   ]
  },
  {
   "cell_type": "markdown",
   "metadata": {},
   "source": [
    "For calculating the matrix P-norm, it makes sense to create a separate function that finds singular values from a matrix."
   ]
  },
  {
   "cell_type": "code",
   "execution_count": null,
   "metadata": {},
   "outputs": [],
   "source": [
    "def calculate_matrix_singular_values(matrix: np.ndarray) -> np.ndarray:\n",
    "    \"\"\"\n",
    "    Calculate the singular values of a matrix manually.\n",
    "\n",
    "    Parameters:\n",
    "    matrix (numpy.ndarray): Input matrix for which the singular values are to be calculated.\n",
    "\n",
    "    Returns:\n",
    "    numpy.ndarray: The singular values of the input matrix.\n",
    "    \"\"\"\n",
    "\n",
    "    product_matrix = 0 #TODO\n",
    "    # eigenvalues, _ = np.linalg.eig(product_matrix)\n",
    "    #TODO\n",
    "    return 0.0 #TODO\n",
    "\n",
    "def matrixPnorm(matrix: np.ndarray, p: float) -> float:\n",
    "    \"\"\"\n",
    "    Calculate the p-norm of a matrix manually.\n",
    "\n",
    "    Parameters:\n",
    "    matrix (numpy.ndarray): Input matrix for which the p-norm is to be calculated.\n",
    "\n",
    "    Returns:\n",
    "    float: The p-norm of the input matrix.\n",
    "    \"\"\"\n",
    "\n",
    "    singular_values = calculate_matrix_singular_values(matrix)\n",
    "    #TODO\n",
    "    return 0.0 #TODO"
   ]
  },
  {
   "cell_type": "code",
   "execution_count": null,
   "metadata": {},
   "outputs": [],
   "source": [
    "def matrixInfnorm(matrix: np.ndarray) -> float:\n",
    "    \"\"\"\n",
    "    Calculate the infinity-norm of a matrix manually.\n",
    "\n",
    "    Parameters:\n",
    "    matrix (numpy.ndarray): Input matrix for which the infinity-norm is to be calculated.\n",
    "\n",
    "    Returns:\n",
    "    float: The infinity-norm of the input matrix.\n",
    "    \"\"\"\n",
    "\n",
    "    return 0.0 #TODO"
   ]
  },
  {
   "cell_type": "markdown",
   "metadata": {},
   "source": [
    "\n",
    "## Exercise 2b:\n",
    "\n",
    "Test out the norms for some matrices!"
   ]
  },
  {
   "cell_type": "code",
   "execution_count": null,
   "metadata": {},
   "outputs": [],
   "source": [
    "matrix = np.array([[1, 2, 3], [4, 5, 6], [7, 8, 9]])\n",
    "\n",
    "norm2 = matrix2norm(matrix)\n",
    "norm3 = matrixPnorm(matrix, 3)\n",
    "norm3_5 = matrixPnorm(matrix, 3.5)\n",
    "norm4 = matrixPnorm(matrix, 4)\n",
    "normInf = matrixInfnorm(matrix)\n",
    "\n",
    "print(f\"2-norm of {matrix} is {norm2}\")\n",
    "print(f\"3-norm of {matrix} is {norm3}\")\n",
    "print(f\"3.5-norm of {matrix} is {norm3_5}\")\n",
    "print(f\"4-norm of {matrix} is {norm4}\")\n",
    "print(f\"Inf-norm of {matrix} is {normInf}\")"
   ]
  },
  {
   "cell_type": "code",
   "execution_count": null,
   "metadata": {},
   "outputs": [],
   "source": [
    "norms.test_matrix_norm(matrix2norm, norms.sol_matrix2norm)"
   ]
  },
  {
   "cell_type": "code",
   "execution_count": null,
   "metadata": {},
   "outputs": [],
   "source": [
    "norms.test_matrix_norm(matrixInfnorm, norms.sol_matrixInfnorm)"
   ]
  },
  {
   "cell_type": "code",
   "execution_count": null,
   "metadata": {},
   "outputs": [],
   "source": [
    "norms.test_matrixPnorm(matrixPnorm, norms.sol_matrixPnorm)"
   ]
  },
  {
   "cell_type": "markdown",
   "metadata": {},
   "source": [
    "--------\n",
    "## Exercise 3:\n",
    "\n",
    "For this exercise, a dataset from EWZ (Elektrizitätswerk der Stadt Zürich) is used. It contains the total energy used in the EWZ-Network on a 15-minute basis since 2015. \n",
    "\n",
    "Column 'Value_NE5': Netzebene 5, Low Voltage Use, such as homes and shops\n",
    "\n",
    "Column 'Value_NE7': Netzebene 7, Medium Voltage Use, such as industry\n",
    "\n",
    "**Make sure that the file 'ewz_stromabgabe_netzebenen_stadt_zuerich.csv' is parallel to this notebook file**"
   ]
  },
  {
   "cell_type": "markdown",
   "metadata": {},
   "source": [
    "The below code imports and plots the electricity usage for one day:"
   ]
  },
  {
   "cell_type": "code",
   "execution_count": 10,
   "metadata": {},
   "outputs": [],
   "source": [
    "data = pd.read_csv('ewz_stromabgabe_netzebenen_stadt_zuerich.csv', parse_dates=['Timestamp'])\n",
    "data['Timestamp'] = pd.to_datetime(data['Timestamp'], utc=True)\n",
    "data.set_index('Timestamp', inplace=True)\n",
    "\n",
    "dayone = data.head(100)"
   ]
  },
  {
   "cell_type": "code",
   "execution_count": 11,
   "metadata": {},
   "outputs": [
    {
     "data": {
      "application/vnd.jupyter.widget-view+json": {
       "model_id": "7060cb338c714de2a83d7f8624025ef9",
       "version_major": 2,
       "version_minor": 0
      },
      "image/png": "[encoded data removed]",
      "text/html": [
       "\n",
       "            <div style=\"display: inline-block;\">\n",
       "                <div class=\"jupyter-widgets widget-label\" style=\"text-align: center;\">\n",
       "                    Figure\n",
       "                </div>\n",
       "                <img src='data:image/png;base64,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' width=1000.0/>\n",
       "            </div>\n",
       "        "
      ],
      "text/plain": [
       "Canvas(toolbar=Toolbar(toolitems=[('Home', 'Reset original view', 'home', 'home'), ('Back', 'Back to previous …"
      ]
     },
     "metadata": {},
     "output_type": "display_data"
    }
   ],
   "source": [
    "time = np.array(dayone.index)\n",
    "\n",
    "plt.figure(figsize=(10, 5))\n",
    "\n",
    "plt.plot(time, dayone['Value_NE5'], label='NE5')\n",
    "plt.plot(time, dayone['Value_NE7'], label='NE7')\n",
    "\n",
    "plt.xlabel('Time')\n",
    "plt.ylabel('Value')\n",
    "plt.title('NE5 & NE7 vs Time')\n",
    "plt.legend()\n",
    "plt.ylim(bottom=0)\n",
    "plt.gca().xaxis.set_major_formatter(mdates.DateFormatter('%H:%M'))\n",
    "\n",
    "plt.show()"
   ]
  },
  {
   "cell_type": "markdown",
   "metadata": {},
   "source": [
    "You are responsible in the data analysis team for determining which electricity lines need renewal and how to competitively price electricity in the Zurich region.\n",
    "\n",
    "- What norm would you use to determine the maximum load on the system? Calculate it and comment on the result.\n",
    "- What norm would be ideal for pricing electricity appropriately? If it is determined by the overall consumption, program a norm to calculate it."
   ]
  },
  {
   "cell_type": "code",
   "execution_count": null,
   "metadata": {},
   "outputs": [],
   "source": [
    "# Open Solution"
   ]
  },
  {
   "cell_type": "markdown",
   "metadata": {},
   "source": [
    "_Open Solution_"
   ]
  },
  {
   "cell_type": "markdown",
   "metadata": {},
   "source": [
    "The code below produces the energy consumption graph for a timespan of multiple years:"
   ]
  },
  {
   "cell_type": "code",
   "execution_count": null,
   "metadata": {},
   "outputs": [],
   "source": [
    "daily_data = data.resample('D').mean()\n",
    "time = np.array(daily_data.index)\n",
    "\n",
    "plt.figure(figsize=(10, 5))\n",
    "\n",
    "plt.plot(time, daily_data['Value_NE5'], label='NE5')\n",
    "plt.plot(time, daily_data['Value_NE7'], label='NE7')\n",
    "\n",
    "plt.xlabel('Time')\n",
    "plt.ylabel('Value')\n",
    "plt.title('NE5 & NE7 vs Time')\n",
    "plt.legend()\n",
    "plt.ylim(bottom=0)\n",
    "\n",
    "plt.show()"
   ]
  },
  {
   "cell_type": "markdown",
   "metadata": {},
   "source": [
    "Consider the plot above. Do any of your previous conclusions regarding norms change with this new data? [Open Question]"
   ]
  },
  {
   "cell_type": "code",
   "execution_count": null,
   "metadata": {},
   "outputs": [],
   "source": [
    "# Open Solution"
   ]
  },
  {
   "cell_type": "markdown",
   "metadata": {},
   "source": [
    "_Open Solution:_"
   ]
  },
  {
   "cell_type": "markdown",
   "metadata": {},
   "source": [
    "## Solution 3:"
   ]
  },
  {
   "cell_type": "markdown",
   "metadata": {},
   "source": [
    "The signal infinity norm is useful for finding the maximum instantaneous electricity usage over a range of time, equivalent to finding the maximum in a discrete data series. \n",
    "\n",
    "The action norm (1-norm) is equivalent to the area under a curve and provides an effective estimate for the overall electricity consumption over time.\n",
    "\n",
    "The aptly named \"energy\" norm can be used to estimate the energy of a signal and can be interpreted as the load on the wiring of the plant."
   ]
  },
  {
   "cell_type": "code",
   "execution_count": null,
   "metadata": {},
   "outputs": [],
   "source": [
    "def sol_signalInfnorm(x: np.ndarray) -> float:\n",
    "    return np.max(np.abs(x))\n",
    "\n",
    "def sol_signal1norm(x: np.ndarray) -> float:\n",
    "    return np.sum(np.abs(x))\n",
    "\n",
    "def sol_signal2norm(x: np.ndarray) -> float:\n",
    "    return np.sqrt(np.sum(np.abs(x)**2))"
   ]
  },
  {
   "cell_type": "markdown",
   "metadata": {},
   "source": [
    "--------- \n",
    "\n",
    "## Exercise 4a: Uncertainties in Control Systems"
   ]
  },
  {
   "cell_type": "markdown",
   "metadata": {},
   "source": [
    "After excelling in your studies at ETHz, you have risen the ranks at XYZ Corp. to become lead engineer for a variety of automobile and aerospace control products. \n",
    "\n",
    "As part of an aileron controller to reduce wingtip flutter, three of your engineers approach you with three different controllers. All appear to be stable and fulfill the performance goals. The engineers leave their control matrices, X, Y, and Z, on your desk, each convinced their controller is the best.\n",
    "\n",
    "However, you recall from your Control Systems II lecture that model uncertainties can throw off a controller easily, especially in the case of an aerodynamic scenario. Due to wind and other factors, the actual controller matrix ends up looking like $L \\pm \\epsilon \\Delta L$, where $\\epsilon \\in (-1, 1)$. Therefore, you (painstakingly) calculate the uncertainity matrices $\\Delta X$, $\\Delta Y$, and $\\Delta Z$."
   ]
  },
  {
   "cell_type": "markdown",
   "metadata": {},
   "source": [
    "$X = \\begin{bmatrix}\n",
    "-6 & 2 & 1 \\\\\n",
    "2 & -9 & 4 \\\\\n",
    "1 & 4 & -9 \n",
    "\\end{bmatrix}  $,    $\\lambda_X = [-3.30054422, -7.62276318 ,-13.0766926]$,    $\\Delta X = \\begin{bmatrix}\n",
    "a_1 & a_2 & a_3 \\\\\n",
    "b_1 & b_2 & b_3 \\\\\n",
    "c_1 & c_2 & c_3 \n",
    "\\end{bmatrix}$\n",
    "\n",
    "$Y = \\begin{bmatrix}\n",
    "-2 & 1 & -3 \\\\\n",
    "0 & -2 & 1 \\\\\n",
    "0 & -4 & -3 \n",
    "\\end{bmatrix}  $,    $\\lambda_Y = [-2. +0.j, -2.5+1.93649167j ,-2.5-1.93649167j]$,    $\\Delta Y = \\begin{bmatrix}\n",
    "a_1 & a_2 & a_3 \\\\\n",
    "b_1 & b_2 & b_3 \\\\\n",
    "c_1 & c_2 & c_3 \n",
    "\\end{bmatrix}$\n",
    "\n",
    "$Z = \\begin{bmatrix}\n",
    "-5 & 2 & 0 \\\\\n",
    "2 & -5 & 0 \\\\\n",
    "-3 & 4 & -6 \n",
    "\\end{bmatrix}  $,    $\\lambda_Z = [-6, -3, -7]$,    $\\Delta Z = \\begin{bmatrix}\n",
    "a_1 & a_2 & a_3 \\\\\n",
    "b_1 & b_2 & b_3 \\\\\n",
    "c_1 & c_2 & c_3 \n",
    "\\end{bmatrix}$"
   ]
  },
  {
   "cell_type": "markdown",
   "metadata": {},
   "source": [
    "Use the **Bauer-Fike Theorem** to determine which of the controllers (X, Y, or Z) is in danger of becoming unstable. The **Bauer-Fike Theorem** states that:\n",
    "\n",
    "*No eigenvalue of $L + \\Delta L$ can differ from an eigenvalue of $L$ by more than $\\min(||L||_1 ||L^{-1}||_1 \\cdot ||\\Delta L||_1, ||L||_{\\infty} ||L^{-1}||_{\\infty} \\cdot ||\\Delta L||_{\\infty})$*\n",
    "\n",
    "[Further Reading](https://www-users.cse.umn.edu/~boley/publications/papers/BF.pdf)"
   ]
  },
  {
   "cell_type": "code",
   "execution_count": null,
   "metadata": {},
   "outputs": [],
   "source": [
    "def eigenvalue_deviation(L: np.ndarray, delL: np.ndarray) -> float:\n",
    "    \"\"\"\n",
    "    Calculate $min(||L||_1 ||L^{-1}||_1 \\cdot ||\\Delta L||_1, ||L||_{\\infty} ||L^{-1}||_{\\infty} \\cdot ||\\Delta L||_{\\infty})$ \n",
    "\n",
    "    Parameters:\n",
    "    - L (np.ndarray): The original matrix.\n",
    "    - delL (np.ndarray): The perturbation matrix.\n",
    "\n",
    "    Returns:\n",
    "    -> float: The deviation value.\n",
    "    \"\"\"\n",
    "\n",
    "    if L is None or delL is None or not isinstance(L, np.ndarray) or not isinstance(delL, np.ndarray):\n",
    "        raise ValueError(\"Input matrices are invalid\")\n",
    "    if L.shape != delL.shape:\n",
    "        raise ValueError(\"Input matrices must be of the same shape\")\n",
    "\n",
    "    norm1 = matrixPnorm(L, 1) * matrixPnorm(np.linalg.inv(L), 1) * matrixPnorm(delL, 1)\n",
    "    normInf = matrixInfnorm(L) * matrixInfnorm(np.linalg.inv(L)) * matrixInfnorm(delL)\n",
    "    return min(norm1, normInf)"
   ]
  },
  {
   "cell_type": "code",
   "execution_count": null,
   "metadata": {},
   "outputs": [],
   "source": [
    "X = np.array([[-6, 2, 1], [2, -9, 4], [1, 4, -9]])\n",
    "Y = np.array([[-2, 1, -3], [0, -2, 1], [0, -4, -3]])\n",
    "Z = np.array([[-5, 2, 0], [2, -5, 0], [-3, 1, -6]])\n",
    "\n",
    "delX = np.array([[0.8, 0.4, 0.3], [-0.5, 0.6, -0.2], [0.7, 0.9, -0.8]])\n",
    "delY = np.array([[-0.3, 0.9, 0.5], [-0.4, 0, 0.1], [0.6, 0.3, 0.0]])\n",
    "delZ = np.array([[-0.1, 0.2, 0.1], [0.2, -0.1, -0.1], [0.3, 0.2, 0.2]])\n",
    "\n",
    "deviation_X = eigenvalue_deviation(X, delX)\n",
    "deviation_Y = eigenvalue_deviation(Y, delY)\n",
    "deviation_Z = eigenvalue_deviation(Z, delZ)\n",
    "\n",
    "print(f\"Eigenvalues for X: {np.linalg.eigvals(X)}\")\n",
    "print(f\"Eigenvalues for Y: {np.linalg.eigvals(Y)}\")\n",
    "print(f\"Eigenvalues for Z: {np.linalg.eigvals(Z)}\")\n",
    "\n",
    "print(f\"Deviation for X: {deviation_X}\")\n",
    "print(f\"Deviation for Y: {deviation_Y}\")\n",
    "print(f\"Deviation for Z: {deviation_Z}\")"
   ]
  },
  {
   "cell_type": "markdown",
   "metadata": {},
   "source": [
    "As you can see, only controller $Z$ can guarantee that the eigenvalues will not cross into the right-half plane (unstable). Of course, this is a crude test to check the maximum deviations of eigenvalues."
   ]
  },
  {
   "cell_type": "markdown",
   "metadata": {},
   "source": [
    "## Exercise 4b: Maximum Input Direction\n",
    "\n",
    "Now you have taken this controller and intend to further develop it. A member of the structural team wants to know how much the aileron needs to deflect using this controller. Therefore, you must find the maximum input direction."
   ]
  },
  {
   "cell_type": "markdown",
   "metadata": {},
   "source": [
    "Using SVD (Singular-Value-Decomposition), determine the input direction for which the output is maximal. Report both the input and the output."
   ]
  },
  {
   "cell_type": "code",
   "execution_count": null,
   "metadata": {},
   "outputs": [],
   "source": [
    "def maxinputdir(A: np.ndarray) -> Tuple[np.ndarray, np.ndarray, np.ndarray]:\n",
    "    \"\"\"\n",
    "    Find the input and output direction corresponding to the largest singular value.\n",
    "\n",
    "    Parameters:\n",
    "    - A (np.ndarray): The input matrix.\n",
    "\n",
    "    Returns:\n",
    "    -> Tuple[np.ndarray, float, np.ndarray]: The input direction, the largest singular value, and the output direction.\n",
    "    \"\"\"\n",
    "\n",
    "    U, S, Vt = np.linalg.svd(A)\n",
    "    max_index = np.argmax(S)\n",
    "    \n",
    "    input_dir = Vt[max_index]\n",
    "    max_singular_value = S[max_index]\n",
    "    output_dir = U[max_index]\n",
    "\n",
    "\n",
    "    return input_dir, max_singular_value, output_dir"
   ]
  },
  {
   "cell_type": "code",
   "execution_count": null,
   "metadata": {},
   "outputs": [],
   "source": [
    "input_dir, max_singular_value, output_dir = maxinputdir(Z)\n",
    "print(f\"Input direction: {input_dir}\")\n",
    "print(f\"Largest singular value: {max_singular_value}\")\n",
    "print(f\"Output direction: {output_dir}\")\n"
   ]
  },
  {
   "cell_type": "code",
   "execution_count": null,
   "metadata": {},
   "outputs": [],
   "source": [
    "def subplot_svd(A: np.ndarray, i: np.ndarray, j: np.ndarray, k: np.ndarray, dir: np.ndarray = None) -> None:\n",
    "    fig1 = plt.figure(figsize=(5, 5))\n",
    "    ax1 = fig1.add_subplot(111, projection='3d')\n",
    "    ax1.quiver(0, 0, 0, i[0], i[1], i[2], color='k', label='i (1,0,0)')\n",
    "    ax1.quiver(0, 0, 0, j[0], j[1], j[2], color='k', label='j (0,1,0)')\n",
    "    ax1.quiver(0, 0, 0, k[0], k[1], k[2], color='k', label='k (0,0,1)')\n",
    "    if dir is not None:\n",
    "        ax1.quiver(0, 0, 0, dir[0], dir[1], dir[2], color='r', label='Input direction')\n",
    "\n",
    "    # Generate points on the unit sphere\n",
    "    u = np.linspace(0, 2 * np.pi, 100)\n",
    "    v = np.linspace(0, np.pi, 50)\n",
    "    x = np.outer(np.cos(u), np.sin(v))\n",
    "    y = np.outer(np.sin(u), np.sin(v))\n",
    "    z = np.outer(np.ones_like(u), np.cos(v))\n",
    "\n",
    "    # Rotate and translate points to align with the given vectors\n",
    "    transform_matrix = np.vstack((i, j, k))\n",
    "    points = np.vstack((x.flatten(), y.flatten(), z.flatten())).T\n",
    "    transformed_points = np.dot(points, transform_matrix)\n",
    "\n",
    "    ax1.plot_surface(transformed_points[:, 0].reshape(x.shape),\n",
    "                    transformed_points[:, 1].reshape(y.shape),\n",
    "                    transformed_points[:, 2].reshape(z.shape),\n",
    "                    alpha=0.5)\n",
    "\n",
    "    # Set the aspect ratio of the axes to be equal\n",
    "    ax1.set_box_aspect([np.ptp(transformed_points[:, 0]), np.ptp(transformed_points[:, 1]), np.ptp(transformed_points[:, 2])])\n",
    "\n",
    "    ax1.set_xlabel('X')\n",
    "    ax1.set_ylabel('Y')\n",
    "    ax1.set_zlabel('Z')\n",
    "    plt.show()"
   ]
  },
  {
   "cell_type": "code",
   "execution_count": null,
   "metadata": {},
   "outputs": [],
   "source": [
    "def plot_svd3x3(A: np.ndarray) -> None:\n",
    "    \"\"\"\n",
    "    Plot the singular values of a matrix.\n",
    "\n",
    "    Parameters:\n",
    "    - A (np.ndarray): The input matrix.\n",
    "    \"\"\"\n",
    "    if not isinstance(A, np.ndarray) or len(A.shape) != 2:\n",
    "        raise ValueError(\"Input must be a 2D numpy array\")\n",
    "    \n",
    "    U, S, Vt = np.linalg.svd(A)\n",
    "    input_dir, max_singular_value, output_dir = maxinputdir(A)\n",
    "\n",
    "    i = np.array([1, 0, 0])\n",
    "    j = np.array([0, 1, 0])\n",
    "    k = np.array([0, 0, 1])\n",
    "    subplot_svd(A, i, j, k, input_dir)\n",
    "\n",
    "    i = Vt@i\n",
    "    j = Vt@j\n",
    "    k = Vt@k\n",
    "    subplot_svd(A, i, j, k)\n",
    "\n",
    "    print(j)\n",
    "    i *= S[0]\n",
    "    j *= S[1]\n",
    "    k *= S[2]\n",
    "    print(S[1])\n",
    "    print(j)\n",
    "    subplot_svd(A, i, j, k)\n",
    "\n",
    "    i = U@i\n",
    "    j = U@j\n",
    "    k = U@k\n",
    "    subplot_svd(A, i, j, k, output_dir)\n",
    "    "
   ]
  },
  {
   "cell_type": "code",
   "execution_count": null,
   "metadata": {},
   "outputs": [],
   "source": [
    "plot_svd3x3(Z)"
   ]
  }
 ],
 "metadata": {
  "kernelspec": {
   "display_name": "Python 3",
   "language": "python",
   "name": "python3"
  },
  "language_info": {
   "codemirror_mode": {
    "name": "ipython",
    "version": 3
   },
   "file_extension": ".py",
   "mimetype": "text/x-python",
   "name": "python",
   "nbconvert_exporter": "python",
   "pygments_lexer": "ipython3",
   "version": "3.10.11"
  }
 },
 "nbformat": 4,
 "nbformat_minor": 2
}
