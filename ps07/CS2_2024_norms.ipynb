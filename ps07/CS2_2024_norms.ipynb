{
 "cells": [
  {
   "cell_type": "markdown",
   "metadata": {},
   "source": [
    "# CSII 2023 Exercise 05: LQG, Separation Principle and Stability margins\n",
    "\n",
    "© 2024 ETH Zurich, Niclas Scheuer, Roy Werder, Joël Gmür, Kalle Laitinen, Dejan Milojevic; Institute for Dynamic Systems and Control; Prof. Emilio Frazzoli\n",
    "\n",
    "Reference:\n",
    "- [Python Control Systems Library](https://python-control.readthedocs.io/en/0.9.3.post2/steering.html)\n",
    "- Karl J. Astrom and Richard M. Murray 23 Jul 2019\n",
    "\n",
    "## Python Libraries\n",
    "\n",
    "We use the following Python libraries which need to be imported. If you have no experience with the [NumPy](https://numpy.org/) library, read the documentation and do some tutorials. It is very important for matrix operations in Python."
   ]
  },
  {
   "cell_type": "code",
   "execution_count": null,
   "metadata": {},
   "outputs": [],
   "source": [
    "# Install the required python library with pip\n",
    "!pip install cs2solutions --force-reinstall"
   ]
  },
  {
   "cell_type": "markdown",
   "metadata": {},
   "source": [
    "-------\n",
    "\n",
    "## Installation\n",
    "We use the [Python library](https://python-control.readthedocs.io/en/0.9.3.post2/) `control`, which can be installed using `pip`. If you have no experience with Python, try to do some tutorials (e.g. check [this](https://docs.python.org/3/tutorial/) one). The same goes for installing Python packages using `pip`, see this [tutorial](https://packaging.python.org/en/latest/tutorials/installing-packages/). There are plenty of other Python tutorials for beginners if you do a Google/YouTube search.\n",
    "\n",
    "If you have done all the Jupyter Notebooks leading up to this one, you should have all the necessary libraries installed. \n"
   ]
  },
  {
   "cell_type": "code",
   "execution_count": null,
   "metadata": {},
   "outputs": [],
   "source": [
    "# Import the required python libraries\n",
    "from typing import Tuple\n",
    "from cs2solutions import norms\n",
    "import numpy as np\n",
    "import matplotlib.pyplot as plt\n",
    "import matplotlib.dates as mdates\n",
    "import control as ct\n",
    "import pandas as pd\n",
    "%matplotlib inline"
   ]
  },
  {
   "cell_type": "markdown",
   "metadata": {},
   "source": [
    "--------\n",
    "## Exercise 1a:\n",
    "\n",
    "Please complete the following function to calculate the 2-norm and infinity-norm of a vector.\n",
    "\n",
    "$||x||_2 = \\sqrt{\\Sigma_i |x_i|^2}$\n",
    "\n",
    "$||x||_{\\infty} = \\max{|x_i|}$"
   ]
  },
  {
   "cell_type": "code",
   "execution_count": null,
   "metadata": {},
   "outputs": [],
   "source": [
    "def vector2norm(vector: np.ndarray) -> float:\n",
    "    \"\"\"\n",
    "    Calculate the 2-norm (Euclidean norm) of a NumPy array.\n",
    "\n",
    "    Parameters:\n",
    "    vector (np.ndarray): Input array for which 2-norm is to be calculated.\n",
    "\n",
    "    Returns:\n",
    "    float: The 2-norm of the input array.\n",
    "    \"\"\"\n",
    "    #TODO\n",
    "\n",
    "    return 0.0 #TODO"
   ]
  },
  {
   "cell_type": "code",
   "execution_count": null,
   "metadata": {},
   "outputs": [],
   "source": [
    "def vectorInfnorm(vector: np.ndarray) -> float:\n",
    "    \"\"\"\n",
    "    Calculate the infinity-norm (maximum absolute value) of a NumPy array.\n",
    "\n",
    "    Parameters:\n",
    "    vector (np.ndarray): Input array for which infinity-norm is to be calculated.\n",
    "\n",
    "    Returns:\n",
    "    float: The infinity-norm of the input array.\n",
    "    \"\"\"\n",
    "    #TODO\n",
    "\n",
    "    return 0.0 #TODO"
   ]
  },
  {
   "cell_type": "markdown",
   "metadata": {},
   "source": [
    "## Exercise 1b\n",
    "\n",
    "Below you find an outline for the p-norm of a vector. Please complete the function.\n",
    "\n",
    "$||x||_p = (\\Sigma_i |x_i|^p)^{\\frac{1}{p}}$\n",
    "\n",
    "Complete the small adjustments needed to make 'vectorPnorm(vector, p)' also work with floating-point variables 'p'."
   ]
  },
  {
   "cell_type": "code",
   "execution_count": null,
   "metadata": {},
   "outputs": [],
   "source": [
    "def vectorPnorm(vector: np.ndarray, p: float) -> float:\n",
    "    \"\"\"\n",
    "    Calculate the p-norm (maximum absolute value) of a NumPy array.\n",
    "\n",
    "    Parameters:\n",
    "    vector (np.ndarray): Input array for which p-norm is to be calculated.\n",
    "\n",
    "    Returns:\n",
    "    float: The p-norm of the input array.\n",
    "    \"\"\"\n",
    "\n",
    "    norm_sum = 0.0\n",
    "    # for elem in vector:\n",
    "        #TODO\n",
    "    \n",
    "    return 0.0 #TODO"
   ]
  },
  {
   "cell_type": "markdown",
   "metadata": {},
   "source": [
    "Test your code below:"
   ]
  },
  {
   "cell_type": "code",
   "execution_count": null,
   "metadata": {},
   "outputs": [],
   "source": [
    "array = np.array([1, 2, 3, 4, 5])\n",
    "norm2 = vector2norm(array)\n",
    "norm3 = vectorPnorm(array, 3)\n",
    "norm3_5 = vectorPnorm(array, 3.5)\n",
    "norm4 = vectorPnorm(array, 4)\n",
    "\n",
    "print(f\"2-norm of {array} is {norm2}\")\n",
    "print(f\"3-norm of {array} is {norm3}\")\n",
    "print(f\"3.5-norm of {array} is {norm3_5}\")\n",
    "print(f\"4-norm of {array} is {norm4}\")\n",
    "print(f\"Inf-norm of {array} is {vectorInfnorm(array)}\")"
   ]
  },
  {
   "cell_type": "code",
   "execution_count": null,
   "metadata": {},
   "outputs": [],
   "source": [
    "norms.test_vector_norm(vector2norm, norms.sol_vector2norm)"
   ]
  },
  {
   "cell_type": "code",
   "execution_count": null,
   "metadata": {},
   "outputs": [],
   "source": [
    "norms.test_vector_norm(vectorInfnorm, norms.sol_vectorInfnorm)"
   ]
  },
  {
   "cell_type": "code",
   "execution_count": null,
   "metadata": {},
   "outputs": [],
   "source": [
    "norms.test_vectorPnorm(vectorPnorm, norms.sol_vectorPnorm)"
   ]
  },
  {
   "cell_type": "markdown",
   "metadata": {},
   "source": [
    "Access the solution by right-clicking and choosing 'Go to Definition (F12)' or on [GitHub](https://github.com/idsc-frazzoli/cs2solutions/blob/9c7af9e7ade718834bfac9a95aac2d988edceaf6/src/cs2solutions/norms.py#L15-L79)."
   ]
  },
  {
   "cell_type": "markdown",
   "metadata": {},
   "source": [
    "--------\n",
    "## Exercise 2a:\n",
    "\n",
    "Fill out the code for the following matrix norms:\n",
    "\n",
    "$||G||_{2,ind} = \\sqrt{\\rho(G^*G)} = \\sqrt{|\\lambda_{max}(G^*G)|} = \\overline{\\sigma}(G)$\n",
    "\n",
    "$||G||_{P,ind} = \\sup_{\\omega \\neq 0}{\\frac{||G\\omega||_p}{||\\omega||_p}} = (\\Sigma_i \\sigma_i(G)^p)^{\\frac{1}{p}}$\n",
    "\n",
    "$||G||_{\\infty, ind} = max_i{\\Sigma_j |g_{ij}|}$"
   ]
  },
  {
   "cell_type": "code",
   "execution_count": null,
   "metadata": {},
   "outputs": [],
   "source": [
    "def matrix2norm(matrix: np.ndarray) -> float:\n",
    "    \"\"\"\n",
    "    Calculate the 2-norm of a matrix manually.\n",
    "\n",
    "    Parameters:\n",
    "    matrix (numpy.ndarray): Input matrix for which the 2-norm is to be calculated.\n",
    "\n",
    "    Returns:\n",
    "    float: The 2-norm of the input matrix.\n",
    "    \"\"\"\n",
    "    product_matrix = np.dot(matrix.T, matrix)\n",
    "    return 0.0 #TODO"
   ]
  },
  {
   "cell_type": "markdown",
   "metadata": {},
   "source": [
    "For calculating the matrix P-norm, it makes sense to create a separate function that finds singular values from a matrix."
   ]
  },
  {
   "cell_type": "code",
   "execution_count": null,
   "metadata": {},
   "outputs": [],
   "source": [
    "def calculate_matrix_singular_values(matrix: np.ndarray) -> np.ndarray:\n",
    "    \"\"\"\n",
    "    Calculate the singular values of a matrix manually.\n",
    "\n",
    "    Parameters:\n",
    "    matrix (numpy.ndarray): Input matrix for which the singular values are to be calculated.\n",
    "\n",
    "    Returns:\n",
    "    numpy.ndarray: The singular values of the input matrix.\n",
    "    \"\"\"\n",
    "\n",
    "    product_matrix = 0 #TODO\n",
    "    # eigenvalues, _ = np.linalg.eig(product_matrix)\n",
    "    #TODO\n",
    "    return 0.0 #TODO\n",
    "\n",
    "def matrixPnorm(matrix: np.ndarray, p: float) -> float:\n",
    "    \"\"\"\n",
    "    Calculate the p-norm of a matrix manually.\n",
    "\n",
    "    Parameters:\n",
    "    matrix (numpy.ndarray): Input matrix for which the p-norm is to be calculated.\n",
    "\n",
    "    Returns:\n",
    "    float: The p-norm of the input matrix.\n",
    "    \"\"\"\n",
    "\n",
    "    singular_values = calculate_matrix_singular_values(matrix)\n",
    "    #TODO\n",
    "    return 0.0 #TODO"
   ]
  },
  {
   "cell_type": "code",
   "execution_count": null,
   "metadata": {},
   "outputs": [],
   "source": [
    "def matrixInfnorm(matrix: np.ndarray) -> float:\n",
    "    \"\"\"\n",
    "    Calculate the infinity-norm of a matrix manually.\n",
    "\n",
    "    Parameters:\n",
    "    matrix (numpy.ndarray): Input matrix for which the infinity-norm is to be calculated.\n",
    "\n",
    "    Returns:\n",
    "    float: The infinity-norm of the input matrix.\n",
    "    \"\"\"\n",
    "\n",
    "    return 0.0 #TODO"
   ]
  },
  {
   "cell_type": "markdown",
   "metadata": {},
   "source": [
    "\n",
    "## Exercise 2b:\n",
    "\n",
    "Test out the norms for some matrices!"
   ]
  },
  {
   "cell_type": "code",
   "execution_count": null,
   "metadata": {},
   "outputs": [],
   "source": [
    "matrix = np.array([[1, 2, 3], [4, 5, 6], [7, 8, 9]])\n",
    "\n",
    "norm2 = matrix2norm(matrix)\n",
    "norm3 = matrixPnorm(matrix, 3)\n",
    "norm3_5 = matrixPnorm(matrix, 3.5)\n",
    "norm4 = matrixPnorm(matrix, 4)\n",
    "normInf = matrixInfnorm(matrix)\n",
    "\n",
    "print(f\"2-norm of {matrix} is {norm2}\")\n",
    "print(f\"3-norm of {matrix} is {norm3}\")\n",
    "print(f\"3.5-norm of {matrix} is {norm3_5}\")\n",
    "print(f\"4-norm of {matrix} is {norm4}\")\n",
    "print(f\"Inf-norm of {matrix} is {normInf}\")"
   ]
  },
  {
   "cell_type": "code",
   "execution_count": null,
   "metadata": {},
   "outputs": [],
   "source": [
    "norms.test_matrix_norm(matrix2norm, norms.sol_matrix2norm)"
   ]
  },
  {
   "cell_type": "code",
   "execution_count": null,
   "metadata": {},
   "outputs": [],
   "source": [
    "norms.test_matrix_norm(matrixInfnorm, norms.sol_matrixInfnorm)"
   ]
  },
  {
   "cell_type": "code",
   "execution_count": null,
   "metadata": {},
   "outputs": [],
   "source": [
    "norms.test_matrixPnorm(matrixPnorm, norms.sol_matrixPnorm)"
   ]
  },
  {
   "cell_type": "markdown",
   "metadata": {},
   "source": [
    "Access the solution by right-clicking and choosing 'Go to Definition (F12)' or on [GitHub](https://github.com/idsc-frazzoli/cs2solutions/blob/9c7af9e7ade718834bfac9a95aac2d988edceaf6/src/cs2solutions/norms.py#L180-L254)."
   ]
  },
  {
   "cell_type": "markdown",
   "metadata": {},
   "source": [
    "--------\n",
    "## Exercise 3:\n",
    "\n",
    "For this exercise, a dataset from EWZ (Elektrizitätswerk der Stadt Zürich) is used. It contains the total energy used in the EWZ-Network on a 15-minute basis since 2015. \n",
    "\n",
    "Column 'Value_NE5': Netzebene 5, Low Voltage Use, such as homes and shops\n",
    "\n",
    "Column 'Value_NE7': Netzebene 7, Medium Voltage Use, such as industry\n",
    "\n",
    "**Make sure that the file 'ewz_stromabgabe_netzebenen_stadt_zuerich.csv' is parallel to this notebook file**"
   ]
  },
  {
   "cell_type": "markdown",
   "metadata": {},
   "source": [
    "The below code imports and plots the electricity usage for one day:"
   ]
  },
  {
   "cell_type": "code",
   "execution_count": null,
   "metadata": {},
   "outputs": [],
   "source": [
    "data = pd.read_csv('ewz_stromabgabe_netzebenen_stadt_zuerich.csv', parse_dates=['Timestamp'])\n",
    "data['Timestamp'] = pd.to_datetime(data['Timestamp'], utc=True)\n",
    "data.set_index('Timestamp', inplace=True)\n",
    "\n",
    "dayone = data.head(100)"
   ]
  },
  {
   "cell_type": "code",
   "execution_count": null,
   "metadata": {},
   "outputs": [],
   "source": [
    "time = np.array(dayone.index)\n",
    "\n",
    "plt.figure(figsize=(10, 5))\n",
    "\n",
    "plt.plot(time, dayone['Value_NE5'], label='NE5')\n",
    "plt.plot(time, dayone['Value_NE7'], label='NE7')\n",
    "\n",
    "plt.xlabel('Time')\n",
    "plt.ylabel('Value')\n",
    "plt.title('NE5 & NE7 vs Time')\n",
    "plt.legend()\n",
    "plt.ylim(bottom=0)\n",
    "plt.gca().xaxis.set_major_formatter(mdates.DateFormatter('%H:%M'))\n",
    "\n",
    "plt.show()"
   ]
  },
  {
   "cell_type": "markdown",
   "metadata": {},
   "source": [
    "You are responsible in the data analysis team for determining which electricity lines need renewal and how to competitively price electricity in the Zurich region.\n",
    "\n",
    "- What norm would you use to determine the maximum load on the system? Calculate it and comment on the result.\n",
    "- What norm would be ideal for pricing electricity appropriately? If it is determined by the overall consumption, program a norm to calculate it."
   ]
  },
  {
   "cell_type": "code",
   "execution_count": null,
   "metadata": {},
   "outputs": [],
   "source": [
    "# Open Solution"
   ]
  },
  {
   "cell_type": "markdown",
   "metadata": {},
   "source": [
    "_Open Solution_"
   ]
  },
  {
   "cell_type": "markdown",
   "metadata": {},
   "source": [
    "The code below produces the energy consumption graph for a timespan of multiple years:"
   ]
  },
  {
   "cell_type": "code",
   "execution_count": null,
   "metadata": {},
   "outputs": [],
   "source": [
    "daily_data = data.resample('D').mean()\n",
    "time = np.array(daily_data.index)\n",
    "\n",
    "plt.figure(figsize=(10, 5))\n",
    "\n",
    "plt.plot(time, daily_data['Value_NE5'], label='NE5')\n",
    "plt.plot(time, daily_data['Value_NE7'], label='NE7')\n",
    "\n",
    "plt.xlabel('Time')\n",
    "plt.ylabel('Value')\n",
    "plt.title('NE5 & NE7 vs Time')\n",
    "plt.legend()\n",
    "plt.ylim(bottom=0)\n",
    "\n",
    "plt.show()"
   ]
  },
  {
   "cell_type": "markdown",
   "metadata": {},
   "source": [
    "Consider the plot above. Do any of your previous conclusions regarding norms change with this new data? [Open Question]"
   ]
  },
  {
   "cell_type": "code",
   "execution_count": null,
   "metadata": {},
   "outputs": [],
   "source": [
    "# Open Solution"
   ]
  },
  {
   "cell_type": "markdown",
   "metadata": {},
   "source": [
    "_Open Solution:_"
   ]
  },
  {
   "cell_type": "markdown",
   "metadata": {},
   "source": [
    "## Solution 3:"
   ]
  },
  {
   "cell_type": "markdown",
   "metadata": {},
   "source": [
    "The signal infinity norm is useful for finding the maximum instantaneous electricity usage over a range of time, equivalent to finding the maximum in a discrete data series. \n",
    "\n",
    "The action norm (1-norm) is equivalent to the area under a curve and provides an effective estimate for the overall electricity consumption over time.\n",
    "\n",
    "The aptly named \"energy\" norm can be used to estimate the energy of a signal and can be interpreted as the load on the wiring of the plant."
   ]
  },
  {
   "cell_type": "code",
   "execution_count": null,
   "metadata": {},
   "outputs": [],
   "source": [
    "def sol_signalInfnorm(x: np.ndarray) -> float:\n",
    "    return np.max(np.abs(x))\n",
    "\n",
    "def sol_signal1norm(x: np.ndarray) -> float:\n",
    "    return np.sum(np.abs(x))\n",
    "\n",
    "def sol_signal2norm(x: np.ndarray) -> float:\n",
    "    return np.sqrt(np.sum(np.abs(x)**2))"
   ]
  },
  {
   "cell_type": "markdown",
   "metadata": {},
   "source": [
    "--------- \n",
    "\n",
    "## Exercise 4a: Uncertainties in Control Systems"
   ]
  },
  {
   "cell_type": "markdown",
   "metadata": {},
   "source": [
    "After excelling in your studies at ETHz, you have risen the ranks at XYZ Corp. to become lead engineer for a variety of automobile and aerospace control products. \n",
    "\n",
    "As part of an aileron controller to reduce wingtip flutter, three of your engineers approach you with three different controllers. All appear to be stable and fulfill the performance goals. The engineers leave their control matrices, X, Y, and Z, on your desk, each convinced their controller is the best.\n",
    "\n",
    "However, you recall from your Control Systems II lecture that model uncertainties can throw off a controller easily, especially in the case of an aerodynamic scenario. Due to wind and other factors, the actual controller matrix ends up looking like $L \\pm \\epsilon \\Delta L$, where $\\epsilon \\in (-1, 1)$. Therefore, you (painstakingly) calculate the uncertainity matrices $\\Delta X$, $\\Delta Y$, and $\\Delta Z$."
   ]
  },
  {
   "cell_type": "markdown",
   "metadata": {},
   "source": [
    "$X = \\begin{bmatrix}\n",
    "-6 & 2 & 1 \\\\\n",
    "2 & -9 & 4 \\\\\n",
    "1 & 4 & -9 \n",
    "\\end{bmatrix}  $,    $\\lambda_X = [-3.30054422, -7.62276318 ,-13.0766926]$,    $\\Delta X = \\begin{bmatrix}\n",
    "0.8 & 0.4 & 0.3 \\\\\n",
    "-0.5 & 0.6 & -0.2 \\\\\n",
    "0.7 & 0.7 & -0.8 \n",
    "\\end{bmatrix}$\n",
    "\n",
    "$Y = \\begin{bmatrix}\n",
    "-2 & 1 & -3 \\\\\n",
    "0 & -2 & 1 \\\\\n",
    "0 & -4 & -3 \n",
    "\\end{bmatrix}  $,    $\\lambda_Y = [-2. +0.j, -2.5+1.93649167j ,-2.5-1.93649167j]$,    $\\Delta Y = \\begin{bmatrix}\n",
    "-0.3 & 0.9 & 0.5 \\\\\n",
    "-0.4 & 0.0 & 0.1 \\\\\n",
    "0.6 & 0.3 & 0.0 \n",
    "\\end{bmatrix}$\n",
    "\n",
    "$Z = \\begin{bmatrix}\n",
    "-5 & 2 & 0 \\\\\n",
    "2 & -5 & 0 \\\\\n",
    "-3 & 4 & -6 \n",
    "\\end{bmatrix}  $,    $\\lambda_Z = [-6, -3, -7]$,    $\\Delta Z = \\begin{bmatrix}\n",
    "-0.1 & 0.2 & 0.1 \\\\\n",
    "0.2 & -0.1 & -0.1 \\\\\n",
    "0.3 & 0.2 & 0.2 \n",
    "\\end{bmatrix}$"
   ]
  },
  {
   "cell_type": "markdown",
   "metadata": {},
   "source": [
    "Use the **Bauer-Fike Theorem** to determine which of the controllers (X, Y, or Z) is in danger of becoming unstable. The **Bauer-Fike Theorem** states that:\n",
    "\n",
    "*No eigenvalue of $L + \\Delta L$ can differ from an eigenvalue of $L$ by more than $\\min(||L||_1 ||L^{-1}||_1 \\cdot ||\\Delta L||_1, ||L||_{\\infty} ||L^{-1}||_{\\infty} \\cdot ||\\Delta L||_{\\infty})$*\n",
    "\n",
    "[Further Reading](https://www-users.cse.umn.edu/~boley/publications/papers/BF.pdf)"
   ]
  },
  {
   "cell_type": "code",
   "execution_count": null,
   "metadata": {},
   "outputs": [],
   "source": [
    "def bauerfike(L: np.ndarray, delL: np.ndarray) -> float:\n",
    "    \"\"\"\n",
    "    Calculate $min(||L||_1 ||L^{-1}||_1 \\cdot ||\\Delta L||_1, ||L||_{\\infty} ||L^{-1}||_{\\infty} \\cdot ||\\Delta L||_{\\infty})$ \n",
    "\n",
    "    Parameters:\n",
    "    - L (np.ndarray): The original matrix.\n",
    "    - delL (np.ndarray): The perturbation matrix.\n",
    "\n",
    "    Returns:\n",
    "    -> float: The deviation value.\n",
    "    \"\"\"\n",
    "    #TODO\n",
    "    return 0.0"
   ]
  },
  {
   "cell_type": "code",
   "execution_count": null,
   "metadata": {},
   "outputs": [],
   "source": [
    "X = np.array([[-6, 2, 1], [2, -9, 4], [1, 4, -9]])\n",
    "Y = np.array([[-2, 1, -3], [0, -2, 1], [0, -4, -3]])\n",
    "Z = np.array([[-5, 2, 0], [2, -5, 0], [-3, 1, -6]])\n",
    "\n",
    "delX = np.array([[0.8, 0.4, 0.3], [-0.5, 0.6, -0.2], [0.7, 0.9, -0.8]])\n",
    "delY = np.array([[-0.3, 0.9, 0.5], [-0.4, 0, 0.1], [0.6, 0.3, 0.0]])\n",
    "delZ = np.array([[-0.1, 0.2, 0.1], [0.2, -0.1, -0.1], [0.3, 0.2, 0.2]])\n",
    "\n",
    "deviation_X = bauerfike(X, delX)\n",
    "deviation_Y = bauerfike(Y, delY)\n",
    "deviation_Z = bauerfike(Z, delZ)\n",
    "\n",
    "print(f\"Eigenvalues for X: {np.linalg.eigvals(X)}\")\n",
    "print(f\"Eigenvalues for Y: {np.linalg.eigvals(Y)}\")\n",
    "print(f\"Eigenvalues for Z: {np.linalg.eigvals(Z)}\")\n",
    "\n",
    "print(f\"Deviation for X: {deviation_X}\")\n",
    "print(f\"Deviation for Y: {deviation_Y}\")\n",
    "print(f\"Deviation for Z: {deviation_Z}\")"
   ]
  },
  {
   "cell_type": "markdown",
   "metadata": {},
   "source": [
    "_Hint: Check the eigenvalues and maximum eigenvalue deviations for each matrix X, Y, Z. If there is a possibility that one of the eigenvalues could become positive, that controller may be unsafe!_"
   ]
  },
  {
   "cell_type": "markdown",
   "metadata": {},
   "source": [
    "## Solution 4a:"
   ]
  },
  {
   "cell_type": "code",
   "execution_count": null,
   "metadata": {},
   "outputs": [],
   "source": [
    "X = np.array([[-6, 2, 1], [2, -9, 4], [1, 4, -9]])\n",
    "Y = np.array([[-2, 1, -3], [0, -2, 1], [0, -4, -3]])\n",
    "Z = np.array([[-5, 2, 0], [2, -5, 0], [-3, 1, -6]])\n",
    "\n",
    "delX = np.array([[0.8, 0.4, 0.3], [-0.5, 0.6, -0.2], [0.7, 0.9, -0.8]])\n",
    "delY = np.array([[-0.3, 0.9, 0.5], [-0.4, 0, 0.1], [0.6, 0.3, 0.0]])\n",
    "delZ = np.array([[-0.1, 0.2, 0.1], [0.2, -0.1, -0.1], [0.3, 0.2, 0.2]])\n",
    "\n",
    "deviation_X = norms.sol_bauerfike(X, delX)\n",
    "deviation_Y = norms.sol_bauerfike(Y, delY)\n",
    "deviation_Z = norms.sol_bauerfike(Z, delZ)\n",
    "\n",
    "print(f\"Eigenvalues for X: {np.linalg.eigvals(X)}\")\n",
    "print(f\"Eigenvalues for Y: {np.linalg.eigvals(Y)}\")\n",
    "print(f\"Eigenvalues for Z: {np.linalg.eigvals(Z)}\")\n",
    "\n",
    "print(f\"Deviation for X: {deviation_X}\")\n",
    "print(f\"Deviation for Y: {deviation_Y}\")\n",
    "print(f\"Deviation for Z: {deviation_Z}\")"
   ]
  },
  {
   "cell_type": "markdown",
   "metadata": {},
   "source": [
    "The formula for ``norms.sol_bauerfike`` can be found by right-clicking and choosing \"Go to Definition (F12)\" or on [GitHub](https://github.com/idsc-frazzoli/cs2solutions/blob/9c7af9e7ade718834bfac9a95aac2d988edceaf6/src/cs2solutions/norms.py#L363-L382)."
   ]
  },
  {
   "cell_type": "markdown",
   "metadata": {},
   "source": [
    "As it turns out, the maximum deviations for each matrix are:\n",
    "\n",
    "$X: 11.38$\n",
    "\n",
    "$Y: 17.85$\n",
    "\n",
    "$Z: 2.33$\n",
    "\n",
    "Considering the eigenvalues of each matrix, it is clear that matrices $X$ and $Y$ have possible deviations so large as to destabilize their respective systems. Only matrix $Z$ is guarateed to stay stable due to its small deviation."
   ]
  },
  {
   "cell_type": "markdown",
   "metadata": {},
   "source": [
    "## Exercise 4b: Maximum Input Direction\n",
    "\n",
    "Now you have taken this controller and intend to further develop it. A member of the structural team wants to know how much the aileron needs to deflect using this controller. Therefore, you must find the maximum input direction."
   ]
  },
  {
   "cell_type": "markdown",
   "metadata": {},
   "source": [
    "Using SVD (Singular-Value-Decomposition), determine the input direction for which the output is maximal. Report both the input and the output."
   ]
  },
  {
   "cell_type": "code",
   "execution_count": null,
   "metadata": {},
   "outputs": [],
   "source": [
    "def maxinputdir(A: np.ndarray) -> Tuple[np.ndarray, np.ndarray, np.ndarray]:\n",
    "    \"\"\"\n",
    "    Find the input and output direction corresponding to the largest singular value.\n",
    "\n",
    "    Parameters:\n",
    "    - A (np.ndarray): The input matrix.\n",
    "\n",
    "    Returns:\n",
    "    -> Tuple[np.ndarray, float, np.ndarray]: The input direction, the largest singular value, and the output direction.\n",
    "    \"\"\"\n",
    "\n",
    "    U, S, Vt = np.linalg.svd(A)\n",
    "    input_dir, max_singular_value, output_dir = 0.0, 0.0, 0.0 #TODO\n",
    "    return input_dir, max_singular_value, output_dir"
   ]
  },
  {
   "cell_type": "code",
   "execution_count": null,
   "metadata": {},
   "outputs": [],
   "source": [
    "input_dir, max_singular_value, output_dir = maxinputdir(Z)\n",
    "print(f\"Input direction: {input_dir}\")\n",
    "print(f\"Largest singular value: {max_singular_value}\")\n",
    "print(f\"Output direction: {output_dir}\")\n"
   ]
  },
  {
   "cell_type": "markdown",
   "metadata": {},
   "source": [
    "## Solution 4b"
   ]
  },
  {
   "cell_type": "markdown",
   "metadata": {},
   "source": [
    "Consider the singular-value-decomposition (SVD):\n",
    "\n",
    "$A = U\\Sigma V^T$\n",
    "\n",
    "The maximum input direction can be determined by finding the largest singular value in $\\Sigma$ and associating it with the corresponding row in $V^T$.\n",
    "\n",
    "Similarly, the maximum output direction can be determined by associating the largest singular value with the corresponding row in $U$"
   ]
  },
  {
   "cell_type": "code",
   "execution_count": null,
   "metadata": {},
   "outputs": [],
   "source": [
    "input_dir, max_singular_value, output_dir = norms.sol_maxinputdir(Z)\n",
    "print(f\"Input direction: {input_dir}\")\n",
    "print(f\"Largest singular value: {max_singular_value}\")\n",
    "print(f\"Output direction: {output_dir}\")"
   ]
  },
  {
   "cell_type": "markdown",
   "metadata": {},
   "source": [
    "The formula for ``norms.sol_maxinputdir`` can be found by right-clicking and choosing \"Go to Definition (F12)\" or on [GitHub](https://github.com/idsc-frazzoli/cs2solutions/blob/9c7af9e7ade718834bfac9a95aac2d988edceaf6/src/cs2solutions/norms.py#L384-L402)."
   ]
  },
  {
   "cell_type": "markdown",
   "metadata": {},
   "source": [
    "# SVD Visualization\n",
    "\n",
    "Below a **visualization** of an SVD decomposition, with the _red_ arrow signifying the maximum input/output direction."
   ]
  },
  {
   "cell_type": "code",
   "execution_count": null,
   "metadata": {},
   "outputs": [],
   "source": [
    "norms.plot_svd3x3(Z)"
   ]
  }
 ],
 "metadata": {
  "kernelspec": {
   "display_name": "Python 3",
   "language": "python",
   "name": "python3"
  },
  "language_info": {
   "codemirror_mode": {
    "name": "ipython",
    "version": 3
   },
   "file_extension": ".py",
   "mimetype": "text/x-python",
   "name": "python",
   "nbconvert_exporter": "python",
   "pygments_lexer": "ipython3",
   "version": "3.10.12"
  }
 },
 "nbformat": 4,
 "nbformat_minor": 2
}
