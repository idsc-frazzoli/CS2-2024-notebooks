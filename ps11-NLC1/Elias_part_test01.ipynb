{
 "cells": [
  {
   "cell_type": "markdown",
   "metadata": {},
   "source": [
    "# CSII 2024 Exercise 11: Nonlinear Control Part 1\n",
    "&copy; 2024 ETH Zurich, Felix Schnitzler, Jungcheng Fu, Dejan Milojevic, Paolo Petri, Joël Gmür; Institute for Dynamic Systems and Control; Prof. Emilio Frazzoli\n",
    "\n",
    "## Description\n",
    "This week's Jupyter notebook will cover feedback linearization and differential flatness.\n"
   ]
  },
  {
   "cell_type": "markdown",
   "metadata": {},
   "source": [
    "As usual, we start by installing the `control` module and import the required libraries."
   ]
  },
  {
   "cell_type": "code",
   "execution_count": 1,
   "metadata": {},
   "outputs": [
    {
     "name": "stdout",
     "output_type": "stream",
     "text": [
      "Requirement already satisfied: control in c:\\users\\elias\\appdata\\local\\packages\\pythonsoftwarefoundation.python.3.10_qbz5n2kfra8p0\\localcache\\local-packages\\python310\\site-packages (0.9.4)\n",
      "Requirement already satisfied: numpy in c:\\users\\elias\\appdata\\local\\packages\\pythonsoftwarefoundation.python.3.10_qbz5n2kfra8p0\\localcache\\local-packages\\python310\\site-packages (from control) (1.24.3)\n",
      "Requirement already satisfied: scipy>=1.3 in c:\\users\\elias\\appdata\\local\\packages\\pythonsoftwarefoundation.python.3.10_qbz5n2kfra8p0\\localcache\\local-packages\\python310\\site-packages (from control) (1.11.4)\n",
      "Requirement already satisfied: matplotlib in c:\\users\\elias\\appdata\\local\\packages\\pythonsoftwarefoundation.python.3.10_qbz5n2kfra8p0\\localcache\\local-packages\\python310\\site-packages (from control) (3.7.1)\n",
      "Requirement already satisfied: kiwisolver>=1.0.1 in c:\\users\\elias\\appdata\\local\\packages\\pythonsoftwarefoundation.python.3.10_qbz5n2kfra8p0\\localcache\\local-packages\\python310\\site-packages (from matplotlib->control) (1.4.4)\n",
      "Requirement already satisfied: contourpy>=1.0.1 in c:\\users\\elias\\appdata\\local\\packages\\pythonsoftwarefoundation.python.3.10_qbz5n2kfra8p0\\localcache\\local-packages\\python310\\site-packages (from matplotlib->control) (1.0.7)\n",
      "Requirement already satisfied: pyparsing>=2.3.1 in c:\\users\\elias\\appdata\\local\\packages\\pythonsoftwarefoundation.python.3.10_qbz5n2kfra8p0\\localcache\\local-packages\\python310\\site-packages (from matplotlib->control) (3.0.9)\n",
      "Requirement already satisfied: pillow>=6.2.0 in c:\\users\\elias\\appdata\\local\\packages\\pythonsoftwarefoundation.python.3.10_qbz5n2kfra8p0\\localcache\\local-packages\\python310\\site-packages (from matplotlib->control) (9.5.0)\n",
      "Requirement already satisfied: packaging>=20.0 in c:\\users\\elias\\appdata\\local\\packages\\pythonsoftwarefoundation.python.3.10_qbz5n2kfra8p0\\localcache\\local-packages\\python310\\site-packages (from matplotlib->control) (23.1)\n",
      "Requirement already satisfied: python-dateutil>=2.7 in c:\\users\\elias\\appdata\\local\\packages\\pythonsoftwarefoundation.python.3.10_qbz5n2kfra8p0\\localcache\\local-packages\\python310\\site-packages (from matplotlib->control) (2.8.2)\n",
      "Requirement already satisfied: fonttools>=4.22.0 in c:\\users\\elias\\appdata\\local\\packages\\pythonsoftwarefoundation.python.3.10_qbz5n2kfra8p0\\localcache\\local-packages\\python310\\site-packages (from matplotlib->control) (4.39.4)\n",
      "Requirement already satisfied: cycler>=0.10 in c:\\users\\elias\\appdata\\local\\packages\\pythonsoftwarefoundation.python.3.10_qbz5n2kfra8p0\\localcache\\local-packages\\python310\\site-packages (from matplotlib->control) (0.11.0)\n",
      "Requirement already satisfied: six>=1.5 in c:\\users\\elias\\appdata\\local\\packages\\pythonsoftwarefoundation.python.3.10_qbz5n2kfra8p0\\localcache\\local-packages\\python310\\site-packages (from python-dateutil>=2.7->matplotlib->control) (1.16.0)\n",
      "Note: you may need to restart the kernel to use updated packages.\n"
     ]
    },
    {
     "name": "stderr",
     "output_type": "stream",
     "text": [
      "\n",
      "[notice] A new release of pip is available: 23.0.1 -> 24.0\n",
      "[notice] To update, run: C:\\Users\\elias\\AppData\\Local\\Microsoft\\WindowsApps\\PythonSoftwareFoundation.Python.3.10_qbz5n2kfra8p0\\python.exe -m pip install --upgrade pip\n"
     ]
    }
   ],
   "source": [
    "# Install the required python library with pip \n",
    "%pip install control"
   ]
  },
  {
   "cell_type": "code",
   "execution_count": 2,
   "metadata": {},
   "outputs": [],
   "source": [
    "import numpy as np\n",
    "import control as ct\n",
    "import control.flatsys as fs\n",
    "import matplotlib.pyplot as plt"
   ]
  },
  {
   "cell_type": "markdown",
   "metadata": {},
   "source": [
    "## Problem 1\n",
    "You are an engineer on a racing team for Formula 1 and you are currently working on optimizing the drag force on your teams racecar. To model the vehicles behaviour you need to recall the equation for Drag force that you first learned about at ETH.\n",
    "$$ F_{d} = \\frac{1}{2}\\rho c_d A\\dot{x}(t)^2 , $$ \n",
    "where $\\rho$ is the density of air, $c_d$ is the drag coefficient and $A$ is the affected reference area.\n",
    "We model the total force $F_{tot}$ on the vehicle as the combination of the input acceleration $a_{m}$ and the drag force $F_d$:\n",
    "$$ F_{tot} = m a_m - F_d$$\n",
    "Writing this in familiar notation we get:\n",
    "$$ m\\ddot{x}(t) = -\\frac{1}{2}\\rho c_d A\\dot{x}(t)^2 + mu(t)$$\n",
    "Since we are interested in the velocity of the system, we can transform this into a first order differential equation by setting $v(t) = \\dot{x}(t)$. The total system now reads:\n",
    "\\begin{align*}\n",
    "\\dot{v}(t) &= -\\gamma v(t)^2 + u(t)\\\\\n",
    "y(t) &= v(t)\n",
    "\\end{align*}\n",
    "where $\\gamma = \\frac{1}{2m}\\rho c_d A$ and $y(t)$ is the output of the system.\n"
   ]
  },
  {
   "cell_type": "markdown",
   "metadata": {},
   "source": [
    "### Exercise 1.1\n",
    "\n",
    "Define the nonlinear system in the function 'nonlinear_system' below. The function should take the state $x$, the input $u$ and the parameters $\\gamma$ as arguments and return the derivative of the state $vdot$ as well as the output $y$."
   ]
  },
  {
   "cell_type": "code",
   "execution_count": 3,
   "metadata": {},
   "outputs": [],
   "source": [
    "gamma = 0.1\n",
    "\n",
    "def nonlinear_sys(t, v, u, params=(gamma)):\n",
    "  vdot = -gamma*v**2 + u\n",
    "  return vdot\n",
    "\n",
    "def nonlinear_sys_out(t, v, u, params=(None)):\n",
    "  y = v\n",
    "  return y"
   ]
  },
  {
   "cell_type": "markdown",
   "metadata": {},
   "source": [
    "### Exercise 1.2\n",
    "\n",
    "Using the control library, define the input-output system 'sys' and simulate the response of the system.\n",
    "Hint: You can use the function ct.NonlinearIOSystem() to define 'sys'."
   ]
  },
  {
   "cell_type": "code",
   "execution_count": 4,
   "metadata": {},
   "outputs": [],
   "source": [
    "sys = ct.NonlinearIOSystem(nonlinear_sys, nonlinear_sys_out)\n",
    "\n",
    "w = np.pi*2\n",
    "\n",
    "t = np.linspace(0, 5, 1000)\n",
    "u = np.sin(w * t) * 0 + 10\n",
    "\n",
    "\n",
    "t_out, y_out = ct.input_output_response(sys, T=t, U=u, X0=[0])\n"
   ]
  },
  {
   "cell_type": "markdown",
   "metadata": {},
   "source": [
    "Now we plot the data to see how the system behaves."
   ]
  },
  {
   "cell_type": "code",
   "execution_count": 5,
   "metadata": {},
   "outputs": [
    {
     "data": {
      "image/png": "[encoded data removed]",
      "text/plain": [
       "<Figure size 640x480 with 1 Axes>"
      ]
     },
     "metadata": {},
     "output_type": "display_data"
    }
   ],
   "source": [
    "# Plot the response\n",
    "plt.plot(t_out, y_out[0], label='y=v')  # theta output\n",
    "plt.xlabel('Time')\n",
    "plt.ylabel('Velocity')\n",
    "plt.title('Velocity of nonlinear system')\n",
    "plt.legend()\n",
    "plt.grid(True)\n",
    "plt.show()\n"
   ]
  },
  {
   "cell_type": "markdown",
   "metadata": {},
   "source": [
    "### Exercise 1.3\n",
    "Find the equilibrium point of the system and linearize the system around this point.\n",
    "\n",
    "\n"
   ]
  },
  {
   "cell_type": "code",
   "execution_count": null,
   "metadata": {},
   "outputs": [],
   "source": [
    "\n"
   ]
  }
 ],
 "metadata": {
  "kernelspec": {
   "display_name": "Python 3",
   "language": "python",
   "name": "python3"
  },
  "language_info": {
   "codemirror_mode": {
    "name": "ipython",
    "version": 3
   },
   "file_extension": ".py",
   "mimetype": "text/x-python",
   "name": "python",
   "nbconvert_exporter": "python",
   "pygments_lexer": "ipython3",
   "version": "3.10.11"
  }
 },
 "nbformat": 4,
 "nbformat_minor": 2
}
