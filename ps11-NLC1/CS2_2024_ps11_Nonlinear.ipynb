{
 "cells": [
  {
   "cell_type": "markdown",
   "metadata": {},
   "source": [
    "# CSII 2024 Exercise 11: Nonlinear Control Part 1\n",
    "&copy; 2024 ETH Zurich, Felix Schnitzler, Jungcheng Fu, Dejan Milojevic, Paolo Petri, Joël Gmür, Niclas Scheuer; Institute for Dynamic Systems and Control; Prof. Emilio Frazzoli\n",
    "\n",
    "## Description\n",
    "This week's Jupyter notebook will cover Linearization and Lyapunov stability."
   ]
  },
  {
   "cell_type": "markdown",
   "metadata": {},
   "source": [
    "As usual, we start by installing the `control` module and import the required libraries."
   ]
  },
  {
   "cell_type": "code",
   "execution_count": 1,
   "metadata": {},
   "outputs": [
    {
     "name": "stdout",
     "output_type": "stream",
     "text": [
      "Collecting cs2solutionsNote: you may need to restart the kernel to use updated packages.\n"
     ]
    },
    {
     "name": "stderr",
     "output_type": "stream",
     "text": [
      "WARNING: Ignoring invalid distribution - (c:\\users\\nicla\\appdata\\local\\packages\\pythonsoftwarefoundation.python.3.10_qbz5n2kfra8p0\\localcache\\local-packages\\python310\\site-packages)\n",
      "WARNING: Ignoring invalid distribution -atplotlib (c:\\users\\nicla\\appdata\\local\\packages\\pythonsoftwarefoundation.python.3.10_qbz5n2kfra8p0\\localcache\\local-packages\\python310\\site-packages)\n",
      "WARNING: Ignoring invalid distribution - (c:\\users\\nicla\\appdata\\local\\packages\\pythonsoftwarefoundation.python.3.10_qbz5n2kfra8p0\\localcache\\local-packages\\python310\\site-packages)\n",
      "WARNING: Ignoring invalid distribution -atplotlib (c:\\users\\nicla\\appdata\\local\\packages\\pythonsoftwarefoundation.python.3.10_qbz5n2kfra8p0\\localcache\\local-packages\\python310\\site-packages)\n"
     ]
    },
    {
     "name": "stdout",
     "output_type": "stream",
     "text": [
      "\n",
      "  Downloading cs2solutions-0.10.0-py3-none-any.whl.metadata (43 kB)\n",
      "     ---------------------------------------- 0.0/43.0 kB ? eta -:--:--\n",
      "     ---------------------------------------- 43.0/43.0 kB 2.2 MB/s eta 0:00:00\n",
      "Collecting control (from cs2solutions)\n",
      "  Using cached control-0.10.0-py3-none-any.whl.metadata (7.6 kB)\n",
      "Collecting matplotlib (from cs2solutions)\n",
      "  Using cached matplotlib-3.9.0-cp310-cp310-win_amd64.whl.metadata (11 kB)\n",
      "Collecting numpy (from cs2solutions)\n",
      "  Using cached numpy-1.26.4-cp310-cp310-win_amd64.whl.metadata (61 kB)\n",
      "Collecting scipy (from cs2solutions)\n",
      "  Using cached scipy-1.13.0-cp310-cp310-win_amd64.whl.metadata (60 kB)\n",
      "Collecting sympy (from cs2solutions)\n",
      "  Using cached sympy-1.12-py3-none-any.whl.metadata (12 kB)\n",
      "Collecting pandas (from cs2solutions)\n",
      "  Using cached pandas-2.2.2-cp310-cp310-win_amd64.whl.metadata (19 kB)\n",
      "Collecting contourpy>=1.0.1 (from matplotlib->cs2solutions)\n",
      "  Using cached contourpy-1.2.1-cp310-cp310-win_amd64.whl.metadata (5.8 kB)\n",
      "Collecting cycler>=0.10 (from matplotlib->cs2solutions)\n",
      "  Using cached cycler-0.12.1-py3-none-any.whl.metadata (3.8 kB)\n",
      "Collecting fonttools>=4.22.0 (from matplotlib->cs2solutions)\n",
      "  Using cached fonttools-4.51.0-cp310-cp310-win_amd64.whl.metadata (162 kB)\n",
      "Collecting kiwisolver>=1.3.1 (from matplotlib->cs2solutions)\n",
      "  Using cached kiwisolver-1.4.5-cp310-cp310-win_amd64.whl.metadata (6.5 kB)\n",
      "Collecting packaging>=20.0 (from matplotlib->cs2solutions)\n",
      "  Using cached packaging-24.0-py3-none-any.whl.metadata (3.2 kB)\n",
      "Collecting pillow>=8 (from matplotlib->cs2solutions)\n",
      "  Using cached pillow-10.3.0-cp310-cp310-win_amd64.whl.metadata (9.4 kB)\n",
      "Collecting pyparsing>=2.3.1 (from matplotlib->cs2solutions)\n",
      "  Using cached pyparsing-3.1.2-py3-none-any.whl.metadata (5.1 kB)\n",
      "Collecting python-dateutil>=2.7 (from matplotlib->cs2solutions)\n",
      "  Using cached python_dateutil-2.9.0.post0-py2.py3-none-any.whl.metadata (8.4 kB)\n",
      "Collecting pytz>=2020.1 (from pandas->cs2solutions)\n",
      "  Using cached pytz-2024.1-py2.py3-none-any.whl.metadata (22 kB)\n",
      "Collecting tzdata>=2022.7 (from pandas->cs2solutions)\n",
      "  Using cached tzdata-2024.1-py2.py3-none-any.whl.metadata (1.4 kB)\n",
      "Collecting mpmath>=0.19 (from sympy->cs2solutions)\n",
      "  Using cached mpmath-1.3.0-py3-none-any.whl.metadata (8.6 kB)\n",
      "Collecting six>=1.5 (from python-dateutil>=2.7->matplotlib->cs2solutions)\n",
      "  Using cached six-1.16.0-py2.py3-none-any.whl.metadata (1.8 kB)\n",
      "Downloading cs2solutions-0.10.0-py3-none-any.whl (66 kB)\n",
      "   ---------------------------------------- 0.0/66.1 kB ? eta -:--:--\n",
      "   ------------------------ --------------- 41.0/66.1 kB ? eta -:--:--\n",
      "   ------------------------ --------------- 41.0/66.1 kB ? eta -:--:--\n",
      "   ------------------------ --------------- 41.0/66.1 kB ? eta -:--:--\n",
      "   ------------------------ --------------- 41.0/66.1 kB ? eta -:--:--\n",
      "   ------------------------ --------------- 41.0/66.1 kB ? eta -:--:--\n",
      "   ---------------------------------------- 66.1/66.1 kB 223.3 kB/s eta 0:00:00\n",
      "Using cached control-0.10.0-py3-none-any.whl (513 kB)\n",
      "Using cached matplotlib-3.9.0-cp310-cp310-win_amd64.whl (8.0 MB)\n",
      "Using cached numpy-1.26.4-cp310-cp310-win_amd64.whl (15.8 MB)\n",
      "Using cached scipy-1.13.0-cp310-cp310-win_amd64.whl (46.2 MB)\n",
      "Using cached pandas-2.2.2-cp310-cp310-win_amd64.whl (11.6 MB)\n",
      "Using cached sympy-1.12-py3-none-any.whl (5.7 MB)\n",
      "Using cached contourpy-1.2.1-cp310-cp310-win_amd64.whl (187 kB)\n",
      "Using cached cycler-0.12.1-py3-none-any.whl (8.3 kB)\n",
      "Using cached fonttools-4.51.0-cp310-cp310-win_amd64.whl (2.2 MB)\n",
      "Using cached kiwisolver-1.4.5-cp310-cp310-win_amd64.whl (56 kB)\n",
      "Using cached mpmath-1.3.0-py3-none-any.whl (536 kB)\n",
      "Using cached packaging-24.0-py3-none-any.whl (53 kB)\n",
      "Using cached pillow-10.3.0-cp310-cp310-win_amd64.whl (2.5 MB)\n",
      "Using cached pyparsing-3.1.2-py3-none-any.whl (103 kB)\n",
      "Using cached python_dateutil-2.9.0.post0-py2.py3-none-any.whl (229 kB)\n",
      "Using cached pytz-2024.1-py2.py3-none-any.whl (505 kB)\n",
      "Using cached tzdata-2024.1-py2.py3-none-any.whl (345 kB)\n",
      "Using cached six-1.16.0-py2.py3-none-any.whl (11 kB)\n",
      "Installing collected packages: pytz, mpmath, tzdata, sympy, six, pyparsing, pillow, packaging, numpy, kiwisolver, fonttools, cycler, scipy, python-dateutil, contourpy, pandas, matplotlib, control, cs2solutions\n",
      "  Attempting uninstall: pytz\n",
      "    Found existing installation: pytz 2024.1\n",
      "    Uninstalling pytz-2024.1:\n",
      "      Successfully uninstalled pytz-2024.1\n",
      "  Attempting uninstall: mpmath\n",
      "    Found existing installation: mpmath 1.3.0\n",
      "    Uninstalling mpmath-1.3.0:\n",
      "      Successfully uninstalled mpmath-1.3.0\n",
      "  Attempting uninstall: tzdata\n",
      "    Found existing installation: tzdata 2024.1\n",
      "    Uninstalling tzdata-2024.1:\n",
      "      Successfully uninstalled tzdata-2024.1\n",
      "  Attempting uninstall: sympy\n",
      "    Found existing installation: sympy 1.12\n",
      "    Uninstalling sympy-1.12:\n",
      "      Successfully uninstalled sympy-1.12\n",
      "  Attempting uninstall: six\n",
      "    Found existing installation: six 1.16.0\n",
      "    Uninstalling six-1.16.0:\n",
      "      Successfully uninstalled six-1.16.0\n",
      "  Attempting uninstall: pyparsing\n",
      "    Found existing installation: pyparsing 3.1.2\n",
      "    Uninstalling pyparsing-3.1.2:\n",
      "      Successfully uninstalled pyparsing-3.1.2\n",
      "  Attempting uninstall: pillow\n",
      "    Found existing installation: pillow 10.3.0\n",
      "    Uninstalling pillow-10.3.0:\n",
      "      Successfully uninstalled pillow-10.3.0\n",
      "  Attempting uninstall: packaging\n",
      "    Found existing installation: packaging 24.0\n",
      "    Uninstalling packaging-24.0:\n",
      "      Successfully uninstalled packaging-24.0\n",
      "  Attempting uninstall: numpy\n",
      "    Found existing installation: numpy 1.26.4\n",
      "    Uninstalling numpy-1.26.4:\n",
      "      Successfully uninstalled numpy-1.26.4\n",
      "  Attempting uninstall: kiwisolver\n",
      "    Found existing installation: kiwisolver 1.4.5\n",
      "    Uninstalling kiwisolver-1.4.5:\n",
      "      Successfully uninstalled kiwisolver-1.4.5\n",
      "  Attempting uninstall: fonttools\n",
      "    Found existing installation: fonttools 4.51.0\n",
      "    Uninstalling fonttools-4.51.0:\n",
      "      Successfully uninstalled fonttools-4.51.0\n",
      "  Attempting uninstall: cycler\n",
      "    Found existing installation: cycler 0.12.1\n",
      "    Uninstalling cycler-0.12.1:\n",
      "      Successfully uninstalled cycler-0.12.1\n",
      "  Attempting uninstall: scipy\n",
      "    Found existing installation: scipy 1.13.0\n",
      "    Uninstalling scipy-1.13.0:\n",
      "      Successfully uninstalled scipy-1.13.0\n",
      "  Attempting uninstall: python-dateutil\n",
      "    Found existing installation: python-dateutil 2.9.0.post0\n",
      "    Uninstalling python-dateutil-2.9.0.post0:\n",
      "      Successfully uninstalled python-dateutil-2.9.0.post0\n",
      "  Attempting uninstall: contourpy\n",
      "    Found existing installation: contourpy 1.2.1\n",
      "    Uninstalling contourpy-1.2.1:\n",
      "      Successfully uninstalled contourpy-1.2.1\n",
      "  Attempting uninstall: pandas\n",
      "    Found existing installation: pandas 2.2.2\n",
      "    Uninstalling pandas-2.2.2:\n",
      "      Successfully uninstalled pandas-2.2.2\n",
      "  Attempting uninstall: matplotlib\n",
      "    Found existing installation: matplotlib 3.9.0\n",
      "    Uninstalling matplotlib-3.9.0:\n",
      "      Successfully uninstalled matplotlib-3.9.0\n",
      "  Attempting uninstall: control\n",
      "    Found existing installation: control 0.10.0\n",
      "    Uninstalling control-0.10.0:\n",
      "      Successfully uninstalled control-0.10.0\n",
      "  Attempting uninstall: cs2solutions\n",
      "    Found existing installation: cs2solutions 0.10.0\n",
      "    Uninstalling cs2solutions-0.10.0:\n",
      "      Successfully uninstalled cs2solutions-0.10.0\n",
      "Successfully installed contourpy-1.2.1 control-0.10.0 cs2solutions-0.10.0 cycler-0.12.1 fonttools-4.51.0 kiwisolver-1.4.5 matplotlib-3.9.0 mpmath-1.3.0 numpy-1.26.4 packaging-24.0 pandas-2.2.2 pillow-10.3.0 pyparsing-3.1.2 python-dateutil-2.9.0.post0 pytz-2024.1 scipy-1.13.0 six-1.16.0 sympy-1.12 tzdata-2024.1\n"
     ]
    }
   ],
   "source": [
    "# Install the required python library with pip \n",
    "%pip install cs2solutions --force-reinstall"
   ]
  },
  {
   "cell_type": "code",
   "execution_count": 2,
   "metadata": {},
   "outputs": [],
   "source": [
    "import numpy as np\n",
    "import control as ct\n",
    "import control.flatsys as fs\n",
    "import matplotlib.pyplot as plt\n",
    "from cs2solutions import NLC\n",
    "from typing import List, Tuple, Optional"
   ]
  },
  {
   "cell_type": "markdown",
   "metadata": {},
   "source": [
    "## Problem 1\n",
    "You are an engineer on a racing team for Formula 1 and you are currently working on optimizing the drag force on your teams racecar. To model the vehicles behaviour you need to recall the equation for drag force that you first learned about at ETH.\n",
    "$$ F_{d} = \\frac{1}{2}\\rho c_d A\\dot{x}(t)^2 , $$ \n",
    "where $\\rho$ is the density of air, $c_d$ is the drag coefficient and $A$ is the affected reference area.\n",
    "We model the total force $F_{tot}$ on the vehicle as the combination of the input acceleration $u(t)$ and the drag force $F_d$:\n",
    "$$ F_{tot} = m u(t) - F_d$$\n",
    "In a simplified manner, we can think of $u(t)$ as the position of the gas pedal. Writing this in terms of distance $x(t)$ and its derivatives we get:\n",
    "$$ m\\ddot{x}(t) = -\\frac{1}{2}\\rho c_d A\\dot{x}(t)^2 + mu(t)$$\n",
    "Since we are interested in the velocity of the system, we can transform this into a first order differential equation by setting $v(t) = \\dot{x}(t)$. The total system now reads:\n",
    "\\begin{align*}\n",
    "\\dot{v}(t) &= -\\gamma v(t)^2 + u(t)\\\\\n",
    "y(t) &= v(t)\n",
    "\\end{align*}\n",
    "where $\\gamma = \\frac{1}{2m}\\rho c_d A$ and $y(t)$ is the output of the system.\n"
   ]
  },
  {
   "cell_type": "markdown",
   "metadata": {},
   "source": [
    "### Exercise 1.1\n",
    "\n",
    "Define the nonlinear system in the function `nonlinear_sys` below. The function should take the state $x$, the input $u$ and the parameters $\\gamma$ as arguments and return the derivative of the state $v$ as $vdot$. A second function `nonlinear_sys_out` should take the state $v$ as the argument and return the system output $y$.\n",
    "\n",
    "You can use the following information to evaluate $\\gamma$:\n",
    "\n",
    "$m = 800kg$, $\\rho = 1.293 \\frac{kg}{m^3}$, $c_d = 1.1$, $A = 1.38m^2$"
   ]
  },
  {
   "cell_type": "code",
   "execution_count": 3,
   "metadata": {},
   "outputs": [],
   "source": [
    "# Define parameter\n",
    "gamma = None #TODO\n",
    "\n",
    "# Function that defines the nonlinear system \n",
    "def nonlinear_sys(t: float, v: float, u: float, params = (gamma)) -> float:\n",
    "  # TODO\n",
    "  return 0\n",
    "\n",
    "# Function that defines the nonlinear system output\n",
    "def nonlinear_sys_out(t: float, v: float, u: float, params = (gamma)) -> float:\n",
    "  # TODO\n",
    "  return 0"
   ]
  },
  {
   "cell_type": "markdown",
   "metadata": {},
   "source": [
    "Exercise 1.1 solution:"
   ]
  },
  {
   "cell_type": "code",
   "execution_count": 4,
   "metadata": {},
   "outputs": [
    {
     "data": {
      "text/plain": [
       "<function cs2solutions.NLC.sol_nonlinear_sys_out(t: float, v: float, u: float, params) -> float>"
      ]
     },
     "execution_count": 4,
     "metadata": {},
     "output_type": "execute_result"
    }
   ],
   "source": [
    "NLC.sol_nonlinear_sys\n",
    "NLC.sol_nonlinear_sys_out"
   ]
  },
  {
   "cell_type": "markdown",
   "metadata": {},
   "source": [
    "### Exercise 1.2\n",
    "\n",
    "Define the input-output system `sys` using `ct.NonlinearIOSystem()`. Additionally, simulate the input-output response of the system using `ct.input_output_response()` in response to an input $u$. We will model the input as an acceleration of 2G's or approximately $20 \\frac{m}{s^2}$."
   ]
  },
  {
   "cell_type": "code",
   "execution_count": 5,
   "metadata": {},
   "outputs": [],
   "source": [
    "u = 20\n",
    "\n",
    "def simulate_nonlinear(nonlinear_sys: callable, nonlinear_sys_out: callable, u: float) -> Tuple[np.ndarray, np.ndarray]:\n",
    "  \"\"\"\n",
    "  Simulate the nonlinear system for a given time span.\n",
    "\n",
    "  Parameters:\n",
    "  - ``nonlinear_sys`` (callable): The nonlinear system.\n",
    "  - ``u`` (float): The input to the system.\n",
    "\n",
    "  Returns:\n",
    "  - Tuple[np.ndarray, np.ndarray]: The time span and the output of the system.\n",
    "  \"\"\"\n",
    "  sys = 0 # TODO\n",
    "  t = 0 # TODO: Define a linspace here\n",
    "  t_out_1, y_out_1 = [0, 0] # TODO\n",
    "  return t_out_1, y_out_1\n",
    "\n",
    "t_out_1, y_out_1 = simulate_nonlinear(nonlinear_sys, nonlinear_sys_out, u)\t"
   ]
  },
  {
   "cell_type": "markdown",
   "metadata": {},
   "source": [
    "Exercise 1.2 solution:"
   ]
  },
  {
   "cell_type": "code",
   "execution_count": null,
   "metadata": {},
   "outputs": [],
   "source": [
    "t_out_1, y_out_1 = NLC.sol_simulate_nonlinear(NLC.sol_nonlinear_sys, NLC.sol_nonlinear_sys_out, 20, None)"
   ]
  },
  {
   "cell_type": "markdown",
   "metadata": {},
   "source": [
    "The next block plots the reaction of the car due to the acceleration input $u$. Note that there seems to be a point where the car does not accelerate anymore. This is the speed where the drag force becomes so strong that the car remains at a equilibrium velocity. This operation point is called stagnation speed."
   ]
  },
  {
   "cell_type": "code",
   "execution_count": null,
   "metadata": {},
   "outputs": [],
   "source": [
    "# Plot the response\n",
    "plt.figure(figsize=(10, 6))\n",
    "plt.grid(True)\n",
    "plt.title('Velocity of nonlinear system response to a constant input')\n",
    "plt.plot(t_out_1, y_out_1[0], label='nonlinear system', color='orange')\n",
    "plt.xticks(np.linspace(0, 30, 16))\n",
    "plt.yticks(np.linspace(0,130,14))\n",
    "plt.ylim(0,130)\n",
    "plt.xlim(-0.5,31)\n",
    "plt.xlabel('Time (s)')\n",
    "plt.ylabel('Velocity (m/s)')\n",
    "plt.legend()\n",
    "plt.show()"
   ]
  },
  {
   "cell_type": "markdown",
   "metadata": {},
   "source": [
    "### Exercise 1.3\n",
    "You have been tasked in analyzing the cars behaviour when disturbed by gusts of wind on the race track. Due to the quadratic dependence on the wind speed, the drag force will increase dramatically in response to small disturbances. To simplify the problem, you decide to linearize the system around the equilibrium point $(v_{eq}, u_{eq})$, which in this case is the stagnation speed.\n",
    "\n",
    "Use `ct.find_eqpt()` to find the equilibrium point and use a print statement to show the result.\n",
    "\n",
    "_Hint: The system function is symmetrical, thus, when the initial state $x_0 = 0$, it may take the negative solution. Set a slight positive number to get a positive solution_.\n"
   ]
  },
  {
   "cell_type": "code",
   "execution_count": null,
   "metadata": {},
   "outputs": [],
   "source": [
    "# Function that finds the equilibrium points\n",
    "v_eq, u_eq, y_eq = None, None, None # TODO\n",
    "\n",
    "# Print the results # TODO"
   ]
  },
  {
   "cell_type": "markdown",
   "metadata": {},
   "source": [
    "Exercise 1.3 solution:"
   ]
  },
  {
   "cell_type": "code",
   "execution_count": null,
   "metadata": {},
   "outputs": [],
   "source": [
    "sys = ct.NonlinearIOSystem(NLC.sol_nonlinear_sys, NLC.sol_nonlinear_sys_out)\n",
    "v_eq, u_eq, y_eq = NLC.sol_find_equilibrium(sys, 20)"
   ]
  },
  {
   "cell_type": "markdown",
   "metadata": {},
   "source": [
    "### Exercise 1.4\n",
    "\n",
    "Linearize the system around the equilibrium point we found from the previous exercise $(v_{eq}, u_{eq})$ using `ct.linearize()`. The system can now be written as a state-space model:\n",
    "\n",
    "\\begin{align*}\n",
    "\\Delta \\dot{v}(t) &= A \\cdot \\Delta v(t) + B \\cdot \\Delta u(t)\\\\\n",
    "\\Delta y(t) &= D \\cdot \\Delta v(t) \n",
    "\\end{align*}\n",
    "\n",
    "The $\\Delta$'s indicate a deviation from the equilibrium point. Note that we choose this notation because we will look at how small deviations from the equilibrium point will affect the system's behaviour.\n",
    "\n",
    "After implementing the linearization function, print the system's A matrix. \n",
    "\n",
    "Is this system indirectly Lyapunov stable?\n"
   ]
  },
  {
   "cell_type": "code",
   "execution_count": null,
   "metadata": {},
   "outputs": [],
   "source": [
    "# linearize the system\n",
    "linearized_sys = None # TODO\n",
    "\n",
    "# Evaluate system A matrix\n",
    "A_matrix = None # TODO\n",
    "\n",
    "# Print system A matrix\n",
    "# TODO"
   ]
  },
  {
   "cell_type": "markdown",
   "metadata": {},
   "source": [
    "Exercise 1.4 solution:"
   ]
  },
  {
   "cell_type": "code",
   "execution_count": null,
   "metadata": {},
   "outputs": [],
   "source": [
    "linearized_sys, A, B, C, D = NLC.sol_linearize_system(sys, v_eq, u_eq)\n",
    "print(A)"
   ]
  },
  {
   "cell_type": "markdown",
   "metadata": {},
   "source": [
    "### Exercise 1.5\n",
    "\n",
    "Now that we have the linearized system, we want to use it to predict the behavior of our real nonlinear system. As mentioned before, we model the disturbance as a gust of wind.\n",
    "\n",
    "The linearized system simply takes the slope of the nonlinear function at that given state point $(v_{eq}, u_{eq})$ and doesn't have an offset. Therefore the calculation with the linearized system will only use the change of the cars speed relative to the air $\\Delta v(t)$ and input $\\Delta u(t)$.\n",
    "\n",
    "Assume the car is already at the stagnation speed, at $t=0s$, we have a gust of wind of $1\\frac{m}{s}$ as a unit step disturbance, opposing the cars travel direction. \n",
    "\n",
    "Write a function that simulates the input-output response of the linearized system with the stated conditions and compute the necessary offset. You may use `ct.input_output_response`."
   ]
  },
  {
   "cell_type": "code",
   "execution_count": null,
   "metadata": {},
   "outputs": [],
   "source": [
    "def simulate_linear(linearized_sys: ct.statesp.StateSpace, delta_u: Optional[float], delta_v: Optional[float]) -> Tuple[np.ndarray, np.ndarray]:\n",
    "    \"\"\"\n",
    "    This function simulates the linearized system around the equilibrium point.\n",
    "\n",
    "    Parameters:\n",
    "    - ``linearized_sys`` (ct.statesp.StateSpace): The linearized system.\n",
    "    - ``delta_u`` (float): Change in input (u) from equilibrium.\n",
    "    - ``delta_v`` (float): Change in input (v) from equilibrium..\n",
    "\n",
    "    Returns:\n",
    "    - ``Tuple[np.ndarray, np.ndarray]``: A tuple containing the time and the output values.\n",
    "    \"\"\"\n",
    "    \n",
    "    t = 0 # TODO: linspace to 3000 seconds\n",
    "    t_out_2, y_out_2 = [0, 0] # TODO\n",
    "    return t_out_2, y_out_2"
   ]
  },
  {
   "cell_type": "markdown",
   "metadata": {},
   "source": [
    "Exercise 1.5 solution:"
   ]
  },
  {
   "cell_type": "code",
   "execution_count": null,
   "metadata": {},
   "outputs": [],
   "source": [
    "t_out_2, delta_y_out_2 = NLC.sol_simulate_linear(linearized_sys, 0, 1)\n",
    "y_out_2 = delta_y_out_2 + v_eq"
   ]
  },
  {
   "cell_type": "markdown",
   "metadata": {},
   "source": [
    "The next section visualizes the response of the linearized system."
   ]
  },
  {
   "cell_type": "code",
   "execution_count": null,
   "metadata": {},
   "outputs": [],
   "source": [
    "# Plot the response\n",
    "plt.figure(figsize=(10, 6))\n",
    "plt.grid(True)\n",
    "plt.title('Disturbance response of linear system (offset added)')\n",
    "plt.plot(t_out_2, y_out_2, label='linear system')\n",
    "plt.xticks(np.linspace(0, 30, 16))\n",
    "plt.yticks(np.linspace(127,129,21))\n",
    "plt.ylim(127.4,128.8)\n",
    "plt.xlim(-0.5,31)\n",
    "plt.xlabel('Time (s)')\n",
    "plt.ylabel('Velocity (m/s)')\n",
    "plt.legend()\n",
    "plt.show()"
   ]
  },
  {
   "cell_type": "markdown",
   "metadata": {},
   "source": [
    "In the next section we compare the nonlinear and linear system response side by side (offset added). Does the linearized system predict the behavior of the nonlinear system well around the linearized point?\n",
    "\n",
    "Feel free to try some different values for $\\Delta v(t)$ and input $\\Delta u(t)$. In which region around the equilibrium point. Is the linearization a good approximation?"
   ]
  },
  {
   "cell_type": "code",
   "execution_count": null,
   "metadata": {},
   "outputs": [],
   "source": [
    "# Non-linear system\n",
    "# Input: u = 20m/s\n",
    "# Initial Condition: v = v_eq + 1 m/s\n",
    "t_NL, y_NL = NLC.sol_simulate_nonlinear(NLC.sol_nonlinear_sys, NLC.sol_nonlinear_sys_out, 20, v_eq+1)\n",
    "\n",
    "# Linearized system\n",
    "# Difference to equilibrium input: delta_u = 0\n",
    "# Difference to equilibrium speed: delta_v = 1 m/s\n",
    "t_lin, y_lin = NLC.sol_simulate_linear(linearized_sys, 0, 1)\n",
    "y_lin += v_eq\n",
    "\n",
    "# Plot the response\n",
    "plt.figure(figsize=(10, 6))\n",
    "plt.grid(True)\n",
    "plt.title('System response to disturbance')\n",
    "plt.plot(t_lin, y_lin, label='linear system')\n",
    "plt.plot(t_NL, y_NL[0], label='nonlinear system', color='orange')\n",
    "plt.xticks(np.linspace(0, 30, 16))\n",
    "plt.xlim(-0.5,31)\n",
    "plt.xlabel('Time (s)')\n",
    "plt.ylabel('Velocity (m/s)')\n",
    "plt.legend()\n",
    "plt.show()"
   ]
  },
  {
   "cell_type": "markdown",
   "metadata": {},
   "source": [
    "We can conclude that in close proximity to the equilibrium point around which we linearized, the linearization is a good approximation of the real, nonlinear system. The farther away we go from this point, the worse the approximation becomes. This shows us, that only in a small area of operation linear control theory can be applied.  "
   ]
  },
  {
   "cell_type": "markdown",
   "metadata": {},
   "source": [
    "## Problem 2: Lyapunov Stability\n",
    "\n",
    "Consider again the nonlinear system described by the differential equation:\n",
    "\n",
    "$$ \\dot{v} = -\\gamma v^2 + u $$\n",
    "\n",
    "where $ \\gamma $ is a positive constant and $ u $ is the control input.\n",
    "\n",
    "As you recall from the previous exercise we have our equilibrium at $ u_{eq} = 20 \\frac{m}{s^2} $ and $ v_{eq} = 127.685 \\frac{m}{s} $."
   ]
  },
  {
   "cell_type": "code",
   "execution_count": null,
   "metadata": {},
   "outputs": [],
   "source": [
    "# Initializing the parameters\n",
    "u_eq = 20\n",
    "v_eq = 127.685\n",
    "gamma = 1.293 * 1.1 * 1.38 * 1 / (2 * 800)"
   ]
  },
  {
   "cell_type": "markdown",
   "metadata": {},
   "source": [
    "### Exercise 2.1\n",
    "\n",
    "Define a Lyapunov function `V` for the system. A common choice for a Lyapunov function for such systems is a quadratic function. Assume:\n",
    "\n",
    "$$ V(v) = \\frac{1}{2}(v - v_{eq})^2. $$\n",
    "\n",
    "Additionaly, define a second function `V_dot` that determines the time derivative of said Lyapunov function.\n",
    "\n",
    "(The output from our system is also exactly the state:  $y_{eq} = v_{eq}$)"
   ]
  },
  {
   "cell_type": "code",
   "execution_count": null,
   "metadata": {},
   "outputs": [],
   "source": [
    "# Define the Lyapunov function\n",
    "def V():\n",
    "    return # TODO\n",
    "\n",
    "# Compute the time derivative of the Lyapunov function\n",
    "def V_dot():\n",
    "    return # TODO"
   ]
  },
  {
   "cell_type": "markdown",
   "metadata": {},
   "source": [
    "Exercise 2.1 solution:"
   ]
  },
  {
   "cell_type": "code",
   "execution_count": null,
   "metadata": {},
   "outputs": [],
   "source": [
    "NLC.sol_V\n",
    "NLC.sol_V_dot"
   ]
  },
  {
   "cell_type": "markdown",
   "metadata": {},
   "source": [
    "### Stability Analysis\n",
    "\n",
    "Below you find code that creates values for this analysis and plots them for visual understanding."
   ]
  },
  {
   "cell_type": "code",
   "execution_count": null,
   "metadata": {},
   "outputs": [],
   "source": [
    "# Values for v to analyze\n",
    "\n",
    "v_values = np.linspace(v_eq - 10, v_eq + 10, 400)\n",
    "V_values = NLC.sol_V(v_values, v_eq)\n",
    "V_dot_values = NLC.sol_V_dot(v_values, gamma, u_eq, v_eq)\n",
    "\n",
    "# Plot the Lyapunov function and its derivative\n",
    "plt.figure(figsize=(12, 6))\n",
    "\n",
    "plt.subplot(1, 2, 1)\n",
    "plt.plot(v_values, V_values)\n",
    "plt.axvline(x=v_eq, color='r', linestyle='--')\n",
    "plt.title('Lyapunov Function V(v)')\n",
    "plt.xlabel('v')\n",
    "plt.ylabel('V(v)')\n",
    "plt.grid(True)\n",
    "\n",
    "plt.subplot(1, 2, 2)\n",
    "plt.plot(v_values, V_dot_values)\n",
    "plt.axvline(x=v_eq, color='r', linestyle='--')\n",
    "plt.title('Time Derivative of V(v)')\n",
    "plt.xlabel('v')\n",
    "plt.ylabel('V_dot(v)')\n",
    "plt.grid(True)\n",
    "\n",
    "plt.tight_layout()\n",
    "plt.show()"
   ]
  },
  {
   "cell_type": "markdown",
   "metadata": {},
   "source": [
    "### Exercise 2.2\n",
    "Show that $ \\dot{V}(v) $ is non-positive definite, using an if-else statment. What does this imply about the stability of the equilibrium point $ y_{eq} $?\n",
    "\n",
    "_Hint: Use ``V_dot_values``._"
   ]
  },
  {
   "cell_type": "code",
   "execution_count": null,
   "metadata": {},
   "outputs": [],
   "source": [
    "# Stability analysis\n",
    "\n",
    "# TODO"
   ]
  },
  {
   "cell_type": "markdown",
   "metadata": {},
   "source": [
    "Exercise 2.2 solution:"
   ]
  },
  {
   "cell_type": "code",
   "execution_count": null,
   "metadata": {},
   "outputs": [],
   "source": [
    "# Stability analysis\n",
    "if np.all(V_dot_values <= 0):\n",
    "    print(\"The equilibrium point is stable in the sense of Lyapunov.\")\n",
    "else:\n",
    "    print(\"The equilibrium point is not stable in the sense of Lyapunov.\")"
   ]
  },
  {
   "cell_type": "markdown",
   "metadata": {},
   "source": [
    "#### Conclusion\n",
    "\n",
    "If $ \\dot{V}(v) \\leq 0 $ for all $ v $, it implies that $ V(v) $ is non-increasing along the system's trajectories. This means any small deviation from $ v_{eq} $ will not cause the system to diverge away from $ v_{eq} $. Thus, the equilibrium point $ v_{eq} $ is stable in the sense of Lyapunov."
   ]
  },
  {
   "cell_type": "markdown",
   "metadata": {},
   "source": [
    "### Global stability\n",
    "\n",
    "Remember the conditions from your lecture for global stability:\n",
    "\n",
    "* $ V(x) \\geq 0 $, for all $ x \\in D $.\n",
    "* $ V(x) = 0 \\iff x = x_0 $, i.e., $ V(x) = 0 $ if and only if $ x = x_0 $.\n",
    "* $ \\lim_{|x| \\to +\\infty} V(x) = +\\infty $.\n",
    "* $ \\frac{d}{dt} V(x(t)) = \\frac{\\partial V(x)}{\\partial x} \\cdot \\frac{dx(t)}{dt} = \\frac{\\partial V(x)}{\\partial x} \\cdot f(x) \\leq 0 $, for all $ x(t) \\in \\mathbb{R}^n $.\n",
    "\n",
    "Consider these conditions and discuss whether the chosen Lyapunov function $ V(v) = \\frac{1}{2}(v - v_{eq})^2 $ satisfies them for global stability of the system."
   ]
  },
  {
   "cell_type": "markdown",
   "metadata": {},
   "source": [
    "#### Conclusion\n",
    "\n",
    "By looking at the plots and the Lyapunov function itself one can see that our system satisfies global stability for our chosen equilibrium point."
   ]
  }
 ],
 "metadata": {
  "kernelspec": {
   "display_name": "Python 3",
   "language": "python",
   "name": "python3"
  },
  "language_info": {
   "codemirror_mode": {
    "name": "ipython",
    "version": 3
   },
   "file_extension": ".py",
   "mimetype": "text/x-python",
   "name": "python",
   "nbconvert_exporter": "python",
   "pygments_lexer": "ipython3",
   "version": "3.11.9"
  }
 },
 "nbformat": 4,
 "nbformat_minor": 2
}
