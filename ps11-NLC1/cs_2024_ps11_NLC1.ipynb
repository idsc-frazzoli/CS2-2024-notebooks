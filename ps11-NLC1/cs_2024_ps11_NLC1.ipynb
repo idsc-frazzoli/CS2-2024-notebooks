{
 "cells": [
  {
   "cell_type": "markdown",
   "metadata": {},
   "source": [
    "# CSII 2024 Exercise 11: Nonlinear Control Part 1\n",
    "&copy; 2024 ETH Zurich, Felix Schnitzler, Jungcheng Fu, Dejan Milojevic, Paolo Petri, Joël Gmür; Institute for Dynamic Systems and Control; Prof. Emilio Frazzoli\n",
    "\n",
    "## Description\n",
    "This week's Jupyter notebook will cover Linearization and Lyapunov stability."
   ]
  },
  {
   "cell_type": "markdown",
   "metadata": {},
   "source": [
    "As usual, we start by installing the `control` module and import the required libraries."
   ]
  },
  {
   "cell_type": "code",
   "execution_count": null,
   "metadata": {},
   "outputs": [],
   "source": [
    "# Install the required python library with pip \n",
    "%pip install control"
   ]
  },
  {
   "cell_type": "code",
   "execution_count": null,
   "metadata": {},
   "outputs": [],
   "source": [
    "import numpy as np\n",
    "import control as ct\n",
    "import control.flatsys as fs\n",
    "import matplotlib.pyplot as plt"
   ]
  },
  {
   "cell_type": "markdown",
   "metadata": {},
   "source": [
    "## Problem 1\n",
    "You are an engineer on a racing team for Formula 1 and you are currently working on optimizing the drag force on your teams racecar. To model the vehicles behaviour you need to recall the equation for drag force that you first learned about at ETH.\n",
    "$$ F_{d} = \\frac{1}{2}\\rho c_d A\\dot{x}(t)^2 , $$ \n",
    "where $\\rho$ is the density of air, $c_d$ is the drag coefficient and $A$ is the affected reference area.\n",
    "We model the total force $F_{tot}$ on the vehicle as the combination of the input acceleration $u(t)$ and the drag force $F_d$:\n",
    "$$ F_{tot} = m u(t) - F_d$$\n",
    "In a simplified manner, we can think of $u(t)$ as the position of the gas pedal. Writing this in terms of distance $x(t)$ and its derivatives we get:\n",
    "$$ m\\ddot{x}(t) = -\\frac{1}{2}\\rho c_d A\\dot{x}(t)^2 + mu(t)$$\n",
    "Since we are interested in the velocity of the system, we can transform this into a first order differential equation by setting $v(t) = \\dot{x}(t)$. The total system now reads:\n",
    "\\begin{align*}\n",
    "\\dot{v}(t) &= -\\gamma v(t)^2 + u(t)\\\\\n",
    "y(t) &= v(t)\n",
    "\\end{align*}\n",
    "where $\\gamma = \\frac{1}{2m}\\rho c_d A$ and $y(t)$ is the output of the system.\n"
   ]
  },
  {
   "cell_type": "markdown",
   "metadata": {},
   "source": [
    "### Exercise 1.1\n",
    "\n",
    "Define the nonlinear system in the function `nonlinear_sys` below. The function should take the state $x$, the input $u$ and the parameters $\\gamma$ as arguments and return the derivative of the state $v$ as $vdot$. A second function `nonlinear_sys_out` should take the state $v$ as the argument and return the system output $y$.\n",
    "\n",
    "You can use the following information to evaluate $\\gamma$:\n",
    "\n",
    "$m = 800kg$, $\\rho = 1.293 \\frac{kg}{m^3}$, $c_d = 1.1$, $A = 1.38m^2$"
   ]
  },
  {
   "cell_type": "code",
   "execution_count": null,
   "metadata": {},
   "outputs": [],
   "source": [
    "# Define parameter\n",
    "gamma = None #TODO\n",
    "\n",
    "# Function that defines the nonlinear system \n",
    "def nonlinear_sys():\n",
    "  # TODO\n",
    "  return\n",
    "\n",
    "# Function that defines the nonlinear system output\n",
    "def nonlinear_sys_out():\n",
    "  # TODO\n",
    "  return "
   ]
  },
  {
   "cell_type": "markdown",
   "metadata": {},
   "source": [
    "Exercise 1.1 solution:"
   ]
  },
  {
   "cell_type": "code",
   "execution_count": null,
   "metadata": {},
   "outputs": [],
   "source": [
    "# Define parameter\n",
    "gamma = 1 / (2 * 800) * 1.293 * 1.1 * 1.38\n",
    "\n",
    "# Function that defines the nonlinear system \n",
    "def nonlinear_sys(t, v, u, params=(gamma)):\n",
    "  vdot = -gamma*v**2 + u\n",
    "  return vdot\n",
    "\n",
    "# Function that defines the nonlinear system output\n",
    "def nonlinear_sys_out(t, v, u, params=(None)):\n",
    "  y = v\n",
    "  return y"
   ]
  },
  {
   "cell_type": "markdown",
   "metadata": {},
   "source": [
    "### Exercise 1.2\n",
    "\n",
    "Define the input-output system `sys` using `ct.NonlinearIOSystem()`. Additionally, simulate the input-output response of the system using `ct.input_output_response()` in response to an input $u$. We will model the input as an acceleration of 2G's or approximately $20 \\frac{m}{s^2}$."
   ]
  },
  {
   "cell_type": "code",
   "execution_count": null,
   "metadata": {},
   "outputs": [],
   "source": [
    "# Define nonlinear input-output system\n",
    "sys = None # TODO\n",
    "\n",
    "# Define simulation length and system input\n",
    "t = np.linspace(0, 30, 1000)\n",
    "u = None # TODO\n",
    "\n",
    "#simulate the systems response\n",
    "t_out_1, y_out_1 = None, None # TODO"
   ]
  },
  {
   "cell_type": "markdown",
   "metadata": {},
   "source": [
    "Exercise 1.2 solution:"
   ]
  },
  {
   "cell_type": "code",
   "execution_count": null,
   "metadata": {},
   "outputs": [],
   "source": [
    "# Define nonlinear input-output system\n",
    "sys = ct.NonlinearIOSystem(nonlinear_sys, nonlinear_sys_out)\n",
    "\n",
    "# Define simulation length and system input\n",
    "t = np.linspace(0, 30, 1000)\n",
    "u = 20\n",
    "\n",
    "#simulate the systems response\n",
    "t_out_1, y_out_1 = ct.input_output_response(sys, T=t, U=u, X0=[0])"
   ]
  },
  {
   "cell_type": "markdown",
   "metadata": {},
   "source": [
    "The next block plots the reaction of the car due to the acceleration input $u$. Note that there seems to be a point where the car does not accelerate anymore. This is the speed where the drag force becomes so strong that the car remains at a equilibrium velocity. This operation point is called stagnation speed."
   ]
  },
  {
   "cell_type": "code",
   "execution_count": null,
   "metadata": {},
   "outputs": [],
   "source": [
    "# Plot the response\n",
    "plt.figure(figsize=(10, 6))\n",
    "plt.grid(True)\n",
    "plt.title('Velocity of nonlinear system response to a constant input')\n",
    "plt.plot(t_out_1, y_out_1[0], label='nonlinear system', color='orange')\n",
    "plt.xticks(np.linspace(0, 30, 16))\n",
    "plt.yticks(np.linspace(0,130,14))\n",
    "plt.ylim(0,130)\n",
    "plt.xlim(-0.5,31)\n",
    "plt.xlabel('Time (s)')\n",
    "plt.ylabel('Velocity (m/s)')\n",
    "plt.legend()\n",
    "plt.show()"
   ]
  },
  {
   "cell_type": "markdown",
   "metadata": {},
   "source": [
    "### Exercise 1.3\n",
    "You have been tasked in analyzing the cars behaviour when disturbed by gusts of wind on the race track. Due to the quadratic dependence on the wind speed, the drag force will increase dramatically in response to small disturbances. To simplify the problem, you decide to linearize the system around the equilibrium point $(v_{eq}, u_{eq})$, which in this case is the stagnation speed.\n",
    "\n",
    "Use `ct.find_eqpt()` to find the equilibrium point and use a print statement to show the result.\n",
    "\n",
    "_Hint: The system function is symmetrical, thus, when the initial state $x_0 = 0$, it may take the negative solution. Set a slight positive number to get a positive solution_.\n"
   ]
  },
  {
   "cell_type": "code",
   "execution_count": null,
   "metadata": {},
   "outputs": [],
   "source": [
    "# Function that finds the equilibrium points\n",
    "v_eq, u_eq, y_eq = None, None, None # TODO\n",
    "\n",
    "# Print the results # TODO"
   ]
  },
  {
   "cell_type": "markdown",
   "metadata": {},
   "source": [
    "Exercise 1.3 solution:"
   ]
  },
  {
   "cell_type": "code",
   "execution_count": null,
   "metadata": {},
   "outputs": [],
   "source": [
    "# Solution\n",
    "v_eq,u_eq,y_eq = ct.find_eqpt(sys, [0.01], [20], return_y=True)\n",
    "\n",
    "print(\"Input acceleration u_eq =\", u_eq[0], \"m/s^2\")\n",
    "print(\"Stagnation speed v_eq =\", v_eq[0],\"m/s\")"
   ]
  },
  {
   "cell_type": "markdown",
   "metadata": {},
   "source": [
    "### Exercise 1.4\n",
    "\n",
    "Linearize the system around the equilibrium point we found from the previous exercise $(v_{eq}, u_{eq})$ using `ct.linearize()`. The system can now be written as a state-space model:\n",
    "\n",
    "\\begin{align*}\n",
    "\\Delta \\dot{v}(t) &= A \\cdot \\Delta v(t) + B \\cdot \\Delta u(t)\\\\\n",
    "\\Delta y(t) &= D \\cdot \\Delta v(t) \n",
    "\\end{align*}\n",
    "\n",
    "The $\\Delta$'s indicate a deviation from the equilibrium point. Note that we choose this notation because we will look at how small deviations from the equilibrium point will affect the system's behaviour.\n",
    "\n",
    "After implementing the linearization function, print the system's A matrix. \n",
    "\n",
    "Is this system stable?\n"
   ]
  },
  {
   "cell_type": "code",
   "execution_count": null,
   "metadata": {},
   "outputs": [],
   "source": [
    "# linearize the system\n",
    "linearized_sys = None # TODO\n",
    "\n",
    "# Evaluate system A matrix\n",
    "A_matrix = None # TODO\n",
    "\n",
    "# Print system A matrix\n",
    "# TODO"
   ]
  },
  {
   "cell_type": "markdown",
   "metadata": {},
   "source": [
    "Exercise 1.4 solution:"
   ]
  },
  {
   "cell_type": "code",
   "execution_count": null,
   "metadata": {},
   "outputs": [],
   "source": [
    "# linearize the system\n",
    "linearized_sys = ct.linearize(sys,[v_eq],[u_eq])\n",
    "\n",
    "# Evaluate system A matrix\n",
    "A_matrix = linearized_sys.A\n",
    "\n",
    "# Print system A matrix\n",
    "print(A_matrix)"
   ]
  },
  {
   "cell_type": "markdown",
   "metadata": {},
   "source": [
    "### Exercise 1.5\n",
    "\n",
    "Now that we have the linearized system, we want to use it to predict the behavior of our real nonlinear system. As mentioned before, we model the disturbance as a gust of wind.\n",
    "\n",
    "The linearized system simply takes the slope of the nonlinear function at that given state point $(v_{eq}, u_{eq})$ and doesn't have an offset. Therefore the calculation with the linearized system will only use the change of the cars speed relative to the air $\\Delta v(t)$ and input $\\Delta u(t)$.\n",
    "\n",
    "Assume the car is already at the stagnation speed, at $t=0s$, we have a gust of wind of $1\\frac{m}{s}$ as a unit step disturbance, opposing the cars travel direction. \n",
    "\n",
    "Write a function that simulates the input-output response of the linearized system with the stated conditions and compute the necessary offset. You may use `ct.input_output_response`."
   ]
  },
  {
   "cell_type": "code",
   "execution_count": null,
   "metadata": {},
   "outputs": [],
   "source": [
    "#Define parameters for the simulation\n",
    "t_1 = np.linspace(0, 30, 3000)\n",
    "delta_v = None # TODO\n",
    "delta_u = None # TODO\n",
    "\n",
    "#simulate the input-output response of the linearized system\n",
    "t_out, delta_y_out = None, None\n",
    "\n",
    "# Adding offset to the linearized system\n",
    "v = None # TODO"
   ]
  },
  {
   "cell_type": "markdown",
   "metadata": {},
   "source": [
    "Exercise 1.5 solution:"
   ]
  },
  {
   "cell_type": "code",
   "execution_count": null,
   "metadata": {},
   "outputs": [],
   "source": [
    "#Define parameters for the simulation\n",
    "t_1 = np.linspace(0, 30, 3000)\n",
    "delta_v = 1\n",
    "delta_u = 0\n",
    "\n",
    "#simulate the input-output response of the linearized system\n",
    "t_out, delta_y_out = ct.input_output_response(linearized_sys, T=t_1, U=delta_u, X0=delta_v)\n",
    "\n",
    "# This adds the offset to the linearized system\n",
    "v = delta_y_out + v_eq"
   ]
  },
  {
   "cell_type": "markdown",
   "metadata": {},
   "source": [
    "The next section visualizes the response of the linearized system."
   ]
  },
  {
   "cell_type": "code",
   "execution_count": null,
   "metadata": {},
   "outputs": [],
   "source": [
    "# Plot the response\n",
    "plt.figure(figsize=(10, 6))\n",
    "plt.grid(True)\n",
    "plt.title('Disturbance response of linear system (offset added)')\n",
    "plt.plot(t_out, v, label='linear system')\n",
    "plt.xticks(np.linspace(0, 30, 16))\n",
    "plt.yticks(np.linspace(127,129,21))\n",
    "plt.ylim(127.4,128.8)\n",
    "plt.xlim(-0.5,31)\n",
    "plt.xlabel('Time (s)')\n",
    "plt.ylabel('Velocity (m/s)')\n",
    "plt.legend()\n",
    "plt.show()"
   ]
  },
  {
   "cell_type": "markdown",
   "metadata": {},
   "source": [
    "In the next section we compare the nonlinear and linear system response side by side (offset added). Does the linearized system predict the behavior of the nonlinear system well around the linearized point?\n",
    "\n",
    "Feel free to try some different values for $\\Delta v(t)$ and input $\\Delta u(t)$. In which region around the equilibrium point. Is the linearization a good approximation?"
   ]
  },
  {
   "cell_type": "code",
   "execution_count": null,
   "metadata": {},
   "outputs": [],
   "source": [
    "\n",
    "# Simulate the nonlinear and linear system response\n",
    "t = np.linspace(0, 30, 1000)\n",
    "\n",
    "delta_v = 1  #Free to change\n",
    "delta_u = 0  #Free to change\n",
    "\n",
    "u = u_eq[0] + delta_u\n",
    "\n",
    "t_NL, y_out = ct.input_output_response(sys, T=t, U=u, X0=v_eq+delta_v)\n",
    "t_lin, delta_y_out = ct.input_output_response(linearized_sys, T=t_1, U=delta_u, X0=delta_v)\n",
    "\n",
    "# This adds the offset to the linearized system\n",
    "v = delta_y_out + v_eq\n",
    "\n",
    "\n",
    "# Plot the response\n",
    "plt.figure(figsize=(10, 6))\n",
    "plt.grid(True)\n",
    "plt.title('System response to disturbance')\n",
    "plt.plot(t_lin, v, label='linear system')\n",
    "plt.plot(t_NL, y_out[0], label='nonlinear system', color='orange')\n",
    "plt.xticks(np.linspace(0, 30, 16))\n",
    "plt.xlim(-0.5,31)\n",
    "plt.xlabel('Time (s)')\n",
    "plt.ylabel('Velocity (m/s)')\n",
    "plt.legend()\n",
    "plt.show()"
   ]
  },
  {
   "cell_type": "markdown",
   "metadata": {},
   "source": [
    "We can conclude that in close proximity to the equilibrium point around which we linearized, the linearization is a good approximation of the real, nonlinear system. The farther away we go from this point, the worse the approximation becomes. This shows us, that only in a small area of operation linear control theory can be applied.  "
   ]
  },
  {
   "cell_type": "markdown",
   "metadata": {},
   "source": [
    "## Problem 2: Lyapunov Stability\n",
    "\n",
    "Consider again the nonlinear system described by the differential equation:\n",
    "\n",
    "$$ \\dot{v} = -\\gamma v^2 + u $$\n",
    "\n",
    "where $ \\gamma $ is a positive constant and $ u $ is the control input.\n",
    "\n",
    "As you recall from the previous exercise we have our equilibrium at $ u_{eq} = 20 \\frac{m}{s^2} $ and $ v_{eq} = 127.685 \\frac{m}{s} $."
   ]
  },
  {
   "cell_type": "code",
   "execution_count": null,
   "metadata": {},
   "outputs": [],
   "source": [
    "u_eq = 20\n",
    "v_eq = 127.685\n",
    "\n",
    "gamma = 1.293 * 1.1 * 1.38 * 1 / (2 * 800)"
   ]
  },
  {
   "cell_type": "markdown",
   "metadata": {},
   "source": [
    "### Lyapunov Function\n",
    "\n",
    "Define a Lyapunov function $ V(v) $ for the system. A common choice for a Lyapunov function for such systems is a quadratic function. Assume:\n",
    "\n",
    "$$ V(v) = \\frac{1}{2}(v - v_{eq})^2. $$\n",
    "\n",
    "Compute the time derivative of the Lyapunov function.\n",
    "\n",
    "(The output from our system is also exactly the state:  $y_{eq} = v_{eq}$)"
   ]
  },
  {
   "cell_type": "code",
   "execution_count": null,
   "metadata": {},
   "outputs": [],
   "source": [
    "# Define the Lyapunov function\n",
    "def V(v, v_eq):\n",
    "    return 0.5 * (v - v_eq)**2"
   ]
  },
  {
   "cell_type": "code",
   "execution_count": null,
   "metadata": {},
   "outputs": [],
   "source": [
    "# Compute the time derivative of the Lyapunov function\n",
    "def V_dot(v, gamma, u, y_eq):\n",
    "    return (v - y_eq) * (-gamma * v**2 + u)"
   ]
  },
  {
   "cell_type": "markdown",
   "metadata": {},
   "source": [
    "### Stability Analysis\n",
    "\n",
    "Below you find code that creates values for this analysis and plots them for visual understanding."
   ]
  },
  {
   "cell_type": "code",
   "execution_count": null,
   "metadata": {},
   "outputs": [],
   "source": [
    "# Values for v to analyze\n",
    "\n",
    "v_values = np.linspace(v_eq - 10, v_eq + 10, 400)\n",
    "V_values = V(v_values, v_eq)\n",
    "V_dot_values = V_dot(v_values, gamma, u_eq, v_eq)\n",
    "\n",
    "# Plot the Lyapunov function and its derivative\n",
    "plt.figure(figsize=(12, 6))\n",
    "\n",
    "plt.subplot(1, 2, 1)\n",
    "plt.plot(v_values, V_values)\n",
    "plt.axvline(x=v_eq, color='r', linestyle='--')\n",
    "plt.title('Lyapunov Function V(v)')\n",
    "plt.xlabel('v')\n",
    "plt.ylabel('V(v)')\n",
    "plt.grid(True)\n",
    "\n",
    "plt.subplot(1, 2, 2)\n",
    "plt.plot(v_values, V_dot_values)\n",
    "plt.axvline(x=v_eq, color='r', linestyle='--')\n",
    "plt.title('Time Derivative of V(v)')\n",
    "plt.xlabel('v')\n",
    "plt.ylabel('V_dot(v)')\n",
    "plt.grid(True)\n",
    "\n",
    "plt.tight_layout()\n",
    "plt.show()"
   ]
  },
  {
   "cell_type": "markdown",
   "metadata": {},
   "source": [
    "Show that $ \\dot{V}(v) $ is non-positive definite, for that create an if-else statment. What does this imply about the stability of the equilibrium point $ y_{eq} $?"
   ]
  },
  {
   "cell_type": "code",
   "execution_count": null,
   "metadata": {},
   "outputs": [],
   "source": [
    "# Stability analysis\n",
    "if np.all(V_dot_values <= 0):\n",
    "    print(\"The equilibrium point is stable in the sense of Lyapunov.\")\n",
    "else:\n",
    "    print(\"The equilibrium point is not stable in the sense of Lyapunov.\")"
   ]
  },
  {
   "cell_type": "markdown",
   "metadata": {},
   "source": [
    "#### Conclusion\n",
    "\n",
    "If $ \\dot{V}(v) \\leq 0 $ for all $ v $, it implies that $ V(v) $ is non-increasing along the system's trajectories. This means any small deviation from $ v_{eq} $ will not cause the system to diverge away from $ v_{eq} $. Thus, the equilibrium point $ v_{eq} $ is stable in the sense of Lyapunov."
   ]
  },
  {
   "cell_type": "markdown",
   "metadata": {},
   "source": [
    "### Global stability\n",
    "\n",
    "Remember the conditions from your lecture for global stability:\n",
    "\n",
    "* $ V(x) \\geq 0 $, for all $ x \\in D $.\n",
    "* $ V(x) = 0 \\iff x = x_0 $, i.e., $ V(x) = 0 $ if and only if $ x = x_0 $.\n",
    "* $ \\lim_{|x| \\to +\\infty} V(x) = +\\infty $.\n",
    "* $ \\frac{d}{dt} V(x(t)) = \\frac{\\partial V(x)}{\\partial x} \\cdot \\frac{dx(t)}{dt} = \\frac{\\partial V(x)}{\\partial x} \\cdot f(x) \\leq 0 $, for all $ x(t) \\in \\mathbb{R}^n $.\n",
    "\n",
    "Consider these conditions and discuss whether the chosen Lyapunov function $ V(v) = \\frac{1}{2}(v - v_{eq})^2 $ satisfies them for global stability of the system."
   ]
  },
  {
   "cell_type": "markdown",
   "metadata": {},
   "source": [
    "#### Conclusion\n",
    "\n",
    "By looking at the plots and the Lyapunov function itself one can see that our system satisfies global stability for our chosen equilibrium point."
   ]
  }
 ],
 "metadata": {
  "kernelspec": {
   "display_name": "Python 3",
   "language": "python",
   "name": "python3"
  },
  "language_info": {
   "codemirror_mode": {
    "name": "ipython",
    "version": 3
   },
   "file_extension": ".py",
   "mimetype": "text/x-python",
   "name": "python",
   "nbconvert_exporter": "python",
   "pygments_lexer": "ipython3",
   "version": "3.10.11"
  }
 },
 "nbformat": 4,
 "nbformat_minor": 2
}
