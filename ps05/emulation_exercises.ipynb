{
 "cells": [
  {
   "cell_type": "markdown",
   "metadata": {},
   "source": [
    "# Emulation Exercises\n",
    "\n",
    "Imagine you want to build a real duckiebot. Instead of plotting the changes a certain controller made to your system, you want to check the results by racing your duckiebot in your room.\n",
    "\n",
    "This exercise will prepare you for exactly that scenario. Also in Control Systems the real world differs from the theoretical one. In real life, as seen in your lecture, you have to work in descrete time due to a fundamental problem: *\"Computers can't do limit operations, hence they can't calculate derivatives exactly. Aprroximations are required. Instead of differential equations, finite difference equations are solved.\"*\n",
    "\n"
   ]
  },
  {
   "cell_type": "markdown",
   "metadata": {},
   "source": [
    "-----------\n",
    "## Installation \n",
    "We use the [Python library](https://python-control.readthedocs.io/en/0.9.3.post2/) `control`, which can be installed using `pip`. If you have no experience with Python, try to do some tutorials (e.g. check [this](https://docs.python.org/3/tutorial/) one). The same goes for installing Python packages using `pip`, see this [tutorial](https://packaging.python.org/en/latest/tutorials/installing-packages/). There are plenty of other Python tutorials for beginners if you do a Google/YouTube search. "
   ]
  },
  {
   "cell_type": "code",
   "execution_count": 718,
   "metadata": {},
   "outputs": [
    {
     "name": "stdout",
     "output_type": "stream",
     "text": [
      "Requirement already satisfied: control in /Library/Frameworks/Python.framework/Versions/3.11/lib/python3.11/site-packages (0.9.4)\n",
      "Requirement already satisfied: numpy in /Library/Frameworks/Python.framework/Versions/3.11/lib/python3.11/site-packages (from control) (1.26.2)\n",
      "Requirement already satisfied: scipy>=1.3 in /Library/Frameworks/Python.framework/Versions/3.11/lib/python3.11/site-packages (from control) (1.11.4)\n",
      "Requirement already satisfied: matplotlib in /Library/Frameworks/Python.framework/Versions/3.11/lib/python3.11/site-packages (from control) (3.8.2)\n",
      "Requirement already satisfied: contourpy>=1.0.1 in /Library/Frameworks/Python.framework/Versions/3.11/lib/python3.11/site-packages (from matplotlib->control) (1.2.0)\n",
      "Requirement already satisfied: cycler>=0.10 in /Library/Frameworks/Python.framework/Versions/3.11/lib/python3.11/site-packages (from matplotlib->control) (0.12.1)\n",
      "Requirement already satisfied: fonttools>=4.22.0 in /Library/Frameworks/Python.framework/Versions/3.11/lib/python3.11/site-packages (from matplotlib->control) (4.46.0)\n",
      "Requirement already satisfied: kiwisolver>=1.3.1 in /Library/Frameworks/Python.framework/Versions/3.11/lib/python3.11/site-packages (from matplotlib->control) (1.4.5)\n",
      "Requirement already satisfied: packaging>=20.0 in /Users/misterp/Library/Python/3.11/lib/python/site-packages (from matplotlib->control) (23.2)\n",
      "Requirement already satisfied: pillow>=8 in /Library/Frameworks/Python.framework/Versions/3.11/lib/python3.11/site-packages (from matplotlib->control) (10.1.0)\n",
      "Requirement already satisfied: pyparsing>=2.3.1 in /Library/Frameworks/Python.framework/Versions/3.11/lib/python3.11/site-packages (from matplotlib->control) (3.1.1)\n",
      "Requirement already satisfied: python-dateutil>=2.7 in /Users/misterp/Library/Python/3.11/lib/python/site-packages (from matplotlib->control) (2.8.2)\n",
      "Requirement already satisfied: six>=1.5 in /Users/misterp/Library/Python/3.11/lib/python/site-packages (from python-dateutil>=2.7->matplotlib->control) (1.16.0)\n",
      "\n",
      "\u001b[1m[\u001b[0m\u001b[34;49mnotice\u001b[0m\u001b[1;39;49m]\u001b[0m\u001b[39;49m A new release of pip is available: \u001b[0m\u001b[31;49m23.3.1\u001b[0m\u001b[39;49m -> \u001b[0m\u001b[32;49m23.3.2\u001b[0m\n",
      "\u001b[1m[\u001b[0m\u001b[34;49mnotice\u001b[0m\u001b[1;39;49m]\u001b[0m\u001b[39;49m To update, run: \u001b[0m\u001b[32;49mpip install --upgrade pip\u001b[0m\n"
     ]
    }
   ],
   "source": [
    "# Install the required python library with pip \n",
    "!pip install control"
   ]
  },
  {
   "cell_type": "markdown",
   "metadata": {},
   "source": [
    "------\n",
    "## Python Packages\n",
    "We use the following Python libraries which need to be imported. If you have no experience with the [NumPy](https://numpy.org/) library, read the documentation and do some tutorials. It is very important for matrix operations in Python."
   ]
  },
  {
   "cell_type": "code",
   "execution_count": 719,
   "metadata": {},
   "outputs": [],
   "source": [
    "# Import the required python libraries\n",
    "from typing import Optional, List\n",
    "import numpy as np\n",
    "from scipy import signal\n",
    "import matplotlib.pyplot as plt\n",
    "import control as ct"
   ]
  },
  {
   "cell_type": "markdown",
   "metadata": {},
   "source": [
    "## System Library\n",
    "\n",
    "In here you will find different systems that show the advatages and disadvantages for the three discretization methods."
   ]
  },
  {
   "cell_type": "code",
   "execution_count": 720,
   "metadata": {},
   "outputs": [],
   "source": [
    "# Euler forward example\n",
    "def create_system1():\n",
    "    A = np.array([[-2, 0],\n",
    "                 [0, -3]])\n",
    "    B = np.array([[0],\n",
    "                 [1]])\n",
    "    C = np.array([[1, 1]])\n",
    "    D = np.array([[0]])\n",
    "    return ct.StateSpace(A, B, C, D)\n",
    "\n",
    "# Euler backwards example\n",
    "def create_system2():\n",
    "    A = np.array([[0, 0],\n",
    "                 [0, -0.01]])\n",
    "    B = np.array([[0],\n",
    "                 [1]])\n",
    "    C = np.array([[1, 1]])\n",
    "    D = np.array([[0]])\n",
    "    return ct.StateSpace(A, B, C, D)\n",
    "\n",
    "#Create your own system here\n",
    "def create_system3():\n",
    "    A = np.array([[0, 0],\n",
    "                 [0, 0]])\n",
    "    B = np.array([[0],\n",
    "                 [0]])\n",
    "    C = np.array([[0, 0]])\n",
    "    D = np.array([[0]])\n",
    "    return ct.StateSpace(A, B, C, D)\n",
    "\n",
    "#usage\n",
    "system1 = create_system1()\n",
    "system2 = create_system2()\n",
    "system3 = create_system3()\n",
    "    "
   ]
  },
  {
   "cell_type": "markdown",
   "metadata": {},
   "source": [
    "-------\n",
    "## Implementation of Descretization Methods\n",
    "\n",
    "### Euler Forward Method\n"
   ]
  },
  {
   "cell_type": "code",
   "execution_count": 721,
   "metadata": {},
   "outputs": [],
   "source": [
    "def euler_forward(system, dt):\n",
    "    \"\"\"\n",
    "    Discretize a continuous-time system using the Euler forward method.\n",
    "\n",
    "    Parameters:\n",
    "    system: State-space system (instance of ct.StateSpace).\n",
    "    dt: Time step for discretization.\n",
    "\n",
    "    Returns:\n",
    "    StateSpace(Ad, Bd, Cd, Dd): Discretized state-space matrices.\n",
    "    \"\"\"\n",
    "    A, B, C, D = system.A, system.B, system.C, system.D\n",
    "    I = np.eye(A.shape[0])\n",
    "    Ad = I + dt * A\n",
    "    Bd = dt * B\n",
    "    Cd = C\n",
    "    Dd = D\n",
    "    return ct.StateSpace(Ad, Bd, Cd, Dd)"
   ]
  },
  {
   "cell_type": "markdown",
   "metadata": {},
   "source": [
    "### Euler Backwards Method"
   ]
  },
  {
   "cell_type": "code",
   "execution_count": 722,
   "metadata": {},
   "outputs": [],
   "source": [
    "def euler_backward(system, dt):\n",
    "    \"\"\"\n",
    "    Discretize a continuous-time system using the Euler backward method.\n",
    "\n",
    "    Parameters:\n",
    "    system: State-space system (instance of ct.StateSpace).\n",
    "    dt: Time step for discretization.\n",
    "\n",
    "    Returns:\n",
    "    StateSpace(Ad, Bd, Cd, Dd): Discretized state-space matrices.\n",
    "    \"\"\"\n",
    "    A, B, C, D = system.A, system.B, system.C, system.D\n",
    "    I = np.eye(A.shape[0])\n",
    "    Ad = np.linalg.inv(I - dt * A)\n",
    "    Bd = np.dot(Ad, dt * B)\n",
    "    Cd = C\n",
    "    Dd = D\n",
    "    return ct.StateSpace(Ad, Bd, Cd, Dd)"
   ]
  },
  {
   "cell_type": "markdown",
   "metadata": {},
   "source": [
    "### Tustin's Method"
   ]
  },
  {
   "cell_type": "code",
   "execution_count": 723,
   "metadata": {},
   "outputs": [],
   "source": [
    "def tustin_method(system, dt):\n",
    "    \"\"\"\n",
    "    Discretize a continuous-time system using Tustin's method (bilinear transformation).\n",
    "    \n",
    "    Parameters:\n",
    "    system: State-space system (instance of ct.StateSpace).\n",
    "    dt: Time step for discretization.\n",
    "    \n",
    "    Returns:\n",
    "    StateSpace(Ad, Bd, Cd, Dd): Discretized state-space matrices.\n",
    "    \"\"\"\n",
    "    A, B, C, D = system.A, system.B, system.C, system.D\n",
    "    I = np.eye(A.shape[0])\n",
    "    pre_matrix = np.linalg.inv(I - (dt / 2) * A)\n",
    "    Ad = np.dot(pre_matrix, I + (dt / 2) * A)\n",
    "    Bd = np.dot(pre_matrix, dt * B)\n",
    "    Cd = C\n",
    "    Dd = D\n",
    "    return ct.StateSpace(Ad, Bd, Cd, Dd)\n"
   ]
  },
  {
   "cell_type": "markdown",
   "metadata": {},
   "source": [
    "---------\n",
    "## Console\n",
    "\n",
    "This is where you cange your system (eg. system1, system2, etc.) and vary the step time. Leave it as it is for exercises 1 and 2."
   ]
  },
  {
   "cell_type": "code",
   "execution_count": 724,
   "metadata": {},
   "outputs": [],
   "source": [
    "#change for exercise 3\n",
    "dt =  1.0 # Time step\n",
    "test = system1"
   ]
  },
  {
   "cell_type": "markdown",
   "metadata": {},
   "source": [
    "-------\n",
    "## Exercise 1: Stability Analysis with Eigenvalue Plots\n",
    "\n",
    "Objective: Analyze and compare the stability of the Duckiebot steering system using different discretization methods.\n",
    "\n",
    "Tasks:\n",
    "\n",
    "\t1.Create a fuction that discretizes the system using Euler forward, Euler backward, and Tustin’s methods for a given time step (dt = 1 seconds).\n",
    "\n",
    "\t2.Calculate the eigenvalues in the plot_eigenvalues() function.\n",
    "\t\n",
    "\t3.Use the provided plot_table function as well as the prior ones from task 1 and 2 to plot the eigenvalues in the complex plain and check them for stability. Hint: Stable systems will have eigenvalues with magnitudes less than 1."
   ]
  },
  {
   "cell_type": "markdown",
   "metadata": {},
   "source": [
    "### Solution Exercise 1"
   ]
  },
  {
   "cell_type": "markdown",
   "metadata": {},
   "source": [
    "#### Task 1"
   ]
  },
  {
   "cell_type": "code",
   "execution_count": 725,
   "metadata": {},
   "outputs": [],
   "source": [
    "def discretize(system, dt):\n",
    "    '''\n",
    "    Discretizes a continuous-time system into discrete-time systems using three methods: \n",
    "    Euler Forward, Euler Backward, and Tustin's method.\n",
    "\n",
    "    Parameters:\n",
    "    system: A continuous-time system represented as a ct.StateSpace object.\n",
    "    dt: Time step for discretization.\n",
    "\n",
    "    Returns:\n",
    "    tuple: A tuple of discretized systems (dt_forward, dt_backward, dt_tustin), each representing \n",
    "    the input system discretized using Euler Forward, Euler Backward, and Tustin's method, respectively.\n",
    "    '''\n",
    "    # Discretize using each method\n",
    "    dt_forward = euler_forward(system, dt)\n",
    "    dt_backward = euler_backward(system, dt)\n",
    "    dt_tustin = tustin_method(system, dt)\n",
    "    \n",
    "    return dt_forward, dt_backward, dt_tustin"
   ]
  },
  {
   "cell_type": "markdown",
   "metadata": {},
   "source": [
    "#### Task 2"
   ]
  },
  {
   "cell_type": "code",
   "execution_count": 726,
   "metadata": {},
   "outputs": [],
   "source": [
    "def plot_eigenvalues(system, method_name):\n",
    "    '''\n",
    "    Plots the eigenvalues of the discretized system's A matrix on the complex plane.\n",
    "\n",
    "    Parameters:\n",
    "    system: A discrete-time system, represented as a control.statesp.StateSpace object, \n",
    "            whose eigenvalues are to be plotted.\n",
    "    method_name: A string representing the name of the discretization method used for \n",
    "                 this system. This name is used as a label in the plot.\n",
    "\n",
    "    The function calculates the eigenvalues of the system's A matrix, prints them,\n",
    "    and plots them on the complex plane. Each set of eigenvalues is labeled according \n",
    "    to the discretization method used.\n",
    "    '''\n",
    "    Ad = system.A\n",
    "    eigenvalues = np.linalg.eigvals(Ad)\n",
    "    print(method_name)\n",
    "    print(eigenvalues)\n",
    "    plt.scatter(eigenvalues.real, eigenvalues.imag, label=method_name)"
   ]
  },
  {
   "cell_type": "markdown",
   "metadata": {},
   "source": [
    "#### Plotting function"
   ]
  },
  {
   "cell_type": "code",
   "execution_count": 727,
   "metadata": {},
   "outputs": [],
   "source": [
    "def plot_table(dt_forward, dt_backward, dt_tustin):\n",
    "    '''\n",
    "    Plots the eigenvalues of three discretized systems on the complex plane to compare their stability.\n",
    "\n",
    "    Parameters:\n",
    "    dt_forward: Discretized system using the Euler Forward method (StateSpace object).\n",
    "    dt_backward: Discretized system using the Euler Backward method (StateSpace object).\n",
    "    dt_tustin: Discretized system using Tustin's method (StateSpace object).\n",
    "\n",
    "    This function visualizes the eigenvalues of the given discretized systems on the complex plane.\n",
    "    It helps in comparing the stability characteristics of the systems discretized using different methods.\n",
    "    The function plots each set of eigenvalues with a different label corresponding to the discretization method.\n",
    "    It also includes a unit circle for reference, aiding in the assessment of stability (eigenvalues inside the \n",
    "    unit circle indicate stability in discrete-time systems).\n",
    "    '''\n",
    "    plt.figure(figsize=(8, 6))\n",
    "    \n",
    "    plot_eigenvalues(dt_forward, 'Euler Forward')\n",
    "    plot_eigenvalues(dt_backward, 'Euler Backward')\n",
    "    plot_eigenvalues(dt_tustin, 'Tustin')\n",
    "    \n",
    "    plt.axhline(y=0, color='k')\n",
    "    plt.axvline(x=0, color='k')\n",
    "    plt.xlabel('Real Part')\n",
    "    plt.ylabel('Imaginary Part')\n",
    "    plt.title('Eigenvalues of Discretized Systems')\n",
    "    plt.legend(loc='upper right', bbox_to_anchor=(1.15, 1.15))\n",
    "    plt.grid(True)\n",
    "\n",
    "    # adding unit circle for visualisation\n",
    "    theta = np.linspace(0, 2 * np.pi, 100)  # 100 points between 0 and 2*pi\n",
    "    x = np.cos(theta)  # x coordinates on the circle\n",
    "    y = np.sin(theta)  # y coordinates on the circle\n",
    "    plt.plot(x, y, linestyle = '--', color = 'grey')\n",
    "\n",
    "    plt.show()"
   ]
  },
  {
   "cell_type": "markdown",
   "metadata": {},
   "source": [
    "#### Task 3 - Implementation"
   ]
  },
  {
   "cell_type": "code",
   "execution_count": 728,
   "metadata": {},
   "outputs": [
    {
     "name": "stdout",
     "output_type": "stream",
     "text": [
      "Eigenvalues of continous system:\n",
      "[-2. -3.]\n",
      "Euler Forward\n",
      "[-1. -2.]\n",
      "Euler Backward\n",
      "[0.33333333 0.25      ]\n",
      "Tustin\n",
      "[ 0.  -0.2]\n"
     ]
    },
    {
     "data": {
      "image/png": "[encoded data removed]",
      "text/plain": [
       "<Figure size 800x600 with 1 Axes>"
      ]
     },
     "metadata": {},
     "output_type": "display_data"
    }
   ],
   "source": [
    "#eigenvalues in c.t. for comparison\n",
    "print(\"Eigenvalues of continous system:\")\n",
    "print(np.linalg.eigvals(test.A))\n",
    "\n",
    "#implement your code here\n",
    "#------------\n",
    "\n",
    "dt_forward, dt_backward, dt_tustin = discretize(test, dt)\n",
    "plot_table(dt_forward, dt_backward, dt_tustin)\n",
    "\n",
    "#------------"
   ]
  },
  {
   "cell_type": "markdown",
   "metadata": {},
   "source": [
    "### Conclusion of Exercise 1\n",
    "\n",
    "In this exercise, we conducted a thorough stability analysis of the Duckiebot steering system using various discretization methods. By employing Euler forward, Euler backward, and Tustin’s methods to discretize the system for a given time step (dt = 1 second), we could observe the distinct impacts these methods have on system stability.\n",
    "\n",
    "The eigenvalues of the discretized systems were calculated and visually plotted on the complex plane. This visualization, facilitated by the unit circle on the plot, was instrumental in determining the stability of the systems. Systems with eigenvalues lying inside the unit circle are deemed stable in the discrete-time domain.\n",
    "\n",
    "A key observation from this exercise is the critical role of the discretization method in system stability. Notably, the Euler Forward method often presents a risk of making a stable continuous-time system unstable in the discrete-time domain. This is particularly true for systems with eigenvalues close to the stability boundary. Therefore, careful consideration is required when selecting this method, underscoring the need for a rigorous stability check post-discretization.\n",
    "\n",
    "This analysis highlights the importance of not only choosing the appropriate discretization method but also thoroughly checking the resulting system's stability, especially when employing the Euler Forward method. Such diligence is crucial in ensuring the reliability and accuracy of digital control systems, particularly in applications where precise control and stability are paramount."
   ]
  },
  {
   "cell_type": "markdown",
   "metadata": {},
   "source": [
    "#### Observability check"
   ]
  },
  {
   "cell_type": "code",
   "execution_count": 729,
   "metadata": {},
   "outputs": [
    {
     "name": "stdout",
     "output_type": "stream",
     "text": [
      "A = [[0.33333333 0.        ]\n",
      "     [0.         0.25      ]]\n",
      "\n",
      "B = [[0.  ]\n",
      "     [0.25]]\n",
      "\n",
      "C = [[1. 1.]]\n",
      "\n",
      "D = [[0.]]\n",
      "\n",
      "A = [[-1.  0.]\n",
      "     [ 0. -2.]]\n",
      "\n",
      "B = [[0.]\n",
      "     [1.]]\n",
      "\n",
      "C = [[1. 1.]]\n",
      "\n",
      "D = [[0.]]\n",
      "\n",
      "A = [[ 0.   0. ]\n",
      "     [ 0.  -0.2]]\n",
      "\n",
      "B = [[0. ]\n",
      "     [0.4]]\n",
      "\n",
      "C = [[1. 1.]]\n",
      "\n",
      "D = [[0.]]\n",
      "\n"
     ]
    }
   ],
   "source": [
    "#check for observability\n",
    "print(dt_backward)\n",
    "print(dt_forward)\n",
    "print(dt_tustin)"
   ]
  },
  {
   "cell_type": "markdown",
   "metadata": {},
   "source": [
    "## Exercise 2: Step Response Simulation and Comparison\n",
    "\n",
    "Objective: Simulate and compare the step responses of the discretized systems.\n",
    "\n",
    "Tasks:\n",
    "\n",
    "\t1.Apply a step input to each discretized system.\n",
    "\t2.Simulate the response over a fixed time period (100 seconds).\n",
    "\t3.Plot the responses from all three methods on the same graph for comparison."
   ]
  },
  {
   "cell_type": "markdown",
   "metadata": {},
   "source": [
    "### Solution Exercise 2"
   ]
  },
  {
   "cell_type": "code",
   "execution_count": 730,
   "metadata": {},
   "outputs": [
    {
     "data": {
      "image/png": "[encoded data removed]",
      "text/plain": [
       "<Figure size 1000x600 with 1 Axes>"
      ]
     },
     "metadata": {},
     "output_type": "display_data"
    }
   ],
   "source": [
    "#system 1 (Forward)\n",
    "def simulate_step_response(system, dt, label, n=100):\n",
    "    lti = signal.dlti(system.A, system.B, system.C, system.D, dt=dt)\n",
    "    t, y = signal.dstep(lti, n=n)\n",
    "    plt.step(t, np.squeeze(y), label=label)\n",
    "\n",
    "plt.figure(figsize=(10, 6))\n",
    "\n",
    "# Simulate step response for each method\n",
    "simulate_step_response(dt_forward, dt, label='Euler Forward')\n",
    "simulate_step_response(dt_backward, dt, label='Euler Backward')\n",
    "simulate_step_response(dt_tustin, dt, label='Tustin')\n",
    "\n",
    "plt.xlabel('Time (seconds)')\n",
    "plt.ylabel('Response')\n",
    "plt.title('Step Response of Discretized Systems')\n",
    "plt.legend()\n",
    "plt.grid(True)\n",
    "plt.show()"
   ]
  },
  {
   "cell_type": "markdown",
   "metadata": {},
   "source": [
    "### Conclusion Exercise 3"
   ]
  },
  {
   "cell_type": "markdown",
   "metadata": {},
   "source": [
    "## Exercise 3: Performance Analysis under Varying Time Steps\n",
    "\n",
    "Objective: Evaluate how the choice of time step affects the performance of each discretization method.\n",
    "\n",
    "Tasks:\n",
    "\n",
    "\t1.Vary the time step (e.g., dt = 0.75, 0.5).\n",
    "\t2.Simulate the step response for each case.\n",
    "\t3.Plot the responses for different time steps and compare how each method reacts to changes in the time step.\n",
    "\t4.Find the biggest time step that makes the system become stable for all approximation methods.\n",
    "\t5.Why does it make sense that the system becomes stable for all approximation methods with a smaller time step?"
   ]
  },
  {
   "cell_type": "markdown",
   "metadata": {},
   "source": [
    "### Conclusion Exercise 3"
   ]
  },
  {
   "cell_type": "markdown",
   "metadata": {},
   "source": [
    "In this exercise, we investigated the effect of varying the time step *dt* on the stability of a system discretized using different methods. Our analysis revealed that the largest time step at which the system remains stable is *dt=0.66*. This observation is pivotal in understanding the dynamics of discretization methods and their relationship with time step size.\n",
    "\n",
    "The key takeaway here is the significance of the time step in determining the accuracy and stability of the discretized system. Smaller time steps lead to a system behavior that more closely approximates the original continuous-time system. Remember, system1 is stable in continuous time. This is because, with smaller increments, the discrete model captures the system's dynamics more frequently, hence providing a finer and more accurate representation of the continuous process. In essence, as the time step decreases, the discretized system converges towards the behavior of the continuous system, thereby enhancing stability.\n",
    "\n",
    "Therefore, it makes sense that reducing the time step size would result in a more stable system for all discretization methods, including euler forward. This understanding is crucial when designing digital control systems or simulations, where the choice of time step can significantly impact the system's performance and reliability. The exercise underscores the delicate balance between computational efficiency (favoring larger time steps) and system fidelity (favoring smaller time steps), guiding us towards making informed decisions in system design and analysis."
   ]
  },
  {
   "cell_type": "markdown",
   "metadata": {},
   "source": [
    "## Exercise 4: Trying out different Systems\n",
    "\n",
    "Objective: Reapeating the first three exercises and seeing different cases.\n",
    "\n",
    "Tasks:\n",
    "\n",
    "\t1. Change system1 to system2 in the implementation cell\n",
    "\t2. Repeat exercises 1-3 with the new system\n",
    "\tOptional: You can also add your own system in the \"System Library\" and test it\n",
    "\n",
    "*Hint for creating your own system: Check that your system is observable, by calculating the observaibility matrix. A non observable system will not show you the \"true\" step response, since it is not displayable.*\n"
   ]
  }
 ],
 "metadata": {
  "kernelspec": {
   "display_name": "Python 3",
   "language": "python",
   "name": "python3"
  },
  "language_info": {
   "codemirror_mode": {
    "name": "ipython",
    "version": 3
   },
   "file_extension": ".py",
   "mimetype": "text/x-python",
   "name": "python",
   "nbconvert_exporter": "python",
   "pygments_lexer": "ipython3",
   "version": "3.11.7"
  }
 },
 "nbformat": 4,
 "nbformat_minor": 2
}
