{
 "cells": [
  {
   "cell_type": "markdown",
   "metadata": {},
   "source": [
    "# Emulation Exercises"
   ]
  },
  {
   "cell_type": "markdown",
   "metadata": {},
   "source": [
    "-----------\n",
    "## Installation \n",
    "We use the [Python library](https://python-control.readthedocs.io/en/0.9.3.post2/) `control`, which can be installed using `pip`. If you have no experience with Python, try to do some tutorials (e.g. check [this](https://docs.python.org/3/tutorial/) one). The same goes for installing Python packages using `pip`, see this [tutorial](https://packaging.python.org/en/latest/tutorials/installing-packages/). There are plenty of other Python tutorials for beginners if you do a Google/YouTube search. "
   ]
  },
  {
   "cell_type": "code",
   "execution_count": 1,
   "metadata": {},
   "outputs": [
    {
     "name": "stdout",
     "output_type": "stream",
     "text": [
      "Requirement already satisfied: control in /Library/Frameworks/Python.framework/Versions/3.11/lib/python3.11/site-packages (0.9.4)\n",
      "Requirement already satisfied: numpy in /Library/Frameworks/Python.framework/Versions/3.11/lib/python3.11/site-packages (from control) (1.26.2)\n",
      "Requirement already satisfied: scipy>=1.3 in /Library/Frameworks/Python.framework/Versions/3.11/lib/python3.11/site-packages (from control) (1.11.4)\n",
      "Requirement already satisfied: matplotlib in /Library/Frameworks/Python.framework/Versions/3.11/lib/python3.11/site-packages (from control) (3.8.2)\n",
      "Requirement already satisfied: contourpy>=1.0.1 in /Library/Frameworks/Python.framework/Versions/3.11/lib/python3.11/site-packages (from matplotlib->control) (1.2.0)\n",
      "Requirement already satisfied: cycler>=0.10 in /Library/Frameworks/Python.framework/Versions/3.11/lib/python3.11/site-packages (from matplotlib->control) (0.12.1)\n",
      "Requirement already satisfied: fonttools>=4.22.0 in /Library/Frameworks/Python.framework/Versions/3.11/lib/python3.11/site-packages (from matplotlib->control) (4.46.0)\n",
      "Requirement already satisfied: kiwisolver>=1.3.1 in /Library/Frameworks/Python.framework/Versions/3.11/lib/python3.11/site-packages (from matplotlib->control) (1.4.5)\n",
      "Requirement already satisfied: packaging>=20.0 in /Users/misterp/Library/Python/3.11/lib/python/site-packages (from matplotlib->control) (23.2)\n",
      "Requirement already satisfied: pillow>=8 in /Library/Frameworks/Python.framework/Versions/3.11/lib/python3.11/site-packages (from matplotlib->control) (10.1.0)\n",
      "Requirement already satisfied: pyparsing>=2.3.1 in /Library/Frameworks/Python.framework/Versions/3.11/lib/python3.11/site-packages (from matplotlib->control) (3.1.1)\n",
      "Requirement already satisfied: python-dateutil>=2.7 in /Users/misterp/Library/Python/3.11/lib/python/site-packages (from matplotlib->control) (2.8.2)\n",
      "Requirement already satisfied: six>=1.5 in /Users/misterp/Library/Python/3.11/lib/python/site-packages (from python-dateutil>=2.7->matplotlib->control) (1.16.0)\n",
      "\n",
      "\u001b[1m[\u001b[0m\u001b[34;49mnotice\u001b[0m\u001b[1;39;49m]\u001b[0m\u001b[39;49m A new release of pip is available: \u001b[0m\u001b[31;49m23.3.1\u001b[0m\u001b[39;49m -> \u001b[0m\u001b[32;49m23.3.2\u001b[0m\n",
      "\u001b[1m[\u001b[0m\u001b[34;49mnotice\u001b[0m\u001b[1;39;49m]\u001b[0m\u001b[39;49m To update, run: \u001b[0m\u001b[32;49mpip install --upgrade pip\u001b[0m\n"
     ]
    }
   ],
   "source": [
    "# Install the required python library with pip \n",
    "!pip install control"
   ]
  },
  {
   "cell_type": "markdown",
   "metadata": {},
   "source": [
    "------\n",
    "## Python Packages\n",
    "We use the following Python libraries which need to be imported. If you have no experience with the [NumPy](https://numpy.org/) library, read the documentation and do some tutorials. It is very important for matrix operations in Python."
   ]
  },
  {
   "cell_type": "code",
   "execution_count": 2,
   "metadata": {},
   "outputs": [],
   "source": [
    "# Import the required python libraries\n",
    "from typing import Optional, List\n",
    "import numpy as np\n",
    "import matplotlib.pyplot as plt\n",
    "import control as ct"
   ]
  },
  {
   "cell_type": "markdown",
   "metadata": {},
   "source": [
    "## System Library\n",
    "\n",
    "In here you will find some different systems that show the advatages and disadvantages for the three discretization methods."
   ]
  },
  {
   "cell_type": "code",
   "execution_count": 9,
   "metadata": {},
   "outputs": [
    {
     "name": "stdout",
     "output_type": "stream",
     "text": [
      "System used for demonstrating euler forward:\n",
      "\n",
      "A = [[0. 1.]\n",
      "     [0. 0.]]\n",
      "\n",
      "B = [[0.]\n",
      "     [1.]]\n",
      "\n",
      "C = [[1. 0.]]\n",
      "\n",
      "D = [[0.]]\n",
      "\n",
      "System used for demonstrating euler backward:\n",
      "\n",
      "A = [[0.  0.1]\n",
      "     [0.  0. ]]\n",
      "\n",
      "B = [[0.]\n",
      "     [1.]]\n",
      "\n",
      "C = [[1. 0.]]\n",
      "\n",
      "D = [[0.]]\n",
      "\n"
     ]
    }
   ],
   "source": [
    "# Euler forward example\n",
    "def create_system1():\n",
    "    A = np.array([[0, 1],\n",
    "                 [0, 0]])\n",
    "    B = np.array([[0],\n",
    "                 [1]])\n",
    "    C = np.array([[1, 0]])\n",
    "    D = np.array([[0]])\n",
    "    return ct.StateSpace(A, B, C, D)\n",
    "\n",
    "# Euler backwards example\n",
    "def create_system2():\n",
    "    A = np.array([[0, 0.1],\n",
    "                 [0, 0]])\n",
    "    B = np.array([[0],\n",
    "                 [1]])\n",
    "    C = np.array([[1, 0]])\n",
    "    D = np.array([[0]])\n",
    "    return ct.StateSpace(A, B, C, D)\n",
    "\n",
    "# Tustin for now does not need an example, because it will always map a stable pole in c.t. to stable poles in d.t.\n",
    "\n",
    "#usage\n",
    "forward_system = create_system1()\n",
    "backward_system = create_system2()\n",
    "\n",
    "print(\"System used for demonstrating euler forward:\\n\")\n",
    "print(forward_system)\n",
    "print(\"System used for demonstrating euler backward:\\n\")\n",
    "print(backward_system)\n",
    "    "
   ]
  },
  {
   "cell_type": "markdown",
   "metadata": {},
   "source": [
    "-------\n",
    "## Implementation of Descretization Methods\n",
    "\n",
    "### Euler Forward Method\n",
    "\n",
    "add explanation"
   ]
  },
  {
   "cell_type": "code",
   "execution_count": 10,
   "metadata": {},
   "outputs": [
    {
     "name": "stdout",
     "output_type": "stream",
     "text": [
      "(array([[1. , 0.1],\n",
      "       [0. , 1. ]]), array([[0. ],\n",
      "       [0.1]]), array([[1., 0.]]), array([[0.]]))\n"
     ]
    }
   ],
   "source": [
    "def euler_forward(system, dt):\n",
    "    \"\"\"\n",
    "    Discretize a continuous-time system using the Euler forward method.\n",
    "\n",
    "    Parameters:\n",
    "    system: State-space system (instance of control.StateSpace).\n",
    "    dt: Time step for discretization.\n",
    "\n",
    "    Returns:\n",
    "    Ad, Bd, Cd, Dd: Discretized state-space matrices.\n",
    "    \"\"\"\n",
    "    A, B, C, D = system.A, system.B, system.C, system.D\n",
    "    I = np.eye(A.shape[0])\n",
    "    Ad = I + dt * A\n",
    "    Bd = dt * B\n",
    "    Cd = C\n",
    "    Dd = D\n",
    "    return ct.StateSpace(Ad, Bd, Cd, Dd)"
   ]
  },
  {
   "cell_type": "markdown",
   "metadata": {},
   "source": [
    "### Euler Backwards Method\n",
    "\n",
    "add explanation"
   ]
  },
  {
   "cell_type": "code",
   "execution_count": 15,
   "metadata": {},
   "outputs": [
    {
     "name": "stdout",
     "output_type": "stream",
     "text": [
      "A = [[1.  0.1]\n",
      "     [0.  1. ]]\n",
      "\n",
      "B = [[0.01]\n",
      "     [0.1 ]]\n",
      "\n",
      "C = [[1. 0.]]\n",
      "\n",
      "D = [[0.]]\n",
      "\n"
     ]
    }
   ],
   "source": [
    "def euler_backward(system, dt):\n",
    "    \"\"\"\n",
    "    Discretize a continuous-time system using the Euler backward method.\n",
    "\n",
    "    Parameters:\n",
    "    system: State-space system (instance of control.StateSpace).\n",
    "    dt: Time step for discretization.\n",
    "\n",
    "    Returns:\n",
    "    Ad, Bd, Cd, Dd: Discretized state-space matrices.\n",
    "    \"\"\"\n",
    "    A, B, C, D = system.A, system.B, system.C, system.D\n",
    "    I = np.eye(A.shape[0])\n",
    "    Ad = np.linalg.inv(I - dt * A)\n",
    "    Bd = np.dot(Ad, dt * B)\n",
    "    Cd = C\n",
    "    Dd = D\n",
    "    return ct.StateSpace(Ad, Bd, Cd, Dd)\n",
    "\n",
    "#test\n",
    "test = euler_backward(forward_system, 0.1)\n",
    "print(test)"
   ]
  },
  {
   "cell_type": "markdown",
   "metadata": {},
   "source": [
    "### Tustin's Method\n",
    "\n",
    "add explanation"
   ]
  },
  {
   "cell_type": "code",
   "execution_count": 17,
   "metadata": {},
   "outputs": [
    {
     "name": "stdout",
     "output_type": "stream",
     "text": [
      "A = [[1.  0.1]\n",
      "     [0.  1. ]]\n",
      "\n",
      "B = [[0.005]\n",
      "     [0.1  ]]\n",
      "\n",
      "C = [[1. 0.]]\n",
      "\n",
      "D = [[0.]]\n",
      "\n"
     ]
    }
   ],
   "source": [
    "def tustin_method(system, dt):\n",
    "    \"\"\"\n",
    "    Discretize a continuous-time system using Tustin's method (bilinear transformation).\n",
    "    \n",
    "    Parameters:\n",
    "    A, B, C: State-space matrices of the continuous-time system.\n",
    "    dt: Time step for discretization.\n",
    "    \n",
    "    Returns:\n",
    "    Ad, Bd, Cd: Discretized state-space matrices.\n",
    "    \"\"\"\n",
    "    A, B, C, D = system.A, system.B, system.C, system.D\n",
    "    I = np.eye(A.shape[0])\n",
    "    pre_matrix = np.linalg.inv(I - (dt / 2) * A)\n",
    "    Ad = np.dot(pre_matrix, I + (dt / 2) * A)\n",
    "    Bd = np.dot(pre_matrix, dt * B)\n",
    "    Cd = C\n",
    "    Dd = D\n",
    "    return ct.StateSpace(Ad, Bd, Cd, Dd)\n",
    "\n",
    "test\n",
    "test = tustin_method(forward_system, 0.1)\n",
    "print(test)"
   ]
  },
  {
   "cell_type": "markdown",
   "metadata": {},
   "source": [
    "-------\n",
    "## Exercise 1: Stability Analysis with Eigenvalue Plots\n",
    "\n",
    "Objective: Analyze and compare the stability of the Duckiebot steering system using different discretization methods.\n",
    "\n",
    "Tasks:\n",
    "\n",
    "\t1.Discretize the system using Euler forward, Euler backward, and Tustin’s methods for a given time step (e.g., dt = 0.1 seconds).\n",
    "\n",
    "\t2.Calculate the eigenvalues of the Ad matrix for each method.\n",
    "\t\n",
    "\t3.Plot these eigenvalues on the complex plane. Stable systems will have eigenvalues with magnitudes less than 1."
   ]
  },
  {
   "cell_type": "code",
   "execution_count": 19,
   "metadata": {},
   "outputs": [
    {
     "ename": "AttributeError",
     "evalue": "'tuple' object has no attribute 'A'",
     "output_type": "error",
     "traceback": [
      "\u001b[0;31m---------------------------------------------------------------------------\u001b[0m",
      "\u001b[0;31mAttributeError\u001b[0m                            Traceback (most recent call last)",
      "\u001b[1;32m/Users/misterp/Library/Mobile Documents/com~apple~CloudDocs/ETH Zürich/Semester 5/Assistenz CS2/Git Notebooks/CS2-2024-notebooks/ps05/emulation_exercises.ipynb Cell 15\u001b[0m line \u001b[0;36m1\n\u001b[1;32m     <a href='vscode-notebook-cell:/Users/misterp/Library/Mobile%20Documents/com~apple~CloudDocs/ETH%20Z%C3%BCrich/Semester%205/Assistenz%20CS2/Git%20Notebooks/CS2-2024-notebooks/ps05/emulation_exercises.ipynb#X24sZmlsZQ%3D%3D?line=13'>14</a>\u001b[0m \u001b[39m# Plot eigenvalues\u001b[39;00m\n\u001b[1;32m     <a href='vscode-notebook-cell:/Users/misterp/Library/Mobile%20Documents/com~apple~CloudDocs/ETH%20Z%C3%BCrich/Semester%205/Assistenz%20CS2/Git%20Notebooks/CS2-2024-notebooks/ps05/emulation_exercises.ipynb#X24sZmlsZQ%3D%3D?line=14'>15</a>\u001b[0m plt\u001b[39m.\u001b[39mfigure(figsize\u001b[39m=\u001b[39m(\u001b[39m8\u001b[39m, \u001b[39m6\u001b[39m))\n\u001b[0;32m---> <a href='vscode-notebook-cell:/Users/misterp/Library/Mobile%20Documents/com~apple~CloudDocs/ETH%20Z%C3%BCrich/Semester%205/Assistenz%20CS2/Git%20Notebooks/CS2-2024-notebooks/ps05/emulation_exercises.ipynb#X24sZmlsZQ%3D%3D?line=15'>16</a>\u001b[0m plot_eigenvalues(dt_forward, \u001b[39m'\u001b[39;49m\u001b[39mEuler Forward\u001b[39;49m\u001b[39m'\u001b[39;49m)\n\u001b[1;32m     <a href='vscode-notebook-cell:/Users/misterp/Library/Mobile%20Documents/com~apple~CloudDocs/ETH%20Z%C3%BCrich/Semester%205/Assistenz%20CS2/Git%20Notebooks/CS2-2024-notebooks/ps05/emulation_exercises.ipynb#X24sZmlsZQ%3D%3D?line=16'>17</a>\u001b[0m plot_eigenvalues(dt_backward, \u001b[39m'\u001b[39m\u001b[39mEuler Backward\u001b[39m\u001b[39m'\u001b[39m)\n\u001b[1;32m     <a href='vscode-notebook-cell:/Users/misterp/Library/Mobile%20Documents/com~apple~CloudDocs/ETH%20Z%C3%BCrich/Semester%205/Assistenz%20CS2/Git%20Notebooks/CS2-2024-notebooks/ps05/emulation_exercises.ipynb#X24sZmlsZQ%3D%3D?line=17'>18</a>\u001b[0m plot_eigenvalues(dt_tustin, \u001b[39m'\u001b[39m\u001b[39mTustin\u001b[39m\u001b[39m'\u001b[39m)\n",
      "\u001b[1;32m/Users/misterp/Library/Mobile Documents/com~apple~CloudDocs/ETH Zürich/Semester 5/Assistenz CS2/Git Notebooks/CS2-2024-notebooks/ps05/emulation_exercises.ipynb Cell 15\u001b[0m line \u001b[0;36m1\n\u001b[1;32m      <a href='vscode-notebook-cell:/Users/misterp/Library/Mobile%20Documents/com~apple~CloudDocs/ETH%20Z%C3%BCrich/Semester%205/Assistenz%20CS2/Git%20Notebooks/CS2-2024-notebooks/ps05/emulation_exercises.ipynb#X24sZmlsZQ%3D%3D?line=8'>9</a>\u001b[0m \u001b[39mdef\u001b[39;00m \u001b[39mplot_eigenvalues\u001b[39m(system, method_name):\n\u001b[0;32m---> <a href='vscode-notebook-cell:/Users/misterp/Library/Mobile%20Documents/com~apple~CloudDocs/ETH%20Z%C3%BCrich/Semester%205/Assistenz%20CS2/Git%20Notebooks/CS2-2024-notebooks/ps05/emulation_exercises.ipynb#X24sZmlsZQ%3D%3D?line=9'>10</a>\u001b[0m     Ad \u001b[39m=\u001b[39m system\u001b[39m.\u001b[39;49mA\n\u001b[1;32m     <a href='vscode-notebook-cell:/Users/misterp/Library/Mobile%20Documents/com~apple~CloudDocs/ETH%20Z%C3%BCrich/Semester%205/Assistenz%20CS2/Git%20Notebooks/CS2-2024-notebooks/ps05/emulation_exercises.ipynb#X24sZmlsZQ%3D%3D?line=10'>11</a>\u001b[0m     eigenvalues \u001b[39m=\u001b[39m np\u001b[39m.\u001b[39mlinalg\u001b[39m.\u001b[39meigvals(Ad)\n\u001b[1;32m     <a href='vscode-notebook-cell:/Users/misterp/Library/Mobile%20Documents/com~apple~CloudDocs/ETH%20Z%C3%BCrich/Semester%205/Assistenz%20CS2/Git%20Notebooks/CS2-2024-notebooks/ps05/emulation_exercises.ipynb#X24sZmlsZQ%3D%3D?line=11'>12</a>\u001b[0m     plt\u001b[39m.\u001b[39mscatter(eigenvalues\u001b[39m.\u001b[39mreal, eigenvalues\u001b[39m.\u001b[39mimag, label\u001b[39m=\u001b[39mmethod_name)\n",
      "\u001b[0;31mAttributeError\u001b[0m: 'tuple' object has no attribute 'A'"
     ]
    },
    {
     "data": {
      "text/plain": [
       "<Figure size 800x600 with 0 Axes>"
      ]
     },
     "metadata": {},
     "output_type": "display_data"
    }
   ],
   "source": [
    "dt = 0.1  # Time step\n",
    "\n",
    "# Discretize using each method\n",
    "dt_forward = euler_forward(forward_system, dt)\n",
    "dt_backward = euler_backward(forward_system, dt)\n",
    "dt_tustin = tustin_method(forward_system, dt)\n",
    "\n",
    "# Function to plot eigenvalues\n",
    "def plot_eigenvalues(system, method_name):\n",
    "    Ad = system.A\n",
    "    eigenvalues = np.linalg.eigvals(Ad)\n",
    "    plt.scatter(eigenvalues.real, eigenvalues.imag, label=method_name)\n",
    "\n",
    "# Plot eigenvalues\n",
    "plt.figure(figsize=(8, 6))\n",
    "plot_eigenvalues(dt_forward, 'Euler Forward')\n",
    "plot_eigenvalues(dt_backward, 'Euler Backward')\n",
    "plot_eigenvalues(dt_tustin, 'Tustin')\n",
    "plt.axhline(y=0, color='k')\n",
    "plt.axvline(x=0, color='k')\n",
    "plt.xlabel('Real Part')\n",
    "plt.ylabel('Imaginary Part')\n",
    "plt.title('Eigenvalues of Discretized Systems')\n",
    "plt.legend()\n",
    "plt.grid(True)\n",
    "plt.show()"
   ]
  }
 ],
 "metadata": {
  "kernelspec": {
   "display_name": "Python 3",
   "language": "python",
   "name": "python3"
  },
  "language_info": {
   "codemirror_mode": {
    "name": "ipython",
    "version": 3
   },
   "file_extension": ".py",
   "mimetype": "text/x-python",
   "name": "python",
   "nbconvert_exporter": "python",
   "pygments_lexer": "ipython3",
   "version": "3.11.7"
  }
 },
 "nbformat": 4,
 "nbformat_minor": 2
}
