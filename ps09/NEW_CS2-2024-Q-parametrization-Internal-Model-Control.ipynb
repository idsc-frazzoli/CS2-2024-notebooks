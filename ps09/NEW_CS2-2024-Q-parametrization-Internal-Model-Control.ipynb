{
 "cells": [
  {
   "cell_type": "markdown",
   "metadata": {},
   "source": [
    "# CSII 2024 Exercise 12: Q parametrization & Internal Model Control\n",
    "© 2024 ETH Zurich, Joël Gmür, Felix Schnitzler, Niclas Scheuer, Dejan Milojevic; Institute for Dynamic Systems and Control; Prof. Emilio Frazzoli"
   ]
  },
  {
   "cell_type": "markdown",
   "metadata": {},
   "source": [
    "# Setup"
   ]
  },
  {
   "cell_type": "code",
   "execution_count": 1,
   "metadata": {},
   "outputs": [
    {
     "name": "stdout",
     "output_type": "stream",
     "text": [
      "Processing d:\\6cs2solutions\\cs2solutions\\dist\\cs2solutions-0.8.1-py3-none-any.whl\n",
      "Collecting control (from cs2solutions==0.8.1)\n",
      "  Using cached control-0.10.0-py3-none-any.whl.metadata (7.6 kB)\n",
      "Collecting matplotlib (from cs2solutions==0.8.1)\n",
      "  Using cached matplotlib-3.8.4-cp310-cp310-win_amd64.whl.metadata (5.9 kB)\n",
      "Collecting numpy (from cs2solutions==0.8.1)\n",
      "  Using cached numpy-1.26.4-cp310-cp310-win_amd64.whl.metadata (61 kB)\n",
      "Collecting scipy (from cs2solutions==0.8.1)\n",
      "  Using cached scipy-1.13.0-cp310-cp310-win_amd64.whl.metadata (60 kB)\n",
      "Collecting sympy (from cs2solutions==0.8.1)\n",
      "  Using cached sympy-1.12-py3-none-any.whl.metadata (12 kB)\n",
      "Collecting pandas (from cs2solutions==0.8.1)\n",
      "  Using cached pandas-2.2.2-cp310-cp310-win_amd64.whl.metadata (19 kB)\n",
      "Collecting contourpy>=1.0.1 (from matplotlib->cs2solutions==0.8.1)\n",
      "  Using cached contourpy-1.2.1-cp310-cp310-win_amd64.whl.metadata (5.8 kB)\n",
      "Collecting cycler>=0.10 (from matplotlib->cs2solutions==0.8.1)\n",
      "  Using cached cycler-0.12.1-py3-none-any.whl.metadata (3.8 kB)\n",
      "Collecting fonttools>=4.22.0 (from matplotlib->cs2solutions==0.8.1)\n",
      "  Using cached fonttools-4.51.0-cp310-cp310-win_amd64.whl.metadata (162 kB)\n",
      "Collecting kiwisolver>=1.3.1 (from matplotlib->cs2solutions==0.8.1)\n",
      "  Using cached kiwisolver-1.4.5-cp310-cp310-win_amd64.whl.metadata (6.5 kB)\n",
      "Collecting packaging>=20.0 (from matplotlib->cs2solutions==0.8.1)\n",
      "  Using cached packaging-24.0-py3-none-any.whl.metadata (3.2 kB)\n",
      "Collecting pillow>=8 (from matplotlib->cs2solutions==0.8.1)\n",
      "  Using cached pillow-10.3.0-cp310-cp310-win_amd64.whl.metadata (9.4 kB)\n",
      "Collecting pyparsing>=2.3.1 (from matplotlib->cs2solutions==0.8.1)\n",
      "  Using cached pyparsing-3.1.2-py3-none-any.whl.metadata (5.1 kB)\n",
      "Collecting python-dateutil>=2.7 (from matplotlib->cs2solutions==0.8.1)\n",
      "  Using cached python_dateutil-2.9.0.post0-py2.py3-none-any.whl.metadata (8.4 kB)\n",
      "Collecting pytz>=2020.1 (from pandas->cs2solutions==0.8.1)\n",
      "  Using cached pytz-2024.1-py2.py3-none-any.whl.metadata (22 kB)\n",
      "Collecting tzdata>=2022.7 (from pandas->cs2solutions==0.8.1)\n",
      "  Using cached tzdata-2024.1-py2.py3-none-any.whl.metadata (1.4 kB)\n",
      "Collecting mpmath>=0.19 (from sympy->cs2solutions==0.8.1)\n",
      "  Using cached mpmath-1.3.0-py3-none-any.whl.metadata (8.6 kB)\n",
      "Collecting six>=1.5 (from python-dateutil>=2.7->matplotlib->cs2solutions==0.8.1)\n",
      "  Using cached six-1.16.0-py2.py3-none-any.whl.metadata (1.8 kB)\n",
      "Using cached control-0.10.0-py3-none-any.whl (513 kB)\n",
      "Using cached matplotlib-3.8.4-cp310-cp310-win_amd64.whl (7.7 MB)\n",
      "Using cached numpy-1.26.4-cp310-cp310-win_amd64.whl (15.8 MB)\n",
      "Using cached scipy-1.13.0-cp310-cp310-win_amd64.whl (46.2 MB)\n",
      "Using cached pandas-2.2.2-cp310-cp310-win_amd64.whl (11.6 MB)\n",
      "Using cached sympy-1.12-py3-none-any.whl (5.7 MB)\n",
      "Using cached contourpy-1.2.1-cp310-cp310-win_amd64.whl (187 kB)\n",
      "Using cached cycler-0.12.1-py3-none-any.whl (8.3 kB)\n",
      "Using cached fonttools-4.51.0-cp310-cp310-win_amd64.whl (2.2 MB)\n",
      "Using cached kiwisolver-1.4.5-cp310-cp310-win_amd64.whl (56 kB)\n",
      "Using cached mpmath-1.3.0-py3-none-any.whl (536 kB)\n",
      "Using cached packaging-24.0-py3-none-any.whl (53 kB)\n",
      "Using cached pillow-10.3.0-cp310-cp310-win_amd64.whl (2.5 MB)\n",
      "Using cached pyparsing-3.1.2-py3-none-any.whl (103 kB)\n",
      "Using cached python_dateutil-2.9.0.post0-py2.py3-none-any.whl (229 kB)\n",
      "Using cached pytz-2024.1-py2.py3-none-any.whl (505 kB)\n",
      "Using cached tzdata-2024.1-py2.py3-none-any.whl (345 kB)\n",
      "Using cached six-1.16.0-py2.py3-none-any.whl (11 kB)\n",
      "Installing collected packages: pytz, mpmath, tzdata, sympy, six, pyparsing, pillow, packaging, numpy, kiwisolver, fonttools, cycler, scipy, python-dateutil, contourpy, pandas, matplotlib, control, cs2solutions\n",
      "  Attempting uninstall: pytz\n",
      "    Found existing installation: pytz 2024.1\n",
      "    Uninstalling pytz-2024.1:\n",
      "      Successfully uninstalled pytz-2024.1\n",
      "  Attempting uninstall: mpmath\n",
      "    Found existing installation: mpmath 1.3.0\n",
      "    Uninstalling mpmath-1.3.0:\n",
      "      Successfully uninstalled mpmath-1.3.0\n",
      "  Attempting uninstall: tzdata\n",
      "    Found existing installation: tzdata 2024.1\n",
      "    Uninstalling tzdata-2024.1:\n",
      "      Successfully uninstalled tzdata-2024.1\n",
      "  Attempting uninstall: sympy\n",
      "    Found existing installation: sympy 1.12\n",
      "    Uninstalling sympy-1.12:\n",
      "      Successfully uninstalled sympy-1.12\n",
      "  Attempting uninstall: six\n",
      "    Found existing installation: six 1.16.0\n",
      "    Uninstalling six-1.16.0:\n",
      "      Successfully uninstalled six-1.16.0\n",
      "  Attempting uninstall: pyparsing\n",
      "    Found existing installation: pyparsing 3.1.2\n",
      "    Uninstalling pyparsing-3.1.2:\n",
      "      Successfully uninstalled pyparsing-3.1.2\n",
      "  Attempting uninstall: pillow\n",
      "    Found existing installation: pillow 10.3.0\n",
      "    Uninstalling pillow-10.3.0:\n",
      "      Successfully uninstalled pillow-10.3.0\n",
      "  Attempting uninstall: packaging\n",
      "    Found existing installation: packaging 24.0\n",
      "    Uninstalling packaging-24.0:\n",
      "      Successfully uninstalled packaging-24.0\n",
      "  Attempting uninstall: numpy\n",
      "    Found existing installation: numpy 1.26.4\n",
      "    Uninstalling numpy-1.26.4:\n",
      "      Successfully uninstalled numpy-1.26.4\n",
      "  Attempting uninstall: kiwisolver\n",
      "    Found existing installation: kiwisolver 1.4.5\n",
      "    Uninstalling kiwisolver-1.4.5:\n",
      "      Successfully uninstalled kiwisolver-1.4.5\n",
      "  Attempting uninstall: fonttools\n",
      "    Found existing installation: fonttools 4.51.0\n",
      "    Uninstalling fonttools-4.51.0:\n",
      "      Successfully uninstalled fonttools-4.51.0\n",
      "  Attempting uninstall: cycler\n",
      "    Found existing installation: cycler 0.12.1\n",
      "    Uninstalling cycler-0.12.1:\n",
      "      Successfully uninstalled cycler-0.12.1\n",
      "  Attempting uninstall: scipy\n",
      "    Found existing installation: scipy 1.13.0\n",
      "    Uninstalling scipy-1.13.0:\n",
      "      Successfully uninstalled scipy-1.13.0\n",
      "  Attempting uninstall: python-dateutil\n",
      "    Found existing installation: python-dateutil 2.9.0.post0\n",
      "    Uninstalling python-dateutil-2.9.0.post0:\n",
      "      Successfully uninstalled python-dateutil-2.9.0.post0\n",
      "  Attempting uninstall: contourpy\n",
      "    Found existing installation: contourpy 1.2.1\n",
      "    Uninstalling contourpy-1.2.1:\n",
      "      Successfully uninstalled contourpy-1.2.1\n",
      "  Attempting uninstall: pandas\n",
      "    Found existing installation: pandas 2.2.2\n",
      "    Uninstalling pandas-2.2.2:\n",
      "      Successfully uninstalled pandas-2.2.2\n",
      "  Attempting uninstall: control\n",
      "    Found existing installation: control 0.10.0\n",
      "    Uninstalling control-0.10.0:\n",
      "      Successfully uninstalled control-0.10.0\n",
      "  Attempting uninstall: cs2solutions\n",
      "    Found existing installation: cs2solutions 0.8.0\n",
      "    Uninstalling cs2solutions-0.8.0:\n",
      "      Successfully uninstalled cs2solutions-0.8.0\n",
      "Successfully installed contourpy-1.2.1 control-0.10.0 cs2solutions-0.8.1 cycler-0.12.1 fonttools-4.51.0 kiwisolver-1.4.5 matplotlib-3.8.4 mpmath-1.3.0 numpy-1.26.4 packaging-24.0 pandas-2.2.2 pillow-10.3.0 pyparsing-3.1.2 python-dateutil-2.9.0.post0 pytz-2024.1 scipy-1.13.0 six-1.16.0 sympy-1.12 tzdata-2024.1\n",
      "Note: you may need to restart the kernel to use updated packages.\n"
     ]
    },
    {
     "name": "stderr",
     "output_type": "stream",
     "text": [
      "WARNING: Ignoring invalid distribution - (c:\\users\\nicla\\appdata\\local\\packages\\pythonsoftwarefoundation.python.3.10_qbz5n2kfra8p0\\localcache\\local-packages\\python310\\site-packages)\n",
      "WARNING: Ignoring invalid distribution -atplotlib (c:\\users\\nicla\\appdata\\local\\packages\\pythonsoftwarefoundation.python.3.10_qbz5n2kfra8p0\\localcache\\local-packages\\python310\\site-packages)\n",
      "WARNING: Ignoring invalid distribution - (c:\\users\\nicla\\appdata\\local\\packages\\pythonsoftwarefoundation.python.3.10_qbz5n2kfra8p0\\localcache\\local-packages\\python310\\site-packages)\n",
      "WARNING: Ignoring invalid distribution -atplotlib (c:\\users\\nicla\\appdata\\local\\packages\\pythonsoftwarefoundation.python.3.10_qbz5n2kfra8p0\\localcache\\local-packages\\python310\\site-packages)\n"
     ]
    }
   ],
   "source": [
    "# Install the required python library with pip\n",
    "%pip install D:\\6CS2Solutions\\cs2solutions\\dist\\cs2solutions-0.8.1-py3-none-any.whl --force-reinstall\n",
    "%pip install control==0.10.0"
   ]
  },
  {
   "cell_type": "code",
   "execution_count": 3,
   "metadata": {},
   "outputs": [
    {
     "name": "stdout",
     "output_type": "stream",
     "text": [
      "Requirement already satisfied: control==0.10.0 in c:\\users\\nicla\\appdata\\local\\packages\\pythonsoftwarefoundation.python.3.10_qbz5n2kfra8p0\\localcache\\local-packages\\python310\\site-packages (0.10.0)\n",
      "Requirement already satisfied: numpy>=1.23 in c:\\users\\nicla\\appdata\\local\\packages\\pythonsoftwarefoundation.python.3.10_qbz5n2kfra8p0\\localcache\\local-packages\\python310\\site-packages (from control==0.10.0) (1.26.4)\n",
      "Requirement already satisfied: scipy>=1.8 in c:\\users\\nicla\\appdata\\local\\packages\\pythonsoftwarefoundation.python.3.10_qbz5n2kfra8p0\\localcache\\local-packages\\python310\\site-packages (from control==0.10.0) (1.13.0)\n",
      "Requirement already satisfied: matplotlib>=3.6 in c:\\users\\nicla\\appdata\\local\\packages\\pythonsoftwarefoundation.python.3.10_qbz5n2kfra8p0\\localcache\\local-packages\\python310\\site-packages (from control==0.10.0) (3.8.4)\n",
      "Requirement already satisfied: contourpy>=1.0.1 in c:\\users\\nicla\\appdata\\local\\packages\\pythonsoftwarefoundation.python.3.10_qbz5n2kfra8p0\\localcache\\local-packages\\python310\\site-packages (from matplotlib>=3.6->control==0.10.0) (1.2.1)\n",
      "Requirement already satisfied: cycler>=0.10 in c:\\users\\nicla\\appdata\\local\\packages\\pythonsoftwarefoundation.python.3.10_qbz5n2kfra8p0\\localcache\\local-packages\\python310\\site-packages (from matplotlib>=3.6->control==0.10.0) (0.12.1)\n",
      "Requirement already satisfied: fonttools>=4.22.0 in c:\\users\\nicla\\appdata\\local\\packages\\pythonsoftwarefoundation.python.3.10_qbz5n2kfra8p0\\localcache\\local-packages\\python310\\site-packages (from matplotlib>=3.6->control==0.10.0) (4.51.0)\n",
      "Requirement already satisfied: kiwisolver>=1.3.1 in c:\\users\\nicla\\appdata\\local\\packages\\pythonsoftwarefoundation.python.3.10_qbz5n2kfra8p0\\localcache\\local-packages\\python310\\site-packages (from matplotlib>=3.6->control==0.10.0) (1.4.5)\n",
      "Requirement already satisfied: packaging>=20.0 in c:\\users\\nicla\\appdata\\local\\packages\\pythonsoftwarefoundation.python.3.10_qbz5n2kfra8p0\\localcache\\local-packages\\python310\\site-packages (from matplotlib>=3.6->control==0.10.0) (24.0)\n",
      "Requirement already satisfied: pillow>=8 in c:\\users\\nicla\\appdata\\local\\packages\\pythonsoftwarefoundation.python.3.10_qbz5n2kfra8p0\\localcache\\local-packages\\python310\\site-packages (from matplotlib>=3.6->control==0.10.0) (10.3.0)\n",
      "Requirement already satisfied: pyparsing>=2.3.1 in c:\\users\\nicla\\appdata\\local\\packages\\pythonsoftwarefoundation.python.3.10_qbz5n2kfra8p0\\localcache\\local-packages\\python310\\site-packages (from matplotlib>=3.6->control==0.10.0) (3.1.2)\n",
      "Requirement already satisfied: python-dateutil>=2.7 in c:\\users\\nicla\\appdata\\local\\packages\\pythonsoftwarefoundation.python.3.10_qbz5n2kfra8p0\\localcache\\local-packages\\python310\\site-packages (from matplotlib>=3.6->control==0.10.0) (2.9.0.post0)\n",
      "Requirement already satisfied: six>=1.5 in c:\\users\\nicla\\appdata\\local\\packages\\pythonsoftwarefoundation.python.3.10_qbz5n2kfra8p0\\localcache\\local-packages\\python310\\site-packages (from python-dateutil>=2.7->matplotlib>=3.6->control==0.10.0) (1.16.0)\n",
      "Note: you may need to restart the kernel to use updated packages.\n"
     ]
    },
    {
     "name": "stderr",
     "output_type": "stream",
     "text": [
      "WARNING: Ignoring invalid distribution - (c:\\users\\nicla\\appdata\\local\\packages\\pythonsoftwarefoundation.python.3.10_qbz5n2kfra8p0\\localcache\\local-packages\\python310\\site-packages)\n",
      "WARNING: Ignoring invalid distribution -atplotlib (c:\\users\\nicla\\appdata\\local\\packages\\pythonsoftwarefoundation.python.3.10_qbz5n2kfra8p0\\localcache\\local-packages\\python310\\site-packages)\n",
      "WARNING: Ignoring invalid distribution - (c:\\users\\nicla\\appdata\\local\\packages\\pythonsoftwarefoundation.python.3.10_qbz5n2kfra8p0\\localcache\\local-packages\\python310\\site-packages)\n",
      "WARNING: Ignoring invalid distribution -atplotlib (c:\\users\\nicla\\appdata\\local\\packages\\pythonsoftwarefoundation.python.3.10_qbz5n2kfra8p0\\localcache\\local-packages\\python310\\site-packages)\n"
     ]
    },
    {
     "ename": "TypeError",
     "evalue": "Too many arguments for typing.List; actual 2, expected 1",
     "output_type": "error",
     "traceback": [
      "\u001b[1;31m---------------------------------------------------------------------------\u001b[0m",
      "\u001b[1;31mTypeError\u001b[0m                                 Traceback (most recent call last)",
      "Cell \u001b[1;32mIn[3], line 8\u001b[0m\n\u001b[0;32m      6\u001b[0m \u001b[38;5;28;01mimport\u001b[39;00m \u001b[38;5;21;01mcontrol\u001b[39;00m \u001b[38;5;28;01mas\u001b[39;00m \u001b[38;5;21;01mct\u001b[39;00m\n\u001b[0;32m      7\u001b[0m \u001b[38;5;28;01mimport\u001b[39;00m \u001b[38;5;21;01mmatplotlib\u001b[39;00m\u001b[38;5;21;01m.\u001b[39;00m\u001b[38;5;21;01mpyplot\u001b[39;00m \u001b[38;5;28;01mas\u001b[39;00m \u001b[38;5;21;01mplt\u001b[39;00m\n\u001b[1;32m----> 8\u001b[0m \u001b[38;5;28;01mfrom\u001b[39;00m \u001b[38;5;21;01mcs2solutions\u001b[39;00m \u001b[38;5;28;01mimport\u001b[39;00m duckiebot, Qparam\n",
      "File \u001b[1;32m~\\AppData\\Local\\Packages\\PythonSoftwareFoundation.Python.3.10_qbz5n2kfra8p0\\LocalCache\\local-packages\\Python310\\site-packages\\cs2solutions\\Qparam.py:15\u001b[0m\n\u001b[0;32m     12\u001b[0m     \u001b[38;5;28mprint\u001b[39m(\u001b[38;5;124mf\u001b[39m\u001b[38;5;124m\"\u001b[39m\u001b[38;5;124mError: \u001b[39m\u001b[38;5;132;01m{\u001b[39;00me\u001b[38;5;132;01m}\u001b[39;00m\u001b[38;5;124m\"\u001b[39m)\n\u001b[0;32m     13\u001b[0m     \u001b[38;5;28mprint\u001b[39m(\u001b[38;5;124mf\u001b[39m\u001b[38;5;124m\"\u001b[39m\u001b[38;5;124mPlease install the required packages using the command \u001b[39m\u001b[38;5;124m'\u001b[39m\u001b[38;5;124m!pip install control numpy matplotlib scipy\u001b[39m\u001b[38;5;124m'\u001b[39m\u001b[38;5;124m\"\u001b[39m)\n\u001b[1;32m---> 15\u001b[0m \u001b[38;5;28;01mdef\u001b[39;00m \u001b[38;5;21msol_compute_K_L\u001b[39m(A: np\u001b[38;5;241m.\u001b[39mndarray, B: np\u001b[38;5;241m.\u001b[39mndarray, C: np\u001b[38;5;241m.\u001b[39mndarray, D: np\u001b[38;5;241m.\u001b[39mndarray, poles_controller: \u001b[43mList\u001b[49m\u001b[43m[\u001b[49m\u001b[38;5;28;43mfloat\u001b[39;49m\u001b[43m,\u001b[49m\u001b[43m \u001b[49m\u001b[38;5;28;43mfloat\u001b[39;49m\u001b[43m]\u001b[49m, poles_observer: List[\u001b[38;5;28mfloat\u001b[39m, \u001b[38;5;28mfloat\u001b[39m]) \u001b[38;5;241m-\u001b[39m\u001b[38;5;241m>\u001b[39m Tuple[ct\u001b[38;5;241m.\u001b[39m TransferFunction, \u001b[38;5;28mfloat\u001b[39m, \u001b[38;5;28mfloat\u001b[39m]:\n\u001b[0;32m     16\u001b[0m \u001b[38;5;250m    \u001b[39m\u001b[38;5;124;03m\"\"\"\u001b[39;00m\n\u001b[0;32m     17\u001b[0m \u001b[38;5;124;03m    This function computes the transfer function ``P(s)`` of the plant, the controller gain ``K`` and the observer gain ``L``.\u001b[39;00m\n\u001b[0;32m     18\u001b[0m \n\u001b[1;32m   (...)\u001b[0m\n\u001b[0;32m     30\u001b[0m \u001b[38;5;124;03m    - ``L`` (float): The observer gain.\u001b[39;00m\n\u001b[0;32m     31\u001b[0m \u001b[38;5;124;03m    \"\"\"\u001b[39;00m\n\u001b[0;32m     33\u001b[0m     \u001b[38;5;28;01massert\u001b[39;00m A\u001b[38;5;241m.\u001b[39mshape[\u001b[38;5;241m0\u001b[39m] \u001b[38;5;241m==\u001b[39m A\u001b[38;5;241m.\u001b[39mshape[\u001b[38;5;241m1\u001b[39m], \u001b[38;5;124m\"\u001b[39m\u001b[38;5;124mMatrix A must be square\u001b[39m\u001b[38;5;124m\"\u001b[39m\n",
      "File \u001b[1;32mC:\\Program Files\\WindowsApps\\PythonSoftwareFoundation.Python.3.10_3.10.3056.0_x64__qbz5n2kfra8p0\\lib\\typing.py:312\u001b[0m, in \u001b[0;36m_tp_cache.<locals>.decorator.<locals>.inner\u001b[1;34m(*args, **kwds)\u001b[0m\n\u001b[0;32m    310\u001b[0m \u001b[38;5;28;01mexcept\u001b[39;00m \u001b[38;5;167;01mTypeError\u001b[39;00m:\n\u001b[0;32m    311\u001b[0m     \u001b[38;5;28;01mpass\u001b[39;00m  \u001b[38;5;66;03m# All real errors (not unhashable args) are raised below.\u001b[39;00m\n\u001b[1;32m--> 312\u001b[0m \u001b[38;5;28;01mreturn\u001b[39;00m func(\u001b[38;5;241m*\u001b[39margs, \u001b[38;5;241m*\u001b[39m\u001b[38;5;241m*\u001b[39mkwds)\n",
      "File \u001b[1;32mC:\\Program Files\\WindowsApps\\PythonSoftwareFoundation.Python.3.10_3.10.3056.0_x64__qbz5n2kfra8p0\\lib\\typing.py:1144\u001b[0m, in \u001b[0;36m_SpecialGenericAlias.__getitem__\u001b[1;34m(self, params)\u001b[0m\n\u001b[0;32m   1142\u001b[0m msg \u001b[38;5;241m=\u001b[39m \u001b[38;5;124m\"\u001b[39m\u001b[38;5;124mParameters to generic types must be types.\u001b[39m\u001b[38;5;124m\"\u001b[39m\n\u001b[0;32m   1143\u001b[0m params \u001b[38;5;241m=\u001b[39m \u001b[38;5;28mtuple\u001b[39m(_type_check(p, msg) \u001b[38;5;28;01mfor\u001b[39;00m p \u001b[38;5;129;01min\u001b[39;00m params)\n\u001b[1;32m-> 1144\u001b[0m \u001b[43m_check_generic\u001b[49m\u001b[43m(\u001b[49m\u001b[38;5;28;43mself\u001b[39;49m\u001b[43m,\u001b[49m\u001b[43m \u001b[49m\u001b[43mparams\u001b[49m\u001b[43m,\u001b[49m\u001b[43m \u001b[49m\u001b[38;5;28;43mself\u001b[39;49m\u001b[38;5;241;43m.\u001b[39;49m\u001b[43m_nparams\u001b[49m\u001b[43m)\u001b[49m\n\u001b[0;32m   1145\u001b[0m \u001b[38;5;28;01mreturn\u001b[39;00m \u001b[38;5;28mself\u001b[39m\u001b[38;5;241m.\u001b[39mcopy_with(params)\n",
      "File \u001b[1;32mC:\\Program Files\\WindowsApps\\PythonSoftwareFoundation.Python.3.10_3.10.3056.0_x64__qbz5n2kfra8p0\\lib\\typing.py:231\u001b[0m, in \u001b[0;36m_check_generic\u001b[1;34m(cls, parameters, elen)\u001b[0m\n\u001b[0;32m    229\u001b[0m alen \u001b[38;5;241m=\u001b[39m \u001b[38;5;28mlen\u001b[39m(parameters)\n\u001b[0;32m    230\u001b[0m \u001b[38;5;28;01mif\u001b[39;00m alen \u001b[38;5;241m!=\u001b[39m elen:\n\u001b[1;32m--> 231\u001b[0m     \u001b[38;5;28;01mraise\u001b[39;00m \u001b[38;5;167;01mTypeError\u001b[39;00m(\u001b[38;5;124mf\u001b[39m\u001b[38;5;124m\"\u001b[39m\u001b[38;5;124mToo \u001b[39m\u001b[38;5;132;01m{\u001b[39;00m\u001b[38;5;124m'\u001b[39m\u001b[38;5;124mmany\u001b[39m\u001b[38;5;124m'\u001b[39m\u001b[38;5;250m \u001b[39m\u001b[38;5;28;01mif\u001b[39;00m\u001b[38;5;250m \u001b[39malen\u001b[38;5;250m \u001b[39m\u001b[38;5;241m>\u001b[39m\u001b[38;5;250m \u001b[39melen\u001b[38;5;250m \u001b[39m\u001b[38;5;28;01melse\u001b[39;00m\u001b[38;5;250m \u001b[39m\u001b[38;5;124m'\u001b[39m\u001b[38;5;124mfew\u001b[39m\u001b[38;5;124m'\u001b[39m\u001b[38;5;132;01m}\u001b[39;00m\u001b[38;5;124m arguments for \u001b[39m\u001b[38;5;132;01m{\u001b[39;00m\u001b[38;5;28mcls\u001b[39m\u001b[38;5;132;01m}\u001b[39;00m\u001b[38;5;124m;\u001b[39m\u001b[38;5;124m\"\u001b[39m\n\u001b[0;32m    232\u001b[0m                     \u001b[38;5;124mf\u001b[39m\u001b[38;5;124m\"\u001b[39m\u001b[38;5;124m actual \u001b[39m\u001b[38;5;132;01m{\u001b[39;00malen\u001b[38;5;132;01m}\u001b[39;00m\u001b[38;5;124m, expected \u001b[39m\u001b[38;5;132;01m{\u001b[39;00melen\u001b[38;5;132;01m}\u001b[39;00m\u001b[38;5;124m\"\u001b[39m)\n",
      "\u001b[1;31mTypeError\u001b[0m: Too many arguments for typing.List; actual 2, expected 1"
     ]
    }
   ],
   "source": [
    "# Import dependencies\n",
    "import numpy as np\n",
    "import control as ct\n",
    "import matplotlib.pyplot as plt\n",
    "from cs2solutions import duckiebot, Qparam"
   ]
  },
  {
   "cell_type": "markdown",
   "metadata": {},
   "source": [
    "# Exercise 1: Q-Parametrization for CS2-Bot Controller Design\n",
    "Recall the CS2-Bot first used in Problem Set 03, where the advantages of state feedback were demonstrated. In Problem Set 04, we added a state estimator and introduced optimal control for it in Problem Set 05. In this problem set, the task is to parametrize all stabilizing controllers using a Q-parametrization."
   ]
  },
  {
   "cell_type": "markdown",
   "metadata": {},
   "source": [
    "<img src=\"data:image/png;base64,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\" alt=\"Duckie Bot\" width=\"600\"/>"
   ]
  },
  {
   "cell_type": "markdown",
   "metadata": {},
   "source": [
    "## Dynamics\n",
    "\n",
    "The nonlinear dynamics and the output of the CS2-Bot are defined in the next cell."
   ]
  },
  {
   "cell_type": "code",
   "execution_count": null,
   "metadata": {},
   "outputs": [],
   "source": [
    "unicycle_update = duckiebot.unicycle_update\n",
    "unicycle_output = duckiebot.unicycle_output"
   ]
  },
  {
   "cell_type": "markdown",
   "metadata": {},
   "source": [
    "View function definitions by right-clicking and using 'Go to Definition (F12)'. Alternatively, you can view the function definitions on [GitHub](https://github.com/idsc-frazzoli/cs2solutions/blob/59ad007bfeabdaed54f2b620ccb969f37c56104f/src/cs2solutions/duckiebot.py#L13-L24).\n",
    "\n",
    "Various plotting functions are defined here: [GitHub](https://github.com/idsc-frazzoli/cs2solutions/blob/59ad007bfeabdaed54f2b620ccb969f37c56104f/src/cs2solutions/duckiebot.py#L27-L258)"
   ]
  },
  {
   "cell_type": "markdown",
   "metadata": {},
   "source": [
    "## Parameters and Reference Track\n",
    "\n",
    "We set a default CS2-Bot velocity and generate the nonlinear system using the `control` library."
   ]
  },
  {
   "cell_type": "code",
   "execution_count": null,
   "metadata": {},
   "outputs": [],
   "source": [
    "# Default CS2 Bot velocity in m/s\n",
    "bot_params={'velocity': 0.1, 'max_omega': 0.05}\n",
    "# Define the CS2 Bot's steering dynamics as an input/output system\n",
    "bot = ct.NonlinearIOSystem(\n",
    "    duckiebot.unicycle_update, duckiebot.unicycle_output, states=3, name='bot',\n",
    "    inputs=('v', 'w'), outputs=('x', 'y'), params=bot_params)\n",
    "\n",
    "v0 = bot_params['velocity']"
   ]
  },
  {
   "cell_type": "markdown",
   "metadata": {},
   "source": [
    "We define a reference track that we want to follow. If you want to test an easy track, set `curve_difficulty_levels[0]`. For a hard track, set `curve_difficulty_levels[1]`. If you want to create your own track, set `curve_difficulty_levels[2]` and change `w_curvy` after the else line. The reference line is generated by simulating some given control inputs for a certain time. We keep the velocity input `v_curvy` constant and calculate a forced angular velocity `w_curvy`."
   ]
  },
  {
   "cell_type": "code",
   "execution_count": null,
   "metadata": {},
   "outputs": [],
   "source": [
    "# Control inputs\n",
    "curve_difficulty_levels = ['easy', 'hard', 'straignt']\n",
    "curve_difficulty = curve_difficulty_levels[2]\n",
    "T_curvy = np.linspace(0, 25, 500)\n",
    "v_curvy = v0*np.ones(T_curvy.shape)\n",
    "if curve_difficulty=='easy':\n",
    "    w_curvy = 0.025*np.sin(T_curvy*np.pi/50)\n",
    "elif curve_difficulty=='hard':\n",
    "    w_curvy = 0.2*np.sin(T_curvy)*np.cos(4*T_curvy) + 0.025*np.sin(T_curvy*np.pi/10)\n",
    "else:\n",
    "    w_curvy = np.zeros(T_curvy.shape)\n",
    "u_curvy = [v_curvy, w_curvy]\n",
    "X0_curvy = [0, 0, 0]\n",
    "\n",
    "# Simulate the system + estimator\n",
    "t_curvy, y_curvy, x_curvy = ct.input_output_response(\n",
    "    bot, T_curvy, u_curvy, X0_curvy, params=bot_params, return_x=True)\n",
    "\n",
    "duckiebot.plot_track(y_curvy[0], y_curvy[1], x_curvy[2], t_curvy, w_curvy)\n",
    "y_ref = x_curvy[1]\n",
    "r = np.expand_dims(y_ref, axis=0)\n",
    "t = T_curvy"
   ]
  },
  {
   "cell_type": "markdown",
   "metadata": {},
   "source": [
    "## Linearization, Normalization and State Space Represenation\n",
    "\n",
    "In the next cell, we show you how to linearize and normalize the system using the `control` library. As shown in the class, we use $u_1=v_0$ as a constant for simplicity."
   ]
  },
  {
   "cell_type": "code",
   "execution_count": null,
   "metadata": {},
   "outputs": [],
   "source": [
    "# Define the lateral dynamics as a subset of the full CS2 Bot steering dynamics\n",
    "lateral = ct.NonlinearIOSystem(\n",
    "    lambda t, x, u, params: duckiebot.unicycle_update(\n",
    "        t, [0., x[0], x[1]], [params.get('velocity', 1), u[0]], params)[1:],\n",
    "    lambda t, x, u, params: duckiebot.unicycle_output(\n",
    "        t, [0., x[0], x[1]], [params.get('velocity', 1), u[0]], params)[1:],\n",
    "    states=2, name='lateral', inputs=('w'), outputs=('y')\n",
    ")\n",
    "\n",
    "# Compute the linearization at velocity v0 = 0.1 m/sec\n",
    "lateral_linearized = ct.linearize(lateral, [0, 0], [0], params=bot_params)\n",
    "\n",
    "# Save the system matrices for later use\n",
    "A = lateral_linearized.A\n",
    "B = lateral_linearized.B\n",
    "C = lateral_linearized.C\n",
    "D = lateral_linearized.D\n",
    "print(\"A =\", A)\n",
    "print(\"B =\", B)\n",
    "print(\"C =\", C)\n",
    "print(\"D =\", D)"
   ]
  },
  {
   "cell_type": "markdown",
   "metadata": {},
   "source": [
    "## Adding Noise\n",
    "\n",
    "A certain type of noise will be affecting the system. Choose the noise type you would like to test in `index_noise`, where you change the integer number to the noise index you want to test. `index_noise = 0` corresponds to constant noise (i.e., a constant shift of the states), `index_noise = 1` is random uniform noise, `index_noise = 2` is white noise, and `index_noise = 3` is no noise."
   ]
  },
  {
   "cell_type": "code",
   "execution_count": null,
   "metadata": {},
   "outputs": [],
   "source": [
    "noise_type = ['const', 'uniform', 'white_noise', 'no_noise']\n",
    "index_noise = 1\n",
    "noise = noise_type[index_noise]\n",
    "if noise == 'const':\n",
    "    n = np.ones(r.shape)*0.5\n",
    "elif noise=='uniform':\n",
    "    n = np.random.uniform(low=-0.1, high=0.1, size=r.shape)\n",
    "elif noise=='white_noise':\n",
    "    Rw_lat = np.diag([0.001])\n",
    "    n = ct.white_noise(t, Rw_lat)\n",
    "else:\n",
    "    n = np.zeros(r.shape)\n",
    "U = np.concatenate((r, n))"
   ]
  },
  {
   "cell_type": "markdown",
   "metadata": {},
   "source": [
    "## Implementing Q-Parametrization\n",
    "\n",
    "Recall the structure of the Dynamic Output Feedback Compensator (DOFB) from Lecture 05. The following block diagram shows how Q-parametrization is introduced. The signal $v$ is the output, and the signal $h$ is the input to $Q$. In Lecture 05, we observed that the reference $r$ does not affect the innovation $ \\eta = y - \\hat{y} $. This implies that $v$ also has no influence on $h$ and thus the total system is stable if the parameter $Q$ is stable, assuming that the controller and the observer are stable on their own already.\n",
    "\n",
    "In the following tasks, we will introduce the Q-parametrization to the DOFB from Lecture 05."
   ]
  },
  {
   "cell_type": "markdown",
   "metadata": {},
   "source": [
    "<img src=\"data:image/png;base64,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\" alt=\"Duckie Bot\" width=\"600\"/>"
   ]
  },
  {
   "cell_type": "markdown",
   "metadata": {},
   "source": [
    "## Exercise 1.1 \n",
    "Before we can introduce a $Q$-block, we need to find the transfer function of the plant $P$. For this, you can use the already computed system matrices $A$, $B$, $C$, and $D$.\n",
    "Also, we need to set the state-feedback gain $K$ as well as the observer gain $L$.\n",
    "You can use `ct.acker()` to place the poles."
   ]
  },
  {
   "cell_type": "code",
   "execution_count": null,
   "metadata": {},
   "outputs": [],
   "source": [
    "# Setting the poles of the controller and observer\n",
    "poles_controller = [-0.1, -0.1] # Try to change it\n",
    "poles_observer = [-1, -1] # Try to change it\n",
    "\n",
    "\n",
    "def compute_K_L(A, B, C, D, poles_controller, poles_observer):\n",
    "\n",
    "    # Define the transfer function of the Plant P\n",
    "    P = None # TODO\n",
    "\n",
    "    # Compute the controller and observer gains\n",
    "    K = None # TODO\n",
    "    L = None # TODO\n",
    "\n",
    "    return P, K, L"
   ]
  },
  {
   "cell_type": "markdown",
   "metadata": {},
   "source": [
    "Check your implementation below:"
   ]
  },
  {
   "cell_type": "code",
   "execution_count": null,
   "metadata": {},
   "outputs": [],
   "source": [
    "Qparam."
   ]
  },
  {
   "cell_type": "markdown",
   "metadata": {},
   "source": [
    "## Exercise 1.2\n",
    "Next, we will need to define the $Q$-block. As seen in the lecture, $Q$ needs to be stable, proper, and rational.\n",
    "Define the transfer function `Q` and the state-space representation `sys_q`. Print the poles to double-check the stability of $Q$.\n",
    "\n",
    "Start with the transfer function\n",
    "$$ Q = \\frac{s}{s+1}.$$\n",
    "After you have solved all parts of the exercise, you can come back and change the transfer function to see the effect on the stabilizing controller."
   ]
  },
  {
   "cell_type": "code",
   "execution_count": null,
   "metadata": {},
   "outputs": [],
   "source": [
    "def compute_Q_tf_ss_poles():\n",
    "\n",
    "    # Define the transfer function for the parameter Q\n",
    "    Q = None # TODO\n",
    "\n",
    "    # Compute the state-space representation of Q\n",
    "    sys_q = None # TODO\n",
    "\n",
    "    # Compute the poles of Q and print the result\n",
    "    qpoles = None # TODO\n",
    "    \n",
    "    return Q, sys_q, qpoles"
   ]
  },
  {
   "cell_type": "markdown",
   "metadata": {},
   "source": [
    "Solutions 1.2"
   ]
  },
  {
   "cell_type": "code",
   "execution_count": null,
   "metadata": {},
   "outputs": [],
   "source": [
    "def solution_compute_Q_tf_ss_poles():\n",
    "\n",
    "    # Define the transfer function for the parameter Q\n",
    "    Q = ct.TransferFunction([1, 0], [1, 1],name='Q')\n",
    "\n",
    "    # Compute the state-space representation of Q\n",
    "    sys_q = ct.tf2ss(Q)\n",
    "\n",
    "    # Compute the poles of Q and print the result\n",
    "    qpoles = ct.poles(Q)\n",
    "    print(qpoles)\n",
    "    return Q, sys_q, qpoles"
   ]
  },
  {
   "cell_type": "markdown",
   "metadata": {},
   "source": [
    "## Exercise 1.3\n",
    "Now that we have all the components of the system, we can compute the state-space representation of the full closed-loop system.\n",
    "\n",
    "We receive the total state vector of the system by stacking the states of the Plant $P$, the states of the $Q$-Block and the innovation $\\eta$:\n",
    "$$ x_{cl} = \\left [ \\begin{array}{c} x \\\\ x_{Q} \\\\ \\eta \\end{array} \\right]. $$\n",
    "\n",
    "Recall that we can choose the $A$-matrices of the state-feedback subsystem and the observer subsystem with pole placement independently. This also applies to the $Q$-Block. Thus, you can compute the matrices for these subsystems individually before stacking them.\n",
    "\n",
    "Compute the $A$-submatrices of the state-feedback and observer system, $ABK$ and $ALC$ respectively."
   ]
  },
  {
   "cell_type": "code",
   "execution_count": null,
   "metadata": {},
   "outputs": [],
   "source": [
    "def compute_ABK_ALC(A, B, C, K, L):\n",
    "\n",
    "    # Find the A-matrix of the state-feedback subsystem\n",
    "    ABK = None # TODO\n",
    "\n",
    "    # Find the A matrix of the observer subsystem\n",
    "    ALC = None # TODO\n",
    "\n",
    "    return ABK, ALC"
   ]
  },
  {
   "cell_type": "markdown",
   "metadata": {},
   "source": [
    "Solutions 1.3"
   ]
  },
  {
   "cell_type": "code",
   "execution_count": null,
   "metadata": {},
   "outputs": [],
   "source": [
    "def solution_compute_ABK_ALC(A, B, C, K, L):\n",
    "    # Find the A-matrix of the state-feedback subsystem\n",
    "    ABK = A - B @ K\n",
    "\n",
    "    # Find the A matrix of the observer subsystem\n",
    "    ALC = A - L @ C\n",
    "    return ABK, ALC"
   ]
  },
  {
   "cell_type": "markdown",
   "metadata": {},
   "source": [
    "## Exercise 1.4\n",
    "Calculate the total closed-loop system matrices $A_{cl}$, $B_{cl}$, $C_{cl}$, $D_{cl}$. You can do this by concatenating the different terms that appear in the total closed loop system.\n",
    "\n",
    "Hint: You will also need the terms $BC_Q$, $BK$ and $B_QC$."
   ]
  },
  {
   "cell_type": "code",
   "execution_count": null,
   "metadata": {},
   "outputs": [],
   "source": [
    "def compute_total_closed_loop(A, B, C, K, ABK, ALC, sys_q):\n",
    "\n",
    "    # Define the three additional matrices we need\n",
    "    BCQ = None # TODO\n",
    "    BK = None # TODO\n",
    "    BQC = None # TODO\n",
    "\n",
    "    # Find the A matrix of the full closed loop system\n",
    "    Acl = None # TODO\n",
    "\n",
    "    # Find the B matrix of the full closed loop system\n",
    "    Bcl = None # TODO\n",
    "\n",
    "    # Find the C matrix of the full closed loop system\n",
    "    Ccl = None # TODO\n",
    "\n",
    "    # Find the D matrix of the full closed loop system\n",
    "    Dcl = None # TODO\n",
    "\n",
    "    # Define the full closed loop system\n",
    "    syscl = None # TODO\n",
    "\n",
    "    return syscl"
   ]
  },
  {
   "cell_type": "markdown",
   "metadata": {},
   "source": [
    "Solutions 1.4"
   ]
  },
  {
   "cell_type": "code",
   "execution_count": null,
   "metadata": {},
   "outputs": [],
   "source": [
    "def solution_compute_total_closed_loop(A, B, C, K, ABK, ALC, sys_q):\n",
    "\n",
    "    # Define the three additional matrices we need\n",
    "    BCQ = B @ sys_q.C\n",
    "    BK = B @ K\n",
    "    BQC = sys_q.B @ C\n",
    "\n",
    "    # Find the A matrix of the full closed loop system\n",
    "    #Concatenate the evaluated submatrices to find the first row of the total A matrix\n",
    "    Acl_1 = np.concatenate((ABK, BCQ, -BK), axis=1)\n",
    "\n",
    "    # Define the shape of the zeros-matrix at position (2,1)\n",
    "    zeros_21 = np.zeros((sys_q.A.shape[0], ABK.shape[1]))\n",
    "\n",
    "    #Concatenate the evaluated submatrices to find the second row of the total A matrix\n",
    "    Acl_2 = np.concatenate((zeros_21, sys_q.A, BQC), axis=1)\n",
    "\n",
    "    # Define the shape of the zeros-matrix at position (3, 1)\n",
    "    zeros_31 = np.zeros((ABK.shape[0], ABK.shape[1]))\n",
    "\n",
    "    # Define the shape of the zeros-matrix at position (3, 2)\n",
    "    zeros_32 = np.zeros((A.shape[0], sys_q.A.shape[1]))\n",
    "\n",
    "    #Concatenate the evaluated submatrices to find the third row of the total A matrix\n",
    "    Acl_3 = np.concatenate((zeros_31, zeros_32, ALC), axis=1)\n",
    "\n",
    "    # Concatenate the three evaluated rows to find the total A matrix\n",
    "    Acl = np.concatenate((Acl_1, Acl_2, Acl_3), axis=0)\n",
    "\n",
    "\n",
    "\n",
    "    # Find the B matrix of the full closed loop system\n",
    "    # Find the components of the first row of the total B matrix\n",
    "    B_11 = B\n",
    "    B_12 = np.zeros((ABK.shape[0], 1))\n",
    "\n",
    "    # Find the first row of the total B matrix\n",
    "    B_1 = np.concatenate((B_11, B_12), axis=1)\n",
    "\n",
    "    # Find the components of the first row of the total B matrix\n",
    "    B_21 = np.zeros((ABK.shape[0] + sys_q.A.shape[0], 1))\n",
    "    B_22 = np.ones((ABK.shape[0] + sys_q.A.shape[0], 1))\n",
    "\n",
    "    # Find the second row of the total B matrix\n",
    "    B_2 = np.concatenate((B_21, B_22), axis=1)\n",
    "\n",
    "    # Concatenate the three evaluated rows to find the total B matrix\n",
    "    Bcl = np.concatenate((B_1, B_2), axis=0)\n",
    "\n",
    "\n",
    "\n",
    "    # Find the C matrix of the full closed loop system\n",
    "    C_1 = np.zeros((1, Acl.shape[0]))\n",
    "    C_1[0][0] = 1\n",
    "    C_2 = np.concatenate((np.zeros((C.shape)), sys_q.C, np.zeros((C.shape))), axis=1)\n",
    "\n",
    "    # Concatenate the two evaluated rows to find the total C matrix\n",
    "    Ccl = np.concatenate((C_1, C_2), axis=0)\n",
    "\n",
    "\n",
    "\n",
    "    # Find the D matrix of the full closed loop system\n",
    "    Dcl = np.zeros((2, 2))\n",
    "\n",
    "\n",
    "\n",
    "    # Define the full closed loop system\n",
    "    syscl = ct.ss(Acl, Bcl, Ccl, Dcl)\n",
    "\n",
    "   \n",
    "\n",
    "    return syscl\n",
    "\n",
    "# Print the full closed loop system\n",
    "print(syscl)"
   ]
  },
  {
   "cell_type": "markdown",
   "metadata": {},
   "source": [
    "The next code snippet simulates the response of the total system."
   ]
  },
  {
   "cell_type": "code",
   "execution_count": null,
   "metadata": {},
   "outputs": [],
   "source": [
    "x_0 = np.zeros((Acl.shape[0],))\n",
    "x_0[0] = 0.2 #define initial position\n",
    "\n",
    "t, yout, xf = ct.forced_response(syscl, T_curvy, U, X0 = x_0, return_x=True)\n",
    "yf = yout[0]\n",
    "v = yout[1]\n",
    "omegaf = - K @ xf[:2] + y_ref + v\n",
    "omegaf = omegaf[0]"
   ]
  },
  {
   "cell_type": "markdown",
   "metadata": {},
   "source": [
    "Finally, we can visualize the performance of the system. "
   ]
  },
  {
   "cell_type": "code",
   "execution_count": null,
   "metadata": {},
   "outputs": [],
   "source": [
    "x_ref = x_curvy[0]\n",
    "theta_ref = x_curvy[2]\n",
    "omega_ref = w_curvy\n",
    "y = np.array([yf])\n",
    "omega = np.array([omegaf])\n",
    "\n",
    "duckiebot.plot_track_multiple_controller(x_ref, y_ref, theta_ref, t, omega_ref, y, omega, ['Test'])"
   ]
  },
  {
   "cell_type": "markdown",
   "metadata": {},
   "source": [
    "Feel free to go back to the exercises and try different $Q$ transfer-functions, poles and iniatial conidtions. Try and observe the effects these changes have on the system by analyzing the plot."
   ]
  },
  {
   "cell_type": "markdown",
   "metadata": {},
   "source": [
    "# Exercise 2: Modern Control Synthesis\n",
    "\n",
    "In this task, you will learn how you can use the `control` library to set up your plants for synthesizing a controller. To express performance and stability constraints, you will create frequency weights and compute the augmented generalized plant that can be further used with various methods to synthesize a controller."
   ]
  },
  {
   "cell_type": "markdown",
   "metadata": {},
   "source": [
    "## Plant definition\n",
    "\n",
    "The plant used in this task models the linearized behavior of a simple inverted pendulum and is given as\n",
    "$$P(s) = \\frac{1}{s^2+0.1s-9.81}.$$\n",
    "\n",
    "Note that this plant is unstable, and we will need to use a controller.\n",
    "\n",
    "Initially, we define our controller $C(s)$ to do nothing, i.e., \n",
    "$$C(s) = 1.$$"
   ]
  },
  {
   "cell_type": "code",
   "execution_count": null,
   "metadata": {},
   "outputs": [],
   "source": [
    "P_s = ct.TransferFunction([1], [1, 0.1, -9.81], input='u', output='y', name='P(s)')\n",
    "C_s = ct.TransferFunction([1], [1], input='e', output='u', name='C(s)')\n",
    "\n",
    "print(\"Plant transfer function:\")\n",
    "display(P_s)\n",
    "print(\"\\nController transfer function:\")\n",
    "display(C_s)"
   ]
  },
  {
   "cell_type": "markdown",
   "metadata": {},
   "source": [
    "We can easily check stability with `ct.poles` and see that the plant is unstable, having a pole with a positive real part."
   ]
  },
  {
   "cell_type": "code",
   "execution_count": null,
   "metadata": {},
   "outputs": [],
   "source": [
    "ct.poles(P_s)"
   ]
  },
  {
   "cell_type": "markdown",
   "metadata": {},
   "source": [
    "## Frequency Weights\n",
    "\n",
    "<img src=\"data:image/png;base64,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\" alt=\"Block Diagram\" width=\"600\"/>\n",
    "\n",
    "\n",
    "We want to create the two weights $W_1(s)$ and $W_3(s)$ to ensure reference tracking and noise attenuation.\n",
    "\n",
    "Remember how we defined $W_1(s)$ and $W_3(s)$ in the lecture:\n",
    "- $||W_1(s)S(s)|| << 1$ or $\\sigma_{min}[L(s)] >> |W_1(s)|$\n",
    "- $||W_3(s)T(s)|| <<$ 1 or $\\sigma_{max}[L(s)] << \\frac{1}{|W_3(s)|}$\n",
    "\n",
    "Therefore, we want $W_1(s)$ to have very large magnitudes at low frequencies, and $W_3(s)$ to have large magnitudes at high frequencies.\n",
    "\n",
    "Your first task is to implement functions that create our frequency weights with the definition from Lecture 9:\n",
    "$$ W_1(s) = \\frac{M}{Ms/\\omega_1 + 1} \\quad \\text{and} \\quad W_3(s) = \\frac{Ms}{s + M\\omega_3}."
   ]
  },
  {
   "cell_type": "code",
   "execution_count": null,
   "metadata": {},
   "outputs": [],
   "source": [
    "def makeweight_1(M : float, w1 : float) -> ct.TransferFunction:\n",
    "    \"\"\"\n",
    "    Creates a frequency weight transfer function that has:\n",
    "    - magnitude M >> 1 at low frequencies,\n",
    "    - rolls off to zero at high frequencies,\n",
    "    - and has magnitude 1 at the frequency s=j*w1.\n",
    "\n",
    "    Parameters\n",
    "    ----------\n",
    "    - M (float): The desired DC gain of the transfer function.\n",
    "    - w1 (float): The frequency at which the magnitude of the transfer function is 1.\n",
    "\n",
    "    Returns\n",
    "    -------\n",
    "    TransferFunction: The frequency weight transfer function.\n",
    "\n",
    "    \"\"\"\n",
    "    return ct.TransferFunction([1], [1], name='W_1')\n",
    "\n",
    "\n",
    "def makeweight_3(M: float, w3 : float) -> ct.TransferFunction:\n",
    "    \"\"\"\n",
    "    Creates a frequency weight transfer function that has:\n",
    "    - zero DC gain,\n",
    "    - approaches M >> 1 at high frequencies,\n",
    "    - and has magnitude 1 at the frequency s=j*w3.\n",
    "\n",
    "    Parameters\n",
    "    ----------\n",
    "    - M (float): The magnitude of the frequency weighting\n",
    "    - w3: The frequency at which the weighting starts to take effect\n",
    "\n",
    "    Returns\n",
    "    -------\n",
    "    - tf: The transfer function representing the frequency-weighted system\n",
    "    \"\"\"\n",
    "\n",
    "    return ct.TransferFunction([1], [1], name='W_3')"
   ]
  },
  {
   "cell_type": "markdown",
   "metadata": {},
   "source": [
    "Solutions"
   ]
  },
  {
   "cell_type": "code",
   "execution_count": null,
   "metadata": {},
   "outputs": [],
   "source": [
    "# Solutions\n",
    "def solution_makeweight_1(M : float, w1 : float) -> ct.TransferFunction:\n",
    "    \"\"\"\n",
    "    Creates a frequency weight transfer function that has:\n",
    "    - magnitude M >> 1 at low frequencies,\n",
    "    - rolls off to zero at high frequencies,\n",
    "    - and has magnitude 1 at the frequency s=j*w1.\n",
    "\n",
    "    Parameters\n",
    "    ----------\n",
    "    - M (float): The desired DC gain of the transfer function.\n",
    "    - w1 (float): The frequency at which the magnitude of the transfer function is 1.\n",
    "\n",
    "    Returns\n",
    "    -------\n",
    "    TransferFunction: The frequency weight transfer function.\n",
    "\n",
    "    \"\"\"\n",
    "    return ct.TransferFunction([M], [M/w1, 1], name='W_1')\n",
    "\n",
    "\n",
    "def solution_makeweight_3(M: float, w3 : float) -> ct.TransferFunction:\n",
    "    \"\"\"\n",
    "    Creates a frequency weight transfer function that has:\n",
    "    - zero DC gain,\n",
    "    - approaches M >> 1 at high frequencies,\n",
    "    - and has magnitude 1 at the frequency s=j*w3.\n",
    "\n",
    "    Parameters\n",
    "    ----------\n",
    "    - M (float): The magnitude of the frequency weighting\n",
    "    - w3: The frequency at which the weighting starts to take effect\n",
    "\n",
    "    Returns\n",
    "    -------\n",
    "    - tf: The transfer function representing the frequency-weighted system\n",
    "    \"\"\"\n",
    "\n",
    "    return ct.TransferFunction([M, 0], [1, M*w3], name='W_3')"
   ]
  },
  {
   "cell_type": "markdown",
   "metadata": {},
   "source": [
    "Now define the two weights such that:\n",
    "\n",
    "- $W_1(s)$ has a magnitude of 100 at low frequencies, rolls off to zero at high frequencies, and has a magnitude of 1 at a frequency of $\\omega_1 = 0.1 \\text{rad/s}$,\n",
    "- $W_3(s)$ approaches a magnitude of 100 at high frequencies, has a magnitude of 1 at a frequency of  $\\omega_3 = 10\\text{rad/s}$, and has a zero DC gain."
   ]
  },
  {
   "cell_type": "code",
   "execution_count": null,
   "metadata": {},
   "outputs": [],
   "source": [
    "W_1 = solution_makeweight_1(1, 1)\n",
    "W_3 = solution_makeweight_3(1, 1)\n",
    "\n",
    "\n",
    "# Solutions\n",
    "solution_W_1 = solution_makeweight_1(100, 0.1)\n",
    "solution_W_3 = solution_makeweight_3(100, 10)\n",
    "\n",
    "# Test\n",
    "assert W_1 == solution_W_1, \"W_1 is incorrect\"\n",
    "assert W_3 == solution_W_3, \"W_3 is incorrect\""
   ]
  },
  {
   "cell_type": "markdown",
   "metadata": {},
   "source": [
    "## Visualization of Frequency weights\n",
    "\n",
    "Now, let us look at the singular value plots of these frequency weights and compare them to the open-loop transfer function $L(s)$. Since we want \n",
    "$\\sigma_{min}[L(s)] >> |W_1(s)|$\n",
    "and\n",
    "$\\sigma_{max}[L(s)] << \\frac{1}{|W_3(s)|},$\n",
    "we will invert $W_3(s)$\n"
   ]
  },
  {
   "cell_type": "code",
   "execution_count": null,
   "metadata": {},
   "outputs": [],
   "source": [
    "L_s = P_s * C_s\n",
    "L_s.name = 'L(s)'\n",
    "\n",
    "W_3_inverted = 1 / W_3\n",
    "W_3_inverted.name = '1/W_3'\n",
    "\n",
    "_ = ct.singular_values_plot([L_s, W_1, W_3_inverted])"
   ]
  },
  {
   "cell_type": "markdown",
   "metadata": {},
   "source": [
    "## Assembly of the generalized plant\n",
    "\n",
    "We want the open-loop transfer function $L(s)$ to lie between the upper and lower bounds given by $W_1(s)$ and $W_3(s)$ respectively. Note that we are dealing with a SISO system and therefore get only one singular value, implying $\\sigma_{min}[L(s)] = \\sigma_{max}[L(s)]$.\n",
    "\n",
    "This loop shaping problem boils down to finding a controller $C(s)$ that places $L(s)$ between our bounds $W_1(s)$ and $W_3(s)$. We want to find the generalized plant\n",
    "$$ G(s) = \\begin{bmatrix} G_{zw}(s) & G_{zu}(s) \\\\ G_{yw}(s) & G_{yu}(s) \\end{bmatrix},$$\n",
    "\n",
    "which we can then use in an optimization problem to synthesize our controller $C(s)$.\n",
    "\n",
    "One could derive each transfer function by hand and would find that\n",
    "$$ G(s) = \\begin{bmatrix} W_1(s) & -W_1(s)P(s) \\\\ 0 & W_3(s)P(s) \\end{bmatrix},$$\n",
    "\n",
    "or we can use the function `ct.augw(g, w1, w2, w3)` from the `control` library. \\\n",
    "**Caution:** due to a different nomenclature, `g` corresponds to the plant $P(s)$ and **NOT** the generalized plant $G(s)$!"
   ]
  },
  {
   "cell_type": "code",
   "execution_count": null,
   "metadata": {},
   "outputs": [],
   "source": [
    "G_s = ct.augw(P_s, w1=W_1, w2=None, w3=W_3)\n",
    "\n",
    "display(G_s)"
   ]
  },
  {
   "cell_type": "markdown",
   "metadata": {},
   "source": [
    "Now we can use, for example, $H_2$ optimal control to synthesize our controller."
   ]
  }
 ],
 "metadata": {
  "kernelspec": {
   "display_name": "CS2",
   "language": "python",
   "name": "python3"
  },
  "language_info": {
   "codemirror_mode": {
    "name": "ipython",
    "version": 3
   },
   "file_extension": ".py",
   "mimetype": "text/x-python",
   "name": "python",
   "nbconvert_exporter": "python",
   "pygments_lexer": "ipython3",
   "version": "3.10.11"
  }
 },
 "nbformat": 4,
 "nbformat_minor": 2
}
