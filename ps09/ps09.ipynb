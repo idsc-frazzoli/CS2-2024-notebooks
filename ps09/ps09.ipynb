{
 "cells": [
  {
   "cell_type": "markdown",
   "metadata": {},
   "source": [
    "# CSII 2024 # Exerercise 09: Seperation Principle, LQG, Stability Margins\n",
    "&copy; 2024 ETH Zurich, Timm Grigat, Suno Dieckmann, Dejan Milojevic; Institute for Dynamic Systems and Control; Prof. Emilio Frazzoli\n",
    "\n",
    "\n",
    "## Description\n",
    "TODO: Description of the notebook.\n",
    "\n",
    "To start, run the following cells to install the necessary modules and import the libraries."
   ]
  },
  {
   "cell_type": "code",
   "execution_count": 1,
   "metadata": {},
   "outputs": [
    {
     "name": "stdout",
     "output_type": "stream",
     "text": [
      "\u001b[33mWARNING: Ignoring invalid distribution -cipy (/Library/Frameworks/Python.framework/Versions/3.10/lib/python3.10/site-packages)\u001b[0m\u001b[33m\n",
      "\u001b[0mRequirement already satisfied: cs2solutions in /Library/Frameworks/Python.framework/Versions/3.10/lib/python3.10/site-packages (0.5.0)\n",
      "Requirement already satisfied: control in /Library/Frameworks/Python.framework/Versions/3.10/lib/python3.10/site-packages (from cs2solutions) (0.10.0)\n",
      "Requirement already satisfied: matplotlib in /Library/Frameworks/Python.framework/Versions/3.10/lib/python3.10/site-packages (from cs2solutions) (3.8.3)\n",
      "Requirement already satisfied: numpy in /Library/Frameworks/Python.framework/Versions/3.10/lib/python3.10/site-packages (from cs2solutions) (1.26.4)\n",
      "Requirement already satisfied: scipy in /Library/Frameworks/Python.framework/Versions/3.10/lib/python3.10/site-packages (from cs2solutions) (1.13.0)\n",
      "Requirement already satisfied: contourpy>=1.0.1 in /Library/Frameworks/Python.framework/Versions/3.10/lib/python3.10/site-packages (from matplotlib->cs2solutions) (1.2.1)\n",
      "Requirement already satisfied: cycler>=0.10 in /Library/Frameworks/Python.framework/Versions/3.10/lib/python3.10/site-packages (from matplotlib->cs2solutions) (0.12.1)\n",
      "Requirement already satisfied: fonttools>=4.22.0 in /Library/Frameworks/Python.framework/Versions/3.10/lib/python3.10/site-packages (from matplotlib->cs2solutions) (4.50.0)\n",
      "Requirement already satisfied: kiwisolver>=1.3.1 in /Library/Frameworks/Python.framework/Versions/3.10/lib/python3.10/site-packages (from matplotlib->cs2solutions) (1.4.5)\n",
      "Requirement already satisfied: packaging>=20.0 in /Library/Frameworks/Python.framework/Versions/3.10/lib/python3.10/site-packages (from matplotlib->cs2solutions) (24.0)\n",
      "Requirement already satisfied: pillow>=8 in /Library/Frameworks/Python.framework/Versions/3.10/lib/python3.10/site-packages (from matplotlib->cs2solutions) (10.3.0)\n",
      "Requirement already satisfied: pyparsing>=2.3.1 in /Library/Frameworks/Python.framework/Versions/3.10/lib/python3.10/site-packages (from matplotlib->cs2solutions) (3.1.2)\n",
      "Requirement already satisfied: python-dateutil>=2.7 in /Library/Frameworks/Python.framework/Versions/3.10/lib/python3.10/site-packages (from matplotlib->cs2solutions) (2.9.0.post0)\n",
      "Requirement already satisfied: six>=1.5 in /Library/Frameworks/Python.framework/Versions/3.10/lib/python3.10/site-packages (from python-dateutil>=2.7->matplotlib->cs2solutions) (1.16.0)\n",
      "\u001b[33mWARNING: Ignoring invalid distribution -cipy (/Library/Frameworks/Python.framework/Versions/3.10/lib/python3.10/site-packages)\u001b[0m\u001b[33m\n",
      "\u001b[0mNote: you may need to restart the kernel to use updated packages.\n",
      "\u001b[33mWARNING: Ignoring invalid distribution -cipy (/Library/Frameworks/Python.framework/Versions/3.10/lib/python3.10/site-packages)\u001b[0m\u001b[33m\n",
      "\u001b[0mCollecting git+https://github.com/mkrphys/ipython-tikzmagic.git\n",
      "  Cloning https://github.com/mkrphys/ipython-tikzmagic.git to /private/var/folders/m8/4s16jlw13wj7flc20jyzpbn40000gn/T/pip-req-build-ht_fr76l\n",
      "  Running command git clone --filter=blob:none --quiet https://github.com/mkrphys/ipython-tikzmagic.git /private/var/folders/m8/4s16jlw13wj7flc20jyzpbn40000gn/T/pip-req-build-ht_fr76l\n",
      "  Resolved https://github.com/mkrphys/ipython-tikzmagic.git to commit f9357cc86ea5848947f3d189ee736031bb64890d\n",
      "  Preparing metadata (setup.py) ... \u001b[?25ldone\n",
      "\u001b[?25hRequirement already satisfied: ipython in /Users/tgrigat/Library/Python/3.10/lib/python/site-packages (from ipython-tikzmagic==0.1.1) (8.18.1)\n",
      "Requirement already satisfied: decorator in /Users/tgrigat/Library/Python/3.10/lib/python/site-packages (from ipython->ipython-tikzmagic==0.1.1) (5.1.1)\n",
      "Requirement already satisfied: jedi>=0.16 in /Users/tgrigat/Library/Python/3.10/lib/python/site-packages (from ipython->ipython-tikzmagic==0.1.1) (0.19.1)\n",
      "Requirement already satisfied: matplotlib-inline in /Users/tgrigat/Library/Python/3.10/lib/python/site-packages (from ipython->ipython-tikzmagic==0.1.1) (0.1.6)\n",
      "Requirement already satisfied: prompt-toolkit<3.1.0,>=3.0.41 in /Users/tgrigat/Library/Python/3.10/lib/python/site-packages (from ipython->ipython-tikzmagic==0.1.1) (3.0.41)\n",
      "Requirement already satisfied: pygments>=2.4.0 in /Users/tgrigat/Library/Python/3.10/lib/python/site-packages (from ipython->ipython-tikzmagic==0.1.1) (2.17.2)\n",
      "Requirement already satisfied: stack-data in /Users/tgrigat/Library/Python/3.10/lib/python/site-packages (from ipython->ipython-tikzmagic==0.1.1) (0.6.3)\n",
      "Requirement already satisfied: traitlets>=5 in /Users/tgrigat/Library/Python/3.10/lib/python/site-packages (from ipython->ipython-tikzmagic==0.1.1) (5.14.0)\n",
      "Requirement already satisfied: exceptiongroup in /Users/tgrigat/Library/Python/3.10/lib/python/site-packages (from ipython->ipython-tikzmagic==0.1.1) (1.2.0)\n",
      "Requirement already satisfied: pexpect>4.3 in /Users/tgrigat/Library/Python/3.10/lib/python/site-packages (from ipython->ipython-tikzmagic==0.1.1) (4.9.0)\n",
      "Requirement already satisfied: parso<0.9.0,>=0.8.3 in /Users/tgrigat/Library/Python/3.10/lib/python/site-packages (from jedi>=0.16->ipython->ipython-tikzmagic==0.1.1) (0.8.3)\n",
      "Requirement already satisfied: ptyprocess>=0.5 in /Users/tgrigat/Library/Python/3.10/lib/python/site-packages (from pexpect>4.3->ipython->ipython-tikzmagic==0.1.1) (0.7.0)\n",
      "Requirement already satisfied: wcwidth in /Users/tgrigat/Library/Python/3.10/lib/python/site-packages (from prompt-toolkit<3.1.0,>=3.0.41->ipython->ipython-tikzmagic==0.1.1) (0.2.12)\n",
      "Requirement already satisfied: executing>=1.2.0 in /Users/tgrigat/Library/Python/3.10/lib/python/site-packages (from stack-data->ipython->ipython-tikzmagic==0.1.1) (2.0.1)\n",
      "Requirement already satisfied: asttokens>=2.1.0 in /Users/tgrigat/Library/Python/3.10/lib/python/site-packages (from stack-data->ipython->ipython-tikzmagic==0.1.1) (2.4.1)\n",
      "Requirement already satisfied: pure-eval in /Users/tgrigat/Library/Python/3.10/lib/python/site-packages (from stack-data->ipython->ipython-tikzmagic==0.1.1) (0.2.2)\n",
      "Requirement already satisfied: six>=1.12.0 in /Library/Frameworks/Python.framework/Versions/3.10/lib/python3.10/site-packages (from asttokens>=2.1.0->stack-data->ipython->ipython-tikzmagic==0.1.1) (1.16.0)\n",
      "\u001b[33mWARNING: Ignoring invalid distribution -cipy (/Library/Frameworks/Python.framework/Versions/3.10/lib/python3.10/site-packages)\u001b[0m\u001b[33m\n",
      "\u001b[0mNote: you may need to restart the kernel to use updated packages.\n"
     ]
    }
   ],
   "source": [
    "%pip install cs2solutions #--force-reinstall\n",
    "%pip install git+https://github.com/mkrphys/ipython-tikzmagic.git\n",
    "%load_ext tikzmagic\n",
    "\n",
    "notebookname = \"ps09.ipynb\""
   ]
  },
  {
   "cell_type": "code",
   "execution_count": 4,
   "metadata": {},
   "outputs": [],
   "source": [
    "import os\n",
    "import sys\n",
    "import control as ct\n",
    "import numpy as np\n",
    "\n",
    "sys.path.append(os.path.join(os.getcwd().strip(notebookname), 'utils/'))\n",
    "\n",
    "from library_tools import library_tf_SISO\n",
    "\n",
    "np.set_printoptions(suppress=True, precision=3)"
   ]
  },
  {
   "cell_type": "markdown",
   "metadata": {},
   "source": [
    "### $H^\\infty$ norm\n",
    "\n",
    "In this box we will define the $H^\\infty$ norm that we will use to check\n",
    "the stability of our systems. What the  $H^\\infty$ norm essentially does is, \n",
    "that it looks for the highest singlular value across all frequencies.\n",
    "Below you can find the definition of the  $H^\\infty$ norm. Feel free to have a \n",
    "look."
   ]
  },
  {
   "cell_type": "code",
   "execution_count": 5,
   "metadata": {},
   "outputs": [],
   "source": [
    "def hinf_norm(system: ct.TransferFunction) -> int:\n",
    "    \"\"\"Calculate the h_inf_norm of a given systems transfer function.\"\"\"\n",
    "    # Calculate frequency response over a wide range of frequencies\n",
    "    omega = np.linspace(-4, 4, 1000)\n",
    "    H = system(omega * 1j)\n",
    "    # Calculate all the singular values after checking for MIMO\n",
    "    if system.ninputs > 1 or system.noutputs > 1:\n",
    "        singular_values = [np.linalg.svd(H[..., i], compute_uv=False)\n",
    "                        for i in range(len(omega))]\n",
    "    else:\n",
    "        singular_values = [np.absolute(H[... , i]) for i in range(len(omega))]\n",
    "    # Return the highest singular value\n",
    "    return np.vstack(singular_values).max()"
   ]
  },
  {
   "cell_type": "markdown",
   "metadata": {},
   "source": [
    "# Exercise 1: Small gain Theorem\n",
    "\n",
    "Consider the following System with three plants(P0, P1, P2)\n",
    "Write a function to check if the system is stable using the small gain theorem.\n",
    "You have the following functions at hand:\n",
    "- __np.hinf_norm(transfer_function)__ which calculates the h infinity norm from a given lti system e.g. _np.hinf_norm([1],[1,1]) = __\n",
    "- __get_transfer_function(system)__ which gives you the transfer function of the subsystems e.g. get_transfer_function(0) for P0.\n",
    "\n",
    "Write a function that returns a boolean depending on the stability of the system.\n",
    "\n",
    "\n"
   ]
  },
  {
   "cell_type": "code",
   "execution_count": 7,
   "metadata": {},
   "outputs": [],
   "source": [
    "def small_gain_theorem(P0: int, P1: int, P2: int) -> bool:\n",
    "    \"\"\"Checks if the system is stable depending on the given subsystems.\"\"\"\n",
    "    is_stable = False\n",
    "    # TODO: Write a function to check for the stability of the system.\n",
    "    \n",
    "    return is_stable\n",
    "\n"
   ]
  },
  {
   "cell_type": "markdown",
   "metadata": {},
   "source": [
    "# Exercise 2: Stability\n",
    "Think of a cool exercise."
   ]
  },
  {
   "cell_type": "code",
   "execution_count": null,
   "metadata": {},
   "outputs": [],
   "source": [
    "def stability_check() -> bool:\n",
    "    is_stable = True\n",
    "    \n",
    "    #TODO: Write a function that checks the internal and external stability of the system.\n",
    "\n",
    "    return is_stable"
   ]
  },
  {
   "cell_type": "markdown",
   "metadata": {},
   "source": [
    "# Exercise 3: Performance Robustness\n",
    "Think of a cool exercise."
   ]
  },
  {
   "cell_type": "code",
   "execution_count": null,
   "metadata": {},
   "outputs": [],
   "source": []
  },
  {
   "cell_type": "code",
   "execution_count": null,
   "metadata": {},
   "outputs": [],
   "source": []
  }
 ],
 "metadata": {
  "kernelspec": {
   "display_name": "Python 3",
   "language": "python",
   "name": "python3"
  },
  "language_info": {
   "codemirror_mode": {
    "name": "ipython",
    "version": 3
   },
   "file_extension": ".py",
   "mimetype": "text/x-python",
   "name": "python",
   "nbconvert_exporter": "python",
   "pygments_lexer": "ipython3",
   "version": "3.10.7"
  }
 },
 "nbformat": 4,
 "nbformat_minor": 2
}
