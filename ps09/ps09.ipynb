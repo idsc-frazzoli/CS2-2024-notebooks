{
 "cells": [
  {
   "cell_type": "markdown",
   "metadata": {},
   "source": [
    "# CSII 2024 # Exerercise 09: Seperation Principle, LQG, Stability Margins\n",
    "&copy; 2024 ETH Zurich, Timm Grigat, Suno Dieckmann, Dejan Milojevic; Institute for Dynamic Systems and Control; Prof. Emilio Frazzoli\n",
    "\n",
    "\n",
    "## Description\n",
    "TODO: Description of the notebook.\n",
    "\n",
    "To start, run the following cell to install the necessary modules and import the libraries."
   ]
  },
  {
   "cell_type": "code",
   "execution_count": 2,
   "metadata": {},
   "outputs": [
    {
     "name": "stdout",
     "output_type": "stream",
     "text": [
      "/Users/tgrigat/Documents/ETH/TA/CS2 TA/CS2-2024-notebooks/utils/\n",
      "/Users/tgrigat/Documents/ETH/TA/CS2 TA/CS2-2024-notebooks/utils/\n"
     ]
    },
    {
     "ename": "TypeError",
     "evalue": "'>' not supported between instances of 'str' and 'int'",
     "output_type": "error",
     "traceback": [
      "\u001b[0;31m---------------------------------------------------------------------------\u001b[0m",
      "\u001b[0;31mTypeError\u001b[0m                                 Traceback (most recent call last)",
      "Cell \u001b[0;32mIn[2], line 14\u001b[0m\n\u001b[1;32m     11\u001b[0m \u001b[38;5;28;01mfrom\u001b[39;00m \u001b[38;5;21;01mlibrary_tools\u001b[39;00m \u001b[38;5;28;01mimport\u001b[39;00m library_tf_SISO\n\u001b[1;32m     13\u001b[0m np\u001b[38;5;241m.\u001b[39mset_printoptions(suppress\u001b[38;5;241m=\u001b[39m\u001b[38;5;28;01mTrue\u001b[39;00m, precision\u001b[38;5;241m=\u001b[39m\u001b[38;5;241m3\u001b[39m)\n\u001b[0;32m---> 14\u001b[0m \u001b[43mlibrary_tf_SISO\u001b[49m\u001b[43m(\u001b[49m\u001b[38;5;124;43m\"\u001b[39;49m\u001b[38;5;124;43mbug\u001b[39;49m\u001b[38;5;124;43m\"\u001b[39;49m\u001b[43m)\u001b[49m\n",
      "File \u001b[0;32m~/Documents/ETH/TA/CS2 TA/CS2-2024-notebooks/utils/library_tools.py:25\u001b[0m, in \u001b[0;36mlibrary_tf_SISO\u001b[0;34m(system)\u001b[0m\n\u001b[1;32m     23\u001b[0m \u001b[38;5;28;01mtry\u001b[39;00m:\n\u001b[1;32m     24\u001b[0m     systems \u001b[38;5;241m=\u001b[39m yaml\u001b[38;5;241m.\u001b[39msafe_load(f)[\u001b[38;5;124m\"\u001b[39m\u001b[38;5;124mNum/Den SISO\u001b[39m\u001b[38;5;124m\"\u001b[39m]\n\u001b[0;32m---> 25\u001b[0m     \u001b[38;5;28;01mif\u001b[39;00m \u001b[43msystem\u001b[49m\u001b[43m \u001b[49m\u001b[38;5;241;43m>\u001b[39;49m\u001b[43m \u001b[49m\u001b[38;5;28;43mlen\u001b[39;49m\u001b[43m(\u001b[49m\u001b[43msystems\u001b[49m\u001b[43m)\u001b[49m:\n\u001b[1;32m     26\u001b[0m         \u001b[38;5;28;01mraise\u001b[39;00m \u001b[38;5;167;01mValueError\u001b[39;00m(\u001b[38;5;124mf\u001b[39m\u001b[38;5;124m\"\u001b[39m\u001b[38;5;124mSystem \u001b[39m\u001b[38;5;132;01m{\u001b[39;00msystem\u001b[38;5;132;01m}\u001b[39;00m\u001b[38;5;124m not found in systems.yaml\u001b[39m\u001b[38;5;124m\"\u001b[39m)\n\u001b[1;32m     27\u001b[0m     tf \u001b[38;5;241m=\u001b[39m ct\u001b[38;5;241m.\u001b[39mTransferFunction(systems[system][\u001b[38;5;124m\"\u001b[39m\u001b[38;5;124mnum\u001b[39m\u001b[38;5;124m\"\u001b[39m], systems[system][\u001b[38;5;124m\"\u001b[39m\u001b[38;5;124mden\u001b[39m\u001b[38;5;124m\"\u001b[39m])\n",
      "\u001b[0;31mTypeError\u001b[0m: '>' not supported between instances of 'str' and 'int'"
     ]
    }
   ],
   "source": [
    "# %pip install cs2solutions --force-reinstall\n",
    "import os\n",
    "import sys\n",
    "\n",
    "import control as ct\n",
    "import numpy as np\n",
    "\n",
    "sys.path.append(os.path.join(os.getcwd().strip(\"ps09\"), 'utils/'))\n",
    "\n",
    "from library_tools import library_tf_SISO\n",
    "\n",
    "np.set_printoptions(suppress=True, precision=3)"
   ]
  },
  {
   "cell_type": "markdown",
   "metadata": {},
   "source": [
    "### $H^\\infty$ norm\n",
    "\n",
    "In this box we will define the $H^\\infty$ norm that we will use to check\n",
    "the stability of our systems. What the  $H^\\infty$ norm essentially does is, \n",
    "that it looks for the highest singlular value across all frequencies.\n",
    "Below you can find the definition of the  $H^\\infty$ norm. Feel free to have a \n",
    "look."
   ]
  },
  {
   "cell_type": "code",
   "execution_count": null,
   "metadata": {},
   "outputs": [
    {
     "ename": "NameError",
     "evalue": "name 'ct' is not defined",
     "output_type": "error",
     "traceback": [
      "\u001b[0;31m---------------------------------------------------------------------------\u001b[0m",
      "\u001b[0;31mNameError\u001b[0m                                 Traceback (most recent call last)",
      "Cell \u001b[0;32mIn[1], line 1\u001b[0m\n\u001b[0;32m----> 1\u001b[0m \u001b[38;5;28;01mdef\u001b[39;00m \u001b[38;5;21mhinf_norm\u001b[39m(system: \u001b[43mct\u001b[49m\u001b[38;5;241m.\u001b[39mTransferFunction) \u001b[38;5;241m-\u001b[39m\u001b[38;5;241m>\u001b[39m \u001b[38;5;28mint\u001b[39m:\n\u001b[1;32m      2\u001b[0m \u001b[38;5;250m    \u001b[39m\u001b[38;5;124;03m\"\"\"Calculate the h_inf_norm of a given systems transfer function.\"\"\"\u001b[39;00m\n\u001b[1;32m      3\u001b[0m     \u001b[38;5;66;03m# Calculate frequency response over a wide range of frequencies\u001b[39;00m\n",
      "\u001b[0;31mNameError\u001b[0m: name 'ct' is not defined"
     ]
    }
   ],
   "source": [
    "def hinf_norm(system: ct.TransferFunction) -> int:\n",
    "    \"\"\"Calculate the h_inf_norm of a given systems transfer function.\"\"\"\n",
    "    # Calculate frequency response over a wide range of frequencies\n",
    "    omega = np.linspace(-4, 4, 1000)\n",
    "    H = system(omega * 1j)\n",
    "    # Calculate all the singular values after checking for MIMO\n",
    "    if system.ninputs > 1 or system.noutputs > 1:\n",
    "        singular_values = [np.linalg.svd(H[..., i], compute_uv=False)\n",
    "                        for i in range(len(omega))]\n",
    "    else:\n",
    "        singular_values = [np.absolute(H[... , i]) for i in range(len(omega))]\n",
    "    # Return the highest singular value\n",
    "    return np.vstack(singular_values).max()"
   ]
  },
  {
   "cell_type": "markdown",
   "metadata": {},
   "source": [
    "# Exercise 1: Small gain Theorem\n",
    "\n",
    "Consider the following System with three plants(P0, P1, P2)\n",
    "Write a function to check if the system is stable using the small gain theorem.\n",
    "You have the following functions at hand:\n",
    "- __np.hinf_norm(transfer_function)__ which calculates the h infinity norm from a given lti system e.g. _np.hinf_norm([1],[1,1]) = __\n",
    "- __get_transfer_function(system)__ which gives you the transfer function of the subsystems e.g. get_transfer_function(0) for P0.\n",
    "\n",
    "Write a function that returns a boolean depending on the stability of the system.\n"
   ]
  },
  {
   "cell_type": "code",
   "execution_count": null,
   "metadata": {},
   "outputs": [],
   "source": [
    "def small_gain_theorem(P0: int, P1: int, P2: int) -> bool:\n",
    "    \"\"\"Checks if the system is stable depending on the given subsystems.\"\"\"\n",
    "    is_stable = False\n",
    "    # TODO: Write a function to check for the stability of the system.\n",
    "    \n",
    "    return is_stable\n",
    "\n"
   ]
  },
  {
   "cell_type": "markdown",
   "metadata": {},
   "source": [
    "# Exercise 2: Stability\n",
    "Think of a cool exercise."
   ]
  },
  {
   "cell_type": "code",
   "execution_count": null,
   "metadata": {},
   "outputs": [],
   "source": [
    "def stability_check() -> bool:\n",
    "    is_stable = True\n",
    "    \n",
    "    #TODO: Write a function that checks the internal and external stability of the system.\n",
    "\n",
    "    return is_stable"
   ]
  },
  {
   "cell_type": "markdown",
   "metadata": {},
   "source": [
    "# Exercise 3: Performance Robustness\n",
    "Think of a cool exercise."
   ]
  },
  {
   "cell_type": "code",
   "execution_count": null,
   "metadata": {},
   "outputs": [],
   "source": []
  },
  {
   "cell_type": "code",
   "execution_count": null,
   "metadata": {},
   "outputs": [],
   "source": []
  }
 ],
 "metadata": {
  "kernelspec": {
   "display_name": "Python 3",
   "language": "python",
   "name": "python3"
  },
  "language_info": {
   "codemirror_mode": {
    "name": "ipython",
    "version": 3
   },
   "file_extension": ".py",
   "mimetype": "text/x-python",
   "name": "python",
   "nbconvert_exporter": "python",
   "pygments_lexer": "ipython3",
   "version": "3.10.7"
  }
 },
 "nbformat": 4,
 "nbformat_minor": 2
}
