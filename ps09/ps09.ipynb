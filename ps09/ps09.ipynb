{
 "cells": [
  {
   "cell_type": "markdown",
   "metadata": {},
   "source": [
    "# CSII 2024 # Exerercise 09: Seperation Principle, LQG, Stability Margins\n",
    "&copy; 2024 ETH Zurich, Timm Grigat, Suno Dieckmann, Dejan Milojevic; Institute for Dynamic Systems and Control; Prof. Emilio Frazzoli\n",
    "\n",
    "\n",
    "## Description\n",
    "TODO: Description of the notebook.\n",
    "\n",
    "To start, run the following cell to install the necessary modules and import the libraries."
   ]
  },
  {
   "cell_type": "code",
   "execution_count": null,
   "metadata": {},
   "outputs": [],
   "source": [
    "%pip install cs2solutions --force-reinstall\n",
    "\n",
    "\n",
    "import numpy as np\n",
    "import control as ct\n",
    "\n",
    "np.set_printoptions(suppress=True, precision=3)"
   ]
  },
  {
   "cell_type": "code",
   "execution_count": 67,
   "metadata": {},
   "outputs": [
    {
     "name": "stdout",
     "output_type": "stream",
     "text": [
      "System 2\n"
     ]
    }
   ],
   "source": [
    "import yaml\n",
    "from pathlib import Path\n",
    "from typing import Generator\n",
    "\n",
    "systems_file = Path(__file__).parent / \"systems.yaml\"\n",
    "\n",
    "\n",
    "def get_system(system: int) -> Generator[ct.TransferFunction, str, str]:\n",
    "    \"\"\"Returns the a tuple containing of the transfer function,\n",
    "    name and type of the system.\"\"\"\n",
    "    with open(systems_file, \"r\") as f:\n",
    "        try:\n",
    "            systems = yaml.safe_load(f)\n",
    "            if system > len(systems):\n",
    "                raise ValueError(f\"System {system} not found in systems.yaml\")\n",
    "            tf = ct.TransferFunction(systems[system][\"num\"], systems[system][\"den\"])\n",
    "            return tf, systems[system][\"name\"], systems[system][\"type\"]\n",
    "\n",
    "        except yaml.YAMLError as exc:\n",
    "            raise Exception(exc)"
   ]
  },
  {
   "cell_type": "code",
   "execution_count": null,
   "metadata": {},
   "outputs": [],
   "source": [
    "def hinf_norm(system: ct.TransferFunction) -> int:\n",
    "    \"\"\"Calculate the h_inf_norm of a given system.\"\"\"\n",
    "\n",
    "    # Calculate frequency response over a wide range of frequencies\n",
    "    omega = np.logspace(-4, 2, 1001)\n",
    "    H = system(omega * 1j)\n",
    "    \n",
    "\n",
    "    # Calculate all the singular values\n",
    "    singular_values = [np.linalg.svd(H[..., i], compute_uv=False)\n",
    "                    for i in range(len(omega))]\n",
    "    # Return the highest\n",
    "    return np.vstack(singular_values).max()"
   ]
  },
  {
   "cell_type": "code",
   "execution_count": null,
   "metadata": {},
   "outputs": [],
   "source": [
    "def hinf_norm(system: ct.TransferFunction) -> float:\n",
    "    \"\"\"Calculate the H-infinity norm of a given system.\"\"\"\n",
    "    return 0.9"
   ]
  },
  {
   "cell_type": "markdown",
   "metadata": {},
   "source": [
    "# Exercise 1: Small gain Theorem\n",
    "\n",
    "Consider the following System with three plants(P0, P1, P2)\n",
    "Write a function to check if the system is stable using the small gain theorem.\n",
    "You have the following functions at hand:\n",
    "- __np.hinf_norm(transfer_function)__ which calculates the h infinity norm from a given lti system e.g. _np.hinf_norm([1],[1,1]) = __\n",
    "- __get_transfer_function(system)__ which gives you the transfer function of the subsystems e.g. get_transfer_function(0) for P0.\n",
    "\n",
    "Write a function that returns a boolean depending on the stability of the system.\n"
   ]
  },
  {
   "cell_type": "code",
   "execution_count": null,
   "metadata": {},
   "outputs": [],
   "source": [
    "def small_gain_check(P0: int, P1: int) -> bool:\n",
    "    \"\"\"Checks if the system is stable depending on the given subsystems.\"\"\"\n",
    "    \n",
    "    # TODO: Write a function to check for the stability of the system.\n",
    "    \n",
    "    return True\n",
    "\n"
   ]
  },
  {
   "cell_type": "markdown",
   "metadata": {},
   "source": [
    "# Exercise 2: Stability\n",
    "Think of a cool exercise."
   ]
  },
  {
   "cell_type": "code",
   "execution_count": null,
   "metadata": {},
   "outputs": [],
   "source": [
    "def stability_check() -> bool:\n",
    "\n",
    "#TODO: Write a function that checks the internal and external stability of the system.\n",
    "\n",
    "    return True"
   ]
  },
  {
   "cell_type": "markdown",
   "metadata": {},
   "source": [
    "# Exercise 3: Performance Robustness\n",
    "Think of a cool exercise."
   ]
  },
  {
   "cell_type": "code",
   "execution_count": null,
   "metadata": {},
   "outputs": [],
   "source": []
  }
 ],
 "metadata": {
  "kernelspec": {
   "display_name": "Python 3",
   "language": "python",
   "name": "python3"
  },
  "language_info": {
   "codemirror_mode": {
    "name": "ipython",
    "version": 3
   },
   "file_extension": ".py",
   "mimetype": "text/x-python",
   "name": "python",
   "nbconvert_exporter": "python",
   "pygments_lexer": "ipython3",
   "version": "3.10.7"
  }
 },
 "nbformat": 4,
 "nbformat_minor": 2
}
