{
 "cells": [
  {
   "cell_type": "markdown",
   "metadata": {},
   "source": [
    "# CSII 2024 # Exercise 09: Seperation Principle, LQG, Stability Margins\n",
    "&copy; 2024 ETH Zurich, __Timm Grigat__, Suno Dieckmann, Dejan Milojevic, Niclas Scheuer, Roy Werder; Institute for Dynamic Systems and Control; Prof. Emilio Frazzoli\n",
    "\n",
    "\n",
    "## Description\n",
    "In this weeks Jupyter notebook we will have a look at the Small Gain Theorem as well as the general stability of a given control scheme. In a last step we will discuss the performance robustness of such systems.\n",
    "\n",
    "To start, run the following cells to install the necessary modules and import the libraries.\n",
    "We have hidden all cells that are not necessarily needed. Meaning, whenever you see an open code cell you are meant to look at it and probably solve a task within. "
   ]
  },
  {
   "cell_type": "code",
   "execution_count": 1,
   "metadata": {},
   "outputs": [
    {
     "name": "stdout",
     "output_type": "stream",
     "text": [
      "Note: you may need to restart the kernel to use updated packages.\n"
     ]
    },
    {
     "name": "stderr",
     "output_type": "stream",
     "text": [
      "ERROR: Invalid requirement: '#--force-reinstall'\n"
     ]
    }
   ],
   "source": [
    "%pip install cs2solutions #--force-reinstall\n",
    "import os\n",
    "import sys\n",
    "\n",
    "notebookname = \"ps09.ipynb\"\n",
    "sys.path.append(os.path.join(os.getcwd().strip(notebookname), \"utils/\"))"
   ]
  },
  {
   "cell_type": "code",
   "execution_count": 3,
   "metadata": {},
   "outputs": [],
   "source": [
    "import control as ct\n",
    "import numpy as np\n",
    "\n",
    "from library_tools import library_tf_SISO\n",
    "\n",
    "np.set_printoptions(suppress=True, precision=3)"
   ]
  },
  {
   "cell_type": "markdown",
   "metadata": {},
   "source": [
    "### $H^\\infty$ norm\n",
    "\n",
    "In this box we will define the $H^\\infty$ norm that we will use to check\n",
    "the stability of our systems. What the  $H^\\infty$ norm essentially does is, \n",
    "that it looks for the highest singlular value across all frequencies.\n",
    "Below you can find our implementation of the  $H^\\infty$ norm. Feel free to have a \n",
    "look."
   ]
  },
  {
   "cell_type": "code",
   "execution_count": 4,
   "metadata": {},
   "outputs": [],
   "source": [
    "def hinf_norm(system: ct.TransferFunction) -> float:\n",
    "    \"\"\"Calculate the h_inf_norm of a given systems transfer function.\"\"\"\n",
    "    # Calculate frequency response over a wide range of frequencies\n",
    "    omega = np.linspace(-4, 4, 1000)\n",
    "    H = system(omega * 1j)\n",
    "    # Calculate all the singular values after checking for MIMO\n",
    "    if system.ninputs > 1 or system.noutputs > 1:\n",
    "        singular_values = [\n",
    "            np.linalg.svd(H[..., i], compute_uv=False) for i in range(len(omega))\n",
    "        ]\n",
    "    else:\n",
    "        singular_values = [np.absolute(H[..., i]) for i in range(len(omega))]\n",
    "    # Return the highest singular value\n",
    "    return np.vstack(singular_values).max()"
   ]
  },
  {
   "cell_type": "markdown",
   "metadata": {},
   "source": [
    "# Exercise 1: Small gain Theorem\n",
    "\n",
    "Consider the following System with three plants($\\alpha$, P1, P2).\n",
    "Write a function that checks if the combined system is stable using the small gain theorem.\n",
    "You have the following functions at hand:\n",
    "- __hinf_norm(transfer_function)__ which calculates the h infinity norm from a given lti system e.g. _np.hinf_norm(tf: ct.TransferFunction) = __\n",
    "- __library_tf_SISO(system_number)__ which gives you the transfer function and name of the subsystems e.g. library_tf_SISO(0)[0] for P0.\n",
    "\n",
    "Also, check if all conditions of the small gain theorem are fulfilled.\n",
    "\n",
    "Your function should return __True__ if all conditions of the small gain theorem are fulfilled and __False__ if not.\n",
    "You may implement the function __is_stable__ that checks whether the given transfer functions are stable or not.\n",
    "\n",
    "### System\n",
    "<img src=./images/block_diagram_0.png alt=\"Image\" width=\"600\" height=\"200\"> "
   ]
  },
  {
   "cell_type": "markdown",
   "metadata": {},
   "source": [
    "Solve the task in the box below."
   ]
  },
  {
   "cell_type": "code",
   "execution_count": 17,
   "metadata": {},
   "outputs": [
    {
     "data": {
      "text/plain": [
       "True"
      ]
     },
     "execution_count": 17,
     "metadata": {},
     "output_type": "execute_result"
    }
   ],
   "source": [
    "#Define helper functions if you want to use any.\n",
    "\n",
    "def small_gain_theorem(systems: list[int]) -> bool:\n",
    "    \"\"\"Checks if the system is stable depending on the given subsystems.\"\"\"\n",
    "    # TODO: Write a function to check for the stability using the small gain theorem.\n",
    "    return True\n",
    "\n",
    "small_gain_theorem([0, 1, 2])"
   ]
  },
  {
   "cell_type": "markdown",
   "metadata": {},
   "source": [
    "Solutions"
   ]
  },
  {
   "cell_type": "code",
   "execution_count": 6,
   "metadata": {},
   "outputs": [],
   "source": [
    "def all_stable(systems: list[ct.TransferFunction]) -> bool:\n",
    "    \"\"\"Checks if the system is stable depending on the given subsystem.\"\"\"\n",
    "    stable =[pole.real < 0 for system in systems for pole in system.poles()]\n",
    "    return np.all(stable)\n",
    "\n",
    "def small_gain_theorem_solution(alpha: float, systems: list[int]) -> bool:\n",
    "    \"\"\"Checks if the system is stable depending on the given subsystems.\"\"\"\n",
    "    # TODO: Write a function to check for the stability using the small gain theorem.\n",
    "    list_tf = [library_tf_SISO(system)[0] for system in systems]\n",
    "    list_tf.append(ct.TransferFunction(alpha, 1))\n",
    "    if not all_stable(list_tf):\n",
    "        print(\"Not all systems are stable, small gain theorem cannot be applied.\")\n",
    "        return False\n",
    "    list_gamma = [hinf_norm(tf) for tf in list_tf]\n",
    "    return np.prod(list_gamma) < 1"
   ]
  },
  {
   "cell_type": "markdown",
   "metadata": {},
   "source": [
    "### Testing your functions\n",
    "In the following cell you can test the implemented function.\n",
    "To do so simply change the value for $\\alpha$.$\\\\$\n",
    "For which $\\alpha$ will the small gain theorem be fulfilled?$\\\\$\n",
    "You can also play around with the systems $P_0$ and $P_1$.\n",
    "You can choose from the following systems:\n",
    "$\\\\\n",
    "P_0 = \\frac{1}{s^2+2s+4} \\\\\n",
    "P_1 = \\frac{1}{s+1}  \\\\\n",
    "P_2 = \\frac{1}{s-1}  \\\\\n",
    "P_3 = \\frac{s-1}{s^2+4s+9} \\\\\n",
    "P_4 = 5\\frac{s+1}{s+1}  \\\\\n",
    "P_5 = 11\\frac{s+1}{s-1}  \\\\\n",
    "P_6 = 2\\frac{s^2-1}{s^2+4s+9} \\\\\n",
    "$\n",
    "For which of the given systems can the small gain theorem not be used? Why?"
   ]
  },
  {
   "cell_type": "code",
   "execution_count": 7,
   "metadata": {},
   "outputs": [
    {
     "data": {
      "text/plain": [
       "True"
      ]
     },
     "execution_count": 7,
     "metadata": {},
     "output_type": "execute_result"
    }
   ],
   "source": [
    "alpha = 0.5\n",
    "P_0_P1 = [0,1]\n",
    "small_gain_theorem_solution(alpha, P_0_P1)"
   ]
  },
  {
   "cell_type": "markdown",
   "metadata": {},
   "source": [
    "# Exercise 2: Stability\n",
    "This time we want to check for internal stability.\n",
    "Write a function __internally_stability_check(systems:list[int])__\n",
    "You can use __library_tf_SISO(system_number)__ just as you did in Exercise 1.\n",
    "\n",
    "__HINT:__ All the systems are SISO, so the inverse becomes rather simple.\n",
    "\n",
    "<img src=./images/block_diagram_1.png alt=\"Image\" width=\"600\" height=\"200\"> "
   ]
  },
  {
   "cell_type": "code",
   "execution_count": 20,
   "metadata": {},
   "outputs": [],
   "source": [
    "def internal_stability_check(systems: list[int]) -> bool:\n",
    "    \"\"\"Checks the complete internal stability of the system.\"\"\"\n",
    "    # TODO: Write a function that checks the internal and external stability of the system.\n",
    "    #define all four transfer functions\n",
    "    return True"
   ]
  },
  {
   "cell_type": "code",
   "execution_count": 21,
   "metadata": {},
   "outputs": [],
   "source": [
    "def internal_stability_check_solution(systems: list[int]) -> bool:\n",
    "    \"\"\"Checks the complete internal stability of the system.\"\"\"\n",
    "    # TODO: Write a function that checks the internal and external stability of the system.\n",
    "    #define all four transfer functions\n",
    "    list_tf = [library_tf_SISO(system)[0] for system in systems]\n",
    "    P0, P1, P2 = list_tf[0], list_tf[1], list_tf[2]\n",
    "    P01 = P0*P1\n",
    "    #Inverse: This inverse is only possible due to the fact that we are using SISO systems.\n",
    "    I_P01_P2_inv = 1/(1-P01*P1)\n",
    "    I_P2_P01_inv = 1/(1-P1*P01)\n",
    "    closed_loop_tfs = [I_P2_P01_inv,I_P2_P01_inv*P2,I_P01_P2_inv,I_P01_P2_inv*P2]\n",
    "\n",
    "    stable =[pole.real < 0 for tf in closed_loop_tfs for pole in tf.poles()]\n",
    "    return np.all(stable)"
   ]
  },
  {
   "cell_type": "markdown",
   "metadata": {},
   "source": [
    "### Testing your functions\n",
    "Once again test your function here. You can once again choose a wide variety of \n",
    "systems. To test out different systems simply change the arguments given to \n",
    "__internal_stability_check__. You can choose from the same systems as in the task before:\n",
    "$\\\\\n",
    "P_0 = \\frac{1}{s^2+2s+4} \\\\\n",
    "P_1 = \\frac{1}{s+1}  \\\\\n",
    "P_2 = \\frac{1}{s-1}  \\\\\n",
    "P_3 = \\frac{s-1}{s^2+4s+9} \\\\\n",
    "P_4 = 5\\frac{s+1}{s+1}  \\\\\n",
    "P_5 = 11\\frac{s+1}{s-1}  \\\\\n",
    "P_6 = 2\\frac{s^2-1}{s^2+4s+9} \\\\\n",
    "$"
   ]
  },
  {
   "cell_type": "code",
   "execution_count": 22,
   "metadata": {},
   "outputs": [
    {
     "data": {
      "text/plain": [
       "True"
      ]
     },
     "execution_count": 22,
     "metadata": {},
     "output_type": "execute_result"
    }
   ],
   "source": [
    "#Change the list of systems to check the stability different systems\n",
    "P = [0,1,2]\n",
    "internal_stability_check(P)"
   ]
  },
  {
   "cell_type": "markdown",
   "metadata": {},
   "source": [
    "# Exercise 3: Stability Robustness\n",
    "With the tools that we have developed, we now want to check for the robustness of a simple feedback loop.\n",
    "To model robustness we are adding  multiplicative perturbation to the system.\n",
    "As we learned in the lecture we therefore have to transform the system into a form in which the small gain theorem is applicable.\n",
    "Fortunately you were given the transfer function from the input to the output of the perturbation function.\n",
    "$\\\\\n",
    "G(s) = -(I+P_2P_1)^{-1}P_2P_1W\n",
    "\\\\$\n",
    "Apply the small gain theorem to check if the system is robust to the given perturbation and frequency weight.\n",
    "\n",
    "<img src=./images/block_diagram_2.png alt=\"Image\" width=\"600\" height=\"200\">\n",
    "\n",
    "Becomes\n",
    "\n",
    "<img src=./images/block_diagram_3.png alt=\"Image\" width=\"600\" height=\"200\">"
   ]
  },
  {
   "cell_type": "code",
   "execution_count": 23,
   "metadata": {},
   "outputs": [],
   "source": [
    "def stability_robustness_check(frequency_weight: ct.TransferFunction, \n",
    "                               systems: list[int]) -> bool:\n",
    "    \"\"\"Checks the stability robustness of the system.\"\"\"\n",
    "\n"
   ]
  },
  {
   "cell_type": "code",
   "execution_count": 24,
   "metadata": {},
   "outputs": [],
   "source": [
    "def stability_robustness_check_solution(frequency_weight: ct.TransferFunction, \n",
    "                               systems: list[int]) -> bool:\n",
    "    \"\"\"Checks the stability robustness of the system.\"\"\"\n",
    "    list_tf = [library_tf_SISO(system)[0] for system in systems]\n",
    "    P1, P2 = list_tf[0], list_tf[1]\n",
    "    G = -(1+P2*P1)**(-1)*P2*P1*frequency_weight\n",
    "    return hinf_norm(G)"
   ]
  },
  {
   "cell_type": "markdown",
   "metadata": {},
   "source": [
    "### Testing your solution\n",
    "\n",
    "As alway below you can test your solution. Feel free to play with the parameters.\n",
    "You can choose from the following functions:\n",
    "$\\\\\n",
    "P_0 = \\frac{1}{s^2+2s+4} \\\\\n",
    "P_1 = \\frac{1}{s+1}  \\\\\n",
    "P_2 = \\frac{1}{s-1}  \\\\\n",
    "P_3 = \\frac{s-1}{s^2+4s+9} \\\\\n",
    "P_4 = 5\\frac{s+1}{s+1}  \\\\\n",
    "P_5 = 11\\frac{s+1}{s-1}  \\\\\n",
    "P_6 = 2\\frac{s^2-1}{s^2+4s+9} \\\\\n",
    "$"
   ]
  },
  {
   "cell_type": "code",
   "execution_count": 25,
   "metadata": {},
   "outputs": [],
   "source": [
    "high_pass = ct.TransferFunction([1, 0], [1, 1])\n",
    "low_pass = ct.TransferFunction([1], [1, 1])\n",
    "frequency_weight = low_pass\n",
    "perturbation = ct.TransferFunction([1], [1, 1])\n",
    "stability_robustness_check(frequency_weight,[4,2])"
   ]
  }
 ],
 "metadata": {
  "kernelspec": {
   "display_name": "Python 3",
   "language": "python",
   "name": "python3"
  },
  "language_info": {
   "codemirror_mode": {
    "name": "ipython",
    "version": 3
   },
   "file_extension": ".py",
   "mimetype": "text/x-python",
   "name": "python",
   "nbconvert_exporter": "python",
   "pygments_lexer": "ipython3",
   "version": "3.10.11"
  }
 },
 "nbformat": 4,
 "nbformat_minor": 2
}
