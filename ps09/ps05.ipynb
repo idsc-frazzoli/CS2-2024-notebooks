{
 "cells": [
  {
   "cell_type": "markdown",
   "metadata": {},
   "source": [
    "# CSII 2024 # Exerercise 09: Seperation Principle, LQG, Stability Margins\n",
    "&copy; 2024 ETH Zurich, Timm Grigat, Suno Dieckmann, Dejan Milojevic; Institute for Dynamic Systems and Control; Prof. Emilio Frazzoli\n",
    "\n",
    "\n",
    "## Description\n",
    "TODO: Description of the notebook.\n",
    "\n",
    "To start, run the following cell to install the necessary modules and import the libraries."
   ]
  },
  {
   "cell_type": "code",
   "execution_count": 76,
   "metadata": {},
   "outputs": [
    {
     "name": "stderr",
     "output_type": "stream",
     "text": [
      "5855.83s - pydevd: Sending message related to process being replaced timed-out after 5 seconds\n"
     ]
    },
    {
     "name": "stdout",
     "output_type": "stream",
     "text": [
      "Defaulting to user installation because normal site-packages is not writeable\n",
      "Collecting cs2solutions\n",
      "  Using cached cs2solutions-0.3.0-py3-none-any.whl (46 kB)\n",
      "Collecting scipy\n",
      "  Using cached scipy-1.12.0-cp310-cp310-manylinux_2_17_x86_64.manylinux2014_x86_64.whl (38.4 MB)\n",
      "Collecting numpy\n",
      "  Using cached numpy-1.26.4-cp310-cp310-manylinux_2_17_x86_64.manylinux2014_x86_64.whl (18.2 MB)\n",
      "Collecting control\n",
      "  Using cached control-0.9.4-py3-none-any.whl (455 kB)\n",
      "Collecting matplotlib\n",
      "  Using cached matplotlib-3.8.3-cp310-cp310-manylinux_2_17_x86_64.manylinux2014_x86_64.whl (11.6 MB)\n",
      "Collecting contourpy>=1.0.1\n",
      "  Using cached contourpy-1.2.0-cp310-cp310-manylinux_2_17_x86_64.manylinux2014_x86_64.whl (310 kB)\n",
      "Collecting cycler>=0.10\n",
      "  Using cached cycler-0.12.1-py3-none-any.whl (8.3 kB)\n",
      "Collecting kiwisolver>=1.3.1\n",
      "  Using cached kiwisolver-1.4.5-cp310-cp310-manylinux_2_12_x86_64.manylinux2010_x86_64.whl (1.6 MB)\n",
      "Collecting packaging>=20.0\n",
      "  Using cached packaging-23.2-py3-none-any.whl (53 kB)\n",
      "Collecting python-dateutil>=2.7\n",
      "  Using cached python_dateutil-2.9.0.post0-py2.py3-none-any.whl (229 kB)\n",
      "Collecting fonttools>=4.22.0\n",
      "  Using cached fonttools-4.49.0-cp310-cp310-manylinux_2_17_x86_64.manylinux2014_x86_64.whl (4.6 MB)\n",
      "Collecting pillow>=8\n",
      "  Using cached pillow-10.2.0-cp310-cp310-manylinux_2_28_x86_64.whl (4.5 MB)\n",
      "Collecting pyparsing>=2.3.1\n",
      "  Using cached pyparsing-3.1.2-py3-none-any.whl (103 kB)\n",
      "Collecting six>=1.5\n",
      "  Using cached six-1.16.0-py2.py3-none-any.whl (11 kB)\n",
      "Installing collected packages: six, pyparsing, pillow, packaging, numpy, kiwisolver, fonttools, cycler, scipy, python-dateutil, contourpy, matplotlib, control, cs2solutions\n",
      "  Attempting uninstall: six\n",
      "    Found existing installation: six 1.16.0\n",
      "    Uninstalling six-1.16.0:\n",
      "      Successfully uninstalled six-1.16.0\n",
      "  Attempting uninstall: pyparsing\n",
      "    Found existing installation: pyparsing 3.1.2\n",
      "    Uninstalling pyparsing-3.1.2:\n",
      "      Successfully uninstalled pyparsing-3.1.2\n",
      "  Attempting uninstall: pillow\n",
      "    Found existing installation: pillow 10.2.0\n",
      "    Uninstalling pillow-10.2.0:\n",
      "      Successfully uninstalled pillow-10.2.0\n",
      "  Attempting uninstall: packaging\n",
      "    Found existing installation: packaging 23.2\n",
      "    Uninstalling packaging-23.2:\n",
      "      Successfully uninstalled packaging-23.2\n",
      "  Attempting uninstall: numpy\n",
      "    Found existing installation: numpy 1.26.4\n",
      "    Uninstalling numpy-1.26.4:\n",
      "      Successfully uninstalled numpy-1.26.4\n",
      "  Attempting uninstall: kiwisolver\n",
      "    Found existing installation: kiwisolver 1.4.5\n",
      "    Uninstalling kiwisolver-1.4.5:\n",
      "      Successfully uninstalled kiwisolver-1.4.5\n",
      "  Attempting uninstall: fonttools\n",
      "    Found existing installation: fonttools 4.49.0\n",
      "    Uninstalling fonttools-4.49.0:\n",
      "      Successfully uninstalled fonttools-4.49.0\n",
      "  Attempting uninstall: cycler\n",
      "    Found existing installation: cycler 0.12.1\n",
      "    Uninstalling cycler-0.12.1:\n",
      "      Successfully uninstalled cycler-0.12.1\n",
      "  Attempting uninstall: scipy\n",
      "    Found existing installation: scipy 1.12.0\n",
      "    Uninstalling scipy-1.12.0:\n",
      "      Successfully uninstalled scipy-1.12.0\n",
      "  Attempting uninstall: python-dateutil\n",
      "    Found existing installation: python-dateutil 2.9.0.post0\n",
      "    Uninstalling python-dateutil-2.9.0.post0:\n",
      "      Successfully uninstalled python-dateutil-2.9.0.post0\n",
      "  Attempting uninstall: contourpy\n",
      "    Found existing installation: contourpy 1.2.0\n",
      "    Uninstalling contourpy-1.2.0:\n",
      "      Successfully uninstalled contourpy-1.2.0\n",
      "  Attempting uninstall: matplotlib\n",
      "    Found existing installation: matplotlib 3.8.3\n",
      "    Uninstalling matplotlib-3.8.3:\n",
      "      Successfully uninstalled matplotlib-3.8.3\n",
      "  Attempting uninstall: control\n",
      "    Found existing installation: control 0.9.4\n",
      "    Uninstalling control-0.9.4:\n",
      "      Successfully uninstalled control-0.9.4\n",
      "  Attempting uninstall: cs2solutions\n",
      "    Found existing installation: cs2solutions 0.3.0\n",
      "    Uninstalling cs2solutions-0.3.0:\n",
      "      Successfully uninstalled cs2solutions-0.3.0\n",
      "Successfully installed contourpy-1.2.0 control-0.9.4 cs2solutions-0.3.0 cycler-0.12.1 fonttools-4.49.0 kiwisolver-1.4.5 matplotlib-3.8.3 numpy-1.26.4 packaging-23.2 pillow-10.2.0 pyparsing-3.1.2 python-dateutil-2.9.0.post0 scipy-1.12.0 six-1.16.0\n",
      "Note: you may need to restart the kernel to use updated packages.\n"
     ]
    }
   ],
   "source": [
    "%pip install cs2solutions --force-reinstall\n",
    "\n",
    "\n",
    "import numpy as np\n",
    "import control as ct\n",
    "\n",
    "np.set_printoptions(suppress=True, precision=3)"
   ]
  },
  {
   "cell_type": "code",
   "execution_count": 77,
   "metadata": {},
   "outputs": [],
   "source": [
    "def hinf_norm(system: ct.TransferFunction) -> int:\n",
    "    \"\"\"Calculate the h_inf_norm of a given system.\"\"\"\n",
    "\n",
    "    # Calculate frequency response over a wide range of frequencies\n",
    "    omega = np.logspace(-4, 2, 1001)\n",
    "    H = system(omega * 1j)\n",
    "    \n",
    "\n",
    "    # Calculate all the singular values\n",
    "    singular_values = [np.linalg.svd(H[..., i], compute_uv=False)\n",
    "                    for i in range(len(omega))]\n",
    "    # Return the highest\n",
    "    return np.vstack(singular_values).max()"
   ]
  },
  {
   "cell_type": "code",
   "execution_count": 78,
   "metadata": {},
   "outputs": [],
   "source": [
    "def hinf_norm(system: ct.TransferFunction) -> float:\n",
    "    \"\"\"Calculate the H-infinity norm of a given system.\"\"\"\n",
    "    return 0.9"
   ]
  },
  {
   "cell_type": "markdown",
   "metadata": {},
   "source": [
    "# Exercise 1: Small gain Theorem\n",
    "\n",
    "Consider the following System with three plants(P0, P1, P2)\n",
    "Write a function to check if the system is stable using the small gain theorem.\n",
    "You have the following functions at hand:\n",
    "- __np.hinf_norm(transfer_function)__ which calculates the h infinity norm from a given lti system e.g. _np.hinf_norm([1],[1,1]) = __\n",
    "- __get_transfer_function(system)__ which gives you the transfer function of the subsystems e.g. get_transfer_function(0) for P0.\n",
    "\n",
    "Write a function that returns a boolean depending on the stability of the system.\n"
   ]
  },
  {
   "cell_type": "code",
   "execution_count": 79,
   "metadata": {},
   "outputs": [],
   "source": [
    "def small_gain_check(P0: int, P1: int) -> bool:\n",
    "    \"\"\"Checks if the system is stable depending on the given subsystems.\"\"\"\n",
    "    \n",
    "    # TODO: Write a function to check for the stability of the system.\n",
    "    \n",
    "    return True\n",
    "\n"
   ]
  },
  {
   "cell_type": "markdown",
   "metadata": {},
   "source": [
    "# Eercise 2: Stability\n",
    "Think of a cool exercise."
   ]
  },
  {
   "cell_type": "code",
   "execution_count": null,
   "metadata": {},
   "outputs": [],
   "source": [
    "def stability_check() -> bool:\n",
    "\n",
    "#TODO: Write a function that checks the internal and external stability of the system.\n",
    "\n",
    "    return True"
   ]
  },
  {
   "cell_type": "markdown",
   "metadata": {},
   "source": [
    "# Exercise 3: Performance Robustness\n",
    "Think of a cool exercise."
   ]
  },
  {
   "cell_type": "code",
   "execution_count": null,
   "metadata": {},
   "outputs": [],
   "source": []
  }
 ],
 "metadata": {
  "kernelspec": {
   "display_name": "Python 3",
   "language": "python",
   "name": "python3"
  },
  "language_info": {
   "codemirror_mode": {
    "name": "ipython",
    "version": 3
   },
   "file_extension": ".py",
   "mimetype": "text/x-python",
   "name": "python",
   "nbconvert_exporter": "python",
   "pygments_lexer": "ipython3",
   "version": "3.10.12"
  }
 },
 "nbformat": 4,
 "nbformat_minor": 2
}
