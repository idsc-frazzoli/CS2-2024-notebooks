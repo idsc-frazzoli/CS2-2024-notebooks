{
 "cells": [
  {
   "cell_type": "markdown",
   "metadata": {},
   "source": [
    "# CSII 2024 Exercise 12: Q parametrization & Internal Model Control\n",
    "© 2024 ETH Zurich, ....\n",
    "\n"
   ]
  },
  {
   "cell_type": "markdown",
   "metadata": {},
   "source": [
    "# Setup"
   ]
  },
  {
   "cell_type": "code",
   "execution_count": 13,
   "metadata": {},
   "outputs": [
    {
     "name": "stdout",
     "output_type": "stream",
     "text": [
      "Requirement already satisfied: cs2solutions in c:\\users\\felix\\anaconda3\\envs\\cs2\\lib\\site-packages (0.2.7)\n",
      "Requirement already satisfied: control in c:\\users\\felix\\anaconda3\\envs\\cs2\\lib\\site-packages (from cs2solutions) (0.10.0)\n",
      "Requirement already satisfied: matplotlib in c:\\users\\felix\\anaconda3\\envs\\cs2\\lib\\site-packages (from cs2solutions) (3.8.0)\n",
      "Requirement already satisfied: numpy in c:\\users\\felix\\anaconda3\\envs\\cs2\\lib\\site-packages (from cs2solutions) (1.26.4)\n",
      "Requirement already satisfied: scipy in c:\\users\\felix\\anaconda3\\envs\\cs2\\lib\\site-packages (from cs2solutions) (1.12.0)\n",
      "Requirement already satisfied: contourpy>=1.0.1 in c:\\users\\felix\\anaconda3\\envs\\cs2\\lib\\site-packages (from matplotlib->cs2solutions) (1.2.0)\n",
      "Requirement already satisfied: cycler>=0.10 in c:\\users\\felix\\anaconda3\\envs\\cs2\\lib\\site-packages (from matplotlib->cs2solutions) (0.11.0)\n",
      "Requirement already satisfied: fonttools>=4.22.0 in c:\\users\\felix\\anaconda3\\envs\\cs2\\lib\\site-packages (from matplotlib->cs2solutions) (4.25.0)\n",
      "Requirement already satisfied: kiwisolver>=1.0.1 in c:\\users\\felix\\anaconda3\\envs\\cs2\\lib\\site-packages (from matplotlib->cs2solutions) (1.4.4)\n",
      "Requirement already satisfied: packaging>=20.0 in c:\\users\\felix\\anaconda3\\envs\\cs2\\lib\\site-packages (from matplotlib->cs2solutions) (23.2)\n",
      "Requirement already satisfied: pillow>=6.2.0 in c:\\users\\felix\\anaconda3\\envs\\cs2\\lib\\site-packages (from matplotlib->cs2solutions) (10.2.0)\n",
      "Requirement already satisfied: pyparsing>=2.3.1 in c:\\users\\felix\\anaconda3\\envs\\cs2\\lib\\site-packages (from matplotlib->cs2solutions) (3.0.9)\n",
      "Requirement already satisfied: python-dateutil>=2.7 in c:\\users\\felix\\anaconda3\\envs\\cs2\\lib\\site-packages (from matplotlib->cs2solutions) (2.9.0)\n",
      "Requirement already satisfied: six>=1.5 in c:\\users\\felix\\anaconda3\\envs\\cs2\\lib\\site-packages (from python-dateutil>=2.7->matplotlib->cs2solutions) (1.16.0)\n",
      "Requirement already satisfied: control==0.10.0 in c:\\users\\felix\\anaconda3\\envs\\cs2\\lib\\site-packages (0.10.0)\n",
      "Requirement already satisfied: numpy>=1.23 in c:\\users\\felix\\anaconda3\\envs\\cs2\\lib\\site-packages (from control==0.10.0) (1.26.4)\n",
      "Requirement already satisfied: scipy>=1.8 in c:\\users\\felix\\anaconda3\\envs\\cs2\\lib\\site-packages (from control==0.10.0) (1.12.0)\n",
      "Requirement already satisfied: matplotlib>=3.6 in c:\\users\\felix\\anaconda3\\envs\\cs2\\lib\\site-packages (from control==0.10.0) (3.8.0)\n",
      "Requirement already satisfied: contourpy>=1.0.1 in c:\\users\\felix\\anaconda3\\envs\\cs2\\lib\\site-packages (from matplotlib>=3.6->control==0.10.0) (1.2.0)\n",
      "Requirement already satisfied: cycler>=0.10 in c:\\users\\felix\\anaconda3\\envs\\cs2\\lib\\site-packages (from matplotlib>=3.6->control==0.10.0) (0.11.0)\n",
      "Requirement already satisfied: fonttools>=4.22.0 in c:\\users\\felix\\anaconda3\\envs\\cs2\\lib\\site-packages (from matplotlib>=3.6->control==0.10.0) (4.25.0)\n",
      "Requirement already satisfied: kiwisolver>=1.0.1 in c:\\users\\felix\\anaconda3\\envs\\cs2\\lib\\site-packages (from matplotlib>=3.6->control==0.10.0) (1.4.4)\n",
      "Requirement already satisfied: packaging>=20.0 in c:\\users\\felix\\anaconda3\\envs\\cs2\\lib\\site-packages (from matplotlib>=3.6->control==0.10.0) (23.2)\n",
      "Requirement already satisfied: pillow>=6.2.0 in c:\\users\\felix\\anaconda3\\envs\\cs2\\lib\\site-packages (from matplotlib>=3.6->control==0.10.0) (10.2.0)\n",
      "Requirement already satisfied: pyparsing>=2.3.1 in c:\\users\\felix\\anaconda3\\envs\\cs2\\lib\\site-packages (from matplotlib>=3.6->control==0.10.0) (3.0.9)\n",
      "Requirement already satisfied: python-dateutil>=2.7 in c:\\users\\felix\\anaconda3\\envs\\cs2\\lib\\site-packages (from matplotlib>=3.6->control==0.10.0) (2.9.0)\n",
      "Requirement already satisfied: six>=1.5 in c:\\users\\felix\\anaconda3\\envs\\cs2\\lib\\site-packages (from python-dateutil>=2.7->matplotlib>=3.6->control==0.10.0) (1.16.0)\n"
     ]
    },
    {
     "ename": "NameError",
     "evalue": "name 'unicycle_update' is not defined",
     "output_type": "error",
     "traceback": [
      "\u001b[1;31m---------------------------------------------------------------------------\u001b[0m",
      "\u001b[1;31mNameError\u001b[0m                                 Traceback (most recent call last)",
      "Cell \u001b[1;32mIn[13], line 8\u001b[0m\n\u001b[0;32m      6\u001b[0m \u001b[38;5;28;01mimport\u001b[39;00m \u001b[38;5;21;01mcontrol\u001b[39;00m \u001b[38;5;28;01mas\u001b[39;00m \u001b[38;5;21;01mct\u001b[39;00m\n\u001b[0;32m      7\u001b[0m \u001b[38;5;28;01mimport\u001b[39;00m \u001b[38;5;21;01mmatplotlib\u001b[39;00m\u001b[38;5;21;01m.\u001b[39;00m\u001b[38;5;21;01mpyplot\u001b[39;00m \u001b[38;5;28;01mas\u001b[39;00m \u001b[38;5;21;01mplt\u001b[39;00m\n\u001b[1;32m----> 8\u001b[0m \u001b[38;5;28;01mfrom\u001b[39;00m \u001b[38;5;21;01mcs2solutions\u001b[39;00m \u001b[38;5;28;01mimport\u001b[39;00m duckiebot\n",
      "File \u001b[1;32mc:\\Users\\felix\\anaconda3\\envs\\CS2\\lib\\site-packages\\cs2solutions\\duckiebot.py:17\u001b[0m\n\u001b[0;32m     14\u001b[0m duckie_params\u001b[38;5;241m=\u001b[39m{\u001b[38;5;124m'\u001b[39m\u001b[38;5;124mvelocity\u001b[39m\u001b[38;5;124m'\u001b[39m: \u001b[38;5;241m0.1\u001b[39m, \u001b[38;5;124m'\u001b[39m\u001b[38;5;124mmax_omega\u001b[39m\u001b[38;5;124m'\u001b[39m: \u001b[38;5;241m0.05\u001b[39m}\n\u001b[0;32m     15\u001b[0m \u001b[38;5;66;03m# Define the Duckiebot's steering dynamics as an input/output system\u001b[39;00m\n\u001b[0;32m     16\u001b[0m duckiebot \u001b[38;5;241m=\u001b[39m ct\u001b[38;5;241m.\u001b[39mNonlinearIOSystem(\n\u001b[1;32m---> 17\u001b[0m     \u001b[43municycle_update\u001b[49m, unicycle_output, states\u001b[38;5;241m=\u001b[39m\u001b[38;5;241m3\u001b[39m, name\u001b[38;5;241m=\u001b[39m\u001b[38;5;124m'\u001b[39m\u001b[38;5;124mduckiebot\u001b[39m\u001b[38;5;124m'\u001b[39m,\n\u001b[0;32m     18\u001b[0m     inputs\u001b[38;5;241m=\u001b[39m(\u001b[38;5;124m'\u001b[39m\u001b[38;5;124mv\u001b[39m\u001b[38;5;124m'\u001b[39m, \u001b[38;5;124m'\u001b[39m\u001b[38;5;124mw\u001b[39m\u001b[38;5;124m'\u001b[39m), outputs\u001b[38;5;241m=\u001b[39m(\u001b[38;5;124m'\u001b[39m\u001b[38;5;124mx\u001b[39m\u001b[38;5;124m'\u001b[39m, \u001b[38;5;124m'\u001b[39m\u001b[38;5;124my\u001b[39m\u001b[38;5;124m'\u001b[39m), params\u001b[38;5;241m=\u001b[39mduckie_params)\n\u001b[0;32m     20\u001b[0m v0 \u001b[38;5;241m=\u001b[39m duckie_params[\u001b[38;5;124m'\u001b[39m\u001b[38;5;124mvelocity\u001b[39m\u001b[38;5;124m'\u001b[39m]\n\u001b[0;32m     23\u001b[0m \u001b[38;5;66;03m# Control inputs\u001b[39;00m\n",
      "\u001b[1;31mNameError\u001b[0m: name 'unicycle_update' is not defined"
     ]
    }
   ],
   "source": [
    "# Install the required python library with pip\n",
    "!pip install cs2solutions\n",
    "!pip install control==0.10.0\n",
    "\n",
    "import numpy as np\n",
    "import control as ct\n",
    "import matplotlib.pyplot as plt\n",
    "from cs2solutions import duckiebot"
   ]
  },
  {
   "cell_type": "markdown",
   "metadata": {},
   "source": [
    "\n",
    "# Exercise 1: Q-Parametrization for CS2-Bot Controller Design\n",
    "Recall the CS2-Bot first used in PS03, where the advantages of state-feedback were demonstrated. In PS04 we added a state-estimater and introduced optimal control for it in PS05. In this problem set the task is to parametrize all stabilizing controllers using a Q-parametrization. "
   ]
  },
  {
   "cell_type": "markdown",
   "metadata": {},
   "source": [
    "<img src=\"images/duckie_bot.png\" alt=\"Duckie Bot\" width=\"600\"/>"
   ]
  },
  {
   "cell_type": "markdown",
   "metadata": {},
   "source": [
    "## Dynamics\n",
    "\n",
    "The nonlinear dynamics and the output of the CS2-Bot are defined in the next cell."
   ]
  },
  {
   "cell_type": "code",
   "execution_count": null,
   "metadata": {},
   "outputs": [
    {
     "ename": "NameError",
     "evalue": "name 'duckiebot' is not defined",
     "output_type": "error",
     "traceback": [
      "\u001b[1;31m---------------------------------------------------------------------------\u001b[0m",
      "\u001b[1;31mNameError\u001b[0m                                 Traceback (most recent call last)",
      "Cell \u001b[1;32mIn[8], line 1\u001b[0m\n\u001b[1;32m----> 1\u001b[0m unicycle_update \u001b[38;5;241m=\u001b[39m \u001b[43mduckiebot\u001b[49m\u001b[38;5;241m.\u001b[39municycle_update\n\u001b[0;32m      2\u001b[0m unicycle_output \u001b[38;5;241m=\u001b[39m duckiebot\u001b[38;5;241m.\u001b[39municycle_output\n",
      "\u001b[1;31mNameError\u001b[0m: name 'duckiebot' is not defined"
     ]
    }
   ],
   "source": [
    "unicycle_update = duckiebot.unicycle_update\n",
    "unicycle_output = duckiebot.unicycle_output"
   ]
  },
  {
   "cell_type": "markdown",
   "metadata": {},
   "source": [
    "View function definitions by right-clicking and using 'Go to definition (F12)'. Alternatively, you can view the function definitions on [GitHub](https://github.com/idsc-frazzoli/cs2solutions/blob/59ad007bfeabdaed54f2b620ccb969f37c56104f/src/cs2solutions/duckiebot.py#L13-L24).\n",
    "\n",
    "Various plotting functions are defined here: [GitHub](https://github.com/idsc-frazzoli/cs2solutions/blob/59ad007bfeabdaed54f2b620ccb969f37c56104f/src/cs2solutions/duckiebot.py#L27-L258)"
   ]
  },
  {
   "cell_type": "markdown",
   "metadata": {},
   "source": [
    "## Parameters and Reference Track\n",
    "\n",
    "We set a default CS2-Bot velocity and generate the nonlinear system using the `control` library."
   ]
  },
  {
   "cell_type": "code",
   "execution_count": null,
   "metadata": {},
   "outputs": [
    {
     "ename": "NameError",
     "evalue": "name 'duckiebot' is not defined",
     "output_type": "error",
     "traceback": [
      "\u001b[1;31m---------------------------------------------------------------------------\u001b[0m",
      "\u001b[1;31mNameError\u001b[0m                                 Traceback (most recent call last)",
      "Cell \u001b[1;32mIn[9], line 5\u001b[0m\n\u001b[0;32m      2\u001b[0m bot_params\u001b[38;5;241m=\u001b[39m{\u001b[38;5;124m'\u001b[39m\u001b[38;5;124mvelocity\u001b[39m\u001b[38;5;124m'\u001b[39m: \u001b[38;5;241m0.1\u001b[39m, \u001b[38;5;124m'\u001b[39m\u001b[38;5;124mmax_omega\u001b[39m\u001b[38;5;124m'\u001b[39m: \u001b[38;5;241m0.05\u001b[39m}\n\u001b[0;32m      3\u001b[0m \u001b[38;5;66;03m# Define the CS2 Bot's steering dynamics as an input/output system\u001b[39;00m\n\u001b[0;32m      4\u001b[0m bot \u001b[38;5;241m=\u001b[39m ct\u001b[38;5;241m.\u001b[39mNonlinearIOSystem(\n\u001b[1;32m----> 5\u001b[0m     \u001b[43mduckiebot\u001b[49m\u001b[38;5;241m.\u001b[39municycle_update, duckiebot\u001b[38;5;241m.\u001b[39municycle_output, states\u001b[38;5;241m=\u001b[39m\u001b[38;5;241m3\u001b[39m, name\u001b[38;5;241m=\u001b[39m\u001b[38;5;124m'\u001b[39m\u001b[38;5;124mbot\u001b[39m\u001b[38;5;124m'\u001b[39m,\n\u001b[0;32m      6\u001b[0m     inputs\u001b[38;5;241m=\u001b[39m(\u001b[38;5;124m'\u001b[39m\u001b[38;5;124mv\u001b[39m\u001b[38;5;124m'\u001b[39m, \u001b[38;5;124m'\u001b[39m\u001b[38;5;124mw\u001b[39m\u001b[38;5;124m'\u001b[39m), outputs\u001b[38;5;241m=\u001b[39m(\u001b[38;5;124m'\u001b[39m\u001b[38;5;124mx\u001b[39m\u001b[38;5;124m'\u001b[39m, \u001b[38;5;124m'\u001b[39m\u001b[38;5;124my\u001b[39m\u001b[38;5;124m'\u001b[39m), params\u001b[38;5;241m=\u001b[39mbot_params)\n\u001b[0;32m      8\u001b[0m v0 \u001b[38;5;241m=\u001b[39m bot_params[\u001b[38;5;124m'\u001b[39m\u001b[38;5;124mvelocity\u001b[39m\u001b[38;5;124m'\u001b[39m]\n",
      "\u001b[1;31mNameError\u001b[0m: name 'duckiebot' is not defined"
     ]
    }
   ],
   "source": [
    "# Default CS2 Bot velocity in m/s\n",
    "bot_params={'velocity': 0.1, 'max_omega': 0.05}\n",
    "# Define the CS2 Bot's steering dynamics as an input/output system\n",
    "bot = ct.NonlinearIOSystem(\n",
    "    duckiebot.unicycle_update, duckiebot.unicycle_output, states=3, name='bot',\n",
    "    inputs=('v', 'w'), outputs=('x', 'y'), params=bot_params)\n",
    "\n",
    "v0 = bot_params['velocity']"
   ]
  },
  {
   "cell_type": "markdown",
   "metadata": {},
   "source": [
    "We define a reference track that we want to follow. If you want to test an easy track, set `curve_difficulty_levels[0]`. For a hard track set `curve_difficulty_levels[1]`. If you want to create your own track, set `curve_difficulty_levels[2]` and change `w_curvy` after the `else` line. The reference line is generated by simulating some given control inputs for a certain time. We keep the velocity input `v_curvy` constant and calculate a forced angluar velocity `w_curvy`."
   ]
  },
  {
   "cell_type": "code",
   "execution_count": null,
   "metadata": {},
   "outputs": [],
   "source": [
    "# Control inputs\n",
    "curve_difficulty_levels = ['easy', 'hard', 'straignt']\n",
    "curve_difficulty = curve_difficulty_levels[2]\n",
    "T_curvy = np.linspace(0, 25, 500)\n",
    "v_curvy = v0*np.ones(T_curvy.shape)\n",
    "if curve_difficulty=='easy':\n",
    "    w_curvy = 0.025*np.sin(T_curvy*np.pi/50)\n",
    "elif curve_difficulty=='hard':\n",
    "    w_curvy = 0.2*np.sin(T_curvy)*np.cos(4*T_curvy) + 0.025*np.sin(T_curvy*np.pi/10)\n",
    "else:\n",
    "    w_curvy = np.zeros(T_curvy.shape)\n",
    "u_curvy = [v_curvy, w_curvy]\n",
    "X0_curvy = [0, 0, 0]\n",
    "\n",
    "# Simulate the system + estimator\n",
    "t_curvy, y_curvy, x_curvy = ct.input_output_response(\n",
    "    bot, T_curvy, u_curvy, X0_curvy, params=bot_params, return_x=True)\n",
    "\n",
    "duckiebot.plot_track(y_curvy[0], y_curvy[1], x_curvy[2], t_curvy, w_curvy)\n",
    "y_ref = x_curvy[1]\n",
    "r = np.expand_dims(y_ref, axis=0)\n",
    "t = T_curvy"
   ]
  },
  {
   "cell_type": "markdown",
   "metadata": {},
   "source": [
    "## Linearization, Normalization and State Space Represenation\n",
    "\n",
    "In the next cell we show you how to linearize and normalize the system using the `control` library. As shown in the class, we use $u_1=v_0$ as a constant for simplicity.\n"
   ]
  },
  {
   "cell_type": "code",
   "execution_count": null,
   "metadata": {},
   "outputs": [
    {
     "ename": "NameError",
     "evalue": "name 'duckiebot' is not defined",
     "output_type": "error",
     "traceback": [
      "\u001b[1;31m---------------------------------------------------------------------------\u001b[0m",
      "\u001b[1;31mNameError\u001b[0m                                 Traceback (most recent call last)",
      "Cell \u001b[1;32mIn[10], line 11\u001b[0m\n\u001b[0;32m      2\u001b[0m lateral \u001b[38;5;241m=\u001b[39m ct\u001b[38;5;241m.\u001b[39mNonlinearIOSystem(\n\u001b[0;32m      3\u001b[0m     \u001b[38;5;28;01mlambda\u001b[39;00m t, x, u, params: duckiebot\u001b[38;5;241m.\u001b[39municycle_update(\n\u001b[0;32m      4\u001b[0m         t, [\u001b[38;5;241m0.\u001b[39m, x[\u001b[38;5;241m0\u001b[39m], x[\u001b[38;5;241m1\u001b[39m]], [params\u001b[38;5;241m.\u001b[39mget(\u001b[38;5;124m'\u001b[39m\u001b[38;5;124mvelocity\u001b[39m\u001b[38;5;124m'\u001b[39m, \u001b[38;5;241m1\u001b[39m), u[\u001b[38;5;241m0\u001b[39m]], params)[\u001b[38;5;241m1\u001b[39m:],\n\u001b[1;32m   (...)\u001b[0m\n\u001b[0;32m      7\u001b[0m     states\u001b[38;5;241m=\u001b[39m\u001b[38;5;241m2\u001b[39m, name\u001b[38;5;241m=\u001b[39m\u001b[38;5;124m'\u001b[39m\u001b[38;5;124mlateral\u001b[39m\u001b[38;5;124m'\u001b[39m, inputs\u001b[38;5;241m=\u001b[39m(\u001b[38;5;124m'\u001b[39m\u001b[38;5;124mw\u001b[39m\u001b[38;5;124m'\u001b[39m), outputs\u001b[38;5;241m=\u001b[39m(\u001b[38;5;124m'\u001b[39m\u001b[38;5;124my\u001b[39m\u001b[38;5;124m'\u001b[39m)\n\u001b[0;32m      8\u001b[0m )\n\u001b[0;32m     10\u001b[0m \u001b[38;5;66;03m# Compute the linearization at velocity v0 = 0.1 m/sec\u001b[39;00m\n\u001b[1;32m---> 11\u001b[0m lateral_linearized \u001b[38;5;241m=\u001b[39m \u001b[43mct\u001b[49m\u001b[38;5;241;43m.\u001b[39;49m\u001b[43mlinearize\u001b[49m\u001b[43m(\u001b[49m\u001b[43mlateral\u001b[49m\u001b[43m,\u001b[49m\u001b[43m \u001b[49m\u001b[43m[\u001b[49m\u001b[38;5;241;43m0\u001b[39;49m\u001b[43m,\u001b[49m\u001b[43m \u001b[49m\u001b[38;5;241;43m0\u001b[39;49m\u001b[43m]\u001b[49m\u001b[43m,\u001b[49m\u001b[43m \u001b[49m\u001b[43m[\u001b[49m\u001b[38;5;241;43m0\u001b[39;49m\u001b[43m]\u001b[49m\u001b[43m,\u001b[49m\u001b[43m \u001b[49m\u001b[43mparams\u001b[49m\u001b[38;5;241;43m=\u001b[39;49m\u001b[43mbot_params\u001b[49m\u001b[43m)\u001b[49m\n\u001b[0;32m     13\u001b[0m \u001b[38;5;66;03m# Save the system matrices for later use\u001b[39;00m\n\u001b[0;32m     14\u001b[0m A \u001b[38;5;241m=\u001b[39m lateral_linearized\u001b[38;5;241m.\u001b[39mA\n",
      "File \u001b[1;32mc:\\Users\\felix\\anaconda3\\envs\\CS2\\lib\\site-packages\\control\\nlsys.py:1977\u001b[0m, in \u001b[0;36mlinearize\u001b[1;34m(sys, xeq, ueq, t, params, **kw)\u001b[0m\n\u001b[0;32m   1975\u001b[0m \u001b[38;5;28;01mif\u001b[39;00m \u001b[38;5;129;01mnot\u001b[39;00m \u001b[38;5;28misinstance\u001b[39m(sys, InputOutputSystem):\n\u001b[0;32m   1976\u001b[0m     \u001b[38;5;28;01mraise\u001b[39;00m \u001b[38;5;167;01mTypeError\u001b[39;00m(\u001b[38;5;124m\"\u001b[39m\u001b[38;5;124mCan only linearize InputOutputSystem types\u001b[39m\u001b[38;5;124m\"\u001b[39m)\n\u001b[1;32m-> 1977\u001b[0m \u001b[38;5;28;01mreturn\u001b[39;00m sys\u001b[38;5;241m.\u001b[39mlinearize(xeq, ueq, t\u001b[38;5;241m=\u001b[39mt, params\u001b[38;5;241m=\u001b[39mparams, \u001b[38;5;241m*\u001b[39m\u001b[38;5;241m*\u001b[39mkw)\n",
      "File \u001b[1;32mc:\\Users\\felix\\anaconda3\\envs\\CS2\\lib\\site-packages\\control\\nlsys.py:536\u001b[0m, in \u001b[0;36mNonlinearIOSystem.linearize\u001b[1;34m(self, x0, u0, t, params, eps, name, copy_names, **kwargs)\u001b[0m\n\u001b[0;32m    533\u001b[0m     u0 \u001b[38;5;241m=\u001b[39m np\u001b[38;5;241m.\u001b[39mones((ninputs,)) \u001b[38;5;241m*\u001b[39m u0\n\u001b[0;32m    535\u001b[0m \u001b[38;5;66;03m# Compute number of outputs by evaluating the output function\u001b[39;00m\n\u001b[1;32m--> 536\u001b[0m noutputs \u001b[38;5;241m=\u001b[39m _find_size(\u001b[38;5;28mself\u001b[39m\u001b[38;5;241m.\u001b[39mnoutputs, \u001b[38;5;28;43mself\u001b[39;49m\u001b[38;5;241;43m.\u001b[39;49m\u001b[43m_out\u001b[49m\u001b[43m(\u001b[49m\u001b[43mt\u001b[49m\u001b[43m,\u001b[49m\u001b[43m \u001b[49m\u001b[43mx0\u001b[49m\u001b[43m,\u001b[49m\u001b[43m \u001b[49m\u001b[43mu0\u001b[49m\u001b[43m)\u001b[49m)\n\u001b[0;32m    538\u001b[0m \u001b[38;5;66;03m# Update the current parameters\u001b[39;00m\n\u001b[0;32m    539\u001b[0m \u001b[38;5;28mself\u001b[39m\u001b[38;5;241m.\u001b[39m_update_params(params)\n",
      "File \u001b[1;32mc:\\Users\\felix\\anaconda3\\envs\\CS2\\lib\\site-packages\\control\\nlsys.py:417\u001b[0m, in \u001b[0;36mNonlinearIOSystem._out\u001b[1;34m(self, t, x, u)\u001b[0m\n\u001b[0;32m    408\u001b[0m \u001b[38;5;28;01mdef\u001b[39;00m \u001b[38;5;21m_out\u001b[39m(\u001b[38;5;28mself\u001b[39m, t, x, u):\n\u001b[0;32m    409\u001b[0m \u001b[38;5;250m    \u001b[39m\u001b[38;5;124;03m\"\"\"Evaluate the output of a system at a given state, input, and time\u001b[39;00m\n\u001b[0;32m    410\u001b[0m \n\u001b[0;32m    411\u001b[0m \u001b[38;5;124;03m    Private function used to compute the output of of an input/output\u001b[39;00m\n\u001b[1;32m   (...)\u001b[0m\n\u001b[0;32m    415\u001b[0m \n\u001b[0;32m    416\u001b[0m \u001b[38;5;124;03m    \"\"\"\u001b[39;00m\n\u001b[1;32m--> 417\u001b[0m     y \u001b[38;5;241m=\u001b[39m \u001b[38;5;28;43mself\u001b[39;49m\u001b[38;5;241;43m.\u001b[39;49m\u001b[43moutfcn\u001b[49m\u001b[43m(\u001b[49m\u001b[43mt\u001b[49m\u001b[43m,\u001b[49m\u001b[43m \u001b[49m\u001b[43mx\u001b[49m\u001b[43m,\u001b[49m\u001b[43m \u001b[49m\u001b[43mu\u001b[49m\u001b[43m,\u001b[49m\u001b[43m \u001b[49m\u001b[38;5;28;43mself\u001b[39;49m\u001b[38;5;241;43m.\u001b[39;49m\u001b[43m_current_params\u001b[49m\u001b[43m)\u001b[49m \\\n\u001b[0;32m    418\u001b[0m         \u001b[38;5;28;01mif\u001b[39;00m \u001b[38;5;28mself\u001b[39m\u001b[38;5;241m.\u001b[39moutfcn \u001b[38;5;129;01mis\u001b[39;00m \u001b[38;5;129;01mnot\u001b[39;00m \u001b[38;5;28;01mNone\u001b[39;00m \u001b[38;5;28;01melse\u001b[39;00m x\n\u001b[0;32m    419\u001b[0m     \u001b[38;5;28;01mreturn\u001b[39;00m np\u001b[38;5;241m.\u001b[39marray(y)\u001b[38;5;241m.\u001b[39mreshape((\u001b[38;5;241m-\u001b[39m\u001b[38;5;241m1\u001b[39m,))\n",
      "Cell \u001b[1;32mIn[10], line 5\u001b[0m, in \u001b[0;36m<lambda>\u001b[1;34m(t, x, u, params)\u001b[0m\n\u001b[0;32m      1\u001b[0m \u001b[38;5;66;03m# Define the lateral dynamics as a subset of the full CS2 Bot steering dynamics\u001b[39;00m\n\u001b[0;32m      2\u001b[0m lateral \u001b[38;5;241m=\u001b[39m ct\u001b[38;5;241m.\u001b[39mNonlinearIOSystem(\n\u001b[0;32m      3\u001b[0m     \u001b[38;5;28;01mlambda\u001b[39;00m t, x, u, params: duckiebot\u001b[38;5;241m.\u001b[39municycle_update(\n\u001b[0;32m      4\u001b[0m         t, [\u001b[38;5;241m0.\u001b[39m, x[\u001b[38;5;241m0\u001b[39m], x[\u001b[38;5;241m1\u001b[39m]], [params\u001b[38;5;241m.\u001b[39mget(\u001b[38;5;124m'\u001b[39m\u001b[38;5;124mvelocity\u001b[39m\u001b[38;5;124m'\u001b[39m, \u001b[38;5;241m1\u001b[39m), u[\u001b[38;5;241m0\u001b[39m]], params)[\u001b[38;5;241m1\u001b[39m:],\n\u001b[1;32m----> 5\u001b[0m     \u001b[38;5;28;01mlambda\u001b[39;00m t, x, u, params: \u001b[43mduckiebot\u001b[49m\u001b[38;5;241m.\u001b[39municycle_output(\n\u001b[0;32m      6\u001b[0m         t, [\u001b[38;5;241m0.\u001b[39m, x[\u001b[38;5;241m0\u001b[39m], x[\u001b[38;5;241m1\u001b[39m]], [params\u001b[38;5;241m.\u001b[39mget(\u001b[38;5;124m'\u001b[39m\u001b[38;5;124mvelocity\u001b[39m\u001b[38;5;124m'\u001b[39m, \u001b[38;5;241m1\u001b[39m), u[\u001b[38;5;241m0\u001b[39m]], params)[\u001b[38;5;241m1\u001b[39m:],\n\u001b[0;32m      7\u001b[0m     states\u001b[38;5;241m=\u001b[39m\u001b[38;5;241m2\u001b[39m, name\u001b[38;5;241m=\u001b[39m\u001b[38;5;124m'\u001b[39m\u001b[38;5;124mlateral\u001b[39m\u001b[38;5;124m'\u001b[39m, inputs\u001b[38;5;241m=\u001b[39m(\u001b[38;5;124m'\u001b[39m\u001b[38;5;124mw\u001b[39m\u001b[38;5;124m'\u001b[39m), outputs\u001b[38;5;241m=\u001b[39m(\u001b[38;5;124m'\u001b[39m\u001b[38;5;124my\u001b[39m\u001b[38;5;124m'\u001b[39m)\n\u001b[0;32m      8\u001b[0m )\n\u001b[0;32m     10\u001b[0m \u001b[38;5;66;03m# Compute the linearization at velocity v0 = 0.1 m/sec\u001b[39;00m\n\u001b[0;32m     11\u001b[0m lateral_linearized \u001b[38;5;241m=\u001b[39m ct\u001b[38;5;241m.\u001b[39mlinearize(lateral, [\u001b[38;5;241m0\u001b[39m, \u001b[38;5;241m0\u001b[39m], [\u001b[38;5;241m0\u001b[39m], params\u001b[38;5;241m=\u001b[39mbot_params)\n",
      "\u001b[1;31mNameError\u001b[0m: name 'duckiebot' is not defined"
     ]
    }
   ],
   "source": [
    "# Define the lateral dynamics as a subset of the full CS2 Bot steering dynamics\n",
    "lateral = ct.NonlinearIOSystem(\n",
    "    lambda t, x, u, params: duckiebot.unicycle_update(\n",
    "        t, [0., x[0], x[1]], [params.get('velocity', 1), u[0]], params)[1:],\n",
    "    lambda t, x, u, params: duckiebot.unicycle_output(\n",
    "        t, [0., x[0], x[1]], [params.get('velocity', 1), u[0]], params)[1:],\n",
    "    states=2, name='lateral', inputs=('w'), outputs=('y')\n",
    ")\n",
    "\n",
    "# Compute the linearization at velocity v0 = 0.1 m/sec\n",
    "lateral_linearized = ct.linearize(lateral, [0, 0], [0], params=bot_params)\n",
    "\n",
    "# Save the system matrices for later use\n",
    "A = lateral_linearized.A\n",
    "B = lateral_linearized.B\n",
    "C = lateral_linearized.C\n",
    "D = lateral_linearized.D\n",
    "print(\"A =\", A)\n",
    "print(\"B =\", B)\n",
    "print(\"C =\", C)\n",
    "print(\"D =\", D)"
   ]
  },
  {
   "cell_type": "markdown",
   "metadata": {},
   "source": [
    "## Adding Noise\n",
    "\n",
    "A certain type of noise will be affecting the system. Choose the noise type which you would like to test in `index_noise`, where you change the integer number to the noise index you want test. Index `index_noise = 0` corresponds to a constant noise (i.e. constant shift of the states), index `index_noise = 1` is a random uniform noise, `index_noise = 2` is white noise and `index_noise = 3` no noise."
   ]
  },
  {
   "cell_type": "code",
   "execution_count": null,
   "metadata": {},
   "outputs": [],
   "source": [
    "noise_type = ['const', 'uniform', 'white_noise', 'no_noise']\n",
    "index_noise = 1\n",
    "noise = noise_type[index_noise]\n",
    "if noise == 'const':\n",
    "    n = np.ones(r.shape)*0.5\n",
    "elif noise=='uniform':\n",
    "    n = np.random.uniform(low=-0.1, high=0.1, size=r.shape)\n",
    "elif noise=='white_noise':\n",
    "    Rw_lat = np.diag([0.001])\n",
    "    n = ct.white_noise(t, Rw_lat)\n",
    "else:\n",
    "    n = np.zeros(r.shape)\n",
    "U = np.concatenate((r, n))"
   ]
  },
  {
   "cell_type": "markdown",
   "metadata": {},
   "source": [
    "## Implementing Q-Parametrization\n",
    "\n",
    "Recall the structure of the Dynamic Output Feedback Compensator (DOFB) from lecture 05. The following block-diagram shows how Q-parametrization is introduced. \n",
    "The signal $v$ is the output and the signal $h$ is the input to $Q$. In lecture 05 we observed that the reference $r$ does not affect the innovation $ \\eta = y - \\hat{y} $. This implies, that $v$ also has no influence on $h$ and thus the total system is stable if the parameter $Q$ is stable. This is assuming that the controller and the observer are stable on their own already. \n",
    "\n",
    "In the following tasks we will introduce the Q-parametrization to the DOFB from lecture 05."
   ]
  },
  {
   "cell_type": "markdown",
   "metadata": {},
   "source": [
    "<img src=\"images/blockdiagram_q_param.png\" alt=\"Duckie Bot\" width=\"600\"/>"
   ]
  },
  {
   "cell_type": "markdown",
   "metadata": {},
   "source": [
    "## Task 1.1 \n",
    "Before we can introduce a $Q$-block, we need to find the transfer-function of the plant $P$. For this you can use the already computed system matrices A, B, C, D.\n",
    "Also, we need to set the state-feedback gain $K$ as well as the observer gain $L$.\n",
    "You can use `ct.acker` to place the poles."
   ]
  },
  {
   "cell_type": "code",
   "execution_count": null,
   "metadata": {},
   "outputs": [
    {
     "ename": "NameError",
     "evalue": "name 'A' is not defined",
     "output_type": "error",
     "traceback": [
      "\u001b[1;31m---------------------------------------------------------------------------\u001b[0m",
      "\u001b[1;31mNameError\u001b[0m                                 Traceback (most recent call last)",
      "Cell \u001b[1;32mIn[11], line 2\u001b[0m\n\u001b[0;32m      1\u001b[0m \u001b[38;5;66;03m# Define the transfer function of the Plant P\u001b[39;00m\n\u001b[1;32m----> 2\u001b[0m P \u001b[38;5;241m=\u001b[39m ct\u001b[38;5;241m.\u001b[39mss2tf(\u001b[43mA\u001b[49m,B,C,D)\n\u001b[0;32m      4\u001b[0m \u001b[38;5;66;03m# Setting the poles of the controller and observer\u001b[39;00m\n\u001b[0;32m      5\u001b[0m poles_controller \u001b[38;5;241m=\u001b[39m [\u001b[38;5;241m-\u001b[39m\u001b[38;5;241m0.1\u001b[39m, \u001b[38;5;241m-\u001b[39m\u001b[38;5;241m0.1\u001b[39m] \u001b[38;5;66;03m# Try to change it\u001b[39;00m\n",
      "\u001b[1;31mNameError\u001b[0m: name 'A' is not defined"
     ]
    }
   ],
   "source": [
    "# Define the transfer function of the Plant P\n",
    "P = ct.ss2tf(A,B,C,D)\n",
    "\n",
    "# Setting the poles of the controller and observer\n",
    "poles_controller = [-0.1, -0.1] # Try to change it\n",
    "poles_observer = [-1, -1] # Try to change it\n",
    "\n",
    "# Compute the controller and observer gains\n",
    "K = ct.acker(A, B, poles_controller)\n",
    "L = ct.acker(A.T, C.T, poles_observer).T"
   ]
  },
  {
   "cell_type": "markdown",
   "metadata": {},
   "source": [
    "## Exercise 1.2\n",
    "Next, we will need to define the Q-block. As seen in the lecture, Q needs to be stable, proper and rational.\n",
    "Define the transfer function `Q` and the state-space representation `sys_q`. Print the poles to double check stability of Q.\n",
    "\n",
    "Start with the transfer function\n",
    "$$ Q = \\frac{s}{s+1} .$$\n",
    "After you solved all parts of the exercise, you can come back and change the transfer function to see the effect on the stabilizing controller."
   ]
  },
  {
   "cell_type": "code",
   "execution_count": null,
   "metadata": {},
   "outputs": [],
   "source": [
    "# Define the transfer function for the parameter Q\n",
    "Q = ct.TransferFunction([1, 0], [1, 1],name='Q')\n",
    "\n",
    "# Compute the state-space representation of Q\n",
    "sys_q = ct.tf2ss(Q)\n",
    "\n",
    "# Compute the poles of Q and print the result\n",
    "qpoles = ct.poles(Q)\n",
    "print(qpoles)"
   ]
  },
  {
   "cell_type": "markdown",
   "metadata": {},
   "source": [
    "## Exercise 1.3\n",
    "Now that we have all the components of the system, we can compute the state-space representation of the full closed loop system.\n",
    "We receive the total state vector of the system by stacking the states of the Plant $P$, the states of the $Q$-Block and the innovation $\\eta$:\n",
    "$$ x_{cl} = \\left [ \\begin{array}{c} x \\\\ x_{Q} \\\\ \\eta \\end{array} \\right]. $$\n",
    "\n",
    "Recall that the we can choose the A-matrices of the state-feedback subsystem and the observer subsystem with pole placement independently. This also applies to the $Q$-Block. Thus you can compute the matrices for these subsystems individually before stacking them.\n",
    "\n",
    "Compute the A-submatrices of the state-feedback and observer system, $ABK$ and $ALC$ respectively."
   ]
  },
  {
   "cell_type": "code",
   "execution_count": null,
   "metadata": {},
   "outputs": [],
   "source": [
    "# Find the A-matrix of the state-feedback subsystem\n",
    "ABK = A - B @ K\n",
    "\n",
    "# Find the A matrix of the observer subsystem\n",
    "ALC = A - L @ C"
   ]
  },
  {
   "cell_type": "markdown",
   "metadata": {},
   "source": [
    "## Exercise 1.4\n",
    "Calculate the total closed-loop system matrices $A_{cl}$, $B_{cl}$, $C_{cl}$, $D_{cl}$. You can do this by concatenating the different terms that appear in the total closed loop system.\n",
    "\n",
    "Hint: You will also need the terms $BC_Q$, $BK$ and $B_QC$."
   ]
  },
  {
   "cell_type": "code",
   "execution_count": null,
   "metadata": {},
   "outputs": [
    {
     "ename": "NameError",
     "evalue": "name 'B' is not defined",
     "output_type": "error",
     "traceback": [
      "\u001b[1;31m---------------------------------------------------------------------------\u001b[0m",
      "\u001b[1;31mNameError\u001b[0m                                 Traceback (most recent call last)",
      "Cell \u001b[1;32mIn[12], line 2\u001b[0m\n\u001b[0;32m      1\u001b[0m \u001b[38;5;66;03m# Define the three additional matrices we need\u001b[39;00m\n\u001b[1;32m----> 2\u001b[0m BCQ \u001b[38;5;241m=\u001b[39m \u001b[43mB\u001b[49m \u001b[38;5;241m@\u001b[39m sys_q\u001b[38;5;241m.\u001b[39mC\n\u001b[0;32m      3\u001b[0m BK \u001b[38;5;241m=\u001b[39m B \u001b[38;5;241m@\u001b[39m K\n\u001b[0;32m      4\u001b[0m BQC \u001b[38;5;241m=\u001b[39m sys_q\u001b[38;5;241m.\u001b[39mB \u001b[38;5;241m@\u001b[39m C\n",
      "\u001b[1;31mNameError\u001b[0m: name 'B' is not defined"
     ]
    }
   ],
   "source": [
    "# Define the three additional matrices we need\n",
    "BCQ = B @ sys_q.C\n",
    "BK = B @ K\n",
    "BQC = sys_q.B @ C\n",
    "\n",
    "# Find the A matrix of the full closed loop system\n",
    "#Concatenate the evaluated submatrices to find the first row of the total A matrix\n",
    "Acl_1 = np.concatenate((ABK, BCQ, -BK), axis=1)\n",
    "\n",
    "# Define the shape of the zeros-matrix at position (2,1)\n",
    "zeros_21 = np.zeros((sys_q.A.shape[0], ABK.shape[1]))\n",
    "\n",
    "#Concatenate the evaluated submatrices to find the second row of the total A matrix\n",
    "Acl_2 = np.concatenate((zeros_21, sys_q.A, BQC), axis=1)\n",
    "\n",
    "# Define the shape of the zeros-matrix at position (3, 1)\n",
    "zeros_31 = np.zeros((ABK.shape[0], ABK.shape[1]))\n",
    "\n",
    "# Define the shape of the zeros-matrix at position (3, 2)\n",
    "zeros_32 = np.zeros((A.shape[0], sys_q.A.shape[1]))\n",
    "\n",
    "#Concatenate the evaluated submatrices to find the third row of the total A matrix\n",
    "Acl_3 = np.concatenate((zeros_31, zeros_32, ALC), axis=1)\n",
    "\n",
    "# Concatenate the three evaluated rows to find the total A matrix\n",
    "Acl = np.concatenate((Acl_1, Acl_2, Acl_3), axis=0)\n",
    "\n",
    "\n",
    "\n",
    "# Find the B matrix of the full closed loop system\n",
    "# Find the components of the first row of the total B matrix\n",
    "B_11 = B\n",
    "B_12 = np.zeros((ABK.shape[0], 1))\n",
    "\n",
    "# Find the first row of the total B matrix\n",
    "B_1 = np.concatenate((B_11, B_12), axis=1)\n",
    "\n",
    "# Find the components of the first row of the total B matrix\n",
    "B_21 = np.zeros((ABK.shape[0] + sys_q.A.shape[0], 1))\n",
    "B_22 = np.ones((ABK.shape[0] + sys_q.A.shape[0], 1))\n",
    "\n",
    "# Find the second row of the total B matrix\n",
    "B_2 = np.concatenate((B_21, B_22), axis=1)\n",
    "\n",
    "# Concatenate the three evaluated rows to find the total B matrix\n",
    "Bcl = np.concatenate((B_1, B_2), axis=0)\n",
    "\n",
    "\n",
    "\n",
    "# Find the C matrix of the full closed loop system\n",
    "C_1 = np.zeros((1, Acl.shape[0]))\n",
    "C_1[0][0] = 1\n",
    "C_2 = np.concatenate((np.zeros((C.shape)), sys_q.C, np.zeros((C.shape))), axis=1)\n",
    "\n",
    "# Concatenate the two evaluated rows to find the total C matrix\n",
    "Ccl = np.concatenate((C_1, C_2), axis=0)\n",
    "\n",
    "\n",
    "\n",
    "# Find the D matrix of the full closed loop system\n",
    "Dcl = np.zeros((2, 2))\n",
    "\n",
    "\n",
    "\n",
    "# Define the full closed loop system\n",
    "syscl = ct.ss(Acl, Bcl, Ccl, Dcl)\n",
    "\n",
    "# Print the full closed loop system\n",
    "print(syscl)"
   ]
  },
  {
   "cell_type": "markdown",
   "metadata": {},
   "source": [
    "The next code snippet simulates the response of the total system."
   ]
  },
  {
   "cell_type": "code",
   "execution_count": null,
   "metadata": {},
   "outputs": [],
   "source": [
    "x_0 = np.zeros((Acl.shape[0],))\n",
    "x_0[0] = 0.2 #define initial position\n",
    "\n",
    "t, yout, xf = ct.forced_response(syscl, T_curvy, U, X0 = x_0, return_x=True)\n",
    "yf = yout[0]\n",
    "v = yout[1]\n",
    "omegaf = - K @ xf[:2] + y_ref + v\n",
    "omegaf = omegaf[0]"
   ]
  },
  {
   "cell_type": "markdown",
   "metadata": {},
   "source": [
    "Finally, we can visualize the performance of the system. "
   ]
  },
  {
   "cell_type": "code",
   "execution_count": null,
   "metadata": {},
   "outputs": [],
   "source": [
    "x_ref = x_curvy[0]\n",
    "theta_ref = x_curvy[2]\n",
    "omega_ref = w_curvy\n",
    "y = np.array([yf])\n",
    "omega = np.array([omegaf])\n",
    "\n",
    "duckiebot.plot_track_multiple_controller(x_ref, y_ref, theta_ref, t, omega_ref, y, omega, ['Test'])"
   ]
  },
  {
   "cell_type": "markdown",
   "metadata": {},
   "source": [
    "Feel free to go back to the exercises and try different $Q$ transfer-functions, poles and iniatial conidtions. Try and observe the effects these changes have on the system by analyzing the plot."
   ]
  },
  {
   "cell_type": "markdown",
   "metadata": {},
   "source": [
    "# Exercise 2: Modern Control Synthesis\n",
    "\n",
    "In this task you will learn how you can use the `control` library to set up your plants for synthesizing a controller. To express performance and stabity contraints you will create frequency weights and compute the augmented generalized plant that can be further used with various methods to synthesize a controller."
   ]
  },
  {
   "cell_type": "markdown",
   "metadata": {},
   "source": [
    "## Plant definition\n",
    "\n",
    "The plant use in this task models the linearized behavior of a simple inverted pendulum an is given as $$P(s) = \\frac{1}{s^2+0.1s-9.81}.$$\n",
    "Note that this plant is unstable and we will need use a controller.\n",
    "\n",
    "Initially we define our controller $C(s)$ to do nothing, i.e. $$C(s) = 1.$$\n"
   ]
  },
  {
   "cell_type": "code",
   "execution_count": 18,
   "metadata": {},
   "outputs": [
    {
     "name": "stdout",
     "output_type": "stream",
     "text": [
      "Plant transfer function:\n"
     ]
    },
    {
     "data": {
      "text/latex": [
       "$$\\frac{1}{s^2 + 0.1 s - 9.81}$$"
      ],
      "text/plain": [
       "TransferFunction(array([1]), array([ 1.  ,  0.1 , -9.81]))"
      ]
     },
     "metadata": {},
     "output_type": "display_data"
    },
    {
     "name": "stdout",
     "output_type": "stream",
     "text": [
      "\n",
      "Controller transfer function:\n"
     ]
    },
    {
     "data": {
      "text/latex": [
       "$$\\frac{1}{1}$$"
      ],
      "text/plain": [
       "TransferFunction(array([1]), array([1]))"
      ]
     },
     "metadata": {},
     "output_type": "display_data"
    }
   ],
   "source": [
    "P_s = ct.TransferFunction([1], [1, 0.1, -9.81], input='u', output='y', name='P(s)')\n",
    "C_s = ct.TransferFunction([1], [1], input='e', output='u', name='C(s)')\n",
    "\n",
    "print(\"Plant transfer function:\")\n",
    "display(P_s)\n",
    "print(\"\\nController transfer function:\")\n",
    "display(C_s)"
   ]
  },
  {
   "cell_type": "markdown",
   "metadata": {},
   "source": [
    "And we can easily check stability with `ct.poles` and see that the plant is unstable and has a pole with negative real part."
   ]
  },
  {
   "cell_type": "code",
   "execution_count": 19,
   "metadata": {},
   "outputs": [
    {
     "data": {
      "text/plain": [
       "array([-3.18249102+0.j,  3.08249102+0.j])"
      ]
     },
     "execution_count": 19,
     "metadata": {},
     "output_type": "execute_result"
    }
   ],
   "source": [
    "ct.poles(P_s)"
   ]
  },
  {
   "cell_type": "markdown",
   "metadata": {},
   "source": [
    "## Frequency Weights\n",
    "\n",
    "<img src=\"images/blockdiagram.png\" alt=\"Block Diagram\" width=\"600\"/>\n",
    "\n",
    "\n",
    "We want to create the two weights $W_1(s)$ and $W_3(s)$ to ensure reference tracking and noise attenuation.\n",
    "\n",
    "Remember how we defined $W_1(s)$ and $W_3(s)$ in the lecture:\n",
    "- $||W_1(s)S(s)|| << 1$ or $\\sigma_{min}[L(s)] >> |W_1(s)|$\n",
    "- $||W_3(s)T(s)|| <<$ 1 or $\\sigma_{max}[L(s)] << \\frac{1}{|W_3(s)|}$\n",
    "\n",
    "Therefore we want $W_1(s)$ to have very large magnitudes at flow frequencies and $W_3(s)$ to have large magnitudes at high frequencies.\n",
    "\n",
    "You first task is to implement functions that create our frequency weights with the definition from Lecutre 9:\n",
    "\n",
    "$$ W_1(s) = \\frac{M}{Ms/\\omega_1 + 1} \\quad \\text{and} \\quad W_3(s) = \\frac{Ms}{s + M\\omega_3}.\n",
    "\n"
   ]
  },
  {
   "cell_type": "code",
   "execution_count": 20,
   "metadata": {},
   "outputs": [],
   "source": [
    "def makeweight_1(M : float, w1 : float) -> ct.TransferFunction:\n",
    "    \"\"\"\n",
    "    Creates a frequency weight transfer function that has:\n",
    "    - magnitude M >> 1 at low frequencies,\n",
    "    - rolls off to zero at high frequencies,\n",
    "    - and has magnitude 1 at the frequency s=j*w1.\n",
    "\n",
    "    Parameters\n",
    "    ----------\n",
    "    - M (float): The desired DC gain of the transfer function.\n",
    "    - w1 (float): The frequency at which the magnitude of the transfer function is 1.\n",
    "\n",
    "    Returns\n",
    "    -------\n",
    "    TransferFunction: The frequency weight transfer function.\n",
    "\n",
    "    \"\"\"\n",
    "    return ct.TransferFunction([1], [1], name='W_1')\n",
    "\n",
    "\n",
    "def makeweight_3(M: float, w3 : float) -> ct.TransferFunction:\n",
    "    \"\"\"\n",
    "    Creates a frequency weight transfer function that has:\n",
    "    - zero DC gain,\n",
    "    - approaches M >> 1 at high frequencies,\n",
    "    - and has magnitude 1 at the frequency s=j*w3.\n",
    "\n",
    "    Parameters\n",
    "    ----------\n",
    "    - M (float): The magnitude of the frequency weighting\n",
    "    - w3: The frequency at which the weighting starts to take effect\n",
    "\n",
    "    Returns\n",
    "    -------\n",
    "    - tf: The transfer function representing the frequency-weighted system\n",
    "    \"\"\"\n",
    "\n",
    "    return ct.TransferFunction([1], [1], name='W_3')"
   ]
  },
  {
   "cell_type": "markdown",
   "metadata": {},
   "source": [
    "Solutions"
   ]
  },
  {
   "cell_type": "code",
   "execution_count": 21,
   "metadata": {},
   "outputs": [],
   "source": [
    "# Solutions\n",
    "def solution_makeweight_1(M : float, w1 : float) -> ct.TransferFunction:\n",
    "    \"\"\"\n",
    "    Creates a frequency weight transfer function that has:\n",
    "    - magnitude M >> 1 at low frequencies,\n",
    "    - rolls off to zero at high frequencies,\n",
    "    - and has magnitude 1 at the frequency s=j*w1.\n",
    "\n",
    "    Parameters\n",
    "    ----------\n",
    "    - M (float): The desired DC gain of the transfer function.\n",
    "    - w1 (float): The frequency at which the magnitude of the transfer function is 1.\n",
    "\n",
    "    Returns\n",
    "    -------\n",
    "    TransferFunction: The frequency weight transfer function.\n",
    "\n",
    "    \"\"\"\n",
    "    return ct.TransferFunction([M], [M/w1, 1], name='W_1')\n",
    "\n",
    "\n",
    "def solution_makeweight_3(M: float, w3 : float) -> ct.TransferFunction:\n",
    "    \"\"\"\n",
    "    Creates a frequency weight transfer function that has:\n",
    "    - zero DC gain,\n",
    "    - approaches M >> 1 at high frequencies,\n",
    "    - and has magnitude 1 at the frequency s=j*w3.\n",
    "\n",
    "    Parameters\n",
    "    ----------\n",
    "    - M (float): The magnitude of the frequency weighting\n",
    "    - w3: The frequency at which the weighting starts to take effect\n",
    "\n",
    "    Returns\n",
    "    -------\n",
    "    - tf: The transfer function representing the frequency-weighted system\n",
    "    \"\"\"\n",
    "\n",
    "    return ct.TransferFunction([M, 0], [1, M*w3], name='W_3')"
   ]
  },
  {
   "cell_type": "markdown",
   "metadata": {},
   "source": [
    "Now define the two weights such that:\n",
    "\n",
    "- $W_1(s)$ has magnitude 100 at low frequencies, rolls off to zero at high frequency, and has magnitude 1 at frequency $\\omega_1 = 0.1 \\text{rad/s}$,\n",
    "- $W_3(s)$ approaches magnitude 100 at high frequencies, has magnitude 1 at frequency $\\omega_3 = 10\\text{rad/s}$ and a zero DC gain."
   ]
  },
  {
   "cell_type": "code",
   "execution_count": 35,
   "metadata": {},
   "outputs": [
    {
     "ename": "AssertionError",
     "evalue": "W_1 is incorrect",
     "output_type": "error",
     "traceback": [
      "\u001b[1;31m---------------------------------------------------------------------------\u001b[0m",
      "\u001b[1;31mAssertionError\u001b[0m                            Traceback (most recent call last)",
      "Cell \u001b[1;32mIn[35], line 10\u001b[0m\n\u001b[0;32m      7\u001b[0m solution_W_3 \u001b[38;5;241m=\u001b[39m solution_makeweight_3(\u001b[38;5;241m100\u001b[39m, \u001b[38;5;241m10\u001b[39m)\n\u001b[0;32m      9\u001b[0m \u001b[38;5;66;03m# Test\u001b[39;00m\n\u001b[1;32m---> 10\u001b[0m \u001b[38;5;28;01massert\u001b[39;00m W_1 \u001b[38;5;241m==\u001b[39m solution_W_1, \u001b[38;5;124m\"\u001b[39m\u001b[38;5;124mW_1 is incorrect\u001b[39m\u001b[38;5;124m\"\u001b[39m\n\u001b[0;32m     11\u001b[0m \u001b[38;5;28;01massert\u001b[39;00m W_3 \u001b[38;5;241m==\u001b[39m solution_W_3, \u001b[38;5;124m\"\u001b[39m\u001b[38;5;124mW_3 is incorrect\u001b[39m\u001b[38;5;124m\"\u001b[39m\n",
      "\u001b[1;31mAssertionError\u001b[0m: W_1 is incorrect"
     ]
    }
   ],
   "source": [
    "W_1 = solution_makeweight_1(100, 0.1)\n",
    "W_3 = solution_makeweight_3(100, 10)\n",
    "\n",
    "\n",
    "# Solutions\n",
    "solution_W_1 = solution_makeweight_1(100, 0.1)\n",
    "solution_W_3 = solution_makeweight_3(100, 10)\n",
    "\n",
    "# Test\n",
    "assert W_1 == solution_W_1, \"W_1 is incorrect\"\n",
    "assert W_3 == solution_W_3, \"W_3 is incorrect\""
   ]
  },
  {
   "cell_type": "markdown",
   "metadata": {},
   "source": [
    "## Visualization of Frequency weights\n",
    "\n",
    "Now let us look at the singular value plots of these frequency weights and compare them to the open-loop transferfunction $L(s)$. Since we want $\\sigma_{min}[L(s)] >> |W_1(s)|$ and $\\sigma_{max}[L(s)] << \\frac{1}{|W_3(s)|}$ We invert the $W_3(s)$"
   ]
  },
  {
   "cell_type": "code",
   "execution_count": 36,
   "metadata": {},
   "outputs": [
    {
     "data": {
      "image/png": "[encoded data removed]",
      "text/plain": [
       "<Figure size 640x480 with 1 Axes>"
      ]
     },
     "metadata": {},
     "output_type": "display_data"
    }
   ],
   "source": [
    "L_s = P_s * C_s\n",
    "L_s.name = 'L(s)'\n",
    "\n",
    "W_3_inverted = 1 / W_3\n",
    "W_3_inverted.name = '1/W_3'\n",
    "\n",
    "_ = ct.singular_values_plot([L_s, solution_W_1, W_3_inverted])"
   ]
  },
  {
   "cell_type": "markdown",
   "metadata": {},
   "source": [
    "## Assembly of the generalized plant\n",
    "\n",
    "We want the open loop transfer function $L(s)$ to lie in between the upper and lower bound given by $W_1(s)$ and $W_3(s)$ respectively. Note that we are dealing with a SISO system and therefore get only one singular value implying $\\sigma_{min}[L(s)] = \\sigma_{max}[L(s)]$.\n",
    "\n",
    "This loop shaping problem boils down to finding a controller $C(s)$ that places $L(s)$ in between our obstacles $W_1(s)$ and $W_3(s)$. We want to find the generalized plant \n",
    "$$ G(s) = \\begin{bmatrix} G_{zw}(s) & G_{zu}(s) \\\\ G_{yw}(s) & G_{yu}(s) \\end{bmatrix},$$\n",
    "\n",
    "which we can then use in a optimization problem to synthesize our controller C(s).\n",
    "\n",
    "One could derive each transfer function by hand and would find that\n",
    "\n",
    "$$ G(s) = \\begin{bmatrix} W_1(s) & -W_1(s)P(s) \\\\ 0 & W_3(s)P(s) \\end{bmatrix},$$\n",
    "\n",
    "or we can use the function `ct.augw(g, w1, w2, w3)` from the `control` library. \\\n",
    "**Caution:** due to a different nomenclature `g` corresponds to the plant $P(s)$ and **NOT** the generalized plant $G(s)$!\n"
   ]
  },
  {
   "cell_type": "code",
   "execution_count": 37,
   "metadata": {},
   "outputs": [
    {
     "data": {
      "text/latex": [
       "$$\n",
       "\\left(\\begin{array}{rllrllrllrll|rllrll}\n",
       "-0.&\\hspace{-1em}001&\\hspace{-1em}\\phantom{\\cdot}&0\\phantom{.}&\\hspace{-1em}&\\hspace{-1em}\\phantom{\\cdot}&0\\phantom{.}&\\hspace{-1em}&\\hspace{-1em}\\phantom{\\cdot}&0.&\\hspace{-1em}1&\\hspace{-1em}\\phantom{\\cdot}&1\\phantom{.}&\\hspace{-1em}&\\hspace{-1em}\\phantom{\\cdot}&0\\phantom{.}&\\hspace{-1em}&\\hspace{-1em}\\phantom{\\cdot}\\\\\n",
       "0\\phantom{.}&\\hspace{-1em}&\\hspace{-1em}\\phantom{\\cdot}&-1\\phantom{.}&\\hspace{-1em}&\\hspace{-1em}\\cdot10^{3}&0\\phantom{.}&\\hspace{-1em}&\\hspace{-1em}\\phantom{\\cdot}&-10\\phantom{.}&\\hspace{-1em}&\\hspace{-1em}\\phantom{\\cdot}&0\\phantom{.}&\\hspace{-1em}&\\hspace{-1em}\\phantom{\\cdot}&0\\phantom{.}&\\hspace{-1em}&\\hspace{-1em}\\phantom{\\cdot}\\\\\n",
       "0\\phantom{.}&\\hspace{-1em}&\\hspace{-1em}\\phantom{\\cdot}&0\\phantom{.}&\\hspace{-1em}&\\hspace{-1em}\\phantom{\\cdot}&-0.&\\hspace{-1em}1&\\hspace{-1em}\\phantom{\\cdot}&0.&\\hspace{-1em}981&\\hspace{-1em}\\phantom{\\cdot}&0\\phantom{.}&\\hspace{-1em}&\\hspace{-1em}\\phantom{\\cdot}&-1\\phantom{.}&\\hspace{-1em}&\\hspace{-1em}\\phantom{\\cdot}\\\\\n",
       "0\\phantom{.}&\\hspace{-1em}&\\hspace{-1em}\\phantom{\\cdot}&0\\phantom{.}&\\hspace{-1em}&\\hspace{-1em}\\phantom{\\cdot}&10\\phantom{.}&\\hspace{-1em}&\\hspace{-1em}\\phantom{\\cdot}&0\\phantom{.}&\\hspace{-1em}&\\hspace{-1em}\\phantom{\\cdot}&0\\phantom{.}&\\hspace{-1em}&\\hspace{-1em}\\phantom{\\cdot}&0\\phantom{.}&\\hspace{-1em}&\\hspace{-1em}\\phantom{\\cdot}\\\\\n",
       "\\hline\n",
       "0.&\\hspace{-1em}1&\\hspace{-1em}\\phantom{\\cdot}&0\\phantom{.}&\\hspace{-1em}&\\hspace{-1em}\\phantom{\\cdot}&0\\phantom{.}&\\hspace{-1em}&\\hspace{-1em}\\phantom{\\cdot}&0\\phantom{.}&\\hspace{-1em}&\\hspace{-1em}\\phantom{\\cdot}&0\\phantom{.}&\\hspace{-1em}&\\hspace{-1em}\\phantom{\\cdot}&0\\phantom{.}&\\hspace{-1em}&\\hspace{-1em}\\phantom{\\cdot}\\\\\n",
       "0\\phantom{.}&\\hspace{-1em}&\\hspace{-1em}\\phantom{\\cdot}&-1\\phantom{.}&\\hspace{-1em}&\\hspace{-1em}\\cdot10^{3}&0\\phantom{.}&\\hspace{-1em}&\\hspace{-1em}\\phantom{\\cdot}&-10\\phantom{.}&\\hspace{-1em}&\\hspace{-1em}\\phantom{\\cdot}&0\\phantom{.}&\\hspace{-1em}&\\hspace{-1em}\\phantom{\\cdot}&0\\phantom{.}&\\hspace{-1em}&\\hspace{-1em}\\phantom{\\cdot}\\\\\n",
       "0\\phantom{.}&\\hspace{-1em}&\\hspace{-1em}\\phantom{\\cdot}&0\\phantom{.}&\\hspace{-1em}&\\hspace{-1em}\\phantom{\\cdot}&0\\phantom{.}&\\hspace{-1em}&\\hspace{-1em}\\phantom{\\cdot}&0.&\\hspace{-1em}1&\\hspace{-1em}\\phantom{\\cdot}&1\\phantom{.}&\\hspace{-1em}&\\hspace{-1em}\\phantom{\\cdot}&0\\phantom{.}&\\hspace{-1em}&\\hspace{-1em}\\phantom{\\cdot}\\\\\n",
       "\\end{array}\\right)\n",
       "$$"
      ],
      "text/plain": [
       "StateSpace(array([[-1.00e-03,  0.00e+00,  0.00e+00,  1.00e-01],\n",
       "       [ 0.00e+00, -1.00e+03,  0.00e+00, -1.00e+01],\n",
       "       [ 0.00e+00,  0.00e+00, -1.00e-01,  9.81e-01],\n",
       "       [ 0.00e+00,  0.00e+00,  1.00e+01,  0.00e+00]]), array([[ 1.,  0.],\n",
       "       [ 0.,  0.],\n",
       "       [ 0., -1.],\n",
       "       [ 0.,  0.]]), array([[ 1.e-01,  0.e+00,  0.e+00,  0.e+00],\n",
       "       [ 0.e+00, -1.e+03,  0.e+00, -1.e+01],\n",
       "       [ 0.e+00,  0.e+00,  0.e+00,  1.e-01]]), array([[0., 0.],\n",
       "       [0., 0.],\n",
       "       [1., 0.]]))"
      ]
     },
     "metadata": {},
     "output_type": "display_data"
    }
   ],
   "source": [
    "G_s = ct.augw(P_s, w1=W_1, w2=None, w3=W_3)\n",
    "\n",
    "display(G_s)"
   ]
  },
  {
   "cell_type": "markdown",
   "metadata": {},
   "source": [
    "Now we can use e.g. $H_2$ optimal control to synthesize our controller."
   ]
  }
 ],
 "metadata": {
  "kernelspec": {
   "display_name": "CS2",
   "language": "python",
   "name": "python3"
  },
  "language_info": {
   "codemirror_mode": {
    "name": "ipython",
    "version": 3
   },
   "file_extension": ".py",
   "mimetype": "text/x-python",
   "name": "python",
   "nbconvert_exporter": "python",
   "pygments_lexer": "ipython3",
   "version": "3.10.13"
  }
 },
 "nbformat": 4,
 "nbformat_minor": 2
}
