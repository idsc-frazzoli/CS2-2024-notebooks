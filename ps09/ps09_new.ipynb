{
 "cells": [
  {
   "cell_type": "markdown",
   "metadata": {},
   "source": [
    "# CSII 2024 Exercise 09: Separation Principle, LQG, Stability Margins\n",
    "&copy; 2024 ETH Zurich, Timm Grigat, Suno Dieckmann, Dejan Milojevic, Niclas Scheuer, Roy Werder; Institute for Dynamic Systems and Control; Prof. Emilio Frazzoli\n",
    "\n",
    "## Description\n",
    "This week's Jupyter notebook will include the small-gain theorem, the stability of feedback control schemes, and performance robustness. "
   ]
  },
  {
   "cell_type": "code",
   "execution_count": 1,
   "metadata": {},
   "outputs": [
    {
     "name": "stdout",
     "output_type": "stream",
     "text": [
      "Note: you may need to restart the kernel to use updated packages.Processing c:\\cs2solutions\\cs2solutions\n",
      "  Installing build dependencies: started\n",
      "  Installing build dependencies: finished with status 'done'\n",
      "  Getting requirements to build wheel: started\n",
      "  Getting requirements to build wheel: finished with status 'done'\n",
      "  Installing backend dependencies: started\n",
      "  Installing backend dependencies: finished with status 'done'\n",
      "  Preparing metadata (pyproject.toml): started\n",
      "  Preparing metadata (pyproject.toml): finished with status 'done'\n",
      "Collecting scipy\n",
      "  Using cached scipy-1.13.0-cp310-cp310-win_amd64.whl (46.2 MB)\n",
      "Collecting sympy\n",
      "  Using cached sympy-1.12-py3-none-any.whl (5.7 MB)\n",
      "Collecting numpy\n",
      "  Using cached numpy-1.26.4-cp310-cp310-win_amd64.whl (15.8 MB)\n",
      "Collecting control\n",
      "  Using cached control-0.10.0-py3-none-any.whl (513 kB)\n",
      "Collecting matplotlib\n",
      "  Using cached matplotlib-3.8.4-cp310-cp310-win_amd64.whl (7.7 MB)\n",
      "Collecting pyparsing>=2.3.1\n",
      "  Using cached pyparsing-3.1.2-py3-none-any.whl (103 kB)\n",
      "Collecting fonttools>=4.22.0\n",
      "  Using cached fonttools-4.51.0-cp310-cp310-win_amd64.whl (2.2 MB)\n",
      "Collecting pillow>=8\n",
      "  Using cached pillow-10.3.0-cp310-cp310-win_amd64.whl (2.5 MB)\n",
      "Collecting contourpy>=1.0.1\n",
      "  Using cached contourpy-1.2.1-cp310-cp310-win_amd64.whl (187 kB)\n",
      "Collecting cycler>=0.10\n",
      "  Using cached cycler-0.12.1-py3-none-any.whl (8.3 kB)\n",
      "Collecting packaging>=20.0\n",
      "  Using cached packaging-24.0-py3-none-any.whl (53 kB)\n",
      "Collecting kiwisolver>=1.3.1\n",
      "  Using cached kiwisolver-1.4.5-cp310-cp310-win_amd64.whl (56 kB)\n",
      "Collecting python-dateutil>=2.7\n",
      "  Using cached python_dateutil-2.9.0.post0-py2.py3-none-any.whl (229 kB)\n",
      "Collecting mpmath>=0.19\n",
      "  Using cached mpmath-1.3.0-py3-none-any.whl (536 kB)\n",
      "Collecting six>=1.5\n",
      "  Using cached six-1.16.0-py2.py3-none-any.whl (11 kB)\n",
      "Building wheels for collected packages: cs2solutions\n",
      "  Building wheel for cs2solutions (pyproject.toml): started\n",
      "  Building wheel for cs2solutions (pyproject.toml): finished with status 'done'\n",
      "  Created wheel for cs2solutions: filename=cs2solutions-0.8.0-py3-none-any.whl size=65333 sha256=b12924e675a676c0cbecd264cbc42024b90947320b76bdb45e965061bf3d4230\n",
      "  Stored in directory: C:\\Users\\nicla\\AppData\\Local\\Temp\\pip-ephem-wheel-cache-sl3mn0bn\\wheels\\92\\f9\\21\\f08fb917c895702049f6b22c5ef45432a96ba015ff3d90ed05\n",
      "Successfully built cs2solutions\n",
      "Installing collected packages: mpmath, sympy, six, pyparsing, pillow, packaging, numpy, kiwisolver, fonttools, cycler, scipy, python-dateutil, contourpy, matplotlib, control, cs2solutions\n",
      "  Attempting uninstall: mpmath\n",
      "    Found existing installation: mpmath 1.3.0\n",
      "    Uninstalling mpmath-1.3.0:\n",
      "      Successfully uninstalled mpmath-1.3.0\n",
      "  Attempting uninstall: sympy\n",
      "    Found existing installation: sympy 1.12\n",
      "    Uninstalling sympy-1.12:\n",
      "      Successfully uninstalled sympy-1.12\n",
      "  Attempting uninstall: six\n",
      "    Found existing installation: six 1.16.0\n",
      "    Uninstalling six-1.16.0:\n",
      "      Successfully uninstalled six-1.16.0\n",
      "  Attempting uninstall: pyparsing\n",
      "    Found existing installation: pyparsing 3.1.2\n",
      "    Uninstalling pyparsing-3.1.2:\n",
      "      Successfully uninstalled pyparsing-3.1.2\n",
      "  Attempting uninstall: pillow\n",
      "    Found existing installation: pillow 10.3.0\n",
      "    Uninstalling pillow-10.3.0:\n",
      "      Successfully uninstalled pillow-10.3.0\n",
      "  Attempting uninstall: packaging\n",
      "    Found existing installation: packaging 24.0\n",
      "    Uninstalling packaging-24.0:\n",
      "      Successfully uninstalled packaging-24.0\n",
      "  Attempting uninstall: numpy\n",
      "    Found existing installation: numpy 1.26.4\n",
      "    Uninstalling numpy-1.26.4:\n",
      "      Successfully uninstalled numpy-1.26.4\n",
      "  Attempting uninstall: kiwisolver\n",
      "    Found existing installation: kiwisolver 1.4.5\n",
      "    Uninstalling kiwisolver-1.4.5:\n",
      "      Successfully uninstalled kiwisolver-1.4.5\n",
      "  Attempting uninstall: fonttools\n",
      "    Found existing installation: fonttools 4.51.0\n",
      "    Uninstalling fonttools-4.51.0:\n",
      "      Successfully uninstalled fonttools-4.51.0\n",
      "  Attempting uninstall: cycler\n",
      "    Found existing installation: cycler 0.12.1\n",
      "    Uninstalling cycler-0.12.1:\n",
      "      Successfully uninstalled cycler-0.12.1\n",
      "  Attempting uninstall: scipy\n",
      "    Found existing installation: scipy 1.13.0\n",
      "    Uninstalling scipy-1.13.0:\n",
      "      Successfully uninstalled scipy-1.13.0\n",
      "  Attempting uninstall: python-dateutil\n",
      "    Found existing installation: python-dateutil 2.9.0.post0\n",
      "    Uninstalling python-dateutil-2.9.0.post0:\n",
      "      Successfully uninstalled python-dateutil-2.9.0.post0\n",
      "  Attempting uninstall: contourpy\n",
      "    Found existing installation: contourpy 1.2.1\n",
      "    Uninstalling contourpy-1.2.1:\n",
      "      Successfully uninstalled contourpy-1.2.1\n",
      "  Attempting uninstall: matplotlib\n",
      "    Found existing installation: matplotlib 3.8.4\n",
      "    Uninstalling matplotlib-3.8.4:\n",
      "      Successfully uninstalled matplotlib-3.8.4\n",
      "  Attempting uninstall: control\n",
      "    Found existing installation: control 0.10.0\n",
      "    Uninstalling control-0.10.0:\n",
      "      Successfully uninstalled control-0.10.0\n",
      "  Attempting uninstall: cs2solutions\n",
      "    Found existing installation: cs2solutions 0.7.0\n",
      "    Uninstalling cs2solutions-0.7.0:\n",
      "      Successfully uninstalled cs2solutions-0.7.0\n",
      "Successfully installed contourpy-1.2.1 control-0.10.0 cs2solutions-0.8.0 cycler-0.12.1 fonttools-4.51.0 kiwisolver-1.4.5 matplotlib-3.8.4 mpmath-1.3.0 numpy-1.26.4 packaging-24.0 pillow-10.3.0 pyparsing-3.1.2 python-dateutil-2.9.0.post0 scipy-1.13.0 six-1.16.0 sympy-1.12\n",
      "\n"
     ]
    },
    {
     "name": "stderr",
     "output_type": "stream",
     "text": [
      "WARNING: Ignoring invalid distribution -illow (c:\\users\\nicla\\appdata\\local\\packages\\pythonsoftwarefoundation.python.3.10_qbz5n2kfra8p0\\localcache\\local-packages\\python310\\site-packages)\n",
      "WARNING: Ignoring invalid distribution - (c:\\users\\nicla\\appdata\\local\\packages\\pythonsoftwarefoundation.python.3.10_qbz5n2kfra8p0\\localcache\\local-packages\\python310\\site-packages)\n",
      "WARNING: Ignoring invalid distribution -illow (c:\\users\\nicla\\appdata\\local\\packages\\pythonsoftwarefoundation.python.3.10_qbz5n2kfra8p0\\localcache\\local-packages\\python310\\site-packages)\n",
      "WARNING: Ignoring invalid distribution - (c:\\users\\nicla\\appdata\\local\\packages\\pythonsoftwarefoundation.python.3.10_qbz5n2kfra8p0\\localcache\\local-packages\\python310\\site-packages)\n",
      "WARNING: Ignoring invalid distribution -illow (c:\\users\\nicla\\appdata\\local\\packages\\pythonsoftwarefoundation.python.3.10_qbz5n2kfra8p0\\localcache\\local-packages\\python310\\site-packages)\n",
      "WARNING: Ignoring invalid distribution - (c:\\users\\nicla\\appdata\\local\\packages\\pythonsoftwarefoundation.python.3.10_qbz5n2kfra8p0\\localcache\\local-packages\\python310\\site-packages)\n",
      "    WARNING: Ignoring invalid distribution -illow (c:\\users\\nicla\\appdata\\local\\packages\\pythonsoftwarefoundation.python.3.10_qbz5n2kfra8p0\\localcache\\local-packages\\python310\\site-packages)\n",
      "    WARNING: Ignoring invalid distribution - (c:\\users\\nicla\\appdata\\local\\packages\\pythonsoftwarefoundation.python.3.10_qbz5n2kfra8p0\\localcache\\local-packages\\python310\\site-packages)\n",
      "    WARNING: Ignoring invalid distribution -illow (c:\\users\\nicla\\appdata\\local\\packages\\pythonsoftwarefoundation.python.3.10_qbz5n2kfra8p0\\localcache\\local-packages\\python310\\site-packages)\n",
      "    WARNING: Ignoring invalid distribution - (c:\\users\\nicla\\appdata\\local\\packages\\pythonsoftwarefoundation.python.3.10_qbz5n2kfra8p0\\localcache\\local-packages\\python310\\site-packages)\n",
      "    WARNING: Ignoring invalid distribution -illow (c:\\users\\nicla\\appdata\\local\\packages\\pythonsoftwarefoundation.python.3.10_qbz5n2kfra8p0\\localcache\\local-packages\\python310\\site-packages)\n",
      "    WARNING: Ignoring invalid distribution - (c:\\users\\nicla\\appdata\\local\\packages\\pythonsoftwarefoundation.python.3.10_qbz5n2kfra8p0\\localcache\\local-packages\\python310\\site-packages)\n",
      "    WARNING: Ignoring invalid distribution -illow (c:\\users\\nicla\\appdata\\local\\packages\\pythonsoftwarefoundation.python.3.10_qbz5n2kfra8p0\\localcache\\local-packages\\python310\\site-packages)\n",
      "    WARNING: Ignoring invalid distribution - (c:\\users\\nicla\\appdata\\local\\packages\\pythonsoftwarefoundation.python.3.10_qbz5n2kfra8p0\\localcache\\local-packages\\python310\\site-packages)\n",
      "    WARNING: Ignoring invalid distribution -illow (c:\\users\\nicla\\appdata\\local\\packages\\pythonsoftwarefoundation.python.3.10_qbz5n2kfra8p0\\localcache\\local-packages\\python310\\site-packages)\n",
      "    WARNING: Ignoring invalid distribution - (c:\\users\\nicla\\appdata\\local\\packages\\pythonsoftwarefoundation.python.3.10_qbz5n2kfra8p0\\localcache\\local-packages\\python310\\site-packages)\n",
      "    WARNING: Ignoring invalid distribution -illow (c:\\users\\nicla\\appdata\\local\\packages\\pythonsoftwarefoundation.python.3.10_qbz5n2kfra8p0\\localcache\\local-packages\\python310\\site-packages)\n",
      "    WARNING: Ignoring invalid distribution - (c:\\users\\nicla\\appdata\\local\\packages\\pythonsoftwarefoundation.python.3.10_qbz5n2kfra8p0\\localcache\\local-packages\\python310\\site-packages)\n",
      "    WARNING: Ignoring invalid distribution -illow (c:\\users\\nicla\\appdata\\local\\packages\\pythonsoftwarefoundation.python.3.10_qbz5n2kfra8p0\\localcache\\local-packages\\python310\\site-packages)\n",
      "    WARNING: Ignoring invalid distribution - (c:\\users\\nicla\\appdata\\local\\packages\\pythonsoftwarefoundation.python.3.10_qbz5n2kfra8p0\\localcache\\local-packages\\python310\\site-packages)\n",
      "    WARNING: Ignoring invalid distribution -illow (c:\\users\\nicla\\appdata\\local\\packages\\pythonsoftwarefoundation.python.3.10_qbz5n2kfra8p0\\localcache\\local-packages\\python310\\site-packages)\n",
      "    WARNING: Ignoring invalid distribution - (c:\\users\\nicla\\appdata\\local\\packages\\pythonsoftwarefoundation.python.3.10_qbz5n2kfra8p0\\localcache\\local-packages\\python310\\site-packages)\n",
      "    WARNING: Ignoring invalid distribution -illow (c:\\users\\nicla\\appdata\\local\\packages\\pythonsoftwarefoundation.python.3.10_qbz5n2kfra8p0\\localcache\\local-packages\\python310\\site-packages)\n",
      "    WARNING: Ignoring invalid distribution - (c:\\users\\nicla\\appdata\\local\\packages\\pythonsoftwarefoundation.python.3.10_qbz5n2kfra8p0\\localcache\\local-packages\\python310\\site-packages)\n",
      "    WARNING: Ignoring invalid distribution -illow (c:\\users\\nicla\\appdata\\local\\packages\\pythonsoftwarefoundation.python.3.10_qbz5n2kfra8p0\\localcache\\local-packages\\python310\\site-packages)\n",
      "    WARNING: Ignoring invalid distribution - (c:\\users\\nicla\\appdata\\local\\packages\\pythonsoftwarefoundation.python.3.10_qbz5n2kfra8p0\\localcache\\local-packages\\python310\\site-packages)\n",
      "    WARNING: Ignoring invalid distribution -illow (c:\\users\\nicla\\appdata\\local\\packages\\pythonsoftwarefoundation.python.3.10_qbz5n2kfra8p0\\localcache\\local-packages\\python310\\site-packages)\n",
      "    WARNING: Ignoring invalid distribution - (c:\\users\\nicla\\appdata\\local\\packages\\pythonsoftwarefoundation.python.3.10_qbz5n2kfra8p0\\localcache\\local-packages\\python310\\site-packages)\n",
      "    WARNING: Ignoring invalid distribution -illow (c:\\users\\nicla\\appdata\\local\\packages\\pythonsoftwarefoundation.python.3.10_qbz5n2kfra8p0\\localcache\\local-packages\\python310\\site-packages)\n",
      "    WARNING: Ignoring invalid distribution - (c:\\users\\nicla\\appdata\\local\\packages\\pythonsoftwarefoundation.python.3.10_qbz5n2kfra8p0\\localcache\\local-packages\\python310\\site-packages)\n",
      "    WARNING: Ignoring invalid distribution -illow (c:\\users\\nicla\\appdata\\local\\packages\\pythonsoftwarefoundation.python.3.10_qbz5n2kfra8p0\\localcache\\local-packages\\python310\\site-packages)\n",
      "    WARNING: Ignoring invalid distribution - (c:\\users\\nicla\\appdata\\local\\packages\\pythonsoftwarefoundation.python.3.10_qbz5n2kfra8p0\\localcache\\local-packages\\python310\\site-packages)\n",
      "    WARNING: Ignoring invalid distribution -illow (c:\\users\\nicla\\appdata\\local\\packages\\pythonsoftwarefoundation.python.3.10_qbz5n2kfra8p0\\localcache\\local-packages\\python310\\site-packages)\n",
      "    WARNING: Ignoring invalid distribution - (c:\\users\\nicla\\appdata\\local\\packages\\pythonsoftwarefoundation.python.3.10_qbz5n2kfra8p0\\localcache\\local-packages\\python310\\site-packages)\n",
      "    WARNING: Ignoring invalid distribution -illow (c:\\users\\nicla\\appdata\\local\\packages\\pythonsoftwarefoundation.python.3.10_qbz5n2kfra8p0\\localcache\\local-packages\\python310\\site-packages)\n",
      "    WARNING: Ignoring invalid distribution - (c:\\users\\nicla\\appdata\\local\\packages\\pythonsoftwarefoundation.python.3.10_qbz5n2kfra8p0\\localcache\\local-packages\\python310\\site-packages)\n",
      "    WARNING: Ignoring invalid distribution -illow (c:\\users\\nicla\\appdata\\local\\packages\\pythonsoftwarefoundation.python.3.10_qbz5n2kfra8p0\\localcache\\local-packages\\python310\\site-packages)\n",
      "    WARNING: Ignoring invalid distribution - (c:\\users\\nicla\\appdata\\local\\packages\\pythonsoftwarefoundation.python.3.10_qbz5n2kfra8p0\\localcache\\local-packages\\python310\\site-packages)\n",
      "WARNING: Ignoring invalid distribution -illow (c:\\users\\nicla\\appdata\\local\\packages\\pythonsoftwarefoundation.python.3.10_qbz5n2kfra8p0\\localcache\\local-packages\\python310\\site-packages)\n",
      "WARNING: Ignoring invalid distribution - (c:\\users\\nicla\\appdata\\local\\packages\\pythonsoftwarefoundation.python.3.10_qbz5n2kfra8p0\\localcache\\local-packages\\python310\\site-packages)\n",
      "WARNING: Ignoring invalid distribution -illow (c:\\users\\nicla\\appdata\\local\\packages\\pythonsoftwarefoundation.python.3.10_qbz5n2kfra8p0\\localcache\\local-packages\\python310\\site-packages)\n",
      "WARNING: Ignoring invalid distribution - (c:\\users\\nicla\\appdata\\local\\packages\\pythonsoftwarefoundation.python.3.10_qbz5n2kfra8p0\\localcache\\local-packages\\python310\\site-packages)\n",
      "WARNING: Ignoring invalid distribution -illow (c:\\users\\nicla\\appdata\\local\\packages\\pythonsoftwarefoundation.python.3.10_qbz5n2kfra8p0\\localcache\\local-packages\\python310\\site-packages)\n",
      "WARNING: Ignoring invalid distribution - (c:\\users\\nicla\\appdata\\local\\packages\\pythonsoftwarefoundation.python.3.10_qbz5n2kfra8p0\\localcache\\local-packages\\python310\\site-packages)\n",
      "WARNING: Ignoring invalid distribution -illow (c:\\users\\nicla\\appdata\\local\\packages\\pythonsoftwarefoundation.python.3.10_qbz5n2kfra8p0\\localcache\\local-packages\\python310\\site-packages)\n",
      "WARNING: Ignoring invalid distribution - (c:\\users\\nicla\\appdata\\local\\packages\\pythonsoftwarefoundation.python.3.10_qbz5n2kfra8p0\\localcache\\local-packages\\python310\\site-packages)\n",
      "WARNING: Ignoring invalid distribution -illow (c:\\users\\nicla\\appdata\\local\\packages\\pythonsoftwarefoundation.python.3.10_qbz5n2kfra8p0\\localcache\\local-packages\\python310\\site-packages)\n",
      "WARNING: Ignoring invalid distribution - (c:\\users\\nicla\\appdata\\local\\packages\\pythonsoftwarefoundation.python.3.10_qbz5n2kfra8p0\\localcache\\local-packages\\python310\\site-packages)\n",
      "WARNING: Ignoring invalid distribution -illow (c:\\users\\nicla\\appdata\\local\\packages\\pythonsoftwarefoundation.python.3.10_qbz5n2kfra8p0\\localcache\\local-packages\\python310\\site-packages)\n",
      "WARNING: Ignoring invalid distribution - (c:\\users\\nicla\\appdata\\local\\packages\\pythonsoftwarefoundation.python.3.10_qbz5n2kfra8p0\\localcache\\local-packages\\python310\\site-packages)\n",
      "WARNING: Ignoring invalid distribution -illow (c:\\users\\nicla\\appdata\\local\\packages\\pythonsoftwarefoundation.python.3.10_qbz5n2kfra8p0\\localcache\\local-packages\\python310\\site-packages)\n",
      "WARNING: Ignoring invalid distribution - (c:\\users\\nicla\\appdata\\local\\packages\\pythonsoftwarefoundation.python.3.10_qbz5n2kfra8p0\\localcache\\local-packages\\python310\\site-packages)\n",
      "WARNING: Ignoring invalid distribution -illow (c:\\users\\nicla\\appdata\\local\\packages\\pythonsoftwarefoundation.python.3.10_qbz5n2kfra8p0\\localcache\\local-packages\\python310\\site-packages)\n",
      "WARNING: Ignoring invalid distribution - (c:\\users\\nicla\\appdata\\local\\packages\\pythonsoftwarefoundation.python.3.10_qbz5n2kfra8p0\\localcache\\local-packages\\python310\\site-packages)\n",
      "WARNING: Ignoring invalid distribution -illow (c:\\users\\nicla\\appdata\\local\\packages\\pythonsoftwarefoundation.python.3.10_qbz5n2kfra8p0\\localcache\\local-packages\\python310\\site-packages)\n",
      "WARNING: Ignoring invalid distribution - (c:\\users\\nicla\\appdata\\local\\packages\\pythonsoftwarefoundation.python.3.10_qbz5n2kfra8p0\\localcache\\local-packages\\python310\\site-packages)\n",
      "WARNING: Ignoring invalid distribution -illow (c:\\users\\nicla\\appdata\\local\\packages\\pythonsoftwarefoundation.python.3.10_qbz5n2kfra8p0\\localcache\\local-packages\\python310\\site-packages)\n",
      "WARNING: Ignoring invalid distribution - (c:\\users\\nicla\\appdata\\local\\packages\\pythonsoftwarefoundation.python.3.10_qbz5n2kfra8p0\\localcache\\local-packages\\python310\\site-packages)\n",
      "WARNING: Ignoring invalid distribution -illow (c:\\users\\nicla\\appdata\\local\\packages\\pythonsoftwarefoundation.python.3.10_qbz5n2kfra8p0\\localcache\\local-packages\\python310\\site-packages)\n",
      "WARNING: Ignoring invalid distribution - (c:\\users\\nicla\\appdata\\local\\packages\\pythonsoftwarefoundation.python.3.10_qbz5n2kfra8p0\\localcache\\local-packages\\python310\\site-packages)\n",
      "WARNING: Ignoring invalid distribution -illow (c:\\users\\nicla\\appdata\\local\\packages\\pythonsoftwarefoundation.python.3.10_qbz5n2kfra8p0\\localcache\\local-packages\\python310\\site-packages)\n",
      "WARNING: Ignoring invalid distribution - (c:\\users\\nicla\\appdata\\local\\packages\\pythonsoftwarefoundation.python.3.10_qbz5n2kfra8p0\\localcache\\local-packages\\python310\\site-packages)\n",
      "WARNING: Ignoring invalid distribution -illow (c:\\users\\nicla\\appdata\\local\\packages\\pythonsoftwarefoundation.python.3.10_qbz5n2kfra8p0\\localcache\\local-packages\\python310\\site-packages)\n",
      "WARNING: Ignoring invalid distribution - (c:\\users\\nicla\\appdata\\local\\packages\\pythonsoftwarefoundation.python.3.10_qbz5n2kfra8p0\\localcache\\local-packages\\python310\\site-packages)\n",
      "WARNING: Ignoring invalid distribution -illow (c:\\users\\nicla\\appdata\\local\\packages\\pythonsoftwarefoundation.python.3.10_qbz5n2kfra8p0\\localcache\\local-packages\\python310\\site-packages)\n",
      "WARNING: Ignoring invalid distribution - (c:\\users\\nicla\\appdata\\local\\packages\\pythonsoftwarefoundation.python.3.10_qbz5n2kfra8p0\\localcache\\local-packages\\python310\\site-packages)\n",
      "WARNING: Ignoring invalid distribution -illow (c:\\users\\nicla\\appdata\\local\\packages\\pythonsoftwarefoundation.python.3.10_qbz5n2kfra8p0\\localcache\\local-packages\\python310\\site-packages)\n",
      "WARNING: Ignoring invalid distribution - (c:\\users\\nicla\\appdata\\local\\packages\\pythonsoftwarefoundation.python.3.10_qbz5n2kfra8p0\\localcache\\local-packages\\python310\\site-packages)\n",
      "WARNING: Ignoring invalid distribution -illow (c:\\users\\nicla\\appdata\\local\\packages\\pythonsoftwarefoundation.python.3.10_qbz5n2kfra8p0\\localcache\\local-packages\\python310\\site-packages)\n",
      "WARNING: Ignoring invalid distribution - (c:\\users\\nicla\\appdata\\local\\packages\\pythonsoftwarefoundation.python.3.10_qbz5n2kfra8p0\\localcache\\local-packages\\python310\\site-packages)\n",
      "WARNING: Ignoring invalid distribution -illow (c:\\users\\nicla\\appdata\\local\\packages\\pythonsoftwarefoundation.python.3.10_qbz5n2kfra8p0\\localcache\\local-packages\\python310\\site-packages)\n",
      "WARNING: Ignoring invalid distribution - (c:\\users\\nicla\\appdata\\local\\packages\\pythonsoftwarefoundation.python.3.10_qbz5n2kfra8p0\\localcache\\local-packages\\python310\\site-packages)\n",
      "WARNING: Ignoring invalid distribution -illow (c:\\users\\nicla\\appdata\\local\\packages\\pythonsoftwarefoundation.python.3.10_qbz5n2kfra8p0\\localcache\\local-packages\\python310\\site-packages)\n",
      "WARNING: Ignoring invalid distribution - (c:\\users\\nicla\\appdata\\local\\packages\\pythonsoftwarefoundation.python.3.10_qbz5n2kfra8p0\\localcache\\local-packages\\python310\\site-packages)\n",
      "WARNING: Ignoring invalid distribution -illow (c:\\users\\nicla\\appdata\\local\\packages\\pythonsoftwarefoundation.python.3.10_qbz5n2kfra8p0\\localcache\\local-packages\\python310\\site-packages)\n",
      "WARNING: Ignoring invalid distribution - (c:\\users\\nicla\\appdata\\local\\packages\\pythonsoftwarefoundation.python.3.10_qbz5n2kfra8p0\\localcache\\local-packages\\python310\\site-packages)\n",
      "\n",
      "[notice] A new release of pip is available: 23.0.1 -> 24.0\n",
      "[notice] To update, run: C:\\Users\\nicla\\AppData\\Local\\Microsoft\\WindowsApps\\PythonSoftwareFoundation.Python.3.10_qbz5n2kfra8p0\\python.exe -m pip install --upgrade pip\n"
     ]
    }
   ],
   "source": [
    "%pip install C:\\CS2solutions\\cs2solutions\\ --force-reinstall"
   ]
  },
  {
   "cell_type": "code",
   "execution_count": 2,
   "metadata": {},
   "outputs": [],
   "source": [
    "from cs2solutions import inf_pkg\n",
    "import control as ct\n",
    "import numpy as np\n",
    "\n",
    "np.set_printoptions(suppress=True, precision=3)"
   ]
  },
  {
   "cell_type": "markdown",
   "metadata": {},
   "source": [
    "### $H^\\infty$ norm\n",
    "\n",
    "The $H^\\infty$ norm that we will use to check\n",
    "the stability of our systems is defined below. The $H^\\infty$ norm essentially looks for the highest singular value across all frequencies."
   ]
  },
  {
   "cell_type": "code",
   "execution_count": 3,
   "metadata": {},
   "outputs": [],
   "source": [
    "def systemInfnorm(system: ct.TransferFunction) -> float:\n",
    "    \"\"\"\n",
    "    Returns an approximation of the infinity norm of the system\n",
    "\n",
    "    Parameters:\n",
    "    - ``system`` (ct.TransferFunction): The system to compute the infinity norm of\n",
    "\n",
    "    Returns:\n",
    "    - float: The infinity norm of the system\n",
    "    \"\"\"\n",
    "    # Create a range of frequencies to analyze over\n",
    "    omega = np.linspace(-4, 4, 1000)\n",
    "    H = system(omega * 1j)\n",
    "\n",
    "    # Consider the MIMO case\n",
    "    if system.ninputs > 1 or system.noutputs > 1:\n",
    "        # Calculate singular values\n",
    "        singular_values = [np.linalg.svd(H[..., i])[1] for i in range(len(omega))]\n",
    "    # Consider the SISO case\n",
    "    else:\n",
    "        singular_values = [np.absolute(H[..., i]) for i in range(len(omega))]\n",
    "\n",
    "    # Return the highest singular value\n",
    "    return np.vstack(singular_values).max()"
   ]
  },
  {
   "cell_type": "markdown",
   "metadata": {},
   "source": [
    "# Exercise 1: Small-gain theorem\n",
    "\n",
    "Consider the following system with three transfer functions: $\\alpha, P1, P2$. The functions $P1, P2$ can be accessed using ``inf_pkg.SISO(num)`` as demonstrated below."
   ]
  },
  {
   "cell_type": "code",
   "execution_count": 4,
   "metadata": {},
   "outputs": [
    {
     "name": "stdout",
     "output_type": "stream",
     "text": [
      "<TransferFunction>: sys[0]\n",
      "Inputs (1): ['u[0]']\n",
      "Outputs (1): ['y[0]']\n",
      "\n",
      "\n",
      "  1\n",
      "-----\n",
      "s + 1\n",
      "\n",
      "<TransferFunction>: sys[1]\n",
      "Inputs (1): ['u[0]']\n",
      "Outputs (1): ['y[0]']\n",
      "\n",
      "\n",
      "  1\n",
      "-----\n",
      "s - 1\n",
      "\n"
     ]
    }
   ],
   "source": [
    "tf1 = inf_pkg.SISO(1)\n",
    "print(tf1)\n",
    "\n",
    "tf2 = inf_pkg.SISO(2)\n",
    "print(tf2)"
   ]
  },
  {
   "cell_type": "markdown",
   "metadata": {},
   "source": [
    "Write a function that checks that all conditions of the small-gain theorem are fulfilled. You should also implement the function __is_stable__ that checks whether a given transfer function is stable.\n",
    "\n",
    "<img src=./images/block_diagram_0.png alt=\"Image\" width=\"600\" height=\"200\"> "
   ]
  },
  {
   "cell_type": "code",
   "execution_count": 5,
   "metadata": {},
   "outputs": [],
   "source": [
    "alpha = 0.5\n",
    "\n",
    "def is_stable(system: ct.TransferFunction) -> bool:\n",
    "    \"\"\"\n",
    "    Returns whether the system is stable\n",
    "\n",
    "    Parameters:\n",
    "    - ``system`` (ct.TransferFunction): The system to check for stability\n",
    "\n",
    "    Returns:\n",
    "    - bool: Whether the system is stable\n",
    "    \"\"\"\n",
    "    #TODO\n",
    "    return False\n",
    "\n",
    "def small_gain_theorem(systems: list[ct.TransferFunction]) -> bool:\n",
    "    \"\"\"\n",
    "    Checks if the small gain theorem is satisfied for the given systems.\n",
    "\n",
    "    Parameters:\n",
    "    - ``systems`` (list[ct.TransferFunction]): The systems to check the small gain theorem for\n",
    "\n",
    "    Returns:\n",
    "    - bool: Whether the small gain theorem is satisfied\n",
    "    \"\"\"\n",
    "    #TODO\n",
    "    return False"
   ]
  },
  {
   "cell_type": "code",
   "execution_count": 6,
   "metadata": {},
   "outputs": [
    {
     "name": "stdout",
     "output_type": "stream",
     "text": [
      "False\n"
     ]
    }
   ],
   "source": [
    "Palpha = ct.TransferFunction([alpha], [1])\n",
    "P1 = inf_pkg.SISO(1)\n",
    "P2 = inf_pkg.SISO(2)\n",
    "\n",
    "print(small_gain_theorem([Palpha, P1, P2]))"
   ]
  },
  {
   "cell_type": "markdown",
   "metadata": {},
   "source": [
    "### Testing your functions\n",
    "In the following cell you can test the implemented function.\n",
    "To do so simply change the value for $\\alpha$.$\\\\$\n",
    "For which $\\alpha$ will the small gain theorem be fulfilled?$\\\\$\n",
    "You can also play around with the systems $P_0$ and $P_1$.\n",
    "You can choose from the following systems:\n",
    "$\\\\\n",
    "P_0 = \\frac{1}{s^2+2s+4} \\\\\n",
    "P_1 = \\frac{1}{s+1}  \\\\\n",
    "P_2 = \\frac{1}{s-1}  \\\\\n",
    "P_3 = \\frac{s-1}{s^2+4s+9} \\\\\n",
    "P_4 = 5\\frac{s+1}{s+1}  \\\\\n",
    "P_5 = 11\\frac{s+1}{s-1}  \\\\\n",
    "P_6 = 2\\frac{s^2-1}{s^2+4s+9} \\\\\n",
    "$\n",
    "For which of the given systems can the small gain theorem not be used? Why?"
   ]
  },
  {
   "cell_type": "code",
   "execution_count": 7,
   "metadata": {},
   "outputs": [
    {
     "name": "stdout",
     "output_type": "stream",
     "text": [
      "False\n"
     ]
    }
   ],
   "source": [
    "alpha = 0.5\n",
    "Palpha = ct.TransferFunction([alpha], [1])\n",
    "P3 = inf_pkg.SISO(3)\n",
    "P4 = inf_pkg.SISO(4)\n",
    "# P5 = ...\n",
    "\n",
    "print(small_gain_theorem([Palpha, P3, P4]))"
   ]
  },
  {
   "cell_type": "markdown",
   "metadata": {},
   "source": [
    "# Exercise 2: Stability\n",
    "In this exercise you will create a function called ``internal_stability_check(topbranch, bottombranch)`` that will check the internal stability of an interconnection.\n",
    "\n",
    "Just as in exercise 1, you will use ``inf_pkg.SISO(num)`` to extract various transfer functions from the diagram.\n",
    "\n",
    "__HINT:__ All the systems are SISO, so the inverse becomes rather simple.\n",
    "\n",
    "<img src=./images/block_diagram_1.png alt=\"Image\" width=\"600\" height=\"200\"> "
   ]
  },
  {
   "cell_type": "code",
   "execution_count": null,
   "metadata": {},
   "outputs": [],
   "source": [
    "# The top tf is defined as P0*P1\n",
    "# The bottom tf is defined as P2\n",
    "\n",
    "def internal_stability_check(toptf: ct.TransferFunction, bottomtf: ct.TransferFunction) -> bool:\n",
    "    \"\"\"\n",
    "    Checks if the internal stability condition is satisfied for the given systems.\n",
    "\n",
    "    Parameters:\n",
    "    - ``toptf`` (ct.TransferFunction): The top transfer function\n",
    "    - ``bottomtf`` (ct.TransferFunction): The bottom transfer function\n",
    "    \n",
    "    Returns:\n",
    "    - bool: Whether the internal stability condition is satisfied\n",
    "    \"\"\"\n",
    "    #TODO\n",
    "    return False"
   ]
  },
  {
   "cell_type": "code",
   "execution_count": null,
   "metadata": {},
   "outputs": [],
   "source": [
    "P0 = inf_pkg.SISO(0)\n",
    "P1 = inf_pkg.SISO(1)\n",
    "P2 = inf_pkg.SISO(2)\n",
    "\n",
    "print(internal_stability_check(P0*P1, P2))"
   ]
  },
  {
   "cell_type": "markdown",
   "metadata": {},
   "source": [
    "### Testing your function\n",
    "You can test your function on the systems below:\n",
    "$\\\\\n",
    "P_0 = \\frac{1}{s^2+2s+4} \\\\\n",
    "P_1 = \\frac{1}{s+1}  \\\\\n",
    "P_2 = \\frac{1}{s-1}  \\\\\n",
    "P_3 = \\frac{s-1}{s^2+4s+9} \\\\\n",
    "P_4 = 5\\frac{s+1}{s+1}  \\\\\n",
    "P_5 = 11\\frac{s+1}{s-1}  \\\\\n",
    "P_6 = 2\\frac{s^2-1}{s^2+4s+9} \\\\\n",
    "$"
   ]
  },
  {
   "cell_type": "code",
   "execution_count": null,
   "metadata": {},
   "outputs": [],
   "source": [
    "P3 = inf_pkg.SISO(3)\n",
    "P4 = inf_pkg.SISO(4)\n",
    "# P5 = ...\n",
    "\n",
    "print(small_gain_theorem([P3, P4]))"
   ]
  },
  {
   "cell_type": "markdown",
   "metadata": {},
   "source": [
    "### Bonus Exercise\n",
    "\n",
    "Try to find out experimentally whether ``small_gain_theorem`` or ``internal_stability_check`` is a more __rigorous__ test for feedback stability. You can use all aforementioned Python functions and transfer functions."
   ]
  },
  {
   "cell_type": "markdown",
   "metadata": {},
   "source": [
    "# Exercise 3: Stability Robustness\n",
    "Below we check the robustness of a feedback loop with multiplicative uncertainty.\n",
    "\n",
    "<img src=./images/block_diagram_2.png alt=\"Image\" width=\"600\" height=\"200\">\n",
    "\n",
    "In order to use the small-gain theorem, the system is transformed into the following form:\n",
    ".\n",
    "$\\\\\n",
    "G(s) = -(I+P_2P_1)^{-1}P_2P_1W\n",
    "\\\\$\n",
    "\n",
    "<img src=./images/block_diagram_3.png alt=\"Image\" width=\"600\" height=\"200\">\n",
    "\n",
    "\n",
    "Apply the small gain theorem to check if the system is robust to the given perturbation and frequency weight. You can use all the functions defined earlier."
   ]
  },
  {
   "cell_type": "code",
   "execution_count": 11,
   "metadata": {},
   "outputs": [],
   "source": [
    "Ptriangle = ct.TransferFunction([1], [1, 1])\n",
    "W = ct.TransferFunction([1], [1, 1])\n",
    "P1 = inf_pkg.SISO(1)\n",
    "P2 = 0 #TODO\n",
    "\n",
    "G = 0 #TODO\n",
    "\n",
    "# TODO: Print the result"
   ]
  }
 ],
 "metadata": {
  "kernelspec": {
   "display_name": "Python 3",
   "language": "python",
   "name": "python3"
  },
  "language_info": {
   "codemirror_mode": {
    "name": "ipython",
    "version": 3
   },
   "file_extension": ".py",
   "mimetype": "text/x-python",
   "name": "python",
   "nbconvert_exporter": "python",
   "pygments_lexer": "ipython3",
   "version": "3.10.11"
  }
 },
 "nbformat": 4,
 "nbformat_minor": 2
}
